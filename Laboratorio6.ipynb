{
  "nbformat": 4,
  "nbformat_minor": 0,
  "metadata": {
    "kernelspec": {
      "display_name": "Python 3",
      "language": "python",
      "name": "python3"
    },
    "language_info": {
      "codemirror_mode": {
        "name": "ipython",
        "version": 3
      },
      "file_extension": ".py",
      "mimetype": "text/x-python",
      "name": "python",
      "nbconvert_exporter": "python",
      "pygments_lexer": "ipython3",
      "version": "3.8.3"
    },
    "toc": {
      "base_numbering": 1,
      "nav_menu": {},
      "number_sections": true,
      "sideBar": true,
      "skip_h1_title": true,
      "title_cell": "Tabla de Contenidos",
      "title_sidebar": "Contenidos",
      "toc_cell": false,
      "toc_position": {
        "height": "calc(100% - 180px)",
        "left": "10px",
        "top": "150px",
        "width": "241.867px"
      },
      "toc_section_display": true,
      "toc_window_display": true
    },
    "varInspector": {
      "cols": {
        "lenName": 16,
        "lenType": 16,
        "lenVar": 40
      },
      "kernels_config": {
        "python": {
          "delete_cmd_postfix": "",
          "delete_cmd_prefix": "del ",
          "library": "var_list.py",
          "varRefreshCmd": "print(var_dic_list())"
        },
        "r": {
          "delete_cmd_postfix": ") ",
          "delete_cmd_prefix": "rm(",
          "library": "var_list.r",
          "varRefreshCmd": "cat(var_dic_list()) "
        }
      },
      "types_to_exclude": [
        "module",
        "function",
        "builtin_function_or_method",
        "instance",
        "_Feature"
      ],
      "window_display": false
    },
    "colab": {
      "name": "Laboratorio6.ipynb",
      "provenance": [],
      "collapsed_sections": [
        "UD8X1uhGzAHq",
        "tXflExjqzAHr",
        "AD-V0bbZzAHr",
        "EcnsiQMkzAHr",
        "1mc2lFytJjLg",
        "QpbeVcdMJjLi",
        "QkfBpCbPJjLi",
        "haJrRCg8JjLl",
        "ObMnNvz8JjLp",
        "Rg4ZMq8ezAH6"
      ],
      "toc_visible": true
    },
    "deepnote_notebook_id": "6bca2ca1-e14e-4a2d-8402-3bcc01d1af35",
    "deepnote": {},
    "deepnote_execution_queue": []
  },
  "cells": [
    {
      "cell_type": "markdown",
      "metadata": {
        "id": "XUZ1dFPHzAHl",
        "cell_id": "00000-d883b314-09da-429e-a3a3-57745182fbf1",
        "deepnote_cell_type": "markdown"
      },
      "source": [
        "<h1><center>Laboratorio 6: La desperación de Mr. Lepin 🐼</center></h1>\n",
        "\n",
        "<center><strong>MDS7202: Laboratorio de Programación Científica para Ciencia de Datos</strong></center>"
      ]
    },
    {
      "cell_type": "markdown",
      "metadata": {
        "id": "UD8X1uhGzAHq",
        "cell_id": "00001-311235ca-1e52-4b99-a8ed-ecc0efb3fddd",
        "deepnote_cell_type": "markdown"
      },
      "source": [
        "### Cuerpo Docente:\n",
        "\n",
        "- Profesor: Pablo Badilla\n",
        "- Auxiliar: Ignacio Meza D.\n",
        "- Ayudante: Constanza Peña"
      ]
    },
    {
      "cell_type": "markdown",
      "metadata": {
        "id": "tXflExjqzAHr",
        "cell_id": "00002-6c6c932b-c2ca-4e5c-8f35-4bcf76e99ae9",
        "deepnote_cell_type": "markdown"
      },
      "source": [
        "### Equipo: SUPER IMPORTANTE - notebooks sin nombre no serán revisados\n",
        "\n",
        "- Nombre de alumno 1: Camila J. Pulgar Fernández\n",
        "- Nombre de alumno 2: Francisca Solis G.\n"
      ]
    },
    {
      "cell_type": "markdown",
      "metadata": {
        "id": "AD-V0bbZzAHr",
        "cell_id": "00003-78f31a0b-b9ea-415b-b6b1-c31406be9140",
        "deepnote_cell_type": "markdown"
      },
      "source": [
        "### **Link de repositorio de GitHub:** `https://github.com/cpulgarf/Laboratorios`"
      ]
    },
    {
      "cell_type": "markdown",
      "metadata": {
        "id": "EcnsiQMkzAHr",
        "cell_id": "00004-813a4b9f-ec89-4439-9b6e-4d6558759415",
        "deepnote_cell_type": "markdown"
      },
      "source": [
        "### Indice \n",
        "\n",
        "1. [Temas a tratar](#Temas-a-tratar:)\n",
        "3. [Descripcción del laboratorio](#Descripción-del-laboratorio.)\n",
        "4. [Desarrollo](#Desarrollo)"
      ]
    },
    {
      "cell_type": "markdown",
      "metadata": {
        "id": "6uBLPj1PzAHs",
        "cell_id": "00005-30720d0a-a8ea-4112-8a56-7830fced4c1e",
        "deepnote_cell_type": "markdown"
      },
      "source": [
        "# Temas a tratar\n",
        "\n",
        "- Aplicar Pandas para obtener características de un DataFrame.\n",
        "- Aplicar Pipelines.\n",
        "- Aplicar Clusters sobre un conjunto de datos.\n",
        "\n",
        "## Reglas:\n",
        "\n",
        "- Fecha de entrega: 12/11/2021\n",
        "- **Grupos de 2 personas**\n",
        "- **Ausentes** deberán realizar la actividad solos. \n",
        "- Cualquier duda fuera del horario de clases al foro. Mensajes al equipo docente serán respondidos por este medio.\n",
        "- Prohibidas las copias. \n",
        "- Pueden usar cualquer matrial del curso que estimen conveniente.\n",
        "\n",
        "### Objetivos principales del laboratorio\n",
        "\n",
        "- Comprender y aprovechar las ventajas que nos ofrece la librería `pandas` con respecto a trabajar en Python 'puro'.\n",
        "- Crear nuevas características para entrenar un modelo de clustering.\n",
        "- Comprender como aplicar pipelines de Scikit-Learn para generar procesos más limpios.\n",
        "\n",
        "El laboratorio deberá ser desarrollado sin el uso indiscriminado de iteradores nativos de python (aka \"for\", \"while\"). La idea es que aprendan a exprimir al máximo las funciones optimizadas que nos entrega `numpy`, las cuales vale mencionar, son bastante más eficientes que los iteradores nativos sobre arreglos (*o tensores*)."
      ]
    },
    {
      "cell_type": "markdown",
      "metadata": {
        "id": "wrG4gYabzAHs",
        "cell_id": "00006-0d097eb1-85d1-4f26-8119-593d58e99a79",
        "deepnote_cell_type": "markdown"
      },
      "source": [
        "## Descripción del laboratorio."
      ]
    },
    {
      "cell_type": "markdown",
      "metadata": {
        "id": "MhISwri4zAHy",
        "cell_id": "00007-b3b99a7c-5696-433b-a20c-3c6acdd9eb76",
        "deepnote_cell_type": "markdown"
      },
      "source": [
        "### Importamos librerias utiles 😸"
      ]
    },
    {
      "cell_type": "code",
      "metadata": {
        "ExecuteTime": {
          "end_time": "2021-03-29T00:08:16.884674Z",
          "start_time": "2021-03-29T00:08:16.349846Z"
        },
        "id": "uyc33dKdzAHy",
        "deepnote_to_be_reexecuted": false,
        "source_hash": "a3741fd5",
        "execution_start": 1635469788590,
        "execution_millis": 8517,
        "cell_id": "00008-147c370f-05a3-40e6-88ce-931f568c02ba",
        "deepnote_cell_type": "code",
        "colab": {
          "base_uri": "https://localhost:8080/"
        },
        "outputId": "860f3fa3-9d49-4bd7-bd61-0309f3491774"
      },
      "source": [
        "# Libreria Core del lab.\n",
        "import numpy as np\n",
        "import pandas as pd\n",
        "import datetime\n",
        "from IPython.display import HTML\n",
        "\n",
        "# Libreria para plotear (En colab esta desactualizado plotly)\n",
        "!pip install --upgrade plotly\n",
        "import plotly.express as px\n",
        "import plotly.graph_objects as go\n",
        "\n",
        "# Librerias utiles\n",
        "from sklearn.manifold import TSNE\n",
        "from sklearn.cluster import KMeans\n",
        "from sklearn.base import BaseEstimator, TransformerMixin\n",
        "from sklearn.model_selection import train_test_split \n",
        "from sklearn.pipeline import Pipeline\n",
        "from sklearn.compose import ColumnTransformer\n",
        "from sklearn.preprocessing import FunctionTransformer"
      ],
      "execution_count": null,
      "outputs": [
        {
          "output_type": "stream",
          "name": "stdout",
          "text": [
            "Requirement already satisfied: plotly in /usr/local/lib/python3.7/dist-packages (4.4.1)\n",
            "Collecting plotly\n",
            "  Downloading plotly-5.3.1-py2.py3-none-any.whl (23.9 MB)\n",
            "\u001b[K     |████████████████████████████████| 23.9 MB 14 kB/s \n",
            "\u001b[?25hRequirement already satisfied: six in /usr/local/lib/python3.7/dist-packages (from plotly) (1.15.0)\n",
            "Collecting tenacity>=6.2.0\n",
            "  Downloading tenacity-8.0.1-py3-none-any.whl (24 kB)\n",
            "Installing collected packages: tenacity, plotly\n",
            "  Attempting uninstall: plotly\n",
            "    Found existing installation: plotly 4.4.1\n",
            "    Uninstalling plotly-4.4.1:\n",
            "      Successfully uninstalled plotly-4.4.1\n",
            "Successfully installed plotly-5.3.1 tenacity-8.0.1\n"
          ]
        }
      ]
    },
    {
      "cell_type": "code",
      "metadata": {
        "id": "gQ0-zPV4NNrq",
        "deepnote_to_be_reexecuted": false,
        "source_hash": "c60dc4a7",
        "execution_start": 1635165625274,
        "execution_millis": 7,
        "cell_id": "00009-8a73dd07-b0c0-471a-8db1-e539107fe785",
        "deepnote_cell_type": "code",
        "colab": {
          "base_uri": "https://localhost:8080/"
        },
        "outputId": "8e231e7e-7554-46e5-94a6-3471700c9e4c"
      },
      "source": [
        "# Si usted está utilizando Colabolatory le puede ser útil este código para cargar los archivos.\n",
        "try:\n",
        "    from google.colab import drive\n",
        "    drive.mount(\"/content/drive\")\n",
        "    path = 'Dirección donde tiene los archivos en el Drive'\n",
        "except: \n",
        "    print('Ignorando conexión drive-colab')"
      ],
      "execution_count": null,
      "outputs": [
        {
          "output_type": "stream",
          "name": "stdout",
          "text": [
            "Mounted at /content/drive\n"
          ]
        }
      ]
    },
    {
      "cell_type": "markdown",
      "metadata": {
        "tags": [],
        "cell_id": "00010-56ea896a-98bf-4f18-b240-c17333fbccf3",
        "deepnote_cell_type": "markdown",
        "id": "TULHoYWmJjLO"
      },
      "source": [
        "<p align=\"center\"><iframe width=\"560\" height=\"315\" src=\"https://www.youtube.com/embed/MW4d8_LLYp8?rel=0&amp;controls=0&amp;showinfo=0\" frameborder=\"1\" allowfullscreen></iframe></p>"
      ]
    },
    {
      "cell_type": "markdown",
      "metadata": {
        "id": "QDwIXTh7bK_A",
        "cell_id": "00011-44ff4b7f-0721-4a5a-91cf-0fed38291eb2",
        "deepnote_cell_type": "markdown"
      },
      "source": [
        "# Segmentación de Clientes en Tienda de Retail 🛍️"
      ]
    },
    {
      "cell_type": "markdown",
      "metadata": {
        "tags": [],
        "cell_id": "00012-3f997299-ad75-4cd4-80b4-839d33c07b2a",
        "deepnote_cell_type": "markdown",
        "id": "h-CJMPYNJjLR"
      },
      "source": [
        "<p align=\"center\">\n",
        "  <img width=300 src=\"https://s1.eestatic.com/2018/04/14/social/la_jungla_-_social_299733421_73842361_854x640.jpg\">\n",
        "</p>"
      ]
    },
    {
      "cell_type": "markdown",
      "metadata": {
        "tags": [],
        "cell_id": "00013-21aecb33-d28d-4fcb-93db-67307326ab2b",
        "deepnote_cell_type": "markdown",
        "id": "VdUvE3UzJjLR"
      },
      "source": [
        "## 1.1 Cargar Dataset"
      ]
    },
    {
      "cell_type": "markdown",
      "metadata": {
        "tags": [],
        "cell_id": "00014-bfeb4dba-666e-4613-af4b-c609a72df95e",
        "deepnote_cell_type": "markdown",
        "id": "_UQsaqnlJjLS"
      },
      "source": [
        "Mr. Lepin, en una nueva reunión, le cuenta a ud y su equipo que los resultados derivados del análisis exploratorio de dato presentaron una gran utilidad para la empresa y que tiene un gran entusiasmo por continuar trabajando con ustedes.\n",
        "Es por esto, que Mr. Lepin les pide que cargue y visualicen algunas de las filas que componen el Dataset.\n",
        "A continuación un extracto de lo parlamentado en la reunión:\n",
        "\n",
        "    - Usted: Es un gran logro para nuestro equipo que usted haya encontrado excelente el EDA. ¿Qué tiene en mente ahora?\n",
        "    - Mr. Lepin: Resulta que hace algún tiempo, mientras tomaba un mojito en una reunión de gerentes en Panamá, oí a un *chato* acerca de **LRMFP**, que es un modelo que permite personificar a los clientes a través de la farbicación de distintos atributos que describen a los clientes. Lo encontré es-tu-pendo ñatito. \n",
        "    - Usted: Ehh bueno. Investigaremos acerca de este modelo y veremos lo que podemos hacer.\n",
        "\n",
        "Por ende, su siguiente tarea es calcular **LRMFP** sobre cada cliente y luego hacer un análisis de las características generadas. Para esto, el área de ventas les entrega un nuevo archivo llamado `online_retail_II_cleaned.pickle`, quien posee los datos del DataFrame original limpios y listos para obtener las características solicitadas por Mr. Lepin."
      ]
    },
    {
      "cell_type": "code",
      "metadata": {
        "id": "7FNOu-CvjV5m",
        "colab": {
          "base_uri": "https://localhost:8080/",
          "height": 206
        },
        "deepnote_to_be_reexecuted": false,
        "source_hash": "d52b246c",
        "execution_start": 1635469797118,
        "execution_millis": 466,
        "cell_id": "00015-9f304f85-cc91-43d5-b9e0-e16decca6cd0",
        "deepnote_cell_type": "code",
        "outputId": "a039baee-7e42-4622-dcbe-1896dcddc113"
      },
      "source": [
        "df_retail = pd.read_pickle(\"/content/online_retail_II_cleaned.pickle\")\n",
        "df_retail = df_retail.astype(\n",
        "    {\n",
        "        \"Invoice\": \"category\",\n",
        "        \"StockCode\": \"category\",\n",
        "        \"Description\": \"category\",\n",
        "        \"Description\": str,\n",
        "        \"Customer ID\": \"category\",\n",
        "        \"Country\": \"category\"\n",
        "    }\n",
        ")\n",
        "df_retail.head()\n"
      ],
      "execution_count": null,
      "outputs": [
        {
          "output_type": "execute_result",
          "data": {
            "text/html": [
              "<div>\n",
              "<style scoped>\n",
              "    .dataframe tbody tr th:only-of-type {\n",
              "        vertical-align: middle;\n",
              "    }\n",
              "\n",
              "    .dataframe tbody tr th {\n",
              "        vertical-align: top;\n",
              "    }\n",
              "\n",
              "    .dataframe thead th {\n",
              "        text-align: right;\n",
              "    }\n",
              "</style>\n",
              "<table border=\"1\" class=\"dataframe\">\n",
              "  <thead>\n",
              "    <tr style=\"text-align: right;\">\n",
              "      <th></th>\n",
              "      <th>Invoice</th>\n",
              "      <th>StockCode</th>\n",
              "      <th>Description</th>\n",
              "      <th>Quantity</th>\n",
              "      <th>InvoiceDate</th>\n",
              "      <th>Price</th>\n",
              "      <th>Customer ID</th>\n",
              "      <th>Country</th>\n",
              "    </tr>\n",
              "  </thead>\n",
              "  <tbody>\n",
              "    <tr>\n",
              "      <th>0</th>\n",
              "      <td>489434</td>\n",
              "      <td>85048</td>\n",
              "      <td>15CM CHRISTMAS GLASS BALL 20 LIGHTS</td>\n",
              "      <td>12</td>\n",
              "      <td>2009-12-01 07:45:00</td>\n",
              "      <td>6.95</td>\n",
              "      <td>13085.0</td>\n",
              "      <td>United Kingdom</td>\n",
              "    </tr>\n",
              "    <tr>\n",
              "      <th>1</th>\n",
              "      <td>489434</td>\n",
              "      <td>79323P</td>\n",
              "      <td>PINK CHERRY LIGHTS</td>\n",
              "      <td>12</td>\n",
              "      <td>2009-12-01 07:45:00</td>\n",
              "      <td>6.75</td>\n",
              "      <td>13085.0</td>\n",
              "      <td>United Kingdom</td>\n",
              "    </tr>\n",
              "    <tr>\n",
              "      <th>2</th>\n",
              "      <td>489434</td>\n",
              "      <td>79323W</td>\n",
              "      <td>WHITE CHERRY LIGHTS</td>\n",
              "      <td>12</td>\n",
              "      <td>2009-12-01 07:45:00</td>\n",
              "      <td>6.75</td>\n",
              "      <td>13085.0</td>\n",
              "      <td>United Kingdom</td>\n",
              "    </tr>\n",
              "    <tr>\n",
              "      <th>3</th>\n",
              "      <td>489434</td>\n",
              "      <td>22041</td>\n",
              "      <td>RECORD FRAME 7\" SINGLE SIZE</td>\n",
              "      <td>48</td>\n",
              "      <td>2009-12-01 07:45:00</td>\n",
              "      <td>2.10</td>\n",
              "      <td>13085.0</td>\n",
              "      <td>United Kingdom</td>\n",
              "    </tr>\n",
              "    <tr>\n",
              "      <th>4</th>\n",
              "      <td>489434</td>\n",
              "      <td>21232</td>\n",
              "      <td>STRAWBERRY CERAMIC TRINKET BOX</td>\n",
              "      <td>24</td>\n",
              "      <td>2009-12-01 07:45:00</td>\n",
              "      <td>1.25</td>\n",
              "      <td>13085.0</td>\n",
              "      <td>United Kingdom</td>\n",
              "    </tr>\n",
              "  </tbody>\n",
              "</table>\n",
              "</div>"
            ],
            "text/plain": [
              "  Invoice StockCode  ... Customer ID         Country\n",
              "0  489434     85048  ...     13085.0  United Kingdom\n",
              "1  489434    79323P  ...     13085.0  United Kingdom\n",
              "2  489434    79323W  ...     13085.0  United Kingdom\n",
              "3  489434     22041  ...     13085.0  United Kingdom\n",
              "4  489434     21232  ...     13085.0  United Kingdom\n",
              "\n",
              "[5 rows x 8 columns]"
            ]
          },
          "metadata": {},
          "execution_count": 3
        }
      ]
    },
    {
      "cell_type": "markdown",
      "metadata": {
        "tags": [],
        "cell_id": "00016-245c3eeb-d33d-4da1-b738-a91d4e055fa1",
        "deepnote_cell_type": "markdown",
        "id": "DmY-J08BJjLU"
      },
      "source": [
        "## 1.2 Creación de nuevas Caracteristicas [2 Puntos] "
      ]
    },
    {
      "cell_type": "markdown",
      "metadata": {
        "tags": [],
        "cell_id": "00017-011b89ed-d830-4f8e-9e4d-2c8d156651c3",
        "deepnote_cell_type": "markdown",
        "id": "FnQUgVeBJjLV"
      },
      "source": [
        "Como ya se les comento, Mr. Lepin esta interesado en obtener las características **LRMFP**, para esto les señala que estas características se construyen en base a las siguientes definiciones:\n",
        "\n",
        "- **Length (L)**: Intervalo de tiempo, en días, entre la primera y la última visita del cliente. Mientras mas grande sea el valor, mas fiel es el cliente.\n",
        "- **Recency (R)**: Indica la actualidad de la interacción de un cliente con la empresa, y da información sobre la tendencia a repetir la compra. Se define como: \n",
        "$$Recency(n)=\\dfrac{1}{n} \\sum^n_{i=1} date\\_diff(t_{fecha final}, t_{m-i+1})$$\n",
        "\n",
        " Donde $date\\_diff$ representa la diferencia en días entre la fecha de finalización del periodo de observación ($t_{fecha final}$), y la fecha de una visita del cliente cercana a $t_{fecha final}$, $t_{m-i+1}; t_{m}$ es la última visita del cliente; y n es el número de visitas recientes del cliente consideradas.\n",
        "\n",
        "- **Monetary (M)**: El término \"monetario\" se refiere a la cantidad media de dinero gastada por cada visita del cliente durante el período de observación y refleja la contribución del cliente a los ingresos de la empresa.\n",
        "\n",
        "- **Frequency (F)**: Se refiere al número total de visitas del cliente durante el periodo de observación. Cuanto mayor sea la frecuencia, mayor será la fidelidad del cliente. \n",
        "\n",
        "- **Periodicity (P)**: Representa si los clientes visitan las tiendas con regularidad.\n",
        "\n",
        "$$Periodicity(n)=std(IVT_1, ..., IVT_n)$$\n",
        "\n",
        "&nbsp;&nbsp; &nbsp;&nbsp;&nbsp;&nbsp;&nbsp;&nbsp;Donde $IVT$ denota el tiempo entre visitas y n representa el número de valores de tiempo entre visitas de un cliente.\n",
        " \n",
        "\n",
        "$$IVT_i=date\\_diff(t_{i+1},t)$$\n",
        "\n",
        "En base a las definiciones señaladas, diseñe una función que permita obtener las características **LRMFP** recibiendo un DataFrame como entrada. Para esto, no estará permitido el uso de iteradores, utilice todas las herramientas que les ofrece `pandas` para realizar esto.\n",
        "\n",
        "Una referencia que le puede ser útil es el [documento original](https://www.researchgate.net/publication/315979555_LRFMP_model_for_customer_segmentation_in_the_grocery_retail_industry_a_case_study) en donde se propone este método.\n",
        "\n",
        "**Nota:** Para la $fechafinal$ utilice la fecha máxima del dataset más 1 día."
      ]
    },
    {
      "cell_type": "markdown",
      "metadata": {
        "tags": [],
        "cell_id": "00018-24bac8c8-bd63-41ac-8e0f-de55e02c56f0",
        "deepnote_cell_type": "markdown",
        "id": "SejuCLWqJjLZ"
      },
      "source": [
        "**Ejemplo de Resultado Esperado:**\n",
        "\n",
        "| Customer ID | Length | Recency | Frequency | Monetary | Periodicity |\n",
        "|------------:|-------:|--------:|----------:|---------:|------------:|\n",
        "|   12346.0   |    294 |      67 |        46 |   -64.68 |        37.0 |\n",
        "|   12347.0   |     37 |       3 |        71 |  1323.32 |         0.0 |\n",
        "|   12349.0   |    327 |      43 |       107 |  2646.99 |        78.0 |\n",
        "|   12352.0   |     16 |      11 |        18 |   343.80 |         0.0 |\n",
        "|   12356.0   |     44 |      16 |        84 |  3562.25 |        12.0 |"
      ]
    },
    {
      "cell_type": "markdown",
      "metadata": {
        "tags": [],
        "cell_id": "00019-0bbd888f-87e7-49f7-a5d5-81564c13fe16",
        "deepnote_cell_type": "markdown",
        "id": "kR4XrSJ_JjLa"
      },
      "source": [
        "**Respuesta:**"
      ]
    },
    {
      "cell_type": "code",
      "metadata": {
        "colab": {
          "base_uri": "https://localhost:8080/"
        },
        "id": "O34BYi6VStsr",
        "outputId": "a9daf94f-47d0-4ba1-8912-1f122d9d5664"
      },
      "source": [
        "df_retail.columns"
      ],
      "execution_count": null,
      "outputs": [
        {
          "output_type": "execute_result",
          "data": {
            "text/plain": [
              "Index(['Invoice', 'StockCode', 'Description', 'Quantity', 'InvoiceDate',\n",
              "       'Price', 'Customer ID', 'Country'],\n",
              "      dtype='object')"
            ]
          },
          "metadata": {},
          "execution_count": 4
        }
      ]
    },
    {
      "cell_type": "code",
      "metadata": {
        "colab": {
          "base_uri": "https://localhost:8080/",
          "height": 206
        },
        "id": "wCTrQKPPYCCm",
        "outputId": "49a3bdc5-629c-4746-f206-71b72c50a409"
      },
      "source": [
        "df_retail = pd.read_pickle(\"/content/online_retail_II_cleaned.pickle\")\n",
        "df_retail = df_retail.astype(\n",
        "    {\n",
        "        \"Invoice\": \"category\",\n",
        "        \"StockCode\": \"category\",\n",
        "        \"Description\": \"category\",\n",
        "        \"Description\": str,\n",
        "        \"Customer ID\": \"category\",\n",
        "        \"Country\": \"category\"\n",
        "    }\n",
        ")\n",
        "df_retail.head()"
      ],
      "execution_count": 166,
      "outputs": [
        {
          "output_type": "execute_result",
          "data": {
            "text/html": [
              "<div>\n",
              "<style scoped>\n",
              "    .dataframe tbody tr th:only-of-type {\n",
              "        vertical-align: middle;\n",
              "    }\n",
              "\n",
              "    .dataframe tbody tr th {\n",
              "        vertical-align: top;\n",
              "    }\n",
              "\n",
              "    .dataframe thead th {\n",
              "        text-align: right;\n",
              "    }\n",
              "</style>\n",
              "<table border=\"1\" class=\"dataframe\">\n",
              "  <thead>\n",
              "    <tr style=\"text-align: right;\">\n",
              "      <th></th>\n",
              "      <th>Invoice</th>\n",
              "      <th>StockCode</th>\n",
              "      <th>Description</th>\n",
              "      <th>Quantity</th>\n",
              "      <th>InvoiceDate</th>\n",
              "      <th>Price</th>\n",
              "      <th>Customer ID</th>\n",
              "      <th>Country</th>\n",
              "    </tr>\n",
              "  </thead>\n",
              "  <tbody>\n",
              "    <tr>\n",
              "      <th>0</th>\n",
              "      <td>489434</td>\n",
              "      <td>85048</td>\n",
              "      <td>15CM CHRISTMAS GLASS BALL 20 LIGHTS</td>\n",
              "      <td>12</td>\n",
              "      <td>2009-12-01 07:45:00</td>\n",
              "      <td>6.95</td>\n",
              "      <td>13085.0</td>\n",
              "      <td>United Kingdom</td>\n",
              "    </tr>\n",
              "    <tr>\n",
              "      <th>1</th>\n",
              "      <td>489434</td>\n",
              "      <td>79323P</td>\n",
              "      <td>PINK CHERRY LIGHTS</td>\n",
              "      <td>12</td>\n",
              "      <td>2009-12-01 07:45:00</td>\n",
              "      <td>6.75</td>\n",
              "      <td>13085.0</td>\n",
              "      <td>United Kingdom</td>\n",
              "    </tr>\n",
              "    <tr>\n",
              "      <th>2</th>\n",
              "      <td>489434</td>\n",
              "      <td>79323W</td>\n",
              "      <td>WHITE CHERRY LIGHTS</td>\n",
              "      <td>12</td>\n",
              "      <td>2009-12-01 07:45:00</td>\n",
              "      <td>6.75</td>\n",
              "      <td>13085.0</td>\n",
              "      <td>United Kingdom</td>\n",
              "    </tr>\n",
              "    <tr>\n",
              "      <th>3</th>\n",
              "      <td>489434</td>\n",
              "      <td>22041</td>\n",
              "      <td>RECORD FRAME 7\" SINGLE SIZE</td>\n",
              "      <td>48</td>\n",
              "      <td>2009-12-01 07:45:00</td>\n",
              "      <td>2.10</td>\n",
              "      <td>13085.0</td>\n",
              "      <td>United Kingdom</td>\n",
              "    </tr>\n",
              "    <tr>\n",
              "      <th>4</th>\n",
              "      <td>489434</td>\n",
              "      <td>21232</td>\n",
              "      <td>STRAWBERRY CERAMIC TRINKET BOX</td>\n",
              "      <td>24</td>\n",
              "      <td>2009-12-01 07:45:00</td>\n",
              "      <td>1.25</td>\n",
              "      <td>13085.0</td>\n",
              "      <td>United Kingdom</td>\n",
              "    </tr>\n",
              "  </tbody>\n",
              "</table>\n",
              "</div>"
            ],
            "text/plain": [
              "  Invoice StockCode  ... Customer ID         Country\n",
              "0  489434     85048  ...     13085.0  United Kingdom\n",
              "1  489434    79323P  ...     13085.0  United Kingdom\n",
              "2  489434    79323W  ...     13085.0  United Kingdom\n",
              "3  489434     22041  ...     13085.0  United Kingdom\n",
              "4  489434     21232  ...     13085.0  United Kingdom\n",
              "\n",
              "[5 rows x 8 columns]"
            ]
          },
          "metadata": {},
          "execution_count": 166
        }
      ]
    },
    {
      "cell_type": "code",
      "metadata": {
        "id": "jVWCHuVMl_d3"
      },
      "source": [
        "#Customer ID\tLength\tRecency\tFrequency\tMonetary\tPeriodicity\n",
        "\n",
        "def custom_features(dataframe_in):\n",
        "  periodo_estudio = max(dataframe_in.InvoiceDate) + datetime.timedelta(days=1)\n",
        "\n",
        "  df = dataframe_in.groupby(['Customer ID']).agg({'InvoiceDate': lambda x: (x.max()-x.min()).days})\n",
        "  df['Length'] = dataframe_in.groupby(['Customer ID']).agg({'InvoiceDate': lambda x: (x.max()-x.min()).days})\n",
        "  df[\"Recency\"] = dataframe_in.groupby(['Customer ID']).agg({'InvoiceDate': lambda x: (periodo_estudio - x.max()).days})\n",
        "  df[\"Frequency\"] = dataframe_in.groupby(['Customer ID'])['Invoice'].count()\n",
        "  df[\"Periodicity\"] = dataframe_in.groupby(['Customer ID']).agg({'InvoiceDate': lambda x: (periodo_estudio - x.max()).days})\n",
        "  \n",
        "\n",
        "  dataframe_in['precio_total'] = dataframe_in['Price'] * dataframe_in['Quantity']\n",
        "  df[\"Monetary\"] = round(dataframe_in.groupby(['Customer ID'])['precio_total'].mean(),2)\n",
        " \n",
        "  #dataframe_in[\"n\"] = dataframe_in.groupby(['Customer ID']).agg({'InvoiceDate': lambda x:(x+delta-x)})\n",
        "  #dataframe_in[\"Periodicity\"] = dataframe_in[\"P\"].std()\n",
        "  return df.drop(['InvoiceDate'], axis=1)"
      ],
      "execution_count": 204,
      "outputs": []
    },
    {
      "cell_type": "code",
      "metadata": {
        "colab": {
          "base_uri": "https://localhost:8080/",
          "height": 455
        },
        "id": "3gVvm9yIbpWm",
        "outputId": "ef591db6-69d3-48b8-d6da-14960981b394"
      },
      "source": [
        " custom_features(df_retail)"
      ],
      "execution_count": 205,
      "outputs": [
        {
          "output_type": "execute_result",
          "data": {
            "text/html": [
              "<div>\n",
              "<style scoped>\n",
              "    .dataframe tbody tr th:only-of-type {\n",
              "        vertical-align: middle;\n",
              "    }\n",
              "\n",
              "    .dataframe tbody tr th {\n",
              "        vertical-align: top;\n",
              "    }\n",
              "\n",
              "    .dataframe thead th {\n",
              "        text-align: right;\n",
              "    }\n",
              "</style>\n",
              "<table border=\"1\" class=\"dataframe\">\n",
              "  <thead>\n",
              "    <tr style=\"text-align: right;\">\n",
              "      <th></th>\n",
              "      <th>Length</th>\n",
              "      <th>Recency</th>\n",
              "      <th>Frequency</th>\n",
              "      <th>Monetary</th>\n",
              "    </tr>\n",
              "    <tr>\n",
              "      <th>Customer ID</th>\n",
              "      <th></th>\n",
              "      <th></th>\n",
              "      <th></th>\n",
              "      <th></th>\n",
              "    </tr>\n",
              "  </thead>\n",
              "  <tbody>\n",
              "    <tr>\n",
              "      <th>12346.0</th>\n",
              "      <td>196</td>\n",
              "      <td>165</td>\n",
              "      <td>33</td>\n",
              "      <td>11.30</td>\n",
              "    </tr>\n",
              "    <tr>\n",
              "      <th>12347.0</th>\n",
              "      <td>37</td>\n",
              "      <td>3</td>\n",
              "      <td>71</td>\n",
              "      <td>18.64</td>\n",
              "    </tr>\n",
              "    <tr>\n",
              "      <th>12348.0</th>\n",
              "      <td>0</td>\n",
              "      <td>74</td>\n",
              "      <td>20</td>\n",
              "      <td>11.11</td>\n",
              "    </tr>\n",
              "    <tr>\n",
              "      <th>12349.0</th>\n",
              "      <td>181</td>\n",
              "      <td>43</td>\n",
              "      <td>102</td>\n",
              "      <td>26.19</td>\n",
              "    </tr>\n",
              "    <tr>\n",
              "      <th>12351.0</th>\n",
              "      <td>0</td>\n",
              "      <td>11</td>\n",
              "      <td>21</td>\n",
              "      <td>14.33</td>\n",
              "    </tr>\n",
              "    <tr>\n",
              "      <th>...</th>\n",
              "      <td>...</td>\n",
              "      <td>...</td>\n",
              "      <td>...</td>\n",
              "      <td>...</td>\n",
              "    </tr>\n",
              "    <tr>\n",
              "      <th>18283.0</th>\n",
              "      <td>275</td>\n",
              "      <td>18</td>\n",
              "      <td>217</td>\n",
              "      <td>2.85</td>\n",
              "    </tr>\n",
              "    <tr>\n",
              "      <th>18284.0</th>\n",
              "      <td>0</td>\n",
              "      <td>67</td>\n",
              "      <td>28</td>\n",
              "      <td>16.49</td>\n",
              "    </tr>\n",
              "    <tr>\n",
              "      <th>18285.0</th>\n",
              "      <td>0</td>\n",
              "      <td>296</td>\n",
              "      <td>12</td>\n",
              "      <td>35.58</td>\n",
              "    </tr>\n",
              "    <tr>\n",
              "      <th>18286.0</th>\n",
              "      <td>247</td>\n",
              "      <td>112</td>\n",
              "      <td>67</td>\n",
              "      <td>19.35</td>\n",
              "    </tr>\n",
              "    <tr>\n",
              "      <th>18287.0</th>\n",
              "      <td>188</td>\n",
              "      <td>18</td>\n",
              "      <td>85</td>\n",
              "      <td>27.60</td>\n",
              "    </tr>\n",
              "  </tbody>\n",
              "</table>\n",
              "<p>4314 rows × 4 columns</p>\n",
              "</div>"
            ],
            "text/plain": [
              "             Length  Recency  Frequency  Monetary\n",
              "Customer ID                                      \n",
              "12346.0         196      165         33     11.30\n",
              "12347.0          37        3         71     18.64\n",
              "12348.0           0       74         20     11.11\n",
              "12349.0         181       43        102     26.19\n",
              "12351.0           0       11         21     14.33\n",
              "...             ...      ...        ...       ...\n",
              "18283.0         275       18        217      2.85\n",
              "18284.0           0       67         28     16.49\n",
              "18285.0           0      296         12     35.58\n",
              "18286.0         247      112         67     19.35\n",
              "18287.0         188       18         85     27.60\n",
              "\n",
              "[4314 rows x 4 columns]"
            ]
          },
          "metadata": {},
          "execution_count": 205
        }
      ]
    },
    {
      "cell_type": "markdown",
      "metadata": {
        "tags": [],
        "cell_id": "00021-7a165a57-848e-4404-870f-cdaba339a9d8",
        "deepnote_cell_type": "markdown",
        "id": "8e6FBbfoJjLb"
      },
      "source": [
        "**Resúesta de Pauta:**"
      ]
    },
    {
      "cell_type": "markdown",
      "metadata": {
        "tags": [],
        "cell_id": "00024-d2150b7a-431a-4480-a6b3-801f31c9e464",
        "deepnote_cell_type": "markdown",
        "id": "AExtm6d5JjLc"
      },
      "source": [
        "## 1.3 Pipelines 👷"
      ]
    },
    {
      "cell_type": "markdown",
      "metadata": {
        "tags": [],
        "cell_id": "00025-34c61ca0-c2da-4708-90a6-d8a6919da07b",
        "deepnote_cell_type": "markdown",
        "id": "dK28EIoXJjLc"
      },
      "source": [
        "Finalmente *Don Mora* le pregunta si seria posible realizar un pipeline para realizar una segmentación de los clientes con los nuevos datos generados, a lo que usted responde que **sí** y propone la utilización de k-means para la segmentación.\n",
        "\n",
        "A continuación siga los pasos requeridos para obtener la segmentación de clientes."
      ]
    },
    {
      "cell_type": "markdown",
      "metadata": {
        "tags": [],
        "cell_id": "00026-f8effaef-07fa-40a9-a9cc-1b2f7f4bc137",
        "deepnote_cell_type": "markdown",
        "id": "AvYSvRulJjLd"
      },
      "source": [
        "### 1.3.1 Estandarizar Caracteristicas [0.5 puntos]"
      ]
    },
    {
      "cell_type": "markdown",
      "metadata": {
        "tags": [],
        "cell_id": "00027-278c72d0-3d92-448e-85a2-af5dab7d6d77",
        "deepnote_cell_type": "markdown",
        "id": "N9a3hrfuJjLe"
      },
      "source": [
        "Construya una clase llamada ``MinMax()`` utilizando ``BaseEstimator`` y ``TransformerMixin`` para realizar una transformación de cada una de las columnas de un DataFrame utilizando ``ColumnTransformer()`` más tarde (tome como referencia el siguiente [enlace](https://sklearn-template.readthedocs.io/en/latest/user_guide.html#transformer)).\n",
        "\n",
        "\n",
        " Para esto considere que Min-Max escaler queda dada por la ecuación:\n",
        "\n",
        "$$MinMax = \\dfrac{x-min(x)}{max(x) - min(x)}$$\n",
        "\n",
        "Con esto buscamos que los valores que componen a las columnas se muevan en el rango de valores $[0, 1]$."
      ]
    },
    {
      "cell_type": "markdown",
      "metadata": {
        "tags": [],
        "cell_id": "00028-db77257b-6ecc-4dee-9f70-4f105e6aba42",
        "deepnote_cell_type": "markdown",
        "id": "ikVHMnwvJjLf"
      },
      "source": [
        "**Respuesta:**"
      ]
    },
    {
      "cell_type": "code",
      "metadata": {
        "tags": [],
        "cell_id": "00029-b78cc7d2-05a8-4f86-a882-02e13ae67762",
        "deepnote_cell_type": "code",
        "id": "R8lDV4W3JjLf"
      },
      "source": [
        "from sklearn.base import BaseEstimator\n",
        "from sklearn.base import TransformerMixin\n",
        "from sklearn.preprocessing import minmax_scale\n",
        "\n",
        "class MinMax(BaseEstimator, TransformerMixin):\n",
        "\n",
        "  def fit(self,X,y= None):\n",
        "    return self\n",
        "\n",
        "  def transform(self,X):\n",
        "        X_std = (X - X.min(axis=0)) / (X.max(axis=0) - X.min(axis=0))\n",
        "        return X_std\n"
      ],
      "execution_count": 207,
      "outputs": []
    },
    {
      "cell_type": "code",
      "metadata": {
        "colab": {
          "base_uri": "https://localhost:8080/",
          "height": 455
        },
        "id": "k6OSDnpcMoG-",
        "outputId": "d99ec389-6333-46ed-975a-bef5ea958275"
      },
      "source": [
        "minmax_scaler =  MinMax()\n",
        "minmax_scaler.fit(custom)\n",
        "minmax_scaler.transform(custom)"
      ],
      "execution_count": 208,
      "outputs": [
        {
          "output_type": "execute_result",
          "data": {
            "text/html": [
              "<div>\n",
              "<style scoped>\n",
              "    .dataframe tbody tr th:only-of-type {\n",
              "        vertical-align: middle;\n",
              "    }\n",
              "\n",
              "    .dataframe tbody tr th {\n",
              "        vertical-align: top;\n",
              "    }\n",
              "\n",
              "    .dataframe thead th {\n",
              "        text-align: right;\n",
              "    }\n",
              "</style>\n",
              "<table border=\"1\" class=\"dataframe\">\n",
              "  <thead>\n",
              "    <tr style=\"text-align: right;\">\n",
              "      <th></th>\n",
              "      <th>Length</th>\n",
              "      <th>Recency</th>\n",
              "      <th>Frequency</th>\n",
              "      <th>Monetary</th>\n",
              "    </tr>\n",
              "    <tr>\n",
              "      <th>Customer ID</th>\n",
              "      <th></th>\n",
              "      <th></th>\n",
              "      <th></th>\n",
              "      <th></th>\n",
              "    </tr>\n",
              "  </thead>\n",
              "  <tbody>\n",
              "    <tr>\n",
              "      <th>12346.0</th>\n",
              "      <td>0.525469</td>\n",
              "      <td>0.439678</td>\n",
              "      <td>0.005748</td>\n",
              "      <td>0.001032</td>\n",
              "    </tr>\n",
              "    <tr>\n",
              "      <th>12347.0</th>\n",
              "      <td>0.099196</td>\n",
              "      <td>0.005362</td>\n",
              "      <td>0.012574</td>\n",
              "      <td>0.001702</td>\n",
              "    </tr>\n",
              "    <tr>\n",
              "      <th>12348.0</th>\n",
              "      <td>0.000000</td>\n",
              "      <td>0.195710</td>\n",
              "      <td>0.003413</td>\n",
              "      <td>0.001014</td>\n",
              "    </tr>\n",
              "    <tr>\n",
              "      <th>12349.0</th>\n",
              "      <td>0.485255</td>\n",
              "      <td>0.112601</td>\n",
              "      <td>0.018143</td>\n",
              "      <td>0.002391</td>\n",
              "    </tr>\n",
              "    <tr>\n",
              "      <th>12351.0</th>\n",
              "      <td>0.000000</td>\n",
              "      <td>0.026810</td>\n",
              "      <td>0.003593</td>\n",
              "      <td>0.001308</td>\n",
              "    </tr>\n",
              "    <tr>\n",
              "      <th>...</th>\n",
              "      <td>...</td>\n",
              "      <td>...</td>\n",
              "      <td>...</td>\n",
              "      <td>...</td>\n",
              "    </tr>\n",
              "    <tr>\n",
              "      <th>18283.0</th>\n",
              "      <td>0.737265</td>\n",
              "      <td>0.045576</td>\n",
              "      <td>0.038800</td>\n",
              "      <td>0.000260</td>\n",
              "    </tr>\n",
              "    <tr>\n",
              "      <th>18284.0</th>\n",
              "      <td>0.000000</td>\n",
              "      <td>0.176944</td>\n",
              "      <td>0.004850</td>\n",
              "      <td>0.001505</td>\n",
              "    </tr>\n",
              "    <tr>\n",
              "      <th>18285.0</th>\n",
              "      <td>0.000000</td>\n",
              "      <td>0.790885</td>\n",
              "      <td>0.001976</td>\n",
              "      <td>0.003248</td>\n",
              "    </tr>\n",
              "    <tr>\n",
              "      <th>18286.0</th>\n",
              "      <td>0.662198</td>\n",
              "      <td>0.297587</td>\n",
              "      <td>0.011856</td>\n",
              "      <td>0.001767</td>\n",
              "    </tr>\n",
              "    <tr>\n",
              "      <th>18287.0</th>\n",
              "      <td>0.504021</td>\n",
              "      <td>0.045576</td>\n",
              "      <td>0.015089</td>\n",
              "      <td>0.002520</td>\n",
              "    </tr>\n",
              "  </tbody>\n",
              "</table>\n",
              "<p>4314 rows × 4 columns</p>\n",
              "</div>"
            ],
            "text/plain": [
              "               Length   Recency  Frequency  Monetary\n",
              "Customer ID                                         \n",
              "12346.0      0.525469  0.439678   0.005748  0.001032\n",
              "12347.0      0.099196  0.005362   0.012574  0.001702\n",
              "12348.0      0.000000  0.195710   0.003413  0.001014\n",
              "12349.0      0.485255  0.112601   0.018143  0.002391\n",
              "12351.0      0.000000  0.026810   0.003593  0.001308\n",
              "...               ...       ...        ...       ...\n",
              "18283.0      0.737265  0.045576   0.038800  0.000260\n",
              "18284.0      0.000000  0.176944   0.004850  0.001505\n",
              "18285.0      0.000000  0.790885   0.001976  0.003248\n",
              "18286.0      0.662198  0.297587   0.011856  0.001767\n",
              "18287.0      0.504021  0.045576   0.015089  0.002520\n",
              "\n",
              "[4314 rows x 4 columns]"
            ]
          },
          "metadata": {},
          "execution_count": 208
        }
      ]
    },
    {
      "cell_type": "markdown",
      "metadata": {
        "tags": [],
        "cell_id": "00032-0ca1a5f5-1aab-4290-a8d4-b19be46f81ff",
        "deepnote_cell_type": "markdown",
        "id": "1mc2lFytJjLg"
      },
      "source": [
        "### 1.3.2 `T-SNA` Pipeline [1.0 puntos]"
      ]
    },
    {
      "cell_type": "markdown",
      "metadata": {
        "tags": [],
        "cell_id": "00033-5056169a-b068-46d2-ad1b-8b7659ab956c",
        "deepnote_cell_type": "markdown",
        "id": "6_DLhzG-JjLg"
      },
      "source": [
        "Para comenzar introduciéndose en el uso de pipeline, decide probar realizando un pipeline enfocado en la reducción de dimensionalidad y así hacer no decepcionar a Mr. Lepin con la clusterización del modelo. \n",
        "\n",
        "Configure un pipeline utilizando el algoritmo `T-SNE` sobre los datos **LRMFP**, donde, para la realización del pipeline considera los siguientes pasos:\n",
        "\n",
        "1. Como primer paso obtenga las características **LRMFP** desde el DataFrame ``df_retail_II_cleaned.pickle`` utilizando la función ``custom_features`` creada anteriormente, junto a ``FunctionTransformer()``. Considere esto como el primer paso de su pipeline.\n",
        "2. En segundo lugar usando ``ColumnTransformer()`` aplique el MinxMax scaler creado por usted sobre todas las columnas generadas en el paso anterior. \n",
        "3. Finalmente, aplique un último paso donde obtiene las 2 componentes más relevantes utilizando el algoritmo T-sne de sckit-learn.\n",
        "\n",
        "Tras aplicar las transformaciones sobre el dataset **LRMFP**, gráfique las componentes obtenidas en la reducción de dimensionalidad."
      ]
    },
    {
      "cell_type": "markdown",
      "metadata": {
        "tags": [],
        "cell_id": "00034-eb18fbe8-72dd-496b-9f30-16cfb3ab5558",
        "deepnote_cell_type": "markdown",
        "id": "qZNOG47SJjLh"
      },
      "source": [
        "**Respuesta:**"
      ]
    },
    {
      "cell_type": "code",
      "metadata": {
        "id": "cyxK1REq3-Q0"
      },
      "source": [
        "from sklearn.manifold import TSNE"
      ],
      "execution_count": 172,
      "outputs": []
    },
    {
      "cell_type": "code",
      "metadata": {
        "tags": [],
        "cell_id": "00035-8231e7d2-13c6-45ec-9b9d-e9ecc8c27d94",
        "deepnote_cell_type": "code",
        "id": "ZRZrxU6LJjLh",
        "colab": {
          "base_uri": "https://localhost:8080/",
          "height": 238
        },
        "outputId": "1ac54fc4-60d1-4a90-cec3-e4188874beb7"
      },
      "source": [
        "customer = custom_features(df_retail)\n",
        "customer.head(5)"
      ],
      "execution_count": 183,
      "outputs": [
        {
          "output_type": "execute_result",
          "data": {
            "text/html": [
              "<div>\n",
              "<style scoped>\n",
              "    .dataframe tbody tr th:only-of-type {\n",
              "        vertical-align: middle;\n",
              "    }\n",
              "\n",
              "    .dataframe tbody tr th {\n",
              "        vertical-align: top;\n",
              "    }\n",
              "\n",
              "    .dataframe thead th {\n",
              "        text-align: right;\n",
              "    }\n",
              "</style>\n",
              "<table border=\"1\" class=\"dataframe\">\n",
              "  <thead>\n",
              "    <tr style=\"text-align: right;\">\n",
              "      <th></th>\n",
              "      <th>Length</th>\n",
              "      <th>Recency</th>\n",
              "      <th>Frequency</th>\n",
              "      <th>Monetary</th>\n",
              "    </tr>\n",
              "    <tr>\n",
              "      <th>Customer ID</th>\n",
              "      <th></th>\n",
              "      <th></th>\n",
              "      <th></th>\n",
              "      <th></th>\n",
              "    </tr>\n",
              "  </thead>\n",
              "  <tbody>\n",
              "    <tr>\n",
              "      <th>12346.0</th>\n",
              "      <td>196</td>\n",
              "      <td>165</td>\n",
              "      <td>33</td>\n",
              "      <td>11.30</td>\n",
              "    </tr>\n",
              "    <tr>\n",
              "      <th>12347.0</th>\n",
              "      <td>37</td>\n",
              "      <td>3</td>\n",
              "      <td>71</td>\n",
              "      <td>18.64</td>\n",
              "    </tr>\n",
              "    <tr>\n",
              "      <th>12348.0</th>\n",
              "      <td>0</td>\n",
              "      <td>74</td>\n",
              "      <td>20</td>\n",
              "      <td>11.11</td>\n",
              "    </tr>\n",
              "    <tr>\n",
              "      <th>12349.0</th>\n",
              "      <td>181</td>\n",
              "      <td>43</td>\n",
              "      <td>102</td>\n",
              "      <td>26.19</td>\n",
              "    </tr>\n",
              "    <tr>\n",
              "      <th>12351.0</th>\n",
              "      <td>0</td>\n",
              "      <td>11</td>\n",
              "      <td>21</td>\n",
              "      <td>14.33</td>\n",
              "    </tr>\n",
              "  </tbody>\n",
              "</table>\n",
              "</div>"
            ],
            "text/plain": [
              "             Length  Recency  Frequency  Monetary\n",
              "Customer ID                                      \n",
              "12346.0         196      165         33     11.30\n",
              "12347.0          37        3         71     18.64\n",
              "12348.0           0       74         20     11.11\n",
              "12349.0         181       43        102     26.19\n",
              "12351.0           0       11         21     14.33"
            ]
          },
          "metadata": {},
          "execution_count": 183
        }
      ]
    },
    {
      "cell_type": "code",
      "metadata": {
        "id": "Xl0lujOXUg7y"
      },
      "source": [
        "minmax_scaler =  MinMax()\n",
        "\n",
        "#ColumnTransformer\n",
        "ct = ColumnTransformer(transformers=[ ('minmax_scale', MinMax(),['Length', \t'Recency' ,\t'Frequency' ,\t'Monetary'])])\n",
        "\n",
        "dataN = pd.DataFrame(ct.fit_transform(customer),columns=customer.columns)"
      ],
      "execution_count": 181,
      "outputs": []
    },
    {
      "cell_type": "code",
      "metadata": {
        "colab": {
          "base_uri": "https://localhost:8080/",
          "height": 424
        },
        "id": "bDzo8Pw-W79d",
        "outputId": "cd547558-36e3-4ed9-df02-dad1102372f2"
      },
      "source": [
        "dataN"
      ],
      "execution_count": 184,
      "outputs": [
        {
          "output_type": "execute_result",
          "data": {
            "text/html": [
              "<div>\n",
              "<style scoped>\n",
              "    .dataframe tbody tr th:only-of-type {\n",
              "        vertical-align: middle;\n",
              "    }\n",
              "\n",
              "    .dataframe tbody tr th {\n",
              "        vertical-align: top;\n",
              "    }\n",
              "\n",
              "    .dataframe thead th {\n",
              "        text-align: right;\n",
              "    }\n",
              "</style>\n",
              "<table border=\"1\" class=\"dataframe\">\n",
              "  <thead>\n",
              "    <tr style=\"text-align: right;\">\n",
              "      <th></th>\n",
              "      <th>Length</th>\n",
              "      <th>Recency</th>\n",
              "      <th>Frequency</th>\n",
              "      <th>Monetary</th>\n",
              "    </tr>\n",
              "  </thead>\n",
              "  <tbody>\n",
              "    <tr>\n",
              "      <th>0</th>\n",
              "      <td>0.525469</td>\n",
              "      <td>0.439678</td>\n",
              "      <td>0.005748</td>\n",
              "      <td>0.001032</td>\n",
              "    </tr>\n",
              "    <tr>\n",
              "      <th>1</th>\n",
              "      <td>0.099196</td>\n",
              "      <td>0.005362</td>\n",
              "      <td>0.012574</td>\n",
              "      <td>0.001702</td>\n",
              "    </tr>\n",
              "    <tr>\n",
              "      <th>2</th>\n",
              "      <td>0.000000</td>\n",
              "      <td>0.195710</td>\n",
              "      <td>0.003413</td>\n",
              "      <td>0.001014</td>\n",
              "    </tr>\n",
              "    <tr>\n",
              "      <th>3</th>\n",
              "      <td>0.485255</td>\n",
              "      <td>0.112601</td>\n",
              "      <td>0.018143</td>\n",
              "      <td>0.002391</td>\n",
              "    </tr>\n",
              "    <tr>\n",
              "      <th>4</th>\n",
              "      <td>0.000000</td>\n",
              "      <td>0.026810</td>\n",
              "      <td>0.003593</td>\n",
              "      <td>0.001308</td>\n",
              "    </tr>\n",
              "    <tr>\n",
              "      <th>...</th>\n",
              "      <td>...</td>\n",
              "      <td>...</td>\n",
              "      <td>...</td>\n",
              "      <td>...</td>\n",
              "    </tr>\n",
              "    <tr>\n",
              "      <th>4309</th>\n",
              "      <td>0.737265</td>\n",
              "      <td>0.045576</td>\n",
              "      <td>0.038800</td>\n",
              "      <td>0.000260</td>\n",
              "    </tr>\n",
              "    <tr>\n",
              "      <th>4310</th>\n",
              "      <td>0.000000</td>\n",
              "      <td>0.176944</td>\n",
              "      <td>0.004850</td>\n",
              "      <td>0.001505</td>\n",
              "    </tr>\n",
              "    <tr>\n",
              "      <th>4311</th>\n",
              "      <td>0.000000</td>\n",
              "      <td>0.790885</td>\n",
              "      <td>0.001976</td>\n",
              "      <td>0.003248</td>\n",
              "    </tr>\n",
              "    <tr>\n",
              "      <th>4312</th>\n",
              "      <td>0.662198</td>\n",
              "      <td>0.297587</td>\n",
              "      <td>0.011856</td>\n",
              "      <td>0.001767</td>\n",
              "    </tr>\n",
              "    <tr>\n",
              "      <th>4313</th>\n",
              "      <td>0.504021</td>\n",
              "      <td>0.045576</td>\n",
              "      <td>0.015089</td>\n",
              "      <td>0.002520</td>\n",
              "    </tr>\n",
              "  </tbody>\n",
              "</table>\n",
              "<p>4314 rows × 4 columns</p>\n",
              "</div>"
            ],
            "text/plain": [
              "        Length   Recency  Frequency  Monetary\n",
              "0     0.525469  0.439678   0.005748  0.001032\n",
              "1     0.099196  0.005362   0.012574  0.001702\n",
              "2     0.000000  0.195710   0.003413  0.001014\n",
              "3     0.485255  0.112601   0.018143  0.002391\n",
              "4     0.000000  0.026810   0.003593  0.001308\n",
              "...        ...       ...        ...       ...\n",
              "4309  0.737265  0.045576   0.038800  0.000260\n",
              "4310  0.000000  0.176944   0.004850  0.001505\n",
              "4311  0.000000  0.790885   0.001976  0.003248\n",
              "4312  0.662198  0.297587   0.011856  0.001767\n",
              "4313  0.504021  0.045576   0.015089  0.002520\n",
              "\n",
              "[4314 rows x 4 columns]"
            ]
          },
          "metadata": {},
          "execution_count": 184
        }
      ]
    },
    {
      "cell_type": "code",
      "metadata": {
        "colab": {
          "base_uri": "https://localhost:8080/"
        },
        "id": "-BqSARqyXNEE",
        "outputId": "3466240a-5f9f-4a28-ebbd-5083623b363e"
      },
      "source": [
        "dataN.info()"
      ],
      "execution_count": 185,
      "outputs": [
        {
          "output_type": "stream",
          "name": "stdout",
          "text": [
            "<class 'pandas.core.frame.DataFrame'>\n",
            "RangeIndex: 4314 entries, 0 to 4313\n",
            "Data columns (total 4 columns):\n",
            " #   Column     Non-Null Count  Dtype  \n",
            "---  ------     --------------  -----  \n",
            " 0   Length     4314 non-null   float64\n",
            " 1   Recency    4314 non-null   float64\n",
            " 2   Frequency  4314 non-null   float64\n",
            " 3   Monetary   4314 non-null   float64\n",
            "dtypes: float64(4)\n",
            "memory usage: 134.9 KB\n"
          ]
        }
      ]
    },
    {
      "cell_type": "code",
      "metadata": {
        "id": "vftOAafxUhCz"
      },
      "source": [
        "from sklearn.manifold import TSNE\n",
        "\n",
        "tsne = TSNE(n_components=2)\n",
        "tsne_results  = tsne.fit_transform(dataN)"
      ],
      "execution_count": 186,
      "outputs": []
    },
    {
      "cell_type": "code",
      "metadata": {
        "colab": {
          "base_uri": "https://localhost:8080/",
          "height": 610
        },
        "id": "XclbH-gWYSlR",
        "outputId": "59fce1d1-4a1d-4617-a35c-15b441993c5d"
      },
      "source": [
        "%matplotlib inline\n",
        "import matplotlib.pyplot as plt\n",
        "import seaborn as sns\n",
        "\n",
        "\n",
        "plt.figure(figsize=(16,10))\n",
        "sns.scatterplot(\n",
        "    x=tsne_results[:,0], y=tsne_results[:,1],\n",
        "    palette=sns.color_palette(\"hls\", 10),\n",
        "    legend=\"full\",\n",
        "    alpha=0.3 )"
      ],
      "execution_count": null,
      "outputs": [
        {
          "output_type": "execute_result",
          "data": {
            "text/plain": [
              "<matplotlib.axes._subplots.AxesSubplot at 0x7ff13b348610>"
            ]
          },
          "metadata": {},
          "execution_count": 128
        },
        {
          "output_type": "display_data",
          "data": {
            "image/png": "[encoded data removed]",
            "text/plain": [
              "<Figure size 1152x720 with 1 Axes>"
            ]
          },
          "metadata": {
            "needs_background": "light"
          }
        }
      ]
    },
    {
      "cell_type": "markdown",
      "metadata": {
        "tags": [],
        "cell_id": "00040-719e872a-f25c-422d-ac77-28a5cd88d28c",
        "deepnote_cell_type": "markdown",
        "id": "QpbeVcdMJjLi"
      },
      "source": [
        "### 1.3.3 Clustering"
      ]
    },
    {
      "cell_type": "markdown",
      "metadata": {
        "tags": [],
        "cell_id": "00041-8ddce401-e8d1-498d-bd79-e6d3f11d9174",
        "deepnote_cell_type": "markdown",
        "id": "QkfBpCbPJjLi"
      },
      "source": [
        "#### 1.3.3.1 Método del Codo [1 puntos]"
      ]
    },
    {
      "cell_type": "markdown",
      "metadata": {
        "tags": [],
        "cell_id": "00042-b4254feb-88f4-4a6c-8556-e11b1b5911d0",
        "deepnote_cell_type": "markdown",
        "id": "9OnJQNcBJjLj"
      },
      "source": [
        "Utilizando la clase creada para escalamiento, aplique el método del codo para visualizar cual es el número de clusters que mejor se ajustan a los datos. Realice esto utilizando el algoritmo K-means dentro de un pipeline para un $k \\in [1,20]$, donde k representa el número de clusters del k-means. Para la realización de esta sección y la próxima (1.3.3.2), considere los mismos pasos utilizados para el t-sne, pero permutando el algoritmo de reducción de dimensionalidad por k-means.\n",
        "\n",
        "A través del grafico obtenido, comente y justifique que valor de k escogería para realizar el k-means."
      ]
    },
    {
      "cell_type": "markdown",
      "metadata": {
        "tags": [],
        "cell_id": "00035-bbbef3bf-d15b-48e5-a4bb-cd9234b57e0f",
        "deepnote_cell_type": "markdown",
        "id": "PG5vBymcJjLk"
      },
      "source": [
        "**Respuesta:**"
      ]
    },
    {
      "cell_type": "code",
      "metadata": {
        "colab": {
          "base_uri": "https://localhost:8080/",
          "height": 338
        },
        "id": "_-4x8PrIu0To",
        "outputId": "785e2123-7e4c-4580-f982-2fc249f2cebc"
      },
      "source": [
        "pipe = Pipeline([('minmax_scale', MinMax()), ('kmeans', KMeans(random_state=0))])\n",
        "scores = []\n",
        "\n",
        "for k in range(1, 20):\n",
        "        pipe.named_steps['kmeans'].n_clusters = k\n",
        "        pipe.fit(dataN)\n",
        "        scores.append(pipe.score(dataN) * -1)\n",
        "\n",
        "fig, ax = plt.subplots()\n",
        "ax.plot(range(1, 20), scores, 'ro-')\n",
        "ax.set_xlabel('k')\n",
        "ax.set_ylabel('inertias')\n",
        "ax.set_title('Método del codo')\n",
        "\n"
      ],
      "execution_count": 232,
      "outputs": [
        {
          "output_type": "execute_result",
          "data": {
            "text/plain": [
              "Text(0.5, 1.0, 'Método del codo')"
            ]
          },
          "metadata": {},
          "execution_count": 232
        },
        {
          "output_type": "display_data",
          "data": {
            "image/png": "[encoded data removed]",
            "text/plain": [
              "<Figure size 432x288 with 1 Axes>"
            ]
          },
          "metadata": {}
        }
      ]
    },
    {
      "cell_type": "markdown",
      "metadata": {
        "tags": [],
        "cell_id": "00044-df589bc4-557f-423c-9487-748b15b95e60",
        "deepnote_cell_type": "markdown",
        "id": "haJrRCg8JjLl"
      },
      "source": [
        "#### 1.3.3.2 Segmentación de Clientes con K-Means 🎁 [1 punto]"
      ]
    },
    {
      "cell_type": "markdown",
      "metadata": {
        "tags": [],
        "cell_id": "00045-eb892d43-2d7d-49a0-8002-164dcb56e1e1",
        "deepnote_cell_type": "markdown",
        "id": "IZGkZTadJjLl"
      },
      "source": [
        "En base a la elección de k realizada en la sección anterior, utilice este valor escogido y entrene un modelo de K-means utilizando el mismo pipeline de scikit-learn utilizado anteriormente.\n",
        "\n",
        "Una vez ajustado los datos, genere una tabla con los promedios (o medianas) para cada uno de los atributos, agrupando estos por el clúster que pertenecen. ¿Es posible observar agrupaciones coherentes?, ¿Qué tipo de clientes posee el retail?, Justifique su respuesta y no decepcione a Mr. Lepin.\n"
      ]
    },
    {
      "cell_type": "markdown",
      "metadata": {
        "tags": [],
        "cell_id": "00046-e66d7746-b52e-4c05-b1b4-b89934c4c92c",
        "deepnote_cell_type": "markdown",
        "id": "RfyND9sFJjLm"
      },
      "source": [
        "**Respuesta:**"
      ]
    },
    {
      "cell_type": "code",
      "metadata": {
        "colab": {
          "base_uri": "https://localhost:8080/",
          "height": 424
        },
        "id": "BEdbcoegDGQc",
        "outputId": "7ff151be-b3e3-4c68-853a-47e44e947cb0"
      },
      "source": [
        "dataN"
      ],
      "execution_count": 157,
      "outputs": [
        {
          "output_type": "execute_result",
          "data": {
            "text/html": [
              "<div>\n",
              "<style scoped>\n",
              "    .dataframe tbody tr th:only-of-type {\n",
              "        vertical-align: middle;\n",
              "    }\n",
              "\n",
              "    .dataframe tbody tr th {\n",
              "        vertical-align: top;\n",
              "    }\n",
              "\n",
              "    .dataframe thead th {\n",
              "        text-align: right;\n",
              "    }\n",
              "</style>\n",
              "<table border=\"1\" class=\"dataframe\">\n",
              "  <thead>\n",
              "    <tr style=\"text-align: right;\">\n",
              "      <th></th>\n",
              "      <th>Length</th>\n",
              "      <th>Recency</th>\n",
              "      <th>Frequency</th>\n",
              "      <th>Monetary</th>\n",
              "    </tr>\n",
              "  </thead>\n",
              "  <tbody>\n",
              "    <tr>\n",
              "      <th>0</th>\n",
              "      <td>0.525469</td>\n",
              "      <td>0.439678</td>\n",
              "      <td>0.005748</td>\n",
              "      <td>0.001032</td>\n",
              "    </tr>\n",
              "    <tr>\n",
              "      <th>1</th>\n",
              "      <td>0.099196</td>\n",
              "      <td>0.005362</td>\n",
              "      <td>0.012574</td>\n",
              "      <td>0.001702</td>\n",
              "    </tr>\n",
              "    <tr>\n",
              "      <th>2</th>\n",
              "      <td>0.000000</td>\n",
              "      <td>0.195710</td>\n",
              "      <td>0.003413</td>\n",
              "      <td>0.001014</td>\n",
              "    </tr>\n",
              "    <tr>\n",
              "      <th>3</th>\n",
              "      <td>0.485255</td>\n",
              "      <td>0.112601</td>\n",
              "      <td>0.018143</td>\n",
              "      <td>0.002391</td>\n",
              "    </tr>\n",
              "    <tr>\n",
              "      <th>4</th>\n",
              "      <td>0.000000</td>\n",
              "      <td>0.026810</td>\n",
              "      <td>0.003593</td>\n",
              "      <td>0.001308</td>\n",
              "    </tr>\n",
              "    <tr>\n",
              "      <th>...</th>\n",
              "      <td>...</td>\n",
              "      <td>...</td>\n",
              "      <td>...</td>\n",
              "      <td>...</td>\n",
              "    </tr>\n",
              "    <tr>\n",
              "      <th>4309</th>\n",
              "      <td>0.737265</td>\n",
              "      <td>0.045576</td>\n",
              "      <td>0.038800</td>\n",
              "      <td>0.000260</td>\n",
              "    </tr>\n",
              "    <tr>\n",
              "      <th>4310</th>\n",
              "      <td>0.000000</td>\n",
              "      <td>0.176944</td>\n",
              "      <td>0.004850</td>\n",
              "      <td>0.001505</td>\n",
              "    </tr>\n",
              "    <tr>\n",
              "      <th>4311</th>\n",
              "      <td>0.000000</td>\n",
              "      <td>0.790885</td>\n",
              "      <td>0.001976</td>\n",
              "      <td>0.003248</td>\n",
              "    </tr>\n",
              "    <tr>\n",
              "      <th>4312</th>\n",
              "      <td>0.662198</td>\n",
              "      <td>0.297587</td>\n",
              "      <td>0.011856</td>\n",
              "      <td>0.001767</td>\n",
              "    </tr>\n",
              "    <tr>\n",
              "      <th>4313</th>\n",
              "      <td>0.504021</td>\n",
              "      <td>0.045576</td>\n",
              "      <td>0.015089</td>\n",
              "      <td>0.002520</td>\n",
              "    </tr>\n",
              "  </tbody>\n",
              "</table>\n",
              "<p>4314 rows × 4 columns</p>\n",
              "</div>"
            ],
            "text/plain": [
              "        Length   Recency  Frequency  Monetary\n",
              "0     0.525469  0.439678   0.005748  0.001032\n",
              "1     0.099196  0.005362   0.012574  0.001702\n",
              "2     0.000000  0.195710   0.003413  0.001014\n",
              "3     0.485255  0.112601   0.018143  0.002391\n",
              "4     0.000000  0.026810   0.003593  0.001308\n",
              "...        ...       ...        ...       ...\n",
              "4309  0.737265  0.045576   0.038800  0.000260\n",
              "4310  0.000000  0.176944   0.004850  0.001505\n",
              "4311  0.000000  0.790885   0.001976  0.003248\n",
              "4312  0.662198  0.297587   0.011856  0.001767\n",
              "4313  0.504021  0.045576   0.015089  0.002520\n",
              "\n",
              "[4314 rows x 4 columns]"
            ]
          },
          "metadata": {},
          "execution_count": 157
        }
      ]
    },
    {
      "cell_type": "code",
      "metadata": {
        "id": "mFWzklgY2WgC"
      },
      "source": [
        "preprocessor = Pipeline([('minmax_scale', MinMax()),('kmeans', KMeans(init=\"random\", n_clusters=5, n_init=10, max_iter=300, random_state=42)),])"
      ],
      "execution_count": 221,
      "outputs": []
    },
    {
      "cell_type": "code",
      "metadata": {
        "id": "Nqo-zCAu91mJ"
      },
      "source": [
        "clusterer = Pipeline([(\"kmeans\",KMeans(n_clusters=6,init=\"k-means++\", n_init=50, max_iter=500, random_state=42, ),  ), ])"
      ],
      "execution_count": 211,
      "outputs": []
    },
    {
      "cell_type": "code",
      "metadata": {
        "id": "xLazzo4i93n5"
      },
      "source": [
        "pipe = Pipeline([(\"preprocessor\", preprocessor),(\"clusterer\", clusterer)])"
      ],
      "execution_count": 212,
      "outputs": []
    },
    {
      "cell_type": "code",
      "metadata": {
        "colab": {
          "base_uri": "https://localhost:8080/"
        },
        "id": "DW9E0vsw95dF",
        "outputId": "f51befa7-bb73-4890-d424-90e84de34bb0"
      },
      "source": [
        "pipe.fit(dataN)"
      ],
      "execution_count": 213,
      "outputs": [
        {
          "output_type": "execute_result",
          "data": {
            "text/plain": [
              "Pipeline(memory=None,\n",
              "         steps=[('preprocessor',\n",
              "                 Pipeline(memory=None,\n",
              "                          steps=[('minmax_scale', MinMax()),\n",
              "                                 ('kmeans',\n",
              "                                  KMeans(algorithm='auto', copy_x=True,\n",
              "                                         init='random', max_iter=300,\n",
              "                                         n_clusters=5, n_init=10, n_jobs=None,\n",
              "                                         precompute_distances='auto',\n",
              "                                         random_state=42, tol=0.0001,\n",
              "                                         verbose=0))],\n",
              "                          verbose=False)),\n",
              "                ('clusterer',\n",
              "                 Pipeline(memory=None,\n",
              "                          steps=[('kmeans',\n",
              "                                  KMeans(algorithm='auto', copy_x=True,\n",
              "                                         init='k-means++', max_iter=500,\n",
              "                                         n_clusters=6, n_init=50, n_jobs=None,\n",
              "                                         precompute_distances='auto',\n",
              "                                         random_state=42, tol=0.0001,\n",
              "                                         verbose=0))],\n",
              "                          verbose=False))],\n",
              "         verbose=False)"
            ]
          },
          "metadata": {},
          "execution_count": 213
        }
      ]
    },
    {
      "cell_type": "code",
      "metadata": {
        "colab": {
          "base_uri": "https://localhost:8080/"
        },
        "id": "JOz8IsyE97bY",
        "outputId": "e6015c53-84ce-4347-8472-02bbe870e70c"
      },
      "source": [
        "from sklearn.metrics import silhouette_score\n",
        "preprocessed_data = pipe[\"preprocessor\"].transform(dataN)\n",
        "\n",
        "predicted_labels = pipe[\"clusterer\"][\"kmeans\"].labels_\n",
        "\n",
        "silhouette_score(preprocessed_data, predicted_labels)"
      ],
      "execution_count": 214,
      "outputs": [
        {
          "output_type": "execute_result",
          "data": {
            "text/plain": [
              "0.5275576565183618"
            ]
          },
          "metadata": {},
          "execution_count": 214
        }
      ]
    },
    {
      "cell_type": "code",
      "metadata": {
        "id": "gR_0HZ7UGsFP"
      },
      "source": [
        "base = pd.concat([customer.reset_index(), pd.DataFrame(pcadf['predicted_cluster'])], axis=1)\n",
        "base = base.drop(['Customer ID'], axis=1)"
      ],
      "execution_count": 215,
      "outputs": []
    },
    {
      "cell_type": "code",
      "metadata": {
        "colab": {
          "base_uri": "https://localhost:8080/",
          "height": 424
        },
        "id": "owfqWgk7H9tZ",
        "outputId": "a7110450-5459-49bb-c832-3f7a32d4b2a4"
      },
      "source": [
        "base"
      ],
      "execution_count": 217,
      "outputs": [
        {
          "output_type": "execute_result",
          "data": {
            "text/html": [
              "<div>\n",
              "<style scoped>\n",
              "    .dataframe tbody tr th:only-of-type {\n",
              "        vertical-align: middle;\n",
              "    }\n",
              "\n",
              "    .dataframe tbody tr th {\n",
              "        vertical-align: top;\n",
              "    }\n",
              "\n",
              "    .dataframe thead th {\n",
              "        text-align: right;\n",
              "    }\n",
              "</style>\n",
              "<table border=\"1\" class=\"dataframe\">\n",
              "  <thead>\n",
              "    <tr style=\"text-align: right;\">\n",
              "      <th></th>\n",
              "      <th>Length</th>\n",
              "      <th>Recency</th>\n",
              "      <th>Frequency</th>\n",
              "      <th>Monetary</th>\n",
              "      <th>predicted_cluster</th>\n",
              "    </tr>\n",
              "  </thead>\n",
              "  <tbody>\n",
              "    <tr>\n",
              "      <th>0</th>\n",
              "      <td>196</td>\n",
              "      <td>165</td>\n",
              "      <td>33</td>\n",
              "      <td>11.30</td>\n",
              "      <td>3</td>\n",
              "    </tr>\n",
              "    <tr>\n",
              "      <th>1</th>\n",
              "      <td>37</td>\n",
              "      <td>3</td>\n",
              "      <td>71</td>\n",
              "      <td>18.64</td>\n",
              "      <td>0</td>\n",
              "    </tr>\n",
              "    <tr>\n",
              "      <th>2</th>\n",
              "      <td>0</td>\n",
              "      <td>74</td>\n",
              "      <td>20</td>\n",
              "      <td>11.11</td>\n",
              "      <td>0</td>\n",
              "    </tr>\n",
              "    <tr>\n",
              "      <th>3</th>\n",
              "      <td>181</td>\n",
              "      <td>43</td>\n",
              "      <td>102</td>\n",
              "      <td>26.19</td>\n",
              "      <td>3</td>\n",
              "    </tr>\n",
              "    <tr>\n",
              "      <th>4</th>\n",
              "      <td>0</td>\n",
              "      <td>11</td>\n",
              "      <td>21</td>\n",
              "      <td>14.33</td>\n",
              "      <td>0</td>\n",
              "    </tr>\n",
              "    <tr>\n",
              "      <th>...</th>\n",
              "      <td>...</td>\n",
              "      <td>...</td>\n",
              "      <td>...</td>\n",
              "      <td>...</td>\n",
              "      <td>...</td>\n",
              "    </tr>\n",
              "    <tr>\n",
              "      <th>4309</th>\n",
              "      <td>275</td>\n",
              "      <td>18</td>\n",
              "      <td>217</td>\n",
              "      <td>2.85</td>\n",
              "      <td>1</td>\n",
              "    </tr>\n",
              "    <tr>\n",
              "      <th>4310</th>\n",
              "      <td>0</td>\n",
              "      <td>67</td>\n",
              "      <td>28</td>\n",
              "      <td>16.49</td>\n",
              "      <td>0</td>\n",
              "    </tr>\n",
              "    <tr>\n",
              "      <th>4311</th>\n",
              "      <td>0</td>\n",
              "      <td>296</td>\n",
              "      <td>12</td>\n",
              "      <td>35.58</td>\n",
              "      <td>2</td>\n",
              "    </tr>\n",
              "    <tr>\n",
              "      <th>4312</th>\n",
              "      <td>247</td>\n",
              "      <td>112</td>\n",
              "      <td>67</td>\n",
              "      <td>19.35</td>\n",
              "      <td>3</td>\n",
              "    </tr>\n",
              "    <tr>\n",
              "      <th>4313</th>\n",
              "      <td>188</td>\n",
              "      <td>18</td>\n",
              "      <td>85</td>\n",
              "      <td>27.60</td>\n",
              "      <td>3</td>\n",
              "    </tr>\n",
              "  </tbody>\n",
              "</table>\n",
              "<p>4314 rows × 5 columns</p>\n",
              "</div>"
            ],
            "text/plain": [
              "      Length  Recency  Frequency  Monetary  predicted_cluster\n",
              "0        196      165         33     11.30                  3\n",
              "1         37        3         71     18.64                  0\n",
              "2          0       74         20     11.11                  0\n",
              "3        181       43        102     26.19                  3\n",
              "4          0       11         21     14.33                  0\n",
              "...      ...      ...        ...       ...                ...\n",
              "4309     275       18        217      2.85                  1\n",
              "4310       0       67         28     16.49                  0\n",
              "4311       0      296         12     35.58                  2\n",
              "4312     247      112         67     19.35                  3\n",
              "4313     188       18         85     27.60                  3\n",
              "\n",
              "[4314 rows x 5 columns]"
            ]
          },
          "metadata": {},
          "execution_count": 217
        }
      ]
    },
    {
      "cell_type": "code",
      "metadata": {
        "colab": {
          "base_uri": "https://localhost:8080/",
          "height": 294
        },
        "id": "2yXnw1lxHcO1",
        "outputId": "5ca1c4ef-3fa0-4e20-ce02-e542a75a7329"
      },
      "source": [
        "base.groupby(['predicted_cluster'])['Length', \t'Recency', \t'Frequency', \t'Monetary'].mean()"
      ],
      "execution_count": 218,
      "outputs": [
        {
          "output_type": "stream",
          "name": "stderr",
          "text": [
            "/usr/local/lib/python3.7/dist-packages/ipykernel_launcher.py:1: FutureWarning: Indexing with multiple keys (implicitly converted to a tuple of keys) will be deprecated, use a list instead.\n",
            "  \"\"\"Entry point for launching an IPython kernel.\n"
          ]
        },
        {
          "output_type": "execute_result",
          "data": {
            "text/html": [
              "<div>\n",
              "<style scoped>\n",
              "    .dataframe tbody tr th:only-of-type {\n",
              "        vertical-align: middle;\n",
              "    }\n",
              "\n",
              "    .dataframe tbody tr th {\n",
              "        vertical-align: top;\n",
              "    }\n",
              "\n",
              "    .dataframe thead th {\n",
              "        text-align: right;\n",
              "    }\n",
              "</style>\n",
              "<table border=\"1\" class=\"dataframe\">\n",
              "  <thead>\n",
              "    <tr style=\"text-align: right;\">\n",
              "      <th></th>\n",
              "      <th>Length</th>\n",
              "      <th>Recency</th>\n",
              "      <th>Frequency</th>\n",
              "      <th>Monetary</th>\n",
              "    </tr>\n",
              "    <tr>\n",
              "      <th>predicted_cluster</th>\n",
              "      <th></th>\n",
              "      <th></th>\n",
              "      <th></th>\n",
              "      <th></th>\n",
              "    </tr>\n",
              "  </thead>\n",
              "  <tbody>\n",
              "    <tr>\n",
              "      <th>0</th>\n",
              "      <td>21.135678</td>\n",
              "      <td>45.238693</td>\n",
              "      <td>41.000838</td>\n",
              "      <td>31.725059</td>\n",
              "    </tr>\n",
              "    <tr>\n",
              "      <th>1</th>\n",
              "      <td>325.098232</td>\n",
              "      <td>21.620825</td>\n",
              "      <td>218.250491</td>\n",
              "      <td>36.215462</td>\n",
              "    </tr>\n",
              "    <tr>\n",
              "      <th>2</th>\n",
              "      <td>3.682432</td>\n",
              "      <td>307.650901</td>\n",
              "      <td>20.081081</td>\n",
              "      <td>72.720090</td>\n",
              "    </tr>\n",
              "    <tr>\n",
              "      <th>3</th>\n",
              "      <td>194.233792</td>\n",
              "      <td>58.944990</td>\n",
              "      <td>97.722986</td>\n",
              "      <td>27.417505</td>\n",
              "    </tr>\n",
              "    <tr>\n",
              "      <th>4</th>\n",
              "      <td>34.767187</td>\n",
              "      <td>189.229688</td>\n",
              "      <td>33.460938</td>\n",
              "      <td>38.462156</td>\n",
              "    </tr>\n",
              "  </tbody>\n",
              "</table>\n",
              "</div>"
            ],
            "text/plain": [
              "                       Length     Recency   Frequency   Monetary\n",
              "predicted_cluster                                               \n",
              "0                   21.135678   45.238693   41.000838  31.725059\n",
              "1                  325.098232   21.620825  218.250491  36.215462\n",
              "2                    3.682432  307.650901   20.081081  72.720090\n",
              "3                  194.233792   58.944990   97.722986  27.417505\n",
              "4                   34.767187  189.229688   33.460938  38.462156"
            ]
          },
          "metadata": {},
          "execution_count": 218
        }
      ]
    },
    {
      "cell_type": "markdown",
      "metadata": {
        "tags": [],
        "cell_id": "00053-4802e3b0-f4e2-4235-909a-43e607f46997",
        "deepnote_cell_type": "markdown",
        "id": "tWVeoMmGJjLo"
      },
      "source": [
        "**Respuesta Esperada:**\n",
        "\n",
        "|         | Length  | Recency   | Frequency | Monetary | Periodicity |       |\n",
        "|---------|---------|-----------|----------|-------------|-------|-------|\n",
        "| Cluster |         |           |          |             |       |       |\n",
        "|    0    |   258.8 |      45.2 |     76.1 |      1107.7 | 107.6 |   449 |\n",
        "|    1    |    76.1 |     217.6 |     45.5 |       791.7 |  14.1 |   466 |\n",
        "|    2    |   368.5 |       4.8 |   2715.0 |    226621.6 |   4.2 |     4 |\n",
        "|    3    |    85.3 |      45.7 |     65.8 |      1047.0 |  10.5 |   987 |\n",
        "|    4    |   347.2 |      15.9 |   1658.0 |     35829.3 |   8.0 |    25 |\n",
        "|    5    |   298.0 |      29.8 |    183.8 |      3639.9 |  32.0 |  1188 |"
      ]
    },
    {
      "cell_type": "markdown",
      "metadata": {
        "tags": [],
        "cell_id": "00042-95fcbe7f-ad2e-4116-92da-49ae755a4311",
        "deepnote_cell_type": "markdown",
        "id": "ObMnNvz8JjLp"
      },
      "source": [
        "#### 1.3.3.3 Plot de K-Means 📈 [0.5 puntos]\n",
        "\n"
      ]
    },
    {
      "cell_type": "markdown",
      "metadata": {
        "tags": [],
        "cell_id": "00043-33a035f7-7aaf-4aad-98a2-0c4295fa136f",
        "deepnote_cell_type": "markdown",
        "id": "dV5b1rbvJjLq"
      },
      "source": [
        "Por último, Mr. Lepin, impaciente de no entender lo que usted intenta explicarle, le solicita que por favor muestre algún resultado \"visual\" de los grupos encontrados.\n",
        "\n",
        "Para esto, grafique nuevamente las características encontradas usando `T-SNE` (no calcule de nuevo, simplemente utilice las proyecciones encontradas) y agregue las labels calculadas con kmeans como el argumento `color`.   \n",
        "\n",
        "Comente: ¿Se separan bien los distintos clusters en la visualización?\n"
      ]
    },
    {
      "cell_type": "markdown",
      "metadata": {
        "tags": [],
        "cell_id": "00044-d04e1a07-81ac-4440-9cf0-65f9f8dd6a8c",
        "deepnote_cell_type": "markdown",
        "id": "eXJbvO19JjLq"
      },
      "source": [
        "**Respuesta:**"
      ]
    },
    {
      "cell_type": "code",
      "metadata": {
        "tags": [],
        "cell_id": "00043-f95cb727-b787-474b-845d-b3d85199bea9",
        "deepnote_cell_type": "code",
        "id": "Yaq3SoMyJjLr",
        "colab": {
          "base_uri": "https://localhost:8080/",
          "height": 424
        },
        "outputId": "cc05ebe2-eb6e-414d-e7bc-e88bef98dbbf"
      },
      "source": [
        "base2 = pd.concat([pd.DataFrame(tsne_results, columns= ['com1' , 'com2']), pd.DataFrame(pcadf['predicted_cluster'])], axis=1)\n",
        "base2"
      ],
      "execution_count": 226,
      "outputs": [
        {
          "output_type": "execute_result",
          "data": {
            "text/html": [
              "<div>\n",
              "<style scoped>\n",
              "    .dataframe tbody tr th:only-of-type {\n",
              "        vertical-align: middle;\n",
              "    }\n",
              "\n",
              "    .dataframe tbody tr th {\n",
              "        vertical-align: top;\n",
              "    }\n",
              "\n",
              "    .dataframe thead th {\n",
              "        text-align: right;\n",
              "    }\n",
              "</style>\n",
              "<table border=\"1\" class=\"dataframe\">\n",
              "  <thead>\n",
              "    <tr style=\"text-align: right;\">\n",
              "      <th></th>\n",
              "      <th>com1</th>\n",
              "      <th>com2</th>\n",
              "      <th>predicted_cluster</th>\n",
              "    </tr>\n",
              "  </thead>\n",
              "  <tbody>\n",
              "    <tr>\n",
              "      <th>0</th>\n",
              "      <td>-48.733894</td>\n",
              "      <td>-12.058078</td>\n",
              "      <td>3</td>\n",
              "    </tr>\n",
              "    <tr>\n",
              "      <th>1</th>\n",
              "      <td>55.744083</td>\n",
              "      <td>-2.810110</td>\n",
              "      <td>0</td>\n",
              "    </tr>\n",
              "    <tr>\n",
              "      <th>2</th>\n",
              "      <td>21.638624</td>\n",
              "      <td>24.746342</td>\n",
              "      <td>0</td>\n",
              "    </tr>\n",
              "    <tr>\n",
              "      <th>3</th>\n",
              "      <td>-6.846015</td>\n",
              "      <td>-52.855164</td>\n",
              "      <td>3</td>\n",
              "    </tr>\n",
              "    <tr>\n",
              "      <th>4</th>\n",
              "      <td>78.378090</td>\n",
              "      <td>-2.031780</td>\n",
              "      <td>0</td>\n",
              "    </tr>\n",
              "    <tr>\n",
              "      <th>...</th>\n",
              "      <td>...</td>\n",
              "      <td>...</td>\n",
              "      <td>...</td>\n",
              "    </tr>\n",
              "    <tr>\n",
              "      <th>4309</th>\n",
              "      <td>-11.248523</td>\n",
              "      <td>-6.866089</td>\n",
              "      <td>1</td>\n",
              "    </tr>\n",
              "    <tr>\n",
              "      <th>4310</th>\n",
              "      <td>24.654099</td>\n",
              "      <td>35.784641</td>\n",
              "      <td>0</td>\n",
              "    </tr>\n",
              "    <tr>\n",
              "      <th>4311</th>\n",
              "      <td>-61.864494</td>\n",
              "      <td>23.815380</td>\n",
              "      <td>2</td>\n",
              "    </tr>\n",
              "    <tr>\n",
              "      <th>4312</th>\n",
              "      <td>-47.842262</td>\n",
              "      <td>-21.512247</td>\n",
              "      <td>3</td>\n",
              "    </tr>\n",
              "    <tr>\n",
              "      <th>4313</th>\n",
              "      <td>-8.292522</td>\n",
              "      <td>-58.281635</td>\n",
              "      <td>3</td>\n",
              "    </tr>\n",
              "  </tbody>\n",
              "</table>\n",
              "<p>4314 rows × 3 columns</p>\n",
              "</div>"
            ],
            "text/plain": [
              "           com1       com2  predicted_cluster\n",
              "0    -48.733894 -12.058078                  3\n",
              "1     55.744083  -2.810110                  0\n",
              "2     21.638624  24.746342                  0\n",
              "3     -6.846015 -52.855164                  3\n",
              "4     78.378090  -2.031780                  0\n",
              "...         ...        ...                ...\n",
              "4309 -11.248523  -6.866089                  1\n",
              "4310  24.654099  35.784641                  0\n",
              "4311 -61.864494  23.815380                  2\n",
              "4312 -47.842262 -21.512247                  3\n",
              "4313  -8.292522 -58.281635                  3\n",
              "\n",
              "[4314 rows x 3 columns]"
            ]
          },
          "metadata": {},
          "execution_count": 226
        }
      ]
    },
    {
      "cell_type": "code",
      "metadata": {
        "colab": {
          "base_uri": "https://localhost:8080/",
          "height": 701
        },
        "id": "TOtfcDEGLegm",
        "outputId": "7bce9c5a-c767-458a-cee2-4efe10f75618"
      },
      "source": [
        "# Plot Digits t-SNE\n",
        "sns.set_context(\"notebook\", font_scale=1.1)\n",
        "sns.set_style(\"ticks\")\n",
        "\n",
        "sns.lmplot(x='com1',\n",
        "           y='com2',\n",
        "           data=base2,\n",
        "           fit_reg=False,\n",
        "           legend=True,\n",
        "           size=9,\n",
        "           hue='predicted_cluster',\n",
        "           scatter_kws={\"s\":30, \"alpha\":0.3})\n",
        "\n",
        "plt.title('t-SNE Results: Digits', weight='bold').set_fontsize('14')\n",
        "plt.xlabel('Dimension 1', weight='bold').set_fontsize('10')\n",
        "plt.ylabel('Dimension 2', weight='bold').set_fontsize('10')"
      ],
      "execution_count": 231,
      "outputs": [
        {
          "output_type": "stream",
          "name": "stderr",
          "text": [
            "/usr/local/lib/python3.7/dist-packages/seaborn/regression.py:581: UserWarning: The `size` parameter has been renamed to `height`; please update your code.\n",
            "  warnings.warn(msg, UserWarning)\n"
          ]
        },
        {
          "output_type": "display_data",
          "data": {
            "image/png": "[encoded data removed]",
            "text/plain": [
              "<Figure size 773.43x648 with 1 Axes>"
            ]
          },
          "metadata": {}
        }
      ]
    },
    {
      "cell_type": "markdown",
      "metadata": {
        "id": "-WdYJH7jMWTH"
      },
      "source": [
        " ¿Se separan bien los distintos clusters en la visualización?\n",
        "\n",
        " Se puede ver que hay una separación de los datos, los clusters son visibles, pero podría ser mejor, quizas aplicar otras transformaciones (cuadráticas por ejemplo) que permitan ver los datos desde otra perspectiva, tal que se permitan separar de mejor forma."
      ]
    },
    {
      "cell_type": "markdown",
      "metadata": {
        "id": "Rg4ZMq8ezAH6",
        "cell_id": "00054-62f72afd-24c1-45b9-b80c-8b252273717c",
        "deepnote_cell_type": "markdown"
      },
      "source": [
        "# Conclusión\n",
        "Eso ha sido todo para el lab de hoy, recuerden que el laboratorio tiene un plazo de entrega de una semana y que **los días de atraso no se pueden utilizar para entregas de lab** solo para tareas. Cualquier duda del laboratorio, no duden en contactarnos por mail o U-cursos.\n",
        "\n",
        "![Gracias Totales!](https://i.pinimg.com/originals/65/ae/27/65ae270df87c3c4adcea997e48f60852.gif \"bruno\")\n"
      ]
    },
    {
      "cell_type": "markdown",
      "metadata": {
        "id": "wCL1lACBzAH7",
        "cell_id": "00055-fea25dcb-f3c3-4a66-9ca6-5d64924d7396",
        "deepnote_cell_type": "markdown"
      },
      "source": [
        "<br>\n",
        "<center>\n",
        "<img src=\"https://i.kym-cdn.com/photos/images/original/001/194/195/b18.png\" width=100 height=50 />\n",
        "</center>\n",
        "<br>"
      ]
    },
    {
      "cell_type": "markdown",
      "metadata": {
        "tags": [],
        "created_in_deepnote_cell": true,
        "deepnote_cell_type": "markdown",
        "id": "vVG7vJEHJjLs"
      },
      "source": [
        "<a style='text-decoration:none;line-height:16px;display:flex;color:#5B5B62;padding:10px;justify-content:end;' href='https://deepnote.com?utm_source=created-in-deepnote-cell&projectId=87110296-876e-426f-b91d-aaf681223468' target=\"_blank\">\n",
        "<img alt='Created in deepnote.com' style='display:inline;max-height:16px;margin:0px;margin-right:7.5px;' src='data:image/svg+xml;base64,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' > </img>\n",
        "Created in <span style='font-weight:600;margin-left:4px;'>Deepnote</span></a>"
      ]
    }
  ]
}