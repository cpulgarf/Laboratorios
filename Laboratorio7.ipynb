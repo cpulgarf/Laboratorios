{
  "nbformat": 4,
  "nbformat_minor": 0,
  "metadata": {
    "colab": {
      "name": "Laboratorio7.ipynb",
      "provenance": [],
      "collapsed_sections": []
    },
    "deepnote": {},
    "deepnote_execution_queue": [],
    "deepnote_notebook_id": "350d39d6-937f-44f2-9da5-3b4d715597f9",
    "kernelspec": {
      "display_name": "Python 3",
      "language": "python",
      "name": "python3"
    },
    "language_info": {
      "codemirror_mode": {
        "name": "ipython",
        "version": 3
      },
      "file_extension": ".py",
      "mimetype": "text/x-python",
      "name": "python",
      "nbconvert_exporter": "python",
      "pygments_lexer": "ipython3",
      "version": "3.8.3"
    },
    "toc": {
      "base_numbering": 1,
      "nav_menu": {},
      "number_sections": true,
      "sideBar": true,
      "skip_h1_title": true,
      "title_cell": "Tabla de Contenidos",
      "title_sidebar": "Contenidos",
      "toc_cell": false,
      "toc_position": {
        "height": "calc(100% - 180px)",
        "left": "10px",
        "top": "150px",
        "width": "241.867px"
      },
      "toc_section_display": true,
      "toc_window_display": true
    },
    "varInspector": {
      "cols": {
        "lenName": 16,
        "lenType": 16,
        "lenVar": 40
      },
      "kernels_config": {
        "python": {
          "delete_cmd_postfix": "",
          "delete_cmd_prefix": "del ",
          "library": "var_list.py",
          "varRefreshCmd": "print(var_dic_list())"
        },
        "r": {
          "delete_cmd_postfix": ") ",
          "delete_cmd_prefix": "rm(",
          "library": "var_list.r",
          "varRefreshCmd": "cat(var_dic_list()) "
        }
      },
      "types_to_exclude": [
        "module",
        "function",
        "builtin_function_or_method",
        "instance",
        "_Feature"
      ],
      "window_display": false
    }
  },
  "cells": [
    {
      "cell_type": "markdown",
      "metadata": {
        "id": "XUZ1dFPHzAHl"
      },
      "source": [
        "<h1><center>Laboratorio 7: Aprendizaje Supervisado 🔮</center></h1>\n",
        "\n",
        "<center><strong>MDS7202: Laboratorio de Programación Científica para Ciencia de Datos</strong></center>"
      ]
    },
    {
      "cell_type": "markdown",
      "metadata": {
        "id": "UD8X1uhGzAHq"
      },
      "source": [
        "### Cuerpo Docente:\n",
        "\n",
        "- Profesor: Pablo Badilla\n",
        "- Auxiliar: Ignacio Meza D.\n",
        "- Ayudante: Constanza Peña"
      ]
    },
    {
      "cell_type": "markdown",
      "metadata": {
        "id": "tXflExjqzAHr"
      },
      "source": [
        "### Equipo: SUPER IMPORTANTE - notebooks sin nombre no serán revisados\n",
        "\n",
        "- Nombre de alumno 1: Camila J. Pulgar Fernández\n",
        "- Nombre de alumno 2: Francisca Solís\n"
      ]
    },
    {
      "cell_type": "markdown",
      "metadata": {
        "id": "AD-V0bbZzAHr"
      },
      "source": [
        "### **Link de repositorio de GitHub:** `https://github.com/cpulgarf/Laboratorios`"
      ]
    },
    {
      "cell_type": "markdown",
      "metadata": {
        "id": "6uBLPj1PzAHs"
      },
      "source": [
        "## Temas a tratar\n",
        "\n",
        "- Aprendizaje Supervisado\n",
        "- Flujos de datos a través de `Pipelines`.\n",
        "\n",
        "## Reglas\n",
        "\n",
        "- Fecha de entrega: TBD\n",
        "- **Grupos de 2 personas**\n",
        "- **Ausentes** deberán realizar la actividad solos. \n",
        "- Cualquier duda fuera del horario de clases al foro. Mensajes al equipo docente serán respondidos por este medio.\n",
        "- Prohibidas las copias. \n",
        "- Pueden usar cualquer matrial del curso que estimen conveniente.\n",
        "\n",
        "## Objetivos principales del laboratorio\n",
        "\n",
        "- Comprender el funcionamiento de clasificadores/regresores.\n",
        "- Generar múltiples modelos predictivos.\n",
        "- Comprender las ventajas de crear modelos en pipeline vs hacer las operaciones a mano.\n",
        "\n",
        "El laboratorio deberá ser desarrollado sin el uso indiscriminado de iteradores nativos de python (aka \"for\", \"while\"). La idea es que aprendan a exprimir al máximo las funciones optimizadas que nos entrega `pandas`, las cuales vale mencionar, son bastante más eficientes que los iteradores nativos sobre `DataFrames`."
      ]
    },
    {
      "cell_type": "markdown",
      "metadata": {
        "id": "MhISwri4zAHy"
      },
      "source": [
        "#Importamos librerias utiles 😸"
      ]
    },
    {
      "cell_type": "code",
      "metadata": {
        "colab": {
          "base_uri": "https://localhost:8080/"
        },
        "id": "uyc33dKdzAHy",
        "outputId": "9b1c4655-3b47-453d-aa33-19f2b95ee233"
      },
      "source": [
        "# Libreria Core del lab.\n",
        "import numpy as np\n",
        "import pandas as pd\n",
        "from sklearn.pipeline import Pipeline\n",
        "from sklearn.compose import ColumnTransformer\n",
        "from sklearn.model_selection import train_test_split \n",
        "\n",
        "# Pre-procesamiento\n",
        "from sklearn.preprocessing import MinMaxScaler\n",
        "from sklearn.preprocessing import StandardScaler\n",
        "from sklearn.preprocessing import FunctionTransformer\n",
        "from sklearn.preprocessing import PowerTransformer\n",
        "from sklearn.preprocessing import OneHotEncoder\n",
        "from sklearn.tree import DecisionTreeClassifier\n",
        "\n",
        "# Metricas de evaluación\n",
        "from sklearn.metrics import classification_report\n",
        "from sklearn.metrics import accuracy_score\n",
        "from sklearn.metrics import f1_score\n",
        "from sklearn.metrics import cohen_kappa_score\n",
        "\n",
        "#Libreria para plotear\n",
        "!pip install --upgrade plotly\n",
        "import plotly.express as px\n",
        "from plotly.subplots import make_subplots\n",
        "import plotly.graph_objects as go\n",
        "\n",
        "# UMAP\n",
        "!pip install umap-learn"
      ],
      "execution_count": 1,
      "outputs": [
        {
          "output_type": "stream",
          "name": "stdout",
          "text": [
            "Requirement already satisfied: plotly in /usr/local/lib/python3.7/dist-packages (4.4.1)\n",
            "Collecting plotly\n",
            "  Downloading plotly-5.4.0-py2.py3-none-any.whl (25.3 MB)\n",
            "\u001b[K     |████████████████████████████████| 25.3 MB 65 kB/s \n",
            "\u001b[?25hRequirement already satisfied: six in /usr/local/lib/python3.7/dist-packages (from plotly) (1.15.0)\n",
            "Collecting tenacity>=6.2.0\n",
            "  Downloading tenacity-8.0.1-py3-none-any.whl (24 kB)\n",
            "Installing collected packages: tenacity, plotly\n",
            "  Attempting uninstall: plotly\n",
            "    Found existing installation: plotly 4.4.1\n",
            "    Uninstalling plotly-4.4.1:\n",
            "      Successfully uninstalled plotly-4.4.1\n",
            "Successfully installed plotly-5.4.0 tenacity-8.0.1\n",
            "Collecting umap-learn\n",
            "  Downloading umap-learn-0.5.2.tar.gz (86 kB)\n",
            "\u001b[K     |████████████████████████████████| 86 kB 5.1 MB/s \n",
            "\u001b[?25hRequirement already satisfied: numpy>=1.17 in /usr/local/lib/python3.7/dist-packages (from umap-learn) (1.19.5)\n",
            "Requirement already satisfied: scikit-learn>=0.22 in /usr/local/lib/python3.7/dist-packages (from umap-learn) (1.0.1)\n",
            "Requirement already satisfied: scipy>=1.0 in /usr/local/lib/python3.7/dist-packages (from umap-learn) (1.4.1)\n",
            "Requirement already satisfied: numba>=0.49 in /usr/local/lib/python3.7/dist-packages (from umap-learn) (0.51.2)\n",
            "Collecting pynndescent>=0.5\n",
            "  Downloading pynndescent-0.5.5.tar.gz (1.1 MB)\n",
            "\u001b[K     |████████████████████████████████| 1.1 MB 26.6 MB/s \n",
            "\u001b[?25hRequirement already satisfied: tqdm in /usr/local/lib/python3.7/dist-packages (from umap-learn) (4.62.3)\n",
            "Requirement already satisfied: setuptools in /usr/local/lib/python3.7/dist-packages (from numba>=0.49->umap-learn) (57.4.0)\n",
            "Requirement already satisfied: llvmlite<0.35,>=0.34.0.dev0 in /usr/local/lib/python3.7/dist-packages (from numba>=0.49->umap-learn) (0.34.0)\n",
            "Requirement already satisfied: joblib>=0.11 in /usr/local/lib/python3.7/dist-packages (from pynndescent>=0.5->umap-learn) (1.1.0)\n",
            "Requirement already satisfied: threadpoolctl>=2.0.0 in /usr/local/lib/python3.7/dist-packages (from scikit-learn>=0.22->umap-learn) (3.0.0)\n",
            "Building wheels for collected packages: umap-learn, pynndescent\n",
            "  Building wheel for umap-learn (setup.py) ... \u001b[?25l\u001b[?25hdone\n",
            "  Created wheel for umap-learn: filename=umap_learn-0.5.2-py3-none-any.whl size=82709 sha256=7ab38ea5582288937033ea61f654e7a1a8fc43d589ebe46c1fa60f4a0832d0b9\n",
            "  Stored in directory: /root/.cache/pip/wheels/84/1b/c6/aaf68a748122632967cef4dffef68224eb16798b6793257d82\n",
            "  Building wheel for pynndescent (setup.py) ... \u001b[?25l\u001b[?25hdone\n",
            "  Created wheel for pynndescent: filename=pynndescent-0.5.5-py3-none-any.whl size=52603 sha256=5fd4a14f1afce1eb982261c47080756c0a91b46216e189faed4f1f62b27e5f7e\n",
            "  Stored in directory: /root/.cache/pip/wheels/af/e9/33/04db1436df0757c42fda8ea6796d7a8586e23c85fac355f476\n",
            "Successfully built umap-learn pynndescent\n",
            "Installing collected packages: pynndescent, umap-learn\n",
            "Successfully installed pynndescent-0.5.5 umap-learn-0.5.2\n"
          ]
        }
      ]
    },
    {
      "cell_type": "markdown",
      "metadata": {
        "id": "5FTGE74b3FBU"
      },
      "source": [
        "https://www.kaggle.com/antoinekrajnc/soccer-players-statistics"
      ]
    },
    {
      "cell_type": "markdown",
      "metadata": {
        "id": "xpOTbQcxbSiy"
      },
      "source": [
        "# 1. Predicciones Futboleras\n",
        "\n",
        "<p align=\"center\">\n",
        "  <img src=\"https://drive.google.com/uc?export=view&id=1BnO4tyh3vM2P199Ec9s3JjngQ4qQ9seP\"\n",
        "\" width=\"300\">\n",
        "</p>\n",
        "\n",
        "\n",
        "Tras el trágico despido de la mítica mascota de Maipú, Renacín decide adentrarse como consultor en el mercado futbolero, el cuál (para variar...) está cargado en especulaciones. \n",
        "\n",
        "Como su principal tarea será asesorar a los directivos de los clubes sobre cuál jugador comprar y cuál no, Renacín desea generar modelos predictivos que evaluén distintas características de los jugadores; todo con el fin de tomar decisiones concretas basadas en los datos.\n",
        "\n",
        "Sin embargo, su condición de corporeo le impidió tomar la versión anterior de MDS7202, por lo que este motivo Renacín contrata a su equipo para lograr su objetivo final. Dado que aún tiene fuertes vínculos con la dirección de deportes de la municipalidad, el corporeo le entrega base de datos con las estadísticas de cada jugador para que su equipo empieze a trabajar ya con un dataset listo para ser usado.\n"
      ]
    },
    {
      "cell_type": "markdown",
      "metadata": {
        "id": "jnmZfFpxTTYX"
      },
      "source": [
        "**Los Datos**\n",
        "\n",
        "Para este laboratorio deberán trabajar con los csv `statsplayers.csv` y `salarios.pickle`, donde deberán aplicar algoritmos de de aprendizaje supervisado (clasificación y regresión) en base a características que describen de jugadores de futbol.\n",
        "\n",
        "Para comenzar cargue el dataset señalado y a continuación vea el reporte **`Player_Stats_Report.html`** (adjunto en la carpeta del enunciado) que describe las características principales del `DataFrame`."
      ]
    },
    {
      "cell_type": "code",
      "metadata": {
        "id": "Jqq-s010Iwl1"
      },
      "source": [
        "# Si usted está utilizando Colabolatory le puede ser útil este código para cargar los archivos.\n",
        "try:\n",
        "    from google.colab import drive\n",
        "    drive.mount(\"/content/drive\")\n",
        "    path = 'Dirección donde tiene los archivos en el Drive'\n",
        "except: \n",
        "    print('Ignorando conexión drive-colab')"
      ],
      "execution_count": null,
      "outputs": []
    },
    {
      "cell_type": "code",
      "metadata": {
        "colab": {
          "base_uri": "https://localhost:8080/",
          "height": 617
        },
        "id": "bED3w3tDbSCf",
        "outputId": "d72a875a-dd1e-4257-b923-56a26a9b54c2"
      },
      "source": [
        "df_players = pd.read_csv('/content/stats_players.csv')\n",
        "df_players"
      ],
      "execution_count": 4,
      "outputs": [
        {
          "output_type": "execute_result",
          "data": {
            "text/html": [
              "<div>\n",
              "<style scoped>\n",
              "    .dataframe tbody tr th:only-of-type {\n",
              "        vertical-align: middle;\n",
              "    }\n",
              "\n",
              "    .dataframe tbody tr th {\n",
              "        vertical-align: top;\n",
              "    }\n",
              "\n",
              "    .dataframe thead th {\n",
              "        text-align: right;\n",
              "    }\n",
              "</style>\n",
              "<table border=\"1\" class=\"dataframe\">\n",
              "  <thead>\n",
              "    <tr style=\"text-align: right;\">\n",
              "      <th></th>\n",
              "      <th>Name</th>\n",
              "      <th>Nationality</th>\n",
              "      <th>National_Position</th>\n",
              "      <th>Club_Position</th>\n",
              "      <th>Height</th>\n",
              "      <th>Weight</th>\n",
              "      <th>Preffered_Foot</th>\n",
              "      <th>Age</th>\n",
              "      <th>Work_Rate</th>\n",
              "      <th>Weak_foot</th>\n",
              "      <th>Skill_Moves</th>\n",
              "      <th>Ball_Control</th>\n",
              "      <th>Dribbling</th>\n",
              "      <th>Marking</th>\n",
              "      <th>Sliding_Tackle</th>\n",
              "      <th>Standing_Tackle</th>\n",
              "      <th>Aggression</th>\n",
              "      <th>Reactions</th>\n",
              "      <th>Interceptions</th>\n",
              "      <th>Vision</th>\n",
              "      <th>Composure</th>\n",
              "      <th>Crossing</th>\n",
              "      <th>Short_Pass</th>\n",
              "      <th>Long_Pass</th>\n",
              "      <th>Acceleration</th>\n",
              "      <th>Speed</th>\n",
              "      <th>Stamina</th>\n",
              "      <th>Strength</th>\n",
              "      <th>Balance</th>\n",
              "      <th>Agility</th>\n",
              "      <th>Jumping</th>\n",
              "      <th>Heading</th>\n",
              "      <th>Shot_Power</th>\n",
              "      <th>Finishing</th>\n",
              "      <th>Long_Shots</th>\n",
              "      <th>Curve</th>\n",
              "      <th>Freekick_Accuracy</th>\n",
              "      <th>Penalties</th>\n",
              "      <th>Volleys</th>\n",
              "    </tr>\n",
              "  </thead>\n",
              "  <tbody>\n",
              "    <tr>\n",
              "      <th>0</th>\n",
              "      <td>Cristiano Ronaldo</td>\n",
              "      <td>Portugal</td>\n",
              "      <td>LS</td>\n",
              "      <td>LW</td>\n",
              "      <td>185</td>\n",
              "      <td>80</td>\n",
              "      <td>Right</td>\n",
              "      <td>32</td>\n",
              "      <td>High / Low</td>\n",
              "      <td>4</td>\n",
              "      <td>5</td>\n",
              "      <td>93</td>\n",
              "      <td>92</td>\n",
              "      <td>22</td>\n",
              "      <td>23</td>\n",
              "      <td>31</td>\n",
              "      <td>63</td>\n",
              "      <td>96</td>\n",
              "      <td>29</td>\n",
              "      <td>85</td>\n",
              "      <td>86</td>\n",
              "      <td>84</td>\n",
              "      <td>83</td>\n",
              "      <td>77</td>\n",
              "      <td>91</td>\n",
              "      <td>92</td>\n",
              "      <td>92</td>\n",
              "      <td>80</td>\n",
              "      <td>63</td>\n",
              "      <td>90</td>\n",
              "      <td>95</td>\n",
              "      <td>85</td>\n",
              "      <td>92</td>\n",
              "      <td>93</td>\n",
              "      <td>90</td>\n",
              "      <td>81</td>\n",
              "      <td>76</td>\n",
              "      <td>85</td>\n",
              "      <td>88</td>\n",
              "    </tr>\n",
              "    <tr>\n",
              "      <th>1</th>\n",
              "      <td>Lionel Messi</td>\n",
              "      <td>Argentina</td>\n",
              "      <td>RW</td>\n",
              "      <td>RW</td>\n",
              "      <td>170</td>\n",
              "      <td>72</td>\n",
              "      <td>Left</td>\n",
              "      <td>29</td>\n",
              "      <td>Medium / Medium</td>\n",
              "      <td>4</td>\n",
              "      <td>4</td>\n",
              "      <td>95</td>\n",
              "      <td>97</td>\n",
              "      <td>13</td>\n",
              "      <td>26</td>\n",
              "      <td>28</td>\n",
              "      <td>48</td>\n",
              "      <td>95</td>\n",
              "      <td>22</td>\n",
              "      <td>90</td>\n",
              "      <td>94</td>\n",
              "      <td>77</td>\n",
              "      <td>88</td>\n",
              "      <td>87</td>\n",
              "      <td>92</td>\n",
              "      <td>87</td>\n",
              "      <td>74</td>\n",
              "      <td>59</td>\n",
              "      <td>95</td>\n",
              "      <td>90</td>\n",
              "      <td>68</td>\n",
              "      <td>71</td>\n",
              "      <td>85</td>\n",
              "      <td>95</td>\n",
              "      <td>88</td>\n",
              "      <td>89</td>\n",
              "      <td>90</td>\n",
              "      <td>74</td>\n",
              "      <td>85</td>\n",
              "    </tr>\n",
              "    <tr>\n",
              "      <th>2</th>\n",
              "      <td>Neymar</td>\n",
              "      <td>Brazil</td>\n",
              "      <td>LW</td>\n",
              "      <td>LW</td>\n",
              "      <td>174</td>\n",
              "      <td>68</td>\n",
              "      <td>Right</td>\n",
              "      <td>25</td>\n",
              "      <td>High / Medium</td>\n",
              "      <td>5</td>\n",
              "      <td>5</td>\n",
              "      <td>95</td>\n",
              "      <td>96</td>\n",
              "      <td>21</td>\n",
              "      <td>33</td>\n",
              "      <td>24</td>\n",
              "      <td>56</td>\n",
              "      <td>88</td>\n",
              "      <td>36</td>\n",
              "      <td>80</td>\n",
              "      <td>80</td>\n",
              "      <td>75</td>\n",
              "      <td>81</td>\n",
              "      <td>75</td>\n",
              "      <td>93</td>\n",
              "      <td>90</td>\n",
              "      <td>79</td>\n",
              "      <td>49</td>\n",
              "      <td>82</td>\n",
              "      <td>96</td>\n",
              "      <td>61</td>\n",
              "      <td>62</td>\n",
              "      <td>78</td>\n",
              "      <td>89</td>\n",
              "      <td>77</td>\n",
              "      <td>79</td>\n",
              "      <td>84</td>\n",
              "      <td>81</td>\n",
              "      <td>83</td>\n",
              "    </tr>\n",
              "    <tr>\n",
              "      <th>3</th>\n",
              "      <td>Luis Suárez</td>\n",
              "      <td>Uruguay</td>\n",
              "      <td>LS</td>\n",
              "      <td>ST</td>\n",
              "      <td>182</td>\n",
              "      <td>85</td>\n",
              "      <td>Right</td>\n",
              "      <td>30</td>\n",
              "      <td>High / Medium</td>\n",
              "      <td>4</td>\n",
              "      <td>4</td>\n",
              "      <td>91</td>\n",
              "      <td>86</td>\n",
              "      <td>30</td>\n",
              "      <td>38</td>\n",
              "      <td>45</td>\n",
              "      <td>78</td>\n",
              "      <td>93</td>\n",
              "      <td>41</td>\n",
              "      <td>84</td>\n",
              "      <td>83</td>\n",
              "      <td>77</td>\n",
              "      <td>83</td>\n",
              "      <td>64</td>\n",
              "      <td>88</td>\n",
              "      <td>77</td>\n",
              "      <td>89</td>\n",
              "      <td>76</td>\n",
              "      <td>60</td>\n",
              "      <td>86</td>\n",
              "      <td>69</td>\n",
              "      <td>77</td>\n",
              "      <td>87</td>\n",
              "      <td>94</td>\n",
              "      <td>86</td>\n",
              "      <td>86</td>\n",
              "      <td>84</td>\n",
              "      <td>85</td>\n",
              "      <td>88</td>\n",
              "    </tr>\n",
              "    <tr>\n",
              "      <th>4</th>\n",
              "      <td>Manuel Neuer</td>\n",
              "      <td>Germany</td>\n",
              "      <td>GK</td>\n",
              "      <td>GK</td>\n",
              "      <td>193</td>\n",
              "      <td>92</td>\n",
              "      <td>Right</td>\n",
              "      <td>31</td>\n",
              "      <td>Medium / Medium</td>\n",
              "      <td>4</td>\n",
              "      <td>1</td>\n",
              "      <td>48</td>\n",
              "      <td>30</td>\n",
              "      <td>10</td>\n",
              "      <td>11</td>\n",
              "      <td>10</td>\n",
              "      <td>29</td>\n",
              "      <td>85</td>\n",
              "      <td>30</td>\n",
              "      <td>70</td>\n",
              "      <td>70</td>\n",
              "      <td>15</td>\n",
              "      <td>55</td>\n",
              "      <td>59</td>\n",
              "      <td>58</td>\n",
              "      <td>61</td>\n",
              "      <td>44</td>\n",
              "      <td>83</td>\n",
              "      <td>35</td>\n",
              "      <td>52</td>\n",
              "      <td>78</td>\n",
              "      <td>25</td>\n",
              "      <td>25</td>\n",
              "      <td>13</td>\n",
              "      <td>16</td>\n",
              "      <td>14</td>\n",
              "      <td>11</td>\n",
              "      <td>47</td>\n",
              "      <td>11</td>\n",
              "    </tr>\n",
              "    <tr>\n",
              "      <th>...</th>\n",
              "      <td>...</td>\n",
              "      <td>...</td>\n",
              "      <td>...</td>\n",
              "      <td>...</td>\n",
              "      <td>...</td>\n",
              "      <td>...</td>\n",
              "      <td>...</td>\n",
              "      <td>...</td>\n",
              "      <td>...</td>\n",
              "      <td>...</td>\n",
              "      <td>...</td>\n",
              "      <td>...</td>\n",
              "      <td>...</td>\n",
              "      <td>...</td>\n",
              "      <td>...</td>\n",
              "      <td>...</td>\n",
              "      <td>...</td>\n",
              "      <td>...</td>\n",
              "      <td>...</td>\n",
              "      <td>...</td>\n",
              "      <td>...</td>\n",
              "      <td>...</td>\n",
              "      <td>...</td>\n",
              "      <td>...</td>\n",
              "      <td>...</td>\n",
              "      <td>...</td>\n",
              "      <td>...</td>\n",
              "      <td>...</td>\n",
              "      <td>...</td>\n",
              "      <td>...</td>\n",
              "      <td>...</td>\n",
              "      <td>...</td>\n",
              "      <td>...</td>\n",
              "      <td>...</td>\n",
              "      <td>...</td>\n",
              "      <td>...</td>\n",
              "      <td>...</td>\n",
              "      <td>...</td>\n",
              "      <td>...</td>\n",
              "    </tr>\n",
              "    <tr>\n",
              "      <th>17583</th>\n",
              "      <td>Adam Dunbar</td>\n",
              "      <td>Republic of Ireland</td>\n",
              "      <td>NaN</td>\n",
              "      <td>Sub</td>\n",
              "      <td>183</td>\n",
              "      <td>82</td>\n",
              "      <td>Right</td>\n",
              "      <td>19</td>\n",
              "      <td>Medium / Medium</td>\n",
              "      <td>1</td>\n",
              "      <td>1</td>\n",
              "      <td>12</td>\n",
              "      <td>11</td>\n",
              "      <td>12</td>\n",
              "      <td>12</td>\n",
              "      <td>13</td>\n",
              "      <td>25</td>\n",
              "      <td>48</td>\n",
              "      <td>12</td>\n",
              "      <td>37</td>\n",
              "      <td>35</td>\n",
              "      <td>12</td>\n",
              "      <td>22</td>\n",
              "      <td>19</td>\n",
              "      <td>25</td>\n",
              "      <td>21</td>\n",
              "      <td>17</td>\n",
              "      <td>52</td>\n",
              "      <td>52</td>\n",
              "      <td>27</td>\n",
              "      <td>56</td>\n",
              "      <td>14</td>\n",
              "      <td>16</td>\n",
              "      <td>13</td>\n",
              "      <td>13</td>\n",
              "      <td>11</td>\n",
              "      <td>13</td>\n",
              "      <td>15</td>\n",
              "      <td>12</td>\n",
              "    </tr>\n",
              "    <tr>\n",
              "      <th>17584</th>\n",
              "      <td>Dylan McGoey</td>\n",
              "      <td>Republic of Ireland</td>\n",
              "      <td>NaN</td>\n",
              "      <td>Sub</td>\n",
              "      <td>185</td>\n",
              "      <td>80</td>\n",
              "      <td>Right</td>\n",
              "      <td>19</td>\n",
              "      <td>Medium / Medium</td>\n",
              "      <td>2</td>\n",
              "      <td>1</td>\n",
              "      <td>13</td>\n",
              "      <td>11</td>\n",
              "      <td>11</td>\n",
              "      <td>12</td>\n",
              "      <td>11</td>\n",
              "      <td>15</td>\n",
              "      <td>43</td>\n",
              "      <td>12</td>\n",
              "      <td>27</td>\n",
              "      <td>22</td>\n",
              "      <td>14</td>\n",
              "      <td>27</td>\n",
              "      <td>26</td>\n",
              "      <td>16</td>\n",
              "      <td>19</td>\n",
              "      <td>21</td>\n",
              "      <td>42</td>\n",
              "      <td>45</td>\n",
              "      <td>28</td>\n",
              "      <td>53</td>\n",
              "      <td>12</td>\n",
              "      <td>17</td>\n",
              "      <td>12</td>\n",
              "      <td>11</td>\n",
              "      <td>12</td>\n",
              "      <td>13</td>\n",
              "      <td>16</td>\n",
              "      <td>12</td>\n",
              "    </tr>\n",
              "    <tr>\n",
              "      <th>17585</th>\n",
              "      <td>Tommy Ouldridge</td>\n",
              "      <td>England</td>\n",
              "      <td>NaN</td>\n",
              "      <td>Res</td>\n",
              "      <td>173</td>\n",
              "      <td>61</td>\n",
              "      <td>Right</td>\n",
              "      <td>18</td>\n",
              "      <td>High / Medium</td>\n",
              "      <td>2</td>\n",
              "      <td>2</td>\n",
              "      <td>44</td>\n",
              "      <td>39</td>\n",
              "      <td>40</td>\n",
              "      <td>29</td>\n",
              "      <td>35</td>\n",
              "      <td>44</td>\n",
              "      <td>42</td>\n",
              "      <td>38</td>\n",
              "      <td>41</td>\n",
              "      <td>35</td>\n",
              "      <td>35</td>\n",
              "      <td>48</td>\n",
              "      <td>42</td>\n",
              "      <td>62</td>\n",
              "      <td>60</td>\n",
              "      <td>64</td>\n",
              "      <td>34</td>\n",
              "      <td>83</td>\n",
              "      <td>54</td>\n",
              "      <td>61</td>\n",
              "      <td>41</td>\n",
              "      <td>44</td>\n",
              "      <td>28</td>\n",
              "      <td>42</td>\n",
              "      <td>35</td>\n",
              "      <td>36</td>\n",
              "      <td>42</td>\n",
              "      <td>37</td>\n",
              "    </tr>\n",
              "    <tr>\n",
              "      <th>17586</th>\n",
              "      <td>Mark Foden</td>\n",
              "      <td>Scotland</td>\n",
              "      <td>NaN</td>\n",
              "      <td>Sub</td>\n",
              "      <td>180</td>\n",
              "      <td>80</td>\n",
              "      <td>Right</td>\n",
              "      <td>21</td>\n",
              "      <td>Medium / Medium</td>\n",
              "      <td>3</td>\n",
              "      <td>1</td>\n",
              "      <td>17</td>\n",
              "      <td>13</td>\n",
              "      <td>11</td>\n",
              "      <td>11</td>\n",
              "      <td>14</td>\n",
              "      <td>23</td>\n",
              "      <td>46</td>\n",
              "      <td>12</td>\n",
              "      <td>13</td>\n",
              "      <td>28</td>\n",
              "      <td>15</td>\n",
              "      <td>20</td>\n",
              "      <td>15</td>\n",
              "      <td>42</td>\n",
              "      <td>40</td>\n",
              "      <td>40</td>\n",
              "      <td>61</td>\n",
              "      <td>60</td>\n",
              "      <td>34</td>\n",
              "      <td>48</td>\n",
              "      <td>15</td>\n",
              "      <td>23</td>\n",
              "      <td>14</td>\n",
              "      <td>12</td>\n",
              "      <td>13</td>\n",
              "      <td>12</td>\n",
              "      <td>24</td>\n",
              "      <td>12</td>\n",
              "    </tr>\n",
              "    <tr>\n",
              "      <th>17587</th>\n",
              "      <td>Barry Richardson</td>\n",
              "      <td>England</td>\n",
              "      <td>NaN</td>\n",
              "      <td>Sub</td>\n",
              "      <td>185</td>\n",
              "      <td>77</td>\n",
              "      <td>Right</td>\n",
              "      <td>47</td>\n",
              "      <td>Medium / Medium</td>\n",
              "      <td>2</td>\n",
              "      <td>1</td>\n",
              "      <td>22</td>\n",
              "      <td>11</td>\n",
              "      <td>14</td>\n",
              "      <td>13</td>\n",
              "      <td>12</td>\n",
              "      <td>44</td>\n",
              "      <td>38</td>\n",
              "      <td>16</td>\n",
              "      <td>17</td>\n",
              "      <td>44</td>\n",
              "      <td>11</td>\n",
              "      <td>12</td>\n",
              "      <td>13</td>\n",
              "      <td>25</td>\n",
              "      <td>25</td>\n",
              "      <td>32</td>\n",
              "      <td>47</td>\n",
              "      <td>44</td>\n",
              "      <td>38</td>\n",
              "      <td>51</td>\n",
              "      <td>12</td>\n",
              "      <td>13</td>\n",
              "      <td>11</td>\n",
              "      <td>16</td>\n",
              "      <td>12</td>\n",
              "      <td>11</td>\n",
              "      <td>22</td>\n",
              "      <td>12</td>\n",
              "    </tr>\n",
              "  </tbody>\n",
              "</table>\n",
              "<p>17588 rows × 39 columns</p>\n",
              "</div>"
            ],
            "text/plain": [
              "                    Name          Nationality  ... Penalties Volleys\n",
              "0      Cristiano Ronaldo             Portugal  ...        85      88\n",
              "1           Lionel Messi            Argentina  ...        74      85\n",
              "2                 Neymar               Brazil  ...        81      83\n",
              "3            Luis Suárez              Uruguay  ...        85      88\n",
              "4           Manuel Neuer              Germany  ...        47      11\n",
              "...                  ...                  ...  ...       ...     ...\n",
              "17583        Adam Dunbar  Republic of Ireland  ...        15      12\n",
              "17584       Dylan McGoey  Republic of Ireland  ...        16      12\n",
              "17585    Tommy Ouldridge              England  ...        42      37\n",
              "17586         Mark Foden             Scotland  ...        24      12\n",
              "17587   Barry Richardson              England  ...        22      12\n",
              "\n",
              "[17588 rows x 39 columns]"
            ]
          },
          "metadata": {},
          "execution_count": 4
        }
      ]
    },
    {
      "cell_type": "markdown",
      "metadata": {
        "id": "2R3b7Qe501t5"
      },
      "source": [
        "## 1.1 Predicción de Seleccionados Nacionales \n",
        "\n",
        "Como primera tarea, Renacín, intrigado por la posibilidad de saber qué tan reconocido es un jugador, le consulta a su equipo si es posible predecir si un jugador será o no seleccionado nacional a partir de sus estadísticas en el juego. \n",
        "\n",
        "<p align=\"center\">\n",
        "  <img src=\"https://thumbs.gfycat.com/ThornyFrankFoxhound-size_restricted.gif\" width=\"500\">\n",
        "</p>"
      ]
    },
    {
      "cell_type": "markdown",
      "metadata": {
        "id": "PIe_Ha58pQRC"
      },
      "source": [
        "### 1.1.1 Generación de Labels para la Clasificación [Sin Puntaje]\n",
        "\n",
        "\n",
        "Primero comience generando las labels para la clasificación. Para esto, trabaje sobre el atributo ```National_Position``` suponiendo que los valores nulos son jugadores no seleccionados para representar a su país. \n",
        "\n",
        "Hecho esto, ¿Cuantos ejemplos por cada clase se tienen? Comente lo que observa.\n",
        "\n"
      ]
    },
    {
      "cell_type": "markdown",
      "metadata": {
        "id": "VvRLjchacXob"
      },
      "source": [
        "**Respuesta:**"
      ]
    },
    {
      "cell_type": "code",
      "metadata": {
        "id": "uwKaIuho4lqn"
      },
      "source": [
        "df_players['Seleccionado_Nacional'] = df_players['National_Position'].fillna(0)  \n",
        "df_players.loc[df_players['Seleccionado_Nacional'] != 0, 'Seleccionado_Nacional'] = 1"
      ],
      "execution_count": 5,
      "outputs": []
    },
    {
      "cell_type": "code",
      "metadata": {
        "colab": {
          "base_uri": "https://localhost:8080/",
          "height": 313
        },
        "id": "bIYlxw6DOIHN",
        "outputId": "253992c9-43ef-408e-a830-a3b343a26c8b"
      },
      "source": [
        "df_players.head(5)"
      ],
      "execution_count": 6,
      "outputs": [
        {
          "output_type": "execute_result",
          "data": {
            "text/html": [
              "<div>\n",
              "<style scoped>\n",
              "    .dataframe tbody tr th:only-of-type {\n",
              "        vertical-align: middle;\n",
              "    }\n",
              "\n",
              "    .dataframe tbody tr th {\n",
              "        vertical-align: top;\n",
              "    }\n",
              "\n",
              "    .dataframe thead th {\n",
              "        text-align: right;\n",
              "    }\n",
              "</style>\n",
              "<table border=\"1\" class=\"dataframe\">\n",
              "  <thead>\n",
              "    <tr style=\"text-align: right;\">\n",
              "      <th></th>\n",
              "      <th>Name</th>\n",
              "      <th>Nationality</th>\n",
              "      <th>National_Position</th>\n",
              "      <th>Club_Position</th>\n",
              "      <th>Height</th>\n",
              "      <th>Weight</th>\n",
              "      <th>Preffered_Foot</th>\n",
              "      <th>Age</th>\n",
              "      <th>Work_Rate</th>\n",
              "      <th>Weak_foot</th>\n",
              "      <th>Skill_Moves</th>\n",
              "      <th>Ball_Control</th>\n",
              "      <th>Dribbling</th>\n",
              "      <th>Marking</th>\n",
              "      <th>Sliding_Tackle</th>\n",
              "      <th>Standing_Tackle</th>\n",
              "      <th>Aggression</th>\n",
              "      <th>Reactions</th>\n",
              "      <th>Interceptions</th>\n",
              "      <th>Vision</th>\n",
              "      <th>Composure</th>\n",
              "      <th>Crossing</th>\n",
              "      <th>Short_Pass</th>\n",
              "      <th>Long_Pass</th>\n",
              "      <th>Acceleration</th>\n",
              "      <th>Speed</th>\n",
              "      <th>Stamina</th>\n",
              "      <th>Strength</th>\n",
              "      <th>Balance</th>\n",
              "      <th>Agility</th>\n",
              "      <th>Jumping</th>\n",
              "      <th>Heading</th>\n",
              "      <th>Shot_Power</th>\n",
              "      <th>Finishing</th>\n",
              "      <th>Long_Shots</th>\n",
              "      <th>Curve</th>\n",
              "      <th>Freekick_Accuracy</th>\n",
              "      <th>Penalties</th>\n",
              "      <th>Volleys</th>\n",
              "      <th>Seleccionado_Nacional</th>\n",
              "    </tr>\n",
              "  </thead>\n",
              "  <tbody>\n",
              "    <tr>\n",
              "      <th>0</th>\n",
              "      <td>Cristiano Ronaldo</td>\n",
              "      <td>Portugal</td>\n",
              "      <td>LS</td>\n",
              "      <td>LW</td>\n",
              "      <td>185</td>\n",
              "      <td>80</td>\n",
              "      <td>Right</td>\n",
              "      <td>32</td>\n",
              "      <td>High / Low</td>\n",
              "      <td>4</td>\n",
              "      <td>5</td>\n",
              "      <td>93</td>\n",
              "      <td>92</td>\n",
              "      <td>22</td>\n",
              "      <td>23</td>\n",
              "      <td>31</td>\n",
              "      <td>63</td>\n",
              "      <td>96</td>\n",
              "      <td>29</td>\n",
              "      <td>85</td>\n",
              "      <td>86</td>\n",
              "      <td>84</td>\n",
              "      <td>83</td>\n",
              "      <td>77</td>\n",
              "      <td>91</td>\n",
              "      <td>92</td>\n",
              "      <td>92</td>\n",
              "      <td>80</td>\n",
              "      <td>63</td>\n",
              "      <td>90</td>\n",
              "      <td>95</td>\n",
              "      <td>85</td>\n",
              "      <td>92</td>\n",
              "      <td>93</td>\n",
              "      <td>90</td>\n",
              "      <td>81</td>\n",
              "      <td>76</td>\n",
              "      <td>85</td>\n",
              "      <td>88</td>\n",
              "      <td>1</td>\n",
              "    </tr>\n",
              "    <tr>\n",
              "      <th>1</th>\n",
              "      <td>Lionel Messi</td>\n",
              "      <td>Argentina</td>\n",
              "      <td>RW</td>\n",
              "      <td>RW</td>\n",
              "      <td>170</td>\n",
              "      <td>72</td>\n",
              "      <td>Left</td>\n",
              "      <td>29</td>\n",
              "      <td>Medium / Medium</td>\n",
              "      <td>4</td>\n",
              "      <td>4</td>\n",
              "      <td>95</td>\n",
              "      <td>97</td>\n",
              "      <td>13</td>\n",
              "      <td>26</td>\n",
              "      <td>28</td>\n",
              "      <td>48</td>\n",
              "      <td>95</td>\n",
              "      <td>22</td>\n",
              "      <td>90</td>\n",
              "      <td>94</td>\n",
              "      <td>77</td>\n",
              "      <td>88</td>\n",
              "      <td>87</td>\n",
              "      <td>92</td>\n",
              "      <td>87</td>\n",
              "      <td>74</td>\n",
              "      <td>59</td>\n",
              "      <td>95</td>\n",
              "      <td>90</td>\n",
              "      <td>68</td>\n",
              "      <td>71</td>\n",
              "      <td>85</td>\n",
              "      <td>95</td>\n",
              "      <td>88</td>\n",
              "      <td>89</td>\n",
              "      <td>90</td>\n",
              "      <td>74</td>\n",
              "      <td>85</td>\n",
              "      <td>1</td>\n",
              "    </tr>\n",
              "    <tr>\n",
              "      <th>2</th>\n",
              "      <td>Neymar</td>\n",
              "      <td>Brazil</td>\n",
              "      <td>LW</td>\n",
              "      <td>LW</td>\n",
              "      <td>174</td>\n",
              "      <td>68</td>\n",
              "      <td>Right</td>\n",
              "      <td>25</td>\n",
              "      <td>High / Medium</td>\n",
              "      <td>5</td>\n",
              "      <td>5</td>\n",
              "      <td>95</td>\n",
              "      <td>96</td>\n",
              "      <td>21</td>\n",
              "      <td>33</td>\n",
              "      <td>24</td>\n",
              "      <td>56</td>\n",
              "      <td>88</td>\n",
              "      <td>36</td>\n",
              "      <td>80</td>\n",
              "      <td>80</td>\n",
              "      <td>75</td>\n",
              "      <td>81</td>\n",
              "      <td>75</td>\n",
              "      <td>93</td>\n",
              "      <td>90</td>\n",
              "      <td>79</td>\n",
              "      <td>49</td>\n",
              "      <td>82</td>\n",
              "      <td>96</td>\n",
              "      <td>61</td>\n",
              "      <td>62</td>\n",
              "      <td>78</td>\n",
              "      <td>89</td>\n",
              "      <td>77</td>\n",
              "      <td>79</td>\n",
              "      <td>84</td>\n",
              "      <td>81</td>\n",
              "      <td>83</td>\n",
              "      <td>1</td>\n",
              "    </tr>\n",
              "    <tr>\n",
              "      <th>3</th>\n",
              "      <td>Luis Suárez</td>\n",
              "      <td>Uruguay</td>\n",
              "      <td>LS</td>\n",
              "      <td>ST</td>\n",
              "      <td>182</td>\n",
              "      <td>85</td>\n",
              "      <td>Right</td>\n",
              "      <td>30</td>\n",
              "      <td>High / Medium</td>\n",
              "      <td>4</td>\n",
              "      <td>4</td>\n",
              "      <td>91</td>\n",
              "      <td>86</td>\n",
              "      <td>30</td>\n",
              "      <td>38</td>\n",
              "      <td>45</td>\n",
              "      <td>78</td>\n",
              "      <td>93</td>\n",
              "      <td>41</td>\n",
              "      <td>84</td>\n",
              "      <td>83</td>\n",
              "      <td>77</td>\n",
              "      <td>83</td>\n",
              "      <td>64</td>\n",
              "      <td>88</td>\n",
              "      <td>77</td>\n",
              "      <td>89</td>\n",
              "      <td>76</td>\n",
              "      <td>60</td>\n",
              "      <td>86</td>\n",
              "      <td>69</td>\n",
              "      <td>77</td>\n",
              "      <td>87</td>\n",
              "      <td>94</td>\n",
              "      <td>86</td>\n",
              "      <td>86</td>\n",
              "      <td>84</td>\n",
              "      <td>85</td>\n",
              "      <td>88</td>\n",
              "      <td>1</td>\n",
              "    </tr>\n",
              "    <tr>\n",
              "      <th>4</th>\n",
              "      <td>Manuel Neuer</td>\n",
              "      <td>Germany</td>\n",
              "      <td>GK</td>\n",
              "      <td>GK</td>\n",
              "      <td>193</td>\n",
              "      <td>92</td>\n",
              "      <td>Right</td>\n",
              "      <td>31</td>\n",
              "      <td>Medium / Medium</td>\n",
              "      <td>4</td>\n",
              "      <td>1</td>\n",
              "      <td>48</td>\n",
              "      <td>30</td>\n",
              "      <td>10</td>\n",
              "      <td>11</td>\n",
              "      <td>10</td>\n",
              "      <td>29</td>\n",
              "      <td>85</td>\n",
              "      <td>30</td>\n",
              "      <td>70</td>\n",
              "      <td>70</td>\n",
              "      <td>15</td>\n",
              "      <td>55</td>\n",
              "      <td>59</td>\n",
              "      <td>58</td>\n",
              "      <td>61</td>\n",
              "      <td>44</td>\n",
              "      <td>83</td>\n",
              "      <td>35</td>\n",
              "      <td>52</td>\n",
              "      <td>78</td>\n",
              "      <td>25</td>\n",
              "      <td>25</td>\n",
              "      <td>13</td>\n",
              "      <td>16</td>\n",
              "      <td>14</td>\n",
              "      <td>11</td>\n",
              "      <td>47</td>\n",
              "      <td>11</td>\n",
              "      <td>1</td>\n",
              "    </tr>\n",
              "  </tbody>\n",
              "</table>\n",
              "</div>"
            ],
            "text/plain": [
              "                Name Nationality  ... Volleys Seleccionado_Nacional\n",
              "0  Cristiano Ronaldo    Portugal  ...      88                     1\n",
              "1       Lionel Messi   Argentina  ...      85                     1\n",
              "2             Neymar      Brazil  ...      83                     1\n",
              "3        Luis Suárez     Uruguay  ...      88                     1\n",
              "4       Manuel Neuer     Germany  ...      11                     1\n",
              "\n",
              "[5 rows x 40 columns]"
            ]
          },
          "metadata": {},
          "execution_count": 6
        }
      ]
    },
    {
      "cell_type": "code",
      "metadata": {
        "colab": {
          "base_uri": "https://localhost:8080/"
        },
        "id": "8piIsSjSLn13",
        "outputId": "ef337d12-bd15-450e-9072-f5bc45158dff"
      },
      "source": [
        "df_players.groupby('Seleccionado_Nacional')['Seleccionado_Nacional'].count()"
      ],
      "execution_count": 7,
      "outputs": [
        {
          "output_type": "execute_result",
          "data": {
            "text/plain": [
              "Seleccionado_Nacional\n",
              "0    16513\n",
              "1     1075\n",
              "Name: Seleccionado_Nacional, dtype: int64"
            ]
          },
          "metadata": {},
          "execution_count": 7
        }
      ]
    },
    {
      "cell_type": "code",
      "metadata": {
        "colab": {
          "base_uri": "https://localhost:8080/"
        },
        "id": "ZmdTqkz2PQOv",
        "outputId": "6d72a489-1d81-4185-c929-05c5e0c0938c"
      },
      "source": [
        "df_players[\"Seleccionado_Nacional\"].value_counts().sort_values(ascending=False)/len(df_players) * 100"
      ],
      "execution_count": 8,
      "outputs": [
        {
          "output_type": "execute_result",
          "data": {
            "text/plain": [
              "0    93.887878\n",
              "1     6.112122\n",
              "Name: Seleccionado_Nacional, dtype: float64"
            ]
          },
          "metadata": {},
          "execution_count": 8
        }
      ]
    },
    {
      "cell_type": "code",
      "metadata": {
        "colab": {
          "base_uri": "https://localhost:8080/",
          "height": 298
        },
        "id": "k-ISgLbXPYL8",
        "outputId": "ff7547f6-568f-426c-c72a-262ca928d4e3"
      },
      "source": [
        "import seaborn as sns\n",
        "sns.countplot(x='Seleccionado_Nacional',data=df_players)"
      ],
      "execution_count": 9,
      "outputs": [
        {
          "output_type": "execute_result",
          "data": {
            "text/plain": [
              "<matplotlib.axes._subplots.AxesSubplot at 0x7f335c8ecad0>"
            ]
          },
          "metadata": {},
          "execution_count": 9
        },
        {
          "output_type": "display_data",
          "data": {
            "image/png": "[encoded data removed]",
            "text/plain": [
              "<Figure size 432x288 with 1 Axes>"
            ]
          },
          "metadata": {
            "needs_background": "light"
          }
        }
      ]
    },
    {
      "cell_type": "code",
      "metadata": {
        "colab": {
          "base_uri": "https://localhost:8080/"
        },
        "id": "LqMDdscanNHr",
        "outputId": "fe9f1242-bc78-494f-f933-e0a3c15c60f9"
      },
      "source": [
        "df_players.isna().sum()"
      ],
      "execution_count": 10,
      "outputs": [
        {
          "output_type": "execute_result",
          "data": {
            "text/plain": [
              "Name                         0\n",
              "Nationality                  0\n",
              "National_Position        16513\n",
              "Club_Position                1\n",
              "Height                       0\n",
              "Weight                       0\n",
              "Preffered_Foot               0\n",
              "Age                          0\n",
              "Work_Rate                    0\n",
              "Weak_foot                    0\n",
              "Skill_Moves                  0\n",
              "Ball_Control                 0\n",
              "Dribbling                    0\n",
              "Marking                      0\n",
              "Sliding_Tackle               0\n",
              "Standing_Tackle              0\n",
              "Aggression                   0\n",
              "Reactions                    0\n",
              "Interceptions                0\n",
              "Vision                       0\n",
              "Composure                    0\n",
              "Crossing                     0\n",
              "Short_Pass                   0\n",
              "Long_Pass                    0\n",
              "Acceleration                 0\n",
              "Speed                        0\n",
              "Stamina                      0\n",
              "Strength                     0\n",
              "Balance                      0\n",
              "Agility                      0\n",
              "Jumping                      0\n",
              "Heading                      0\n",
              "Shot_Power                   0\n",
              "Finishing                    0\n",
              "Long_Shots                   0\n",
              "Curve                        0\n",
              "Freekick_Accuracy            0\n",
              "Penalties                    0\n",
              "Volleys                      0\n",
              "Seleccionado_Nacional        0\n",
              "dtype: int64"
            ]
          },
          "metadata": {},
          "execution_count": 10
        }
      ]
    },
    {
      "cell_type": "markdown",
      "metadata": {
        "id": "Ak9ulc-8Piuz"
      },
      "source": [
        "Se observa que un 93.88% (16513) de los jugadores son \"No seleccionados\", mientras que solo un 6.11% (1075) corresponde a \"seleccinados\""
      ]
    },
    {
      "cell_type": "markdown",
      "metadata": {
        "id": "0F70XPRFpWH9"
      },
      "source": [
        "### 1.1.2 Camino a la clasificación [1 punto]\n",
        "\n",
        "<p align=\"center\">\n",
        "  <img src=\"http://vignette3.wikia.nocookie.net/inciclopedia/images/c/cd/Patada_Medel_Messi.gif/revision/latest?cb=20150705215005\" width=\"500\">\n",
        "</p>\n",
        "\n",
        "Para preprocesar el dataset, genere un `ColumnTransformer` en donde especifique las transformaciones que hay que realizar para cada columna (por ejemplo StandarScaler, MinMaxScaler, OneHotEncoder, etc...) para que puedan ser utilizadas correctamente por el modelo predictivo y guardelo en algúna variable.\n",
        "\n",
        "Luego, comente y justifique las transformaciones elegidas sobre cada una de las variables (para esto utilice el material ```Player_Stats_Report.html``` que viene en el zip del lab), al igual que las transformaciones aplicadas.\n",
        "\n",
        "Hecho lo anterior, **defina al menos 3 pipelines para la clasificación**, en donde utilice el mismo ColumnTransformer definido anteriormente, pero que varie entre cada pipeline los clasificadores. \n",
        "\n",
        "Para seleccionar los clasificadores más adecuados, utilice la siguiente guía:\n",
        "\n",
        "<p align=\"center\">\n",
        "  <img src=\"https://scikit-learn.org/stable/_static/ml_map.png\" width=\"500\">\n",
        "</p>\n",
        "\n",
        "<br/>\n",
        "\n",
        "Con ella, comente y justifique cada una de las decisiones tomadas al momento de desarrollar su pipeline.\n",
        "\n",
        "**To-Do:**\n",
        "\n",
        "- [ ] Genere un ```ColumnTransformer``` enfocado en preprocesar los datos.\n",
        "- [ ] Indicar y Justificar que preprocesamiento utiliza sobre cada columna.\n",
        "- [ ] Crear 3 ``pipelines`` con diferentes clasificadores.\n",
        "- [ ] Para seleccionar los clasificadores base sus decisiones en la siguiente [guía](https://scikit-learn.org/stable/tutorial/machine_learning_map/index.html)\n",
        "- [ ] No entrenar los ``pipelines`` aún.\n",
        "\n",
        "**Nota:** No es necesario entrenar los clasificadores aún."
      ]
    },
    {
      "cell_type": "markdown",
      "metadata": {
        "id": "lkZ-J8GFcXod"
      },
      "source": [
        "**Respuesta:**"
      ]
    },
    {
      "cell_type": "markdown",
      "metadata": {
        "id": "6kQN3bFjWLCJ"
      },
      "source": [
        "Para todas aquellas variables numéricas, se le aplicará un \n",
        "\"StandarScaler\", con el fin de normalizarlas, para aquellas variables categoricas, se le aplicará un \"OneHotEncoder\", dado que es más cómodo manejar las variables categoricas de esta forma"
      ]
    },
    {
      "cell_type": "code",
      "metadata": {
        "id": "gc6vthBicXod"
      },
      "source": [
        "Preprocesamiento = ColumnTransformer( transformers=[('OneHotEncoder', OneHotEncoder(handle_unknown='ignore'),  [\t'Club_Position',  'Preffered_Foot', 'Work_Rate', 'Weak_foot', 'Skill_Moves']),\n",
        "                                                    ('StandardScaler', StandardScaler(),['Height', \t   'Age',  'Ball_Control',  'Dribbling', 'Marking', 'Sliding_Tackle',  'Standing_Tackle',   \n",
        "                                                                                         'Aggression',   'Reactions',  'Interceptions',   'Vision',  'Composure',  'Crossing',  'Short_Pass',  'Long_Pass',\n",
        "                                                                                         'Acceleration',   'Speed',  'Stamina',   'Strength',   'Balance',   'Agility',   'Jumping',   'Heading',   'Shot_Power',\n",
        "                                                                                         'Finishing',   'Long_Shots',   'Curve',   'Freekick_Accuracy',   'Penalties',   'Volleys'])])"
      ],
      "execution_count": 11,
      "outputs": []
    },
    {
      "cell_type": "markdown",
      "metadata": {
        "id": "k71ENwz8ddBi"
      },
      "source": [
        "Se crean 3 pipeline con los clasificadores:\n",
        "\n",
        "> * Vecinos más cercanos\n",
        "> * Logistic Regression \n",
        "> * Super Vector Machine\n"
      ]
    },
    {
      "cell_type": "code",
      "metadata": {
        "id": "2fDqps_CKAdN"
      },
      "source": [
        "from sklearn.pipeline import Pipeline\n",
        "from sklearn.neighbors import KNeighborsClassifier\n",
        "from sklearn.linear_model import LogisticRegression\n",
        "from sklearn.svm import SVC\n",
        "\n",
        "Pipeline_1 = Pipeline([('Preprocesamiento', Preprocesamiento),\n",
        "                         ('KNN', KNeighborsClassifier(n_neighbors=3))])\n",
        "\n",
        "Pipeline_2 = Pipeline([('Preprocesamiento', Preprocesamiento),\n",
        "                         ('Logistic Regression', LogisticRegression())])\n",
        "\n",
        "Pipeline_3 = Pipeline([('Preprocesamiento', Preprocesamiento),\n",
        "                         ('Super Vector Machine', SVC())])\n"
      ],
      "execution_count": 13,
      "outputs": []
    },
    {
      "cell_type": "markdown",
      "metadata": {
        "id": "MpKq6oO3vCNL"
      },
      "source": [
        "### 1.1.3 Entrenemos los pipelines [1 punto]\n",
        "\n",
        "<p align=\"center\">\n",
        "  <img src=\"https://i.gifer.com/7Cc8.gif\" width=\"350\">\n",
        "</p>\n"
      ]
    },
    {
      "cell_type": "markdown",
      "metadata": {
        "id": "wE_1aZaIvOeN"
      },
      "source": [
        "Ahora, entrene los `pipeline` generados en los pasos anteriores. Para esto, primero separe los datos de entrenamiento en un conjunto de entrenamiento y de prueba  (la proporción queda a su juicio).\n",
        "\n",
        "En este paso, seleccione los ejemplos de forma aleatoria e intente mantener la distribución original de labels de cada clase en los conjuntos de prueba/entrenamiento. (vea la documentación de `train_test_split`).\n",
        "\n",
        "\n",
        "Luego, entrene los pipelines\n",
        "\n",
        "Una vez entrenado su modelo, evalue su rendimiento a través de diferentes métricas, comentando que significa cada uno de los valores obtenidos. Puede usar la función `classification_report` para corroborar sus resultados.\n",
        "\n",
        "- ¿Qué implican los valores de accuracy, precisión y recall de la clase positiva (la que indica que un jugador es seleccionado nacional)?\n",
        "- ¿Podrían mejorarse los resultados?, ¿Cómo?\n",
        "- ¿Influye la cantidad de ejemplos por clase?\n",
        "\n",
        "**To-Do**:\n",
        "\n",
        "- [ ] Separar el conjunto de datos en entrenamiento y de prueba.\n",
        "- [ ] Entrenar los `pipelines`.\n",
        "- [ ] Utilizar las métricas para evaluar los modelos generados.\n"
      ]
    },
    {
      "cell_type": "markdown",
      "metadata": {
        "id": "i21OWaTGcXoe"
      },
      "source": [
        "**Respuesta:**"
      ]
    },
    {
      "cell_type": "markdown",
      "metadata": {
        "id": "GamACfD1fiOv"
      },
      "source": [
        "Separar los datos de entrenamiento en un conjunto de entrenamiento y de prueba"
      ]
    },
    {
      "cell_type": "code",
      "metadata": {
        "id": "N1XxroyXcXof"
      },
      "source": [
        "X = df_players.drop(['Seleccionado_Nacional'], axis=1)  \n",
        "X = df_players.drop(['Name', 'National_Position'], axis=1) \n",
        "y = df_players['Seleccionado_Nacional']"
      ],
      "execution_count": 16,
      "outputs": []
    },
    {
      "cell_type": "markdown",
      "metadata": {
        "id": "sWg-3MS3fw9e"
      },
      "source": [
        "Los datos se separarán con 70% en datos de entrenamiento y 30% en datos de testeo"
      ]
    },
    {
      "cell_type": "code",
      "metadata": {
        "id": "ACLCK5Omfuq2"
      },
      "source": [
        "X_train, X_test, y_train, y_test = train_test_split(X, y , train_size = (1-(3/10)), random_state =  90)\n",
        "y_train = y_train.astype(int)"
      ],
      "execution_count": 17,
      "outputs": []
    },
    {
      "cell_type": "markdown",
      "metadata": {
        "id": "AvfUK5e-f8_F"
      },
      "source": [
        "Entrenando los pipeline"
      ]
    },
    {
      "cell_type": "code",
      "metadata": {
        "colab": {
          "base_uri": "https://localhost:8080/"
        },
        "id": "XWwuk1bYKOEr",
        "outputId": "c65596a6-28b1-4f81-edcd-9662f709c6c3"
      },
      "source": [
        "Pipeline_1.fit(X_train, y_train)"
      ],
      "execution_count": 18,
      "outputs": [
        {
          "output_type": "execute_result",
          "data": {
            "text/plain": [
              "Pipeline(steps=[('Preprocesamiento',\n",
              "                 ColumnTransformer(transformers=[('OneHotEncoder',\n",
              "                                                  OneHotEncoder(handle_unknown='ignore'),\n",
              "                                                  ['Club_Position',\n",
              "                                                   'Preffered_Foot',\n",
              "                                                   'Work_Rate', 'Weak_foot',\n",
              "                                                   'Skill_Moves']),\n",
              "                                                 ('StandardScaler',\n",
              "                                                  StandardScaler(),\n",
              "                                                  ['Height', 'Age',\n",
              "                                                   'Ball_Control', 'Dribbling',\n",
              "                                                   'Marking', 'Sliding_Tackle',\n",
              "                                                   'Standing_Tackle',\n",
              "                                                   'Aggression', 'Reactions',\n",
              "                                                   'Interceptions', 'Vision',\n",
              "                                                   'Composure', 'Crossing',\n",
              "                                                   'Short_Pass', 'Long_Pass',\n",
              "                                                   'Acceleration', 'Speed',\n",
              "                                                   'Stamina', 'Strength',\n",
              "                                                   'Balance', 'Agility',\n",
              "                                                   'Jumping', 'Heading',\n",
              "                                                   'Shot_Power', 'Finishing',\n",
              "                                                   'Long_Shots', 'Curve',\n",
              "                                                   'Freekick_Accuracy',\n",
              "                                                   'Penalties', 'Volleys'])])),\n",
              "                ('KNN', KNeighborsClassifier(n_neighbors=3))])"
            ]
          },
          "metadata": {},
          "execution_count": 18
        }
      ]
    },
    {
      "cell_type": "code",
      "metadata": {
        "colab": {
          "base_uri": "https://localhost:8080/"
        },
        "id": "U3whx0dLkDl7",
        "outputId": "de5a2f0e-8010-4976-e25d-5f57fabc7ee4"
      },
      "source": [
        "Pipeline_2.fit(X_train, y_train) "
      ],
      "execution_count": 19,
      "outputs": [
        {
          "output_type": "stream",
          "name": "stderr",
          "text": [
            "/usr/local/lib/python3.7/dist-packages/sklearn/linear_model/_logistic.py:818: ConvergenceWarning: lbfgs failed to converge (status=1):\n",
            "STOP: TOTAL NO. of ITERATIONS REACHED LIMIT.\n",
            "\n",
            "Increase the number of iterations (max_iter) or scale the data as shown in:\n",
            "    https://scikit-learn.org/stable/modules/preprocessing.html\n",
            "Please also refer to the documentation for alternative solver options:\n",
            "    https://scikit-learn.org/stable/modules/linear_model.html#logistic-regression\n",
            "  extra_warning_msg=_LOGISTIC_SOLVER_CONVERGENCE_MSG,\n"
          ]
        },
        {
          "output_type": "execute_result",
          "data": {
            "text/plain": [
              "Pipeline(steps=[('Preprocesamiento',\n",
              "                 ColumnTransformer(transformers=[('OneHotEncoder',\n",
              "                                                  OneHotEncoder(handle_unknown='ignore'),\n",
              "                                                  ['Club_Position',\n",
              "                                                   'Preffered_Foot',\n",
              "                                                   'Work_Rate', 'Weak_foot',\n",
              "                                                   'Skill_Moves']),\n",
              "                                                 ('StandardScaler',\n",
              "                                                  StandardScaler(),\n",
              "                                                  ['Height', 'Age',\n",
              "                                                   'Ball_Control', 'Dribbling',\n",
              "                                                   'Marking', 'Sliding_Tackle',\n",
              "                                                   'Standing_Tackle',\n",
              "                                                   'Aggression', 'Reactions',\n",
              "                                                   'Interceptions', 'Vision',\n",
              "                                                   'Composure', 'Crossing',\n",
              "                                                   'Short_Pass', 'Long_Pass',\n",
              "                                                   'Acceleration', 'Speed',\n",
              "                                                   'Stamina', 'Strength',\n",
              "                                                   'Balance', 'Agility',\n",
              "                                                   'Jumping', 'Heading',\n",
              "                                                   'Shot_Power', 'Finishing',\n",
              "                                                   'Long_Shots', 'Curve',\n",
              "                                                   'Freekick_Accuracy',\n",
              "                                                   'Penalties', 'Volleys'])])),\n",
              "                ('Logistic Regression', LogisticRegression())])"
            ]
          },
          "metadata": {},
          "execution_count": 19
        }
      ]
    },
    {
      "cell_type": "code",
      "metadata": {
        "colab": {
          "base_uri": "https://localhost:8080/"
        },
        "id": "J1-nUg3AkPVI",
        "outputId": "7767ff76-16dd-476e-b2f1-abc92d0ccabf"
      },
      "source": [
        "Pipeline_3.fit(X_train, y_train) "
      ],
      "execution_count": 20,
      "outputs": [
        {
          "output_type": "execute_result",
          "data": {
            "text/plain": [
              "Pipeline(steps=[('Preprocesamiento',\n",
              "                 ColumnTransformer(transformers=[('OneHotEncoder',\n",
              "                                                  OneHotEncoder(handle_unknown='ignore'),\n",
              "                                                  ['Club_Position',\n",
              "                                                   'Preffered_Foot',\n",
              "                                                   'Work_Rate', 'Weak_foot',\n",
              "                                                   'Skill_Moves']),\n",
              "                                                 ('StandardScaler',\n",
              "                                                  StandardScaler(),\n",
              "                                                  ['Height', 'Age',\n",
              "                                                   'Ball_Control', 'Dribbling',\n",
              "                                                   'Marking', 'Sliding_Tackle',\n",
              "                                                   'Standing_Tackle',\n",
              "                                                   'Aggression', 'Reactions',\n",
              "                                                   'Interceptions', 'Vision',\n",
              "                                                   'Composure', 'Crossing',\n",
              "                                                   'Short_Pass', 'Long_Pass',\n",
              "                                                   'Acceleration', 'Speed',\n",
              "                                                   'Stamina', 'Strength',\n",
              "                                                   'Balance', 'Agility',\n",
              "                                                   'Jumping', 'Heading',\n",
              "                                                   'Shot_Power', 'Finishing',\n",
              "                                                   'Long_Shots', 'Curve',\n",
              "                                                   'Freekick_Accuracy',\n",
              "                                                   'Penalties', 'Volleys'])])),\n",
              "                ('Super Vector Machine', SVC())])"
            ]
          },
          "metadata": {},
          "execution_count": 20
        }
      ]
    },
    {
      "cell_type": "code",
      "metadata": {
        "id": "xH8hpn7M4PhB"
      },
      "source": [
        "y_test = y_test.astype(int)"
      ],
      "execution_count": 21,
      "outputs": []
    },
    {
      "cell_type": "code",
      "metadata": {
        "colab": {
          "base_uri": "https://localhost:8080/"
        },
        "id": "Wmzq92nx22gy",
        "outputId": "439d14e6-e48c-4f2b-8df7-c1694e282a11"
      },
      "source": [
        "from sklearn.metrics import classification_report\n",
        "print(classification_report(y_test, pd.DataFrame(Pipeline_1.predict(X_test), columns = [\"pred\"])))"
      ],
      "execution_count": 22,
      "outputs": [
        {
          "output_type": "stream",
          "name": "stdout",
          "text": [
            "              precision    recall  f1-score   support\n",
            "\n",
            "           0       0.95      0.99      0.97      4981\n",
            "           1       0.31      0.11      0.16       296\n",
            "\n",
            "    accuracy                           0.94      5277\n",
            "   macro avg       0.63      0.55      0.56      5277\n",
            "weighted avg       0.91      0.94      0.92      5277\n",
            "\n"
          ]
        }
      ]
    },
    {
      "cell_type": "code",
      "metadata": {
        "colab": {
          "base_uri": "https://localhost:8080/"
        },
        "id": "ACdFnu29ljVC",
        "outputId": "5a6d87b8-69d0-4640-f728-da91fbe5881f"
      },
      "source": [
        "print(classification_report(y_test, pd.DataFrame(Pipeline_2.predict(X_test), columns = [\"pred\"])))"
      ],
      "execution_count": 23,
      "outputs": [
        {
          "output_type": "stream",
          "name": "stdout",
          "text": [
            "              precision    recall  f1-score   support\n",
            "\n",
            "           0       0.95      1.00      0.97      4981\n",
            "           1       0.59      0.11      0.19       296\n",
            "\n",
            "    accuracy                           0.95      5277\n",
            "   macro avg       0.77      0.56      0.58      5277\n",
            "weighted avg       0.93      0.95      0.93      5277\n",
            "\n"
          ]
        }
      ]
    },
    {
      "cell_type": "code",
      "metadata": {
        "colab": {
          "base_uri": "https://localhost:8080/"
        },
        "id": "JrmoJaArmFR8",
        "outputId": "42501f27-413c-42b8-d11b-a650369144af"
      },
      "source": [
        "print(classification_report(y_test, pd.DataFrame(Pipeline_3.predict(X_test), columns = [\"pred\"])))"
      ],
      "execution_count": 24,
      "outputs": [
        {
          "output_type": "stream",
          "name": "stdout",
          "text": [
            "              precision    recall  f1-score   support\n",
            "\n",
            "           0       0.94      1.00      0.97      4981\n",
            "           1       0.00      0.00      0.00       296\n",
            "\n",
            "    accuracy                           0.94      5277\n",
            "   macro avg       0.47      0.50      0.49      5277\n",
            "weighted avg       0.89      0.94      0.92      5277\n",
            "\n"
          ]
        },
        {
          "output_type": "stream",
          "name": "stderr",
          "text": [
            "/usr/local/lib/python3.7/dist-packages/sklearn/metrics/_classification.py:1308: UndefinedMetricWarning: Precision and F-score are ill-defined and being set to 0.0 in labels with no predicted samples. Use `zero_division` parameter to control this behavior.\n",
            "  _warn_prf(average, modifier, msg_start, len(result))\n",
            "/usr/local/lib/python3.7/dist-packages/sklearn/metrics/_classification.py:1308: UndefinedMetricWarning: Precision and F-score are ill-defined and being set to 0.0 in labels with no predicted samples. Use `zero_division` parameter to control this behavior.\n",
            "  _warn_prf(average, modifier, msg_start, len(result))\n",
            "/usr/local/lib/python3.7/dist-packages/sklearn/metrics/_classification.py:1308: UndefinedMetricWarning: Precision and F-score are ill-defined and being set to 0.0 in labels with no predicted samples. Use `zero_division` parameter to control this behavior.\n",
            "  _warn_prf(average, modifier, msg_start, len(result))\n"
          ]
        }
      ]
    },
    {
      "cell_type": "markdown",
      "metadata": {
        "id": "QgSeo0aIx9ow"
      },
      "source": [
        "**Respuesta**:"
      ]
    },
    {
      "cell_type": "markdown",
      "metadata": {
        "id": "_J0Mchn3308e"
      },
      "source": [
        "\n",
        "> * ¿Qué implican los valores de accuracy, precisión y recall de la clase positiva (la que indica que un jugador es seleccionado nacional)?\n",
        "\n",
        "Para el modelo 1: \n",
        "\n",
        "> * Accuracy: 0.94, casi la totalidad de los datos fueron bien predichos\n",
        "> * Precision: 31%,hay un 31% de verdaderos positivos sobre los reales positivos\n",
        "> * Recall: 11%, hay un 11% de los datos predichos positivos y que lo son, sobre los datos actuales positivos\n",
        "\n",
        "Para el modelo 2:\n",
        "\n",
        "> * Accuracy: 0.95, casi la totalidad de los datos fueron bien predichos\n",
        "> * Precision: 59% , hay un 59% de verdaderos positivos sobre los reales positivos\n",
        "> * Recall: 11%, hay un 11% de los datos predichos positivos y que lo son, sobre los datos actuales positivos\n",
        "\n",
        "Para el modelo 3:\n",
        "\n",
        "> * Accuracy: 0.94, casi la totalidad de los datos fueron bien predichos\n",
        "> * Precision: 0%\n",
        "> * Recall: 0%\n",
        "\n",
        "> * ¿Podrían mejorarse los resultados?, ¿Cómo? : \n",
        "\n",
        "Sí, una forma es balanceando más los datos, puesto que desde un inicio se observó que el target estaba muy desbalanceado en torno a sus clases, esto claramente ejerce una influencia en el desempeño del modelo\n",
        "\n",
        "> * ¿Influye la cantidad de ejemplos por clase? : \n",
        "\n",
        "Sí, puesto que al tener tan pocos datos de una de las dos clases, hace que exista una especie de sesgo a la hora de predecir, el modelo no sabrá identificar totalmente las \"características\" de la clase con menos datos\n",
        "\n"
      ]
    },
    {
      "cell_type": "markdown",
      "metadata": {
        "id": "ix97Ho4uOARH"
      },
      "source": [
        "## 1.2 Predicción de posiciones de jugadores [2 puntos]\n",
        "\n",
        "<p align=\"center\">\n",
        "  <img src=\"https://pbs.twimg.com/media/E1rfA1aWEAYU6Ny.jpg\" width=\"500\">\n",
        "</p>"
      ]
    },
    {
      "cell_type": "markdown",
      "metadata": {
        "id": "oHAwZfV8hMsk"
      },
      "source": [
        "En una nueva jornada de desmesuradas transacciones deportivas, Renacín escuchó a sus colegas discutir acerca de que el precio de cada jugador depende en gran medida de la posición en la cancha en la que juega. Y además, que hay bastantes jugadores nuevos que no tienen muy claro en que posición verdaderamente brillarían, por lo que actualmente puede que actualmente estén jugando en posiciones sub-optimas. \n",
        "\n",
        "Viendo que los resultados del primer análisis no son tan esperanzadores, el corporeo los comanda a cambiar su tarea: ahora, les solicita que construyan un clasificador enfocado en predecir la mejor posición de los jugadores en la cancha según sus características. \n",
        "\n",
        "Para lograr esto, primero, les pide que etiqueten de la siguiente manera los valores que aparecen en el atributo ```Club_Position```, pidiendo que agrupen los valores en los siguientes grupos:\n",
        "\n",
        "**Nota**:  Renacín les recalca que **no deben utilizar los valores ```Sub``` y ```Res``` de esta columna**.\n",
        "\n",
        "```python\n",
        "ataque = ['ST', 'CF'] \n",
        "central_ataque = ['RW', 'CAM', 'LW'] \n",
        "central = ['RM', 'CM', 'LM'] \n",
        "central_defensa = ['RWB', 'CDM', 'LWB']\n",
        "defensa = ['RB', 'CB', 'LB']\n",
        "arquero = ['GK']\n",
        "```\n",
        "\n",
        "Cabe señalar que al igual como lo realizado con la clasificación binaria, deberá justificar en base a la [guía](https://scikit-learn.org/stable/tutorial/machine_learning_map/index.html) la elección del clasificador y se deben comentar los resultados obtenidos en la clasificación.\n",
        "\n",
        "**To-Do**:\n",
        "\n",
        "- [ ] Aplique las etiquetas descritas anteriormente en cada uno de los valores señalados en esta sección.\n",
        "- [ ] Cuente cuantos por clase quedan.\n",
        "- [ ] Entrene el nuevo pipeline y ejecute una evaluación de este.  \n",
        "- [ ] Comente los resultados obtenidos."
      ]
    },
    {
      "cell_type": "markdown",
      "metadata": {
        "id": "HqeltkNDcXoi"
      },
      "source": [
        "**Respuesta:**"
      ]
    },
    {
      "cell_type": "code",
      "metadata": {
        "id": "nHmFNTJAcXoi"
      },
      "source": [
        "ataque = ['ST', 'CF'] \n",
        "central_ataque = ['RW', 'CAM', 'LW'] \n",
        "central = ['RM', 'CM', 'LM'] \n",
        "central_defensa = ['RWB', 'CDM', 'LWB']\n",
        "defensa = ['RB', 'CB', 'LB']\n",
        "arquero = ['GK']"
      ],
      "execution_count": 113,
      "outputs": []
    },
    {
      "cell_type": "code",
      "metadata": {
        "id": "prvEh17y6JYJ",
        "colab": {
          "base_uri": "https://localhost:8080/"
        },
        "outputId": "881f786a-e3e2-456f-f93d-4c610be529ee"
      },
      "source": [
        "df_players.loc[df_players.Club_Position.isin(ataque), \"Position\"] = \"ataque\" \n",
        "df_players.loc[df_players.Club_Position.isin(central_ataque), \"Position\"] = \"central_ataque\" \n",
        "df_players.loc[df_players.Club_Position.isin(central), \"Position\"] = \"central\" \n",
        "df_players.loc[df_players.Club_Position.isin(central_defensa), \"Position\"] = \"central defensa\" \n",
        "df_players.loc[df_players.Club_Position.isin(defensa), \"Position\"] = \"defensa\" \n",
        "df_players.loc[df_players.Club_Position.isin(arquero), \"Position\"] = \"arquero\" "
      ],
      "execution_count": 114,
      "outputs": [
        {
          "output_type": "stream",
          "name": "stderr",
          "text": [
            "/usr/local/lib/python3.7/dist-packages/pandas/core/indexing.py:1763: SettingWithCopyWarning: \n",
            "A value is trying to be set on a copy of a slice from a DataFrame.\n",
            "Try using .loc[row_indexer,col_indexer] = value instead\n",
            "\n",
            "See the caveats in the documentation: https://pandas.pydata.org/pandas-docs/stable/user_guide/indexing.html#returning-a-view-versus-a-copy\n",
            "  isetter(loc, value)\n"
          ]
        }
      ]
    },
    {
      "cell_type": "code",
      "metadata": {
        "colab": {
          "base_uri": "https://localhost:8080/"
        },
        "id": "2qldl6Lf7OeA",
        "outputId": "7b62cae5-f882-4deb-be3d-4940039ac6b5"
      },
      "source": [
        "df_players.isna().sum()"
      ],
      "execution_count": 115,
      "outputs": [
        {
          "output_type": "execute_result",
          "data": {
            "text/plain": [
              "Name                        0\n",
              "Nationality                 0\n",
              "National_Position        3573\n",
              "Club_Position               0\n",
              "Height                      0\n",
              "Weight                      0\n",
              "Preffered_Foot              0\n",
              "Age                         0\n",
              "Work_Rate                   0\n",
              "Weak_foot                   0\n",
              "Skill_Moves                 0\n",
              "Ball_Control                0\n",
              "Dribbling                   0\n",
              "Marking                     0\n",
              "Sliding_Tackle              0\n",
              "Standing_Tackle             0\n",
              "Aggression                  0\n",
              "Reactions                   0\n",
              "Interceptions               0\n",
              "Vision                      0\n",
              "Composure                   0\n",
              "Crossing                    0\n",
              "Short_Pass                  0\n",
              "Long_Pass                   0\n",
              "Acceleration                0\n",
              "Speed                       0\n",
              "Stamina                     0\n",
              "Strength                    0\n",
              "Balance                     0\n",
              "Agility                     0\n",
              "Jumping                     0\n",
              "Heading                     0\n",
              "Shot_Power                  0\n",
              "Finishing                   0\n",
              "Long_Shots                  0\n",
              "Curve                       0\n",
              "Freekick_Accuracy           0\n",
              "Penalties                   0\n",
              "Volleys                     0\n",
              "Seleccionado_Nacional       0\n",
              "Position                    0\n",
              "dtype: int64"
            ]
          },
          "metadata": {},
          "execution_count": 115
        }
      ]
    },
    {
      "cell_type": "code",
      "metadata": {
        "id": "UNWju-Hg7QYL"
      },
      "source": [
        "df_players=df_players.dropna(subset=[\"Position\"])"
      ],
      "execution_count": 116,
      "outputs": []
    },
    {
      "cell_type": "code",
      "metadata": {
        "colab": {
          "base_uri": "https://localhost:8080/"
        },
        "id": "FgYdlJlE7axm",
        "outputId": "3823e99b-ccca-4478-982c-a475ee0fc53e"
      },
      "source": [
        "df_players.groupby('Position')['Position'].count()"
      ],
      "execution_count": 117,
      "outputs": [
        {
          "output_type": "execute_result",
          "data": {
            "text/plain": [
              "Position\n",
              "arquero             632\n",
              "ataque              430\n",
              "central             907\n",
              "central defensa     209\n",
              "central_ataque      581\n",
              "defensa            1180\n",
              "Name: Position, dtype: int64"
            ]
          },
          "metadata": {},
          "execution_count": 117
        }
      ]
    },
    {
      "cell_type": "code",
      "metadata": {
        "id": "KEaMv9tG7szG"
      },
      "source": [
        "X = df_players.drop(['Position'], axis=1)  \n",
        "X = X.drop(['Name', 'National_Position', 'Seleccionado_Nacional'], axis=1) \n",
        "y = df_players['Position']"
      ],
      "execution_count": 176,
      "outputs": []
    },
    {
      "cell_type": "code",
      "metadata": {
        "id": "IRv42-puj4mZ"
      },
      "source": [
        "from sklearn.preprocessing import LabelEncoder\n",
        "y = LabelEncoder().fit_transform(y)"
      ],
      "execution_count": 177,
      "outputs": []
    },
    {
      "cell_type": "code",
      "metadata": {
        "id": "YFhO2cQp8YBz"
      },
      "source": [
        "X_train, X_test, y_train, y_test = train_test_split(X, y , train_size = 7/10, random_state =  90)"
      ],
      "execution_count": 178,
      "outputs": []
    },
    {
      "cell_type": "code",
      "metadata": {
        "id": "oyvoR4BH9XZR"
      },
      "source": [
        "Preprocesamiento2 = ColumnTransformer( transformers=[ \n",
        "                                                     ('OneHotEncoder', OneHotEncoder(handle_unknown='ignore'),  [\t'Club_Position',  'Preffered_Foot', 'Work_Rate', 'Weak_foot', 'Skill_Moves' ]),\n",
        "                                                    ('StandardScaler', StandardScaler(),['Height', \t   'Age',  'Ball_Control',  'Dribbling', 'Marking', 'Sliding_Tackle',  'Standing_Tackle',   \n",
        "                                                                                         'Aggression',   'Reactions',  'Interceptions',   'Vision',  'Composure',  'Crossing',  'Short_Pass',  'Long_Pass',\n",
        "                                                                                         'Acceleration',   'Speed',  'Stamina',   'Strength',   'Balance',   'Agility',   'Jumping',   'Heading',   'Shot_Power',\n",
        "                                                                                         'Finishing',   'Long_Shots',   'Curve',   'Freekick_Accuracy',   'Penalties',   'Volleys'])])"
      ],
      "execution_count": 181,
      "outputs": []
    },
    {
      "cell_type": "code",
      "metadata": {
        "id": "SflVj-xM8qkG"
      },
      "source": [
        "from sklearn.naive_bayes import MultinomialNB\n",
        "from sklearn.naive_bayes import GaussianNB\n",
        "Pipeline_4 = Pipeline([('Preprocesamiento', Preprocesamiento2),\n",
        "                         ('Naive Bayes Multi', GaussianNB())])"
      ],
      "execution_count": 182,
      "outputs": []
    },
    {
      "cell_type": "code",
      "metadata": {
        "colab": {
          "base_uri": "https://localhost:8080/"
        },
        "id": "_uYE7XHF9PUL",
        "outputId": "d87d3c5a-a5b0-4ee9-be85-01a16265c721"
      },
      "source": [
        "Pipeline_4.fit(X_train, y_train)"
      ],
      "execution_count": 183,
      "outputs": [
        {
          "output_type": "execute_result",
          "data": {
            "text/plain": [
              "Pipeline(steps=[('Preprocesamiento',\n",
              "                 ColumnTransformer(transformers=[('OneHotEncoder',\n",
              "                                                  OneHotEncoder(handle_unknown='ignore'),\n",
              "                                                  ['Club_Position',\n",
              "                                                   'Preffered_Foot',\n",
              "                                                   'Work_Rate', 'Weak_foot',\n",
              "                                                   'Skill_Moves']),\n",
              "                                                 ('StandardScaler',\n",
              "                                                  StandardScaler(),\n",
              "                                                  ['Height', 'Age',\n",
              "                                                   'Ball_Control', 'Dribbling',\n",
              "                                                   'Marking', 'Sliding_Tackle',\n",
              "                                                   'Standing_Tackle',\n",
              "                                                   'Aggression', 'Reactions',\n",
              "                                                   'Interceptions', 'Vision',\n",
              "                                                   'Composure', 'Crossing',\n",
              "                                                   'Short_Pass', 'Long_Pass',\n",
              "                                                   'Acceleration', 'Speed',\n",
              "                                                   'Stamina', 'Strength',\n",
              "                                                   'Balance', 'Agility',\n",
              "                                                   'Jumping', 'Heading',\n",
              "                                                   'Shot_Power', 'Finishing',\n",
              "                                                   'Long_Shots', 'Curve',\n",
              "                                                   'Freekick_Accuracy',\n",
              "                                                   'Penalties', 'Volleys'])])),\n",
              "                ('Naive Bayes Multi', GaussianNB())])"
            ]
          },
          "metadata": {},
          "execution_count": 183
        }
      ]
    },
    {
      "cell_type": "code",
      "metadata": {
        "colab": {
          "base_uri": "https://localhost:8080/"
        },
        "id": "R6I7R_Oc9zST",
        "outputId": "cc9e993c-de3e-43e1-ddfb-5c482241ab32"
      },
      "source": [
        "print(classification_report(y_test, pd.DataFrame(Pipeline_4.predict(X_test), columns = [\"pred\"])))"
      ],
      "execution_count": 185,
      "outputs": [
        {
          "output_type": "stream",
          "name": "stdout",
          "text": [
            "              precision    recall  f1-score   support\n",
            "\n",
            "           0       1.00      1.00      1.00       184\n",
            "           1       1.00      1.00      1.00       132\n",
            "           2       1.00      1.00      1.00       254\n",
            "           3       0.98      1.00      0.99        56\n",
            "           4       1.00      1.00      1.00       203\n",
            "           5       1.00      1.00      1.00       353\n",
            "\n",
            "    accuracy                           1.00      1182\n",
            "   macro avg       1.00      1.00      1.00      1182\n",
            "weighted avg       1.00      1.00      1.00      1182\n",
            "\n"
          ]
        }
      ]
    },
    {
      "cell_type": "markdown",
      "metadata": {
        "id": "XLsU4vp7cXoj"
      },
      "source": [
        "**Respuesta**:\n",
        "\n",
        "Se observa que los resultados no son los esperados, posiblemente generado por algún error de los datos, puesto que es muy raro que las métricas den tan perfecto"
      ]
    },
    {
      "cell_type": "markdown",
      "metadata": {
        "id": "C-vkB4xoOGtM"
      },
      "source": [
        "## 1.3 Predicción de Sueldos [2 puntos]\n",
        "\n",
        "<p align=\"center\">\n",
        "  <img src=\"https://media.giphy.com/media/3oEjHWtHAFcOKS4iA0/giphy.gif\" width=\"460\">\n",
        "</p>"
      ]
    },
    {
      "cell_type": "markdown",
      "metadata": {
        "id": "S-OfLo3gcXoj"
      },
      "source": [
        "Queriendo ahondar aún más en el mercado del balompíe, Renacin, logra obtener (de una manera no muy formal) los sueldos de múltiples futbolistas y los guarda en el archivo ```sueldos.csv```. Con ellos les solicita que generen un regresor que les permita predecir el sueldo de los futbolistas en base a las características de los pichichis, esto, debido a su motivación por invertir y/o realizar especulación sobre los sueldos de jugadores.\n",
        "\n",
        "Renacin es claro señalando que deben seguir utilizando la [guía](https://scikit-learn.org/stable/tutorial/machine_learning_map/index.html) y comenten cada uno de los pasos realizados, para obtener su regresión lineal. Señalándoles que no aceptara un $R^2$ inferior a 0.35 para el modelo solicitado.\n",
        "\n",
        "Para esta parte usted tiene total libertad en la generación del regresor, la unica exigencia es que utilice un pipeline para generar la regresión y utilice la metrica $R^2$ para medir el rendimiento de esta.\n",
        "\n",
        "**To-Do**:\n",
        "\n",
        "- [ ] Explique en que consiste la métrica $R^2$\n",
        "- [ ] Generar un pipeline para la regresión.\n",
        "- [ ] Obtener un regresor con un $R^2$ superior a  $0.35$.\n",
        "- [ ] Comente sus resultados y si es posible mejorar los resultados obtenidos. ¿Se necesitarían más datos o otros tipos de características o una combinación de ambos?"
      ]
    },
    {
      "cell_type": "markdown",
      "metadata": {
        "id": "KVN3_pxccXok"
      },
      "source": [
        "**Respuesta**"
      ]
    },
    {
      "cell_type": "markdown",
      "metadata": {
        "id": "_9O7TLGyyjr_"
      },
      "source": [
        "# **Pasos elección regresión**\n",
        "Para la elección del modelo Ridge, lo que se hizo fue seguir los pasos de la guía sugerida. Por lo tanto PRIMERO: Se tienen más de 50 muestras, luego, como no se va a predecir una categoría, sino una cantidad se ecoge:\n",
        "\n",
        "SEGUNDO: Categoría.\n",
        "TERCERO: Cantidad\n",
        "Luego, como se tienen menos de 100K muestras, se continua a la etapa de la cantidad de caracterísitcas que deberían importar, por lo tanto:\n",
        "CUARTO: < 100K  -> YES\n",
        "QUINTO: Few features... -> NO\n",
        "\n",
        "Por lo tanto, se llega al RideRegression o el SVR (Kernel = 'linear'). \n",
        "\n",
        "Escogimos el RideRegression y en caso de obtener una mala métrica R^2, se podría cambiar el modelo por un EnsembleRegressor o SVR (Kernel ='rbf'), como sugieren en la guía.\n",
        "\n",
        "\n",
        "\n",
        "# **Métrica  𝑅^2**\n",
        "El $R^2$ o coeficiente de determinación es una métrica que se aplica a modelos de regresión que indica cuántos puntos de los datos están sobre la línea de la ecuación de la regresión.\n",
        "Un valor de 1 es el máximo e indica que que es un buen modelo, de hecho, sobre 0.6 ya se puede considerar un modelo bueno. Para valores bajo 0.6, el modelo no es bueno.\n",
        "\n",
        "La métrica corresponde a la varianza de la variable dependiente que es explicada por las variables del modelo, por lo que un alto $R^2$ indica que las variable independientes explican gran parte de la varianza de la variable dependiente.\n"
      ]
    },
    {
      "cell_type": "code",
      "metadata": {
        "id": "ewCJ8g3KcXok"
      },
      "source": [
        "from sklearn.model_selection import RandomizedSearchCV, RepeatedKFold\n",
        "from sklearn.linear_model import Ridge\n",
        "from sklearn.linear_model import Lasso, LassoCV\n",
        "\n",
        "from sklearn.ensemble import RandomForestRegressor"
      ],
      "execution_count": 37,
      "outputs": []
    },
    {
      "cell_type": "code",
      "metadata": {
        "colab": {
          "base_uri": "https://localhost:8080/",
          "height": 363
        },
        "id": "-FxYw1unP6gg",
        "outputId": "c78c10d9-a451-43dd-ba21-9b1023c760c3"
      },
      "source": [
        "df_sueldos = pd.read_csv('/content/salarios.csv' , index_col=[0])\n",
        "df_sueldos.head(10)"
      ],
      "execution_count": 40,
      "outputs": [
        {
          "output_type": "execute_result",
          "data": {
            "text/html": [
              "<div>\n",
              "<style scoped>\n",
              "    .dataframe tbody tr th:only-of-type {\n",
              "        vertical-align: middle;\n",
              "    }\n",
              "\n",
              "    .dataframe tbody tr th {\n",
              "        vertical-align: top;\n",
              "    }\n",
              "\n",
              "    .dataframe thead th {\n",
              "        text-align: right;\n",
              "    }\n",
              "</style>\n",
              "<table border=\"1\" class=\"dataframe\">\n",
              "  <thead>\n",
              "    <tr style=\"text-align: right;\">\n",
              "      <th></th>\n",
              "      <th>Player</th>\n",
              "      <th>Weekly Salary</th>\n",
              "    </tr>\n",
              "  </thead>\n",
              "  <tbody>\n",
              "    <tr>\n",
              "      <th>1528</th>\n",
              "      <td>Lionel Messi</td>\n",
              "      <td>1538905.0</td>\n",
              "    </tr>\n",
              "    <tr>\n",
              "      <th>1006</th>\n",
              "      <td>Cristiano Ronaldo</td>\n",
              "      <td>1248536.0</td>\n",
              "    </tr>\n",
              "    <tr>\n",
              "      <th>1529</th>\n",
              "      <td>Antoine Griezmann</td>\n",
              "      <td>997032.0</td>\n",
              "    </tr>\n",
              "    <tr>\n",
              "      <th>2004</th>\n",
              "      <td>Neymar</td>\n",
              "      <td>797726.0</td>\n",
              "    </tr>\n",
              "    <tr>\n",
              "      <th>1530</th>\n",
              "      <td>Gareth Bale</td>\n",
              "      <td>607706.0</td>\n",
              "    </tr>\n",
              "    <tr>\n",
              "      <th>1532</th>\n",
              "      <td>Philippe Coutinho</td>\n",
              "      <td>508923.0</td>\n",
              "    </tr>\n",
              "    <tr>\n",
              "      <th>1531</th>\n",
              "      <td>Luis Suárez</td>\n",
              "      <td>508923.0</td>\n",
              "    </tr>\n",
              "    <tr>\n",
              "      <th>0</th>\n",
              "      <td>Alexis Sánchez</td>\n",
              "      <td>461765.0</td>\n",
              "    </tr>\n",
              "    <tr>\n",
              "      <th>1</th>\n",
              "      <td>Mesut Özil</td>\n",
              "      <td>461765.0</td>\n",
              "    </tr>\n",
              "    <tr>\n",
              "      <th>1535</th>\n",
              "      <td>Toni Kroos</td>\n",
              "      <td>434977.0</td>\n",
              "    </tr>\n",
              "  </tbody>\n",
              "</table>\n",
              "</div>"
            ],
            "text/plain": [
              "                 Player  Weekly Salary\n",
              "1528       Lionel Messi      1538905.0\n",
              "1006  Cristiano Ronaldo      1248536.0\n",
              "1529  Antoine Griezmann       997032.0\n",
              "2004             Neymar       797726.0\n",
              "1530        Gareth Bale       607706.0\n",
              "1532  Philippe Coutinho       508923.0\n",
              "1531        Luis Suárez       508923.0\n",
              "0        Alexis Sánchez       461765.0\n",
              "1            Mesut Özil       461765.0\n",
              "1535         Toni Kroos       434977.0"
            ]
          },
          "metadata": {},
          "execution_count": 40
        }
      ]
    },
    {
      "cell_type": "code",
      "metadata": {
        "colab": {
          "base_uri": "https://localhost:8080/",
          "height": 313
        },
        "id": "6w2Vb2Ef54hs",
        "outputId": "b2d91105-4c7c-4276-b033-b370354aca2b"
      },
      "source": [
        "df_players.head(5)"
      ],
      "execution_count": 41,
      "outputs": [
        {
          "output_type": "execute_result",
          "data": {
            "text/html": [
              "<div>\n",
              "<style scoped>\n",
              "    .dataframe tbody tr th:only-of-type {\n",
              "        vertical-align: middle;\n",
              "    }\n",
              "\n",
              "    .dataframe tbody tr th {\n",
              "        vertical-align: top;\n",
              "    }\n",
              "\n",
              "    .dataframe thead th {\n",
              "        text-align: right;\n",
              "    }\n",
              "</style>\n",
              "<table border=\"1\" class=\"dataframe\">\n",
              "  <thead>\n",
              "    <tr style=\"text-align: right;\">\n",
              "      <th></th>\n",
              "      <th>Name</th>\n",
              "      <th>Nationality</th>\n",
              "      <th>National_Position</th>\n",
              "      <th>Club_Position</th>\n",
              "      <th>Height</th>\n",
              "      <th>Weight</th>\n",
              "      <th>Preffered_Foot</th>\n",
              "      <th>Age</th>\n",
              "      <th>Work_Rate</th>\n",
              "      <th>Weak_foot</th>\n",
              "      <th>Skill_Moves</th>\n",
              "      <th>Ball_Control</th>\n",
              "      <th>Dribbling</th>\n",
              "      <th>Marking</th>\n",
              "      <th>Sliding_Tackle</th>\n",
              "      <th>Standing_Tackle</th>\n",
              "      <th>Aggression</th>\n",
              "      <th>Reactions</th>\n",
              "      <th>Interceptions</th>\n",
              "      <th>Vision</th>\n",
              "      <th>Composure</th>\n",
              "      <th>Crossing</th>\n",
              "      <th>Short_Pass</th>\n",
              "      <th>Long_Pass</th>\n",
              "      <th>Acceleration</th>\n",
              "      <th>Speed</th>\n",
              "      <th>Stamina</th>\n",
              "      <th>Strength</th>\n",
              "      <th>Balance</th>\n",
              "      <th>Agility</th>\n",
              "      <th>Jumping</th>\n",
              "      <th>Heading</th>\n",
              "      <th>Shot_Power</th>\n",
              "      <th>Finishing</th>\n",
              "      <th>Long_Shots</th>\n",
              "      <th>Curve</th>\n",
              "      <th>Freekick_Accuracy</th>\n",
              "      <th>Penalties</th>\n",
              "      <th>Volleys</th>\n",
              "      <th>Seleccionado_Nacional</th>\n",
              "      <th>Position</th>\n",
              "    </tr>\n",
              "  </thead>\n",
              "  <tbody>\n",
              "    <tr>\n",
              "      <th>0</th>\n",
              "      <td>Cristiano Ronaldo</td>\n",
              "      <td>Portugal</td>\n",
              "      <td>LS</td>\n",
              "      <td>LW</td>\n",
              "      <td>185</td>\n",
              "      <td>80</td>\n",
              "      <td>Right</td>\n",
              "      <td>32</td>\n",
              "      <td>High / Low</td>\n",
              "      <td>4</td>\n",
              "      <td>5</td>\n",
              "      <td>93</td>\n",
              "      <td>92</td>\n",
              "      <td>22</td>\n",
              "      <td>23</td>\n",
              "      <td>31</td>\n",
              "      <td>63</td>\n",
              "      <td>96</td>\n",
              "      <td>29</td>\n",
              "      <td>85</td>\n",
              "      <td>86</td>\n",
              "      <td>84</td>\n",
              "      <td>83</td>\n",
              "      <td>77</td>\n",
              "      <td>91</td>\n",
              "      <td>92</td>\n",
              "      <td>92</td>\n",
              "      <td>80</td>\n",
              "      <td>63</td>\n",
              "      <td>90</td>\n",
              "      <td>95</td>\n",
              "      <td>85</td>\n",
              "      <td>92</td>\n",
              "      <td>93</td>\n",
              "      <td>90</td>\n",
              "      <td>81</td>\n",
              "      <td>76</td>\n",
              "      <td>85</td>\n",
              "      <td>88</td>\n",
              "      <td>1</td>\n",
              "      <td>central_ataque</td>\n",
              "    </tr>\n",
              "    <tr>\n",
              "      <th>1</th>\n",
              "      <td>Lionel Messi</td>\n",
              "      <td>Argentina</td>\n",
              "      <td>RW</td>\n",
              "      <td>RW</td>\n",
              "      <td>170</td>\n",
              "      <td>72</td>\n",
              "      <td>Left</td>\n",
              "      <td>29</td>\n",
              "      <td>Medium / Medium</td>\n",
              "      <td>4</td>\n",
              "      <td>4</td>\n",
              "      <td>95</td>\n",
              "      <td>97</td>\n",
              "      <td>13</td>\n",
              "      <td>26</td>\n",
              "      <td>28</td>\n",
              "      <td>48</td>\n",
              "      <td>95</td>\n",
              "      <td>22</td>\n",
              "      <td>90</td>\n",
              "      <td>94</td>\n",
              "      <td>77</td>\n",
              "      <td>88</td>\n",
              "      <td>87</td>\n",
              "      <td>92</td>\n",
              "      <td>87</td>\n",
              "      <td>74</td>\n",
              "      <td>59</td>\n",
              "      <td>95</td>\n",
              "      <td>90</td>\n",
              "      <td>68</td>\n",
              "      <td>71</td>\n",
              "      <td>85</td>\n",
              "      <td>95</td>\n",
              "      <td>88</td>\n",
              "      <td>89</td>\n",
              "      <td>90</td>\n",
              "      <td>74</td>\n",
              "      <td>85</td>\n",
              "      <td>1</td>\n",
              "      <td>central_ataque</td>\n",
              "    </tr>\n",
              "    <tr>\n",
              "      <th>2</th>\n",
              "      <td>Neymar</td>\n",
              "      <td>Brazil</td>\n",
              "      <td>LW</td>\n",
              "      <td>LW</td>\n",
              "      <td>174</td>\n",
              "      <td>68</td>\n",
              "      <td>Right</td>\n",
              "      <td>25</td>\n",
              "      <td>High / Medium</td>\n",
              "      <td>5</td>\n",
              "      <td>5</td>\n",
              "      <td>95</td>\n",
              "      <td>96</td>\n",
              "      <td>21</td>\n",
              "      <td>33</td>\n",
              "      <td>24</td>\n",
              "      <td>56</td>\n",
              "      <td>88</td>\n",
              "      <td>36</td>\n",
              "      <td>80</td>\n",
              "      <td>80</td>\n",
              "      <td>75</td>\n",
              "      <td>81</td>\n",
              "      <td>75</td>\n",
              "      <td>93</td>\n",
              "      <td>90</td>\n",
              "      <td>79</td>\n",
              "      <td>49</td>\n",
              "      <td>82</td>\n",
              "      <td>96</td>\n",
              "      <td>61</td>\n",
              "      <td>62</td>\n",
              "      <td>78</td>\n",
              "      <td>89</td>\n",
              "      <td>77</td>\n",
              "      <td>79</td>\n",
              "      <td>84</td>\n",
              "      <td>81</td>\n",
              "      <td>83</td>\n",
              "      <td>1</td>\n",
              "      <td>central_ataque</td>\n",
              "    </tr>\n",
              "    <tr>\n",
              "      <th>3</th>\n",
              "      <td>Luis Suárez</td>\n",
              "      <td>Uruguay</td>\n",
              "      <td>LS</td>\n",
              "      <td>ST</td>\n",
              "      <td>182</td>\n",
              "      <td>85</td>\n",
              "      <td>Right</td>\n",
              "      <td>30</td>\n",
              "      <td>High / Medium</td>\n",
              "      <td>4</td>\n",
              "      <td>4</td>\n",
              "      <td>91</td>\n",
              "      <td>86</td>\n",
              "      <td>30</td>\n",
              "      <td>38</td>\n",
              "      <td>45</td>\n",
              "      <td>78</td>\n",
              "      <td>93</td>\n",
              "      <td>41</td>\n",
              "      <td>84</td>\n",
              "      <td>83</td>\n",
              "      <td>77</td>\n",
              "      <td>83</td>\n",
              "      <td>64</td>\n",
              "      <td>88</td>\n",
              "      <td>77</td>\n",
              "      <td>89</td>\n",
              "      <td>76</td>\n",
              "      <td>60</td>\n",
              "      <td>86</td>\n",
              "      <td>69</td>\n",
              "      <td>77</td>\n",
              "      <td>87</td>\n",
              "      <td>94</td>\n",
              "      <td>86</td>\n",
              "      <td>86</td>\n",
              "      <td>84</td>\n",
              "      <td>85</td>\n",
              "      <td>88</td>\n",
              "      <td>1</td>\n",
              "      <td>ataque</td>\n",
              "    </tr>\n",
              "    <tr>\n",
              "      <th>4</th>\n",
              "      <td>Manuel Neuer</td>\n",
              "      <td>Germany</td>\n",
              "      <td>GK</td>\n",
              "      <td>GK</td>\n",
              "      <td>193</td>\n",
              "      <td>92</td>\n",
              "      <td>Right</td>\n",
              "      <td>31</td>\n",
              "      <td>Medium / Medium</td>\n",
              "      <td>4</td>\n",
              "      <td>1</td>\n",
              "      <td>48</td>\n",
              "      <td>30</td>\n",
              "      <td>10</td>\n",
              "      <td>11</td>\n",
              "      <td>10</td>\n",
              "      <td>29</td>\n",
              "      <td>85</td>\n",
              "      <td>30</td>\n",
              "      <td>70</td>\n",
              "      <td>70</td>\n",
              "      <td>15</td>\n",
              "      <td>55</td>\n",
              "      <td>59</td>\n",
              "      <td>58</td>\n",
              "      <td>61</td>\n",
              "      <td>44</td>\n",
              "      <td>83</td>\n",
              "      <td>35</td>\n",
              "      <td>52</td>\n",
              "      <td>78</td>\n",
              "      <td>25</td>\n",
              "      <td>25</td>\n",
              "      <td>13</td>\n",
              "      <td>16</td>\n",
              "      <td>14</td>\n",
              "      <td>11</td>\n",
              "      <td>47</td>\n",
              "      <td>11</td>\n",
              "      <td>1</td>\n",
              "      <td>arquero</td>\n",
              "    </tr>\n",
              "  </tbody>\n",
              "</table>\n",
              "</div>"
            ],
            "text/plain": [
              "                Name Nationality  ... Seleccionado_Nacional        Position\n",
              "0  Cristiano Ronaldo    Portugal  ...                     1  central_ataque\n",
              "1       Lionel Messi   Argentina  ...                     1  central_ataque\n",
              "2             Neymar      Brazil  ...                     1  central_ataque\n",
              "3        Luis Suárez     Uruguay  ...                     1          ataque\n",
              "4       Manuel Neuer     Germany  ...                     1         arquero\n",
              "\n",
              "[5 rows x 41 columns]"
            ]
          },
          "metadata": {},
          "execution_count": 41
        }
      ]
    },
    {
      "cell_type": "code",
      "metadata": {
        "id": "iJ8ZGXUjNSxr"
      },
      "source": [
        "df_sueldos.rename(columns={'Player':'Name'},inplace=True)"
      ],
      "execution_count": 42,
      "outputs": []
    },
    {
      "cell_type": "code",
      "metadata": {
        "id": "hXL0V8rSQG9V"
      },
      "source": [
        "df_completo = df_players.merge(df_sueldos, on = 'Name')"
      ],
      "execution_count": 43,
      "outputs": []
    },
    {
      "cell_type": "code",
      "metadata": {
        "colab": {
          "base_uri": "https://localhost:8080/",
          "height": 635
        },
        "id": "47f3q1v06HAc",
        "outputId": "703d548f-1947-4214-cd09-369dfade0b3c"
      },
      "source": [
        "df_completo"
      ],
      "execution_count": 44,
      "outputs": [
        {
          "output_type": "execute_result",
          "data": {
            "text/html": [
              "<div>\n",
              "<style scoped>\n",
              "    .dataframe tbody tr th:only-of-type {\n",
              "        vertical-align: middle;\n",
              "    }\n",
              "\n",
              "    .dataframe tbody tr th {\n",
              "        vertical-align: top;\n",
              "    }\n",
              "\n",
              "    .dataframe thead th {\n",
              "        text-align: right;\n",
              "    }\n",
              "</style>\n",
              "<table border=\"1\" class=\"dataframe\">\n",
              "  <thead>\n",
              "    <tr style=\"text-align: right;\">\n",
              "      <th></th>\n",
              "      <th>Name</th>\n",
              "      <th>Nationality</th>\n",
              "      <th>National_Position</th>\n",
              "      <th>Club_Position</th>\n",
              "      <th>Height</th>\n",
              "      <th>Weight</th>\n",
              "      <th>Preffered_Foot</th>\n",
              "      <th>Age</th>\n",
              "      <th>Work_Rate</th>\n",
              "      <th>Weak_foot</th>\n",
              "      <th>Skill_Moves</th>\n",
              "      <th>Ball_Control</th>\n",
              "      <th>Dribbling</th>\n",
              "      <th>Marking</th>\n",
              "      <th>Sliding_Tackle</th>\n",
              "      <th>Standing_Tackle</th>\n",
              "      <th>Aggression</th>\n",
              "      <th>Reactions</th>\n",
              "      <th>Interceptions</th>\n",
              "      <th>Vision</th>\n",
              "      <th>Composure</th>\n",
              "      <th>Crossing</th>\n",
              "      <th>Short_Pass</th>\n",
              "      <th>Long_Pass</th>\n",
              "      <th>Acceleration</th>\n",
              "      <th>Speed</th>\n",
              "      <th>Stamina</th>\n",
              "      <th>Strength</th>\n",
              "      <th>Balance</th>\n",
              "      <th>Agility</th>\n",
              "      <th>Jumping</th>\n",
              "      <th>Heading</th>\n",
              "      <th>Shot_Power</th>\n",
              "      <th>Finishing</th>\n",
              "      <th>Long_Shots</th>\n",
              "      <th>Curve</th>\n",
              "      <th>Freekick_Accuracy</th>\n",
              "      <th>Penalties</th>\n",
              "      <th>Volleys</th>\n",
              "      <th>Seleccionado_Nacional</th>\n",
              "      <th>Position</th>\n",
              "      <th>Weekly Salary</th>\n",
              "    </tr>\n",
              "  </thead>\n",
              "  <tbody>\n",
              "    <tr>\n",
              "      <th>0</th>\n",
              "      <td>Cristiano Ronaldo</td>\n",
              "      <td>Portugal</td>\n",
              "      <td>LS</td>\n",
              "      <td>LW</td>\n",
              "      <td>185</td>\n",
              "      <td>80</td>\n",
              "      <td>Right</td>\n",
              "      <td>32</td>\n",
              "      <td>High / Low</td>\n",
              "      <td>4</td>\n",
              "      <td>5</td>\n",
              "      <td>93</td>\n",
              "      <td>92</td>\n",
              "      <td>22</td>\n",
              "      <td>23</td>\n",
              "      <td>31</td>\n",
              "      <td>63</td>\n",
              "      <td>96</td>\n",
              "      <td>29</td>\n",
              "      <td>85</td>\n",
              "      <td>86</td>\n",
              "      <td>84</td>\n",
              "      <td>83</td>\n",
              "      <td>77</td>\n",
              "      <td>91</td>\n",
              "      <td>92</td>\n",
              "      <td>92</td>\n",
              "      <td>80</td>\n",
              "      <td>63</td>\n",
              "      <td>90</td>\n",
              "      <td>95</td>\n",
              "      <td>85</td>\n",
              "      <td>92</td>\n",
              "      <td>93</td>\n",
              "      <td>90</td>\n",
              "      <td>81</td>\n",
              "      <td>76</td>\n",
              "      <td>85</td>\n",
              "      <td>88</td>\n",
              "      <td>1</td>\n",
              "      <td>central_ataque</td>\n",
              "      <td>1248536.0</td>\n",
              "    </tr>\n",
              "    <tr>\n",
              "      <th>1</th>\n",
              "      <td>Lionel Messi</td>\n",
              "      <td>Argentina</td>\n",
              "      <td>RW</td>\n",
              "      <td>RW</td>\n",
              "      <td>170</td>\n",
              "      <td>72</td>\n",
              "      <td>Left</td>\n",
              "      <td>29</td>\n",
              "      <td>Medium / Medium</td>\n",
              "      <td>4</td>\n",
              "      <td>4</td>\n",
              "      <td>95</td>\n",
              "      <td>97</td>\n",
              "      <td>13</td>\n",
              "      <td>26</td>\n",
              "      <td>28</td>\n",
              "      <td>48</td>\n",
              "      <td>95</td>\n",
              "      <td>22</td>\n",
              "      <td>90</td>\n",
              "      <td>94</td>\n",
              "      <td>77</td>\n",
              "      <td>88</td>\n",
              "      <td>87</td>\n",
              "      <td>92</td>\n",
              "      <td>87</td>\n",
              "      <td>74</td>\n",
              "      <td>59</td>\n",
              "      <td>95</td>\n",
              "      <td>90</td>\n",
              "      <td>68</td>\n",
              "      <td>71</td>\n",
              "      <td>85</td>\n",
              "      <td>95</td>\n",
              "      <td>88</td>\n",
              "      <td>89</td>\n",
              "      <td>90</td>\n",
              "      <td>74</td>\n",
              "      <td>85</td>\n",
              "      <td>1</td>\n",
              "      <td>central_ataque</td>\n",
              "      <td>1538905.0</td>\n",
              "    </tr>\n",
              "    <tr>\n",
              "      <th>2</th>\n",
              "      <td>Neymar</td>\n",
              "      <td>Brazil</td>\n",
              "      <td>LW</td>\n",
              "      <td>LW</td>\n",
              "      <td>174</td>\n",
              "      <td>68</td>\n",
              "      <td>Right</td>\n",
              "      <td>25</td>\n",
              "      <td>High / Medium</td>\n",
              "      <td>5</td>\n",
              "      <td>5</td>\n",
              "      <td>95</td>\n",
              "      <td>96</td>\n",
              "      <td>21</td>\n",
              "      <td>33</td>\n",
              "      <td>24</td>\n",
              "      <td>56</td>\n",
              "      <td>88</td>\n",
              "      <td>36</td>\n",
              "      <td>80</td>\n",
              "      <td>80</td>\n",
              "      <td>75</td>\n",
              "      <td>81</td>\n",
              "      <td>75</td>\n",
              "      <td>93</td>\n",
              "      <td>90</td>\n",
              "      <td>79</td>\n",
              "      <td>49</td>\n",
              "      <td>82</td>\n",
              "      <td>96</td>\n",
              "      <td>61</td>\n",
              "      <td>62</td>\n",
              "      <td>78</td>\n",
              "      <td>89</td>\n",
              "      <td>77</td>\n",
              "      <td>79</td>\n",
              "      <td>84</td>\n",
              "      <td>81</td>\n",
              "      <td>83</td>\n",
              "      <td>1</td>\n",
              "      <td>central_ataque</td>\n",
              "      <td>797726.0</td>\n",
              "    </tr>\n",
              "    <tr>\n",
              "      <th>3</th>\n",
              "      <td>Luis Suárez</td>\n",
              "      <td>Uruguay</td>\n",
              "      <td>LS</td>\n",
              "      <td>ST</td>\n",
              "      <td>182</td>\n",
              "      <td>85</td>\n",
              "      <td>Right</td>\n",
              "      <td>30</td>\n",
              "      <td>High / Medium</td>\n",
              "      <td>4</td>\n",
              "      <td>4</td>\n",
              "      <td>91</td>\n",
              "      <td>86</td>\n",
              "      <td>30</td>\n",
              "      <td>38</td>\n",
              "      <td>45</td>\n",
              "      <td>78</td>\n",
              "      <td>93</td>\n",
              "      <td>41</td>\n",
              "      <td>84</td>\n",
              "      <td>83</td>\n",
              "      <td>77</td>\n",
              "      <td>83</td>\n",
              "      <td>64</td>\n",
              "      <td>88</td>\n",
              "      <td>77</td>\n",
              "      <td>89</td>\n",
              "      <td>76</td>\n",
              "      <td>60</td>\n",
              "      <td>86</td>\n",
              "      <td>69</td>\n",
              "      <td>77</td>\n",
              "      <td>87</td>\n",
              "      <td>94</td>\n",
              "      <td>86</td>\n",
              "      <td>86</td>\n",
              "      <td>84</td>\n",
              "      <td>85</td>\n",
              "      <td>88</td>\n",
              "      <td>1</td>\n",
              "      <td>ataque</td>\n",
              "      <td>508923.0</td>\n",
              "    </tr>\n",
              "    <tr>\n",
              "      <th>4</th>\n",
              "      <td>Manuel Neuer</td>\n",
              "      <td>Germany</td>\n",
              "      <td>GK</td>\n",
              "      <td>GK</td>\n",
              "      <td>193</td>\n",
              "      <td>92</td>\n",
              "      <td>Right</td>\n",
              "      <td>31</td>\n",
              "      <td>Medium / Medium</td>\n",
              "      <td>4</td>\n",
              "      <td>1</td>\n",
              "      <td>48</td>\n",
              "      <td>30</td>\n",
              "      <td>10</td>\n",
              "      <td>11</td>\n",
              "      <td>10</td>\n",
              "      <td>29</td>\n",
              "      <td>85</td>\n",
              "      <td>30</td>\n",
              "      <td>70</td>\n",
              "      <td>70</td>\n",
              "      <td>15</td>\n",
              "      <td>55</td>\n",
              "      <td>59</td>\n",
              "      <td>58</td>\n",
              "      <td>61</td>\n",
              "      <td>44</td>\n",
              "      <td>83</td>\n",
              "      <td>35</td>\n",
              "      <td>52</td>\n",
              "      <td>78</td>\n",
              "      <td>25</td>\n",
              "      <td>25</td>\n",
              "      <td>13</td>\n",
              "      <td>16</td>\n",
              "      <td>14</td>\n",
              "      <td>11</td>\n",
              "      <td>47</td>\n",
              "      <td>11</td>\n",
              "      <td>1</td>\n",
              "      <td>arquero</td>\n",
              "      <td>326233.0</td>\n",
              "    </tr>\n",
              "    <tr>\n",
              "      <th>...</th>\n",
              "      <td>...</td>\n",
              "      <td>...</td>\n",
              "      <td>...</td>\n",
              "      <td>...</td>\n",
              "      <td>...</td>\n",
              "      <td>...</td>\n",
              "      <td>...</td>\n",
              "      <td>...</td>\n",
              "      <td>...</td>\n",
              "      <td>...</td>\n",
              "      <td>...</td>\n",
              "      <td>...</td>\n",
              "      <td>...</td>\n",
              "      <td>...</td>\n",
              "      <td>...</td>\n",
              "      <td>...</td>\n",
              "      <td>...</td>\n",
              "      <td>...</td>\n",
              "      <td>...</td>\n",
              "      <td>...</td>\n",
              "      <td>...</td>\n",
              "      <td>...</td>\n",
              "      <td>...</td>\n",
              "      <td>...</td>\n",
              "      <td>...</td>\n",
              "      <td>...</td>\n",
              "      <td>...</td>\n",
              "      <td>...</td>\n",
              "      <td>...</td>\n",
              "      <td>...</td>\n",
              "      <td>...</td>\n",
              "      <td>...</td>\n",
              "      <td>...</td>\n",
              "      <td>...</td>\n",
              "      <td>...</td>\n",
              "      <td>...</td>\n",
              "      <td>...</td>\n",
              "      <td>...</td>\n",
              "      <td>...</td>\n",
              "      <td>...</td>\n",
              "      <td>...</td>\n",
              "      <td>...</td>\n",
              "    </tr>\n",
              "    <tr>\n",
              "      <th>573</th>\n",
              "      <td>Dennis Lippert</td>\n",
              "      <td>Germany</td>\n",
              "      <td>NaN</td>\n",
              "      <td>LB</td>\n",
              "      <td>172</td>\n",
              "      <td>63</td>\n",
              "      <td>Left</td>\n",
              "      <td>21</td>\n",
              "      <td>Medium / Medium</td>\n",
              "      <td>3</td>\n",
              "      <td>2</td>\n",
              "      <td>62</td>\n",
              "      <td>54</td>\n",
              "      <td>58</td>\n",
              "      <td>58</td>\n",
              "      <td>64</td>\n",
              "      <td>56</td>\n",
              "      <td>54</td>\n",
              "      <td>59</td>\n",
              "      <td>36</td>\n",
              "      <td>38</td>\n",
              "      <td>62</td>\n",
              "      <td>55</td>\n",
              "      <td>33</td>\n",
              "      <td>66</td>\n",
              "      <td>65</td>\n",
              "      <td>55</td>\n",
              "      <td>35</td>\n",
              "      <td>79</td>\n",
              "      <td>73</td>\n",
              "      <td>76</td>\n",
              "      <td>42</td>\n",
              "      <td>33</td>\n",
              "      <td>25</td>\n",
              "      <td>40</td>\n",
              "      <td>49</td>\n",
              "      <td>26</td>\n",
              "      <td>28</td>\n",
              "      <td>23</td>\n",
              "      <td>0</td>\n",
              "      <td>defensa</td>\n",
              "      <td>620.0</td>\n",
              "    </tr>\n",
              "    <tr>\n",
              "      <th>574</th>\n",
              "      <td>Charles Traoré</td>\n",
              "      <td>Mali</td>\n",
              "      <td>NaN</td>\n",
              "      <td>LB</td>\n",
              "      <td>180</td>\n",
              "      <td>74</td>\n",
              "      <td>Left</td>\n",
              "      <td>25</td>\n",
              "      <td>Medium / Low</td>\n",
              "      <td>2</td>\n",
              "      <td>2</td>\n",
              "      <td>39</td>\n",
              "      <td>67</td>\n",
              "      <td>61</td>\n",
              "      <td>64</td>\n",
              "      <td>65</td>\n",
              "      <td>55</td>\n",
              "      <td>57</td>\n",
              "      <td>66</td>\n",
              "      <td>39</td>\n",
              "      <td>38</td>\n",
              "      <td>52</td>\n",
              "      <td>33</td>\n",
              "      <td>29</td>\n",
              "      <td>64</td>\n",
              "      <td>63</td>\n",
              "      <td>77</td>\n",
              "      <td>70</td>\n",
              "      <td>65</td>\n",
              "      <td>56</td>\n",
              "      <td>62</td>\n",
              "      <td>45</td>\n",
              "      <td>27</td>\n",
              "      <td>30</td>\n",
              "      <td>32</td>\n",
              "      <td>38</td>\n",
              "      <td>40</td>\n",
              "      <td>45</td>\n",
              "      <td>29</td>\n",
              "      <td>0</td>\n",
              "      <td>defensa</td>\n",
              "      <td>13289.0</td>\n",
              "    </tr>\n",
              "    <tr>\n",
              "      <th>575</th>\n",
              "      <td>Will Norris</td>\n",
              "      <td>England</td>\n",
              "      <td>NaN</td>\n",
              "      <td>GK</td>\n",
              "      <td>191</td>\n",
              "      <td>76</td>\n",
              "      <td>Left</td>\n",
              "      <td>23</td>\n",
              "      <td>Medium / Medium</td>\n",
              "      <td>3</td>\n",
              "      <td>1</td>\n",
              "      <td>20</td>\n",
              "      <td>13</td>\n",
              "      <td>13</td>\n",
              "      <td>17</td>\n",
              "      <td>16</td>\n",
              "      <td>20</td>\n",
              "      <td>46</td>\n",
              "      <td>21</td>\n",
              "      <td>42</td>\n",
              "      <td>39</td>\n",
              "      <td>11</td>\n",
              "      <td>30</td>\n",
              "      <td>34</td>\n",
              "      <td>40</td>\n",
              "      <td>49</td>\n",
              "      <td>36</td>\n",
              "      <td>60</td>\n",
              "      <td>51</td>\n",
              "      <td>35</td>\n",
              "      <td>54</td>\n",
              "      <td>11</td>\n",
              "      <td>18</td>\n",
              "      <td>10</td>\n",
              "      <td>10</td>\n",
              "      <td>17</td>\n",
              "      <td>18</td>\n",
              "      <td>16</td>\n",
              "      <td>12</td>\n",
              "      <td>0</td>\n",
              "      <td>arquero</td>\n",
              "      <td>3958.0</td>\n",
              "    </tr>\n",
              "    <tr>\n",
              "      <th>576</th>\n",
              "      <td>Harvey Barnes</td>\n",
              "      <td>England</td>\n",
              "      <td>NaN</td>\n",
              "      <td>CAM</td>\n",
              "      <td>179</td>\n",
              "      <td>68</td>\n",
              "      <td>Left</td>\n",
              "      <td>19</td>\n",
              "      <td>Medium / Medium</td>\n",
              "      <td>3</td>\n",
              "      <td>3</td>\n",
              "      <td>59</td>\n",
              "      <td>62</td>\n",
              "      <td>41</td>\n",
              "      <td>44</td>\n",
              "      <td>48</td>\n",
              "      <td>48</td>\n",
              "      <td>44</td>\n",
              "      <td>43</td>\n",
              "      <td>55</td>\n",
              "      <td>56</td>\n",
              "      <td>50</td>\n",
              "      <td>58</td>\n",
              "      <td>51</td>\n",
              "      <td>77</td>\n",
              "      <td>75</td>\n",
              "      <td>58</td>\n",
              "      <td>48</td>\n",
              "      <td>58</td>\n",
              "      <td>65</td>\n",
              "      <td>41</td>\n",
              "      <td>40</td>\n",
              "      <td>57</td>\n",
              "      <td>50</td>\n",
              "      <td>52</td>\n",
              "      <td>56</td>\n",
              "      <td>52</td>\n",
              "      <td>49</td>\n",
              "      <td>50</td>\n",
              "      <td>0</td>\n",
              "      <td>central_ataque</td>\n",
              "      <td>13193.0</td>\n",
              "    </tr>\n",
              "    <tr>\n",
              "      <th>577</th>\n",
              "      <td>Pontus Dahlberg</td>\n",
              "      <td>Sweden</td>\n",
              "      <td>NaN</td>\n",
              "      <td>GK</td>\n",
              "      <td>194</td>\n",
              "      <td>84</td>\n",
              "      <td>Right</td>\n",
              "      <td>18</td>\n",
              "      <td>Medium / Medium</td>\n",
              "      <td>3</td>\n",
              "      <td>1</td>\n",
              "      <td>13</td>\n",
              "      <td>10</td>\n",
              "      <td>9</td>\n",
              "      <td>13</td>\n",
              "      <td>13</td>\n",
              "      <td>25</td>\n",
              "      <td>54</td>\n",
              "      <td>6</td>\n",
              "      <td>24</td>\n",
              "      <td>27</td>\n",
              "      <td>11</td>\n",
              "      <td>26</td>\n",
              "      <td>26</td>\n",
              "      <td>25</td>\n",
              "      <td>31</td>\n",
              "      <td>25</td>\n",
              "      <td>61</td>\n",
              "      <td>21</td>\n",
              "      <td>24</td>\n",
              "      <td>34</td>\n",
              "      <td>11</td>\n",
              "      <td>16</td>\n",
              "      <td>5</td>\n",
              "      <td>9</td>\n",
              "      <td>10</td>\n",
              "      <td>11</td>\n",
              "      <td>12</td>\n",
              "      <td>9</td>\n",
              "      <td>0</td>\n",
              "      <td>arquero</td>\n",
              "      <td>3958.0</td>\n",
              "    </tr>\n",
              "  </tbody>\n",
              "</table>\n",
              "<p>578 rows × 42 columns</p>\n",
              "</div>"
            ],
            "text/plain": [
              "                  Name Nationality  ...        Position Weekly Salary\n",
              "0    Cristiano Ronaldo    Portugal  ...  central_ataque     1248536.0\n",
              "1         Lionel Messi   Argentina  ...  central_ataque     1538905.0\n",
              "2               Neymar      Brazil  ...  central_ataque      797726.0\n",
              "3          Luis Suárez     Uruguay  ...          ataque      508923.0\n",
              "4         Manuel Neuer     Germany  ...         arquero      326233.0\n",
              "..                 ...         ...  ...             ...           ...\n",
              "573     Dennis Lippert     Germany  ...         defensa         620.0\n",
              "574     Charles Traoré        Mali  ...         defensa       13289.0\n",
              "575        Will Norris     England  ...         arquero        3958.0\n",
              "576      Harvey Barnes     England  ...  central_ataque       13193.0\n",
              "577    Pontus Dahlberg      Sweden  ...         arquero        3958.0\n",
              "\n",
              "[578 rows x 42 columns]"
            ]
          },
          "metadata": {},
          "execution_count": 44
        }
      ]
    },
    {
      "cell_type": "code",
      "metadata": {
        "id": "jwITMKsxNTac"
      },
      "source": [
        "# Transformaciones para las variables numéricas y variables categóricas\n",
        "preprocessor = ColumnTransformer( transformers=[('OneHotEncoder', OneHotEncoder(handle_unknown='ignore'),  ['Club_Position',  'Preffered_Foot', 'Work_Rate', 'Weak_foot', 'Skill_Moves' , 'Nationality']),\n",
        "                                                    ('StandardScaler', StandardScaler(),['Height', \t   'Age',  'Ball_Control',  'Dribbling', 'Marking', 'Sliding_Tackle',  'Standing_Tackle',   \n",
        "                                                                                         'Aggression',   'Reactions',  'Interceptions',   'Vision',  'Composure',  'Crossing',  'Short_Pass',  'Long_Pass',\n",
        "                                                                                         'Acceleration',   'Speed',  'Stamina',   'Strength',   'Balance',   'Agility',   'Jumping',   'Heading',   'Shot_Power',\n",
        "                                                                                         'Finishing',   'Long_Shots',   'Curve',   'Freekick_Accuracy',   'Penalties',   'Volleys', 'Weekly Salary'])])"
      ],
      "execution_count": 45,
      "outputs": []
    },
    {
      "cell_type": "code",
      "metadata": {
        "id": "CG5NXUbNSxmH"
      },
      "source": [
        "X = df_completo.drop(['Weekly Salary'], axis=1)  \n",
        "X = df_completo.drop(['Name', 'National_Position'], axis=1) # features\n",
        "y = df_completo['Weekly Salary'] # target\n",
        "\n",
        "X_train, X_test, y_train, y_test = train_test_split(X, y , test_size=0.33, shuffle=True)"
      ],
      "execution_count": 46,
      "outputs": []
    },
    {
      "cell_type": "code",
      "metadata": {
        "id": "pwhiCNOmNWlT"
      },
      "source": [
        "#pipe = Pipeline([('preprocessing', preprocessor),('modelo', Lasso())])\n",
        "#pipe = Pipeline([('preprocessing', preprocessor),('modelo', Ridge())])\n",
        "\n",
        "pipe = Pipeline([('preprocessing', preprocessor),('modelo', RandomForestRegressor())])"
      ],
      "execution_count": 47,
      "outputs": []
    },
    {
      "cell_type": "code",
      "metadata": {
        "id": "Qogf2sQqNZh7",
        "colab": {
          "base_uri": "https://localhost:8080/"
        },
        "outputId": "5f958634-bf63-4935-d5a4-5450d6a7927e"
      },
      "source": [
        "pipe.fit(X_train, y_train)"
      ],
      "execution_count": 48,
      "outputs": [
        {
          "output_type": "execute_result",
          "data": {
            "text/plain": [
              "Pipeline(steps=[('preprocessing',\n",
              "                 ColumnTransformer(transformers=[('OneHotEncoder',\n",
              "                                                  OneHotEncoder(handle_unknown='ignore'),\n",
              "                                                  ['Club_Position',\n",
              "                                                   'Preffered_Foot',\n",
              "                                                   'Work_Rate', 'Weak_foot',\n",
              "                                                   'Skill_Moves',\n",
              "                                                   'Nationality']),\n",
              "                                                 ('StandardScaler',\n",
              "                                                  StandardScaler(),\n",
              "                                                  ['Height', 'Age',\n",
              "                                                   'Ball_Control', 'Dribbling',\n",
              "                                                   'Marking', 'Sliding_Tackle',\n",
              "                                                   'Standing_Tackle',\n",
              "                                                   'Aggression', 'Reactions',\n",
              "                                                   'Interceptions', 'Vision',\n",
              "                                                   'Composure', 'Crossing',\n",
              "                                                   'Short_Pass', 'Long_Pass',\n",
              "                                                   'Acceleration', 'Speed',\n",
              "                                                   'Stamina', 'Strength',\n",
              "                                                   'Balance', 'Agility',\n",
              "                                                   'Jumping', 'Heading',\n",
              "                                                   'Shot_Power', 'Finishing',\n",
              "                                                   'Long_Shots', 'Curve',\n",
              "                                                   'Freekick_Accuracy',\n",
              "                                                   'Penalties', 'Volleys', ...])])),\n",
              "                ('modelo', RandomForestRegressor())])"
            ]
          },
          "metadata": {},
          "execution_count": 48
        }
      ]
    },
    {
      "cell_type": "code",
      "metadata": {
        "id": "Ptdikhm4QiXu"
      },
      "source": [
        "# Predección\n",
        "y_pred = pipe.predict(X_test)"
      ],
      "execution_count": 50,
      "outputs": []
    },
    {
      "cell_type": "code",
      "metadata": {
        "id": "dFCAvYd9NeFD",
        "colab": {
          "base_uri": "https://localhost:8080/"
        },
        "outputId": "ef9fd615-858f-4e2b-8cb7-2c6f98d5d3ce"
      },
      "source": [
        "# Evaluación\n",
        "from sklearn.metrics import r2_score\n",
        "r2_score(y_pred, y_test)\n"
      ],
      "execution_count": 51,
      "outputs": [
        {
          "output_type": "execute_result",
          "data": {
            "text/plain": [
              "0.9595614119359895"
            ]
          },
          "metadata": {},
          "execution_count": 51
        }
      ]
    },
    {
      "cell_type": "markdown",
      "metadata": {
        "id": "wch5l1hBcXol"
      },
      "source": [
        "**Respuesta**:\n",
        "\n",
        "```\n",
        "Comente de resultados observados y si es posible mejorar los resultados.\n",
        "```\n",
        "Como se propuso, se estaba trabajando con el modelo de regresión Ridge, pero se obtenía una métrica R^2 negativa, por lo que el modelo no era bueno, se probaron dos alternativas, cambiar por un tipo de regresión Lasso, la cual tampoco dio buenos resultados y finalmente, se trabaja con el modelo RandomForestRegressor y se obtiene una métrica R^2 de 0.95 lo cual es un muy buen modelo. Podría evidentemente mejorar los resultados, para ello se podría utilizar quizás otro modelo de regresión.\n"
      ]
    },
    {
      "cell_type": "markdown",
      "metadata": {
        "id": "Rg4ZMq8ezAH6"
      },
      "source": [
        "# Conclusión\n",
        "Eso ha sido todo para el lab de hoy, recuerden que el laboratorio tiene un plazo de entrega de una semana. Cualquier duda del laboratorio, no duden en contactarnos por mail o U-cursos.\n",
        "\n",
        "<p align=\"center\">\n",
        "  <img src=\"https://media2.giphy.com/media/l1J3CbFgn5o7DGRuE/giphy.gif\">\n",
        "</p>"
      ]
    },
    {
      "cell_type": "markdown",
      "metadata": {
        "id": "wCL1lACBzAH7"
      },
      "source": [
        "<br>\n",
        "<center>\n",
        "<img src=\"https://i.kym-cdn.com/photos/images/original/001/194/195/b18.png\" width=100 height=50 />\n",
        "</center>\n",
        "<br>"
      ]
    },
    {
      "cell_type": "markdown",
      "metadata": {
        "id": "ybzGXM-9cXol"
      },
      "source": [
        "<a style='text-decoration:none;line-height:16px;display:flex;color:#5B5B62;padding:10px;justify-content:end;' href='https://deepnote.com?utm_source=created-in-deepnote-cell&projectId=87110296-876e-426f-b91d-aaf681223468' target=\"_blank\">\n",
        "<img alt='Created in deepnote.com' style='display:inline;max-height:16px;margin:0px;margin-right:7.5px;' src='data:image/svg+xml;base64,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' > </img>\n",
        "Created in <span style='font-weight:600;margin-left:4px;'>Deepnote</span></a>"
      ]
    }
  ]
}