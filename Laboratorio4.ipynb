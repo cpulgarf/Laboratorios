{
  "nbformat": 4,
  "nbformat_minor": 0,
  "metadata": {
    "kernelspec": {
      "name": "python3",
      "display_name": "Python 3.9.6 64-bit ('base': conda)"
    },
    "language_info": {
      "codemirror_mode": {
        "name": "ipython",
        "version": 3
      },
      "file_extension": ".py",
      "mimetype": "text/x-python",
      "name": "python",
      "nbconvert_exporter": "python",
      "pygments_lexer": "ipython3",
      "version": "3.9.6"
    },
    "toc": {
      "base_numbering": 1,
      "nav_menu": {},
      "number_sections": true,
      "sideBar": true,
      "skip_h1_title": true,
      "title_cell": "Tabla de Contenidos",
      "title_sidebar": "Contenidos",
      "toc_cell": false,
      "toc_position": {
        "height": "calc(100% - 180px)",
        "left": "10px",
        "top": "150px",
        "width": "241.867px"
      },
      "toc_section_display": true,
      "toc_window_display": true
    },
    "varInspector": {
      "cols": {
        "lenName": 16,
        "lenType": 16,
        "lenVar": 40
      },
      "kernels_config": {
        "python": {
          "delete_cmd_postfix": "",
          "delete_cmd_prefix": "del ",
          "library": "var_list.py",
          "varRefreshCmd": "print(var_dic_list())"
        },
        "r": {
          "delete_cmd_postfix": ") ",
          "delete_cmd_prefix": "rm(",
          "library": "var_list.r",
          "varRefreshCmd": "cat(var_dic_list()) "
        }
      },
      "types_to_exclude": [
        "module",
        "function",
        "builtin_function_or_method",
        "instance",
        "_Feature"
      ],
      "window_display": false
    },
    "colab": {
      "name": "Laboratorio4.ipynb",
      "provenance": [],
      "collapsed_sections": [],
      "toc_visible": true
    },
    "interpreter": {
      "hash": "09cf3d5909f3828bf53c46564821f879a9c8405e40e27fb09b54d745264e4a6d"
    }
  },
  "cells": [
    {
      "cell_type": "markdown",
      "metadata": {
        "id": "XUZ1dFPHzAHl"
      },
      "source": [
        "<h1><center>Laboratorio 4: El Pandas no muerde (act. II) 🐼</center></h1>\n",
        "\n",
        "<center><strong>MDS7202: Laboratorio de Programación Científica para Ciencia de Datos</strong></center>"
      ]
    },
    {
      "cell_type": "markdown",
      "metadata": {
        "id": "UD8X1uhGzAHq"
      },
      "source": [
        "### Cuerpo Docente:\n",
        "\n",
        "- Profesor: Pablo Badilla\n",
        "- Auxiliar: Ignacio Meza D.\n",
        "- Ayudante: Constanza Peña"
      ]
    },
    {
      "cell_type": "markdown",
      "metadata": {
        "id": "tXflExjqzAHr"
      },
      "source": [
        "### Equipo: SUPER IMPORTANTE - notebooks sin nombre no serán revisados\n",
        "\n",
        "- Nombre de alumno 1: Camila J. Pulgar Fernández\n",
        "- Nombre de alumno 2: Francisca Solis G. "
      ]
    },
    {
      "cell_type": "markdown",
      "metadata": {
        "id": "AD-V0bbZzAHr"
      },
      "source": [
        "### **Link de repositorio de GitHub:** `https://github.com/cpulgarf/Laboratorios`"
      ]
    },
    {
      "cell_type": "markdown",
      "metadata": {
        "id": "6uBLPj1PzAHs"
      },
      "source": [
        "# Temas a tratar\n",
        "\n",
        "- Manejo de datos tabulares usando `pandas`. En esta segunda parte se incluye adicionalmente agregaciones, concatenaciones, merge y trabajo con strings.\n",
        "- Visualizaciones interactivas de los datos con `plotly`.\n",
        "\n",
        "### Reglas:\n",
        "\n",
        "- Fecha de entrega: 8 de octubre (atrasos hasta el 11 de octubre, 1 punto de descuento por día)\n",
        "- **Grupos de máximo 2 personas**\n",
        "- **Ausentes** deberán realizar la actividad solos. \n",
        "- Cualquier duda fuera del horario de clases al foro. Mensajes al equipo docente serán respondidos por este medio.\n",
        "- Prohibidas las copias. \n",
        "- Pueden usar cualquer matrial del curso que estimen conveniente.\n",
        "\n",
        "\n",
        "### Objetivos principales del laboratorio\n",
        "\n",
        "- Aplicar y aprovechar las ventajas que nos ofrece la libreria `pandas`.\n",
        "- Utilizar `plotly` para obtener información gráfica del dataset.\n",
        "- Aplicar el **Análisis Exploratorio de Datos** a un caso en particular.\n",
        "\n",
        "\n",
        "> **Nota**: El laboratorio deberá ser desarrollado sin el uso indiscriminado de iteradores nativos de python (aka \"for\", \"while\"). La idea es que aprendan a exprimir al máximo las funciones optimizadas que nos entrega `pandas`, las cuales vale mencionar, son bastante más eficientes que los iteradores nativos sobre DataFrames."
      ]
    },
    {
      "cell_type": "markdown",
      "metadata": {
        "id": "MhISwri4zAHy"
      },
      "source": [
        "# Importamos librerias utiles 😸"
      ]
    },
    {
      "cell_type": "code",
      "metadata": {
        "ExecuteTime": {
          "end_time": "2021-03-29T00:08:16.884674Z",
          "start_time": "2021-03-29T00:08:16.349846Z"
        },
        "id": "uyc33dKdzAHy"
      },
      "source": [
        "# Libreria Core del lab.\n",
        "import numpy as np\n",
        "import pandas as pd \n",
        "\n",
        "from IPython.display import display\n",
        "#Libreria para plotear\n",
        "import plotly.graph_objects as go\n",
        "\n",
        "#Libreria para visualizar\n",
        "#!pip install --upgrade plotly\n",
        "import plotly.figure_factory as ff\n",
        "import plotly.express as px"
      ],
      "execution_count": 3,
      "outputs": []
    },
    {
      "cell_type": "markdown",
      "metadata": {
        "id": "xpOTbQcxbSiy"
      },
      "source": [
        "# 1. Rendimiento en Estudiantes 📚"
      ]
    },
    {
      "cell_type": "markdown",
      "metadata": {
        "id": "3Q93vbNS25bM"
      },
      "source": [
        "\n",
        "<p align=\"center\">\n",
        "  <img src=\"https://drive.google.com/uc?export=view&id=1hZZaPQlZe4VupFOXt76_wjuUA5NpUhrw\" width=\"300\" height=\"300\">\n",
        "</p>"
      ]
    },
    {
      "cell_type": "markdown",
      "metadata": {
        "id": "jnmZfFpxTTYX"
      },
      "source": [
        "Para este laboratorio deberán continuar el Análisis Exploratorio de datos sobre el conjunto ```students_grades.csv```, el cual contiene una caracterización sobre el rendimiento y otros atributos de cada alumno de la *Universidad de la Cachaña* ."
      ]
    },
    {
      "cell_type": "code",
      "metadata": {
        "colab": {
          "base_uri": "https://localhost:8080/"
        },
        "id": "Jqq-s010Iwl1",
        "outputId": "f338cbc6-b096-4529-aae4-16ea519dab00"
      },
      "source": [
        "# Si usted está utilizando Colabolatory le puede ser útil este código para cargar los archivos.\n",
        "try:\n",
        "    from google.colab import drive\n",
        "    drive.mount(\"/content/drive\")\n",
        "    path = '/content/drive/MyDrive/Lab4'\n",
        "except: \n",
        "    print('Ignorando conexión drive-colab')"
      ],
      "execution_count": null,
      "outputs": [
        {
          "output_type": "stream",
          "name": "stdout",
          "text": [
            "Drive already mounted at /content/drive; to attempt to forcibly remount, call drive.mount(\"/content/drive\", force_remount=True).\n"
          ]
        }
      ]
    },
    {
      "cell_type": "markdown",
      "metadata": {
        "id": "oSfWnJ2bCS92"
      },
      "source": [
        "# 1. Carga de Datos [0.5 Puntos]\n",
        "\n",
        "Ya finalizado en análisis inicial, ud. y su equipo le entregaron a *Don Caguayo* (rector de la Universidad de la Cachaña) tanto los resultados del análisis como también la base de datos limpia y lista para ser almacenada. Dada la ingente cantidad de los datos, el equipo de TI de la universidad resolvió separar el dataset en dos bases de datos distintas (lo que según argumentan ellos, permitiría hacer agregaciones de forma más eficiente). \n",
        "\n",
        "Gracias a la excelente labor de ud. y su equipo en el análisis previo, el rector le solicita continuar el trabajo con una nueva batería de análisis. Por este motivo, la sección de TI les entrega nuevamente los datos. Sin embargo, argumentan que dada una escazes de personal, solo le entregarán *dumps* (copias) de cada base de datos y su equipo deberá unir las bases de datos. Los datos se encuentran en los siguiente archivos `.json`: ´students_grades_1.json´ y ´students_grades_2.json´. \n",
        "\n",
        "\n",
        "Por ende, ud. y su equipo deciden que la primera tarea se centrará en cargar estos datos y unirlos. No se preocupe por la limpieza ni transformar el tipo de datos de las columnas, ni tampoco transformar a notas chilenas, recuerde que anteriormente ya se encargo de este tema."
      ]
    },
    {
      "cell_type": "code",
      "metadata": {
        "colab": {
          "resources": {
            "http://localhost:8080/nbextensions/google.colab/files.js": {
              "data": "Ly8gQ29weXJpZ2h0IDIwMTcgR29vZ2xlIExMQwovLwovLyBMaWNlbnNlZCB1bmRlciB0aGUgQXBhY2hlIExpY2Vuc2UsIFZlcnNpb24gMi4wICh0aGUgIkxpY2Vuc2UiKTsKLy8geW91IG1heSBub3QgdXNlIHRoaXMgZmlsZSBleGNlcHQgaW4gY29tcGxpYW5jZSB3aXRoIHRoZSBMaWNlbnNlLgovLyBZb3UgbWF5IG9idGFpbiBhIGNvcHkgb2YgdGhlIExpY2Vuc2UgYXQKLy8KLy8gICAgICBodHRwOi8vd3d3LmFwYWNoZS5vcmcvbGljZW5zZXMvTElDRU5TRS0yLjAKLy8KLy8gVW5sZXNzIHJlcXVpcmVkIGJ5IGFwcGxpY2FibGUgbGF3IG9yIGFncmVlZCB0byBpbiB3cml0aW5nLCBzb2Z0d2FyZQovLyBkaXN0cmlidXRlZCB1bmRlciB0aGUgTGljZW5zZSBpcyBkaXN0cmlidXRlZCBvbiBhbiAiQVMgSVMiIEJBU0lTLAovLyBXSVRIT1VUIFdBUlJBTlRJRVMgT1IgQ09ORElUSU9OUyBPRiBBTlkgS0lORCwgZWl0aGVyIGV4cHJlc3Mgb3IgaW1wbGllZC4KLy8gU2VlIHRoZSBMaWNlbnNlIGZvciB0aGUgc3BlY2lmaWMgbGFuZ3VhZ2UgZ292ZXJuaW5nIHBlcm1pc3Npb25zIGFuZAovLyBsaW1pdGF0aW9ucyB1bmRlciB0aGUgTGljZW5zZS4KCi8qKgogKiBAZmlsZW92ZXJ2aWV3IEhlbHBlcnMgZm9yIGdvb2dsZS5jb2xhYiBQeXRob24gbW9kdWxlLgogKi8KKGZ1bmN0aW9uKHNjb3BlKSB7CmZ1bmN0aW9uIHNwYW4odGV4dCwgc3R5bGVBdHRyaWJ1dGVzID0ge30pIHsKICBjb25zdCBlbGVtZW50ID0gZG9jdW1lbnQuY3JlYXRlRWxlbWVudCgnc3BhbicpOwogIGVsZW1lbnQudGV4dENvbnRlbnQgPSB0ZXh0OwogIGZvciAoY29uc3Qga2V5IG9mIE9iamVjdC5rZXlzKHN0eWxlQXR0cmlidXRlcykpIHsKICAgIGVsZW1lbnQuc3R5bGVba2V5XSA9IHN0eWxlQXR0cmlidXRlc1trZXldOwogIH0KICByZXR1cm4gZWxlbWVudDsKfQoKLy8gTWF4IG51bWJlciBvZiBieXRlcyB3aGljaCB3aWxsIGJlIHVwbG9hZGVkIGF0IGEgdGltZS4KY29uc3QgTUFYX1BBWUxPQURfU0laRSA9IDEwMCAqIDEwMjQ7CgpmdW5jdGlvbiBfdXBsb2FkRmlsZXMoaW5wdXRJZCwgb3V0cHV0SWQpIHsKICBjb25zdCBzdGVwcyA9IHVwbG9hZEZpbGVzU3RlcChpbnB1dElkLCBvdXRwdXRJZCk7CiAgY29uc3Qgb3V0cHV0RWxlbWVudCA9IGRvY3VtZW50LmdldEVsZW1lbnRCeUlkKG91dHB1dElkKTsKICAvLyBDYWNoZSBzdGVwcyBvbiB0aGUgb3V0cHV0RWxlbWVudCB0byBtYWtlIGl0IGF2YWlsYWJsZSBmb3IgdGhlIG5leHQgY2FsbAogIC8vIHRvIHVwbG9hZEZpbGVzQ29udGludWUgZnJvbSBQeXRob24uCiAgb3V0cHV0RWxlbWVudC5zdGVwcyA9IHN0ZXBzOwoKICByZXR1cm4gX3VwbG9hZEZpbGVzQ29udGludWUob3V0cHV0SWQpOwp9CgovLyBUaGlzIGlzIHJvdWdobHkgYW4gYXN5bmMgZ2VuZXJhdG9yIChub3Qgc3VwcG9ydGVkIGluIHRoZSBicm93c2VyIHlldCksCi8vIHdoZXJlIHRoZXJlIGFyZSBtdWx0aXBsZSBhc3luY2hyb25vdXMgc3RlcHMgYW5kIHRoZSBQeXRob24gc2lkZSBpcyBnb2luZwovLyB0byBwb2xsIGZvciBjb21wbGV0aW9uIG9mIGVhY2ggc3RlcC4KLy8gVGhpcyB1c2VzIGEgUHJvbWlzZSB0byBibG9jayB0aGUgcHl0aG9uIHNpZGUgb24gY29tcGxldGlvbiBvZiBlYWNoIHN0ZXAsCi8vIHRoZW4gcGFzc2VzIHRoZSByZXN1bHQgb2YgdGhlIHByZXZpb3VzIHN0ZXAgYXMgdGhlIGlucHV0IHRvIHRoZSBuZXh0IHN0ZXAuCmZ1bmN0aW9uIF91cGxvYWRGaWxlc0NvbnRpbnVlKG91dHB1dElkKSB7CiAgY29uc3Qgb3V0cHV0RWxlbWVudCA9IGRvY3VtZW50LmdldEVsZW1lbnRCeUlkKG91dHB1dElkKTsKICBjb25zdCBzdGVwcyA9IG91dHB1dEVsZW1lbnQuc3RlcHM7CgogIGNvbnN0IG5leHQgPSBzdGVwcy5uZXh0KG91dHB1dEVsZW1lbnQubGFzdFByb21pc2VWYWx1ZSk7CiAgcmV0dXJuIFByb21pc2UucmVzb2x2ZShuZXh0LnZhbHVlLnByb21pc2UpLnRoZW4oKHZhbHVlKSA9PiB7CiAgICAvLyBDYWNoZSB0aGUgbGFzdCBwcm9taXNlIHZhbHVlIHRvIG1ha2UgaXQgYXZhaWxhYmxlIHRvIHRoZSBuZXh0CiAgICAvLyBzdGVwIG9mIHRoZSBnZW5lcmF0b3IuCiAgICBvdXRwdXRFbGVtZW50Lmxhc3RQcm9taXNlVmFsdWUgPSB2YWx1ZTsKICAgIHJldHVybiBuZXh0LnZhbHVlLnJlc3BvbnNlOwogIH0pOwp9CgovKioKICogR2VuZXJhdG9yIGZ1bmN0aW9uIHdoaWNoIGlzIGNhbGxlZCBiZXR3ZWVuIGVhY2ggYXN5bmMgc3RlcCBvZiB0aGUgdXBsb2FkCiAqIHByb2Nlc3MuCiAqIEBwYXJhbSB7c3RyaW5nfSBpbnB1dElkIEVsZW1lbnQgSUQgb2YgdGhlIGlucHV0IGZpbGUgcGlja2VyIGVsZW1lbnQuCiAqIEBwYXJhbSB7c3RyaW5nfSBvdXRwdXRJZCBFbGVtZW50IElEIG9mIHRoZSBvdXRwdXQgZGlzcGxheS4KICogQHJldHVybiB7IUl0ZXJhYmxlPCFPYmplY3Q+fSBJdGVyYWJsZSBvZiBuZXh0IHN0ZXBzLgogKi8KZnVuY3Rpb24qIHVwbG9hZEZpbGVzU3RlcChpbnB1dElkLCBvdXRwdXRJZCkgewogIGNvbnN0IGlucHV0RWxlbWVudCA9IGRvY3VtZW50LmdldEVsZW1lbnRCeUlkKGlucHV0SWQpOwogIGlucHV0RWxlbWVudC5kaXNhYmxlZCA9IGZhbHNlOwoKICBjb25zdCBvdXRwdXRFbGVtZW50ID0gZG9jdW1lbnQuZ2V0RWxlbWVudEJ5SWQob3V0cHV0SWQpOwogIG91dHB1dEVsZW1lbnQuaW5uZXJIVE1MID0gJyc7CgogIGNvbnN0IHBpY2tlZFByb21pc2UgPSBuZXcgUHJvbWlzZSgocmVzb2x2ZSkgPT4gewogICAgaW5wdXRFbGVtZW50LmFkZEV2ZW50TGlzdGVuZXIoJ2NoYW5nZScsIChlKSA9PiB7CiAgICAgIHJlc29sdmUoZS50YXJnZXQuZmlsZXMpOwogICAgfSk7CiAgfSk7CgogIGNvbnN0IGNhbmNlbCA9IGRvY3VtZW50LmNyZWF0ZUVsZW1lbnQoJ2J1dHRvbicpOwogIGlucHV0RWxlbWVudC5wYXJlbnRFbGVtZW50LmFwcGVuZENoaWxkKGNhbmNlbCk7CiAgY2FuY2VsLnRleHRDb250ZW50ID0gJ0NhbmNlbCB1cGxvYWQnOwogIGNvbnN0IGNhbmNlbFByb21pc2UgPSBuZXcgUHJvbWlzZSgocmVzb2x2ZSkgPT4gewogICAgY2FuY2VsLm9uY2xpY2sgPSAoKSA9PiB7CiAgICAgIHJlc29sdmUobnVsbCk7CiAgICB9OwogIH0pOwoKICAvLyBXYWl0IGZvciB0aGUgdXNlciB0byBwaWNrIHRoZSBmaWxlcy4KICBjb25zdCBmaWxlcyA9IHlpZWxkIHsKICAgIHByb21pc2U6IFByb21pc2UucmFjZShbcGlja2VkUHJvbWlzZSwgY2FuY2VsUHJvbWlzZV0pLAogICAgcmVzcG9uc2U6IHsKICAgICAgYWN0aW9uOiAnc3RhcnRpbmcnLAogICAgfQogIH07CgogIGNhbmNlbC5yZW1vdmUoKTsKCiAgLy8gRGlzYWJsZSB0aGUgaW5wdXQgZWxlbWVudCBzaW5jZSBmdXJ0aGVyIHBpY2tzIGFyZSBub3QgYWxsb3dlZC4KICBpbnB1dEVsZW1lbnQuZGlzYWJsZWQgPSB0cnVlOwoKICBpZiAoIWZpbGVzKSB7CiAgICByZXR1cm4gewogICAgICByZXNwb25zZTogewogICAgICAgIGFjdGlvbjogJ2NvbXBsZXRlJywKICAgICAgfQogICAgfTsKICB9CgogIGZvciAoY29uc3QgZmlsZSBvZiBmaWxlcykgewogICAgY29uc3QgbGkgPSBkb2N1bWVudC5jcmVhdGVFbGVtZW50KCdsaScpOwogICAgbGkuYXBwZW5kKHNwYW4oZmlsZS5uYW1lLCB7Zm9udFdlaWdodDogJ2JvbGQnfSkpOwogICAgbGkuYXBwZW5kKHNwYW4oCiAgICAgICAgYCgke2ZpbGUudHlwZSB8fCAnbi9hJ30pIC0gJHtmaWxlLnNpemV9IGJ5dGVzLCBgICsKICAgICAgICBgbGFzdCBtb2RpZmllZDogJHsKICAgICAgICAgICAgZmlsZS5sYXN0TW9kaWZpZWREYXRlID8gZmlsZS5sYXN0TW9kaWZpZWREYXRlLnRvTG9jYWxlRGF0ZVN0cmluZygpIDoKICAgICAgICAgICAgICAgICAgICAgICAgICAgICAgICAgICAgJ24vYSd9IC0gYCkpOwogICAgY29uc3QgcGVyY2VudCA9IHNwYW4oJzAlIGRvbmUnKTsKICAgIGxpLmFwcGVuZENoaWxkKHBlcmNlbnQpOwoKICAgIG91dHB1dEVsZW1lbnQuYXBwZW5kQ2hpbGQobGkpOwoKICAgIGNvbnN0IGZpbGVEYXRhUHJvbWlzZSA9IG5ldyBQcm9taXNlKChyZXNvbHZlKSA9PiB7CiAgICAgIGNvbnN0IHJlYWRlciA9IG5ldyBGaWxlUmVhZGVyKCk7CiAgICAgIHJlYWRlci5vbmxvYWQgPSAoZSkgPT4gewogICAgICAgIHJlc29sdmUoZS50YXJnZXQucmVzdWx0KTsKICAgICAgfTsKICAgICAgcmVhZGVyLnJlYWRBc0FycmF5QnVmZmVyKGZpbGUpOwogICAgfSk7CiAgICAvLyBXYWl0IGZvciB0aGUgZGF0YSB0byBiZSByZWFkeS4KICAgIGxldCBmaWxlRGF0YSA9IHlpZWxkIHsKICAgICAgcHJvbWlzZTogZmlsZURhdGFQcm9taXNlLAogICAgICByZXNwb25zZTogewogICAgICAgIGFjdGlvbjogJ2NvbnRpbnVlJywKICAgICAgfQogICAgfTsKCiAgICAvLyBVc2UgYSBjaHVua2VkIHNlbmRpbmcgdG8gYXZvaWQgbWVzc2FnZSBzaXplIGxpbWl0cy4gU2VlIGIvNjIxMTU2NjAuCiAgICBsZXQgcG9zaXRpb24gPSAwOwogICAgZG8gewogICAgICBjb25zdCBsZW5ndGggPSBNYXRoLm1pbihmaWxlRGF0YS5ieXRlTGVuZ3RoIC0gcG9zaXRpb24sIE1BWF9QQVlMT0FEX1NJWkUpOwogICAgICBjb25zdCBjaHVuayA9IG5ldyBVaW50OEFycmF5KGZpbGVEYXRhLCBwb3NpdGlvbiwgbGVuZ3RoKTsKICAgICAgcG9zaXRpb24gKz0gbGVuZ3RoOwoKICAgICAgY29uc3QgYmFzZTY0ID0gYnRvYShTdHJpbmcuZnJvbUNoYXJDb2RlLmFwcGx5KG51bGwsIGNodW5rKSk7CiAgICAgIHlpZWxkIHsKICAgICAgICByZXNwb25zZTogewogICAgICAgICAgYWN0aW9uOiAnYXBwZW5kJywKICAgICAgICAgIGZpbGU6IGZpbGUubmFtZSwKICAgICAgICAgIGRhdGE6IGJhc2U2NCwKICAgICAgICB9LAogICAgICB9OwoKICAgICAgbGV0IHBlcmNlbnREb25lID0gZmlsZURhdGEuYnl0ZUxlbmd0aCA9PT0gMCA/CiAgICAgICAgICAxMDAgOgogICAgICAgICAgTWF0aC5yb3VuZCgocG9zaXRpb24gLyBmaWxlRGF0YS5ieXRlTGVuZ3RoKSAqIDEwMCk7CiAgICAgIHBlcmNlbnQudGV4dENvbnRlbnQgPSBgJHtwZXJjZW50RG9uZX0lIGRvbmVgOwoKICAgIH0gd2hpbGUgKHBvc2l0aW9uIDwgZmlsZURhdGEuYnl0ZUxlbmd0aCk7CiAgfQoKICAvLyBBbGwgZG9uZS4KICB5aWVsZCB7CiAgICByZXNwb25zZTogewogICAgICBhY3Rpb246ICdjb21wbGV0ZScsCiAgICB9CiAgfTsKfQoKc2NvcGUuZ29vZ2xlID0gc2NvcGUuZ29vZ2xlIHx8IHt9OwpzY29wZS5nb29nbGUuY29sYWIgPSBzY29wZS5nb29nbGUuY29sYWIgfHwge307CnNjb3BlLmdvb2dsZS5jb2xhYi5fZmlsZXMgPSB7CiAgX3VwbG9hZEZpbGVzLAogIF91cGxvYWRGaWxlc0NvbnRpbnVlLAp9Owp9KShzZWxmKTsK",
              "ok": true,
              "headers": [
                [
                  "content-type",
                  "application/javascript"
                ]
              ],
              "status": 200,
              "status_text": "OK"
            }
          },
          "base_uri": "https://localhost:8080/",
          "height": 184
        },
        "id": "poeb__-LakiH",
        "outputId": "a1dcf65e-b315-40d8-81f2-b02f327574cc"
      },
      "source": [
        "from google.colab import files\n",
        "uploaded = files.upload()"
      ],
      "execution_count": 1,
      "outputs": [
        {
          "output_type": "display_data",
          "data": {
            "text/html": [
              "\n",
              "     <input type=\"file\" id=\"files-bd774e0b-0c50-4db1-a663-4a3473629b87\" name=\"files[]\" multiple disabled\n",
              "        style=\"border:none\" />\n",
              "     <output id=\"result-bd774e0b-0c50-4db1-a663-4a3473629b87\">\n",
              "      Upload widget is only available when the cell has been executed in the\n",
              "      current browser session. Please rerun this cell to enable.\n",
              "      </output>\n",
              "      <script src=\"/nbextensions/google.colab/files.js\"></script> "
            ],
            "text/plain": [
              "<IPython.core.display.HTML object>"
            ]
          },
          "metadata": {}
        },
        {
          "output_type": "stream",
          "name": "stdout",
          "text": [
            "Saving other_grades.csv to other_grades.csv\n",
            "Saving students_grades.json to students_grades.json\n",
            "Saving students_grades_1.json to students_grades_1.json\n",
            "Saving students_grades_2.json to students_grades_2.json\n"
          ]
        }
      ]
    },
    {
      "cell_type": "code",
      "metadata": {
        "colab": {
          "base_uri": "https://localhost:8080/"
        },
        "id": "3_xAZn-pbHbK",
        "outputId": "75f92797-1e9a-471a-c2e9-158d488a86b5"
      },
      "source": [
        "df_grades_1 = pd.read_json(\"students_grades_1.json\")\n",
        "df_grades_1.info()"
      ],
      "execution_count": 4,
      "outputs": [
        {
          "output_type": "stream",
          "name": "stdout",
          "text": [
            "<class 'pandas.core.frame.DataFrame'>\n",
            "RangeIndex: 400 entries, 0 to 399\n",
            "Data columns (total 9 columns):\n",
            " #   Column                       Non-Null Count  Dtype  \n",
            "---  ------                       --------------  -----  \n",
            " 0   names                        400 non-null    object \n",
            " 1   gender                       400 non-null    object \n",
            " 2   race/ethnicity               400 non-null    object \n",
            " 3   parental level of education  400 non-null    object \n",
            " 4   lunch                        400 non-null    object \n",
            " 5   test preparation course      400 non-null    object \n",
            " 6   math score                   400 non-null    float64\n",
            " 7   reading score                400 non-null    float64\n",
            " 8   writing score                400 non-null    float64\n",
            "dtypes: float64(3), object(6)\n",
            "memory usage: 28.2+ KB\n"
          ]
        }
      ]
    },
    {
      "cell_type": "code",
      "metadata": {
        "colab": {
          "base_uri": "https://localhost:8080/"
        },
        "id": "gEY80S3abHlx",
        "outputId": "b4272e7f-0590-4958-a123-6c7fb76ebf9e"
      },
      "source": [
        "df_grades_2 = pd.read_json(\"students_grades_2.json\")\n",
        "df_grades_2.info()"
      ],
      "execution_count": 5,
      "outputs": [
        {
          "output_type": "stream",
          "name": "stdout",
          "text": [
            "<class 'pandas.core.frame.DataFrame'>\n",
            "RangeIndex: 475 entries, 0 to 474\n",
            "Data columns (total 9 columns):\n",
            " #   Column                       Non-Null Count  Dtype  \n",
            "---  ------                       --------------  -----  \n",
            " 0   names                        475 non-null    object \n",
            " 1   gender                       475 non-null    object \n",
            " 2   race/ethnicity               475 non-null    object \n",
            " 3   parental level of education  475 non-null    object \n",
            " 4   lunch                        475 non-null    object \n",
            " 5   test preparation course      475 non-null    object \n",
            " 6   math score                   475 non-null    float64\n",
            " 7   reading score                475 non-null    float64\n",
            " 8   writing score                475 non-null    float64\n",
            "dtypes: float64(3), object(6)\n",
            "memory usage: 33.5+ KB\n"
          ]
        }
      ]
    },
    {
      "cell_type": "code",
      "metadata": {
        "id": "SUiBRpklCS93"
      },
      "source": [
        "df_grades = pd.concat([df_grades_1,df_grades_2],axis = 0)"
      ],
      "execution_count": 6,
      "outputs": []
    },
    {
      "cell_type": "code",
      "metadata": {
        "colab": {
          "base_uri": "https://localhost:8080/",
          "height": 424
        },
        "id": "uiWSouOqMutn",
        "outputId": "51648268-a9d7-4abe-c738-38e296e8b532"
      },
      "source": [
        "df_grades"
      ],
      "execution_count": 7,
      "outputs": [
        {
          "output_type": "execute_result",
          "data": {
            "text/html": [
              "<div>\n",
              "<style scoped>\n",
              "    .dataframe tbody tr th:only-of-type {\n",
              "        vertical-align: middle;\n",
              "    }\n",
              "\n",
              "    .dataframe tbody tr th {\n",
              "        vertical-align: top;\n",
              "    }\n",
              "\n",
              "    .dataframe thead th {\n",
              "        text-align: right;\n",
              "    }\n",
              "</style>\n",
              "<table border=\"1\" class=\"dataframe\">\n",
              "  <thead>\n",
              "    <tr style=\"text-align: right;\">\n",
              "      <th></th>\n",
              "      <th>names</th>\n",
              "      <th>gender</th>\n",
              "      <th>race/ethnicity</th>\n",
              "      <th>parental level of education</th>\n",
              "      <th>lunch</th>\n",
              "      <th>test preparation course</th>\n",
              "      <th>math score</th>\n",
              "      <th>reading score</th>\n",
              "      <th>writing score</th>\n",
              "    </tr>\n",
              "  </thead>\n",
              "  <tbody>\n",
              "    <tr>\n",
              "      <th>0</th>\n",
              "      <td>Rita Courtney</td>\n",
              "      <td>female</td>\n",
              "      <td>group B</td>\n",
              "      <td>some high school</td>\n",
              "      <td>standard</td>\n",
              "      <td>none</td>\n",
              "      <td>3.22</td>\n",
              "      <td>3.76</td>\n",
              "      <td>3.76</td>\n",
              "    </tr>\n",
              "    <tr>\n",
              "      <th>1</th>\n",
              "      <td>Charles Linstrom</td>\n",
              "      <td>male</td>\n",
              "      <td>group A</td>\n",
              "      <td>bachelor's degree</td>\n",
              "      <td>standard</td>\n",
              "      <td>completed</td>\n",
              "      <td>5.80</td>\n",
              "      <td>5.68</td>\n",
              "      <td>5.86</td>\n",
              "    </tr>\n",
              "    <tr>\n",
              "      <th>2</th>\n",
              "      <td>Brian Young</td>\n",
              "      <td>male</td>\n",
              "      <td>group C</td>\n",
              "      <td>some high school</td>\n",
              "      <td>standard</td>\n",
              "      <td>none</td>\n",
              "      <td>5.38</td>\n",
              "      <td>4.96</td>\n",
              "      <td>4.78</td>\n",
              "    </tr>\n",
              "    <tr>\n",
              "      <th>3</th>\n",
              "      <td>Howard Jimenez</td>\n",
              "      <td>male</td>\n",
              "      <td>group E</td>\n",
              "      <td>some high school</td>\n",
              "      <td>standard</td>\n",
              "      <td>completed</td>\n",
              "      <td>5.86</td>\n",
              "      <td>5.50</td>\n",
              "      <td>5.56</td>\n",
              "    </tr>\n",
              "    <tr>\n",
              "      <th>4</th>\n",
              "      <td>Wayne Wilson</td>\n",
              "      <td>male</td>\n",
              "      <td>group B</td>\n",
              "      <td>some high school</td>\n",
              "      <td>standard</td>\n",
              "      <td>completed</td>\n",
              "      <td>6.64</td>\n",
              "      <td>6.16</td>\n",
              "      <td>6.22</td>\n",
              "    </tr>\n",
              "    <tr>\n",
              "      <th>...</th>\n",
              "      <td>...</td>\n",
              "      <td>...</td>\n",
              "      <td>...</td>\n",
              "      <td>...</td>\n",
              "      <td>...</td>\n",
              "      <td>...</td>\n",
              "      <td>...</td>\n",
              "      <td>...</td>\n",
              "      <td>...</td>\n",
              "    </tr>\n",
              "    <tr>\n",
              "      <th>470</th>\n",
              "      <td>Richard Young</td>\n",
              "      <td>male</td>\n",
              "      <td>group D</td>\n",
              "      <td>high school</td>\n",
              "      <td>standard</td>\n",
              "      <td>none</td>\n",
              "      <td>5.14</td>\n",
              "      <td>5.50</td>\n",
              "      <td>5.26</td>\n",
              "    </tr>\n",
              "    <tr>\n",
              "      <th>471</th>\n",
              "      <td>Wanda Russell</td>\n",
              "      <td>female</td>\n",
              "      <td>group B</td>\n",
              "      <td>high school</td>\n",
              "      <td>free/reduced</td>\n",
              "      <td>completed</td>\n",
              "      <td>2.38</td>\n",
              "      <td>3.64</td>\n",
              "      <td>3.16</td>\n",
              "    </tr>\n",
              "    <tr>\n",
              "      <th>472</th>\n",
              "      <td>Marina Zeigler</td>\n",
              "      <td>female</td>\n",
              "      <td>group C</td>\n",
              "      <td>bachelor's degree</td>\n",
              "      <td>free/reduced</td>\n",
              "      <td>completed</td>\n",
              "      <td>4.96</td>\n",
              "      <td>5.44</td>\n",
              "      <td>5.86</td>\n",
              "    </tr>\n",
              "    <tr>\n",
              "      <th>473</th>\n",
              "      <td>Laurie Carter</td>\n",
              "      <td>female</td>\n",
              "      <td>group B</td>\n",
              "      <td>some high school</td>\n",
              "      <td>standard</td>\n",
              "      <td>completed</td>\n",
              "      <td>4.24</td>\n",
              "      <td>4.66</td>\n",
              "      <td>4.72</td>\n",
              "    </tr>\n",
              "    <tr>\n",
              "      <th>474</th>\n",
              "      <td>Amanda Perez</td>\n",
              "      <td>female</td>\n",
              "      <td>group A</td>\n",
              "      <td>high school</td>\n",
              "      <td>standard</td>\n",
              "      <td>completed</td>\n",
              "      <td>5.08</td>\n",
              "      <td>5.80</td>\n",
              "      <td>5.56</td>\n",
              "    </tr>\n",
              "  </tbody>\n",
              "</table>\n",
              "<p>875 rows × 9 columns</p>\n",
              "</div>"
            ],
            "text/plain": [
              "                names  gender  ... reading score writing score\n",
              "0       Rita Courtney  female  ...          3.76          3.76\n",
              "1    Charles Linstrom    male  ...          5.68          5.86\n",
              "2         Brian Young    male  ...          4.96          4.78\n",
              "3      Howard Jimenez    male  ...          5.50          5.56\n",
              "4        Wayne Wilson    male  ...          6.16          6.22\n",
              "..                ...     ...  ...           ...           ...\n",
              "470     Richard Young    male  ...          5.50          5.26\n",
              "471     Wanda Russell  female  ...          3.64          3.16\n",
              "472    Marina Zeigler  female  ...          5.44          5.86\n",
              "473     Laurie Carter  female  ...          4.66          4.72\n",
              "474      Amanda Perez  female  ...          5.80          5.56\n",
              "\n",
              "[875 rows x 9 columns]"
            ]
          },
          "metadata": {},
          "execution_count": 7
        }
      ]
    },
    {
      "cell_type": "markdown",
      "metadata": {
        "id": "456S4awQCS94"
      },
      "source": [
        "## Análisis de Las Notas v2 [1.5 Puntos]\n",
        "\n",
        "Preocupado por la dificultad que representan los boxplot, el rector le solicita buscar alternativas de visualización la distribución de las notas. \n",
        "\n",
        "Para esto, muestre el [boxplot](https://plotly.com/python/box-plots/) mostrado la clase anterior, utilice un [displot](https://plotly.com/python/distplot/#distplot-with-pandas) como también un [histograma con un gráfico marginal de caja](https://plotly.com/python/histograms/#visualizing-the-distribution) como también un [histograma con el ramo como faceta de fila](https://plotly.com/python/facet-plots/#histogram-facet-grids).\n",
        "\n",
        "Luego, responda las siguientes pregunta: \n",
        "\n",
        "> 1. ¿Existe una diferencia notable entre las notas?\n",
        "\n",
        "> 2. ¿Cuál de los gráficos mostrados cree que es adecuado para mostrarle al rector? ¿Y a los padres? ¿Y a un centro de estudios educativos? ¿Por qué?. Base sus respuestas en lo visto en la clase de visualizaciones como también en lo que usted y su equipo consideren correcto.\n",
        "\n",
        "> Hint: Para elaborar el histograma, puede que le sea de utilidad hacer un `melt` del DataFrame, dejando como variables los ramos y valores las notas. Por otra parte, visiten la documentación para generar los gráficos.\n"
      ]
    },
    {
      "cell_type": "markdown",
      "metadata": {
        "id": "7JWi2VKVCS94"
      },
      "source": [
        "**Gráfico de Caja:**"
      ]
    },
    {
      "cell_type": "code",
      "metadata": {
        "id": "e66gv156RAnN"
      },
      "source": [
        "df_grades[\"math score\"] = pd.to_numeric(df_grades[\"math score\"])\n",
        "df_grades[\"reading score\"] = pd.to_numeric(df_grades[\"reading score\"])\n",
        "df_grades[\"writing score\"] = pd.to_numeric(df_grades[\"writing score\"])"
      ],
      "execution_count": 8,
      "outputs": []
    },
    {
      "cell_type": "code",
      "metadata": {
        "colab": {
          "base_uri": "https://localhost:8080/",
          "height": 542
        },
        "id": "bT7glkyBCS94",
        "outputId": "be478e90-3de9-43df-f7ea-cae97ca9041d"
      },
      "source": [
        "fig = go.Figure()\n",
        "fig.add_trace(go.Box(y=df_grades.iloc[:,6], name='math score'))\n",
        "fig.add_trace(go.Box(y=df_grades.iloc[:,7], name = 'reading score',\n",
        "                marker_color = 'indianred'))\n",
        "fig.add_trace(go.Box(y=df_grades.iloc[:,8], name = 'writing score',\n",
        "                marker_color = 'lightseagreen'))\n",
        "fig.show()"
      ],
      "execution_count": 9,
      "outputs": [
        {
          "output_type": "display_data",
          "data": {
            "text/html": [
              "<html>\n",
              "<head><meta charset=\"utf-8\" /></head>\n",
              "<body>\n",
              "    <div>\n",
              "            <script src=\"https://cdnjs.cloudflare.com/ajax/libs/mathjax/2.7.5/MathJax.js?config=TeX-AMS-MML_SVG\"></script><script type=\"text/javascript\">if (window.MathJax) {MathJax.Hub.Config({SVG: {font: \"STIX-Web\"}});}</script>\n",
              "                <script type=\"text/javascript\">window.PlotlyConfig = {MathJaxConfig: 'local'};</script>\n",
              "        <script src=\"https://cdn.plot.ly/plotly-latest.min.js\"></script>    \n",
              "            <div id=\"6240288c-ad69-4476-8492-a96f0678bed5\" class=\"plotly-graph-div\" style=\"height:525px; width:100%;\"></div>\n",
              "            <script type=\"text/javascript\">\n",
              "                \n",
              "                    window.PLOTLYENV=window.PLOTLYENV || {};\n",
              "                    \n",
              "                if (document.getElementById(\"6240288c-ad69-4476-8492-a96f0678bed5\")) {\n",
              "                    Plotly.newPlot(\n",
              "                        '6240288c-ad69-4476-8492-a96f0678bed5',\n",
              "                        [{\"name\": \"math score\", \"type\": \"box\", \"y\": [3.22, 5.8, 5.38, 5.86, 6.64, 5.26, 5.5, 3.04, 4.78, 6.64, 4.9, 4.12, 4.72, 5.44, 4.72, 5.38, 3.76, 5.92, 4.78, 4.84, 5.8, 6.58, 5.14, 3.76, 6.16, 4.54, 6.04, 4.84, 5.38, 5.98, 5.5, 5.14, 5.08, 4.42, 4.96, 4.66, 3.4, 4.0, 3.88, 3.16, 5.68, 4.42, 5.14, 3.4, 6.52, 3.1, 4.78, 5.38, 4.78, 4.12, 5.38, 4.78, 5.26, 3.7, 6.1, 5.8, 5.62, 6.46, 4.6, 4.78, 3.4, 4.42, 4.48, 6.82, 5.86, 5.08, 4.54, 6.76, 6.22, 4.42, 6.64, 6.82, 4.9, 5.92, 5.32, 4.72, 3.64, 5.92, 5.5, 4.54, 5.5, 5.32, 5.08, 4.96, 5.02, 6.58, 5.14, 4.78, 3.76, 4.96, 4.72, 3.88, 5.26, 4.24, 5.8, 4.3, 6.4, 6.64, 5.86, 4.18, 4.66, 5.5, 5.44, 4.72, 5.2, 4.54, 4.72, 4.18, 5.8, 5.14, 5.14, 5.14, 3.94, 5.98, 4.9, 5.38, 5.08, 4.84, 4.9, 3.94, 4.48, 4.96, 4.9, 4.9, 5.2, 5.74, 4.0, 4.84, 5.08, 2.92, 5.08, 4.48, 2.14, 5.14, 5.32, 4.18, 4.66, 5.68, 4.18, 3.7, 3.64, 5.98, 4.9, 6.28, 6.28, 6.46, 6.04, 4.06, 3.2800000000000002, 3.8200000000000003, 4.96, 4.66, 4.6, 5.26, 3.7, 5.62, 4.18, 4.42, 5.32, 5.5600000000000005, 3.7, 6.94, 4.06, 4.84, 4.12, 5.8, 4.06, 4.0, 4.84, 5.44, 5.26, 4.42, 5.14, 5.62, 5.5, 3.58, 5.8, 4.54, 6.1, 4.3, 3.64, 3.52, 4.48, 4.66, 4.0, 6.28, 5.38, 5.02, 6.82, 4.66, 4.72, 4.24, 4.96, 5.68, 6.1, 6.04, 5.5600000000000005, 3.64, 5.86, 4.24, 4.48, 5.86, 5.32, 5.26, 4.66, 4.96, 5.26, 5.26, 6.34, 5.38, 5.86, 3.76, 2.32, 3.88, 3.64, 6.46, 5.5600000000000005, 5.62, 4.72, 5.02, 6.16, 4.48, 4.18, 4.42, 5.14, 4.72, 3.22, 6.28, 6.4, 5.08, 4.9, 4.78, 4.12, 3.88, 4.9, 4.24, 2.74, 2.56, 5.2, 5.5, 4.6, 6.88, 6.58, 4.54, 3.76, 5.5600000000000005, 5.74, 2.68, 4.3, 4.66, 3.1, 6.64, 3.76, 7.0, 5.02, 4.0, 5.74, 5.26, 5.98, 4.3, 3.88, 5.5600000000000005, 5.62, 4.72, 4.36, 5.08, 6.04, 5.8, 4.72, 4.6, 4.84, 2.74, 4.12, 4.18, 5.02, 5.92, 4.36, 5.74, 5.38, 4.96, 5.38, 4.96, 6.04, 5.44, 5.5600000000000005, 5.86, 5.74, 5.08, 4.78, 4.0, 5.32, 6.1, 5.98, 6.04, 4.9, 6.1, 5.2, 4.48, 6.16, 4.84, 4.9, 4.66, 3.94, 4.18, 6.82, 5.5, 5.32, 5.44, 4.54, 5.08, 5.68, 4.18, 5.32, 6.94, 5.74, 6.46, 5.98, 5.32, 4.66, 5.38, 4.54, 7.0, 4.66, 5.62, 5.26, 3.94, 4.72, 6.16, 5.5, 3.8200000000000003, 4.78, 5.2, 5.08, 4.66, 5.26, 5.86, 7.0, 5.62, 4.18, 5.26, 5.38, 4.9, 3.94, 4.12, 4.9, 4.54, 5.8, 4.72, 4.42, 3.76, 4.48, 5.02, 5.38, 5.32, 3.4, 5.68, 4.78, 4.66, 5.74, 5.62, 5.2, 4.18, 3.7, 3.4, 5.92, 5.68, 5.5, 5.2, 4.3, 5.2, 2.8, 5.5, 4.78, 5.92, 5.44, 4.24, 5.26, 5.38, 5.62, 5.62, 6.22, 6.22, 5.44, 5.02, 3.58, 3.94, 3.94, 4.18, 4.84, 4.66, 5.74, 5.14, 4.24, 4.9, 5.62, 4.48, 5.38, 4.24, 4.24, 4.84, 4.54, 5.5600000000000005, 6.1, 6.82, 4.18, 4.12, 5.62, 5.74, 4.42, 4.96, 4.78, 4.9, 5.08, 4.3, 5.32, 6.16, 6.82, 5.5, 4.12, 5.44, 5.2, 3.34, 4.66, 3.64, 6.22, 4.96, 5.08, 4.72, 5.86, 5.2, 5.44, 5.5600000000000005, 4.54, 5.08, 5.38, 7.0, 1.48, 4.9, 3.4, 3.88, 6.34, 5.62, 4.9, 5.14, 5.08, 3.94, 4.72, 4.36, 3.76, 4.6, 6.46, 6.4, 5.38, 5.2, 3.8200000000000003, 4.9, 5.86, 4.3, 6.58, 4.9, 4.72, 3.88, 5.08, 4.96, 4.3, 3.52, 5.44, 3.22, 4.96, 6.28, 5.14, 4.66, 3.34, 6.22, 4.84, 3.64, 4.54, 5.8, 5.26, 4.18, 5.68, 4.3, 5.2, 4.9, 6.16, 4.24, 3.46, 6.4, 4.54, 4.9, 5.02, 6.34, 4.54, 5.38, 5.44, 6.16, 4.66, 4.42, 4.48, 3.7, 4.78, 5.02, 6.64, 4.36, 4.72, 5.2, 5.2, 5.5600000000000005, 4.84, 3.8200000000000003, 4.96, 3.4, 4.96, 5.08, 4.06, 6.28, 6.4, 4.12, 3.94, 4.18, 5.26, 4.0, 4.48, 3.52, 5.02, 3.34, 6.1, 5.68, 5.38, 5.08, 6.34, 3.4, 5.92, 5.62, 5.14, 5.74, 4.18, 3.58, 4.48, 6.28, 5.14, 6.1, 5.14, 5.32, 4.42, 4.48, 4.72, 5.5, 6.28, 5.86, 5.02, 5.02, 5.44, 5.26, 6.1, 4.36, 5.92, 4.6, 5.86, 6.22, 3.76, 4.48, 4.72, 5.5600000000000005, 4.6, 4.0, 5.62, 4.84, 4.66, 4.6, 5.02, 4.84, 6.4, 4.18, 3.88, 4.6, 5.92, 4.48, 4.6, 4.96, 6.1, 3.94, 5.62, 5.02, 5.14, 4.0, 4.72, 5.98, 5.86, 5.32, 6.52, 5.26, 6.28, 5.92, 5.26, 5.5, 4.06, 4.72, 5.5, 4.78, 5.26, 5.02, 5.26, 4.66, 4.36, 6.88, 5.92, 5.5, 4.54, 5.26, 3.64, 5.62, 4.9, 4.42, 4.6, 2.62, 4.48, 5.2, 3.2800000000000002, 3.52, 7.0, 6.34, 3.1, 5.62, 4.72, 5.74, 3.76, 4.54, 4.96, 3.8200000000000003, 5.62, 5.68, 4.12, 5.2, 4.48, 5.08, 5.14, 6.22, 4.12, 5.32, 6.1, 3.46, 4.66, 5.02, 4.24, 4.78, 4.12, 4.72, 4.48, 4.72, 4.9, 5.44, 5.74, 5.08, 4.78, 4.12, 4.54, 4.3, 4.96, 5.44, 6.46, 5.44, 5.86, 5.74, 6.4, 4.24, 5.68, 6.28, 4.72, 5.8, 5.8, 5.26, 5.5, 4.6, 6.28, 4.3, 4.0, 3.52, 5.14, 3.52, 4.48, 2.44, 5.02, 4.54, 4.54, 6.76, 3.7, 6.28, 5.32, 4.66, 5.86, 5.74, 3.8200000000000003, 3.94, 4.24, 5.26, 4.54, 6.34, 4.54, 4.42, 5.62, 5.62, 4.6, 5.5600000000000005, 2.92, 3.94, 5.5600000000000005, 4.84, 4.78, 4.0, 3.64, 4.96, 5.02, 4.66, 5.14, 4.9, 4.18, 6.22, 4.18, 4.96, 3.94, 5.02, 4.3, 2.8, 5.38, 4.72, 5.74, 4.78, 4.12, 4.48, 5.68, 5.44, 5.08, 5.92, 5.38, 4.54, 5.44, 6.04, 5.02, 6.22, 5.62, 4.48, 5.14, 4.9, 6.52, 6.22, 5.14, 5.38, 4.66, 5.02, 5.14, 5.44, 4.84, 3.16, 3.46, 3.94, 4.54, 6.04, 5.5600000000000005, 4.66, 4.72, 5.02, 4.24, 4.54, 5.08, 6.46, 6.76, 5.08, 5.44, 5.26, 3.1, 5.86, 4.18, 5.8, 5.5600000000000005, 4.78, 4.42, 4.48, 5.32, 4.3, 5.8, 3.46, 4.06, 6.1, 5.86, 4.12, 2.08, 5.38, 4.78, 4.54, 4.78, 4.78, 5.8, 4.6, 4.84, 6.88, 4.54, 4.9, 6.22, 4.96, 4.12, 5.38, 6.22, 5.74, 5.14, 3.8200000000000003, 6.52, 4.42, 6.28, 5.74, 5.26, 5.86, 4.9, 5.92, 4.9, 3.4, 5.38, 4.36, 5.14, 5.02, 6.46, 5.02, 4.9, 4.48, 4.3, 3.88, 4.18, 6.1, 4.72, 4.9, 5.92, 5.62, 4.0, 5.14, 1.0, 4.9, 5.14, 5.32, 7.0, 4.9, 3.8200000000000003, 4.06, 5.26, 5.92, 4.3, 5.5, 4.96, 5.32, 5.2, 4.42, 6.04, 4.66, 3.7, 4.9, 2.62, 6.28, 4.9, 4.78, 5.68, 4.9, 6.4, 7.0, 5.02, 5.44, 5.5600000000000005, 4.96, 4.54, 4.72, 3.46, 2.74, 5.14, 2.38, 4.96, 4.24, 5.08]}, {\"marker\": {\"color\": \"indianred\"}, \"name\": \"reading score\", \"type\": \"box\", \"y\": [3.76, 5.68, 4.96, 5.5, 6.16, 4.66, 5.08, 3.88, 4.66, 5.38, 5.68, 5.5600000000000005, 4.9, 5.44, 4.42, 5.14, 3.52, 5.92, 4.66, 5.38, 5.5, 7.0, 5.5600000000000005, 4.66, 5.86, 5.32, 5.98, 4.84, 5.5600000000000005, 6.16, 6.28, 5.44, 5.32, 4.66, 4.84, 4.66, 4.54, 5.02, 4.72, 2.74, 5.74, 5.02, 4.48, 4.3, 6.22, 2.68, 5.02, 5.44, 4.84, 4.54, 5.74, 5.38, 4.6, 4.54, 6.52, 5.5600000000000005, 6.64, 6.1, 4.72, 3.88, 3.88, 4.24, 4.24, 5.92, 5.92, 4.9, 5.26, 6.4, 6.04, 5.5, 6.28, 6.58, 5.86, 6.58, 4.42, 5.44, 4.24, 6.04, 6.4, 3.46, 5.38, 5.08, 5.68, 5.44, 4.72, 6.4, 4.78, 5.44, 4.84, 5.08, 5.38, 4.36, 5.2, 5.32, 5.98, 4.54, 6.22, 6.94, 5.38, 3.58, 5.08, 6.1, 5.86, 5.32, 5.68, 4.06, 5.32, 4.0, 6.1, 4.96, 5.68, 5.62, 3.7, 6.58, 4.66, 4.84, 5.98, 4.96, 5.62, 4.42, 5.02, 5.68, 5.2, 5.74, 5.08, 5.86, 5.02, 4.24, 4.6, 4.06, 4.06, 4.42, 3.2800000000000002, 5.62, 5.74, 4.48, 4.06, 5.32, 4.72, 4.36, 4.06, 5.98, 5.5600000000000005, 5.68, 6.7, 6.34, 6.22, 4.96, 3.94, 4.18, 4.42, 5.38, 5.08, 5.26, 4.78, 6.16, 4.48, 4.06, 4.84, 5.26, 3.88, 6.58, 5.32, 4.6, 4.66, 5.38, 4.24, 3.88, 5.38, 5.44, 5.62, 5.44, 5.2, 6.4, 5.44, 4.06, 5.08, 5.32, 5.86, 5.5600000000000005, 4.78, 4.72, 4.54, 3.8200000000000003, 4.96, 5.44, 5.68, 6.16, 7.0, 4.48, 4.84, 4.78, 5.26, 6.46, 5.5, 6.04, 6.64, 4.66, 6.04, 3.94, 4.78, 5.92, 5.86, 3.94, 3.52, 5.62, 5.5600000000000005, 4.96, 6.28, 5.98, 5.86, 3.04, 3.34, 4.12, 4.84, 5.86, 5.8, 5.68, 5.32, 4.84, 5.86, 5.2, 4.12, 4.48, 5.38, 4.96, 4.42, 6.34, 5.5, 5.2, 5.5, 5.14, 4.42, 3.58, 4.24, 4.24, 3.46, 2.86, 5.5, 5.44, 4.42, 6.22, 6.04, 4.24, 4.24, 4.84, 6.28, 2.38, 5.26, 4.42, 4.18, 6.1, 4.48, 7.0, 5.8, 3.8200000000000003, 6.04, 5.86, 5.92, 4.84, 4.48, 5.38, 5.62, 5.68, 5.08, 6.16, 5.62, 5.5, 5.2, 4.96, 4.72, 3.4, 4.9, 4.66, 4.66, 6.7, 5.74, 5.5600000000000005, 5.08, 5.44, 6.16, 4.9, 5.38, 5.62, 5.26, 5.32, 6.34, 5.26, 5.68, 4.36, 4.9, 6.52, 5.68, 6.7, 5.62, 6.16, 5.2, 4.78, 5.8, 5.92, 5.86, 4.3, 4.06, 4.06, 6.82, 5.32, 5.38, 5.74, 5.02, 5.08, 5.62, 4.48, 4.42, 7.0, 6.34, 5.38, 5.32, 5.74, 4.72, 5.44, 4.24, 6.76, 4.96, 5.74, 5.02, 4.18, 4.66, 6.52, 5.86, 4.54, 5.5, 5.5, 4.78, 4.36, 4.96, 6.82, 7.0, 6.4, 3.64, 5.98, 5.08, 5.92, 3.94, 4.54, 5.5, 4.6, 4.84, 3.94, 3.58, 3.58, 5.38, 4.24, 4.96, 5.32, 3.58, 5.98, 4.9, 5.32, 5.44, 5.92, 6.04, 4.24, 4.18, 4.48, 6.1, 5.32, 4.96, 4.84, 4.3, 6.34, 2.56, 6.04, 4.84, 5.92, 5.86, 4.54, 6.04, 6.04, 6.28, 6.28, 6.04, 5.44, 5.38, 4.84, 4.72, 4.12, 4.9, 4.24, 4.18, 6.16, 6.52, 5.26, 4.12, 6.16, 6.46, 4.66, 5.5600000000000005, 4.84, 4.18, 4.48, 5.32, 5.44, 6.04, 6.52, 5.2, 4.3, 5.5600000000000005, 5.32, 5.62, 5.14, 5.38, 6.1, 5.02, 4.48, 4.96, 5.5600000000000005, 6.22, 5.08, 3.94, 5.2, 5.92, 4.12, 5.44, 4.0, 6.04, 4.9, 5.62, 5.02, 4.96, 4.78, 5.5, 5.68, 5.2, 5.08, 4.96, 7.0, 2.44, 4.84, 4.9, 4.96, 6.04, 5.92, 5.38, 5.62, 5.32, 4.06, 5.14, 5.08, 4.36, 4.06, 6.7, 6.4, 4.36, 5.32, 3.94, 4.9, 5.62, 3.76, 7.0, 5.2, 4.66, 3.7, 4.54, 5.14, 3.76, 4.3, 5.62, 4.36, 4.78, 5.68, 5.62, 5.26, 4.84, 7.0, 4.78, 3.46, 5.68, 5.74, 6.22, 4.48, 5.86, 5.38, 5.2, 5.14, 5.38, 4.12, 4.06, 6.4, 4.48, 5.86, 5.74, 6.04, 4.78, 5.26, 6.4, 5.98, 4.48, 5.68, 4.12, 3.22, 4.78, 5.38, 6.22, 4.12, 4.96, 4.9, 5.44, 5.98, 5.44, 4.24, 5.44, 4.12, 5.44, 5.44, 2.86, 6.04, 6.7, 4.42, 4.18, 4.12, 5.44, 3.88, 4.3, 4.12, 4.42, 3.34, 6.4, 5.44, 5.68, 5.2, 7.0, 3.52, 5.02, 6.1, 6.04, 6.16, 4.72, 3.7, 4.3, 5.62, 5.2, 6.46, 4.6, 5.8, 4.0, 4.66, 4.78, 5.62, 6.94, 6.46, 5.68, 5.14, 5.74, 5.44, 6.04, 4.24, 4.72, 4.84, 5.5, 6.1, 3.58, 5.08, 4.3, 5.32, 5.08, 3.52, 6.34, 4.0, 5.08, 4.54, 4.42, 5.38, 6.1, 3.7, 4.36, 5.2, 6.4, 5.02, 5.5, 4.54, 6.7, 4.12, 5.14, 5.5600000000000005, 5.74, 4.6, 4.36, 6.1, 5.26, 5.74, 7.0, 5.2, 6.94, 6.58, 5.14, 5.92, 3.94, 4.3, 5.86, 4.3, 5.98, 5.32, 5.98, 4.36, 4.66, 6.16, 6.04, 6.28, 4.72, 5.5, 3.7, 5.08, 5.5600000000000005, 3.88, 4.6, 3.04, 4.0, 4.84, 3.58, 4.96, 6.52, 5.5600000000000005, 3.64, 4.72, 4.84, 5.92, 3.46, 5.2, 5.62, 3.22, 5.08, 5.62, 3.88, 5.26, 4.42, 4.24, 5.32, 6.64, 4.18, 5.8, 6.34, 3.34, 5.26, 6.34, 3.88, 4.78, 4.48, 4.3, 4.6, 5.02, 5.62, 6.28, 5.38, 5.08, 5.8, 5.2, 3.52, 3.8200000000000003, 4.6, 5.5600000000000005, 6.16, 4.78, 5.44, 5.92, 5.68, 4.48, 5.92, 6.52, 5.02, 6.16, 4.78, 5.74, 6.16, 5.32, 5.5, 4.66, 4.6, 4.66, 5.5, 3.34, 5.5, 3.2800000000000002, 6.04, 4.72, 4.72, 6.76, 3.8200000000000003, 6.1, 5.02, 5.02, 5.8, 6.1, 4.72, 4.48, 4.6, 5.26, 4.48, 6.22, 6.1, 4.48, 5.02, 5.02, 4.78, 5.68, 3.04, 4.42, 4.72, 5.5600000000000005, 5.68, 4.18, 4.06, 4.72, 6.04, 4.6, 6.04, 5.38, 5.32, 6.4, 4.96, 5.98, 4.9, 5.44, 5.32, 2.44, 6.52, 4.72, 4.6, 4.42, 4.9, 5.5600000000000005, 6.4, 6.34, 5.5600000000000005, 6.82, 5.2, 4.96, 6.16, 5.98, 6.16, 6.7, 6.82, 4.06, 4.96, 4.96, 7.0, 5.44, 4.24, 5.02, 4.6, 5.86, 6.4, 5.86, 4.6, 4.18, 4.12, 4.48, 5.14, 6.22, 5.98, 5.32, 5.02, 5.5, 4.84, 4.78, 5.02, 5.44, 7.0, 4.84, 5.5, 5.5600000000000005, 4.66, 5.68, 3.22, 5.5600000000000005, 5.2, 5.26, 5.08, 5.2, 4.96, 4.9, 6.52, 4.3, 4.36, 5.5600000000000005, 6.52, 4.54, 2.92, 5.74, 5.02, 5.38, 4.6, 5.38, 6.4, 3.64, 4.36, 7.0, 5.26, 5.14, 6.46, 5.5600000000000005, 4.3, 5.5, 6.04, 5.02, 4.6, 4.48, 5.74, 5.14, 6.7, 5.68, 4.72, 5.86, 5.86, 5.68, 5.14, 3.76, 5.8, 5.32, 4.48, 5.32, 6.76, 5.5, 5.44, 4.54, 3.46, 4.48, 4.66, 4.96, 5.02, 6.04, 5.92, 4.72, 4.84, 4.9, 2.02, 5.02, 6.16, 5.02, 7.0, 4.48, 4.42, 4.06, 5.44, 5.92, 4.9, 5.92, 4.96, 5.32, 4.3, 4.36, 6.34, 3.88, 4.12, 4.54, 3.04, 5.38, 5.92, 4.96, 5.86, 5.32, 6.22, 6.82, 5.44, 5.5, 5.02, 5.32, 4.84, 5.5600000000000005, 3.76, 2.74, 5.5, 3.64, 5.44, 4.66, 5.8]}, {\"marker\": {\"color\": \"lightseagreen\"}, \"name\": \"writing score\", \"type\": \"box\", \"y\": [3.76, 5.86, 4.78, 5.5600000000000005, 6.22, 5.14, 4.84, 3.46, 4.66, 5.26, 5.92, 5.2, 4.48, 5.32, 4.72, 5.08, 3.76, 5.44, 4.6, 5.08, 5.62, 7.0, 5.44, 4.3, 5.8, 5.2, 5.5, 5.02, 5.68, 6.28, 6.1, 5.44, 4.9, 4.24, 4.72, 4.72, 4.24, 4.78, 4.6, 2.62, 5.5600000000000005, 5.32, 4.42, 4.18, 5.68, 2.62, 5.2, 4.66, 5.02, 4.9, 5.74, 5.26, 4.66, 4.84, 6.1, 4.9, 6.7, 6.1, 4.6, 3.8200000000000003, 4.0, 4.36, 4.12, 6.28, 5.92, 4.66, 4.9, 6.52, 6.16, 5.38, 5.68, 6.46, 5.86, 6.58, 4.48, 5.2, 4.18, 5.68, 6.28, 3.52, 5.44, 5.02, 5.62, 5.68, 4.6, 5.98, 4.66, 5.44, 4.96, 4.84, 5.2, 4.06, 5.2, 4.54, 5.98, 4.24, 6.1, 7.0, 5.32, 3.58, 4.78, 5.92, 5.26, 4.9, 5.68, 3.58, 5.44, 4.6, 6.1, 4.66, 5.5600000000000005, 5.62, 3.7, 6.7, 5.26, 4.42, 5.68, 4.54, 5.44, 3.76, 4.72, 5.68, 5.44, 5.86, 5.32, 5.92, 5.38, 4.0, 4.54, 3.64, 4.42, 4.24, 2.92, 5.38, 5.44, 4.42, 4.12, 5.14, 4.18, 4.24, 3.88, 6.4, 5.5, 5.98, 6.64, 6.52, 6.46, 4.72, 3.7, 4.48, 4.12, 4.78, 4.6, 5.44, 4.54, 6.16, 4.3, 4.24, 4.78, 5.38, 3.76, 6.4, 5.74, 4.48, 4.96, 5.32, 3.46, 3.52, 5.2, 5.32, 5.62, 5.5600000000000005, 5.02, 6.1, 4.96, 4.24, 5.32, 5.08, 6.1, 5.5600000000000005, 4.72, 4.6, 4.48, 4.36, 4.84, 5.5, 5.32, 5.98, 7.0, 4.36, 4.96, 5.02, 5.5600000000000005, 6.76, 5.08, 5.8, 6.22, 4.12, 5.92, 3.8200000000000003, 4.9, 6.04, 5.74, 4.12, 3.46, 5.38, 5.98, 4.9, 5.92, 5.5600000000000005, 5.74, 3.16, 2.98, 3.7, 4.48, 5.74, 5.38, 5.38, 5.2, 4.66, 5.5, 5.08, 3.94, 4.84, 5.38, 5.08, 4.36, 6.16, 5.14, 4.96, 5.2, 5.44, 4.36, 3.7, 4.42, 3.7, 3.8200000000000003, 3.2800000000000002, 5.68, 5.14, 4.06, 6.4, 6.4, 4.06, 4.48, 4.96, 6.64, 2.14, 5.14, 4.36, 3.76, 5.92, 4.42, 7.0, 5.86, 4.24, 6.46, 5.8, 6.04, 5.2, 4.12, 5.08, 5.38, 5.74, 5.2, 6.04, 5.44, 5.14, 5.5, 5.2, 5.08, 3.64, 5.14, 5.08, 5.08, 6.34, 5.32, 4.9, 4.96, 5.14, 5.92, 5.14, 5.14, 5.38, 5.32, 5.62, 6.16, 5.5, 5.8, 4.24, 5.08, 6.58, 5.38, 6.52, 5.44, 6.88, 5.2, 5.38, 5.5, 5.62, 5.86, 4.12, 4.06, 4.06, 6.76, 4.72, 5.44, 5.5, 4.66, 5.02, 5.62, 3.64, 4.72, 7.0, 6.34, 5.8, 5.68, 5.62, 4.66, 5.32, 5.02, 6.16, 4.66, 5.8, 5.02, 4.18, 4.3, 6.22, 5.26, 4.0, 5.86, 5.44, 4.24, 4.3, 4.6, 6.76, 6.58, 6.46, 3.52, 5.98, 4.96, 5.86, 3.46, 4.36, 5.62, 4.48, 4.96, 4.12, 3.8200000000000003, 3.46, 5.08, 4.78, 4.72, 5.26, 3.34, 5.8, 4.66, 5.2, 5.32, 6.34, 5.86, 3.88, 4.3, 4.24, 6.16, 5.2, 5.38, 5.32, 3.8200000000000003, 6.28, 2.32, 5.8, 4.96, 5.8, 5.98, 4.0, 6.22, 6.1, 6.22, 6.1, 6.22, 5.2, 5.02, 5.2, 4.66, 4.06, 4.66, 3.88, 4.42, 6.22, 6.34, 4.9, 4.12, 5.8, 6.28, 4.12, 5.8, 5.08, 3.8200000000000003, 4.06, 5.8, 5.38, 6.34, 6.16, 5.2, 4.42, 5.62, 5.14, 5.8, 4.78, 5.68, 5.5600000000000005, 5.38, 4.12, 4.96, 5.44, 5.92, 4.9, 3.76, 5.14, 5.5600000000000005, 3.76, 5.32, 4.06, 6.1, 4.6, 5.8, 4.48, 4.84, 4.48, 5.98, 5.8, 4.96, 4.84, 4.96, 7.0, 2.38, 4.72, 4.84, 4.9, 5.92, 6.46, 5.5, 5.14, 4.84, 3.58, 5.14, 5.44, 4.42, 4.36, 6.64, 6.46, 4.42, 5.5600000000000005, 4.0, 4.78, 5.74, 3.64, 6.7, 5.26, 4.42, 3.46, 4.72, 5.08, 3.58, 4.24, 5.5600000000000005, 3.8200000000000003, 4.84, 5.5, 5.68, 5.38, 4.42, 6.7, 4.96, 3.2800000000000002, 5.5600000000000005, 5.74, 5.92, 4.9, 6.16, 5.38, 4.9, 5.5600000000000005, 5.2, 4.06, 3.88, 5.92, 4.54, 5.38, 6.04, 5.62, 5.5, 5.08, 6.28, 6.16, 4.72, 5.74, 4.24, 3.22, 4.72, 5.08, 6.52, 4.3, 5.08, 4.6, 5.26, 6.28, 5.5, 4.18, 5.38, 3.58, 5.86, 5.44, 3.16, 5.5, 6.58, 4.0, 4.12, 3.52, 4.84, 4.18, 4.18, 4.06, 4.18, 3.04, 6.52, 5.32, 5.5600000000000005, 4.96, 7.0, 3.2800000000000002, 4.66, 6.22, 6.1, 6.52, 4.36, 4.0, 3.88, 5.62, 4.78, 6.34, 4.24, 5.98, 4.24, 4.96, 4.36, 5.98, 7.0, 6.22, 5.74, 5.5, 5.92, 5.08, 5.68, 4.12, 4.72, 5.44, 5.68, 6.58, 3.64, 4.66, 4.3, 5.26, 5.32, 3.88, 6.88, 3.58, 4.96, 4.24, 4.54, 5.26, 6.04, 3.4, 4.48, 5.2, 6.64, 5.32, 5.44, 4.12, 7.0, 4.24, 5.08, 5.5, 5.86, 4.54, 4.18, 6.4, 5.38, 5.92, 7.0, 5.5600000000000005, 6.7, 6.58, 5.08, 5.74, 4.06, 3.94, 6.04, 4.78, 5.68, 5.44, 5.62, 4.36, 4.6, 6.4, 5.92, 6.1, 4.84, 5.2, 3.7, 5.14, 5.5600000000000005, 4.06, 4.6, 3.16, 3.7, 5.2, 3.58, 5.14, 6.82, 5.44, 3.58, 4.72, 4.84, 5.92, 3.58, 4.9, 5.2, 3.1, 5.62, 5.8, 3.94, 5.44, 4.18, 4.18, 5.62, 6.7, 3.94, 5.5, 6.7, 3.04, 5.68, 5.92, 4.12, 4.6, 4.48, 4.24, 4.42, 5.02, 5.44, 6.4, 5.02, 4.66, 5.8, 4.72, 3.46, 3.64, 4.42, 5.38, 6.04, 4.42, 5.26, 5.38, 5.86, 4.66, 5.74, 6.7, 4.72, 5.98, 4.78, 5.26, 5.74, 5.44, 5.5600000000000005, 4.24, 4.6, 4.48, 5.68, 3.04, 5.62, 2.62, 6.16, 5.14, 4.66, 6.94, 3.94, 5.5600000000000005, 4.9, 4.96, 5.5600000000000005, 6.16, 4.96, 4.3, 4.78, 5.8, 3.8200000000000003, 5.74, 5.8, 4.42, 4.84, 5.08, 4.54, 5.5, 3.2800000000000002, 4.12, 4.96, 5.44, 5.74, 4.3, 4.3, 4.84, 5.86, 4.3, 5.92, 5.08, 4.84, 6.28, 5.38, 5.98, 4.3, 5.62, 5.74, 1.9, 6.04, 4.78, 4.9, 4.36, 4.66, 5.68, 6.58, 6.04, 5.02, 6.76, 5.5, 5.02, 6.34, 5.68, 5.98, 6.16, 6.64, 4.12, 4.6, 4.72, 6.94, 5.5600000000000005, 4.3, 4.54, 4.42, 5.74, 6.28, 5.5600000000000005, 5.44, 3.58, 4.06, 4.6, 4.9, 5.86, 5.74, 5.2, 4.66, 5.2, 5.02, 4.84, 5.14, 5.5600000000000005, 7.0, 4.96, 5.92, 5.2, 4.24, 5.68, 3.4, 4.84, 5.14, 5.14, 5.38, 5.02, 5.32, 4.72, 6.28, 4.06, 4.18, 5.26, 6.46, 4.72, 2.68, 6.04, 5.02, 5.14, 4.42, 5.08, 5.92, 3.8200000000000003, 4.12, 6.94, 5.2, 5.02, 5.86, 5.08, 3.94, 5.8, 5.5600000000000005, 5.02, 4.78, 5.02, 6.04, 5.08, 6.52, 5.62, 4.0, 6.04, 5.62, 5.44, 5.2, 4.0, 5.92, 4.9, 4.18, 5.02, 6.46, 5.32, 5.62, 4.96, 3.88, 4.24, 4.72, 5.26, 4.84, 6.04, 5.8, 4.84, 4.54, 5.44, 1.6, 4.72, 5.86, 4.84, 7.0, 3.94, 3.64, 4.24, 5.08, 6.28, 4.72, 6.4, 4.54, 5.44, 4.36, 4.24, 6.4, 3.76, 3.94, 4.18, 2.92, 5.68, 5.68, 5.02, 5.92, 5.44, 5.5, 6.94, 5.2, 5.74, 5.02, 5.2, 5.5, 5.8, 3.58, 2.8, 5.26, 3.16, 5.86, 4.72, 5.5600000000000005]}],\n",
              "                        {\"template\": {\"data\": {\"bar\": [{\"error_x\": {\"color\": \"#2a3f5f\"}, \"error_y\": {\"color\": \"#2a3f5f\"}, \"marker\": {\"line\": {\"color\": \"#E5ECF6\", \"width\": 0.5}}, \"type\": \"bar\"}], \"barpolar\": [{\"marker\": {\"line\": {\"color\": \"#E5ECF6\", \"width\": 0.5}}, \"type\": \"barpolar\"}], \"carpet\": [{\"aaxis\": {\"endlinecolor\": \"#2a3f5f\", \"gridcolor\": \"white\", \"linecolor\": \"white\", \"minorgridcolor\": \"white\", \"startlinecolor\": \"#2a3f5f\"}, \"baxis\": {\"endlinecolor\": \"#2a3f5f\", \"gridcolor\": \"white\", \"linecolor\": \"white\", \"minorgridcolor\": \"white\", \"startlinecolor\": \"#2a3f5f\"}, \"type\": \"carpet\"}], \"choropleth\": [{\"colorbar\": {\"outlinewidth\": 0, \"ticks\": \"\"}, \"type\": \"choropleth\"}], \"contour\": [{\"colorbar\": {\"outlinewidth\": 0, \"ticks\": \"\"}, \"colorscale\": [[0.0, \"#0d0887\"], [0.1111111111111111, \"#46039f\"], [0.2222222222222222, \"#7201a8\"], [0.3333333333333333, \"#9c179e\"], [0.4444444444444444, \"#bd3786\"], [0.5555555555555556, \"#d8576b\"], [0.6666666666666666, \"#ed7953\"], [0.7777777777777778, \"#fb9f3a\"], [0.8888888888888888, \"#fdca26\"], [1.0, \"#f0f921\"]], \"type\": \"contour\"}], \"contourcarpet\": [{\"colorbar\": {\"outlinewidth\": 0, \"ticks\": \"\"}, \"type\": \"contourcarpet\"}], \"heatmap\": [{\"colorbar\": {\"outlinewidth\": 0, \"ticks\": \"\"}, \"colorscale\": [[0.0, \"#0d0887\"], [0.1111111111111111, \"#46039f\"], [0.2222222222222222, \"#7201a8\"], [0.3333333333333333, \"#9c179e\"], [0.4444444444444444, \"#bd3786\"], [0.5555555555555556, \"#d8576b\"], [0.6666666666666666, \"#ed7953\"], [0.7777777777777778, \"#fb9f3a\"], [0.8888888888888888, \"#fdca26\"], [1.0, \"#f0f921\"]], \"type\": \"heatmap\"}], \"heatmapgl\": [{\"colorbar\": {\"outlinewidth\": 0, \"ticks\": \"\"}, \"colorscale\": [[0.0, \"#0d0887\"], [0.1111111111111111, \"#46039f\"], [0.2222222222222222, \"#7201a8\"], [0.3333333333333333, \"#9c179e\"], [0.4444444444444444, \"#bd3786\"], [0.5555555555555556, \"#d8576b\"], [0.6666666666666666, \"#ed7953\"], [0.7777777777777778, \"#fb9f3a\"], [0.8888888888888888, \"#fdca26\"], [1.0, \"#f0f921\"]], \"type\": \"heatmapgl\"}], \"histogram\": [{\"marker\": {\"colorbar\": {\"outlinewidth\": 0, \"ticks\": \"\"}}, \"type\": \"histogram\"}], \"histogram2d\": [{\"colorbar\": {\"outlinewidth\": 0, \"ticks\": \"\"}, \"colorscale\": [[0.0, \"#0d0887\"], [0.1111111111111111, \"#46039f\"], [0.2222222222222222, \"#7201a8\"], [0.3333333333333333, \"#9c179e\"], [0.4444444444444444, \"#bd3786\"], [0.5555555555555556, \"#d8576b\"], [0.6666666666666666, \"#ed7953\"], [0.7777777777777778, \"#fb9f3a\"], [0.8888888888888888, \"#fdca26\"], [1.0, \"#f0f921\"]], \"type\": \"histogram2d\"}], \"histogram2dcontour\": [{\"colorbar\": {\"outlinewidth\": 0, \"ticks\": \"\"}, \"colorscale\": [[0.0, \"#0d0887\"], [0.1111111111111111, \"#46039f\"], [0.2222222222222222, \"#7201a8\"], [0.3333333333333333, \"#9c179e\"], [0.4444444444444444, \"#bd3786\"], [0.5555555555555556, \"#d8576b\"], [0.6666666666666666, \"#ed7953\"], [0.7777777777777778, \"#fb9f3a\"], [0.8888888888888888, \"#fdca26\"], [1.0, \"#f0f921\"]], \"type\": \"histogram2dcontour\"}], \"mesh3d\": [{\"colorbar\": {\"outlinewidth\": 0, \"ticks\": \"\"}, \"type\": \"mesh3d\"}], \"parcoords\": [{\"line\": {\"colorbar\": {\"outlinewidth\": 0, \"ticks\": \"\"}}, \"type\": \"parcoords\"}], \"pie\": [{\"automargin\": true, \"type\": \"pie\"}], \"scatter\": [{\"marker\": {\"colorbar\": {\"outlinewidth\": 0, \"ticks\": \"\"}}, \"type\": \"scatter\"}], \"scatter3d\": [{\"line\": {\"colorbar\": {\"outlinewidth\": 0, \"ticks\": \"\"}}, \"marker\": {\"colorbar\": {\"outlinewidth\": 0, \"ticks\": \"\"}}, \"type\": \"scatter3d\"}], \"scattercarpet\": [{\"marker\": {\"colorbar\": {\"outlinewidth\": 0, \"ticks\": \"\"}}, \"type\": \"scattercarpet\"}], \"scattergeo\": [{\"marker\": {\"colorbar\": {\"outlinewidth\": 0, \"ticks\": \"\"}}, \"type\": \"scattergeo\"}], \"scattergl\": [{\"marker\": {\"colorbar\": {\"outlinewidth\": 0, \"ticks\": \"\"}}, \"type\": \"scattergl\"}], \"scattermapbox\": [{\"marker\": {\"colorbar\": {\"outlinewidth\": 0, \"ticks\": \"\"}}, \"type\": \"scattermapbox\"}], \"scatterpolar\": [{\"marker\": {\"colorbar\": {\"outlinewidth\": 0, \"ticks\": \"\"}}, \"type\": \"scatterpolar\"}], \"scatterpolargl\": [{\"marker\": {\"colorbar\": {\"outlinewidth\": 0, \"ticks\": \"\"}}, \"type\": \"scatterpolargl\"}], \"scatterternary\": [{\"marker\": {\"colorbar\": {\"outlinewidth\": 0, \"ticks\": \"\"}}, \"type\": \"scatterternary\"}], \"surface\": [{\"colorbar\": {\"outlinewidth\": 0, \"ticks\": \"\"}, \"colorscale\": [[0.0, \"#0d0887\"], [0.1111111111111111, \"#46039f\"], [0.2222222222222222, \"#7201a8\"], [0.3333333333333333, \"#9c179e\"], [0.4444444444444444, \"#bd3786\"], [0.5555555555555556, \"#d8576b\"], [0.6666666666666666, \"#ed7953\"], [0.7777777777777778, \"#fb9f3a\"], [0.8888888888888888, \"#fdca26\"], [1.0, \"#f0f921\"]], \"type\": \"surface\"}], \"table\": [{\"cells\": {\"fill\": {\"color\": \"#EBF0F8\"}, \"line\": {\"color\": \"white\"}}, \"header\": {\"fill\": {\"color\": \"#C8D4E3\"}, \"line\": {\"color\": \"white\"}}, \"type\": \"table\"}]}, \"layout\": {\"annotationdefaults\": {\"arrowcolor\": \"#2a3f5f\", \"arrowhead\": 0, \"arrowwidth\": 1}, \"coloraxis\": {\"colorbar\": {\"outlinewidth\": 0, \"ticks\": \"\"}}, \"colorscale\": {\"diverging\": [[0, \"#8e0152\"], [0.1, \"#c51b7d\"], [0.2, \"#de77ae\"], [0.3, \"#f1b6da\"], [0.4, \"#fde0ef\"], [0.5, \"#f7f7f7\"], [0.6, \"#e6f5d0\"], [0.7, \"#b8e186\"], [0.8, \"#7fbc41\"], [0.9, \"#4d9221\"], [1, \"#276419\"]], \"sequential\": [[0.0, \"#0d0887\"], [0.1111111111111111, \"#46039f\"], [0.2222222222222222, \"#7201a8\"], [0.3333333333333333, \"#9c179e\"], [0.4444444444444444, \"#bd3786\"], [0.5555555555555556, \"#d8576b\"], [0.6666666666666666, \"#ed7953\"], [0.7777777777777778, \"#fb9f3a\"], [0.8888888888888888, \"#fdca26\"], [1.0, \"#f0f921\"]], \"sequentialminus\": [[0.0, \"#0d0887\"], [0.1111111111111111, \"#46039f\"], [0.2222222222222222, \"#7201a8\"], [0.3333333333333333, \"#9c179e\"], [0.4444444444444444, \"#bd3786\"], [0.5555555555555556, \"#d8576b\"], [0.6666666666666666, \"#ed7953\"], [0.7777777777777778, \"#fb9f3a\"], [0.8888888888888888, \"#fdca26\"], [1.0, \"#f0f921\"]]}, \"colorway\": [\"#636efa\", \"#EF553B\", \"#00cc96\", \"#ab63fa\", \"#FFA15A\", \"#19d3f3\", \"#FF6692\", \"#B6E880\", \"#FF97FF\", \"#FECB52\"], \"font\": {\"color\": \"#2a3f5f\"}, \"geo\": {\"bgcolor\": \"white\", \"lakecolor\": \"white\", \"landcolor\": \"#E5ECF6\", \"showlakes\": true, \"showland\": true, \"subunitcolor\": \"white\"}, \"hoverlabel\": {\"align\": \"left\"}, \"hovermode\": \"closest\", \"mapbox\": {\"style\": \"light\"}, \"paper_bgcolor\": \"white\", \"plot_bgcolor\": \"#E5ECF6\", \"polar\": {\"angularaxis\": {\"gridcolor\": \"white\", \"linecolor\": \"white\", \"ticks\": \"\"}, \"bgcolor\": \"#E5ECF6\", \"radialaxis\": {\"gridcolor\": \"white\", \"linecolor\": \"white\", \"ticks\": \"\"}}, \"scene\": {\"xaxis\": {\"backgroundcolor\": \"#E5ECF6\", \"gridcolor\": \"white\", \"gridwidth\": 2, \"linecolor\": \"white\", \"showbackground\": true, \"ticks\": \"\", \"zerolinecolor\": \"white\"}, \"yaxis\": {\"backgroundcolor\": \"#E5ECF6\", \"gridcolor\": \"white\", \"gridwidth\": 2, \"linecolor\": \"white\", \"showbackground\": true, \"ticks\": \"\", \"zerolinecolor\": \"white\"}, \"zaxis\": {\"backgroundcolor\": \"#E5ECF6\", \"gridcolor\": \"white\", \"gridwidth\": 2, \"linecolor\": \"white\", \"showbackground\": true, \"ticks\": \"\", \"zerolinecolor\": \"white\"}}, \"shapedefaults\": {\"line\": {\"color\": \"#2a3f5f\"}}, \"ternary\": {\"aaxis\": {\"gridcolor\": \"white\", \"linecolor\": \"white\", \"ticks\": \"\"}, \"baxis\": {\"gridcolor\": \"white\", \"linecolor\": \"white\", \"ticks\": \"\"}, \"bgcolor\": \"#E5ECF6\", \"caxis\": {\"gridcolor\": \"white\", \"linecolor\": \"white\", \"ticks\": \"\"}}, \"title\": {\"x\": 0.05}, \"xaxis\": {\"automargin\": true, \"gridcolor\": \"white\", \"linecolor\": \"white\", \"ticks\": \"\", \"title\": {\"standoff\": 15}, \"zerolinecolor\": \"white\", \"zerolinewidth\": 2}, \"yaxis\": {\"automargin\": true, \"gridcolor\": \"white\", \"linecolor\": \"white\", \"ticks\": \"\", \"title\": {\"standoff\": 15}, \"zerolinecolor\": \"white\", \"zerolinewidth\": 2}}}},\n",
              "                        {\"responsive\": true}\n",
              "                    ).then(function(){\n",
              "                            \n",
              "var gd = document.getElementById('6240288c-ad69-4476-8492-a96f0678bed5');\n",
              "var x = new MutationObserver(function (mutations, observer) {{\n",
              "        var display = window.getComputedStyle(gd).display;\n",
              "        if (!display || display === 'none') {{\n",
              "            console.log([gd, 'removed!']);\n",
              "            Plotly.purge(gd);\n",
              "            observer.disconnect();\n",
              "        }}\n",
              "}});\n",
              "\n",
              "// Listen for the removal of the full notebook cells\n",
              "var notebookContainer = gd.closest('#notebook-container');\n",
              "if (notebookContainer) {{\n",
              "    x.observe(notebookContainer, {childList: true});\n",
              "}}\n",
              "\n",
              "// Listen for the clearing of the current output cell\n",
              "var outputEl = gd.closest('.output');\n",
              "if (outputEl) {{\n",
              "    x.observe(outputEl, {childList: true});\n",
              "}}\n",
              "\n",
              "                        })\n",
              "                };\n",
              "                \n",
              "            </script>\n",
              "        </div>\n",
              "</body>\n",
              "</html>"
            ]
          },
          "metadata": {}
        }
      ]
    },
    {
      "cell_type": "markdown",
      "metadata": {
        "id": "8NNnZ0qACS94"
      },
      "source": [
        "**Distplot:**"
      ]
    },
    {
      "cell_type": "code",
      "metadata": {
        "colab": {
          "base_uri": "https://localhost:8080/",
          "height": 542
        },
        "id": "7ylB527yYsiy",
        "outputId": "dd19b7ac-fc97-470f-bcfc-7d9cf022bfb1"
      },
      "source": [
        "# use displot figurefactory\n",
        "df = df_grades.loc[:,['math score','reading score','writing score']]\n",
        "fig = ff.create_distplot([df[c] for c in df.columns], df.columns, show_hist = False)\n",
        "fig.show()"
      ],
      "execution_count": 10,
      "outputs": [
        {
          "output_type": "display_data",
          "data": {
            "text/html": [
              "<html>\n",
              "<head><meta charset=\"utf-8\" /></head>\n",
              "<body>\n",
              "    <div>\n",
              "            <script src=\"https://cdnjs.cloudflare.com/ajax/libs/mathjax/2.7.5/MathJax.js?config=TeX-AMS-MML_SVG\"></script><script type=\"text/javascript\">if (window.MathJax) {MathJax.Hub.Config({SVG: {font: \"STIX-Web\"}});}</script>\n",
              "                <script type=\"text/javascript\">window.PlotlyConfig = {MathJaxConfig: 'local'};</script>\n",
              "        <script src=\"https://cdn.plot.ly/plotly-latest.min.js\"></script>    \n",
              "            <div id=\"a419c256-406f-4516-9452-845bc9ffb173\" class=\"plotly-graph-div\" style=\"height:525px; width:100%;\"></div>\n",
              "            <script type=\"text/javascript\">\n",
              "                \n",
              "                    window.PLOTLYENV=window.PLOTLYENV || {};\n",
              "                    \n",
              "                if (document.getElementById(\"a419c256-406f-4516-9452-845bc9ffb173\")) {\n",
              "                    Plotly.newPlot(\n",
              "                        'a419c256-406f-4516-9452-845bc9ffb173',\n",
              "                        [{\"legendgroup\": \"math score\", \"marker\": {\"color\": \"rgb(31, 119, 180)\"}, \"mode\": \"lines\", \"name\": \"math score\", \"showlegend\": true, \"type\": \"scatter\", \"x\": [1.0, 1.012, 1.024, 1.036, 1.048, 1.06, 1.072, 1.084, 1.096, 1.108, 1.12, 1.1320000000000001, 1.144, 1.156, 1.168, 1.18, 1.192, 1.204, 1.216, 1.228, 1.24, 1.252, 1.264, 1.276, 1.288, 1.3, 1.312, 1.324, 1.336, 1.3479999999999999, 1.3599999999999999, 1.3719999999999999, 1.384, 1.396, 1.408, 1.42, 1.432, 1.444, 1.456, 1.468, 1.48, 1.492, 1.504, 1.516, 1.528, 1.54, 1.552, 1.564, 1.576, 1.588, 1.6, 1.612, 1.624, 1.6360000000000001, 1.6480000000000001, 1.6600000000000001, 1.6720000000000002, 1.6840000000000002, 1.696, 1.708, 1.72, 1.732, 1.744, 1.756, 1.768, 1.78, 1.792, 1.804, 1.8159999999999998, 1.8279999999999998, 1.8399999999999999, 1.8519999999999999, 1.8639999999999999, 1.876, 1.888, 1.9, 1.912, 1.924, 1.936, 1.948, 1.96, 1.972, 1.984, 1.996, 2.008, 2.02, 2.032, 2.044, 2.056, 2.068, 2.08, 2.092, 2.104, 2.116, 2.128, 2.1399999999999997, 2.152, 2.1639999999999997, 2.176, 2.1879999999999997, 2.2, 2.2119999999999997, 2.224, 2.2359999999999998, 2.248, 2.26, 2.2720000000000002, 2.284, 2.2960000000000003, 2.308, 2.3200000000000003, 2.332, 2.3440000000000003, 2.356, 2.3680000000000003, 2.38, 2.392, 2.404, 2.416, 2.428, 2.44, 2.452, 2.464, 2.476, 2.488, 2.5, 2.512, 2.524, 2.536, 2.548, 2.56, 2.572, 2.584, 2.596, 2.608, 2.62, 2.6319999999999997, 2.644, 2.6559999999999997, 2.668, 2.6799999999999997, 2.692, 2.7039999999999997, 2.716, 2.7279999999999998, 2.74, 2.752, 2.7640000000000002, 2.776, 2.7880000000000003, 2.8, 2.8120000000000003, 2.824, 2.8360000000000003, 2.848, 2.8600000000000003, 2.872, 2.884, 2.896, 2.908, 2.92, 2.932, 2.944, 2.956, 2.968, 2.98, 2.992, 3.004, 3.016, 3.028, 3.04, 3.052, 3.064, 3.076, 3.088, 3.1, 3.112, 3.124, 3.136, 3.148, 3.16, 3.172, 3.184, 3.196, 3.208, 3.22, 3.232, 3.244, 3.256, 3.268, 3.28, 3.292, 3.304, 3.316, 3.328, 3.34, 3.352, 3.364, 3.376, 3.388, 3.4, 3.412, 3.424, 3.436, 3.448, 3.46, 3.472, 3.484, 3.496, 3.508, 3.52, 3.532, 3.544, 3.556, 3.568, 3.58, 3.592, 3.604, 3.616, 3.628, 3.64, 3.652, 3.664, 3.676, 3.688, 3.7, 3.712, 3.724, 3.736, 3.748, 3.76, 3.772, 3.784, 3.796, 3.808, 3.82, 3.832, 3.844, 3.856, 3.868, 3.88, 3.892, 3.904, 3.916, 3.928, 3.94, 3.952, 3.964, 3.976, 3.988, 4.0, 4.0120000000000005, 4.024, 4.036, 4.048, 4.0600000000000005, 4.072, 4.084, 4.096, 4.1080000000000005, 4.12, 4.132, 4.144, 4.156000000000001, 4.168, 4.18, 4.192, 4.204000000000001, 4.216, 4.228, 4.24, 4.252, 4.263999999999999, 4.276, 4.288, 4.3, 4.311999999999999, 4.324, 4.336, 4.348, 4.359999999999999, 4.372, 4.384, 4.396, 4.4079999999999995, 4.42, 4.432, 4.444, 4.4559999999999995, 4.468, 4.48, 4.492, 4.504, 4.516, 4.5280000000000005, 4.54, 4.552, 4.564, 4.5760000000000005, 4.588, 4.6, 4.612, 4.6240000000000006, 4.636, 4.648, 4.66, 4.672000000000001, 4.684, 4.696, 4.708, 4.720000000000001, 4.732, 4.744, 4.756, 4.768, 4.779999999999999, 4.792, 4.804, 4.816, 4.827999999999999, 4.84, 4.852, 4.864, 4.8759999999999994, 4.888, 4.9, 4.912, 4.9239999999999995, 4.936, 4.948, 4.96, 4.9719999999999995, 4.984, 4.996, 5.008, 5.02, 5.032, 5.044, 5.056, 5.068, 5.08, 5.092, 5.104, 5.116, 5.128, 5.14, 5.152, 5.164, 5.176, 5.188, 5.2, 5.212, 5.224, 5.236, 5.248, 5.26, 5.272, 5.284, 5.296, 5.308, 5.32, 5.332, 5.344, 5.356, 5.368, 5.38, 5.392, 5.404, 5.416, 5.428, 5.44, 5.452, 5.464, 5.476, 5.488, 5.5, 5.512, 5.524, 5.536, 5.548, 5.56, 5.572, 5.584, 5.596, 5.608, 5.62, 5.632, 5.644, 5.656, 5.668, 5.68, 5.692, 5.704, 5.716, 5.728, 5.74, 5.752, 5.764, 5.776, 5.788, 5.8, 5.812, 5.824, 5.836, 5.848, 5.86, 5.872, 5.884, 5.896, 5.908, 5.92, 5.932, 5.944, 5.956, 5.968, 5.98, 5.992, 6.004, 6.016, 6.028, 6.04, 6.052, 6.064, 6.076, 6.088, 6.1, 6.112, 6.124, 6.136, 6.148, 6.16, 6.172, 6.184, 6.196, 6.208, 6.22, 6.232, 6.244, 6.256, 6.268, 6.28, 6.292, 6.304, 6.316, 6.328, 6.34, 6.352, 6.364, 6.376, 6.388, 6.4, 6.412, 6.424, 6.436, 6.448, 6.46, 6.472, 6.484, 6.496, 6.508, 6.52, 6.532, 6.544, 6.556, 6.568, 6.58, 6.592, 6.604, 6.616, 6.628, 6.64, 6.652, 6.664, 6.676, 6.688, 6.7, 6.712, 6.724, 6.736, 6.748, 6.76, 6.772, 6.784, 6.796, 6.808, 6.82, 6.832, 6.844, 6.856, 6.868, 6.88, 6.892, 6.904, 6.916, 6.928, 6.94, 6.952, 6.964, 6.976, 6.988], \"xaxis\": \"x\", \"y\": [0.0021893426311372644, 0.002212717268114832, 0.0022330432624945236, 0.0022504504847502124, 0.0022650980215095325, 0.00227717113629176, 0.00228687773598313, 0.0022944444059263282, 0.0023001120871604815, 0.002304131478599249, 0.0023067582545267615, 0.0023082481935100094, 0.0023088523185013066, 0.002308812149412929, 0.002308355168717828, 0.0023076905976494575, 0.0023070055753798896, 0.002306461826242967, 0.0023061928907853976, 0.002306301985369878, 0.0023068605424612088, 0.0023079074698780125, 0.0023094491524991434, 0.0023114602045087064, 0.002313884964594803, 0.002316639710938746, 0.002319615557694425, 0.0023226819803006207, 0.0023256909037110878, 0.0023284812757584897, 0.002330884037644286, 0.0023327273951817603, 0.002333842288082324, 0.0023340679503855337, 0.0023332574531593573, 0.0023312831208556224, 0.0023280417151618354, 0.0023234592847610792, 0.002317495585967436, 0.002310147987575053, 0.002301454783238418, 0.0022914978460541824, 0.002280404572482278, 0.002268349076051975, 0.0022555526051637738, 0.002242283173436102, 0.002228854405176923, 0.002215623612416238, 0.0022029891332641756, 0.0021913869739305335, 0.0021812868083498174, 0.0021731873998236274, 0.002167611518271759, 0.0021651004344577047, 0.002166208078836616, 0.0021714949574078665, 0.0021815219201117547, 0.00219684387888904, 0.0022180035725453935, 0.0022455254740743934, 0.002279909933155545, 0.002321627642237147, 0.0023711145090308753, 0.0024287670114906145, 0.0024949381035368257, 0.002569933731042513, 0.002654010008047081, 0.002747371092945688, 0.0028501677936546496, 0.002962496919622901, 0.0030844013871943843, 0.003215871073378607, 0.0033568444017104686, 0.0035072106327320167, 0.0036668128208634907, 0.003835451389203271, 0.004012888264256876, 0.0041988515038888985, 0.004393040344055486, 0.004595130583233919, 0.004804780218032265, 0.005021635239330776, 0.005245335495553348, 0.005475520528347157, 0.005711835286092006, 0.005953935622274761, 0.006201493488830513, 0.006454201739027018, 0.0067117784602849714, 0.006973970764394786, 0.007240557970799983, 0.007511354127842022, 0.007786209826959678, 0.008065013275658216, 0.008347690606451621, 0.008634205410775041, 0.008924557498906213, 0.009218780899067297, 0.009516941120953986, 0.009819131720813529, 0.010125470216737532, 0.010436093413919226, 0.010751152210138587, 0.01107080596156545, 0.011395216498011654, 0.011724541884911135, 0.01205893003646501, 0.012398512290448272, 0.012743397060036679, 0.013093663681559347, 0.013449356579207969, 0.01381047986831333, 0.014176992517724227, 0.014548804188969953, 0.014925771865156777, 0.015307697375838807, 0.015694325915348483, 0.016085345641216792, 0.01648038842635401, 0.016879031823622, 0.017280802284392636, 0.017685179653786926, 0.01809160294472086, 0.018499477370903947, 0.018908182595865786, 0.01931708213130627, 0.019725533794013633, 0.02013290110676142, 0.020538565505505427, 0.020941939193410374, 0.021342478462310226, 0.021739697284707135, 0.022133180964882822, 0.022522599626634204, 0.02290772130799188, 0.023288424430404117, 0.023664709411540866, 0.02403670919726357, 0.02440469849946435, 0.024769101542333367, 0.0251304981399612, 0.025489627952700947, 0.025847392797946706, 0.02620485692237658, 0.026563245176591133, 0.026923939068716735, 0.02728847071012964, 0.02765851470315632, 0.028035878056561013, 0.028422488249011498, 0.028820379592714624, 0.029231678078307018, 0.029658584907223843, 0.030103358938617243, 0.03056829829403744, 0.03105572137425273, 0.03156794754862875, 0.03210727777843039, 0.032675975431395075, 0.033276247536247895, 0.03391022671288346, 0.03457995399723694, 0.03528736275999388, 0.0360342638958885, 0.036822332436088547, 0.03765309571074591, 0.03852792316286733, 0.03944801788884793, 0.04041440995587246, 0.04142795152239801, 0.042489313765469376, 0.043598985597969375, 0.04475727414024083, 0.04596430689390987, 0.04722003555116955, 0.048524241360138165, 0.049876541956012176, 0.05127639955836349, 0.05272313042682677, 0.054215915460318856, 0.05575381181857623, 0.05733576543896736, 0.05896062431606427, 0.06062715240622955, 0.06233404401446365, 0.06407993851600026, 0.06586343526075542, 0.06768310850492765, 0.06953752221106205, 0.0714252445560338, 0.07334486198601176, 0.07529499265887106, 0.0772742991180515, 0.07928150004780833, 0.08131538096839105, 0.0833748037410628, 0.08545871476709598, 0.08756615178188193, 0.08969624916490464, 0.09184824170825125, 0.0940214668101646, 0.09621536508536664, 0.098429479409897, 0.10066345244435679, 0.10291702270500779, 0.10519001927643225, 0.10748235528170584, 0.10979402024561521, 0.1121250715027789, 0.11447562481513866, 0.11684584437182056, 0.11923593234862029, 0.12164611820430793, 0.12407664788668617, 0.12652777311315702, 0.12899974087889607, 0.1314927833311693, 0.13400710813154337, 0.13654288940951673, 0.1391002593922607, 0.14167930077655067, 0.1442800398914225, 0.14690244068436273, 0.14954639955061674, 0.15221174101500293, 0.15489821426885225, 0.15760549056154055, 0.16033316144654944, 0.16308073788588812, 0.16584765022361753, 0.16863324904854313, 0.17143680697711186, 0.17425752139923814, 0.1770945182411584, 0.17994685680937397, 0.18281353578715948, 0.18569350045889144, 0.1885856512365771, 0.19148885355653752, 0.19440194920154574, 0.1973237690843352, 0.20025314750209078, 0.20318893783838227, 0.20613002964941443, 0.20907536702614893, 0.2120239680738703, 0.21497494529743602, 0.2179275266253963, 0.22088107675122642, 0.22383511841709763, 0.2267893532170273, 0.2297436814540718, 0.23269822055253728, 0.23565332150299148, 0.2386095828069065, 0.24156786139057457, 0.24452927997560037, 0.24749523042650642, 0.25046737264503005, 0.25344762864523174, 0.25643817152278936, 0.2594414091244695, 0.26245996232788904, 0.26549663795500045, 0.2685543964625047, 0.2716363146755386, 0.2747455439541759, 0.27788526430205623, 0.28105863503928896, 0.2842687427642403, 0.287518547417684, 0.29081082733513025, 0.2941481242264462, 0.2975326890541454, 0.3009664297915137, 0.30445086202831984, 0.3079870633550925, 0.31157563239745495, 0.3152166532910939, 0.3189096662874884, 0.3226536450631041, 0.3264469811733945, 0.33028747595109675, 0.33417233999974616, 0.3380982002820187, 0.3420611146524501, 0.34605659353925133, 0.35007962834409956, 0.3541247260053735, 0.3581859490623806, 0.36225696046825245, 0.36633107232927586, 0.370401297699875, 0.37446040453592927, 0.37850097090462415, 0.3825154405659757, 0.3864961780783222, 0.3904355226356305, 0.394325839916198, 0.3981595713075572, 0.4019292799681627, 0.40562769328961407, 0.4092477414305182, 0.41278259170137055, 0.4162256786859479, 0.41957073008576895, 0.42281178836756006, 0.4259432283771384, 0.42895977115485207, 0.43185649424632305, 0.4346288388468248, 0.4372726141477894, 0.4397839992697159, 0.44215954316767847, 0.44439616288463824, 0.4464911405051171, 0.44844211912911014, 0.450247098145251, 0.4519044280351811, 0.4534128048899537, 0.45477126476624213, 0.4559791779572278, 0.4570362432022945, 0.4579424818128481, 0.4586982316503372, 0.459304140858159, 0.4597611612226342, 0.46007054102032796, 0.4602338172000431, 0.4602528067478459, 0.4601295970922252, 0.4598665354233308, 0.4594662168243195, 0.4589314711430555, 0.45826534856746864, 0.45747110390632995, 0.4565521796175225, 0.45551218766650664, 0.4543548903370465, 0.45308418015290103, 0.4517040591017264, 0.45021861737969476, 0.4486320118963102, 0.4469484447928352, 0.4451721422341354, 0.4433073337323726, 0.4413582322518522, 0.43932901532782065, 0.43722380740863, 0.43504666360130423, 0.4328015549661255, 0.4304923554676519, 0.4281228306488238, 0.42569662805300496, 0.42321726937728155, 0.42068814430059664, 0.41811250589363297, 0.4154934674850621, 0.41283400083188543, 0.4101369354210744, 0.40740495871615673, 0.40464061715632205, 0.4018463177170894, 0.3990243298505936, 0.3961767876396226, 0.39330569202215493, 0.39041291297131975, 0.38750019154845533, 0.38456914178293905, 0.38162125237035005, 0.3786578882188115, 0.37568029191052144, 0.3726895851799805, 0.3696867705408589, 0.36667273321840393, 0.36364824356264996, 0.36061396012842306, 0.3575704336105276, 0.3545181118160518, 0.3514573458402702, 0.3483883975882898, 0.3453114487517592, 0.3422266113094651, 0.3391339395734143, 0.3360334437494083, 0.3329251049246556, 0.3298088913363765, 0.32668477571647675, 0.32355275345020346, 0.3204128612331801, 0.31726519586335916, 0.31410993276405125, 0.3109473438030483, 0.30777781395238923, 0.30460185632483555, 0.3014201251274637, 0.2982334260905722, 0.2950427239614838, 0.29184914669760664, 0.28865398605063286, 0.28545869430302173, 0.2822648769974551, 0.2790742815880457, 0.2758887820365887, 0.27271035947578365, 0.2695410791614882, 0.2663830640351373, 0.263238465312624, 0.26010943060461594, 0.25699807015278686, 0.2539064218344558, 0.25083641564244735, 0.24778983838587196, 0.24476829937947195, 0.24177319789330193, 0.23880569312020553, 0.2358666773858567, 0.2329567532754905, 0.23007621528385278, 0.2272250365117407, 0.2244028608356794, 0.22160900086900734, 0.21884244191544047, 0.21610185199289728, 0.21338559787888126, 0.21069176700210973, 0.20801819488134257, 0.205362497694461, 0.20272210945150185, 0.20009432314714287, 0.19747633518321628, 0.1948652922820993, 0.19225834005870177, 0.18965267238329206, 0.1870455806500787, 0.18443450206747158, 0.18181706610488166, 0.17919113826707672, 0.1765548604193227, 0.17390668695335817, 0.1712454161638669, 0.16857021629559457, 0.16588064582038034, 0.16317666760892593, 0.160458656771765, 0.1577274020553643, 0.15498410079033162, 0.1522303474972848, 0.14946811636005636, 0.1466997378739068, 0.1439278700667247, 0.14115546477259544, 0.13838572950854322, 0.13562208556599373, 0.132868122977961, 0.1301275530609174, 0.1274041592566041, 0.12470174701383971, 0.12202409345392827, 0.11937489755600152, 0.11675773158104853, 0.11417599442617106, 0.11163286756441414, 0.10913127418112953, 0.10667384206605714, 0.10426287076193115, 0.10190030340632193, 0.09958770363443097, 0.09732623783755925, 0.09511666299579918, 0.09295932022509557, 0.0908541340990203, 0.08880061772536058, 0.08679788347782688, 0.08484465920481048, 0.08293930966107636, 0.08107986283557504, 0.07926404078010918, 0.07748929448038817, 0.07575284225395057, 0.07405171110944714, 0.07238278045965858, 0.07074282754717505, 0.06912857391751069, 0.06753673226014387, 0.06596405293394936, 0.06440736949999595, 0.06286364260177145, 0.061330001560500134, 0.05980378309099658, 0.058282566590984256, 0.056764205513282304, 0.055246854394858096, 0.05372899118836378, 0.052209434619227814, 0.050687356373242995, 0.04916228800444375, 0.047634122539292466, 0.04610311083921499, 0.0445698528676973], \"yaxis\": \"y\"}, {\"legendgroup\": \"reading score\", \"marker\": {\"color\": \"rgb(255, 127, 14)\"}, \"mode\": \"lines\", \"name\": \"reading score\", \"showlegend\": true, \"type\": \"scatter\", \"x\": [2.02, 2.02996, 2.03992, 2.04988, 2.05984, 2.0698, 2.07976, 2.08972, 2.09968, 2.10964, 2.1196, 2.12956, 2.13952, 2.14948, 2.15944, 2.1694, 2.17936, 2.18932, 2.19928, 2.20924, 2.2192, 2.2291600000000003, 2.23912, 2.24908, 2.25904, 2.269, 2.27896, 2.28892, 2.29888, 2.30884, 2.3188, 2.32876, 2.33872, 2.34868, 2.3586400000000003, 2.3686, 2.3785600000000002, 2.38852, 2.39848, 2.40844, 2.4184, 2.42836, 2.43832, 2.44828, 2.45824, 2.4682, 2.47816, 2.48812, 2.49808, 2.5080400000000003, 2.5180000000000002, 2.52796, 2.53792, 2.54788, 2.55784, 2.5678, 2.57776, 2.58772, 2.59768, 2.60764, 2.6176, 2.62756, 2.6375200000000003, 2.64748, 2.6574400000000002, 2.6674, 2.67736, 2.68732, 2.69728, 2.70724, 2.7172, 2.72716, 2.73712, 2.74708, 2.75704, 2.7670000000000003, 2.77696, 2.7869200000000003, 2.7968800000000003, 2.8068400000000002, 2.8168, 2.82676, 2.83672, 2.84668, 2.85664, 2.8666, 2.87656, 2.88652, 2.89648, 2.90644, 2.9164000000000003, 2.9263600000000003, 2.9363200000000003, 2.9462800000000002, 2.95624, 2.9662, 2.97616, 2.98612, 2.99608, 3.00604, 3.016, 3.02596, 3.03592, 3.0458800000000004, 3.05584, 3.0658000000000003, 3.07576, 3.0857200000000002, 3.0956799999999998, 3.10564, 3.1156, 3.12556, 3.13552, 3.14548, 3.15544, 3.1654, 3.1753600000000004, 3.18532, 3.1952800000000003, 3.20524, 3.2152000000000003, 3.22516, 3.23512, 3.24508, 3.25504, 3.265, 3.27496, 3.28492, 3.29488, 3.3048400000000004, 3.3148, 3.3247600000000004, 3.33472, 3.3446800000000003, 3.35464, 3.3646000000000003, 3.3745600000000002, 3.38452, 3.3944799999999997, 3.40444, 3.4144, 3.42436, 3.4343200000000005, 3.44428, 3.4542400000000004, 3.4642, 3.4741600000000004, 3.48412, 3.4940800000000003, 3.5040400000000003, 3.5140000000000002, 3.5239599999999998, 3.53392, 3.54388, 3.55384, 3.5638000000000005, 3.57376, 3.58372, 3.59368, 3.6036400000000004, 3.6136, 3.6235600000000003, 3.6335200000000003, 3.6434800000000003, 3.65344, 3.6634, 3.67336, 3.68332, 3.69328, 3.70324, 3.7132, 3.72316, 3.7331200000000004, 3.74308, 3.7530400000000004, 3.7630000000000003, 3.7729600000000003, 3.78292, 3.7928800000000003, 3.80284, 3.8128, 3.82276, 3.83272, 3.84268, 3.85264, 3.8626000000000005, 3.87256, 3.8825200000000004, 3.89248, 3.9024400000000004, 3.9124, 3.9223600000000003, 3.9323200000000003, 3.9422800000000002, 3.95224, 3.9622, 3.97216, 3.98212, 3.99208, 4.00204, 4.0120000000000005, 4.02196, 4.0319199999999995, 4.04188, 4.05184, 4.0618, 4.07176, 4.081720000000001, 4.09168, 4.10164, 4.111600000000001, 4.121560000000001, 4.13152, 4.14148, 4.15144, 4.1614, 4.17136, 4.18132, 4.191280000000001, 4.20124, 4.2112, 4.22116, 4.231120000000001, 4.24108, 4.25104, 4.261, 4.2709600000000005, 4.28092, 4.29088, 4.30084, 4.3108, 4.32076, 4.33072, 4.340680000000001, 4.35064, 4.3606, 4.37056, 4.380520000000001, 4.39048, 4.40044, 4.4104, 4.4203600000000005, 4.43032, 4.44028, 4.450240000000001, 4.4602, 4.47016, 4.48012, 4.490080000000001, 4.50004, 4.51, 4.51996, 4.529920000000001, 4.53988, 4.54984, 4.5598, 4.5697600000000005, 4.57972, 4.58968, 4.599640000000001, 4.6096, 4.61956, 4.62952, 4.63948, 4.64944, 4.6594, 4.66936, 4.679320000000001, 4.68928, 4.69924, 4.709200000000001, 4.7191600000000005, 4.72912, 4.73908, 4.749040000000001, 4.759, 4.76896, 4.77892, 4.788880000000001, 4.79884, 4.8088, 4.81876, 4.828720000000001, 4.83868, 4.8486400000000005, 4.858600000000001, 4.86856, 4.87852, 4.88848, 4.89844, 4.9084, 4.91836, 4.92832, 4.938280000000001, 4.94824, 4.9582, 4.96816, 4.9781200000000005, 4.98808, 4.9980400000000005, 5.008000000000001, 5.01796, 5.02792, 5.0378799999999995, 5.047840000000001, 5.0578, 5.06776, 5.07772, 5.087680000000001, 5.09764, 5.107600000000001, 5.117560000000001, 5.1275200000000005, 5.13748, 5.14744, 5.1574, 5.16736, 5.17732, 5.18728, 5.197240000000001, 5.2072, 5.21716, 5.22712, 5.237080000000001, 5.24704, 5.257000000000001, 5.266960000000001, 5.2769200000000005, 5.28688, 5.2968399999999995, 5.306800000000001, 5.31676, 5.32672, 5.33668, 5.346640000000001, 5.3566, 5.36656, 5.376520000000001, 5.386480000000001, 5.39644, 5.4064, 5.41636, 5.4263200000000005, 5.43628, 5.44624, 5.456200000000001, 5.46616, 5.47612, 5.48608, 5.496040000000001, 5.506, 5.515960000000001, 5.52592, 5.535880000000001, 5.54584, 5.5558, 5.56576, 5.5757200000000005, 5.58568, 5.59564, 5.605600000000001, 5.61556, 5.62552, 5.635480000000001, 5.645440000000001, 5.6554, 5.66536, 5.67532, 5.6852800000000006, 5.69524, 5.7052000000000005, 5.715160000000001, 5.72512, 5.73508, 5.74504, 5.755000000000001, 5.76496, 5.774920000000001, 5.78488, 5.794840000000001, 5.8048, 5.81476, 5.82472, 5.8346800000000005, 5.84464, 5.8546000000000005, 5.864560000000001, 5.87452, 5.88448, 5.89444, 5.904400000000001, 5.91436, 5.92432, 5.93428, 5.944240000000001, 5.9542, 5.96416, 5.974120000000001, 5.9840800000000005, 5.99404, 6.0040000000000004, 6.013960000000001, 6.02392, 6.03388, 6.043839999999999, 6.053800000000001, 6.06376, 6.07372, 6.083680000000001, 6.093640000000001, 6.1036, 6.11356, 6.123520000000001, 6.1334800000000005, 6.14344, 6.153400000000001, 6.163360000000001, 6.17332, 6.18328, 6.193240000000001, 6.203200000000001, 6.21316, 6.2231200000000015, 6.233079999999999, 6.243040000000001, 6.253, 6.26296, 6.272920000000001, 6.2828800000000005, 6.29284, 6.3027999999999995, 6.312760000000001, 6.32272, 6.33268, 6.342640000000001, 6.352600000000001, 6.36256, 6.37252, 6.382480000000001, 6.392440000000001, 6.4024, 6.412360000000001, 6.422320000000001, 6.43228, 6.44224, 6.452200000000001, 6.462160000000001, 6.47212, 6.48208, 6.492039999999999, 6.502000000000001, 6.51196, 6.52192, 6.531879999999999, 6.5418400000000005, 6.5518, 6.56176, 6.571720000000001, 6.58168, 6.59164, 6.601600000000001, 6.611560000000001, 6.62152, 6.63148, 6.641440000000001, 6.651400000000001, 6.66136, 6.6713200000000015, 6.681280000000001, 6.6912400000000005, 6.7012, 6.711160000000001, 6.721120000000001, 6.73108, 6.74104, 6.7509999999999994, 6.760960000000001, 6.77092, 6.78088, 6.790839999999999, 6.800800000000001, 6.81076, 6.82072, 6.830680000000001, 6.8406400000000005, 6.8506, 6.8605599999999995, 6.870520000000001, 6.88048, 6.89044, 6.900400000000001, 6.910360000000001, 6.92032, 6.9302800000000016, 6.940240000000001, 6.950200000000001, 6.96016, 6.970120000000001, 6.980080000000001, 6.9900400000000005], \"xaxis\": \"x\", \"y\": [0.0034804475800041777, 0.003601170840855263, 0.003725340805192886, 0.003853147199005073, 0.003984779640108403, 0.004120425117749597, 0.004260265384794972, 0.0044044743008839335, 0.004553215167132806, 0.004706638094498752, 0.004864877448697272, 0.005028049414571306, 0.005196249722012895, 0.005369551573932643, 0.00554800381436805, 0.005731629371647663, 0.005920424007629233, 0.00611435539946806, 0.006313362575224788, 0.006517355718982096, 0.0067262163551108966, 0.006939797915024399, 0.0071579266833054446, 0.007380403113616753, 0.007607003498435753, 0.007837481970526585, 0.008071572808296885, 0.008308993011907453, 0.008549445112320031, 0.008792620171480404, 0.009038200928626927, 0.009285865045356927, 0.009535288400625229, 0.009786148386322871, 0.010038127154501088, 0.010290914768656496, 0.010544212213750636, 0.010797734222749803, 0.011051211881376222, 0.011304394977371138, 0.011557054065789775, 0.011808982227564394, 0.012059996504664033, 0.012309939001521272, 0.012558677648854173, 0.012806106632452846, 0.013052146495794168, 0.013296743931367606, 0.013539871281221933, 0.013781525772368308, 0.014021728517202741, 0.01426052331295953, 0.01449797527730923, 0.014734169359522705, 0.014969208768102977, 0.01520321335642617, 0.015436318007735607, 0.015668671059818062, 0.01590043280789648, 0.016131774121749216, 0.016362875209875893, 0.01659392455975102, 0.01682511807892088, 0.017056658457000225, 0.017288754763608482, 0.017521622292048598, 0.017755482653176807, 0.017990564118533545, 0.018227102206502057, 0.018465340500118867, 0.01870553168026365, 0.018947938753380997, 0.019192836448698375, 0.01944051275616254, 0.01969127057306851, 0.01994542942463793, 0.020203327221647402, 0.02046532201663048, 0.020731793719187937, 0.021003145730543602, 0.021279806457667895, 0.021562230668046457, 0.02185090064747508, 0.022146327125089873, 0.022449049932161135, 0.022759638363956426, 0.0230786912171749, 0.023406836479028775, 0.023744730647956513, 0.024093057670151154, 0.024452527480528872, 0.024823874141401855, 0.025207853576908162, 0.02560524090614093, 0.026016827382864628, 0.02644341695465877, 0.026885822459243314, 0.02734486148056934, 0.02782135189195987, 0.028316107118112943, 0.028829931152091946, 0.029363613367486007, 0.029917923169684488, 0.030493604533639276, 0.031091370478550484, 0.031711897532571344, 0.03235582024285378, 0.03302372578802566, 0.03371614875146466, 0.034433566114503426, 0.035176392528931365, 0.03594497592784232, 0.03673959353298917, 0.037560448315343054, 0.03840766596349772, 0.03928129241190803, 0.04018129197770131, 0.04110754615095012, 0.04205985307885311, 0.043037927779242965, 0.04404140311324737, 0.045069831540779134, 0.04612268767586941, 0.04719937165169263, 0.04829921329752758, 0.04942147712188355, 0.050565368087662474, 0.051730038156585834, 0.05291459357126544, 0.05411810283431984, 0.05533960533492563, 0.05657812056424866, 0.05783265785242143, 0.05910222655125111, 0.060385846578758035, 0.061682559234103894, 0.06299143818457488, 0.06431160052019394, 0.06564221776634349, 0.06698252674063236, 0.06833184013723702, 0.0696895567201993, 0.07105517100675544, 0.07242828232279211, 0.07380860311502178, 0.07519596640848285, 0.0765903323035282, 0.07799179341353739, 0.07940057915316788, 0.08081705879696707, 0.08224174323953466, 0.08367528540102527, 0.08511847923550239, 0.08657225731431392, 0.0880376869721038, 0.08951596501908704, 0.09100841103959767, 0.09251645931344461, 0.09404164941304505, 0.09558561554542297, 0.09715007472371576, 0.09873681386761217, 0.10034767594591021, 0.10198454528694807, 0.10364933219381824, 0.10534395701085911, 0.10707033379578923, 0.10883035375787542, 0.11062586862661308, 0.11245867411749126, 0.1143304936614648, 0.11624296256276409, 0.11819761274566085, 0.12019585824483194, 0.12223898158608862, 0.1243281211945927, 0.1264642599563763, 0.12864821504617077, 0.1308806291204175, 0.13316196295904215, 0.1354924896233432, 0.13787229018037916, 0.14030125102674218, 0.14277906282682543, 0.14530522106283145, 0.14787902817605397, 0.15049959726163206, 0.15316585726222248, 0.1558765595900649, 0.15863028609195276, 0.16142545825780252, 0.1642603475610656, 0.16713308680823513, 0.17004168236537398, 0.17298402712196895, 0.17595791404664954, 0.17896105018544034, 0.1819910709512964, 0.18504555455370786, 0.1881220364191733, 0.19121802345727, 0.19433100803283304, 0.19745848151233547, 0.20059794726176802, 0.2037469329840554, 0.2069030022961272, 0.21006376545897823, 0.21322688918822066, 0.21639010548750845, 0.2195512194625437, 0.22270811608891197, 0.22585876592248902, 0.2290012297563272, 0.2321336622425079, 0.2352543145112248, 0.2383615358320442, 0.24145377437370635, 0.24452957712876666, 0.2475875890776596, 0.2506265516732965, 0.25364530073194586, 0.2566427638188689, 0.25961795721795244, 0.2625699825734536, 0.2654980232889673, 0.26840134076400723, 0.2712792705422758, 0.2741312184379781, 0.2769566566976279, 0.27975512024495514, 0.28252620304600734, 0.2852695546206442, 0.2879848767156281, 0.2906719201437371, 0.2933304817830362, 0.2959604017209484, 0.29856156051929317, 0.3011338765692909, 0.3036773034998359, 0.3061918275983109, 0.3086774652009672, 0.31113426000954336, 0.3135622802923341, 0.3159616159313941, 0.3183323752828682, 0.3206746818245082, 0.3229886705731098, 0.32527448426465705, 0.32753226930123447, 0.3297621714809142, 0.33196433153960575, 0.3341388805469314, 0.33628593521122085, 0.338405593161381, 0.340497928285307, 0.342562986215351, 0.3446007800608019, 0.34661128649504225, 0.3485944423107416, 0.3505501415598779, 0.3524782333962988, 0.35437852073678877, 0.3562507598520378, 0.3580946609914533, 0.359909890135361, 0.36169607195485015, 0.36345279404341063, 0.36517961246571423, 0.36687605864763556, 0.3685416476081222, 0.37017588750813996, 0.3717782904650012, 0.37334838455235164, 0.37488572687739014, 0.37638991759806256, 0.37786061471449384, 0.37929754944140187, 0.38070054194220565, 0.38206951718162574, 0.38340452063230385, 0.38470573355294524, 0.38597348754122085, 0.3872082780546783, 0.3884107765876321, 0.38958184119184286, 0.39072252503405747, 0.39183408269442455, 0.392917973926542, 0.3939758646225087, 0.39500962475476165, 0.3960213231005252, 0.3970132185940735, 0.39798774819633953, 0.3989475112201326, 0.39989525010177457, 0.4008338276655495, 0.4017662009851947, 0.4026953920058134, 0.40362445514908246, 0.40455644218344244, 0.4054943646980067, 0.40644115457315727, 0.4073996228911067, 0.40837241777507227, 0.4093619816851343, 0.41037050873140224, 0.41139990258998893, 0.41245173562374876, 0.41352720981722946, 0.41462712013335534, 0.4157518208877545, 0.4169011957152516, 0.41807463167196873, 0.41927099797594386, 0.4204886298396589, 0.4217253177899572, 0.42297830280532156, 0.424244277528298, 0.4255193937330671, 0.42679927614596086, 0.4280790426314019, 0.42935333066862225, 0.43061632995703947, 0.43186182090171815, 0.43308321864634836, 0.4342736222409892, 0.4354258684567792, 0.436532589691117, 0.43758627534557193, 0.4385793360059917, 0.4395041697107427, 0.4403532295594263, 0.4411190918912602, 0.4417945242498899, 0.4423725523498608, 0.4428465252692627, 0.44321017811292907, 0.44345769142064895, 0.4435837466345514, 0.44358357698847395, 0.443453013238876, 0.44318852372079365, 0.44278724828241384, 0.4422470257269858, 0.44156641446985573, 0.44074470620023204, 0.4397819324207096, 0.4386788638214389, 0.4374370025290097, 0.4360585673515566, 0.4345464722202758, 0.4329042981025488, 0.43113625873234973, 0.42924716056881257, 0.4272423574531194, 0.4251277004866634, 0.42290948369932396, 0.42059438611529154, 0.4181894108549714, 0.41570182193491717, 0.41313907944344036, 0.41050877377753714, 0.4078185596271693, 0.4050760903859242, 0.40228895365288186, 0.39946460846945564, 0.3966103249074114, 0.39373312659059495, 0.3908397366935737, 0.38793652791592187, 0.38502947688175565, 0.38212412336093027, 0.37922553465160025, 0.37633827540426434, 0.37346638310554153, 0.3706133493764511, 0.3677821071755111, 0.3649750239322254, 0.36219390057215844, 0.35943997633146907, 0.35671393919718375, 0.35401594175026574, 0.3513456221323597, 0.3487021298045502, 0.34608415571817897, 0.34348996647428154, 0.3409174420100011, 0.3383641163179076, 0.33582722067786536, 0.33330372886127224, 0.33079040375438545, 0.3282838448412244, 0.3257805359872499, 0.3232768929726768, 0.320769310238736, 0.318254206331275, 0.31572806755347305, 0.31318748937273727, 0.3106292151655613, 0.3080501719277067, 0.30544750262487186, 0.30281859491031, 0.30016110598991497, 0.29747298347128875, 0.29475248209040655, 0.2919981762668296, 0.28920896849517974, 0.2863840936358599, 0.2835231192210617, 0.2806259419420796, 0.27769278053018676, 0.2747241652851759, 0.2717209245425052, 0.2686841684013928, 0.2656152700617428, 0.2625158451372291, 0.25938772932497445, 0.256232954819041, 0.2530537258554271, 0.24985239377056526, 0.24663143194376252, 0.24339341097691733, 0.2401409744426959, 0.23687681550561893, 0.23360365468984448, 0.23032421903350433, 0.22704122283284262, 0.22375735014103057, 0.22047523914692255, 0.2171974685190634, 0.21392654576061973, 0.21066489758226062, 0.20741486226306477, 0.20417868393482294, 0.2009585086932456, 0.19775638241095808, 0.19457425010224114, 0.19141395666853683, 0.18827724883697838, 0.18516577809183718, 0.1820811043907746, 0.17902470045421834, 0.1759979564168478, 0.17300218463496322, 0.17003862445217865, 0.16710844673807831, 0.16421275802990812, 0.16135260412561245, 0.1585289729971775, 0.15574279691581322, 0.15299495370458396, 0.15028626705919018, 0.14761750590322462, 0.14498938276998535, 0.14240255122829668, 0.13985760239443273, 0.13735506059570182, 0.1348953782732338, 0.13247893023162216, 0.1301060073610808, 0.12777680997340682, 0.12549144090606554, 0.12324989855898659, 0.12105207003604976, 0.1188977245676207, 0.11678650739185202, 0.11471793427075722, 0.11269138681233498, 0.11070610876230019, 0.10876120341838742, 0.10685563230686926, 0.10498821524499954, 0.10315763189481288, 0.10136242489326153, 0.09960100462136695, 0.09787165565115026, 0.09617254488395684, 0.09450173136771639, 0.09285717775407347, 0.09123676332957999, 0.08963829852864033, 0.08805954081009655, 0.08649821175461084, 0.08495201521681131, 0.0834186563448738, 0.0818958612612429, 0.0803813971819102, 0.07887309273838772, 0.07736885825655238, 0.07586670574013461, 0.0743647683039831, 0.07286131880348173, 0.071354787411707, 0.06984377790510073, 0.06832708243150876, 0.06680369455127037, 0.06527282036243662, 0.06373388754483024, 0.06218655218422473, 0.06063070326697239], \"yaxis\": \"y\"}, {\"legendgroup\": \"writing score\", \"marker\": {\"color\": \"rgb(44, 160, 44)\"}, \"mode\": \"lines\", \"name\": \"writing score\", \"showlegend\": true, \"type\": \"scatter\", \"x\": [1.6, 1.6108, 1.6216000000000002, 1.6324, 1.6432, 1.6540000000000001, 1.6648, 1.6756000000000002, 1.6864000000000001, 1.6972, 1.7080000000000002, 1.7188, 1.7296, 1.7404000000000002, 1.7512, 1.762, 1.7728000000000002, 1.7836, 1.7944, 1.8052000000000001, 1.816, 1.8268, 1.8376000000000001, 1.8484, 1.8592000000000002, 1.87, 1.8808, 1.8916000000000002, 1.9024, 1.9132000000000002, 1.9240000000000002, 1.9348, 1.9456000000000002, 1.9564000000000001, 1.9672, 1.9780000000000002, 1.9888000000000001, 1.9996, 2.0104, 2.0212000000000003, 2.032, 2.0428, 2.0536000000000003, 2.0644, 2.0752, 2.0860000000000003, 2.0968, 2.1076, 2.1184000000000003, 2.1292, 2.14, 2.1508000000000003, 2.1616, 2.1724, 2.1832000000000003, 2.194, 2.2048, 2.2156000000000002, 2.2264, 2.2372, 2.248, 2.2588, 2.2696, 2.2804, 2.2912, 2.302, 2.3128, 2.3236, 2.3344, 2.3452, 2.356, 2.3668, 2.3776, 2.3884000000000003, 2.3992, 2.41, 2.4208000000000003, 2.4316, 2.4424, 2.4532000000000003, 2.464, 2.4748, 2.4856000000000003, 2.4964000000000004, 2.5072, 2.5180000000000002, 2.5288000000000004, 2.5396, 2.5504000000000002, 2.5612000000000004, 2.572, 2.5828, 2.5936000000000003, 2.6044, 2.6152, 2.6260000000000003, 2.6368, 2.6476, 2.6584000000000003, 2.6692, 2.68, 2.6908000000000003, 2.7016, 2.7124, 2.7232000000000003, 2.734, 2.7448000000000006, 2.7556000000000003, 2.7664, 2.7772, 2.7880000000000003, 2.7988, 2.8096000000000005, 2.8204000000000002, 2.8312, 2.842, 2.8528000000000002, 2.8636, 2.8744000000000005, 2.8852, 2.896, 2.9068000000000005, 2.9176, 2.9284, 2.9392, 2.95, 2.9608000000000003, 2.9716000000000005, 2.9824, 2.9932, 3.004, 3.0148, 3.0256000000000003, 3.0364000000000004, 3.0472, 3.058, 3.0688000000000004, 3.0796, 3.0904000000000003, 3.1012000000000004, 3.112, 3.1228000000000002, 3.1336000000000004, 3.1444, 3.1552000000000002, 3.1660000000000004, 3.1768, 3.1876, 3.1984000000000004, 3.2092, 3.22, 3.2308000000000003, 3.2416, 3.2524, 3.2632000000000003, 3.274, 3.2848, 3.2956000000000003, 3.3064, 3.3172, 3.3280000000000003, 3.3388, 3.3496, 3.3604000000000003, 3.3712, 3.3820000000000006, 3.3928000000000003, 3.4036, 3.4144, 3.4252000000000002, 3.4360000000000004, 3.4468000000000005, 3.4576000000000002, 3.4684, 3.4792, 3.49, 3.5008000000000004, 3.5116000000000005, 3.5224, 3.5332, 3.5440000000000005, 3.5548, 3.5656000000000003, 3.5764000000000005, 3.5872, 3.5980000000000003, 3.6088000000000005, 3.6196, 3.6304000000000003, 3.6412, 3.652, 3.6628000000000003, 3.6736000000000004, 3.6844, 3.6952000000000003, 3.706, 3.7168, 3.7276000000000002, 3.7384000000000004, 3.7492000000000005, 3.7600000000000002, 3.7708000000000004, 3.7816000000000005, 3.7924, 3.8032000000000004, 3.814, 3.8248, 3.8356000000000003, 3.8464, 3.8572, 3.868, 3.8788000000000005, 3.8896000000000006, 3.9004000000000003, 3.9112000000000005, 3.922, 3.9328000000000003, 3.9436000000000004, 3.9544, 3.9652000000000003, 3.976, 3.9868, 3.9976000000000003, 4.0084, 4.0192000000000005, 4.03, 4.040800000000001, 4.0516000000000005, 4.0624, 4.0732, 4.084, 4.0948, 4.105600000000001, 4.1164000000000005, 4.1272, 4.138, 4.1488000000000005, 4.159600000000001, 4.170400000000001, 4.1812000000000005, 4.192, 4.2028, 4.2136000000000005, 4.2244, 4.235200000000001, 4.246, 4.2568, 4.2676, 4.2783999999999995, 4.289200000000001, 4.300000000000001, 4.3108, 4.3216, 4.3324, 4.3432, 4.354, 4.364800000000001, 4.3756, 4.3864, 4.3972, 4.4079999999999995, 4.4188, 4.429600000000001, 4.4404, 4.4512, 4.462, 4.4728, 4.483600000000001, 4.494400000000001, 4.5052, 4.516, 4.5268, 4.5376, 4.5484, 4.559200000000001, 4.57, 4.5808, 4.591600000000001, 4.6024, 4.613200000000001, 4.6240000000000006, 4.6348, 4.6456, 4.6564, 4.6672, 4.678, 4.6888000000000005, 4.6996, 4.7104, 4.7212000000000005, 4.732, 4.742800000000001, 4.7536000000000005, 4.7644, 4.7752, 4.786, 4.7968, 4.807600000000001, 4.8184000000000005, 4.8292, 4.84, 4.8508000000000004, 4.861600000000001, 4.872400000000001, 4.8832, 4.894, 4.9048, 4.9156, 4.9264, 4.937200000000001, 4.948, 4.9588, 4.9696, 4.9804, 4.991200000000001, 5.002000000000001, 5.0128, 5.0236, 5.0344, 5.0452, 5.056, 5.066800000000001, 5.0776, 5.0884, 5.0992, 5.110000000000001, 5.120800000000001, 5.131600000000001, 5.1424, 5.1532, 5.164000000000001, 5.1748, 5.185600000000001, 5.196400000000001, 5.2072, 5.218, 5.2288, 5.2396, 5.250400000000001, 5.2612000000000005, 5.272, 5.2828, 5.2936000000000005, 5.3044, 5.315200000000001, 5.3260000000000005, 5.3368, 5.3476, 5.3584, 5.3692, 5.380000000000001, 5.3908000000000005, 5.4016, 5.4124, 5.4232000000000005, 5.434000000000001, 5.444800000000001, 5.4556000000000004, 5.4664, 5.4772, 5.488, 5.4988, 5.509600000000001, 5.5204, 5.5312, 5.542000000000001, 5.5528, 5.563600000000001, 5.574400000000001, 5.5852, 5.596, 5.6068, 5.617600000000001, 5.628400000000001, 5.639200000000001, 5.65, 5.6608, 5.6716, 5.6823999999999995, 5.693200000000001, 5.704000000000001, 5.7148, 5.7256, 5.7364000000000015, 5.747200000000001, 5.758000000000001, 5.768800000000001, 5.7796, 5.7904, 5.8012000000000015, 5.811999999999999, 5.822800000000001, 5.833600000000001, 5.8444, 5.8552, 5.866, 5.876800000000001, 5.887600000000001, 5.8984000000000005, 5.9092, 5.92, 5.9308, 5.941600000000001, 5.952400000000001, 5.9632000000000005, 5.974, 5.9848, 5.9956, 6.006400000000001, 6.017200000000001, 6.0280000000000005, 6.0388, 6.0496, 6.060400000000001, 6.071200000000001, 6.082000000000001, 6.0928, 6.1036, 6.1144, 6.125200000000001, 6.135999999999999, 6.146800000000001, 6.1576, 6.1684, 6.179200000000002, 6.1899999999999995, 6.200800000000001, 6.211600000000001, 6.2224, 6.2332, 6.244, 6.2547999999999995, 6.265600000000001, 6.276400000000001, 6.2872, 6.298, 6.3088, 6.319600000000001, 6.330400000000001, 6.341200000000001, 6.352, 6.3628, 6.3736, 6.384400000000001, 6.395200000000001, 6.406000000000001, 6.4168, 6.4276, 6.4384000000000015, 6.449200000000001, 6.460000000000001, 6.4708000000000006, 6.4816, 6.4924, 6.503200000000001, 6.513999999999999, 6.524800000000001, 6.5356000000000005, 6.5464, 6.557200000000002, 6.568, 6.578800000000001, 6.589600000000001, 6.6004000000000005, 6.6112, 6.622, 6.6328, 6.643600000000001, 6.654400000000001, 6.6652000000000005, 6.676, 6.6868, 6.697600000000001, 6.708400000000001, 6.719200000000001, 6.73, 6.7408, 6.7516, 6.762400000000001, 6.773200000000001, 6.784000000000001, 6.7948, 6.8056, 6.8164, 6.827200000000001, 6.838000000000001, 6.848800000000001, 6.8596, 6.8704, 6.8812000000000015, 6.8919999999999995, 6.902800000000001, 6.913600000000001, 6.9244, 6.9352, 6.946, 6.956799999999999, 6.967600000000001, 6.978400000000001, 6.9892], \"xaxis\": \"x\", \"y\": [0.0029639245461833296, 0.0030321405479411478, 0.0030991413179457575, 0.0031649316247666145, 0.0032295310040640905, 0.003292973382548362, 0.0033553065702520432, 0.003416591632751656, 0.0034769021563826174, 0.0035363234205878637, 0.003594951492309201, 0.00365289225777062, 0.0037102604071202042, 0.0037671783872066248, 0.003823775337290284, 0.0038801860217574044, 0.003936549772952764, 0.0039930094561130116, 0.004049710467109619, 0.004106799772342443, 0.0041644249987046345, 0.004222733580109269, 0.004281871965665921, 0.004341984893255818, 0.0044032147310062155, 0.0044657008880307535, 0.004529579294799345, 0.004594981952637306, 0.004662036551131929, 0.004730866151640985, 0.004801588934641789, 0.004874318008316731, 0.004949161275521719, 0.005026221356106784, 0.005105595561429099, 0.0051873759177946425, 0.005271649235463479, 0.005358497219735602, 0.005447996620483184, 0.005540219416300522, 0.0056352330291987865, 0.005733100565480019, 0.005833881078090335, 0.005937629845389578, 0.006044398660902698, 0.006154236128261706, 0.006267187955234664, 0.006383297240501924, 0.0065026047467128196, 0.006625149153371867, 0.006750967283293656, 0.006880094296757966, 0.0070125638481142215, 0.007148408200442356, 0.007287658294983651, 0.007430343773406866, 0.007576492952559884, 0.007726132753150699, 0.00787928858576862, 0.008035984199751154, 0.008196241502566986, 0.008360080359556127, 0.008527518385971327, 0.008698570745221476, 0.008873249968948175, 0.009051565815988219, 0.009233525188308654, 0.009419132122575512, 0.009608387876066098, 0.009801291125105584, 0.009997838293064013, 0.010198024023165926, 0.010401841808940208, 0.010609284792089156, 0.010820346733921333, 0.011035023162332338, 0.01125331269171257, 0.011475218508211907, 0.011700750007615687, 0.011929924567820424, 0.01216276943268636, 0.01239932367904199, 0.012639640233982907, 0.01288378790550195, 0.013131853386061928, 0.013383943186121246, 0.01364018545297225, 0.013900731629662611, 0.01416575790932456, 0.014435466441992284, 0.014710086253972177, 0.014989873844035098, 0.015275113426084883, 0.015566116794448241, 0.015863222795416767, 0.016166796397011116, 0.016477227357959628, 0.016794928506388317, 0.017120333648487727, 0.01745389513721726, 0.017796081140680313, 0.018147372658899846, 0.018508260346094728, 0.018879241202954384, 0.019260815209607225, 0.01965348197476759, 0.020057737479744406, 0.020474070997454658, 0.020902962266194737, 0.021344878995607514, 0.021800274778020406, 0.022269587472132587, 0.022753238117962715, 0.023251630432142182, 0.023765150921207012, 0.024294169637694762, 0.024839041589832436, 0.02540010880066841, 0.025977702996954285, 0.026572148892241295, 0.02718376801285627, 0.02781288300000409, 0.02845982230656302, 0.029124925193531936, 0.02980854691888516, 0.030511064001108482, 0.03123287943120789, 0.0319744277007564, 0.03273617950979221, 0.03351864601727099, 0.03432238249843534, 0.035147991277968894, 0.035996123815169916, 0.03686748182757795, 0.03776281735242633, 0.0386829316608244, 0.03962867295750075, 0.0406009328190061, 0.04160064134518376, 0.04262876102211686, 0.04368627931927828, 0.04477420006881107, 0.04589353370031921, 0.047045286429783124, 0.048230448525749384, 0.04944998179931083, 0.050704806486111365, 0.051995787708218937, 0.0533237217207821, 0.054689322162508845, 0.05609320653982257, 0.05753588318174284, 0.05901773890584862, 0.06053902763491259, 0.06209986019881635, 0.06370019554711055, 0.06533983358408783, 0.06701840982058391, 0.06873539201508294, 0.07049007895132466, 0.07228160147081218, 0.07410892584678805, 0.07597085955183745, 0.07786605943479682, 0.07979304228465495, 0.08175019772022679, 0.08373580330518747, 0.08574804174921968, 0.08778502001820687, 0.0898447901402465, 0.09192537146040221, 0.09402477406616146, 0.09614102307809423, 0.09827218347674223, 0.10041638511776985, 0.10257184757328162, 0.10473690442828926, 0.10691002665783725, 0.10908984471244396, 0.1112751689473661, 0.11346500804473965, 0.11565858509679756, 0.11785535104293868, 0.12005499518314498, 0.12225745252479037, 0.12446290775881563, 0.1266717957040812, 0.12888479810489903, 0.13110283671567838, 0.1333270626576417, 0.1355588420849962, 0.13779973825104858, 0.14005149011779963, 0.1423159877047969, 0.14459524442371258, 0.14689136669350736, 0.14920652117643043, 0.15154290001678763, 0.15390268450174435, 0.15628800759580366, 0.15870091582746923, 0.16114333102747203, 0.16361701243240304, 0.1661235196753071, 0.16866417718550356, 0.17124004051343295, 0.17385186508264336, 0.17650007785011118, 0.17918475232810424, 0.1819055873859484, 0.1846618902086922, 0.18745256374220706, 0.1902760989012435, 0.1931305717590166, 0.19601364587471062, 0.1989225798496819, 0.20185424013496453, 0.20480511904282436, 0.2077713578446037, 0.21074877476688458, 0.21373289762912387, 0.21671900079943146, 0.21970214608201266, 0.22267722709105206, 0.225639016612345, 0.22858221640668686, 0.23150150886873616, 0.23439160992241415, 0.23724732250956299, 0.2400635900129849, 0.24283554894850046, 0.24555858026350197, 0.24822835859171202, 0.25084089883540595, 0.2533925994769911, 0.25588028206119917, 0.25830122633670455, 0.26065320060109465, 0.26293448685501536, 0.26514390043908087, 0.2672808038998081, 0.26934511490731833, 0.27133730812669404, 0.27325841102548987, 0.2751099936807737, 0.2768941527289255, 0.2786134896790859, 0.28027108388538313, 0.2818704605427499, 0.28341555413520425, 0.2849106678229161, 0.2863604293043441, 0.287769743731443, 0.2891437442888022, 0.29048774107108705, 0.2918071689070062, 0.29310753478206375, 0.2943943655065597, 0.2956731562598657, 0.2969493206172409, 0.2982281426318586, 0.2995147315029285, 0.30081397931159626, 0.30213052225058873, 0.3034687057123644, 0.30483255353492356, 0.30622574163564104, 0.30765157619268513, 0.3091129764621111, 0.31061246224776334, 0.3121521459719864, 0.31373372922900833, 0.31535850364086854, 0.3170273557789559, 0.31874077586355265, 0.32049886991003323, 0.322301374954229, 0.32414767696140934, 0.32603683100371117, 0.32796758327978914, 0.3299383945479423, 0.3319474645497982, 0.33399275701537995, 0.3360720248615296, 0.3381828352234772, 0.3403225939929876, 0.3424885695750312, 0.34467791561723926, 0.3468876925114048, 0.3491148875127921, 0.3513564333698642, 0.35360922540303247, 0.35587013701508013, 0.3581360336569599, 0.36040378530975076, 0.36267027757587406, 0.36493242149952493, 0.367187162257138, 0.3694314868732393, 0.37166243112506875, 0.37387708580088447, 0.3760726024721069, 0.37824619892877415, 0.3803951644117116, 0.38251686475404206, 0.38460874751999885, 0.386668347201374, 0.3886932905023156, 0.3906813017126457, 0.3926302081394659, 0.3945379455375831, 0.3964025634522662, 0.3982222303639478, 0.3999952385045625, 0.40172000819998294, 0.4033950915830509, 0.4050191755173981, 0.40659108357386436, 0.40810977690890365, 0.40957435390777064, 0.41098404847423065, 0.4123382268725279, 0.4136363830557539, 0.4148781324468117, 0.41606320417297604, 0.41719143179161533, 0.4182627425819381, 0.41927714551457473, 0.4202347180463122, 0.4211355919203496, 0.4219799381820316, 0.4227679516452532, 0.4234998350648595, 0.4241757832847265, 0.42479596763935107, 0.4253605208883865, 0.42586952295851616, 0.42632298775543626, 0.42672085129075016, 0.4270629613447156, 0.4273490688565911, 0.42757882120056384, 0.427751757467753, 0.42786730583454086, 0.4279247830555194, 0.42792339607673546, 0.42786224572275744, 0.4277403323704364, 0.4275565634841262, 0.4273097628524805, 0.4269986813366208, 0.42662200891414426, 0.42617838778371386, 0.425666426281208, 0.4250847133508687, 0.4244318333136132, 0.42370638067955224, 0.42290697476252603, 0.4220322738706567, 0.4210809888679773, 0.420051895927413, 0.41894384832396825, 0.41775578714803757, 0.4164867508513939, 0.4151358835716575, 0.413702442213995, 0.4121858023005309, 0.4105854626276168, 0.4089010487979664, 0.40713231571802777, 0.4052791491703166, 0.40334156658533893, 0.4013197171479362, 0.39921388137823177, 0.39702447032788163, 0.39475202452817787, 0.3923972128179811, 0.3899608311668986, 0.38744380159306974, 0.3848471712559413, 0.38217211178321364, 0.37941991886837284, 0.37659201215166976, 0.3736899353737579, 0.37071535676822526, 0.36767006963756976, 0.3645559930374876, 0.36137517247712875, 0.35812978052878525, 0.35482211722962725, 0.3514546101509258, 0.3480298140067909, 0.3445504096749923, 0.34101920250669804, 0.3374391198100291, 0.333813207403732, 0.3301446251518578, 0.32643664140760764, 0.32269262631401846, 0.3189160439304564, 0.31511044317634834, 0.3112794476067104, 0.3074267440572605, 0.30355607021968, 0.29967120122937785, 0.295775935368507, 0.2918740790054614, 0.2879694309083442, 0.28406576608361794, 0.2801668193020923, 0.27627626848238146, 0.27239771810696617, 0.2685346828478949, 0.26469057157809384, 0.26086867194030766, 0.2570721356390154, 0.25330396461151977, 0.24956699822300624, 0.24586390161704635, 0.24219715533805655, 0.2385690463259759, 0.23498166036619125, 0.231436876059901, 0.2279363603618734, 0.22448156571438385, 0.22107372878808673, 0.21771387082307714, 0.21440279954659702, 0.21114111262781626, 0.2079292026151955, 0.2047672632880278, 0.2016552973410527, 0.1985931253095418, 0.1955803956319866, 0.1926165957384558, 0.18970106404486833, 0.18683300272672962, 0.18401149114035373, 0.18123549975513667, 0.17850390445705838, 0.17581550108125174, 0.17316902003012102, 0.17056314083319035, 0.16799650650556813, 0.1654677375636817, 0.16297544555979965, 0.160518246000896, 0.15809477052262758, 0.15570367819573294, 0.15334366585003734, 0.15101347731052636, 0.14871191145073095, 0.14643782898091254, 0.14419015790231304, 0.1419678975739984, 0.13977012135552325, 0.13759597780666447, 0.13544469044472773, 0.1333155560801402, 0.13120794177208428, 0.12912128046741908, 0.12705506540781014, 0.1250088434114724, 0.12298220715677312, 0.12097478661480472, 0.11898623979636444, 0.11701624299520798, 0.11506448072347002, 0.113130635546351, 0.11121437803115207, 0.10931535703014852, 0.10743319051728951, 0.10556745719510542, 0.10371768908031176, 0.10188336526434583, 0.10006390702852977, 0.09825867447279596, 0.09646696479222974, 0.09468801230737688, 0.09292099032281047, 0.0911650148543469, 0.08941915022922044, 0.08768241652610981, 0.0859537987839659, 0.08423225787087484, 0.08251674286756032, 0.08080620478537962, 0.07909961140663353, 0.07739596300643727, 0.0756943086910175, 0.07399376306772593, 0.07229352294782905, 0.07059288377469243, 0.06889125546755526, 0.06718817737494415, 0.06548333204182272, 0.06377655751075129, 0.06206785789934183, 0.06035741202373241, 0.058645579870117315], \"yaxis\": \"y\"}, {\"legendgroup\": \"math score\", \"marker\": {\"color\": \"rgb(31, 119, 180)\", \"symbol\": \"line-ns-open\"}, \"mode\": \"markers\", \"name\": \"math score\", \"showlegend\": false, \"type\": \"scatter\", \"x\": [3.22, 5.8, 5.38, 5.86, 6.64, 5.26, 5.5, 3.04, 4.78, 6.64, 4.9, 4.12, 4.72, 5.44, 4.72, 5.38, 3.76, 5.92, 4.78, 4.84, 5.8, 6.58, 5.14, 3.76, 6.16, 4.54, 6.04, 4.84, 5.38, 5.98, 5.5, 5.14, 5.08, 4.42, 4.96, 4.66, 3.4, 4.0, 3.88, 3.16, 5.68, 4.42, 5.14, 3.4, 6.52, 3.1, 4.78, 5.38, 4.78, 4.12, 5.38, 4.78, 5.26, 3.7, 6.1, 5.8, 5.62, 6.46, 4.6, 4.78, 3.4, 4.42, 4.48, 6.82, 5.86, 5.08, 4.54, 6.76, 6.22, 4.42, 6.64, 6.82, 4.9, 5.92, 5.32, 4.72, 3.64, 5.92, 5.5, 4.54, 5.5, 5.32, 5.08, 4.96, 5.02, 6.58, 5.14, 4.78, 3.76, 4.96, 4.72, 3.88, 5.26, 4.24, 5.8, 4.3, 6.4, 6.64, 5.86, 4.18, 4.66, 5.5, 5.44, 4.72, 5.2, 4.54, 4.72, 4.18, 5.8, 5.14, 5.14, 5.14, 3.94, 5.98, 4.9, 5.38, 5.08, 4.84, 4.9, 3.94, 4.48, 4.96, 4.9, 4.9, 5.2, 5.74, 4.0, 4.84, 5.08, 2.92, 5.08, 4.48, 2.14, 5.14, 5.32, 4.18, 4.66, 5.68, 4.18, 3.7, 3.64, 5.98, 4.9, 6.28, 6.28, 6.46, 6.04, 4.06, 3.2800000000000002, 3.8200000000000003, 4.96, 4.66, 4.6, 5.26, 3.7, 5.62, 4.18, 4.42, 5.32, 5.5600000000000005, 3.7, 6.94, 4.06, 4.84, 4.12, 5.8, 4.06, 4.0, 4.84, 5.44, 5.26, 4.42, 5.14, 5.62, 5.5, 3.58, 5.8, 4.54, 6.1, 4.3, 3.64, 3.52, 4.48, 4.66, 4.0, 6.28, 5.38, 5.02, 6.82, 4.66, 4.72, 4.24, 4.96, 5.68, 6.1, 6.04, 5.5600000000000005, 3.64, 5.86, 4.24, 4.48, 5.86, 5.32, 5.26, 4.66, 4.96, 5.26, 5.26, 6.34, 5.38, 5.86, 3.76, 2.32, 3.88, 3.64, 6.46, 5.5600000000000005, 5.62, 4.72, 5.02, 6.16, 4.48, 4.18, 4.42, 5.14, 4.72, 3.22, 6.28, 6.4, 5.08, 4.9, 4.78, 4.12, 3.88, 4.9, 4.24, 2.74, 2.56, 5.2, 5.5, 4.6, 6.88, 6.58, 4.54, 3.76, 5.5600000000000005, 5.74, 2.68, 4.3, 4.66, 3.1, 6.64, 3.76, 7.0, 5.02, 4.0, 5.74, 5.26, 5.98, 4.3, 3.88, 5.5600000000000005, 5.62, 4.72, 4.36, 5.08, 6.04, 5.8, 4.72, 4.6, 4.84, 2.74, 4.12, 4.18, 5.02, 5.92, 4.36, 5.74, 5.38, 4.96, 5.38, 4.96, 6.04, 5.44, 5.5600000000000005, 5.86, 5.74, 5.08, 4.78, 4.0, 5.32, 6.1, 5.98, 6.04, 4.9, 6.1, 5.2, 4.48, 6.16, 4.84, 4.9, 4.66, 3.94, 4.18, 6.82, 5.5, 5.32, 5.44, 4.54, 5.08, 5.68, 4.18, 5.32, 6.94, 5.74, 6.46, 5.98, 5.32, 4.66, 5.38, 4.54, 7.0, 4.66, 5.62, 5.26, 3.94, 4.72, 6.16, 5.5, 3.8200000000000003, 4.78, 5.2, 5.08, 4.66, 5.26, 5.86, 7.0, 5.62, 4.18, 5.26, 5.38, 4.9, 3.94, 4.12, 4.9, 4.54, 5.8, 4.72, 4.42, 3.76, 4.48, 5.02, 5.38, 5.32, 3.4, 5.68, 4.78, 4.66, 5.74, 5.62, 5.2, 4.18, 3.7, 3.4, 5.92, 5.68, 5.5, 5.2, 4.3, 5.2, 2.8, 5.5, 4.78, 5.92, 5.44, 4.24, 5.26, 5.38, 5.62, 5.62, 6.22, 6.22, 5.44, 5.02, 3.58, 3.94, 3.94, 4.18, 4.84, 4.66, 5.74, 5.14, 4.24, 4.9, 5.62, 4.48, 5.38, 4.24, 4.24, 4.84, 4.54, 5.5600000000000005, 6.1, 6.82, 4.18, 4.12, 5.62, 5.74, 4.42, 4.96, 4.78, 4.9, 5.08, 4.3, 5.32, 6.16, 6.82, 5.5, 4.12, 5.44, 5.2, 3.34, 4.66, 3.64, 6.22, 4.96, 5.08, 4.72, 5.86, 5.2, 5.44, 5.5600000000000005, 4.54, 5.08, 5.38, 7.0, 1.48, 4.9, 3.4, 3.88, 6.34, 5.62, 4.9, 5.14, 5.08, 3.94, 4.72, 4.36, 3.76, 4.6, 6.46, 6.4, 5.38, 5.2, 3.8200000000000003, 4.9, 5.86, 4.3, 6.58, 4.9, 4.72, 3.88, 5.08, 4.96, 4.3, 3.52, 5.44, 3.22, 4.96, 6.28, 5.14, 4.66, 3.34, 6.22, 4.84, 3.64, 4.54, 5.8, 5.26, 4.18, 5.68, 4.3, 5.2, 4.9, 6.16, 4.24, 3.46, 6.4, 4.54, 4.9, 5.02, 6.34, 4.54, 5.38, 5.44, 6.16, 4.66, 4.42, 4.48, 3.7, 4.78, 5.02, 6.64, 4.36, 4.72, 5.2, 5.2, 5.5600000000000005, 4.84, 3.8200000000000003, 4.96, 3.4, 4.96, 5.08, 4.06, 6.28, 6.4, 4.12, 3.94, 4.18, 5.26, 4.0, 4.48, 3.52, 5.02, 3.34, 6.1, 5.68, 5.38, 5.08, 6.34, 3.4, 5.92, 5.62, 5.14, 5.74, 4.18, 3.58, 4.48, 6.28, 5.14, 6.1, 5.14, 5.32, 4.42, 4.48, 4.72, 5.5, 6.28, 5.86, 5.02, 5.02, 5.44, 5.26, 6.1, 4.36, 5.92, 4.6, 5.86, 6.22, 3.76, 4.48, 4.72, 5.5600000000000005, 4.6, 4.0, 5.62, 4.84, 4.66, 4.6, 5.02, 4.84, 6.4, 4.18, 3.88, 4.6, 5.92, 4.48, 4.6, 4.96, 6.1, 3.94, 5.62, 5.02, 5.14, 4.0, 4.72, 5.98, 5.86, 5.32, 6.52, 5.26, 6.28, 5.92, 5.26, 5.5, 4.06, 4.72, 5.5, 4.78, 5.26, 5.02, 5.26, 4.66, 4.36, 6.88, 5.92, 5.5, 4.54, 5.26, 3.64, 5.62, 4.9, 4.42, 4.6, 2.62, 4.48, 5.2, 3.2800000000000002, 3.52, 7.0, 6.34, 3.1, 5.62, 4.72, 5.74, 3.76, 4.54, 4.96, 3.8200000000000003, 5.62, 5.68, 4.12, 5.2, 4.48, 5.08, 5.14, 6.22, 4.12, 5.32, 6.1, 3.46, 4.66, 5.02, 4.24, 4.78, 4.12, 4.72, 4.48, 4.72, 4.9, 5.44, 5.74, 5.08, 4.78, 4.12, 4.54, 4.3, 4.96, 5.44, 6.46, 5.44, 5.86, 5.74, 6.4, 4.24, 5.68, 6.28, 4.72, 5.8, 5.8, 5.26, 5.5, 4.6, 6.28, 4.3, 4.0, 3.52, 5.14, 3.52, 4.48, 2.44, 5.02, 4.54, 4.54, 6.76, 3.7, 6.28, 5.32, 4.66, 5.86, 5.74, 3.8200000000000003, 3.94, 4.24, 5.26, 4.54, 6.34, 4.54, 4.42, 5.62, 5.62, 4.6, 5.5600000000000005, 2.92, 3.94, 5.5600000000000005, 4.84, 4.78, 4.0, 3.64, 4.96, 5.02, 4.66, 5.14, 4.9, 4.18, 6.22, 4.18, 4.96, 3.94, 5.02, 4.3, 2.8, 5.38, 4.72, 5.74, 4.78, 4.12, 4.48, 5.68, 5.44, 5.08, 5.92, 5.38, 4.54, 5.44, 6.04, 5.02, 6.22, 5.62, 4.48, 5.14, 4.9, 6.52, 6.22, 5.14, 5.38, 4.66, 5.02, 5.14, 5.44, 4.84, 3.16, 3.46, 3.94, 4.54, 6.04, 5.5600000000000005, 4.66, 4.72, 5.02, 4.24, 4.54, 5.08, 6.46, 6.76, 5.08, 5.44, 5.26, 3.1, 5.86, 4.18, 5.8, 5.5600000000000005, 4.78, 4.42, 4.48, 5.32, 4.3, 5.8, 3.46, 4.06, 6.1, 5.86, 4.12, 2.08, 5.38, 4.78, 4.54, 4.78, 4.78, 5.8, 4.6, 4.84, 6.88, 4.54, 4.9, 6.22, 4.96, 4.12, 5.38, 6.22, 5.74, 5.14, 3.8200000000000003, 6.52, 4.42, 6.28, 5.74, 5.26, 5.86, 4.9, 5.92, 4.9, 3.4, 5.38, 4.36, 5.14, 5.02, 6.46, 5.02, 4.9, 4.48, 4.3, 3.88, 4.18, 6.1, 4.72, 4.9, 5.92, 5.62, 4.0, 5.14, 1.0, 4.9, 5.14, 5.32, 7.0, 4.9, 3.8200000000000003, 4.06, 5.26, 5.92, 4.3, 5.5, 4.96, 5.32, 5.2, 4.42, 6.04, 4.66, 3.7, 4.9, 2.62, 6.28, 4.9, 4.78, 5.68, 4.9, 6.4, 7.0, 5.02, 5.44, 5.5600000000000005, 4.96, 4.54, 4.72, 3.46, 2.74, 5.14, 2.38, 4.96, 4.24, 5.08], \"xaxis\": \"x\", \"y\": [\"math score\", \"math score\", \"math score\", \"math score\", \"math score\", \"math score\", \"math score\", \"math score\", \"math score\", \"math score\", \"math score\", \"math score\", \"math score\", \"math score\", \"math score\", \"math score\", \"math score\", \"math score\", \"math score\", \"math score\", \"math score\", \"math score\", \"math score\", \"math score\", \"math score\", \"math score\", \"math score\", \"math score\", \"math score\", \"math score\", \"math score\", \"math score\", \"math score\", \"math score\", \"math score\", \"math score\", \"math score\", \"math score\", \"math score\", \"math score\", \"math score\", \"math score\", \"math score\", \"math score\", \"math score\", \"math score\", \"math score\", \"math score\", \"math score\", \"math score\", \"math score\", \"math score\", \"math score\", \"math score\", \"math score\", \"math score\", \"math score\", \"math score\", \"math score\", \"math score\", \"math score\", \"math score\", \"math score\", \"math score\", \"math score\", \"math score\", \"math score\", \"math score\", \"math score\", \"math score\", \"math score\", \"math score\", \"math score\", \"math score\", \"math score\", \"math score\", \"math score\", \"math score\", \"math score\", \"math score\", \"math score\", \"math score\", \"math score\", \"math score\", \"math score\", \"math score\", \"math score\", \"math score\", \"math score\", \"math score\", \"math score\", \"math score\", \"math score\", \"math score\", \"math score\", \"math score\", \"math score\", \"math score\", \"math score\", \"math score\", \"math score\", \"math score\", \"math score\", \"math score\", \"math score\", \"math score\", \"math score\", \"math score\", \"math score\", \"math score\", \"math score\", \"math score\", \"math score\", \"math score\", \"math score\", \"math score\", \"math score\", \"math score\", \"math score\", \"math score\", \"math score\", \"math score\", \"math score\", \"math score\", \"math score\", \"math score\", \"math score\", \"math score\", \"math score\", \"math score\", \"math score\", \"math score\", \"math score\", \"math score\", \"math score\", \"math score\", \"math score\", \"math score\", \"math score\", \"math score\", \"math score\", \"math score\", \"math score\", \"math score\", \"math score\", \"math score\", \"math score\", \"math score\", \"math score\", \"math score\", \"math score\", \"math score\", \"math score\", \"math score\", \"math score\", \"math score\", \"math score\", \"math score\", \"math score\", \"math score\", \"math score\", \"math score\", \"math score\", \"math score\", \"math score\", \"math score\", \"math score\", \"math score\", \"math score\", \"math score\", \"math score\", \"math score\", \"math score\", \"math score\", \"math score\", \"math score\", \"math score\", \"math score\", \"math score\", \"math score\", \"math score\", \"math score\", \"math score\", \"math score\", \"math score\", \"math score\", \"math score\", \"math score\", \"math score\", \"math score\", \"math score\", \"math score\", \"math score\", \"math score\", \"math score\", \"math score\", \"math score\", \"math score\", \"math score\", \"math score\", \"math score\", \"math score\", \"math score\", \"math score\", \"math score\", \"math score\", \"math score\", \"math score\", \"math score\", \"math score\", \"math score\", \"math score\", \"math score\", \"math score\", \"math score\", \"math score\", \"math score\", \"math score\", \"math score\", \"math score\", \"math score\", \"math score\", \"math score\", \"math score\", \"math score\", \"math score\", \"math score\", \"math score\", \"math score\", \"math score\", \"math score\", \"math score\", \"math score\", \"math score\", \"math score\", \"math score\", \"math score\", \"math score\", \"math score\", \"math score\", \"math score\", \"math score\", \"math score\", \"math score\", \"math score\", \"math score\", \"math score\", \"math score\", \"math score\", \"math score\", \"math score\", \"math score\", \"math score\", \"math score\", \"math score\", \"math score\", \"math score\", \"math score\", \"math score\", \"math score\", \"math score\", \"math score\", \"math score\", \"math score\", \"math score\", \"math score\", \"math score\", \"math score\", \"math score\", \"math score\", \"math score\", \"math score\", \"math score\", \"math score\", \"math score\", \"math score\", \"math score\", \"math score\", \"math score\", \"math score\", \"math score\", \"math score\", \"math score\", \"math score\", \"math score\", \"math score\", \"math score\", \"math score\", \"math score\", \"math score\", \"math score\", \"math score\", \"math score\", \"math score\", \"math score\", \"math score\", \"math score\", \"math score\", \"math score\", \"math score\", \"math score\", \"math score\", \"math score\", \"math score\", \"math score\", \"math score\", \"math score\", \"math score\", \"math score\", \"math score\", \"math score\", \"math score\", \"math score\", \"math score\", \"math score\", \"math score\", \"math score\", \"math score\", \"math score\", \"math score\", \"math score\", \"math score\", \"math score\", \"math score\", \"math score\", \"math score\", \"math score\", \"math score\", \"math score\", \"math score\", \"math score\", \"math score\", \"math score\", \"math score\", \"math score\", \"math score\", \"math score\", \"math score\", \"math score\", \"math score\", \"math score\", \"math score\", \"math score\", \"math score\", \"math score\", \"math score\", \"math score\", \"math score\", \"math score\", \"math score\", \"math score\", \"math score\", \"math score\", \"math score\", \"math score\", \"math score\", \"math score\", \"math score\", \"math score\", \"math score\", \"math score\", \"math score\", \"math score\", \"math score\", \"math score\", \"math score\", \"math score\", \"math score\", \"math score\", \"math score\", \"math score\", \"math score\", \"math score\", \"math score\", \"math score\", \"math score\", \"math score\", \"math score\", \"math score\", \"math score\", \"math score\", \"math score\", \"math score\", \"math score\", \"math score\", \"math score\", \"math score\", \"math score\", \"math score\", \"math score\", \"math score\", \"math score\", \"math score\", \"math score\", \"math score\", \"math score\", \"math score\", \"math score\", \"math score\", \"math score\", \"math score\", \"math score\", \"math score\", \"math score\", \"math score\", \"math score\", \"math score\", \"math score\", \"math score\", \"math score\", \"math score\", \"math score\", \"math score\", \"math score\", \"math score\", \"math score\", \"math score\", \"math score\", \"math score\", \"math score\", \"math score\", \"math score\", \"math score\", \"math score\", \"math score\", \"math score\", \"math score\", \"math score\", \"math score\", \"math score\", \"math score\", \"math score\", \"math score\", \"math score\", \"math score\", \"math score\", \"math score\", \"math score\", \"math score\", \"math score\", \"math score\", \"math score\", \"math score\", \"math score\", \"math score\", \"math score\", \"math score\", \"math score\", \"math score\", \"math score\", \"math score\", \"math score\", \"math score\", \"math score\", \"math score\", \"math score\", \"math score\", \"math score\", \"math score\", \"math score\", \"math score\", \"math score\", \"math score\", \"math score\", \"math score\", \"math score\", \"math score\", \"math score\", \"math score\", \"math score\", \"math score\", \"math score\", \"math score\", \"math score\", \"math score\", \"math score\", \"math score\", \"math score\", \"math score\", \"math score\", \"math score\", \"math score\", \"math score\", \"math score\", \"math score\", \"math score\", \"math score\", \"math score\", \"math score\", \"math score\", \"math score\", \"math score\", \"math score\", \"math score\", \"math score\", \"math score\", \"math score\", \"math score\", \"math score\", \"math score\", \"math score\", \"math score\", \"math score\", \"math score\", \"math score\", \"math score\", \"math score\", \"math score\", \"math score\", \"math score\", \"math score\", \"math score\", \"math score\", \"math score\", \"math score\", \"math score\", \"math score\", \"math score\", \"math score\", \"math score\", \"math score\", \"math score\", \"math score\", \"math score\", \"math score\", \"math score\", \"math score\", \"math score\", \"math score\", \"math score\", \"math score\", \"math score\", \"math score\", \"math score\", \"math score\", \"math score\", \"math score\", \"math score\", \"math score\", \"math score\", \"math score\", \"math score\", \"math score\", \"math score\", \"math score\", \"math score\", \"math score\", \"math score\", \"math score\", \"math score\", \"math score\", \"math score\", \"math score\", \"math score\", \"math score\", \"math score\", \"math score\", \"math score\", \"math score\", \"math score\", \"math score\", \"math score\", \"math score\", \"math score\", \"math score\", \"math score\", \"math score\", \"math score\", \"math score\", \"math score\", \"math score\", \"math score\", \"math score\", \"math score\", \"math score\", \"math score\", \"math score\", \"math score\", \"math score\", \"math score\", \"math score\", \"math score\", \"math score\", \"math score\", \"math score\", \"math score\", \"math score\", \"math score\", \"math score\", \"math score\", \"math score\", \"math score\", \"math score\", \"math score\", \"math score\", \"math score\", \"math score\", \"math score\", \"math score\", \"math score\", \"math score\", \"math score\", \"math score\", \"math score\", \"math score\", \"math score\", \"math score\", \"math score\", \"math score\", \"math score\", \"math score\", \"math score\", \"math score\", \"math score\", \"math score\", \"math score\", \"math score\", \"math score\", \"math score\", \"math score\", \"math score\", \"math score\", \"math score\", \"math score\", \"math score\", \"math score\", \"math score\", \"math score\", \"math score\", \"math score\", \"math score\", \"math score\", \"math score\", \"math score\", \"math score\", \"math score\", \"math score\", \"math score\", \"math score\", \"math score\", \"math score\", \"math score\", \"math score\", \"math score\", \"math score\", \"math score\", \"math score\", \"math score\", \"math score\", \"math score\", \"math score\", \"math score\", \"math score\", \"math score\", \"math score\", \"math score\", \"math score\", \"math score\", \"math score\", \"math score\", \"math score\", \"math score\", \"math score\", \"math score\", \"math score\", \"math score\", \"math score\", \"math score\", \"math score\", \"math score\", \"math score\", \"math score\", \"math score\", \"math score\", \"math score\", \"math score\", \"math score\", \"math score\", \"math score\", \"math score\", \"math score\", \"math score\", \"math score\", \"math score\", \"math score\", \"math score\", \"math score\", \"math score\", \"math score\", \"math score\", \"math score\", \"math score\", \"math score\", \"math score\", \"math score\", \"math score\", \"math score\", \"math score\", \"math score\", \"math score\", \"math score\", \"math score\", \"math score\", \"math score\", \"math score\", \"math score\", \"math score\", \"math score\", \"math score\", \"math score\", \"math score\", \"math score\", \"math score\", \"math score\", \"math score\", \"math score\", \"math score\", \"math score\", \"math score\", \"math score\", \"math score\", \"math score\", \"math score\", \"math score\", \"math score\", \"math score\", \"math score\", \"math score\", \"math score\", \"math score\", \"math score\", \"math score\", \"math score\", \"math score\", \"math score\", \"math score\", \"math score\", \"math score\", \"math score\", \"math score\", \"math score\", \"math score\", \"math score\", \"math score\", \"math score\", \"math score\", \"math score\", \"math score\", \"math score\", \"math score\", \"math score\", \"math score\", \"math score\", \"math score\", \"math score\", \"math score\", \"math score\", \"math score\", \"math score\", \"math score\", \"math score\", \"math score\", \"math score\", \"math score\", \"math score\", \"math score\", \"math score\", \"math score\", \"math score\", \"math score\", \"math score\", \"math score\", \"math score\", \"math score\", \"math score\", \"math score\", \"math score\", \"math score\", \"math score\", \"math score\", \"math score\", \"math score\", \"math score\", \"math score\", \"math score\", \"math score\", \"math score\", \"math score\", \"math score\", \"math score\", \"math score\", \"math score\", \"math score\", \"math score\", \"math score\", \"math score\", \"math score\", \"math score\", \"math score\", \"math score\", \"math score\", \"math score\", \"math score\", \"math score\", \"math score\", \"math score\", \"math score\", \"math score\", \"math score\", \"math score\", \"math score\", \"math score\", \"math score\", \"math score\", \"math score\", \"math score\", \"math score\", \"math score\", \"math score\", \"math score\", \"math score\", \"math score\", \"math score\", \"math score\", \"math score\", \"math score\", \"math score\", \"math score\", \"math score\", \"math score\", \"math score\", \"math score\", \"math score\", \"math score\", \"math score\", \"math score\", \"math score\", \"math score\", \"math score\", \"math score\", \"math score\", \"math score\", \"math score\", \"math score\", \"math score\", \"math score\", \"math score\", \"math score\", \"math score\", \"math score\", \"math score\", \"math score\", \"math score\", \"math score\", \"math score\", \"math score\", \"math score\", \"math score\", \"math score\", \"math score\", \"math score\", \"math score\", \"math score\", \"math score\", \"math score\", \"math score\", \"math score\", \"math score\", \"math score\", \"math score\", \"math score\", \"math score\", \"math score\", \"math score\", \"math score\"], \"yaxis\": \"y2\"}, {\"legendgroup\": \"reading score\", \"marker\": {\"color\": \"rgb(255, 127, 14)\", \"symbol\": \"line-ns-open\"}, \"mode\": \"markers\", \"name\": \"reading score\", \"showlegend\": false, \"type\": \"scatter\", \"x\": [3.76, 5.68, 4.96, 5.5, 6.16, 4.66, 5.08, 3.88, 4.66, 5.38, 5.68, 5.5600000000000005, 4.9, 5.44, 4.42, 5.14, 3.52, 5.92, 4.66, 5.38, 5.5, 7.0, 5.5600000000000005, 4.66, 5.86, 5.32, 5.98, 4.84, 5.5600000000000005, 6.16, 6.28, 5.44, 5.32, 4.66, 4.84, 4.66, 4.54, 5.02, 4.72, 2.74, 5.74, 5.02, 4.48, 4.3, 6.22, 2.68, 5.02, 5.44, 4.84, 4.54, 5.74, 5.38, 4.6, 4.54, 6.52, 5.5600000000000005, 6.64, 6.1, 4.72, 3.88, 3.88, 4.24, 4.24, 5.92, 5.92, 4.9, 5.26, 6.4, 6.04, 5.5, 6.28, 6.58, 5.86, 6.58, 4.42, 5.44, 4.24, 6.04, 6.4, 3.46, 5.38, 5.08, 5.68, 5.44, 4.72, 6.4, 4.78, 5.44, 4.84, 5.08, 5.38, 4.36, 5.2, 5.32, 5.98, 4.54, 6.22, 6.94, 5.38, 3.58, 5.08, 6.1, 5.86, 5.32, 5.68, 4.06, 5.32, 4.0, 6.1, 4.96, 5.68, 5.62, 3.7, 6.58, 4.66, 4.84, 5.98, 4.96, 5.62, 4.42, 5.02, 5.68, 5.2, 5.74, 5.08, 5.86, 5.02, 4.24, 4.6, 4.06, 4.06, 4.42, 3.2800000000000002, 5.62, 5.74, 4.48, 4.06, 5.32, 4.72, 4.36, 4.06, 5.98, 5.5600000000000005, 5.68, 6.7, 6.34, 6.22, 4.96, 3.94, 4.18, 4.42, 5.38, 5.08, 5.26, 4.78, 6.16, 4.48, 4.06, 4.84, 5.26, 3.88, 6.58, 5.32, 4.6, 4.66, 5.38, 4.24, 3.88, 5.38, 5.44, 5.62, 5.44, 5.2, 6.4, 5.44, 4.06, 5.08, 5.32, 5.86, 5.5600000000000005, 4.78, 4.72, 4.54, 3.8200000000000003, 4.96, 5.44, 5.68, 6.16, 7.0, 4.48, 4.84, 4.78, 5.26, 6.46, 5.5, 6.04, 6.64, 4.66, 6.04, 3.94, 4.78, 5.92, 5.86, 3.94, 3.52, 5.62, 5.5600000000000005, 4.96, 6.28, 5.98, 5.86, 3.04, 3.34, 4.12, 4.84, 5.86, 5.8, 5.68, 5.32, 4.84, 5.86, 5.2, 4.12, 4.48, 5.38, 4.96, 4.42, 6.34, 5.5, 5.2, 5.5, 5.14, 4.42, 3.58, 4.24, 4.24, 3.46, 2.86, 5.5, 5.44, 4.42, 6.22, 6.04, 4.24, 4.24, 4.84, 6.28, 2.38, 5.26, 4.42, 4.18, 6.1, 4.48, 7.0, 5.8, 3.8200000000000003, 6.04, 5.86, 5.92, 4.84, 4.48, 5.38, 5.62, 5.68, 5.08, 6.16, 5.62, 5.5, 5.2, 4.96, 4.72, 3.4, 4.9, 4.66, 4.66, 6.7, 5.74, 5.5600000000000005, 5.08, 5.44, 6.16, 4.9, 5.38, 5.62, 5.26, 5.32, 6.34, 5.26, 5.68, 4.36, 4.9, 6.52, 5.68, 6.7, 5.62, 6.16, 5.2, 4.78, 5.8, 5.92, 5.86, 4.3, 4.06, 4.06, 6.82, 5.32, 5.38, 5.74, 5.02, 5.08, 5.62, 4.48, 4.42, 7.0, 6.34, 5.38, 5.32, 5.74, 4.72, 5.44, 4.24, 6.76, 4.96, 5.74, 5.02, 4.18, 4.66, 6.52, 5.86, 4.54, 5.5, 5.5, 4.78, 4.36, 4.96, 6.82, 7.0, 6.4, 3.64, 5.98, 5.08, 5.92, 3.94, 4.54, 5.5, 4.6, 4.84, 3.94, 3.58, 3.58, 5.38, 4.24, 4.96, 5.32, 3.58, 5.98, 4.9, 5.32, 5.44, 5.92, 6.04, 4.24, 4.18, 4.48, 6.1, 5.32, 4.96, 4.84, 4.3, 6.34, 2.56, 6.04, 4.84, 5.92, 5.86, 4.54, 6.04, 6.04, 6.28, 6.28, 6.04, 5.44, 5.38, 4.84, 4.72, 4.12, 4.9, 4.24, 4.18, 6.16, 6.52, 5.26, 4.12, 6.16, 6.46, 4.66, 5.5600000000000005, 4.84, 4.18, 4.48, 5.32, 5.44, 6.04, 6.52, 5.2, 4.3, 5.5600000000000005, 5.32, 5.62, 5.14, 5.38, 6.1, 5.02, 4.48, 4.96, 5.5600000000000005, 6.22, 5.08, 3.94, 5.2, 5.92, 4.12, 5.44, 4.0, 6.04, 4.9, 5.62, 5.02, 4.96, 4.78, 5.5, 5.68, 5.2, 5.08, 4.96, 7.0, 2.44, 4.84, 4.9, 4.96, 6.04, 5.92, 5.38, 5.62, 5.32, 4.06, 5.14, 5.08, 4.36, 4.06, 6.7, 6.4, 4.36, 5.32, 3.94, 4.9, 5.62, 3.76, 7.0, 5.2, 4.66, 3.7, 4.54, 5.14, 3.76, 4.3, 5.62, 4.36, 4.78, 5.68, 5.62, 5.26, 4.84, 7.0, 4.78, 3.46, 5.68, 5.74, 6.22, 4.48, 5.86, 5.38, 5.2, 5.14, 5.38, 4.12, 4.06, 6.4, 4.48, 5.86, 5.74, 6.04, 4.78, 5.26, 6.4, 5.98, 4.48, 5.68, 4.12, 3.22, 4.78, 5.38, 6.22, 4.12, 4.96, 4.9, 5.44, 5.98, 5.44, 4.24, 5.44, 4.12, 5.44, 5.44, 2.86, 6.04, 6.7, 4.42, 4.18, 4.12, 5.44, 3.88, 4.3, 4.12, 4.42, 3.34, 6.4, 5.44, 5.68, 5.2, 7.0, 3.52, 5.02, 6.1, 6.04, 6.16, 4.72, 3.7, 4.3, 5.62, 5.2, 6.46, 4.6, 5.8, 4.0, 4.66, 4.78, 5.62, 6.94, 6.46, 5.68, 5.14, 5.74, 5.44, 6.04, 4.24, 4.72, 4.84, 5.5, 6.1, 3.58, 5.08, 4.3, 5.32, 5.08, 3.52, 6.34, 4.0, 5.08, 4.54, 4.42, 5.38, 6.1, 3.7, 4.36, 5.2, 6.4, 5.02, 5.5, 4.54, 6.7, 4.12, 5.14, 5.5600000000000005, 5.74, 4.6, 4.36, 6.1, 5.26, 5.74, 7.0, 5.2, 6.94, 6.58, 5.14, 5.92, 3.94, 4.3, 5.86, 4.3, 5.98, 5.32, 5.98, 4.36, 4.66, 6.16, 6.04, 6.28, 4.72, 5.5, 3.7, 5.08, 5.5600000000000005, 3.88, 4.6, 3.04, 4.0, 4.84, 3.58, 4.96, 6.52, 5.5600000000000005, 3.64, 4.72, 4.84, 5.92, 3.46, 5.2, 5.62, 3.22, 5.08, 5.62, 3.88, 5.26, 4.42, 4.24, 5.32, 6.64, 4.18, 5.8, 6.34, 3.34, 5.26, 6.34, 3.88, 4.78, 4.48, 4.3, 4.6, 5.02, 5.62, 6.28, 5.38, 5.08, 5.8, 5.2, 3.52, 3.8200000000000003, 4.6, 5.5600000000000005, 6.16, 4.78, 5.44, 5.92, 5.68, 4.48, 5.92, 6.52, 5.02, 6.16, 4.78, 5.74, 6.16, 5.32, 5.5, 4.66, 4.6, 4.66, 5.5, 3.34, 5.5, 3.2800000000000002, 6.04, 4.72, 4.72, 6.76, 3.8200000000000003, 6.1, 5.02, 5.02, 5.8, 6.1, 4.72, 4.48, 4.6, 5.26, 4.48, 6.22, 6.1, 4.48, 5.02, 5.02, 4.78, 5.68, 3.04, 4.42, 4.72, 5.5600000000000005, 5.68, 4.18, 4.06, 4.72, 6.04, 4.6, 6.04, 5.38, 5.32, 6.4, 4.96, 5.98, 4.9, 5.44, 5.32, 2.44, 6.52, 4.72, 4.6, 4.42, 4.9, 5.5600000000000005, 6.4, 6.34, 5.5600000000000005, 6.82, 5.2, 4.96, 6.16, 5.98, 6.16, 6.7, 6.82, 4.06, 4.96, 4.96, 7.0, 5.44, 4.24, 5.02, 4.6, 5.86, 6.4, 5.86, 4.6, 4.18, 4.12, 4.48, 5.14, 6.22, 5.98, 5.32, 5.02, 5.5, 4.84, 4.78, 5.02, 5.44, 7.0, 4.84, 5.5, 5.5600000000000005, 4.66, 5.68, 3.22, 5.5600000000000005, 5.2, 5.26, 5.08, 5.2, 4.96, 4.9, 6.52, 4.3, 4.36, 5.5600000000000005, 6.52, 4.54, 2.92, 5.74, 5.02, 5.38, 4.6, 5.38, 6.4, 3.64, 4.36, 7.0, 5.26, 5.14, 6.46, 5.5600000000000005, 4.3, 5.5, 6.04, 5.02, 4.6, 4.48, 5.74, 5.14, 6.7, 5.68, 4.72, 5.86, 5.86, 5.68, 5.14, 3.76, 5.8, 5.32, 4.48, 5.32, 6.76, 5.5, 5.44, 4.54, 3.46, 4.48, 4.66, 4.96, 5.02, 6.04, 5.92, 4.72, 4.84, 4.9, 2.02, 5.02, 6.16, 5.02, 7.0, 4.48, 4.42, 4.06, 5.44, 5.92, 4.9, 5.92, 4.96, 5.32, 4.3, 4.36, 6.34, 3.88, 4.12, 4.54, 3.04, 5.38, 5.92, 4.96, 5.86, 5.32, 6.22, 6.82, 5.44, 5.5, 5.02, 5.32, 4.84, 5.5600000000000005, 3.76, 2.74, 5.5, 3.64, 5.44, 4.66, 5.8], \"xaxis\": \"x\", \"y\": [\"reading score\", \"reading score\", \"reading score\", \"reading score\", \"reading score\", \"reading score\", \"reading score\", \"reading score\", \"reading score\", \"reading score\", \"reading score\", \"reading score\", \"reading score\", \"reading score\", \"reading score\", \"reading score\", \"reading score\", \"reading score\", \"reading score\", \"reading score\", \"reading score\", \"reading score\", \"reading score\", \"reading score\", \"reading score\", \"reading score\", \"reading score\", \"reading score\", \"reading score\", \"reading score\", \"reading score\", \"reading score\", \"reading score\", \"reading score\", \"reading score\", \"reading score\", \"reading score\", \"reading score\", \"reading score\", \"reading score\", \"reading score\", \"reading score\", \"reading score\", \"reading score\", \"reading score\", \"reading score\", \"reading score\", \"reading score\", \"reading score\", \"reading score\", \"reading score\", \"reading score\", \"reading score\", \"reading score\", \"reading score\", \"reading score\", \"reading score\", \"reading score\", \"reading score\", \"reading score\", \"reading score\", \"reading score\", \"reading score\", \"reading score\", \"reading score\", \"reading score\", \"reading score\", \"reading score\", \"reading score\", \"reading score\", \"reading score\", \"reading score\", \"reading score\", \"reading score\", \"reading score\", \"reading score\", \"reading score\", \"reading score\", \"reading score\", \"reading score\", \"reading score\", \"reading score\", \"reading score\", \"reading score\", \"reading score\", \"reading score\", \"reading score\", \"reading score\", \"reading score\", \"reading score\", \"reading score\", \"reading score\", \"reading score\", \"reading score\", \"reading score\", \"reading score\", \"reading score\", \"reading score\", \"reading score\", \"reading score\", \"reading score\", \"reading score\", \"reading score\", \"reading score\", \"reading score\", \"reading score\", \"reading score\", \"reading score\", \"reading score\", \"reading score\", \"reading score\", \"reading score\", \"reading score\", \"reading score\", \"reading score\", \"reading score\", \"reading score\", \"reading score\", \"reading score\", \"reading score\", \"reading score\", \"reading score\", \"reading score\", \"reading score\", \"reading score\", \"reading score\", \"reading score\", \"reading score\", \"reading score\", \"reading score\", \"reading score\", \"reading score\", \"reading score\", \"reading score\", \"reading score\", \"reading score\", \"reading score\", \"reading score\", \"reading score\", \"reading score\", \"reading score\", \"reading score\", \"reading score\", \"reading score\", \"reading score\", \"reading score\", \"reading score\", \"reading score\", \"reading score\", \"reading score\", \"reading score\", \"reading score\", \"reading score\", \"reading score\", \"reading score\", \"reading score\", \"reading score\", \"reading score\", \"reading score\", \"reading score\", \"reading score\", \"reading score\", \"reading score\", \"reading score\", \"reading score\", \"reading score\", \"reading score\", \"reading score\", \"reading score\", \"reading score\", \"reading score\", \"reading score\", \"reading score\", \"reading score\", \"reading score\", \"reading score\", \"reading score\", \"reading score\", \"reading score\", \"reading score\", \"reading score\", \"reading score\", \"reading score\", \"reading score\", \"reading score\", \"reading score\", \"reading score\", \"reading score\", \"reading score\", \"reading score\", \"reading score\", \"reading score\", \"reading score\", \"reading score\", \"reading score\", \"reading score\", \"reading score\", \"reading score\", \"reading score\", \"reading score\", \"reading score\", \"reading score\", \"reading score\", \"reading score\", \"reading score\", \"reading score\", \"reading score\", \"reading score\", \"reading score\", \"reading score\", \"reading score\", \"reading score\", \"reading score\", \"reading score\", \"reading score\", \"reading score\", \"reading score\", \"reading score\", \"reading score\", \"reading score\", \"reading score\", \"reading score\", \"reading score\", \"reading score\", \"reading score\", \"reading score\", \"reading score\", \"reading score\", \"reading score\", \"reading score\", \"reading score\", \"reading score\", \"reading score\", \"reading score\", \"reading score\", \"reading score\", \"reading score\", \"reading score\", \"reading score\", \"reading score\", \"reading score\", \"reading score\", \"reading score\", \"reading score\", \"reading score\", \"reading score\", \"reading score\", \"reading score\", \"reading score\", \"reading score\", \"reading score\", \"reading score\", \"reading score\", \"reading score\", \"reading score\", \"reading score\", \"reading score\", \"reading score\", \"reading score\", \"reading score\", \"reading score\", \"reading score\", \"reading score\", \"reading score\", \"reading score\", \"reading score\", \"reading score\", \"reading score\", \"reading score\", \"reading score\", \"reading score\", \"reading score\", \"reading score\", \"reading score\", \"reading score\", \"reading score\", \"reading score\", \"reading score\", \"reading score\", \"reading score\", \"reading score\", \"reading score\", \"reading score\", \"reading score\", \"reading score\", \"reading score\", \"reading score\", \"reading score\", \"reading score\", \"reading score\", \"reading score\", \"reading score\", \"reading score\", \"reading score\", \"reading score\", \"reading score\", \"reading score\", \"reading score\", \"reading score\", \"reading score\", \"reading score\", \"reading score\", \"reading score\", \"reading score\", \"reading score\", \"reading score\", \"reading score\", \"reading score\", \"reading score\", \"reading score\", \"reading score\", \"reading score\", \"reading score\", \"reading score\", \"reading score\", \"reading score\", \"reading score\", \"reading score\", \"reading score\", \"reading score\", \"reading score\", \"reading score\", \"reading score\", \"reading score\", \"reading score\", \"reading score\", \"reading score\", \"reading score\", \"reading score\", \"reading score\", \"reading score\", \"reading score\", \"reading score\", \"reading score\", \"reading score\", \"reading score\", \"reading score\", \"reading score\", \"reading score\", \"reading score\", \"reading score\", \"reading score\", \"reading score\", \"reading score\", \"reading score\", \"reading score\", \"reading score\", \"reading score\", \"reading score\", \"reading score\", \"reading score\", \"reading score\", \"reading score\", \"reading score\", \"reading score\", \"reading score\", \"reading score\", \"reading score\", \"reading score\", \"reading score\", \"reading score\", \"reading score\", \"reading score\", \"reading score\", \"reading score\", \"reading score\", \"reading score\", \"reading score\", \"reading score\", \"reading score\", \"reading score\", \"reading score\", \"reading score\", \"reading score\", \"reading score\", \"reading score\", \"reading score\", \"reading score\", \"reading score\", \"reading score\", \"reading score\", \"reading score\", \"reading score\", \"reading score\", \"reading score\", \"reading score\", \"reading score\", \"reading score\", \"reading score\", \"reading score\", \"reading score\", \"reading score\", \"reading score\", \"reading score\", \"reading score\", \"reading score\", \"reading score\", \"reading score\", \"reading score\", \"reading score\", \"reading score\", \"reading score\", \"reading score\", \"reading score\", \"reading score\", \"reading score\", \"reading score\", \"reading score\", \"reading score\", \"reading score\", \"reading score\", \"reading score\", \"reading score\", \"reading score\", \"reading score\", \"reading score\", \"reading score\", \"reading score\", \"reading score\", \"reading score\", \"reading score\", \"reading score\", \"reading score\", \"reading score\", \"reading score\", \"reading score\", \"reading score\", \"reading score\", \"reading score\", \"reading score\", \"reading score\", \"reading score\", \"reading score\", \"reading score\", \"reading score\", \"reading score\", \"reading score\", \"reading score\", \"reading score\", \"reading score\", \"reading score\", \"reading score\", \"reading score\", \"reading score\", \"reading score\", \"reading score\", \"reading score\", \"reading score\", \"reading score\", \"reading score\", \"reading score\", \"reading score\", \"reading score\", \"reading score\", \"reading score\", \"reading score\", \"reading score\", \"reading score\", \"reading score\", \"reading score\", \"reading score\", \"reading score\", \"reading score\", \"reading score\", \"reading score\", \"reading score\", \"reading score\", \"reading score\", \"reading score\", \"reading score\", \"reading score\", \"reading score\", \"reading score\", \"reading score\", \"reading score\", \"reading score\", \"reading score\", \"reading score\", \"reading score\", \"reading score\", \"reading score\", \"reading score\", \"reading score\", \"reading score\", \"reading score\", \"reading score\", \"reading score\", \"reading score\", \"reading score\", \"reading score\", \"reading score\", \"reading score\", \"reading score\", \"reading score\", \"reading score\", \"reading score\", \"reading score\", \"reading score\", \"reading score\", \"reading score\", \"reading score\", \"reading score\", \"reading score\", \"reading score\", \"reading score\", \"reading score\", \"reading score\", \"reading score\", \"reading score\", \"reading score\", \"reading score\", \"reading score\", \"reading score\", \"reading score\", \"reading score\", \"reading score\", \"reading score\", \"reading score\", \"reading score\", \"reading score\", \"reading score\", \"reading score\", \"reading score\", \"reading score\", \"reading score\", \"reading score\", \"reading score\", \"reading score\", \"reading score\", \"reading score\", \"reading score\", \"reading score\", \"reading score\", \"reading score\", \"reading score\", \"reading score\", \"reading score\", \"reading score\", \"reading score\", \"reading score\", \"reading score\", \"reading score\", \"reading score\", \"reading score\", \"reading score\", \"reading score\", \"reading score\", \"reading score\", \"reading score\", \"reading score\", \"reading score\", \"reading score\", \"reading score\", \"reading score\", \"reading score\", \"reading score\", \"reading score\", \"reading score\", \"reading score\", \"reading score\", \"reading score\", \"reading score\", \"reading score\", \"reading score\", \"reading score\", \"reading score\", \"reading score\", \"reading score\", \"reading score\", \"reading score\", \"reading score\", \"reading score\", \"reading score\", \"reading score\", \"reading score\", \"reading score\", \"reading score\", \"reading score\", \"reading score\", \"reading score\", \"reading score\", \"reading score\", \"reading score\", \"reading score\", \"reading score\", \"reading score\", \"reading score\", \"reading score\", \"reading score\", \"reading score\", \"reading score\", \"reading score\", \"reading score\", \"reading score\", \"reading score\", \"reading score\", \"reading score\", \"reading score\", \"reading score\", \"reading score\", \"reading score\", \"reading score\", \"reading score\", \"reading score\", \"reading score\", \"reading score\", \"reading score\", \"reading score\", \"reading score\", \"reading score\", \"reading score\", \"reading score\", \"reading score\", \"reading score\", \"reading score\", \"reading score\", \"reading score\", \"reading score\", \"reading score\", \"reading score\", \"reading score\", \"reading score\", \"reading score\", \"reading score\", \"reading score\", \"reading score\", \"reading score\", \"reading score\", \"reading score\", \"reading score\", \"reading score\", \"reading score\", \"reading score\", \"reading score\", \"reading score\", \"reading score\", \"reading score\", \"reading score\", \"reading score\", \"reading score\", \"reading score\", \"reading score\", \"reading score\", \"reading score\", \"reading score\", \"reading score\", \"reading score\", \"reading score\", \"reading score\", \"reading score\", \"reading score\", \"reading score\", \"reading score\", \"reading score\", \"reading score\", \"reading score\", \"reading score\", \"reading score\", \"reading score\", \"reading score\", \"reading score\", \"reading score\", \"reading score\", \"reading score\", \"reading score\", \"reading score\", \"reading score\", \"reading score\", \"reading score\", \"reading score\", \"reading score\", \"reading score\", \"reading score\", \"reading score\", \"reading score\", \"reading score\", \"reading score\", \"reading score\", \"reading score\", \"reading score\", \"reading score\", \"reading score\", \"reading score\", \"reading score\", \"reading score\", \"reading score\", \"reading score\", \"reading score\", \"reading score\", \"reading score\", \"reading score\", \"reading score\", \"reading score\", \"reading score\", \"reading score\", \"reading score\", \"reading score\", \"reading score\", \"reading score\", \"reading score\", \"reading score\", \"reading score\", \"reading score\", \"reading score\", \"reading score\", \"reading score\", \"reading score\", \"reading score\", \"reading score\", \"reading score\", \"reading score\", \"reading score\", \"reading score\", \"reading score\", \"reading score\", \"reading score\", \"reading score\", \"reading score\", \"reading score\", \"reading score\", \"reading score\", \"reading score\", \"reading score\", \"reading score\", \"reading score\", \"reading score\", \"reading score\", \"reading score\", \"reading score\", \"reading score\", \"reading score\", \"reading score\", \"reading score\", \"reading score\", \"reading score\", \"reading score\", \"reading score\", \"reading score\", \"reading score\", \"reading score\", \"reading score\", \"reading score\", \"reading score\", \"reading score\", \"reading score\", \"reading score\", \"reading score\", \"reading score\", \"reading score\", \"reading score\", \"reading score\", \"reading score\", \"reading score\", \"reading score\", \"reading score\", \"reading score\", \"reading score\", \"reading score\", \"reading score\", \"reading score\", \"reading score\", \"reading score\", \"reading score\", \"reading score\", \"reading score\", \"reading score\", \"reading score\", \"reading score\", \"reading score\", \"reading score\", \"reading score\", \"reading score\", \"reading score\", \"reading score\", \"reading score\", \"reading score\", \"reading score\", \"reading score\", \"reading score\", \"reading score\", \"reading score\", \"reading score\", \"reading score\", \"reading score\", \"reading score\", \"reading score\", \"reading score\", \"reading score\", \"reading score\", \"reading score\", \"reading score\", \"reading score\", \"reading score\", \"reading score\", \"reading score\", \"reading score\", \"reading score\", \"reading score\", \"reading score\", \"reading score\", \"reading score\", \"reading score\", \"reading score\", \"reading score\", \"reading score\", \"reading score\", \"reading score\", \"reading score\", \"reading score\", \"reading score\", \"reading score\", \"reading score\", \"reading score\", \"reading score\", \"reading score\", \"reading score\", \"reading score\", \"reading score\", \"reading score\", \"reading score\", \"reading score\", \"reading score\", \"reading score\", \"reading score\", \"reading score\", \"reading score\", \"reading score\", \"reading score\", \"reading score\", \"reading score\", \"reading score\", \"reading score\", \"reading score\", \"reading score\", \"reading score\", \"reading score\", \"reading score\", \"reading score\", \"reading score\", \"reading score\", \"reading score\", \"reading score\", \"reading score\", \"reading score\", \"reading score\", \"reading score\", \"reading score\", \"reading score\", \"reading score\", \"reading score\", \"reading score\", \"reading score\", \"reading score\", \"reading score\", \"reading score\", \"reading score\", \"reading score\", \"reading score\", \"reading score\", \"reading score\", \"reading score\", \"reading score\", \"reading score\", \"reading score\", \"reading score\", \"reading score\", \"reading score\", \"reading score\", \"reading score\", \"reading score\", \"reading score\", \"reading score\", \"reading score\", \"reading score\", \"reading score\"], \"yaxis\": \"y2\"}, {\"legendgroup\": \"writing score\", \"marker\": {\"color\": \"rgb(44, 160, 44)\", \"symbol\": \"line-ns-open\"}, \"mode\": \"markers\", \"name\": \"writing score\", \"showlegend\": false, \"type\": \"scatter\", \"x\": [3.76, 5.86, 4.78, 5.5600000000000005, 6.22, 5.14, 4.84, 3.46, 4.66, 5.26, 5.92, 5.2, 4.48, 5.32, 4.72, 5.08, 3.76, 5.44, 4.6, 5.08, 5.62, 7.0, 5.44, 4.3, 5.8, 5.2, 5.5, 5.02, 5.68, 6.28, 6.1, 5.44, 4.9, 4.24, 4.72, 4.72, 4.24, 4.78, 4.6, 2.62, 5.5600000000000005, 5.32, 4.42, 4.18, 5.68, 2.62, 5.2, 4.66, 5.02, 4.9, 5.74, 5.26, 4.66, 4.84, 6.1, 4.9, 6.7, 6.1, 4.6, 3.8200000000000003, 4.0, 4.36, 4.12, 6.28, 5.92, 4.66, 4.9, 6.52, 6.16, 5.38, 5.68, 6.46, 5.86, 6.58, 4.48, 5.2, 4.18, 5.68, 6.28, 3.52, 5.44, 5.02, 5.62, 5.68, 4.6, 5.98, 4.66, 5.44, 4.96, 4.84, 5.2, 4.06, 5.2, 4.54, 5.98, 4.24, 6.1, 7.0, 5.32, 3.58, 4.78, 5.92, 5.26, 4.9, 5.68, 3.58, 5.44, 4.6, 6.1, 4.66, 5.5600000000000005, 5.62, 3.7, 6.7, 5.26, 4.42, 5.68, 4.54, 5.44, 3.76, 4.72, 5.68, 5.44, 5.86, 5.32, 5.92, 5.38, 4.0, 4.54, 3.64, 4.42, 4.24, 2.92, 5.38, 5.44, 4.42, 4.12, 5.14, 4.18, 4.24, 3.88, 6.4, 5.5, 5.98, 6.64, 6.52, 6.46, 4.72, 3.7, 4.48, 4.12, 4.78, 4.6, 5.44, 4.54, 6.16, 4.3, 4.24, 4.78, 5.38, 3.76, 6.4, 5.74, 4.48, 4.96, 5.32, 3.46, 3.52, 5.2, 5.32, 5.62, 5.5600000000000005, 5.02, 6.1, 4.96, 4.24, 5.32, 5.08, 6.1, 5.5600000000000005, 4.72, 4.6, 4.48, 4.36, 4.84, 5.5, 5.32, 5.98, 7.0, 4.36, 4.96, 5.02, 5.5600000000000005, 6.76, 5.08, 5.8, 6.22, 4.12, 5.92, 3.8200000000000003, 4.9, 6.04, 5.74, 4.12, 3.46, 5.38, 5.98, 4.9, 5.92, 5.5600000000000005, 5.74, 3.16, 2.98, 3.7, 4.48, 5.74, 5.38, 5.38, 5.2, 4.66, 5.5, 5.08, 3.94, 4.84, 5.38, 5.08, 4.36, 6.16, 5.14, 4.96, 5.2, 5.44, 4.36, 3.7, 4.42, 3.7, 3.8200000000000003, 3.2800000000000002, 5.68, 5.14, 4.06, 6.4, 6.4, 4.06, 4.48, 4.96, 6.64, 2.14, 5.14, 4.36, 3.76, 5.92, 4.42, 7.0, 5.86, 4.24, 6.46, 5.8, 6.04, 5.2, 4.12, 5.08, 5.38, 5.74, 5.2, 6.04, 5.44, 5.14, 5.5, 5.2, 5.08, 3.64, 5.14, 5.08, 5.08, 6.34, 5.32, 4.9, 4.96, 5.14, 5.92, 5.14, 5.14, 5.38, 5.32, 5.62, 6.16, 5.5, 5.8, 4.24, 5.08, 6.58, 5.38, 6.52, 5.44, 6.88, 5.2, 5.38, 5.5, 5.62, 5.86, 4.12, 4.06, 4.06, 6.76, 4.72, 5.44, 5.5, 4.66, 5.02, 5.62, 3.64, 4.72, 7.0, 6.34, 5.8, 5.68, 5.62, 4.66, 5.32, 5.02, 6.16, 4.66, 5.8, 5.02, 4.18, 4.3, 6.22, 5.26, 4.0, 5.86, 5.44, 4.24, 4.3, 4.6, 6.76, 6.58, 6.46, 3.52, 5.98, 4.96, 5.86, 3.46, 4.36, 5.62, 4.48, 4.96, 4.12, 3.8200000000000003, 3.46, 5.08, 4.78, 4.72, 5.26, 3.34, 5.8, 4.66, 5.2, 5.32, 6.34, 5.86, 3.88, 4.3, 4.24, 6.16, 5.2, 5.38, 5.32, 3.8200000000000003, 6.28, 2.32, 5.8, 4.96, 5.8, 5.98, 4.0, 6.22, 6.1, 6.22, 6.1, 6.22, 5.2, 5.02, 5.2, 4.66, 4.06, 4.66, 3.88, 4.42, 6.22, 6.34, 4.9, 4.12, 5.8, 6.28, 4.12, 5.8, 5.08, 3.8200000000000003, 4.06, 5.8, 5.38, 6.34, 6.16, 5.2, 4.42, 5.62, 5.14, 5.8, 4.78, 5.68, 5.5600000000000005, 5.38, 4.12, 4.96, 5.44, 5.92, 4.9, 3.76, 5.14, 5.5600000000000005, 3.76, 5.32, 4.06, 6.1, 4.6, 5.8, 4.48, 4.84, 4.48, 5.98, 5.8, 4.96, 4.84, 4.96, 7.0, 2.38, 4.72, 4.84, 4.9, 5.92, 6.46, 5.5, 5.14, 4.84, 3.58, 5.14, 5.44, 4.42, 4.36, 6.64, 6.46, 4.42, 5.5600000000000005, 4.0, 4.78, 5.74, 3.64, 6.7, 5.26, 4.42, 3.46, 4.72, 5.08, 3.58, 4.24, 5.5600000000000005, 3.8200000000000003, 4.84, 5.5, 5.68, 5.38, 4.42, 6.7, 4.96, 3.2800000000000002, 5.5600000000000005, 5.74, 5.92, 4.9, 6.16, 5.38, 4.9, 5.5600000000000005, 5.2, 4.06, 3.88, 5.92, 4.54, 5.38, 6.04, 5.62, 5.5, 5.08, 6.28, 6.16, 4.72, 5.74, 4.24, 3.22, 4.72, 5.08, 6.52, 4.3, 5.08, 4.6, 5.26, 6.28, 5.5, 4.18, 5.38, 3.58, 5.86, 5.44, 3.16, 5.5, 6.58, 4.0, 4.12, 3.52, 4.84, 4.18, 4.18, 4.06, 4.18, 3.04, 6.52, 5.32, 5.5600000000000005, 4.96, 7.0, 3.2800000000000002, 4.66, 6.22, 6.1, 6.52, 4.36, 4.0, 3.88, 5.62, 4.78, 6.34, 4.24, 5.98, 4.24, 4.96, 4.36, 5.98, 7.0, 6.22, 5.74, 5.5, 5.92, 5.08, 5.68, 4.12, 4.72, 5.44, 5.68, 6.58, 3.64, 4.66, 4.3, 5.26, 5.32, 3.88, 6.88, 3.58, 4.96, 4.24, 4.54, 5.26, 6.04, 3.4, 4.48, 5.2, 6.64, 5.32, 5.44, 4.12, 7.0, 4.24, 5.08, 5.5, 5.86, 4.54, 4.18, 6.4, 5.38, 5.92, 7.0, 5.5600000000000005, 6.7, 6.58, 5.08, 5.74, 4.06, 3.94, 6.04, 4.78, 5.68, 5.44, 5.62, 4.36, 4.6, 6.4, 5.92, 6.1, 4.84, 5.2, 3.7, 5.14, 5.5600000000000005, 4.06, 4.6, 3.16, 3.7, 5.2, 3.58, 5.14, 6.82, 5.44, 3.58, 4.72, 4.84, 5.92, 3.58, 4.9, 5.2, 3.1, 5.62, 5.8, 3.94, 5.44, 4.18, 4.18, 5.62, 6.7, 3.94, 5.5, 6.7, 3.04, 5.68, 5.92, 4.12, 4.6, 4.48, 4.24, 4.42, 5.02, 5.44, 6.4, 5.02, 4.66, 5.8, 4.72, 3.46, 3.64, 4.42, 5.38, 6.04, 4.42, 5.26, 5.38, 5.86, 4.66, 5.74, 6.7, 4.72, 5.98, 4.78, 5.26, 5.74, 5.44, 5.5600000000000005, 4.24, 4.6, 4.48, 5.68, 3.04, 5.62, 2.62, 6.16, 5.14, 4.66, 6.94, 3.94, 5.5600000000000005, 4.9, 4.96, 5.5600000000000005, 6.16, 4.96, 4.3, 4.78, 5.8, 3.8200000000000003, 5.74, 5.8, 4.42, 4.84, 5.08, 4.54, 5.5, 3.2800000000000002, 4.12, 4.96, 5.44, 5.74, 4.3, 4.3, 4.84, 5.86, 4.3, 5.92, 5.08, 4.84, 6.28, 5.38, 5.98, 4.3, 5.62, 5.74, 1.9, 6.04, 4.78, 4.9, 4.36, 4.66, 5.68, 6.58, 6.04, 5.02, 6.76, 5.5, 5.02, 6.34, 5.68, 5.98, 6.16, 6.64, 4.12, 4.6, 4.72, 6.94, 5.5600000000000005, 4.3, 4.54, 4.42, 5.74, 6.28, 5.5600000000000005, 5.44, 3.58, 4.06, 4.6, 4.9, 5.86, 5.74, 5.2, 4.66, 5.2, 5.02, 4.84, 5.14, 5.5600000000000005, 7.0, 4.96, 5.92, 5.2, 4.24, 5.68, 3.4, 4.84, 5.14, 5.14, 5.38, 5.02, 5.32, 4.72, 6.28, 4.06, 4.18, 5.26, 6.46, 4.72, 2.68, 6.04, 5.02, 5.14, 4.42, 5.08, 5.92, 3.8200000000000003, 4.12, 6.94, 5.2, 5.02, 5.86, 5.08, 3.94, 5.8, 5.5600000000000005, 5.02, 4.78, 5.02, 6.04, 5.08, 6.52, 5.62, 4.0, 6.04, 5.62, 5.44, 5.2, 4.0, 5.92, 4.9, 4.18, 5.02, 6.46, 5.32, 5.62, 4.96, 3.88, 4.24, 4.72, 5.26, 4.84, 6.04, 5.8, 4.84, 4.54, 5.44, 1.6, 4.72, 5.86, 4.84, 7.0, 3.94, 3.64, 4.24, 5.08, 6.28, 4.72, 6.4, 4.54, 5.44, 4.36, 4.24, 6.4, 3.76, 3.94, 4.18, 2.92, 5.68, 5.68, 5.02, 5.92, 5.44, 5.5, 6.94, 5.2, 5.74, 5.02, 5.2, 5.5, 5.8, 3.58, 2.8, 5.26, 3.16, 5.86, 4.72, 5.5600000000000005], \"xaxis\": \"x\", \"y\": [\"writing score\", \"writing score\", \"writing score\", \"writing score\", \"writing score\", \"writing score\", \"writing score\", \"writing score\", \"writing score\", \"writing score\", \"writing score\", \"writing score\", \"writing score\", \"writing score\", \"writing score\", \"writing score\", \"writing score\", \"writing score\", \"writing score\", \"writing score\", \"writing score\", \"writing score\", \"writing score\", \"writing score\", \"writing score\", \"writing score\", \"writing score\", \"writing score\", \"writing score\", \"writing score\", \"writing score\", \"writing score\", \"writing score\", \"writing score\", \"writing score\", \"writing score\", \"writing score\", \"writing score\", \"writing score\", \"writing score\", \"writing score\", \"writing score\", \"writing score\", \"writing score\", \"writing score\", \"writing score\", \"writing score\", \"writing score\", \"writing score\", \"writing score\", \"writing score\", \"writing score\", \"writing score\", \"writing score\", \"writing score\", \"writing score\", \"writing score\", \"writing score\", \"writing score\", \"writing score\", \"writing score\", \"writing score\", \"writing score\", \"writing score\", \"writing score\", \"writing score\", \"writing score\", \"writing score\", \"writing score\", \"writing score\", \"writing score\", \"writing score\", \"writing score\", \"writing score\", \"writing score\", \"writing score\", \"writing score\", \"writing score\", \"writing score\", \"writing score\", \"writing score\", \"writing score\", \"writing score\", \"writing score\", \"writing score\", \"writing score\", \"writing score\", \"writing score\", \"writing score\", \"writing score\", \"writing score\", \"writing score\", \"writing score\", \"writing score\", \"writing score\", \"writing score\", \"writing score\", \"writing score\", \"writing score\", \"writing score\", \"writing score\", \"writing score\", \"writing score\", \"writing score\", \"writing score\", \"writing score\", \"writing score\", \"writing score\", \"writing score\", \"writing score\", \"writing score\", \"writing score\", \"writing score\", \"writing score\", \"writing score\", \"writing score\", \"writing score\", \"writing score\", \"writing score\", \"writing score\", \"writing score\", \"writing score\", \"writing score\", \"writing score\", \"writing score\", \"writing score\", \"writing score\", \"writing score\", \"writing score\", \"writing score\", \"writing score\", \"writing score\", \"writing score\", \"writing score\", \"writing score\", \"writing score\", \"writing score\", \"writing score\", \"writing score\", \"writing score\", \"writing score\", \"writing score\", \"writing score\", \"writing score\", \"writing score\", \"writing score\", \"writing score\", \"writing score\", \"writing score\", \"writing score\", \"writing score\", \"writing score\", \"writing score\", \"writing score\", \"writing score\", \"writing score\", \"writing score\", \"writing score\", \"writing score\", \"writing score\", \"writing score\", \"writing score\", \"writing score\", \"writing score\", \"writing score\", \"writing score\", \"writing score\", \"writing score\", \"writing score\", \"writing score\", \"writing score\", \"writing score\", \"writing score\", \"writing score\", \"writing score\", \"writing score\", \"writing score\", \"writing score\", \"writing score\", \"writing score\", \"writing score\", \"writing score\", \"writing score\", \"writing score\", \"writing score\", \"writing score\", \"writing score\", \"writing score\", \"writing score\", \"writing score\", \"writing score\", \"writing score\", \"writing score\", \"writing score\", \"writing score\", \"writing score\", \"writing score\", \"writing score\", \"writing score\", \"writing score\", \"writing score\", \"writing score\", \"writing score\", \"writing score\", \"writing score\", \"writing score\", \"writing score\", \"writing score\", \"writing score\", \"writing score\", \"writing score\", \"writing score\", \"writing score\", \"writing score\", \"writing score\", \"writing score\", \"writing score\", \"writing score\", \"writing score\", \"writing score\", \"writing score\", \"writing score\", \"writing score\", \"writing score\", \"writing score\", \"writing score\", \"writing score\", \"writing score\", \"writing score\", \"writing score\", \"writing score\", \"writing score\", \"writing score\", \"writing score\", \"writing score\", \"writing score\", \"writing score\", \"writing score\", \"writing score\", \"writing score\", \"writing score\", \"writing score\", \"writing score\", \"writing score\", \"writing score\", \"writing score\", \"writing score\", \"writing score\", \"writing score\", \"writing score\", \"writing score\", \"writing score\", \"writing score\", \"writing score\", \"writing score\", \"writing score\", \"writing score\", \"writing score\", \"writing score\", \"writing score\", \"writing score\", \"writing score\", \"writing score\", \"writing score\", \"writing score\", \"writing score\", \"writing score\", \"writing score\", \"writing score\", \"writing score\", \"writing score\", \"writing score\", \"writing score\", \"writing score\", \"writing score\", \"writing score\", \"writing score\", \"writing score\", \"writing score\", \"writing score\", \"writing score\", \"writing score\", \"writing score\", \"writing score\", \"writing score\", \"writing score\", \"writing score\", \"writing score\", \"writing score\", \"writing score\", \"writing score\", \"writing score\", \"writing score\", \"writing score\", \"writing score\", \"writing score\", \"writing score\", \"writing score\", \"writing score\", \"writing score\", \"writing score\", \"writing score\", \"writing score\", \"writing score\", \"writing score\", \"writing score\", \"writing score\", \"writing score\", \"writing score\", \"writing score\", \"writing score\", \"writing score\", \"writing score\", \"writing score\", \"writing score\", \"writing score\", \"writing score\", \"writing score\", \"writing score\", \"writing score\", \"writing score\", \"writing score\", \"writing score\", \"writing score\", \"writing score\", \"writing score\", \"writing score\", \"writing score\", \"writing score\", \"writing score\", \"writing score\", \"writing score\", \"writing score\", \"writing score\", \"writing score\", \"writing score\", \"writing score\", \"writing score\", \"writing score\", \"writing score\", \"writing score\", \"writing score\", \"writing score\", \"writing score\", \"writing score\", \"writing score\", \"writing score\", \"writing score\", \"writing score\", \"writing score\", \"writing score\", \"writing score\", \"writing score\", \"writing score\", \"writing score\", \"writing score\", \"writing score\", \"writing score\", \"writing score\", \"writing score\", \"writing score\", \"writing score\", \"writing score\", \"writing score\", \"writing score\", \"writing score\", \"writing score\", \"writing score\", \"writing score\", \"writing score\", \"writing score\", \"writing score\", \"writing score\", \"writing score\", \"writing score\", \"writing score\", \"writing score\", \"writing score\", \"writing score\", \"writing score\", \"writing score\", \"writing score\", \"writing score\", \"writing score\", \"writing score\", \"writing score\", \"writing score\", \"writing score\", \"writing score\", \"writing score\", \"writing score\", \"writing score\", \"writing score\", \"writing score\", \"writing score\", \"writing score\", \"writing score\", \"writing score\", \"writing score\", \"writing score\", \"writing score\", \"writing score\", \"writing score\", \"writing score\", \"writing score\", \"writing score\", \"writing score\", \"writing score\", \"writing score\", \"writing score\", \"writing score\", \"writing score\", \"writing score\", \"writing score\", \"writing score\", \"writing score\", \"writing score\", \"writing score\", \"writing score\", \"writing score\", \"writing score\", \"writing score\", \"writing score\", \"writing score\", \"writing score\", \"writing score\", \"writing score\", \"writing score\", \"writing score\", \"writing score\", \"writing score\", \"writing score\", \"writing score\", \"writing score\", \"writing score\", \"writing score\", \"writing score\", \"writing score\", \"writing score\", \"writing score\", \"writing score\", \"writing score\", \"writing score\", \"writing score\", \"writing score\", \"writing score\", \"writing score\", \"writing score\", \"writing score\", \"writing score\", \"writing score\", \"writing score\", \"writing score\", \"writing score\", \"writing score\", \"writing score\", \"writing score\", \"writing score\", \"writing score\", \"writing score\", \"writing score\", \"writing score\", \"writing score\", \"writing score\", \"writing score\", \"writing score\", \"writing score\", \"writing score\", \"writing score\", \"writing score\", \"writing score\", \"writing score\", \"writing score\", \"writing score\", \"writing score\", \"writing score\", \"writing score\", \"writing score\", \"writing score\", \"writing score\", \"writing score\", \"writing score\", \"writing score\", \"writing score\", \"writing score\", \"writing score\", \"writing score\", \"writing score\", \"writing score\", \"writing score\", \"writing score\", \"writing score\", \"writing score\", \"writing score\", \"writing score\", \"writing score\", \"writing score\", \"writing score\", \"writing score\", \"writing score\", \"writing score\", \"writing score\", \"writing score\", \"writing score\", \"writing score\", \"writing score\", \"writing score\", \"writing score\", \"writing score\", \"writing score\", \"writing score\", \"writing score\", \"writing score\", \"writing score\", \"writing score\", \"writing score\", \"writing score\", \"writing score\", \"writing score\", \"writing score\", \"writing score\", \"writing score\", \"writing score\", \"writing score\", \"writing score\", \"writing score\", \"writing score\", \"writing score\", \"writing score\", \"writing score\", \"writing score\", \"writing score\", \"writing score\", \"writing score\", \"writing score\", \"writing score\", \"writing score\", \"writing score\", \"writing score\", \"writing score\", \"writing score\", \"writing score\", \"writing score\", \"writing score\", \"writing score\", \"writing score\", \"writing score\", \"writing score\", \"writing score\", \"writing score\", \"writing score\", \"writing score\", \"writing score\", \"writing score\", \"writing score\", \"writing score\", \"writing score\", \"writing score\", \"writing score\", \"writing score\", \"writing score\", \"writing score\", \"writing score\", \"writing score\", \"writing score\", \"writing score\", \"writing score\", \"writing score\", \"writing score\", \"writing score\", \"writing score\", \"writing score\", \"writing score\", \"writing score\", \"writing score\", \"writing score\", \"writing score\", \"writing score\", \"writing score\", \"writing score\", \"writing score\", \"writing score\", \"writing score\", \"writing score\", \"writing score\", \"writing score\", \"writing score\", \"writing score\", \"writing score\", \"writing score\", \"writing score\", \"writing score\", \"writing score\", \"writing score\", \"writing score\", \"writing score\", \"writing score\", \"writing score\", \"writing score\", \"writing score\", \"writing score\", \"writing score\", \"writing score\", \"writing score\", \"writing score\", \"writing score\", \"writing score\", \"writing score\", \"writing score\", \"writing score\", \"writing score\", \"writing score\", \"writing score\", \"writing score\", \"writing score\", \"writing score\", \"writing score\", \"writing score\", \"writing score\", \"writing score\", \"writing score\", \"writing score\", \"writing score\", \"writing score\", \"writing score\", \"writing score\", \"writing score\", \"writing score\", \"writing score\", \"writing score\", \"writing score\", \"writing score\", \"writing score\", \"writing score\", \"writing score\", \"writing score\", \"writing score\", \"writing score\", \"writing score\", \"writing score\", \"writing score\", \"writing score\", \"writing score\", \"writing score\", \"writing score\", \"writing score\", \"writing score\", \"writing score\", \"writing score\", \"writing score\", \"writing score\", \"writing score\", \"writing score\", \"writing score\", \"writing score\", \"writing score\", \"writing score\", \"writing score\", \"writing score\", \"writing score\", \"writing score\", \"writing score\", \"writing score\", \"writing score\", \"writing score\", \"writing score\", \"writing score\", \"writing score\", \"writing score\", \"writing score\", \"writing score\", \"writing score\", \"writing score\", \"writing score\", \"writing score\", \"writing score\", \"writing score\", \"writing score\", \"writing score\", \"writing score\", \"writing score\", \"writing score\", \"writing score\", \"writing score\", \"writing score\", \"writing score\", \"writing score\", \"writing score\", \"writing score\", \"writing score\", \"writing score\", \"writing score\", \"writing score\", \"writing score\", \"writing score\", \"writing score\", \"writing score\", \"writing score\", \"writing score\", \"writing score\", \"writing score\", \"writing score\", \"writing score\", \"writing score\", \"writing score\", \"writing score\", \"writing score\", \"writing score\", \"writing score\", \"writing score\", \"writing score\", \"writing score\", \"writing score\", \"writing score\", \"writing score\", \"writing score\", \"writing score\", \"writing score\", \"writing score\", \"writing score\", \"writing score\", \"writing score\", \"writing score\", \"writing score\", \"writing score\", \"writing score\", \"writing score\", \"writing score\", \"writing score\", \"writing score\", \"writing score\", \"writing score\", \"writing score\", \"writing score\", \"writing score\", \"writing score\", \"writing score\", \"writing score\", \"writing score\", \"writing score\", \"writing score\", \"writing score\", \"writing score\", \"writing score\", \"writing score\", \"writing score\", \"writing score\", \"writing score\", \"writing score\", \"writing score\", \"writing score\", \"writing score\", \"writing score\", \"writing score\", \"writing score\", \"writing score\", \"writing score\", \"writing score\", \"writing score\", \"writing score\", \"writing score\", \"writing score\", \"writing score\", \"writing score\", \"writing score\", \"writing score\", \"writing score\", \"writing score\", \"writing score\", \"writing score\", \"writing score\", \"writing score\", \"writing score\", \"writing score\", \"writing score\", \"writing score\", \"writing score\", \"writing score\", \"writing score\", \"writing score\", \"writing score\", \"writing score\", \"writing score\", \"writing score\", \"writing score\", \"writing score\", \"writing score\", \"writing score\", \"writing score\", \"writing score\", \"writing score\", \"writing score\", \"writing score\", \"writing score\", \"writing score\", \"writing score\", \"writing score\", \"writing score\", \"writing score\", \"writing score\", \"writing score\", \"writing score\", \"writing score\", \"writing score\", \"writing score\", \"writing score\", \"writing score\", \"writing score\", \"writing score\", \"writing score\", \"writing score\", \"writing score\", \"writing score\", \"writing score\", \"writing score\", \"writing score\", \"writing score\", \"writing score\", \"writing score\", \"writing score\", \"writing score\", \"writing score\", \"writing score\", \"writing score\", \"writing score\", \"writing score\", \"writing score\", \"writing score\", \"writing score\", \"writing score\", \"writing score\", \"writing score\", \"writing score\", \"writing score\", \"writing score\", \"writing score\", \"writing score\", \"writing score\", \"writing score\", \"writing score\", \"writing score\", \"writing score\", \"writing score\", \"writing score\", \"writing score\", \"writing score\", \"writing score\", \"writing score\", \"writing score\", \"writing score\", \"writing score\", \"writing score\", \"writing score\", \"writing score\", \"writing score\", \"writing score\", \"writing score\", \"writing score\", \"writing score\", \"writing score\", \"writing score\", \"writing score\", \"writing score\", \"writing score\", \"writing score\", \"writing score\", \"writing score\", \"writing score\", \"writing score\", \"writing score\", \"writing score\", \"writing score\", \"writing score\", \"writing score\", \"writing score\"], \"yaxis\": \"y2\"}],\n",
              "                        {\"barmode\": \"overlay\", \"hovermode\": \"closest\", \"legend\": {\"traceorder\": \"reversed\"}, \"template\": {\"data\": {\"bar\": [{\"error_x\": {\"color\": \"#2a3f5f\"}, \"error_y\": {\"color\": \"#2a3f5f\"}, \"marker\": {\"line\": {\"color\": \"#E5ECF6\", \"width\": 0.5}}, \"type\": \"bar\"}], \"barpolar\": [{\"marker\": {\"line\": {\"color\": \"#E5ECF6\", \"width\": 0.5}}, \"type\": \"barpolar\"}], \"carpet\": [{\"aaxis\": {\"endlinecolor\": \"#2a3f5f\", \"gridcolor\": \"white\", \"linecolor\": \"white\", \"minorgridcolor\": \"white\", \"startlinecolor\": \"#2a3f5f\"}, \"baxis\": {\"endlinecolor\": \"#2a3f5f\", \"gridcolor\": \"white\", \"linecolor\": \"white\", \"minorgridcolor\": \"white\", \"startlinecolor\": \"#2a3f5f\"}, \"type\": \"carpet\"}], \"choropleth\": [{\"colorbar\": {\"outlinewidth\": 0, \"ticks\": \"\"}, \"type\": \"choropleth\"}], \"contour\": [{\"colorbar\": {\"outlinewidth\": 0, \"ticks\": \"\"}, \"colorscale\": [[0.0, \"#0d0887\"], [0.1111111111111111, \"#46039f\"], [0.2222222222222222, \"#7201a8\"], [0.3333333333333333, \"#9c179e\"], [0.4444444444444444, \"#bd3786\"], [0.5555555555555556, \"#d8576b\"], [0.6666666666666666, \"#ed7953\"], [0.7777777777777778, \"#fb9f3a\"], [0.8888888888888888, \"#fdca26\"], [1.0, \"#f0f921\"]], \"type\": \"contour\"}], \"contourcarpet\": [{\"colorbar\": {\"outlinewidth\": 0, \"ticks\": \"\"}, \"type\": \"contourcarpet\"}], \"heatmap\": [{\"colorbar\": {\"outlinewidth\": 0, \"ticks\": \"\"}, \"colorscale\": [[0.0, \"#0d0887\"], [0.1111111111111111, \"#46039f\"], [0.2222222222222222, \"#7201a8\"], [0.3333333333333333, \"#9c179e\"], [0.4444444444444444, \"#bd3786\"], [0.5555555555555556, \"#d8576b\"], [0.6666666666666666, \"#ed7953\"], [0.7777777777777778, \"#fb9f3a\"], [0.8888888888888888, \"#fdca26\"], [1.0, \"#f0f921\"]], \"type\": \"heatmap\"}], \"heatmapgl\": [{\"colorbar\": {\"outlinewidth\": 0, \"ticks\": \"\"}, \"colorscale\": [[0.0, \"#0d0887\"], [0.1111111111111111, \"#46039f\"], [0.2222222222222222, \"#7201a8\"], [0.3333333333333333, \"#9c179e\"], [0.4444444444444444, \"#bd3786\"], [0.5555555555555556, \"#d8576b\"], [0.6666666666666666, \"#ed7953\"], [0.7777777777777778, \"#fb9f3a\"], [0.8888888888888888, \"#fdca26\"], [1.0, \"#f0f921\"]], \"type\": \"heatmapgl\"}], \"histogram\": [{\"marker\": {\"colorbar\": {\"outlinewidth\": 0, \"ticks\": \"\"}}, \"type\": \"histogram\"}], \"histogram2d\": [{\"colorbar\": {\"outlinewidth\": 0, \"ticks\": \"\"}, \"colorscale\": [[0.0, \"#0d0887\"], [0.1111111111111111, \"#46039f\"], [0.2222222222222222, \"#7201a8\"], [0.3333333333333333, \"#9c179e\"], [0.4444444444444444, \"#bd3786\"], [0.5555555555555556, \"#d8576b\"], [0.6666666666666666, \"#ed7953\"], [0.7777777777777778, \"#fb9f3a\"], [0.8888888888888888, \"#fdca26\"], [1.0, \"#f0f921\"]], \"type\": \"histogram2d\"}], \"histogram2dcontour\": [{\"colorbar\": {\"outlinewidth\": 0, \"ticks\": \"\"}, \"colorscale\": [[0.0, \"#0d0887\"], [0.1111111111111111, \"#46039f\"], [0.2222222222222222, \"#7201a8\"], [0.3333333333333333, \"#9c179e\"], [0.4444444444444444, \"#bd3786\"], [0.5555555555555556, \"#d8576b\"], [0.6666666666666666, \"#ed7953\"], [0.7777777777777778, \"#fb9f3a\"], [0.8888888888888888, \"#fdca26\"], [1.0, \"#f0f921\"]], \"type\": \"histogram2dcontour\"}], \"mesh3d\": [{\"colorbar\": {\"outlinewidth\": 0, \"ticks\": \"\"}, \"type\": \"mesh3d\"}], \"parcoords\": [{\"line\": {\"colorbar\": {\"outlinewidth\": 0, \"ticks\": \"\"}}, \"type\": \"parcoords\"}], \"pie\": [{\"automargin\": true, \"type\": \"pie\"}], \"scatter\": [{\"marker\": {\"colorbar\": {\"outlinewidth\": 0, \"ticks\": \"\"}}, \"type\": \"scatter\"}], \"scatter3d\": [{\"line\": {\"colorbar\": {\"outlinewidth\": 0, \"ticks\": \"\"}}, \"marker\": {\"colorbar\": {\"outlinewidth\": 0, \"ticks\": \"\"}}, \"type\": \"scatter3d\"}], \"scattercarpet\": [{\"marker\": {\"colorbar\": {\"outlinewidth\": 0, \"ticks\": \"\"}}, \"type\": \"scattercarpet\"}], \"scattergeo\": [{\"marker\": {\"colorbar\": {\"outlinewidth\": 0, \"ticks\": \"\"}}, \"type\": \"scattergeo\"}], \"scattergl\": [{\"marker\": {\"colorbar\": {\"outlinewidth\": 0, \"ticks\": \"\"}}, \"type\": \"scattergl\"}], \"scattermapbox\": [{\"marker\": {\"colorbar\": {\"outlinewidth\": 0, \"ticks\": \"\"}}, \"type\": \"scattermapbox\"}], \"scatterpolar\": [{\"marker\": {\"colorbar\": {\"outlinewidth\": 0, \"ticks\": \"\"}}, \"type\": \"scatterpolar\"}], \"scatterpolargl\": [{\"marker\": {\"colorbar\": {\"outlinewidth\": 0, \"ticks\": \"\"}}, \"type\": \"scatterpolargl\"}], \"scatterternary\": [{\"marker\": {\"colorbar\": {\"outlinewidth\": 0, \"ticks\": \"\"}}, \"type\": \"scatterternary\"}], \"surface\": [{\"colorbar\": {\"outlinewidth\": 0, \"ticks\": \"\"}, \"colorscale\": [[0.0, \"#0d0887\"], [0.1111111111111111, \"#46039f\"], [0.2222222222222222, \"#7201a8\"], [0.3333333333333333, \"#9c179e\"], [0.4444444444444444, \"#bd3786\"], [0.5555555555555556, \"#d8576b\"], [0.6666666666666666, \"#ed7953\"], [0.7777777777777778, \"#fb9f3a\"], [0.8888888888888888, \"#fdca26\"], [1.0, \"#f0f921\"]], \"type\": \"surface\"}], \"table\": [{\"cells\": {\"fill\": {\"color\": \"#EBF0F8\"}, \"line\": {\"color\": \"white\"}}, \"header\": {\"fill\": {\"color\": \"#C8D4E3\"}, \"line\": {\"color\": \"white\"}}, \"type\": \"table\"}]}, \"layout\": {\"annotationdefaults\": {\"arrowcolor\": \"#2a3f5f\", \"arrowhead\": 0, \"arrowwidth\": 1}, \"coloraxis\": {\"colorbar\": {\"outlinewidth\": 0, \"ticks\": \"\"}}, \"colorscale\": {\"diverging\": [[0, \"#8e0152\"], [0.1, \"#c51b7d\"], [0.2, \"#de77ae\"], [0.3, \"#f1b6da\"], [0.4, \"#fde0ef\"], [0.5, \"#f7f7f7\"], [0.6, \"#e6f5d0\"], [0.7, \"#b8e186\"], [0.8, \"#7fbc41\"], [0.9, \"#4d9221\"], [1, \"#276419\"]], \"sequential\": [[0.0, \"#0d0887\"], [0.1111111111111111, \"#46039f\"], [0.2222222222222222, \"#7201a8\"], [0.3333333333333333, \"#9c179e\"], [0.4444444444444444, \"#bd3786\"], [0.5555555555555556, \"#d8576b\"], [0.6666666666666666, \"#ed7953\"], [0.7777777777777778, \"#fb9f3a\"], [0.8888888888888888, \"#fdca26\"], [1.0, \"#f0f921\"]], \"sequentialminus\": [[0.0, \"#0d0887\"], [0.1111111111111111, \"#46039f\"], [0.2222222222222222, \"#7201a8\"], [0.3333333333333333, \"#9c179e\"], [0.4444444444444444, \"#bd3786\"], [0.5555555555555556, \"#d8576b\"], [0.6666666666666666, \"#ed7953\"], [0.7777777777777778, \"#fb9f3a\"], [0.8888888888888888, \"#fdca26\"], [1.0, \"#f0f921\"]]}, \"colorway\": [\"#636efa\", \"#EF553B\", \"#00cc96\", \"#ab63fa\", \"#FFA15A\", \"#19d3f3\", \"#FF6692\", \"#B6E880\", \"#FF97FF\", \"#FECB52\"], \"font\": {\"color\": \"#2a3f5f\"}, \"geo\": {\"bgcolor\": \"white\", \"lakecolor\": \"white\", \"landcolor\": \"#E5ECF6\", \"showlakes\": true, \"showland\": true, \"subunitcolor\": \"white\"}, \"hoverlabel\": {\"align\": \"left\"}, \"hovermode\": \"closest\", \"mapbox\": {\"style\": \"light\"}, \"paper_bgcolor\": \"white\", \"plot_bgcolor\": \"#E5ECF6\", \"polar\": {\"angularaxis\": {\"gridcolor\": \"white\", \"linecolor\": \"white\", \"ticks\": \"\"}, \"bgcolor\": \"#E5ECF6\", \"radialaxis\": {\"gridcolor\": \"white\", \"linecolor\": \"white\", \"ticks\": \"\"}}, \"scene\": {\"xaxis\": {\"backgroundcolor\": \"#E5ECF6\", \"gridcolor\": \"white\", \"gridwidth\": 2, \"linecolor\": \"white\", \"showbackground\": true, \"ticks\": \"\", \"zerolinecolor\": \"white\"}, \"yaxis\": {\"backgroundcolor\": \"#E5ECF6\", \"gridcolor\": \"white\", \"gridwidth\": 2, \"linecolor\": \"white\", \"showbackground\": true, \"ticks\": \"\", \"zerolinecolor\": \"white\"}, \"zaxis\": {\"backgroundcolor\": \"#E5ECF6\", \"gridcolor\": \"white\", \"gridwidth\": 2, \"linecolor\": \"white\", \"showbackground\": true, \"ticks\": \"\", \"zerolinecolor\": \"white\"}}, \"shapedefaults\": {\"line\": {\"color\": \"#2a3f5f\"}}, \"ternary\": {\"aaxis\": {\"gridcolor\": \"white\", \"linecolor\": \"white\", \"ticks\": \"\"}, \"baxis\": {\"gridcolor\": \"white\", \"linecolor\": \"white\", \"ticks\": \"\"}, \"bgcolor\": \"#E5ECF6\", \"caxis\": {\"gridcolor\": \"white\", \"linecolor\": \"white\", \"ticks\": \"\"}}, \"title\": {\"x\": 0.05}, \"xaxis\": {\"automargin\": true, \"gridcolor\": \"white\", \"linecolor\": \"white\", \"ticks\": \"\", \"title\": {\"standoff\": 15}, \"zerolinecolor\": \"white\", \"zerolinewidth\": 2}, \"yaxis\": {\"automargin\": true, \"gridcolor\": \"white\", \"linecolor\": \"white\", \"ticks\": \"\", \"title\": {\"standoff\": 15}, \"zerolinecolor\": \"white\", \"zerolinewidth\": 2}}}, \"xaxis\": {\"anchor\": \"y2\", \"domain\": [0.0, 1.0], \"zeroline\": false}, \"yaxis\": {\"anchor\": \"free\", \"domain\": [0.35, 1], \"position\": 0.0}, \"yaxis2\": {\"anchor\": \"x\", \"domain\": [0, 0.25], \"dtick\": 1, \"showticklabels\": false}},\n",
              "                        {\"responsive\": true}\n",
              "                    ).then(function(){\n",
              "                            \n",
              "var gd = document.getElementById('a419c256-406f-4516-9452-845bc9ffb173');\n",
              "var x = new MutationObserver(function (mutations, observer) {{\n",
              "        var display = window.getComputedStyle(gd).display;\n",
              "        if (!display || display === 'none') {{\n",
              "            console.log([gd, 'removed!']);\n",
              "            Plotly.purge(gd);\n",
              "            observer.disconnect();\n",
              "        }}\n",
              "}});\n",
              "\n",
              "// Listen for the removal of the full notebook cells\n",
              "var notebookContainer = gd.closest('#notebook-container');\n",
              "if (notebookContainer) {{\n",
              "    x.observe(notebookContainer, {childList: true});\n",
              "}}\n",
              "\n",
              "// Listen for the clearing of the current output cell\n",
              "var outputEl = gd.closest('.output');\n",
              "if (outputEl) {{\n",
              "    x.observe(outputEl, {childList: true});\n",
              "}}\n",
              "\n",
              "                        })\n",
              "                };\n",
              "                \n",
              "            </script>\n",
              "        </div>\n",
              "</body>\n",
              "</html>"
            ]
          },
          "metadata": {}
        }
      ]
    },
    {
      "cell_type": "markdown",
      "metadata": {
        "id": "uys0GluoCS95"
      },
      "source": [
        "**Histograma con Boxplots:**"
      ]
    },
    {
      "cell_type": "code",
      "metadata": {
        "colab": {
          "base_uri": "https://localhost:8080/",
          "height": 542
        },
        "id": "t1Pf1IZdySjf",
        "outputId": "eca99005-1554-4405-e2bf-f6205ddc8c1c"
      },
      "source": [
        "df = df_grades.loc[:,['math score','reading score','writing score']]\n",
        "df_m = pd.melt(df)\n",
        "fig = px.histogram(df_m , x = 'value', y = 'variable', color = 'variable',  marginal=\"box\", barmode = 'group', nbins = 15)  \n",
        "fig.show()"
      ],
      "execution_count": 11,
      "outputs": [
        {
          "output_type": "display_data",
          "data": {
            "text/html": [
              "<html>\n",
              "<head><meta charset=\"utf-8\" /></head>\n",
              "<body>\n",
              "    <div>\n",
              "            <script src=\"https://cdnjs.cloudflare.com/ajax/libs/mathjax/2.7.5/MathJax.js?config=TeX-AMS-MML_SVG\"></script><script type=\"text/javascript\">if (window.MathJax) {MathJax.Hub.Config({SVG: {font: \"STIX-Web\"}});}</script>\n",
              "                <script type=\"text/javascript\">window.PlotlyConfig = {MathJaxConfig: 'local'};</script>\n",
              "        <script src=\"https://cdn.plot.ly/plotly-latest.min.js\"></script>    \n",
              "            <div id=\"57e8d217-b623-4fad-92e3-6e5cde53e1ad\" class=\"plotly-graph-div\" style=\"height:525px; width:100%;\"></div>\n",
              "            <script type=\"text/javascript\">\n",
              "                \n",
              "                    window.PLOTLYENV=window.PLOTLYENV || {};\n",
              "                    \n",
              "                if (document.getElementById(\"57e8d217-b623-4fad-92e3-6e5cde53e1ad\")) {\n",
              "                    Plotly.newPlot(\n",
              "                        '57e8d217-b623-4fad-92e3-6e5cde53e1ad',\n",
              "                        [{\"alignmentgroup\": \"True\", \"bingroup\": \"x\", \"hoverlabel\": {\"namelength\": 0}, \"hovertemplate\": \"variable=math score<br>value=%{x}<br>count of variable=%{y}\", \"legendgroup\": \"variable=math score\", \"marker\": {\"color\": \"#636efa\"}, \"name\": \"variable=math score\", \"nbinsx\": 15, \"offsetgroup\": \"variable=math score\", \"orientation\": \"v\", \"showlegend\": true, \"type\": \"histogram\", \"x\": [3.22, 5.8, 5.38, 5.86, 6.64, 5.26, 5.5, 3.04, 4.78, 6.64, 4.9, 4.12, 4.72, 5.44, 4.72, 5.38, 3.76, 5.92, 4.78, 4.84, 5.8, 6.58, 5.14, 3.76, 6.16, 4.54, 6.04, 4.84, 5.38, 5.98, 5.5, 5.14, 5.08, 4.42, 4.96, 4.66, 3.4, 4.0, 3.88, 3.16, 5.68, 4.42, 5.14, 3.4, 6.52, 3.1, 4.78, 5.38, 4.78, 4.12, 5.38, 4.78, 5.26, 3.7, 6.1, 5.8, 5.62, 6.46, 4.6, 4.78, 3.4, 4.42, 4.48, 6.82, 5.86, 5.08, 4.54, 6.76, 6.22, 4.42, 6.64, 6.82, 4.9, 5.92, 5.32, 4.72, 3.64, 5.92, 5.5, 4.54, 5.5, 5.32, 5.08, 4.96, 5.02, 6.58, 5.14, 4.78, 3.76, 4.96, 4.72, 3.88, 5.26, 4.24, 5.8, 4.3, 6.4, 6.64, 5.86, 4.18, 4.66, 5.5, 5.44, 4.72, 5.2, 4.54, 4.72, 4.18, 5.8, 5.14, 5.14, 5.14, 3.94, 5.98, 4.9, 5.38, 5.08, 4.84, 4.9, 3.94, 4.48, 4.96, 4.9, 4.9, 5.2, 5.74, 4.0, 4.84, 5.08, 2.92, 5.08, 4.48, 2.14, 5.14, 5.32, 4.18, 4.66, 5.68, 4.18, 3.7, 3.64, 5.98, 4.9, 6.28, 6.28, 6.46, 6.04, 4.06, 3.2800000000000002, 3.8200000000000003, 4.96, 4.66, 4.6, 5.26, 3.7, 5.62, 4.18, 4.42, 5.32, 5.5600000000000005, 3.7, 6.94, 4.06, 4.84, 4.12, 5.8, 4.06, 4.0, 4.84, 5.44, 5.26, 4.42, 5.14, 5.62, 5.5, 3.58, 5.8, 4.54, 6.1, 4.3, 3.64, 3.52, 4.48, 4.66, 4.0, 6.28, 5.38, 5.02, 6.82, 4.66, 4.72, 4.24, 4.96, 5.68, 6.1, 6.04, 5.5600000000000005, 3.64, 5.86, 4.24, 4.48, 5.86, 5.32, 5.26, 4.66, 4.96, 5.26, 5.26, 6.34, 5.38, 5.86, 3.76, 2.32, 3.88, 3.64, 6.46, 5.5600000000000005, 5.62, 4.72, 5.02, 6.16, 4.48, 4.18, 4.42, 5.14, 4.72, 3.22, 6.28, 6.4, 5.08, 4.9, 4.78, 4.12, 3.88, 4.9, 4.24, 2.74, 2.56, 5.2, 5.5, 4.6, 6.88, 6.58, 4.54, 3.76, 5.5600000000000005, 5.74, 2.68, 4.3, 4.66, 3.1, 6.64, 3.76, 7.0, 5.02, 4.0, 5.74, 5.26, 5.98, 4.3, 3.88, 5.5600000000000005, 5.62, 4.72, 4.36, 5.08, 6.04, 5.8, 4.72, 4.6, 4.84, 2.74, 4.12, 4.18, 5.02, 5.92, 4.36, 5.74, 5.38, 4.96, 5.38, 4.96, 6.04, 5.44, 5.5600000000000005, 5.86, 5.74, 5.08, 4.78, 4.0, 5.32, 6.1, 5.98, 6.04, 4.9, 6.1, 5.2, 4.48, 6.16, 4.84, 4.9, 4.66, 3.94, 4.18, 6.82, 5.5, 5.32, 5.44, 4.54, 5.08, 5.68, 4.18, 5.32, 6.94, 5.74, 6.46, 5.98, 5.32, 4.66, 5.38, 4.54, 7.0, 4.66, 5.62, 5.26, 3.94, 4.72, 6.16, 5.5, 3.8200000000000003, 4.78, 5.2, 5.08, 4.66, 5.26, 5.86, 7.0, 5.62, 4.18, 5.26, 5.38, 4.9, 3.94, 4.12, 4.9, 4.54, 5.8, 4.72, 4.42, 3.76, 4.48, 5.02, 5.38, 5.32, 3.4, 5.68, 4.78, 4.66, 5.74, 5.62, 5.2, 4.18, 3.7, 3.4, 5.92, 5.68, 5.5, 5.2, 4.3, 5.2, 2.8, 5.5, 4.78, 5.92, 5.44, 4.24, 5.26, 5.38, 5.62, 5.62, 6.22, 6.22, 5.44, 5.02, 3.58, 3.94, 3.94, 4.18, 4.84, 4.66, 5.74, 5.14, 4.24, 4.9, 5.62, 4.48, 5.38, 4.24, 4.24, 4.84, 4.54, 5.5600000000000005, 6.1, 6.82, 4.18, 4.12, 5.62, 5.74, 4.42, 4.96, 4.78, 4.9, 5.08, 4.3, 5.32, 6.16, 6.82, 5.5, 4.12, 5.44, 5.2, 3.34, 4.66, 3.64, 6.22, 4.96, 5.08, 4.72, 5.86, 5.2, 5.44, 5.5600000000000005, 4.54, 5.08, 5.38, 7.0, 1.48, 4.9, 3.4, 3.88, 6.34, 5.62, 4.9, 5.14, 5.08, 3.94, 4.72, 4.36, 3.76, 4.6, 6.46, 6.4, 5.38, 5.2, 3.8200000000000003, 4.9, 5.86, 4.3, 6.58, 4.9, 4.72, 3.88, 5.08, 4.96, 4.3, 3.52, 5.44, 3.22, 4.96, 6.28, 5.14, 4.66, 3.34, 6.22, 4.84, 3.64, 4.54, 5.8, 5.26, 4.18, 5.68, 4.3, 5.2, 4.9, 6.16, 4.24, 3.46, 6.4, 4.54, 4.9, 5.02, 6.34, 4.54, 5.38, 5.44, 6.16, 4.66, 4.42, 4.48, 3.7, 4.78, 5.02, 6.64, 4.36, 4.72, 5.2, 5.2, 5.5600000000000005, 4.84, 3.8200000000000003, 4.96, 3.4, 4.96, 5.08, 4.06, 6.28, 6.4, 4.12, 3.94, 4.18, 5.26, 4.0, 4.48, 3.52, 5.02, 3.34, 6.1, 5.68, 5.38, 5.08, 6.34, 3.4, 5.92, 5.62, 5.14, 5.74, 4.18, 3.58, 4.48, 6.28, 5.14, 6.1, 5.14, 5.32, 4.42, 4.48, 4.72, 5.5, 6.28, 5.86, 5.02, 5.02, 5.44, 5.26, 6.1, 4.36, 5.92, 4.6, 5.86, 6.22, 3.76, 4.48, 4.72, 5.5600000000000005, 4.6, 4.0, 5.62, 4.84, 4.66, 4.6, 5.02, 4.84, 6.4, 4.18, 3.88, 4.6, 5.92, 4.48, 4.6, 4.96, 6.1, 3.94, 5.62, 5.02, 5.14, 4.0, 4.72, 5.98, 5.86, 5.32, 6.52, 5.26, 6.28, 5.92, 5.26, 5.5, 4.06, 4.72, 5.5, 4.78, 5.26, 5.02, 5.26, 4.66, 4.36, 6.88, 5.92, 5.5, 4.54, 5.26, 3.64, 5.62, 4.9, 4.42, 4.6, 2.62, 4.48, 5.2, 3.2800000000000002, 3.52, 7.0, 6.34, 3.1, 5.62, 4.72, 5.74, 3.76, 4.54, 4.96, 3.8200000000000003, 5.62, 5.68, 4.12, 5.2, 4.48, 5.08, 5.14, 6.22, 4.12, 5.32, 6.1, 3.46, 4.66, 5.02, 4.24, 4.78, 4.12, 4.72, 4.48, 4.72, 4.9, 5.44, 5.74, 5.08, 4.78, 4.12, 4.54, 4.3, 4.96, 5.44, 6.46, 5.44, 5.86, 5.74, 6.4, 4.24, 5.68, 6.28, 4.72, 5.8, 5.8, 5.26, 5.5, 4.6, 6.28, 4.3, 4.0, 3.52, 5.14, 3.52, 4.48, 2.44, 5.02, 4.54, 4.54, 6.76, 3.7, 6.28, 5.32, 4.66, 5.86, 5.74, 3.8200000000000003, 3.94, 4.24, 5.26, 4.54, 6.34, 4.54, 4.42, 5.62, 5.62, 4.6, 5.5600000000000005, 2.92, 3.94, 5.5600000000000005, 4.84, 4.78, 4.0, 3.64, 4.96, 5.02, 4.66, 5.14, 4.9, 4.18, 6.22, 4.18, 4.96, 3.94, 5.02, 4.3, 2.8, 5.38, 4.72, 5.74, 4.78, 4.12, 4.48, 5.68, 5.44, 5.08, 5.92, 5.38, 4.54, 5.44, 6.04, 5.02, 6.22, 5.62, 4.48, 5.14, 4.9, 6.52, 6.22, 5.14, 5.38, 4.66, 5.02, 5.14, 5.44, 4.84, 3.16, 3.46, 3.94, 4.54, 6.04, 5.5600000000000005, 4.66, 4.72, 5.02, 4.24, 4.54, 5.08, 6.46, 6.76, 5.08, 5.44, 5.26, 3.1, 5.86, 4.18, 5.8, 5.5600000000000005, 4.78, 4.42, 4.48, 5.32, 4.3, 5.8, 3.46, 4.06, 6.1, 5.86, 4.12, 2.08, 5.38, 4.78, 4.54, 4.78, 4.78, 5.8, 4.6, 4.84, 6.88, 4.54, 4.9, 6.22, 4.96, 4.12, 5.38, 6.22, 5.74, 5.14, 3.8200000000000003, 6.52, 4.42, 6.28, 5.74, 5.26, 5.86, 4.9, 5.92, 4.9, 3.4, 5.38, 4.36, 5.14, 5.02, 6.46, 5.02, 4.9, 4.48, 4.3, 3.88, 4.18, 6.1, 4.72, 4.9, 5.92, 5.62, 4.0, 5.14, 1.0, 4.9, 5.14, 5.32, 7.0, 4.9, 3.8200000000000003, 4.06, 5.26, 5.92, 4.3, 5.5, 4.96, 5.32, 5.2, 4.42, 6.04, 4.66, 3.7, 4.9, 2.62, 6.28, 4.9, 4.78, 5.68, 4.9, 6.4, 7.0, 5.02, 5.44, 5.5600000000000005, 4.96, 4.54, 4.72, 3.46, 2.74, 5.14, 2.38, 4.96, 4.24, 5.08], \"xaxis\": \"x\", \"y\": [\"math score\", \"math score\", \"math score\", \"math score\", \"math score\", \"math score\", \"math score\", \"math score\", \"math score\", \"math score\", \"math score\", \"math score\", \"math score\", \"math score\", \"math score\", \"math score\", \"math score\", \"math score\", \"math score\", \"math score\", \"math score\", \"math score\", \"math score\", \"math score\", \"math score\", \"math score\", \"math score\", \"math score\", \"math score\", \"math score\", \"math score\", \"math score\", \"math score\", \"math score\", \"math score\", \"math score\", \"math score\", \"math score\", \"math score\", \"math score\", \"math score\", \"math score\", \"math score\", \"math score\", \"math score\", \"math score\", \"math score\", \"math score\", \"math score\", \"math score\", \"math score\", \"math score\", \"math score\", \"math score\", \"math score\", \"math score\", \"math score\", \"math score\", \"math score\", \"math score\", \"math score\", \"math score\", \"math score\", \"math score\", \"math score\", \"math score\", \"math score\", \"math score\", \"math score\", \"math score\", \"math score\", \"math score\", \"math score\", \"math score\", \"math score\", \"math score\", \"math score\", \"math score\", \"math score\", \"math score\", \"math score\", \"math score\", \"math score\", \"math score\", \"math score\", \"math score\", \"math score\", \"math score\", \"math score\", \"math score\", \"math score\", \"math score\", \"math score\", \"math score\", \"math score\", \"math score\", \"math score\", \"math score\", \"math score\", \"math score\", \"math score\", \"math score\", \"math score\", \"math score\", \"math score\", \"math score\", \"math score\", \"math score\", \"math score\", \"math score\", \"math score\", \"math score\", \"math score\", \"math score\", \"math score\", \"math score\", \"math score\", \"math score\", \"math score\", \"math score\", \"math score\", \"math score\", \"math score\", \"math score\", \"math score\", \"math score\", \"math score\", \"math score\", \"math score\", \"math score\", \"math score\", \"math score\", \"math score\", \"math score\", \"math score\", \"math score\", \"math score\", \"math score\", \"math score\", \"math score\", \"math score\", \"math score\", \"math score\", \"math score\", \"math score\", \"math score\", \"math score\", \"math score\", \"math score\", \"math score\", \"math score\", \"math score\", \"math score\", \"math score\", \"math score\", \"math score\", \"math score\", \"math score\", \"math score\", \"math score\", \"math score\", \"math score\", \"math score\", \"math score\", \"math score\", \"math score\", \"math score\", \"math score\", \"math score\", \"math score\", \"math score\", \"math score\", \"math score\", \"math score\", \"math score\", \"math score\", \"math score\", \"math score\", \"math score\", \"math score\", \"math score\", \"math score\", \"math score\", \"math score\", \"math score\", \"math score\", \"math score\", \"math score\", \"math score\", \"math score\", \"math score\", \"math score\", \"math score\", \"math score\", \"math score\", \"math score\", \"math score\", \"math score\", \"math score\", \"math score\", \"math score\", \"math score\", \"math score\", \"math score\", \"math score\", \"math score\", \"math score\", \"math score\", \"math score\", \"math score\", \"math score\", \"math score\", \"math score\", \"math score\", \"math score\", \"math score\", \"math score\", \"math score\", \"math score\", \"math score\", \"math score\", \"math score\", \"math score\", \"math score\", \"math score\", \"math score\", \"math score\", \"math score\", \"math score\", \"math score\", \"math score\", \"math score\", \"math score\", \"math score\", \"math score\", \"math score\", \"math score\", \"math score\", \"math score\", \"math score\", \"math score\", \"math score\", \"math score\", \"math score\", \"math score\", \"math score\", \"math score\", \"math score\", \"math score\", \"math score\", \"math score\", \"math score\", \"math score\", \"math score\", \"math score\", \"math score\", \"math score\", \"math score\", \"math score\", \"math score\", \"math score\", \"math score\", \"math score\", \"math score\", \"math score\", \"math score\", \"math score\", \"math score\", \"math score\", \"math score\", \"math score\", \"math score\", \"math score\", \"math score\", \"math score\", \"math score\", \"math score\", \"math score\", \"math score\", \"math score\", \"math score\", \"math score\", \"math score\", \"math score\", \"math score\", \"math score\", \"math score\", \"math score\", \"math score\", \"math score\", \"math score\", \"math score\", \"math score\", \"math score\", \"math score\", \"math score\", \"math score\", \"math score\", \"math score\", \"math score\", \"math score\", \"math score\", \"math score\", \"math score\", \"math score\", \"math score\", \"math score\", \"math score\", \"math score\", \"math score\", \"math score\", \"math score\", \"math score\", \"math score\", \"math score\", \"math score\", \"math score\", \"math score\", \"math score\", \"math score\", \"math score\", \"math score\", \"math score\", \"math score\", \"math score\", \"math score\", \"math score\", \"math score\", \"math score\", \"math score\", \"math score\", \"math score\", \"math score\", \"math score\", \"math score\", \"math score\", \"math score\", \"math score\", \"math score\", \"math score\", \"math score\", \"math score\", \"math score\", \"math score\", \"math score\", \"math score\", \"math score\", \"math score\", \"math score\", \"math score\", \"math score\", \"math score\", \"math score\", \"math score\", \"math score\", \"math score\", \"math score\", \"math score\", \"math score\", \"math score\", \"math score\", \"math score\", \"math score\", \"math score\", \"math score\", \"math score\", \"math score\", \"math score\", \"math score\", \"math score\", \"math score\", \"math score\", \"math score\", \"math score\", \"math score\", \"math score\", \"math score\", \"math score\", \"math score\", \"math score\", \"math score\", \"math score\", \"math score\", \"math score\", \"math score\", \"math score\", \"math score\", \"math score\", \"math score\", \"math score\", \"math score\", \"math score\", \"math score\", \"math score\", \"math score\", \"math score\", \"math score\", \"math score\", \"math score\", \"math score\", \"math score\", \"math score\", \"math score\", \"math score\", \"math score\", \"math score\", \"math score\", \"math score\", \"math score\", \"math score\", \"math score\", \"math score\", \"math score\", \"math score\", \"math score\", \"math score\", \"math score\", \"math score\", \"math score\", \"math score\", \"math score\", \"math score\", \"math score\", \"math score\", \"math score\", \"math score\", \"math score\", \"math score\", \"math score\", \"math score\", \"math score\", \"math score\", \"math score\", \"math score\", \"math score\", \"math score\", \"math score\", \"math score\", \"math score\", \"math score\", \"math score\", \"math score\", \"math score\", \"math score\", \"math score\", \"math score\", \"math score\", \"math score\", \"math score\", \"math score\", \"math score\", \"math score\", \"math score\", \"math score\", \"math score\", \"math score\", \"math score\", \"math score\", \"math score\", \"math score\", \"math score\", \"math score\", \"math score\", \"math score\", \"math score\", \"math score\", \"math score\", \"math score\", \"math score\", \"math score\", \"math score\", \"math score\", \"math score\", \"math score\", \"math score\", \"math score\", \"math score\", \"math score\", \"math score\", \"math score\", \"math score\", \"math score\", \"math score\", \"math score\", \"math score\", \"math score\", \"math score\", \"math score\", \"math score\", \"math score\", \"math score\", \"math score\", \"math score\", \"math score\", \"math score\", \"math score\", \"math score\", \"math score\", \"math score\", \"math score\", \"math score\", \"math score\", \"math score\", \"math score\", \"math score\", \"math score\", \"math score\", \"math score\", \"math score\", \"math score\", \"math score\", \"math score\", \"math score\", \"math score\", \"math score\", \"math score\", \"math score\", \"math score\", \"math score\", \"math score\", \"math score\", \"math score\", \"math score\", \"math score\", \"math score\", \"math score\", \"math score\", \"math score\", \"math score\", \"math score\", \"math score\", \"math score\", \"math score\", \"math score\", \"math score\", \"math score\", \"math score\", \"math score\", \"math score\", \"math score\", \"math score\", \"math score\", \"math score\", \"math score\", \"math score\", \"math score\", \"math score\", \"math score\", \"math score\", \"math score\", \"math score\", \"math score\", \"math score\", \"math score\", \"math score\", \"math score\", \"math score\", \"math score\", \"math score\", \"math score\", \"math score\", \"math score\", \"math score\", \"math score\", \"math score\", \"math score\", \"math score\", \"math score\", \"math score\", \"math score\", \"math score\", \"math score\", \"math score\", \"math score\", \"math score\", \"math score\", \"math score\", \"math score\", \"math score\", \"math score\", \"math score\", \"math score\", \"math score\", \"math score\", \"math score\", \"math score\", \"math score\", \"math score\", \"math score\", \"math score\", \"math score\", \"math score\", \"math score\", \"math score\", \"math score\", \"math score\", \"math score\", \"math score\", \"math score\", \"math score\", \"math score\", \"math score\", \"math score\", \"math score\", \"math score\", \"math score\", \"math score\", \"math score\", \"math score\", \"math score\", \"math score\", \"math score\", \"math score\", \"math score\", \"math score\", \"math score\", \"math score\", \"math score\", \"math score\", \"math score\", \"math score\", \"math score\", \"math score\", \"math score\", \"math score\", \"math score\", \"math score\", \"math score\", \"math score\", \"math score\", \"math score\", \"math score\", \"math score\", \"math score\", \"math score\", \"math score\", \"math score\", \"math score\", \"math score\", \"math score\", \"math score\", \"math score\", \"math score\", \"math score\", \"math score\", \"math score\", \"math score\", \"math score\", \"math score\", \"math score\", \"math score\", \"math score\", \"math score\", \"math score\", \"math score\", \"math score\", \"math score\", \"math score\", \"math score\", \"math score\", \"math score\", \"math score\", \"math score\", \"math score\", \"math score\", \"math score\", \"math score\", \"math score\", \"math score\", \"math score\", \"math score\", \"math score\", \"math score\", \"math score\", \"math score\", \"math score\", \"math score\", \"math score\", \"math score\", \"math score\", \"math score\", \"math score\", \"math score\", \"math score\", \"math score\", \"math score\", \"math score\", \"math score\", \"math score\", \"math score\", \"math score\", \"math score\", \"math score\", \"math score\", \"math score\", \"math score\", \"math score\", \"math score\", \"math score\", \"math score\", \"math score\", \"math score\", \"math score\", \"math score\", \"math score\", \"math score\", \"math score\", \"math score\", \"math score\", \"math score\", \"math score\", \"math score\", \"math score\", \"math score\", \"math score\", \"math score\", \"math score\", \"math score\", \"math score\", \"math score\", \"math score\", \"math score\", \"math score\", \"math score\", \"math score\", \"math score\", \"math score\", \"math score\", \"math score\", \"math score\", \"math score\", \"math score\", \"math score\", \"math score\", \"math score\", \"math score\", \"math score\", \"math score\", \"math score\", \"math score\", \"math score\", \"math score\", \"math score\", \"math score\", \"math score\", \"math score\", \"math score\", \"math score\", \"math score\", \"math score\", \"math score\", \"math score\", \"math score\", \"math score\", \"math score\", \"math score\", \"math score\", \"math score\", \"math score\", \"math score\", \"math score\", \"math score\", \"math score\", \"math score\", \"math score\", \"math score\", \"math score\", \"math score\", \"math score\", \"math score\", \"math score\", \"math score\", \"math score\", \"math score\", \"math score\", \"math score\", \"math score\", \"math score\", \"math score\", \"math score\", \"math score\", \"math score\", \"math score\", \"math score\", \"math score\", \"math score\", \"math score\", \"math score\", \"math score\", \"math score\", \"math score\", \"math score\", \"math score\", \"math score\", \"math score\", \"math score\", \"math score\", \"math score\", \"math score\", \"math score\", \"math score\", \"math score\", \"math score\", \"math score\", \"math score\", \"math score\", \"math score\", \"math score\", \"math score\", \"math score\", \"math score\", \"math score\", \"math score\", \"math score\", \"math score\", \"math score\", \"math score\", \"math score\", \"math score\", \"math score\", \"math score\", \"math score\", \"math score\", \"math score\", \"math score\", \"math score\", \"math score\", \"math score\", \"math score\", \"math score\", \"math score\", \"math score\", \"math score\", \"math score\", \"math score\", \"math score\", \"math score\", \"math score\", \"math score\", \"math score\", \"math score\", \"math score\", \"math score\", \"math score\", \"math score\", \"math score\", \"math score\", \"math score\", \"math score\", \"math score\", \"math score\", \"math score\", \"math score\", \"math score\", \"math score\", \"math score\", \"math score\", \"math score\", \"math score\", \"math score\", \"math score\", \"math score\", \"math score\", \"math score\", \"math score\", \"math score\", \"math score\", \"math score\", \"math score\", \"math score\", \"math score\", \"math score\", \"math score\", \"math score\", \"math score\"], \"yaxis\": \"y\"}, {\"alignmentgroup\": \"True\", \"hoverlabel\": {\"namelength\": 0}, \"hovertemplate\": \"variable=math score<br>value=%{x}\", \"legendgroup\": \"variable=math score\", \"marker\": {\"color\": \"#636efa\"}, \"name\": \"variable=math score\", \"notched\": true, \"offsetgroup\": \"variable=math score\", \"showlegend\": false, \"type\": \"box\", \"x\": [3.22, 5.8, 5.38, 5.86, 6.64, 5.26, 5.5, 3.04, 4.78, 6.64, 4.9, 4.12, 4.72, 5.44, 4.72, 5.38, 3.76, 5.92, 4.78, 4.84, 5.8, 6.58, 5.14, 3.76, 6.16, 4.54, 6.04, 4.84, 5.38, 5.98, 5.5, 5.14, 5.08, 4.42, 4.96, 4.66, 3.4, 4.0, 3.88, 3.16, 5.68, 4.42, 5.14, 3.4, 6.52, 3.1, 4.78, 5.38, 4.78, 4.12, 5.38, 4.78, 5.26, 3.7, 6.1, 5.8, 5.62, 6.46, 4.6, 4.78, 3.4, 4.42, 4.48, 6.82, 5.86, 5.08, 4.54, 6.76, 6.22, 4.42, 6.64, 6.82, 4.9, 5.92, 5.32, 4.72, 3.64, 5.92, 5.5, 4.54, 5.5, 5.32, 5.08, 4.96, 5.02, 6.58, 5.14, 4.78, 3.76, 4.96, 4.72, 3.88, 5.26, 4.24, 5.8, 4.3, 6.4, 6.64, 5.86, 4.18, 4.66, 5.5, 5.44, 4.72, 5.2, 4.54, 4.72, 4.18, 5.8, 5.14, 5.14, 5.14, 3.94, 5.98, 4.9, 5.38, 5.08, 4.84, 4.9, 3.94, 4.48, 4.96, 4.9, 4.9, 5.2, 5.74, 4.0, 4.84, 5.08, 2.92, 5.08, 4.48, 2.14, 5.14, 5.32, 4.18, 4.66, 5.68, 4.18, 3.7, 3.64, 5.98, 4.9, 6.28, 6.28, 6.46, 6.04, 4.06, 3.2800000000000002, 3.8200000000000003, 4.96, 4.66, 4.6, 5.26, 3.7, 5.62, 4.18, 4.42, 5.32, 5.5600000000000005, 3.7, 6.94, 4.06, 4.84, 4.12, 5.8, 4.06, 4.0, 4.84, 5.44, 5.26, 4.42, 5.14, 5.62, 5.5, 3.58, 5.8, 4.54, 6.1, 4.3, 3.64, 3.52, 4.48, 4.66, 4.0, 6.28, 5.38, 5.02, 6.82, 4.66, 4.72, 4.24, 4.96, 5.68, 6.1, 6.04, 5.5600000000000005, 3.64, 5.86, 4.24, 4.48, 5.86, 5.32, 5.26, 4.66, 4.96, 5.26, 5.26, 6.34, 5.38, 5.86, 3.76, 2.32, 3.88, 3.64, 6.46, 5.5600000000000005, 5.62, 4.72, 5.02, 6.16, 4.48, 4.18, 4.42, 5.14, 4.72, 3.22, 6.28, 6.4, 5.08, 4.9, 4.78, 4.12, 3.88, 4.9, 4.24, 2.74, 2.56, 5.2, 5.5, 4.6, 6.88, 6.58, 4.54, 3.76, 5.5600000000000005, 5.74, 2.68, 4.3, 4.66, 3.1, 6.64, 3.76, 7.0, 5.02, 4.0, 5.74, 5.26, 5.98, 4.3, 3.88, 5.5600000000000005, 5.62, 4.72, 4.36, 5.08, 6.04, 5.8, 4.72, 4.6, 4.84, 2.74, 4.12, 4.18, 5.02, 5.92, 4.36, 5.74, 5.38, 4.96, 5.38, 4.96, 6.04, 5.44, 5.5600000000000005, 5.86, 5.74, 5.08, 4.78, 4.0, 5.32, 6.1, 5.98, 6.04, 4.9, 6.1, 5.2, 4.48, 6.16, 4.84, 4.9, 4.66, 3.94, 4.18, 6.82, 5.5, 5.32, 5.44, 4.54, 5.08, 5.68, 4.18, 5.32, 6.94, 5.74, 6.46, 5.98, 5.32, 4.66, 5.38, 4.54, 7.0, 4.66, 5.62, 5.26, 3.94, 4.72, 6.16, 5.5, 3.8200000000000003, 4.78, 5.2, 5.08, 4.66, 5.26, 5.86, 7.0, 5.62, 4.18, 5.26, 5.38, 4.9, 3.94, 4.12, 4.9, 4.54, 5.8, 4.72, 4.42, 3.76, 4.48, 5.02, 5.38, 5.32, 3.4, 5.68, 4.78, 4.66, 5.74, 5.62, 5.2, 4.18, 3.7, 3.4, 5.92, 5.68, 5.5, 5.2, 4.3, 5.2, 2.8, 5.5, 4.78, 5.92, 5.44, 4.24, 5.26, 5.38, 5.62, 5.62, 6.22, 6.22, 5.44, 5.02, 3.58, 3.94, 3.94, 4.18, 4.84, 4.66, 5.74, 5.14, 4.24, 4.9, 5.62, 4.48, 5.38, 4.24, 4.24, 4.84, 4.54, 5.5600000000000005, 6.1, 6.82, 4.18, 4.12, 5.62, 5.74, 4.42, 4.96, 4.78, 4.9, 5.08, 4.3, 5.32, 6.16, 6.82, 5.5, 4.12, 5.44, 5.2, 3.34, 4.66, 3.64, 6.22, 4.96, 5.08, 4.72, 5.86, 5.2, 5.44, 5.5600000000000005, 4.54, 5.08, 5.38, 7.0, 1.48, 4.9, 3.4, 3.88, 6.34, 5.62, 4.9, 5.14, 5.08, 3.94, 4.72, 4.36, 3.76, 4.6, 6.46, 6.4, 5.38, 5.2, 3.8200000000000003, 4.9, 5.86, 4.3, 6.58, 4.9, 4.72, 3.88, 5.08, 4.96, 4.3, 3.52, 5.44, 3.22, 4.96, 6.28, 5.14, 4.66, 3.34, 6.22, 4.84, 3.64, 4.54, 5.8, 5.26, 4.18, 5.68, 4.3, 5.2, 4.9, 6.16, 4.24, 3.46, 6.4, 4.54, 4.9, 5.02, 6.34, 4.54, 5.38, 5.44, 6.16, 4.66, 4.42, 4.48, 3.7, 4.78, 5.02, 6.64, 4.36, 4.72, 5.2, 5.2, 5.5600000000000005, 4.84, 3.8200000000000003, 4.96, 3.4, 4.96, 5.08, 4.06, 6.28, 6.4, 4.12, 3.94, 4.18, 5.26, 4.0, 4.48, 3.52, 5.02, 3.34, 6.1, 5.68, 5.38, 5.08, 6.34, 3.4, 5.92, 5.62, 5.14, 5.74, 4.18, 3.58, 4.48, 6.28, 5.14, 6.1, 5.14, 5.32, 4.42, 4.48, 4.72, 5.5, 6.28, 5.86, 5.02, 5.02, 5.44, 5.26, 6.1, 4.36, 5.92, 4.6, 5.86, 6.22, 3.76, 4.48, 4.72, 5.5600000000000005, 4.6, 4.0, 5.62, 4.84, 4.66, 4.6, 5.02, 4.84, 6.4, 4.18, 3.88, 4.6, 5.92, 4.48, 4.6, 4.96, 6.1, 3.94, 5.62, 5.02, 5.14, 4.0, 4.72, 5.98, 5.86, 5.32, 6.52, 5.26, 6.28, 5.92, 5.26, 5.5, 4.06, 4.72, 5.5, 4.78, 5.26, 5.02, 5.26, 4.66, 4.36, 6.88, 5.92, 5.5, 4.54, 5.26, 3.64, 5.62, 4.9, 4.42, 4.6, 2.62, 4.48, 5.2, 3.2800000000000002, 3.52, 7.0, 6.34, 3.1, 5.62, 4.72, 5.74, 3.76, 4.54, 4.96, 3.8200000000000003, 5.62, 5.68, 4.12, 5.2, 4.48, 5.08, 5.14, 6.22, 4.12, 5.32, 6.1, 3.46, 4.66, 5.02, 4.24, 4.78, 4.12, 4.72, 4.48, 4.72, 4.9, 5.44, 5.74, 5.08, 4.78, 4.12, 4.54, 4.3, 4.96, 5.44, 6.46, 5.44, 5.86, 5.74, 6.4, 4.24, 5.68, 6.28, 4.72, 5.8, 5.8, 5.26, 5.5, 4.6, 6.28, 4.3, 4.0, 3.52, 5.14, 3.52, 4.48, 2.44, 5.02, 4.54, 4.54, 6.76, 3.7, 6.28, 5.32, 4.66, 5.86, 5.74, 3.8200000000000003, 3.94, 4.24, 5.26, 4.54, 6.34, 4.54, 4.42, 5.62, 5.62, 4.6, 5.5600000000000005, 2.92, 3.94, 5.5600000000000005, 4.84, 4.78, 4.0, 3.64, 4.96, 5.02, 4.66, 5.14, 4.9, 4.18, 6.22, 4.18, 4.96, 3.94, 5.02, 4.3, 2.8, 5.38, 4.72, 5.74, 4.78, 4.12, 4.48, 5.68, 5.44, 5.08, 5.92, 5.38, 4.54, 5.44, 6.04, 5.02, 6.22, 5.62, 4.48, 5.14, 4.9, 6.52, 6.22, 5.14, 5.38, 4.66, 5.02, 5.14, 5.44, 4.84, 3.16, 3.46, 3.94, 4.54, 6.04, 5.5600000000000005, 4.66, 4.72, 5.02, 4.24, 4.54, 5.08, 6.46, 6.76, 5.08, 5.44, 5.26, 3.1, 5.86, 4.18, 5.8, 5.5600000000000005, 4.78, 4.42, 4.48, 5.32, 4.3, 5.8, 3.46, 4.06, 6.1, 5.86, 4.12, 2.08, 5.38, 4.78, 4.54, 4.78, 4.78, 5.8, 4.6, 4.84, 6.88, 4.54, 4.9, 6.22, 4.96, 4.12, 5.38, 6.22, 5.74, 5.14, 3.8200000000000003, 6.52, 4.42, 6.28, 5.74, 5.26, 5.86, 4.9, 5.92, 4.9, 3.4, 5.38, 4.36, 5.14, 5.02, 6.46, 5.02, 4.9, 4.48, 4.3, 3.88, 4.18, 6.1, 4.72, 4.9, 5.92, 5.62, 4.0, 5.14, 1.0, 4.9, 5.14, 5.32, 7.0, 4.9, 3.8200000000000003, 4.06, 5.26, 5.92, 4.3, 5.5, 4.96, 5.32, 5.2, 4.42, 6.04, 4.66, 3.7, 4.9, 2.62, 6.28, 4.9, 4.78, 5.68, 4.9, 6.4, 7.0, 5.02, 5.44, 5.5600000000000005, 4.96, 4.54, 4.72, 3.46, 2.74, 5.14, 2.38, 4.96, 4.24, 5.08], \"xaxis\": \"x2\", \"yaxis\": \"y2\"}, {\"alignmentgroup\": \"True\", \"bingroup\": \"x\", \"hoverlabel\": {\"namelength\": 0}, \"hovertemplate\": \"variable=reading score<br>value=%{x}<br>count of variable=%{y}\", \"legendgroup\": \"variable=reading score\", \"marker\": {\"color\": \"#EF553B\"}, \"name\": \"variable=reading score\", \"nbinsx\": 15, \"offsetgroup\": \"variable=reading score\", \"orientation\": \"v\", \"showlegend\": true, \"type\": \"histogram\", \"x\": [3.76, 5.68, 4.96, 5.5, 6.16, 4.66, 5.08, 3.88, 4.66, 5.38, 5.68, 5.5600000000000005, 4.9, 5.44, 4.42, 5.14, 3.52, 5.92, 4.66, 5.38, 5.5, 7.0, 5.5600000000000005, 4.66, 5.86, 5.32, 5.98, 4.84, 5.5600000000000005, 6.16, 6.28, 5.44, 5.32, 4.66, 4.84, 4.66, 4.54, 5.02, 4.72, 2.74, 5.74, 5.02, 4.48, 4.3, 6.22, 2.68, 5.02, 5.44, 4.84, 4.54, 5.74, 5.38, 4.6, 4.54, 6.52, 5.5600000000000005, 6.64, 6.1, 4.72, 3.88, 3.88, 4.24, 4.24, 5.92, 5.92, 4.9, 5.26, 6.4, 6.04, 5.5, 6.28, 6.58, 5.86, 6.58, 4.42, 5.44, 4.24, 6.04, 6.4, 3.46, 5.38, 5.08, 5.68, 5.44, 4.72, 6.4, 4.78, 5.44, 4.84, 5.08, 5.38, 4.36, 5.2, 5.32, 5.98, 4.54, 6.22, 6.94, 5.38, 3.58, 5.08, 6.1, 5.86, 5.32, 5.68, 4.06, 5.32, 4.0, 6.1, 4.96, 5.68, 5.62, 3.7, 6.58, 4.66, 4.84, 5.98, 4.96, 5.62, 4.42, 5.02, 5.68, 5.2, 5.74, 5.08, 5.86, 5.02, 4.24, 4.6, 4.06, 4.06, 4.42, 3.2800000000000002, 5.62, 5.74, 4.48, 4.06, 5.32, 4.72, 4.36, 4.06, 5.98, 5.5600000000000005, 5.68, 6.7, 6.34, 6.22, 4.96, 3.94, 4.18, 4.42, 5.38, 5.08, 5.26, 4.78, 6.16, 4.48, 4.06, 4.84, 5.26, 3.88, 6.58, 5.32, 4.6, 4.66, 5.38, 4.24, 3.88, 5.38, 5.44, 5.62, 5.44, 5.2, 6.4, 5.44, 4.06, 5.08, 5.32, 5.86, 5.5600000000000005, 4.78, 4.72, 4.54, 3.8200000000000003, 4.96, 5.44, 5.68, 6.16, 7.0, 4.48, 4.84, 4.78, 5.26, 6.46, 5.5, 6.04, 6.64, 4.66, 6.04, 3.94, 4.78, 5.92, 5.86, 3.94, 3.52, 5.62, 5.5600000000000005, 4.96, 6.28, 5.98, 5.86, 3.04, 3.34, 4.12, 4.84, 5.86, 5.8, 5.68, 5.32, 4.84, 5.86, 5.2, 4.12, 4.48, 5.38, 4.96, 4.42, 6.34, 5.5, 5.2, 5.5, 5.14, 4.42, 3.58, 4.24, 4.24, 3.46, 2.86, 5.5, 5.44, 4.42, 6.22, 6.04, 4.24, 4.24, 4.84, 6.28, 2.38, 5.26, 4.42, 4.18, 6.1, 4.48, 7.0, 5.8, 3.8200000000000003, 6.04, 5.86, 5.92, 4.84, 4.48, 5.38, 5.62, 5.68, 5.08, 6.16, 5.62, 5.5, 5.2, 4.96, 4.72, 3.4, 4.9, 4.66, 4.66, 6.7, 5.74, 5.5600000000000005, 5.08, 5.44, 6.16, 4.9, 5.38, 5.62, 5.26, 5.32, 6.34, 5.26, 5.68, 4.36, 4.9, 6.52, 5.68, 6.7, 5.62, 6.16, 5.2, 4.78, 5.8, 5.92, 5.86, 4.3, 4.06, 4.06, 6.82, 5.32, 5.38, 5.74, 5.02, 5.08, 5.62, 4.48, 4.42, 7.0, 6.34, 5.38, 5.32, 5.74, 4.72, 5.44, 4.24, 6.76, 4.96, 5.74, 5.02, 4.18, 4.66, 6.52, 5.86, 4.54, 5.5, 5.5, 4.78, 4.36, 4.96, 6.82, 7.0, 6.4, 3.64, 5.98, 5.08, 5.92, 3.94, 4.54, 5.5, 4.6, 4.84, 3.94, 3.58, 3.58, 5.38, 4.24, 4.96, 5.32, 3.58, 5.98, 4.9, 5.32, 5.44, 5.92, 6.04, 4.24, 4.18, 4.48, 6.1, 5.32, 4.96, 4.84, 4.3, 6.34, 2.56, 6.04, 4.84, 5.92, 5.86, 4.54, 6.04, 6.04, 6.28, 6.28, 6.04, 5.44, 5.38, 4.84, 4.72, 4.12, 4.9, 4.24, 4.18, 6.16, 6.52, 5.26, 4.12, 6.16, 6.46, 4.66, 5.5600000000000005, 4.84, 4.18, 4.48, 5.32, 5.44, 6.04, 6.52, 5.2, 4.3, 5.5600000000000005, 5.32, 5.62, 5.14, 5.38, 6.1, 5.02, 4.48, 4.96, 5.5600000000000005, 6.22, 5.08, 3.94, 5.2, 5.92, 4.12, 5.44, 4.0, 6.04, 4.9, 5.62, 5.02, 4.96, 4.78, 5.5, 5.68, 5.2, 5.08, 4.96, 7.0, 2.44, 4.84, 4.9, 4.96, 6.04, 5.92, 5.38, 5.62, 5.32, 4.06, 5.14, 5.08, 4.36, 4.06, 6.7, 6.4, 4.36, 5.32, 3.94, 4.9, 5.62, 3.76, 7.0, 5.2, 4.66, 3.7, 4.54, 5.14, 3.76, 4.3, 5.62, 4.36, 4.78, 5.68, 5.62, 5.26, 4.84, 7.0, 4.78, 3.46, 5.68, 5.74, 6.22, 4.48, 5.86, 5.38, 5.2, 5.14, 5.38, 4.12, 4.06, 6.4, 4.48, 5.86, 5.74, 6.04, 4.78, 5.26, 6.4, 5.98, 4.48, 5.68, 4.12, 3.22, 4.78, 5.38, 6.22, 4.12, 4.96, 4.9, 5.44, 5.98, 5.44, 4.24, 5.44, 4.12, 5.44, 5.44, 2.86, 6.04, 6.7, 4.42, 4.18, 4.12, 5.44, 3.88, 4.3, 4.12, 4.42, 3.34, 6.4, 5.44, 5.68, 5.2, 7.0, 3.52, 5.02, 6.1, 6.04, 6.16, 4.72, 3.7, 4.3, 5.62, 5.2, 6.46, 4.6, 5.8, 4.0, 4.66, 4.78, 5.62, 6.94, 6.46, 5.68, 5.14, 5.74, 5.44, 6.04, 4.24, 4.72, 4.84, 5.5, 6.1, 3.58, 5.08, 4.3, 5.32, 5.08, 3.52, 6.34, 4.0, 5.08, 4.54, 4.42, 5.38, 6.1, 3.7, 4.36, 5.2, 6.4, 5.02, 5.5, 4.54, 6.7, 4.12, 5.14, 5.5600000000000005, 5.74, 4.6, 4.36, 6.1, 5.26, 5.74, 7.0, 5.2, 6.94, 6.58, 5.14, 5.92, 3.94, 4.3, 5.86, 4.3, 5.98, 5.32, 5.98, 4.36, 4.66, 6.16, 6.04, 6.28, 4.72, 5.5, 3.7, 5.08, 5.5600000000000005, 3.88, 4.6, 3.04, 4.0, 4.84, 3.58, 4.96, 6.52, 5.5600000000000005, 3.64, 4.72, 4.84, 5.92, 3.46, 5.2, 5.62, 3.22, 5.08, 5.62, 3.88, 5.26, 4.42, 4.24, 5.32, 6.64, 4.18, 5.8, 6.34, 3.34, 5.26, 6.34, 3.88, 4.78, 4.48, 4.3, 4.6, 5.02, 5.62, 6.28, 5.38, 5.08, 5.8, 5.2, 3.52, 3.8200000000000003, 4.6, 5.5600000000000005, 6.16, 4.78, 5.44, 5.92, 5.68, 4.48, 5.92, 6.52, 5.02, 6.16, 4.78, 5.74, 6.16, 5.32, 5.5, 4.66, 4.6, 4.66, 5.5, 3.34, 5.5, 3.2800000000000002, 6.04, 4.72, 4.72, 6.76, 3.8200000000000003, 6.1, 5.02, 5.02, 5.8, 6.1, 4.72, 4.48, 4.6, 5.26, 4.48, 6.22, 6.1, 4.48, 5.02, 5.02, 4.78, 5.68, 3.04, 4.42, 4.72, 5.5600000000000005, 5.68, 4.18, 4.06, 4.72, 6.04, 4.6, 6.04, 5.38, 5.32, 6.4, 4.96, 5.98, 4.9, 5.44, 5.32, 2.44, 6.52, 4.72, 4.6, 4.42, 4.9, 5.5600000000000005, 6.4, 6.34, 5.5600000000000005, 6.82, 5.2, 4.96, 6.16, 5.98, 6.16, 6.7, 6.82, 4.06, 4.96, 4.96, 7.0, 5.44, 4.24, 5.02, 4.6, 5.86, 6.4, 5.86, 4.6, 4.18, 4.12, 4.48, 5.14, 6.22, 5.98, 5.32, 5.02, 5.5, 4.84, 4.78, 5.02, 5.44, 7.0, 4.84, 5.5, 5.5600000000000005, 4.66, 5.68, 3.22, 5.5600000000000005, 5.2, 5.26, 5.08, 5.2, 4.96, 4.9, 6.52, 4.3, 4.36, 5.5600000000000005, 6.52, 4.54, 2.92, 5.74, 5.02, 5.38, 4.6, 5.38, 6.4, 3.64, 4.36, 7.0, 5.26, 5.14, 6.46, 5.5600000000000005, 4.3, 5.5, 6.04, 5.02, 4.6, 4.48, 5.74, 5.14, 6.7, 5.68, 4.72, 5.86, 5.86, 5.68, 5.14, 3.76, 5.8, 5.32, 4.48, 5.32, 6.76, 5.5, 5.44, 4.54, 3.46, 4.48, 4.66, 4.96, 5.02, 6.04, 5.92, 4.72, 4.84, 4.9, 2.02, 5.02, 6.16, 5.02, 7.0, 4.48, 4.42, 4.06, 5.44, 5.92, 4.9, 5.92, 4.96, 5.32, 4.3, 4.36, 6.34, 3.88, 4.12, 4.54, 3.04, 5.38, 5.92, 4.96, 5.86, 5.32, 6.22, 6.82, 5.44, 5.5, 5.02, 5.32, 4.84, 5.5600000000000005, 3.76, 2.74, 5.5, 3.64, 5.44, 4.66, 5.8], \"xaxis\": \"x\", \"y\": [\"reading score\", \"reading score\", \"reading score\", \"reading score\", \"reading score\", \"reading score\", \"reading score\", \"reading score\", \"reading score\", \"reading score\", \"reading score\", \"reading score\", \"reading score\", \"reading score\", \"reading score\", \"reading score\", \"reading score\", \"reading score\", \"reading score\", \"reading score\", \"reading score\", \"reading score\", \"reading score\", \"reading score\", \"reading score\", \"reading score\", \"reading score\", \"reading score\", \"reading score\", \"reading score\", \"reading score\", \"reading score\", \"reading score\", \"reading score\", \"reading score\", \"reading score\", \"reading score\", \"reading score\", \"reading score\", \"reading score\", \"reading score\", \"reading score\", \"reading score\", \"reading score\", \"reading score\", \"reading score\", \"reading score\", \"reading score\", \"reading score\", \"reading score\", \"reading score\", \"reading score\", \"reading score\", \"reading score\", \"reading score\", \"reading score\", \"reading score\", \"reading score\", \"reading score\", \"reading score\", \"reading score\", \"reading score\", \"reading score\", \"reading score\", \"reading score\", \"reading score\", \"reading score\", \"reading score\", \"reading score\", \"reading score\", \"reading score\", \"reading score\", \"reading score\", \"reading score\", \"reading score\", \"reading score\", \"reading score\", \"reading score\", \"reading score\", \"reading score\", \"reading score\", \"reading score\", \"reading score\", \"reading score\", \"reading score\", \"reading score\", \"reading score\", \"reading score\", \"reading score\", \"reading score\", \"reading score\", \"reading score\", \"reading score\", \"reading score\", \"reading score\", \"reading score\", \"reading score\", \"reading score\", \"reading score\", \"reading score\", \"reading score\", \"reading score\", \"reading score\", \"reading score\", \"reading score\", \"reading score\", \"reading score\", \"reading score\", \"reading score\", \"reading score\", \"reading score\", \"reading score\", \"reading score\", \"reading score\", \"reading score\", \"reading score\", \"reading score\", \"reading score\", \"reading score\", \"reading score\", \"reading score\", \"reading score\", \"reading score\", \"reading score\", \"reading score\", \"reading score\", \"reading score\", \"reading score\", \"reading score\", \"reading score\", \"reading score\", \"reading score\", \"reading score\", \"reading score\", \"reading score\", \"reading score\", \"reading score\", \"reading score\", \"reading score\", \"reading score\", \"reading score\", \"reading score\", \"reading score\", \"reading score\", \"reading score\", \"reading score\", \"reading score\", \"reading score\", \"reading score\", \"reading score\", \"reading score\", \"reading score\", \"reading score\", \"reading score\", \"reading score\", \"reading score\", \"reading score\", \"reading score\", \"reading score\", \"reading score\", \"reading score\", \"reading score\", \"reading score\", \"reading score\", \"reading score\", \"reading score\", \"reading score\", \"reading score\", \"reading score\", \"reading score\", \"reading score\", \"reading score\", \"reading score\", \"reading score\", \"reading score\", \"reading score\", \"reading score\", \"reading score\", \"reading score\", \"reading score\", \"reading score\", \"reading score\", \"reading score\", \"reading score\", \"reading score\", \"reading score\", \"reading score\", \"reading score\", \"reading score\", \"reading score\", \"reading score\", \"reading score\", \"reading score\", \"reading score\", \"reading score\", \"reading score\", \"reading score\", \"reading score\", \"reading score\", \"reading score\", \"reading score\", \"reading score\", \"reading score\", \"reading score\", \"reading score\", \"reading score\", \"reading score\", \"reading score\", \"reading score\", \"reading score\", \"reading score\", \"reading score\", \"reading score\", \"reading score\", \"reading score\", \"reading score\", \"reading score\", \"reading score\", \"reading score\", \"reading score\", \"reading score\", \"reading score\", \"reading score\", \"reading score\", \"reading score\", \"reading score\", \"reading score\", \"reading score\", \"reading score\", \"reading score\", \"reading score\", \"reading score\", \"reading score\", \"reading score\", \"reading score\", \"reading score\", \"reading score\", \"reading score\", \"reading score\", \"reading score\", \"reading score\", \"reading score\", \"reading score\", \"reading score\", \"reading score\", \"reading score\", \"reading score\", \"reading score\", \"reading score\", \"reading score\", \"reading score\", \"reading score\", \"reading score\", \"reading score\", \"reading score\", \"reading score\", \"reading score\", \"reading score\", \"reading score\", \"reading score\", \"reading score\", \"reading score\", \"reading score\", \"reading score\", \"reading score\", \"reading score\", \"reading score\", \"reading score\", \"reading score\", \"reading score\", \"reading score\", \"reading score\", \"reading score\", \"reading score\", \"reading score\", \"reading score\", \"reading score\", \"reading score\", \"reading score\", \"reading score\", \"reading score\", \"reading score\", \"reading score\", \"reading score\", \"reading score\", \"reading score\", \"reading score\", \"reading score\", \"reading score\", \"reading score\", \"reading score\", \"reading score\", \"reading score\", \"reading score\", \"reading score\", \"reading score\", \"reading score\", \"reading score\", \"reading score\", \"reading score\", \"reading score\", \"reading score\", \"reading score\", \"reading score\", \"reading score\", \"reading score\", \"reading score\", \"reading score\", \"reading score\", \"reading score\", \"reading score\", \"reading score\", \"reading score\", \"reading score\", \"reading score\", \"reading score\", \"reading score\", \"reading score\", \"reading score\", \"reading score\", \"reading score\", \"reading score\", \"reading score\", \"reading score\", \"reading score\", \"reading score\", \"reading score\", \"reading score\", \"reading score\", \"reading score\", \"reading score\", \"reading score\", \"reading score\", \"reading score\", \"reading score\", \"reading score\", \"reading score\", \"reading score\", \"reading score\", \"reading score\", \"reading score\", \"reading score\", \"reading score\", \"reading score\", \"reading score\", \"reading score\", \"reading score\", \"reading score\", \"reading score\", \"reading score\", \"reading score\", \"reading score\", \"reading score\", \"reading score\", \"reading score\", \"reading score\", \"reading score\", \"reading score\", \"reading score\", \"reading score\", \"reading score\", \"reading score\", \"reading score\", \"reading score\", \"reading score\", \"reading score\", \"reading score\", \"reading score\", \"reading score\", \"reading score\", \"reading score\", \"reading score\", \"reading score\", \"reading score\", \"reading score\", \"reading score\", \"reading score\", \"reading score\", \"reading score\", \"reading score\", \"reading score\", \"reading score\", \"reading score\", \"reading score\", \"reading score\", \"reading score\", \"reading score\", \"reading score\", \"reading score\", \"reading score\", \"reading score\", \"reading score\", \"reading score\", \"reading score\", \"reading score\", \"reading score\", \"reading score\", \"reading score\", \"reading score\", \"reading score\", \"reading score\", \"reading score\", \"reading score\", \"reading score\", \"reading score\", \"reading score\", \"reading score\", \"reading score\", \"reading score\", \"reading score\", \"reading score\", \"reading score\", \"reading score\", \"reading score\", \"reading score\", \"reading score\", \"reading score\", \"reading score\", \"reading score\", \"reading score\", \"reading score\", \"reading score\", \"reading score\", \"reading score\", \"reading score\", \"reading score\", \"reading score\", \"reading score\", \"reading score\", \"reading score\", \"reading score\", \"reading score\", \"reading score\", \"reading score\", \"reading score\", \"reading score\", \"reading score\", \"reading score\", \"reading score\", \"reading score\", \"reading score\", \"reading score\", \"reading score\", \"reading score\", \"reading score\", \"reading score\", \"reading score\", \"reading score\", \"reading score\", \"reading score\", \"reading score\", \"reading score\", \"reading score\", \"reading score\", \"reading score\", \"reading score\", \"reading score\", \"reading score\", \"reading score\", \"reading score\", \"reading score\", \"reading score\", \"reading score\", \"reading score\", \"reading score\", \"reading score\", \"reading score\", \"reading score\", \"reading score\", \"reading score\", \"reading score\", \"reading score\", \"reading score\", \"reading score\", \"reading score\", \"reading score\", \"reading score\", \"reading score\", \"reading score\", \"reading score\", \"reading score\", \"reading score\", \"reading score\", \"reading score\", \"reading score\", \"reading score\", \"reading score\", \"reading score\", \"reading score\", \"reading score\", \"reading score\", \"reading score\", \"reading score\", \"reading score\", \"reading score\", \"reading score\", \"reading score\", \"reading score\", \"reading score\", \"reading score\", \"reading score\", \"reading score\", \"reading score\", \"reading score\", \"reading score\", \"reading score\", \"reading score\", \"reading score\", \"reading score\", \"reading score\", \"reading score\", \"reading score\", \"reading score\", \"reading score\", \"reading score\", \"reading score\", \"reading score\", \"reading score\", \"reading score\", \"reading score\", \"reading score\", \"reading score\", \"reading score\", \"reading score\", \"reading score\", \"reading score\", \"reading score\", \"reading score\", \"reading score\", \"reading score\", \"reading score\", \"reading score\", \"reading score\", \"reading score\", \"reading score\", \"reading score\", \"reading score\", \"reading score\", \"reading score\", \"reading score\", \"reading score\", \"reading score\", \"reading score\", \"reading score\", \"reading score\", \"reading score\", \"reading score\", \"reading score\", \"reading score\", \"reading score\", \"reading score\", \"reading score\", \"reading score\", \"reading score\", \"reading score\", \"reading score\", \"reading score\", \"reading score\", \"reading score\", \"reading score\", \"reading score\", \"reading score\", \"reading score\", \"reading score\", \"reading score\", \"reading score\", \"reading score\", \"reading score\", \"reading score\", \"reading score\", \"reading score\", \"reading score\", \"reading score\", \"reading score\", \"reading score\", \"reading score\", \"reading score\", \"reading score\", \"reading score\", \"reading score\", \"reading score\", \"reading score\", \"reading score\", \"reading score\", \"reading score\", \"reading score\", \"reading score\", \"reading score\", \"reading score\", \"reading score\", \"reading score\", \"reading score\", \"reading score\", \"reading score\", \"reading score\", \"reading score\", \"reading score\", \"reading score\", \"reading score\", \"reading score\", \"reading score\", \"reading score\", \"reading score\", \"reading score\", \"reading score\", \"reading score\", \"reading score\", \"reading score\", \"reading score\", \"reading score\", \"reading score\", \"reading score\", \"reading score\", \"reading score\", \"reading score\", \"reading score\", \"reading score\", \"reading score\", \"reading score\", \"reading score\", \"reading score\", \"reading score\", \"reading score\", \"reading score\", \"reading score\", \"reading score\", \"reading score\", \"reading score\", \"reading score\", \"reading score\", \"reading score\", \"reading score\", \"reading score\", \"reading score\", \"reading score\", \"reading score\", \"reading score\", \"reading score\", \"reading score\", \"reading score\", \"reading score\", \"reading score\", \"reading score\", \"reading score\", \"reading score\", \"reading score\", \"reading score\", \"reading score\", \"reading score\", \"reading score\", \"reading score\", \"reading score\", \"reading score\", \"reading score\", \"reading score\", \"reading score\", \"reading score\", \"reading score\", \"reading score\", \"reading score\", \"reading score\", \"reading score\", \"reading score\", \"reading score\", \"reading score\", \"reading score\", \"reading score\", \"reading score\", \"reading score\", \"reading score\", \"reading score\", \"reading score\", \"reading score\", \"reading score\", \"reading score\", \"reading score\", \"reading score\", \"reading score\", \"reading score\", \"reading score\", \"reading score\", \"reading score\", \"reading score\", \"reading score\", \"reading score\", \"reading score\", \"reading score\", \"reading score\", \"reading score\", \"reading score\", \"reading score\", \"reading score\", \"reading score\", \"reading score\", \"reading score\", \"reading score\", \"reading score\", \"reading score\", \"reading score\", \"reading score\", \"reading score\", \"reading score\", \"reading score\", \"reading score\", \"reading score\", \"reading score\", \"reading score\", \"reading score\", \"reading score\", \"reading score\", \"reading score\", \"reading score\", \"reading score\", \"reading score\", \"reading score\", \"reading score\", \"reading score\", \"reading score\", \"reading score\", \"reading score\", \"reading score\", \"reading score\", \"reading score\", \"reading score\", \"reading score\", \"reading score\", \"reading score\", \"reading score\", \"reading score\", \"reading score\", \"reading score\", \"reading score\", \"reading score\", \"reading score\", \"reading score\", \"reading score\", \"reading score\", \"reading score\", \"reading score\", \"reading score\", \"reading score\", \"reading score\", \"reading score\", \"reading score\", \"reading score\", \"reading score\", \"reading score\", \"reading score\", \"reading score\", \"reading score\", \"reading score\", \"reading score\", \"reading score\", \"reading score\", \"reading score\", \"reading score\", \"reading score\", \"reading score\", \"reading score\", \"reading score\", \"reading score\", \"reading score\", \"reading score\", \"reading score\", \"reading score\", \"reading score\", \"reading score\", \"reading score\", \"reading score\", \"reading score\", \"reading score\", \"reading score\", \"reading score\", \"reading score\", \"reading score\", \"reading score\", \"reading score\", \"reading score\", \"reading score\", \"reading score\", \"reading score\", \"reading score\", \"reading score\", \"reading score\", \"reading score\", \"reading score\", \"reading score\", \"reading score\", \"reading score\", \"reading score\", \"reading score\", \"reading score\", \"reading score\", \"reading score\", \"reading score\", \"reading score\", \"reading score\", \"reading score\", \"reading score\", \"reading score\", \"reading score\", \"reading score\", \"reading score\", \"reading score\", \"reading score\", \"reading score\", \"reading score\", \"reading score\", \"reading score\", \"reading score\", \"reading score\", \"reading score\", \"reading score\", \"reading score\", \"reading score\", \"reading score\", \"reading score\", \"reading score\", \"reading score\", \"reading score\", \"reading score\", \"reading score\", \"reading score\", \"reading score\", \"reading score\", \"reading score\", \"reading score\", \"reading score\", \"reading score\", \"reading score\", \"reading score\", \"reading score\", \"reading score\", \"reading score\", \"reading score\", \"reading score\", \"reading score\", \"reading score\", \"reading score\", \"reading score\", \"reading score\", \"reading score\", \"reading score\", \"reading score\", \"reading score\", \"reading score\", \"reading score\", \"reading score\", \"reading score\", \"reading score\", \"reading score\", \"reading score\", \"reading score\", \"reading score\", \"reading score\", \"reading score\", \"reading score\", \"reading score\", \"reading score\", \"reading score\", \"reading score\", \"reading score\", \"reading score\", \"reading score\", \"reading score\", \"reading score\", \"reading score\", \"reading score\", \"reading score\", \"reading score\", \"reading score\", \"reading score\", \"reading score\", \"reading score\", \"reading score\"], \"yaxis\": \"y\"}, {\"alignmentgroup\": \"True\", \"hoverlabel\": {\"namelength\": 0}, \"hovertemplate\": \"variable=reading score<br>value=%{x}\", \"legendgroup\": \"variable=reading score\", \"marker\": {\"color\": \"#EF553B\"}, \"name\": \"variable=reading score\", \"notched\": true, \"offsetgroup\": \"variable=reading score\", \"showlegend\": false, \"type\": \"box\", \"x\": [3.76, 5.68, 4.96, 5.5, 6.16, 4.66, 5.08, 3.88, 4.66, 5.38, 5.68, 5.5600000000000005, 4.9, 5.44, 4.42, 5.14, 3.52, 5.92, 4.66, 5.38, 5.5, 7.0, 5.5600000000000005, 4.66, 5.86, 5.32, 5.98, 4.84, 5.5600000000000005, 6.16, 6.28, 5.44, 5.32, 4.66, 4.84, 4.66, 4.54, 5.02, 4.72, 2.74, 5.74, 5.02, 4.48, 4.3, 6.22, 2.68, 5.02, 5.44, 4.84, 4.54, 5.74, 5.38, 4.6, 4.54, 6.52, 5.5600000000000005, 6.64, 6.1, 4.72, 3.88, 3.88, 4.24, 4.24, 5.92, 5.92, 4.9, 5.26, 6.4, 6.04, 5.5, 6.28, 6.58, 5.86, 6.58, 4.42, 5.44, 4.24, 6.04, 6.4, 3.46, 5.38, 5.08, 5.68, 5.44, 4.72, 6.4, 4.78, 5.44, 4.84, 5.08, 5.38, 4.36, 5.2, 5.32, 5.98, 4.54, 6.22, 6.94, 5.38, 3.58, 5.08, 6.1, 5.86, 5.32, 5.68, 4.06, 5.32, 4.0, 6.1, 4.96, 5.68, 5.62, 3.7, 6.58, 4.66, 4.84, 5.98, 4.96, 5.62, 4.42, 5.02, 5.68, 5.2, 5.74, 5.08, 5.86, 5.02, 4.24, 4.6, 4.06, 4.06, 4.42, 3.2800000000000002, 5.62, 5.74, 4.48, 4.06, 5.32, 4.72, 4.36, 4.06, 5.98, 5.5600000000000005, 5.68, 6.7, 6.34, 6.22, 4.96, 3.94, 4.18, 4.42, 5.38, 5.08, 5.26, 4.78, 6.16, 4.48, 4.06, 4.84, 5.26, 3.88, 6.58, 5.32, 4.6, 4.66, 5.38, 4.24, 3.88, 5.38, 5.44, 5.62, 5.44, 5.2, 6.4, 5.44, 4.06, 5.08, 5.32, 5.86, 5.5600000000000005, 4.78, 4.72, 4.54, 3.8200000000000003, 4.96, 5.44, 5.68, 6.16, 7.0, 4.48, 4.84, 4.78, 5.26, 6.46, 5.5, 6.04, 6.64, 4.66, 6.04, 3.94, 4.78, 5.92, 5.86, 3.94, 3.52, 5.62, 5.5600000000000005, 4.96, 6.28, 5.98, 5.86, 3.04, 3.34, 4.12, 4.84, 5.86, 5.8, 5.68, 5.32, 4.84, 5.86, 5.2, 4.12, 4.48, 5.38, 4.96, 4.42, 6.34, 5.5, 5.2, 5.5, 5.14, 4.42, 3.58, 4.24, 4.24, 3.46, 2.86, 5.5, 5.44, 4.42, 6.22, 6.04, 4.24, 4.24, 4.84, 6.28, 2.38, 5.26, 4.42, 4.18, 6.1, 4.48, 7.0, 5.8, 3.8200000000000003, 6.04, 5.86, 5.92, 4.84, 4.48, 5.38, 5.62, 5.68, 5.08, 6.16, 5.62, 5.5, 5.2, 4.96, 4.72, 3.4, 4.9, 4.66, 4.66, 6.7, 5.74, 5.5600000000000005, 5.08, 5.44, 6.16, 4.9, 5.38, 5.62, 5.26, 5.32, 6.34, 5.26, 5.68, 4.36, 4.9, 6.52, 5.68, 6.7, 5.62, 6.16, 5.2, 4.78, 5.8, 5.92, 5.86, 4.3, 4.06, 4.06, 6.82, 5.32, 5.38, 5.74, 5.02, 5.08, 5.62, 4.48, 4.42, 7.0, 6.34, 5.38, 5.32, 5.74, 4.72, 5.44, 4.24, 6.76, 4.96, 5.74, 5.02, 4.18, 4.66, 6.52, 5.86, 4.54, 5.5, 5.5, 4.78, 4.36, 4.96, 6.82, 7.0, 6.4, 3.64, 5.98, 5.08, 5.92, 3.94, 4.54, 5.5, 4.6, 4.84, 3.94, 3.58, 3.58, 5.38, 4.24, 4.96, 5.32, 3.58, 5.98, 4.9, 5.32, 5.44, 5.92, 6.04, 4.24, 4.18, 4.48, 6.1, 5.32, 4.96, 4.84, 4.3, 6.34, 2.56, 6.04, 4.84, 5.92, 5.86, 4.54, 6.04, 6.04, 6.28, 6.28, 6.04, 5.44, 5.38, 4.84, 4.72, 4.12, 4.9, 4.24, 4.18, 6.16, 6.52, 5.26, 4.12, 6.16, 6.46, 4.66, 5.5600000000000005, 4.84, 4.18, 4.48, 5.32, 5.44, 6.04, 6.52, 5.2, 4.3, 5.5600000000000005, 5.32, 5.62, 5.14, 5.38, 6.1, 5.02, 4.48, 4.96, 5.5600000000000005, 6.22, 5.08, 3.94, 5.2, 5.92, 4.12, 5.44, 4.0, 6.04, 4.9, 5.62, 5.02, 4.96, 4.78, 5.5, 5.68, 5.2, 5.08, 4.96, 7.0, 2.44, 4.84, 4.9, 4.96, 6.04, 5.92, 5.38, 5.62, 5.32, 4.06, 5.14, 5.08, 4.36, 4.06, 6.7, 6.4, 4.36, 5.32, 3.94, 4.9, 5.62, 3.76, 7.0, 5.2, 4.66, 3.7, 4.54, 5.14, 3.76, 4.3, 5.62, 4.36, 4.78, 5.68, 5.62, 5.26, 4.84, 7.0, 4.78, 3.46, 5.68, 5.74, 6.22, 4.48, 5.86, 5.38, 5.2, 5.14, 5.38, 4.12, 4.06, 6.4, 4.48, 5.86, 5.74, 6.04, 4.78, 5.26, 6.4, 5.98, 4.48, 5.68, 4.12, 3.22, 4.78, 5.38, 6.22, 4.12, 4.96, 4.9, 5.44, 5.98, 5.44, 4.24, 5.44, 4.12, 5.44, 5.44, 2.86, 6.04, 6.7, 4.42, 4.18, 4.12, 5.44, 3.88, 4.3, 4.12, 4.42, 3.34, 6.4, 5.44, 5.68, 5.2, 7.0, 3.52, 5.02, 6.1, 6.04, 6.16, 4.72, 3.7, 4.3, 5.62, 5.2, 6.46, 4.6, 5.8, 4.0, 4.66, 4.78, 5.62, 6.94, 6.46, 5.68, 5.14, 5.74, 5.44, 6.04, 4.24, 4.72, 4.84, 5.5, 6.1, 3.58, 5.08, 4.3, 5.32, 5.08, 3.52, 6.34, 4.0, 5.08, 4.54, 4.42, 5.38, 6.1, 3.7, 4.36, 5.2, 6.4, 5.02, 5.5, 4.54, 6.7, 4.12, 5.14, 5.5600000000000005, 5.74, 4.6, 4.36, 6.1, 5.26, 5.74, 7.0, 5.2, 6.94, 6.58, 5.14, 5.92, 3.94, 4.3, 5.86, 4.3, 5.98, 5.32, 5.98, 4.36, 4.66, 6.16, 6.04, 6.28, 4.72, 5.5, 3.7, 5.08, 5.5600000000000005, 3.88, 4.6, 3.04, 4.0, 4.84, 3.58, 4.96, 6.52, 5.5600000000000005, 3.64, 4.72, 4.84, 5.92, 3.46, 5.2, 5.62, 3.22, 5.08, 5.62, 3.88, 5.26, 4.42, 4.24, 5.32, 6.64, 4.18, 5.8, 6.34, 3.34, 5.26, 6.34, 3.88, 4.78, 4.48, 4.3, 4.6, 5.02, 5.62, 6.28, 5.38, 5.08, 5.8, 5.2, 3.52, 3.8200000000000003, 4.6, 5.5600000000000005, 6.16, 4.78, 5.44, 5.92, 5.68, 4.48, 5.92, 6.52, 5.02, 6.16, 4.78, 5.74, 6.16, 5.32, 5.5, 4.66, 4.6, 4.66, 5.5, 3.34, 5.5, 3.2800000000000002, 6.04, 4.72, 4.72, 6.76, 3.8200000000000003, 6.1, 5.02, 5.02, 5.8, 6.1, 4.72, 4.48, 4.6, 5.26, 4.48, 6.22, 6.1, 4.48, 5.02, 5.02, 4.78, 5.68, 3.04, 4.42, 4.72, 5.5600000000000005, 5.68, 4.18, 4.06, 4.72, 6.04, 4.6, 6.04, 5.38, 5.32, 6.4, 4.96, 5.98, 4.9, 5.44, 5.32, 2.44, 6.52, 4.72, 4.6, 4.42, 4.9, 5.5600000000000005, 6.4, 6.34, 5.5600000000000005, 6.82, 5.2, 4.96, 6.16, 5.98, 6.16, 6.7, 6.82, 4.06, 4.96, 4.96, 7.0, 5.44, 4.24, 5.02, 4.6, 5.86, 6.4, 5.86, 4.6, 4.18, 4.12, 4.48, 5.14, 6.22, 5.98, 5.32, 5.02, 5.5, 4.84, 4.78, 5.02, 5.44, 7.0, 4.84, 5.5, 5.5600000000000005, 4.66, 5.68, 3.22, 5.5600000000000005, 5.2, 5.26, 5.08, 5.2, 4.96, 4.9, 6.52, 4.3, 4.36, 5.5600000000000005, 6.52, 4.54, 2.92, 5.74, 5.02, 5.38, 4.6, 5.38, 6.4, 3.64, 4.36, 7.0, 5.26, 5.14, 6.46, 5.5600000000000005, 4.3, 5.5, 6.04, 5.02, 4.6, 4.48, 5.74, 5.14, 6.7, 5.68, 4.72, 5.86, 5.86, 5.68, 5.14, 3.76, 5.8, 5.32, 4.48, 5.32, 6.76, 5.5, 5.44, 4.54, 3.46, 4.48, 4.66, 4.96, 5.02, 6.04, 5.92, 4.72, 4.84, 4.9, 2.02, 5.02, 6.16, 5.02, 7.0, 4.48, 4.42, 4.06, 5.44, 5.92, 4.9, 5.92, 4.96, 5.32, 4.3, 4.36, 6.34, 3.88, 4.12, 4.54, 3.04, 5.38, 5.92, 4.96, 5.86, 5.32, 6.22, 6.82, 5.44, 5.5, 5.02, 5.32, 4.84, 5.5600000000000005, 3.76, 2.74, 5.5, 3.64, 5.44, 4.66, 5.8], \"xaxis\": \"x2\", \"yaxis\": \"y2\"}, {\"alignmentgroup\": \"True\", \"bingroup\": \"x\", \"hoverlabel\": {\"namelength\": 0}, \"hovertemplate\": \"variable=writing score<br>value=%{x}<br>count of variable=%{y}\", \"legendgroup\": \"variable=writing score\", \"marker\": {\"color\": \"#00cc96\"}, \"name\": \"variable=writing score\", \"nbinsx\": 15, \"offsetgroup\": \"variable=writing score\", \"orientation\": \"v\", \"showlegend\": true, \"type\": \"histogram\", \"x\": [3.76, 5.86, 4.78, 5.5600000000000005, 6.22, 5.14, 4.84, 3.46, 4.66, 5.26, 5.92, 5.2, 4.48, 5.32, 4.72, 5.08, 3.76, 5.44, 4.6, 5.08, 5.62, 7.0, 5.44, 4.3, 5.8, 5.2, 5.5, 5.02, 5.68, 6.28, 6.1, 5.44, 4.9, 4.24, 4.72, 4.72, 4.24, 4.78, 4.6, 2.62, 5.5600000000000005, 5.32, 4.42, 4.18, 5.68, 2.62, 5.2, 4.66, 5.02, 4.9, 5.74, 5.26, 4.66, 4.84, 6.1, 4.9, 6.7, 6.1, 4.6, 3.8200000000000003, 4.0, 4.36, 4.12, 6.28, 5.92, 4.66, 4.9, 6.52, 6.16, 5.38, 5.68, 6.46, 5.86, 6.58, 4.48, 5.2, 4.18, 5.68, 6.28, 3.52, 5.44, 5.02, 5.62, 5.68, 4.6, 5.98, 4.66, 5.44, 4.96, 4.84, 5.2, 4.06, 5.2, 4.54, 5.98, 4.24, 6.1, 7.0, 5.32, 3.58, 4.78, 5.92, 5.26, 4.9, 5.68, 3.58, 5.44, 4.6, 6.1, 4.66, 5.5600000000000005, 5.62, 3.7, 6.7, 5.26, 4.42, 5.68, 4.54, 5.44, 3.76, 4.72, 5.68, 5.44, 5.86, 5.32, 5.92, 5.38, 4.0, 4.54, 3.64, 4.42, 4.24, 2.92, 5.38, 5.44, 4.42, 4.12, 5.14, 4.18, 4.24, 3.88, 6.4, 5.5, 5.98, 6.64, 6.52, 6.46, 4.72, 3.7, 4.48, 4.12, 4.78, 4.6, 5.44, 4.54, 6.16, 4.3, 4.24, 4.78, 5.38, 3.76, 6.4, 5.74, 4.48, 4.96, 5.32, 3.46, 3.52, 5.2, 5.32, 5.62, 5.5600000000000005, 5.02, 6.1, 4.96, 4.24, 5.32, 5.08, 6.1, 5.5600000000000005, 4.72, 4.6, 4.48, 4.36, 4.84, 5.5, 5.32, 5.98, 7.0, 4.36, 4.96, 5.02, 5.5600000000000005, 6.76, 5.08, 5.8, 6.22, 4.12, 5.92, 3.8200000000000003, 4.9, 6.04, 5.74, 4.12, 3.46, 5.38, 5.98, 4.9, 5.92, 5.5600000000000005, 5.74, 3.16, 2.98, 3.7, 4.48, 5.74, 5.38, 5.38, 5.2, 4.66, 5.5, 5.08, 3.94, 4.84, 5.38, 5.08, 4.36, 6.16, 5.14, 4.96, 5.2, 5.44, 4.36, 3.7, 4.42, 3.7, 3.8200000000000003, 3.2800000000000002, 5.68, 5.14, 4.06, 6.4, 6.4, 4.06, 4.48, 4.96, 6.64, 2.14, 5.14, 4.36, 3.76, 5.92, 4.42, 7.0, 5.86, 4.24, 6.46, 5.8, 6.04, 5.2, 4.12, 5.08, 5.38, 5.74, 5.2, 6.04, 5.44, 5.14, 5.5, 5.2, 5.08, 3.64, 5.14, 5.08, 5.08, 6.34, 5.32, 4.9, 4.96, 5.14, 5.92, 5.14, 5.14, 5.38, 5.32, 5.62, 6.16, 5.5, 5.8, 4.24, 5.08, 6.58, 5.38, 6.52, 5.44, 6.88, 5.2, 5.38, 5.5, 5.62, 5.86, 4.12, 4.06, 4.06, 6.76, 4.72, 5.44, 5.5, 4.66, 5.02, 5.62, 3.64, 4.72, 7.0, 6.34, 5.8, 5.68, 5.62, 4.66, 5.32, 5.02, 6.16, 4.66, 5.8, 5.02, 4.18, 4.3, 6.22, 5.26, 4.0, 5.86, 5.44, 4.24, 4.3, 4.6, 6.76, 6.58, 6.46, 3.52, 5.98, 4.96, 5.86, 3.46, 4.36, 5.62, 4.48, 4.96, 4.12, 3.8200000000000003, 3.46, 5.08, 4.78, 4.72, 5.26, 3.34, 5.8, 4.66, 5.2, 5.32, 6.34, 5.86, 3.88, 4.3, 4.24, 6.16, 5.2, 5.38, 5.32, 3.8200000000000003, 6.28, 2.32, 5.8, 4.96, 5.8, 5.98, 4.0, 6.22, 6.1, 6.22, 6.1, 6.22, 5.2, 5.02, 5.2, 4.66, 4.06, 4.66, 3.88, 4.42, 6.22, 6.34, 4.9, 4.12, 5.8, 6.28, 4.12, 5.8, 5.08, 3.8200000000000003, 4.06, 5.8, 5.38, 6.34, 6.16, 5.2, 4.42, 5.62, 5.14, 5.8, 4.78, 5.68, 5.5600000000000005, 5.38, 4.12, 4.96, 5.44, 5.92, 4.9, 3.76, 5.14, 5.5600000000000005, 3.76, 5.32, 4.06, 6.1, 4.6, 5.8, 4.48, 4.84, 4.48, 5.98, 5.8, 4.96, 4.84, 4.96, 7.0, 2.38, 4.72, 4.84, 4.9, 5.92, 6.46, 5.5, 5.14, 4.84, 3.58, 5.14, 5.44, 4.42, 4.36, 6.64, 6.46, 4.42, 5.5600000000000005, 4.0, 4.78, 5.74, 3.64, 6.7, 5.26, 4.42, 3.46, 4.72, 5.08, 3.58, 4.24, 5.5600000000000005, 3.8200000000000003, 4.84, 5.5, 5.68, 5.38, 4.42, 6.7, 4.96, 3.2800000000000002, 5.5600000000000005, 5.74, 5.92, 4.9, 6.16, 5.38, 4.9, 5.5600000000000005, 5.2, 4.06, 3.88, 5.92, 4.54, 5.38, 6.04, 5.62, 5.5, 5.08, 6.28, 6.16, 4.72, 5.74, 4.24, 3.22, 4.72, 5.08, 6.52, 4.3, 5.08, 4.6, 5.26, 6.28, 5.5, 4.18, 5.38, 3.58, 5.86, 5.44, 3.16, 5.5, 6.58, 4.0, 4.12, 3.52, 4.84, 4.18, 4.18, 4.06, 4.18, 3.04, 6.52, 5.32, 5.5600000000000005, 4.96, 7.0, 3.2800000000000002, 4.66, 6.22, 6.1, 6.52, 4.36, 4.0, 3.88, 5.62, 4.78, 6.34, 4.24, 5.98, 4.24, 4.96, 4.36, 5.98, 7.0, 6.22, 5.74, 5.5, 5.92, 5.08, 5.68, 4.12, 4.72, 5.44, 5.68, 6.58, 3.64, 4.66, 4.3, 5.26, 5.32, 3.88, 6.88, 3.58, 4.96, 4.24, 4.54, 5.26, 6.04, 3.4, 4.48, 5.2, 6.64, 5.32, 5.44, 4.12, 7.0, 4.24, 5.08, 5.5, 5.86, 4.54, 4.18, 6.4, 5.38, 5.92, 7.0, 5.5600000000000005, 6.7, 6.58, 5.08, 5.74, 4.06, 3.94, 6.04, 4.78, 5.68, 5.44, 5.62, 4.36, 4.6, 6.4, 5.92, 6.1, 4.84, 5.2, 3.7, 5.14, 5.5600000000000005, 4.06, 4.6, 3.16, 3.7, 5.2, 3.58, 5.14, 6.82, 5.44, 3.58, 4.72, 4.84, 5.92, 3.58, 4.9, 5.2, 3.1, 5.62, 5.8, 3.94, 5.44, 4.18, 4.18, 5.62, 6.7, 3.94, 5.5, 6.7, 3.04, 5.68, 5.92, 4.12, 4.6, 4.48, 4.24, 4.42, 5.02, 5.44, 6.4, 5.02, 4.66, 5.8, 4.72, 3.46, 3.64, 4.42, 5.38, 6.04, 4.42, 5.26, 5.38, 5.86, 4.66, 5.74, 6.7, 4.72, 5.98, 4.78, 5.26, 5.74, 5.44, 5.5600000000000005, 4.24, 4.6, 4.48, 5.68, 3.04, 5.62, 2.62, 6.16, 5.14, 4.66, 6.94, 3.94, 5.5600000000000005, 4.9, 4.96, 5.5600000000000005, 6.16, 4.96, 4.3, 4.78, 5.8, 3.8200000000000003, 5.74, 5.8, 4.42, 4.84, 5.08, 4.54, 5.5, 3.2800000000000002, 4.12, 4.96, 5.44, 5.74, 4.3, 4.3, 4.84, 5.86, 4.3, 5.92, 5.08, 4.84, 6.28, 5.38, 5.98, 4.3, 5.62, 5.74, 1.9, 6.04, 4.78, 4.9, 4.36, 4.66, 5.68, 6.58, 6.04, 5.02, 6.76, 5.5, 5.02, 6.34, 5.68, 5.98, 6.16, 6.64, 4.12, 4.6, 4.72, 6.94, 5.5600000000000005, 4.3, 4.54, 4.42, 5.74, 6.28, 5.5600000000000005, 5.44, 3.58, 4.06, 4.6, 4.9, 5.86, 5.74, 5.2, 4.66, 5.2, 5.02, 4.84, 5.14, 5.5600000000000005, 7.0, 4.96, 5.92, 5.2, 4.24, 5.68, 3.4, 4.84, 5.14, 5.14, 5.38, 5.02, 5.32, 4.72, 6.28, 4.06, 4.18, 5.26, 6.46, 4.72, 2.68, 6.04, 5.02, 5.14, 4.42, 5.08, 5.92, 3.8200000000000003, 4.12, 6.94, 5.2, 5.02, 5.86, 5.08, 3.94, 5.8, 5.5600000000000005, 5.02, 4.78, 5.02, 6.04, 5.08, 6.52, 5.62, 4.0, 6.04, 5.62, 5.44, 5.2, 4.0, 5.92, 4.9, 4.18, 5.02, 6.46, 5.32, 5.62, 4.96, 3.88, 4.24, 4.72, 5.26, 4.84, 6.04, 5.8, 4.84, 4.54, 5.44, 1.6, 4.72, 5.86, 4.84, 7.0, 3.94, 3.64, 4.24, 5.08, 6.28, 4.72, 6.4, 4.54, 5.44, 4.36, 4.24, 6.4, 3.76, 3.94, 4.18, 2.92, 5.68, 5.68, 5.02, 5.92, 5.44, 5.5, 6.94, 5.2, 5.74, 5.02, 5.2, 5.5, 5.8, 3.58, 2.8, 5.26, 3.16, 5.86, 4.72, 5.5600000000000005], \"xaxis\": \"x\", \"y\": [\"writing score\", \"writing score\", \"writing score\", \"writing score\", \"writing score\", \"writing score\", \"writing score\", \"writing score\", \"writing score\", \"writing score\", \"writing score\", \"writing score\", \"writing score\", \"writing score\", \"writing score\", \"writing score\", \"writing score\", \"writing score\", \"writing score\", \"writing score\", \"writing score\", \"writing score\", \"writing score\", \"writing score\", \"writing score\", \"writing score\", \"writing score\", \"writing score\", \"writing score\", \"writing score\", \"writing score\", \"writing score\", \"writing score\", \"writing score\", \"writing score\", \"writing score\", \"writing score\", \"writing score\", \"writing score\", \"writing score\", \"writing score\", \"writing score\", \"writing score\", \"writing score\", \"writing score\", \"writing score\", \"writing score\", \"writing score\", \"writing score\", \"writing score\", \"writing score\", \"writing score\", \"writing score\", \"writing score\", \"writing score\", \"writing score\", \"writing score\", \"writing score\", \"writing score\", \"writing score\", \"writing score\", \"writing score\", \"writing score\", \"writing score\", \"writing score\", \"writing score\", \"writing score\", \"writing score\", \"writing score\", \"writing score\", \"writing score\", \"writing score\", \"writing score\", \"writing score\", \"writing score\", \"writing score\", \"writing score\", \"writing score\", \"writing score\", \"writing score\", \"writing score\", \"writing score\", \"writing score\", \"writing score\", \"writing score\", \"writing score\", \"writing score\", \"writing score\", \"writing score\", \"writing score\", \"writing score\", \"writing score\", \"writing score\", \"writing score\", \"writing score\", \"writing score\", \"writing score\", \"writing score\", \"writing score\", \"writing score\", \"writing score\", \"writing score\", \"writing score\", \"writing score\", \"writing score\", \"writing score\", \"writing score\", \"writing score\", \"writing score\", \"writing score\", \"writing score\", \"writing score\", \"writing score\", \"writing score\", \"writing score\", \"writing score\", \"writing score\", \"writing score\", \"writing score\", \"writing score\", \"writing score\", \"writing score\", \"writing score\", \"writing score\", \"writing score\", \"writing score\", \"writing score\", \"writing score\", \"writing score\", \"writing score\", \"writing score\", \"writing score\", \"writing score\", \"writing score\", \"writing score\", \"writing score\", \"writing score\", \"writing score\", \"writing score\", \"writing score\", \"writing score\", \"writing score\", \"writing score\", \"writing score\", \"writing score\", \"writing score\", \"writing score\", \"writing score\", \"writing score\", \"writing score\", \"writing score\", \"writing score\", \"writing score\", \"writing score\", \"writing score\", \"writing score\", \"writing score\", \"writing score\", \"writing score\", \"writing score\", \"writing score\", \"writing score\", \"writing score\", \"writing score\", \"writing score\", \"writing score\", \"writing score\", \"writing score\", \"writing score\", \"writing score\", \"writing score\", \"writing score\", \"writing score\", \"writing score\", \"writing score\", \"writing score\", \"writing score\", \"writing score\", \"writing score\", \"writing score\", \"writing score\", \"writing score\", \"writing score\", \"writing score\", \"writing score\", \"writing score\", \"writing score\", \"writing score\", \"writing score\", \"writing score\", \"writing score\", \"writing score\", \"writing score\", \"writing score\", \"writing score\", \"writing score\", \"writing score\", \"writing score\", \"writing score\", \"writing score\", \"writing score\", \"writing score\", \"writing score\", \"writing score\", \"writing score\", \"writing score\", \"writing score\", \"writing score\", \"writing score\", \"writing score\", \"writing score\", \"writing score\", \"writing score\", \"writing score\", \"writing score\", \"writing score\", \"writing score\", \"writing score\", \"writing score\", \"writing score\", \"writing score\", \"writing score\", \"writing score\", \"writing score\", \"writing score\", \"writing score\", \"writing score\", \"writing score\", \"writing score\", \"writing score\", \"writing score\", \"writing score\", \"writing score\", \"writing score\", \"writing score\", \"writing score\", \"writing score\", \"writing score\", \"writing score\", \"writing score\", \"writing score\", \"writing score\", \"writing score\", \"writing score\", \"writing score\", \"writing score\", \"writing score\", \"writing score\", \"writing score\", \"writing score\", \"writing score\", \"writing score\", \"writing score\", \"writing score\", \"writing score\", \"writing score\", \"writing score\", \"writing score\", \"writing score\", \"writing score\", \"writing score\", \"writing score\", \"writing score\", \"writing score\", \"writing score\", \"writing score\", \"writing score\", \"writing score\", \"writing score\", \"writing score\", \"writing score\", \"writing score\", \"writing score\", \"writing score\", \"writing score\", \"writing score\", \"writing score\", \"writing score\", \"writing score\", \"writing score\", \"writing score\", \"writing score\", \"writing score\", \"writing score\", \"writing score\", \"writing score\", \"writing score\", \"writing score\", \"writing score\", \"writing score\", \"writing score\", \"writing score\", \"writing score\", \"writing score\", \"writing score\", \"writing score\", \"writing score\", \"writing score\", \"writing score\", \"writing score\", \"writing score\", \"writing score\", \"writing score\", \"writing score\", \"writing score\", \"writing score\", \"writing score\", \"writing score\", \"writing score\", \"writing score\", \"writing score\", \"writing score\", \"writing score\", \"writing score\", \"writing score\", \"writing score\", \"writing score\", \"writing score\", \"writing score\", \"writing score\", \"writing score\", \"writing score\", \"writing score\", \"writing score\", \"writing score\", \"writing score\", \"writing score\", \"writing score\", \"writing score\", \"writing score\", \"writing score\", \"writing score\", \"writing score\", \"writing score\", \"writing score\", \"writing score\", \"writing score\", \"writing score\", \"writing score\", \"writing score\", \"writing score\", \"writing score\", \"writing score\", \"writing score\", \"writing score\", \"writing score\", \"writing score\", \"writing score\", \"writing score\", \"writing score\", \"writing score\", \"writing score\", \"writing score\", \"writing score\", \"writing score\", \"writing score\", \"writing score\", \"writing score\", \"writing score\", \"writing score\", \"writing score\", \"writing score\", \"writing score\", \"writing score\", \"writing score\", \"writing score\", \"writing score\", \"writing score\", \"writing score\", \"writing score\", \"writing score\", \"writing score\", \"writing score\", \"writing score\", \"writing score\", \"writing score\", \"writing score\", \"writing score\", \"writing score\", \"writing score\", \"writing score\", \"writing score\", \"writing score\", \"writing score\", \"writing score\", \"writing score\", \"writing score\", \"writing score\", \"writing score\", \"writing score\", \"writing score\", \"writing score\", \"writing score\", \"writing score\", \"writing score\", \"writing score\", \"writing score\", \"writing score\", \"writing score\", \"writing score\", \"writing score\", \"writing score\", \"writing score\", \"writing score\", \"writing score\", \"writing score\", \"writing score\", \"writing score\", \"writing score\", \"writing score\", \"writing score\", \"writing score\", \"writing score\", \"writing score\", \"writing score\", \"writing score\", \"writing score\", \"writing score\", \"writing score\", \"writing score\", \"writing score\", \"writing score\", \"writing score\", \"writing score\", \"writing score\", \"writing score\", \"writing score\", \"writing score\", \"writing score\", \"writing score\", \"writing score\", \"writing score\", \"writing score\", \"writing score\", \"writing score\", \"writing score\", \"writing score\", \"writing score\", \"writing score\", \"writing score\", \"writing score\", \"writing score\", \"writing score\", \"writing score\", \"writing score\", \"writing score\", \"writing score\", \"writing score\", \"writing score\", \"writing score\", \"writing score\", \"writing score\", \"writing score\", \"writing score\", \"writing score\", \"writing score\", \"writing score\", \"writing score\", \"writing score\", \"writing score\", \"writing score\", \"writing score\", \"writing score\", \"writing score\", \"writing score\", \"writing score\", \"writing score\", \"writing score\", \"writing score\", \"writing score\", \"writing score\", \"writing score\", \"writing score\", \"writing score\", \"writing score\", \"writing score\", \"writing score\", \"writing score\", \"writing score\", \"writing score\", \"writing score\", \"writing score\", \"writing score\", \"writing score\", \"writing score\", \"writing score\", \"writing score\", \"writing score\", \"writing score\", \"writing score\", \"writing score\", \"writing score\", \"writing score\", \"writing score\", \"writing score\", \"writing score\", \"writing score\", \"writing score\", \"writing score\", \"writing score\", \"writing score\", \"writing score\", \"writing score\", \"writing score\", \"writing score\", \"writing score\", \"writing score\", \"writing score\", \"writing score\", \"writing score\", \"writing score\", \"writing score\", \"writing score\", \"writing score\", \"writing score\", \"writing score\", \"writing score\", \"writing score\", \"writing score\", \"writing score\", \"writing score\", \"writing score\", \"writing score\", \"writing score\", \"writing score\", \"writing score\", \"writing score\", \"writing score\", \"writing score\", \"writing score\", \"writing score\", \"writing score\", \"writing score\", \"writing score\", \"writing score\", \"writing score\", \"writing score\", \"writing score\", \"writing score\", \"writing score\", \"writing score\", \"writing score\", \"writing score\", \"writing score\", \"writing score\", \"writing score\", \"writing score\", \"writing score\", \"writing score\", \"writing score\", \"writing score\", \"writing score\", \"writing score\", \"writing score\", \"writing score\", \"writing score\", \"writing score\", \"writing score\", \"writing score\", \"writing score\", \"writing score\", \"writing score\", \"writing score\", \"writing score\", \"writing score\", \"writing score\", \"writing score\", \"writing score\", \"writing score\", \"writing score\", \"writing score\", \"writing score\", \"writing score\", \"writing score\", \"writing score\", \"writing score\", \"writing score\", \"writing score\", \"writing score\", \"writing score\", \"writing score\", \"writing score\", \"writing score\", \"writing score\", \"writing score\", \"writing score\", \"writing score\", \"writing score\", \"writing score\", \"writing score\", \"writing score\", \"writing score\", \"writing score\", \"writing score\", \"writing score\", \"writing score\", \"writing score\", \"writing score\", \"writing score\", \"writing score\", \"writing score\", \"writing score\", \"writing score\", \"writing score\", \"writing score\", \"writing score\", \"writing score\", \"writing score\", \"writing score\", \"writing score\", \"writing score\", \"writing score\", \"writing score\", \"writing score\", \"writing score\", \"writing score\", \"writing score\", \"writing score\", \"writing score\", \"writing score\", \"writing score\", \"writing score\", \"writing score\", \"writing score\", \"writing score\", \"writing score\", \"writing score\", \"writing score\", \"writing score\", \"writing score\", \"writing score\", \"writing score\", \"writing score\", \"writing score\", \"writing score\", \"writing score\", \"writing score\", \"writing score\", \"writing score\", \"writing score\", \"writing score\", \"writing score\", \"writing score\", \"writing score\", \"writing score\", \"writing score\", \"writing score\", \"writing score\", \"writing score\", \"writing score\", \"writing score\", \"writing score\", \"writing score\", \"writing score\", \"writing score\", \"writing score\", \"writing score\", \"writing score\", \"writing score\", \"writing score\", \"writing score\", \"writing score\", \"writing score\", \"writing score\", \"writing score\", \"writing score\", \"writing score\", \"writing score\", \"writing score\", \"writing score\", \"writing score\", \"writing score\", \"writing score\", \"writing score\", \"writing score\", \"writing score\", \"writing score\", \"writing score\", \"writing score\", \"writing score\", \"writing score\", \"writing score\", \"writing score\", \"writing score\", \"writing score\", \"writing score\", \"writing score\", \"writing score\", \"writing score\", \"writing score\", \"writing score\", \"writing score\", \"writing score\", \"writing score\", \"writing score\", \"writing score\", \"writing score\", \"writing score\", \"writing score\", \"writing score\", \"writing score\", \"writing score\", \"writing score\", \"writing score\", \"writing score\", \"writing score\", \"writing score\", \"writing score\", \"writing score\", \"writing score\", \"writing score\", \"writing score\", \"writing score\", \"writing score\", \"writing score\", \"writing score\", \"writing score\", \"writing score\", \"writing score\", \"writing score\", \"writing score\", \"writing score\", \"writing score\", \"writing score\", \"writing score\", \"writing score\", \"writing score\", \"writing score\", \"writing score\", \"writing score\", \"writing score\", \"writing score\", \"writing score\", \"writing score\", \"writing score\", \"writing score\", \"writing score\", \"writing score\", \"writing score\", \"writing score\", \"writing score\", \"writing score\", \"writing score\", \"writing score\", \"writing score\", \"writing score\", \"writing score\", \"writing score\", \"writing score\", \"writing score\", \"writing score\", \"writing score\", \"writing score\", \"writing score\", \"writing score\", \"writing score\", \"writing score\", \"writing score\", \"writing score\", \"writing score\", \"writing score\", \"writing score\", \"writing score\", \"writing score\", \"writing score\", \"writing score\", \"writing score\", \"writing score\", \"writing score\", \"writing score\", \"writing score\", \"writing score\", \"writing score\", \"writing score\", \"writing score\", \"writing score\", \"writing score\", \"writing score\", \"writing score\", \"writing score\", \"writing score\", \"writing score\", \"writing score\", \"writing score\", \"writing score\", \"writing score\", \"writing score\", \"writing score\", \"writing score\", \"writing score\", \"writing score\", \"writing score\", \"writing score\", \"writing score\", \"writing score\", \"writing score\", \"writing score\", \"writing score\", \"writing score\", \"writing score\", \"writing score\", \"writing score\", \"writing score\", \"writing score\", \"writing score\", \"writing score\", \"writing score\", \"writing score\", \"writing score\", \"writing score\", \"writing score\", \"writing score\", \"writing score\", \"writing score\", \"writing score\", \"writing score\", \"writing score\", \"writing score\", \"writing score\", \"writing score\", \"writing score\", \"writing score\", \"writing score\", \"writing score\", \"writing score\", \"writing score\", \"writing score\", \"writing score\", \"writing score\", \"writing score\", \"writing score\", \"writing score\", \"writing score\", \"writing score\", \"writing score\", \"writing score\", \"writing score\", \"writing score\", \"writing score\", \"writing score\", \"writing score\", \"writing score\", \"writing score\", \"writing score\", \"writing score\", \"writing score\", \"writing score\", \"writing score\", \"writing score\", \"writing score\", \"writing score\", \"writing score\", \"writing score\", \"writing score\", \"writing score\", \"writing score\", \"writing score\", \"writing score\", \"writing score\", \"writing score\", \"writing score\", \"writing score\", \"writing score\", \"writing score\", \"writing score\", \"writing score\", \"writing score\", \"writing score\", \"writing score\", \"writing score\", \"writing score\", \"writing score\", \"writing score\", \"writing score\", \"writing score\"], \"yaxis\": \"y\"}, {\"alignmentgroup\": \"True\", \"hoverlabel\": {\"namelength\": 0}, \"hovertemplate\": \"variable=writing score<br>value=%{x}\", \"legendgroup\": \"variable=writing score\", \"marker\": {\"color\": \"#00cc96\"}, \"name\": \"variable=writing score\", \"notched\": true, \"offsetgroup\": \"variable=writing score\", \"showlegend\": false, \"type\": \"box\", \"x\": [3.76, 5.86, 4.78, 5.5600000000000005, 6.22, 5.14, 4.84, 3.46, 4.66, 5.26, 5.92, 5.2, 4.48, 5.32, 4.72, 5.08, 3.76, 5.44, 4.6, 5.08, 5.62, 7.0, 5.44, 4.3, 5.8, 5.2, 5.5, 5.02, 5.68, 6.28, 6.1, 5.44, 4.9, 4.24, 4.72, 4.72, 4.24, 4.78, 4.6, 2.62, 5.5600000000000005, 5.32, 4.42, 4.18, 5.68, 2.62, 5.2, 4.66, 5.02, 4.9, 5.74, 5.26, 4.66, 4.84, 6.1, 4.9, 6.7, 6.1, 4.6, 3.8200000000000003, 4.0, 4.36, 4.12, 6.28, 5.92, 4.66, 4.9, 6.52, 6.16, 5.38, 5.68, 6.46, 5.86, 6.58, 4.48, 5.2, 4.18, 5.68, 6.28, 3.52, 5.44, 5.02, 5.62, 5.68, 4.6, 5.98, 4.66, 5.44, 4.96, 4.84, 5.2, 4.06, 5.2, 4.54, 5.98, 4.24, 6.1, 7.0, 5.32, 3.58, 4.78, 5.92, 5.26, 4.9, 5.68, 3.58, 5.44, 4.6, 6.1, 4.66, 5.5600000000000005, 5.62, 3.7, 6.7, 5.26, 4.42, 5.68, 4.54, 5.44, 3.76, 4.72, 5.68, 5.44, 5.86, 5.32, 5.92, 5.38, 4.0, 4.54, 3.64, 4.42, 4.24, 2.92, 5.38, 5.44, 4.42, 4.12, 5.14, 4.18, 4.24, 3.88, 6.4, 5.5, 5.98, 6.64, 6.52, 6.46, 4.72, 3.7, 4.48, 4.12, 4.78, 4.6, 5.44, 4.54, 6.16, 4.3, 4.24, 4.78, 5.38, 3.76, 6.4, 5.74, 4.48, 4.96, 5.32, 3.46, 3.52, 5.2, 5.32, 5.62, 5.5600000000000005, 5.02, 6.1, 4.96, 4.24, 5.32, 5.08, 6.1, 5.5600000000000005, 4.72, 4.6, 4.48, 4.36, 4.84, 5.5, 5.32, 5.98, 7.0, 4.36, 4.96, 5.02, 5.5600000000000005, 6.76, 5.08, 5.8, 6.22, 4.12, 5.92, 3.8200000000000003, 4.9, 6.04, 5.74, 4.12, 3.46, 5.38, 5.98, 4.9, 5.92, 5.5600000000000005, 5.74, 3.16, 2.98, 3.7, 4.48, 5.74, 5.38, 5.38, 5.2, 4.66, 5.5, 5.08, 3.94, 4.84, 5.38, 5.08, 4.36, 6.16, 5.14, 4.96, 5.2, 5.44, 4.36, 3.7, 4.42, 3.7, 3.8200000000000003, 3.2800000000000002, 5.68, 5.14, 4.06, 6.4, 6.4, 4.06, 4.48, 4.96, 6.64, 2.14, 5.14, 4.36, 3.76, 5.92, 4.42, 7.0, 5.86, 4.24, 6.46, 5.8, 6.04, 5.2, 4.12, 5.08, 5.38, 5.74, 5.2, 6.04, 5.44, 5.14, 5.5, 5.2, 5.08, 3.64, 5.14, 5.08, 5.08, 6.34, 5.32, 4.9, 4.96, 5.14, 5.92, 5.14, 5.14, 5.38, 5.32, 5.62, 6.16, 5.5, 5.8, 4.24, 5.08, 6.58, 5.38, 6.52, 5.44, 6.88, 5.2, 5.38, 5.5, 5.62, 5.86, 4.12, 4.06, 4.06, 6.76, 4.72, 5.44, 5.5, 4.66, 5.02, 5.62, 3.64, 4.72, 7.0, 6.34, 5.8, 5.68, 5.62, 4.66, 5.32, 5.02, 6.16, 4.66, 5.8, 5.02, 4.18, 4.3, 6.22, 5.26, 4.0, 5.86, 5.44, 4.24, 4.3, 4.6, 6.76, 6.58, 6.46, 3.52, 5.98, 4.96, 5.86, 3.46, 4.36, 5.62, 4.48, 4.96, 4.12, 3.8200000000000003, 3.46, 5.08, 4.78, 4.72, 5.26, 3.34, 5.8, 4.66, 5.2, 5.32, 6.34, 5.86, 3.88, 4.3, 4.24, 6.16, 5.2, 5.38, 5.32, 3.8200000000000003, 6.28, 2.32, 5.8, 4.96, 5.8, 5.98, 4.0, 6.22, 6.1, 6.22, 6.1, 6.22, 5.2, 5.02, 5.2, 4.66, 4.06, 4.66, 3.88, 4.42, 6.22, 6.34, 4.9, 4.12, 5.8, 6.28, 4.12, 5.8, 5.08, 3.8200000000000003, 4.06, 5.8, 5.38, 6.34, 6.16, 5.2, 4.42, 5.62, 5.14, 5.8, 4.78, 5.68, 5.5600000000000005, 5.38, 4.12, 4.96, 5.44, 5.92, 4.9, 3.76, 5.14, 5.5600000000000005, 3.76, 5.32, 4.06, 6.1, 4.6, 5.8, 4.48, 4.84, 4.48, 5.98, 5.8, 4.96, 4.84, 4.96, 7.0, 2.38, 4.72, 4.84, 4.9, 5.92, 6.46, 5.5, 5.14, 4.84, 3.58, 5.14, 5.44, 4.42, 4.36, 6.64, 6.46, 4.42, 5.5600000000000005, 4.0, 4.78, 5.74, 3.64, 6.7, 5.26, 4.42, 3.46, 4.72, 5.08, 3.58, 4.24, 5.5600000000000005, 3.8200000000000003, 4.84, 5.5, 5.68, 5.38, 4.42, 6.7, 4.96, 3.2800000000000002, 5.5600000000000005, 5.74, 5.92, 4.9, 6.16, 5.38, 4.9, 5.5600000000000005, 5.2, 4.06, 3.88, 5.92, 4.54, 5.38, 6.04, 5.62, 5.5, 5.08, 6.28, 6.16, 4.72, 5.74, 4.24, 3.22, 4.72, 5.08, 6.52, 4.3, 5.08, 4.6, 5.26, 6.28, 5.5, 4.18, 5.38, 3.58, 5.86, 5.44, 3.16, 5.5, 6.58, 4.0, 4.12, 3.52, 4.84, 4.18, 4.18, 4.06, 4.18, 3.04, 6.52, 5.32, 5.5600000000000005, 4.96, 7.0, 3.2800000000000002, 4.66, 6.22, 6.1, 6.52, 4.36, 4.0, 3.88, 5.62, 4.78, 6.34, 4.24, 5.98, 4.24, 4.96, 4.36, 5.98, 7.0, 6.22, 5.74, 5.5, 5.92, 5.08, 5.68, 4.12, 4.72, 5.44, 5.68, 6.58, 3.64, 4.66, 4.3, 5.26, 5.32, 3.88, 6.88, 3.58, 4.96, 4.24, 4.54, 5.26, 6.04, 3.4, 4.48, 5.2, 6.64, 5.32, 5.44, 4.12, 7.0, 4.24, 5.08, 5.5, 5.86, 4.54, 4.18, 6.4, 5.38, 5.92, 7.0, 5.5600000000000005, 6.7, 6.58, 5.08, 5.74, 4.06, 3.94, 6.04, 4.78, 5.68, 5.44, 5.62, 4.36, 4.6, 6.4, 5.92, 6.1, 4.84, 5.2, 3.7, 5.14, 5.5600000000000005, 4.06, 4.6, 3.16, 3.7, 5.2, 3.58, 5.14, 6.82, 5.44, 3.58, 4.72, 4.84, 5.92, 3.58, 4.9, 5.2, 3.1, 5.62, 5.8, 3.94, 5.44, 4.18, 4.18, 5.62, 6.7, 3.94, 5.5, 6.7, 3.04, 5.68, 5.92, 4.12, 4.6, 4.48, 4.24, 4.42, 5.02, 5.44, 6.4, 5.02, 4.66, 5.8, 4.72, 3.46, 3.64, 4.42, 5.38, 6.04, 4.42, 5.26, 5.38, 5.86, 4.66, 5.74, 6.7, 4.72, 5.98, 4.78, 5.26, 5.74, 5.44, 5.5600000000000005, 4.24, 4.6, 4.48, 5.68, 3.04, 5.62, 2.62, 6.16, 5.14, 4.66, 6.94, 3.94, 5.5600000000000005, 4.9, 4.96, 5.5600000000000005, 6.16, 4.96, 4.3, 4.78, 5.8, 3.8200000000000003, 5.74, 5.8, 4.42, 4.84, 5.08, 4.54, 5.5, 3.2800000000000002, 4.12, 4.96, 5.44, 5.74, 4.3, 4.3, 4.84, 5.86, 4.3, 5.92, 5.08, 4.84, 6.28, 5.38, 5.98, 4.3, 5.62, 5.74, 1.9, 6.04, 4.78, 4.9, 4.36, 4.66, 5.68, 6.58, 6.04, 5.02, 6.76, 5.5, 5.02, 6.34, 5.68, 5.98, 6.16, 6.64, 4.12, 4.6, 4.72, 6.94, 5.5600000000000005, 4.3, 4.54, 4.42, 5.74, 6.28, 5.5600000000000005, 5.44, 3.58, 4.06, 4.6, 4.9, 5.86, 5.74, 5.2, 4.66, 5.2, 5.02, 4.84, 5.14, 5.5600000000000005, 7.0, 4.96, 5.92, 5.2, 4.24, 5.68, 3.4, 4.84, 5.14, 5.14, 5.38, 5.02, 5.32, 4.72, 6.28, 4.06, 4.18, 5.26, 6.46, 4.72, 2.68, 6.04, 5.02, 5.14, 4.42, 5.08, 5.92, 3.8200000000000003, 4.12, 6.94, 5.2, 5.02, 5.86, 5.08, 3.94, 5.8, 5.5600000000000005, 5.02, 4.78, 5.02, 6.04, 5.08, 6.52, 5.62, 4.0, 6.04, 5.62, 5.44, 5.2, 4.0, 5.92, 4.9, 4.18, 5.02, 6.46, 5.32, 5.62, 4.96, 3.88, 4.24, 4.72, 5.26, 4.84, 6.04, 5.8, 4.84, 4.54, 5.44, 1.6, 4.72, 5.86, 4.84, 7.0, 3.94, 3.64, 4.24, 5.08, 6.28, 4.72, 6.4, 4.54, 5.44, 4.36, 4.24, 6.4, 3.76, 3.94, 4.18, 2.92, 5.68, 5.68, 5.02, 5.92, 5.44, 5.5, 6.94, 5.2, 5.74, 5.02, 5.2, 5.5, 5.8, 3.58, 2.8, 5.26, 3.16, 5.86, 4.72, 5.5600000000000005], \"xaxis\": \"x2\", \"yaxis\": \"y2\"}],\n",
              "                        {\"barmode\": \"group\", \"legend\": {\"tracegroupgap\": 0}, \"margin\": {\"t\": 60}, \"template\": {\"data\": {\"bar\": [{\"error_x\": {\"color\": \"#2a3f5f\"}, \"error_y\": {\"color\": \"#2a3f5f\"}, \"marker\": {\"line\": {\"color\": \"#E5ECF6\", \"width\": 0.5}}, \"type\": \"bar\"}], \"barpolar\": [{\"marker\": {\"line\": {\"color\": \"#E5ECF6\", \"width\": 0.5}}, \"type\": \"barpolar\"}], \"carpet\": [{\"aaxis\": {\"endlinecolor\": \"#2a3f5f\", \"gridcolor\": \"white\", \"linecolor\": \"white\", \"minorgridcolor\": \"white\", \"startlinecolor\": \"#2a3f5f\"}, \"baxis\": {\"endlinecolor\": \"#2a3f5f\", \"gridcolor\": \"white\", \"linecolor\": \"white\", \"minorgridcolor\": \"white\", \"startlinecolor\": \"#2a3f5f\"}, \"type\": \"carpet\"}], \"choropleth\": [{\"colorbar\": {\"outlinewidth\": 0, \"ticks\": \"\"}, \"type\": \"choropleth\"}], \"contour\": [{\"colorbar\": {\"outlinewidth\": 0, \"ticks\": \"\"}, \"colorscale\": [[0.0, \"#0d0887\"], [0.1111111111111111, \"#46039f\"], [0.2222222222222222, \"#7201a8\"], [0.3333333333333333, \"#9c179e\"], [0.4444444444444444, \"#bd3786\"], [0.5555555555555556, \"#d8576b\"], [0.6666666666666666, \"#ed7953\"], [0.7777777777777778, \"#fb9f3a\"], [0.8888888888888888, \"#fdca26\"], [1.0, \"#f0f921\"]], \"type\": \"contour\"}], \"contourcarpet\": [{\"colorbar\": {\"outlinewidth\": 0, \"ticks\": \"\"}, \"type\": \"contourcarpet\"}], \"heatmap\": [{\"colorbar\": {\"outlinewidth\": 0, \"ticks\": \"\"}, \"colorscale\": [[0.0, \"#0d0887\"], [0.1111111111111111, \"#46039f\"], [0.2222222222222222, \"#7201a8\"], [0.3333333333333333, \"#9c179e\"], [0.4444444444444444, \"#bd3786\"], [0.5555555555555556, \"#d8576b\"], [0.6666666666666666, \"#ed7953\"], [0.7777777777777778, \"#fb9f3a\"], [0.8888888888888888, \"#fdca26\"], [1.0, \"#f0f921\"]], \"type\": \"heatmap\"}], \"heatmapgl\": [{\"colorbar\": {\"outlinewidth\": 0, \"ticks\": \"\"}, \"colorscale\": [[0.0, \"#0d0887\"], [0.1111111111111111, \"#46039f\"], [0.2222222222222222, \"#7201a8\"], [0.3333333333333333, \"#9c179e\"], [0.4444444444444444, \"#bd3786\"], [0.5555555555555556, \"#d8576b\"], [0.6666666666666666, \"#ed7953\"], [0.7777777777777778, \"#fb9f3a\"], [0.8888888888888888, \"#fdca26\"], [1.0, \"#f0f921\"]], \"type\": \"heatmapgl\"}], \"histogram\": [{\"marker\": {\"colorbar\": {\"outlinewidth\": 0, \"ticks\": \"\"}}, \"type\": \"histogram\"}], \"histogram2d\": [{\"colorbar\": {\"outlinewidth\": 0, \"ticks\": \"\"}, \"colorscale\": [[0.0, \"#0d0887\"], [0.1111111111111111, \"#46039f\"], [0.2222222222222222, \"#7201a8\"], [0.3333333333333333, \"#9c179e\"], [0.4444444444444444, \"#bd3786\"], [0.5555555555555556, \"#d8576b\"], [0.6666666666666666, \"#ed7953\"], [0.7777777777777778, \"#fb9f3a\"], [0.8888888888888888, \"#fdca26\"], [1.0, \"#f0f921\"]], \"type\": \"histogram2d\"}], \"histogram2dcontour\": [{\"colorbar\": {\"outlinewidth\": 0, \"ticks\": \"\"}, \"colorscale\": [[0.0, \"#0d0887\"], [0.1111111111111111, \"#46039f\"], [0.2222222222222222, \"#7201a8\"], [0.3333333333333333, \"#9c179e\"], [0.4444444444444444, \"#bd3786\"], [0.5555555555555556, \"#d8576b\"], [0.6666666666666666, \"#ed7953\"], [0.7777777777777778, \"#fb9f3a\"], [0.8888888888888888, \"#fdca26\"], [1.0, \"#f0f921\"]], \"type\": \"histogram2dcontour\"}], \"mesh3d\": [{\"colorbar\": {\"outlinewidth\": 0, \"ticks\": \"\"}, \"type\": \"mesh3d\"}], \"parcoords\": [{\"line\": {\"colorbar\": {\"outlinewidth\": 0, \"ticks\": \"\"}}, \"type\": \"parcoords\"}], \"pie\": [{\"automargin\": true, \"type\": \"pie\"}], \"scatter\": [{\"marker\": {\"colorbar\": {\"outlinewidth\": 0, \"ticks\": \"\"}}, \"type\": \"scatter\"}], \"scatter3d\": [{\"line\": {\"colorbar\": {\"outlinewidth\": 0, \"ticks\": \"\"}}, \"marker\": {\"colorbar\": {\"outlinewidth\": 0, \"ticks\": \"\"}}, \"type\": \"scatter3d\"}], \"scattercarpet\": [{\"marker\": {\"colorbar\": {\"outlinewidth\": 0, \"ticks\": \"\"}}, \"type\": \"scattercarpet\"}], \"scattergeo\": [{\"marker\": {\"colorbar\": {\"outlinewidth\": 0, \"ticks\": \"\"}}, \"type\": \"scattergeo\"}], \"scattergl\": [{\"marker\": {\"colorbar\": {\"outlinewidth\": 0, \"ticks\": \"\"}}, \"type\": \"scattergl\"}], \"scattermapbox\": [{\"marker\": {\"colorbar\": {\"outlinewidth\": 0, \"ticks\": \"\"}}, \"type\": \"scattermapbox\"}], \"scatterpolar\": [{\"marker\": {\"colorbar\": {\"outlinewidth\": 0, \"ticks\": \"\"}}, \"type\": \"scatterpolar\"}], \"scatterpolargl\": [{\"marker\": {\"colorbar\": {\"outlinewidth\": 0, \"ticks\": \"\"}}, \"type\": \"scatterpolargl\"}], \"scatterternary\": [{\"marker\": {\"colorbar\": {\"outlinewidth\": 0, \"ticks\": \"\"}}, \"type\": \"scatterternary\"}], \"surface\": [{\"colorbar\": {\"outlinewidth\": 0, \"ticks\": \"\"}, \"colorscale\": [[0.0, \"#0d0887\"], [0.1111111111111111, \"#46039f\"], [0.2222222222222222, \"#7201a8\"], [0.3333333333333333, \"#9c179e\"], [0.4444444444444444, \"#bd3786\"], [0.5555555555555556, \"#d8576b\"], [0.6666666666666666, \"#ed7953\"], [0.7777777777777778, \"#fb9f3a\"], [0.8888888888888888, \"#fdca26\"], [1.0, \"#f0f921\"]], \"type\": \"surface\"}], \"table\": [{\"cells\": {\"fill\": {\"color\": \"#EBF0F8\"}, \"line\": {\"color\": \"white\"}}, \"header\": {\"fill\": {\"color\": \"#C8D4E3\"}, \"line\": {\"color\": \"white\"}}, \"type\": \"table\"}]}, \"layout\": {\"annotationdefaults\": {\"arrowcolor\": \"#2a3f5f\", \"arrowhead\": 0, \"arrowwidth\": 1}, \"coloraxis\": {\"colorbar\": {\"outlinewidth\": 0, \"ticks\": \"\"}}, \"colorscale\": {\"diverging\": [[0, \"#8e0152\"], [0.1, \"#c51b7d\"], [0.2, \"#de77ae\"], [0.3, \"#f1b6da\"], [0.4, \"#fde0ef\"], [0.5, \"#f7f7f7\"], [0.6, \"#e6f5d0\"], [0.7, \"#b8e186\"], [0.8, \"#7fbc41\"], [0.9, \"#4d9221\"], [1, \"#276419\"]], \"sequential\": [[0.0, \"#0d0887\"], [0.1111111111111111, \"#46039f\"], [0.2222222222222222, \"#7201a8\"], [0.3333333333333333, \"#9c179e\"], [0.4444444444444444, \"#bd3786\"], [0.5555555555555556, \"#d8576b\"], [0.6666666666666666, \"#ed7953\"], [0.7777777777777778, \"#fb9f3a\"], [0.8888888888888888, \"#fdca26\"], [1.0, \"#f0f921\"]], \"sequentialminus\": [[0.0, \"#0d0887\"], [0.1111111111111111, \"#46039f\"], [0.2222222222222222, \"#7201a8\"], [0.3333333333333333, \"#9c179e\"], [0.4444444444444444, \"#bd3786\"], [0.5555555555555556, \"#d8576b\"], [0.6666666666666666, \"#ed7953\"], [0.7777777777777778, \"#fb9f3a\"], [0.8888888888888888, \"#fdca26\"], [1.0, \"#f0f921\"]]}, \"colorway\": [\"#636efa\", \"#EF553B\", \"#00cc96\", \"#ab63fa\", \"#FFA15A\", \"#19d3f3\", \"#FF6692\", \"#B6E880\", \"#FF97FF\", \"#FECB52\"], \"font\": {\"color\": \"#2a3f5f\"}, \"geo\": {\"bgcolor\": \"white\", \"lakecolor\": \"white\", \"landcolor\": \"#E5ECF6\", \"showlakes\": true, \"showland\": true, \"subunitcolor\": \"white\"}, \"hoverlabel\": {\"align\": \"left\"}, \"hovermode\": \"closest\", \"mapbox\": {\"style\": \"light\"}, \"paper_bgcolor\": \"white\", \"plot_bgcolor\": \"#E5ECF6\", \"polar\": {\"angularaxis\": {\"gridcolor\": \"white\", \"linecolor\": \"white\", \"ticks\": \"\"}, \"bgcolor\": \"#E5ECF6\", \"radialaxis\": {\"gridcolor\": \"white\", \"linecolor\": \"white\", \"ticks\": \"\"}}, \"scene\": {\"xaxis\": {\"backgroundcolor\": \"#E5ECF6\", \"gridcolor\": \"white\", \"gridwidth\": 2, \"linecolor\": \"white\", \"showbackground\": true, \"ticks\": \"\", \"zerolinecolor\": \"white\"}, \"yaxis\": {\"backgroundcolor\": \"#E5ECF6\", \"gridcolor\": \"white\", \"gridwidth\": 2, \"linecolor\": \"white\", \"showbackground\": true, \"ticks\": \"\", \"zerolinecolor\": \"white\"}, \"zaxis\": {\"backgroundcolor\": \"#E5ECF6\", \"gridcolor\": \"white\", \"gridwidth\": 2, \"linecolor\": \"white\", \"showbackground\": true, \"ticks\": \"\", \"zerolinecolor\": \"white\"}}, \"shapedefaults\": {\"line\": {\"color\": \"#2a3f5f\"}}, \"ternary\": {\"aaxis\": {\"gridcolor\": \"white\", \"linecolor\": \"white\", \"ticks\": \"\"}, \"baxis\": {\"gridcolor\": \"white\", \"linecolor\": \"white\", \"ticks\": \"\"}, \"bgcolor\": \"#E5ECF6\", \"caxis\": {\"gridcolor\": \"white\", \"linecolor\": \"white\", \"ticks\": \"\"}}, \"title\": {\"x\": 0.05}, \"xaxis\": {\"automargin\": true, \"gridcolor\": \"white\", \"linecolor\": \"white\", \"ticks\": \"\", \"title\": {\"standoff\": 15}, \"zerolinecolor\": \"white\", \"zerolinewidth\": 2}, \"yaxis\": {\"automargin\": true, \"gridcolor\": \"white\", \"linecolor\": \"white\", \"ticks\": \"\", \"title\": {\"standoff\": 15}, \"zerolinecolor\": \"white\", \"zerolinewidth\": 2}}}, \"xaxis\": {\"anchor\": \"y\", \"domain\": [0.0, 1.0], \"title\": {\"text\": \"value\"}}, \"xaxis2\": {\"anchor\": \"y2\", \"domain\": [0.0, 1.0], \"matches\": \"x\", \"showgrid\": true, \"showticklabels\": false}, \"yaxis\": {\"anchor\": \"x\", \"categoryarray\": [\"writing score\", \"reading score\", \"math score\"], \"categoryorder\": \"array\", \"domain\": [0.0, 0.7326], \"title\": {\"text\": \"count of variable\"}}, \"yaxis2\": {\"anchor\": \"x2\", \"categoryarray\": [\"writing score\", \"reading score\", \"math score\"], \"categoryorder\": \"array\", \"domain\": [0.7426, 1.0], \"matches\": \"y2\", \"showgrid\": false, \"showline\": false, \"showticklabels\": false, \"ticks\": \"\"}},\n",
              "                        {\"responsive\": true}\n",
              "                    ).then(function(){\n",
              "                            \n",
              "var gd = document.getElementById('57e8d217-b623-4fad-92e3-6e5cde53e1ad');\n",
              "var x = new MutationObserver(function (mutations, observer) {{\n",
              "        var display = window.getComputedStyle(gd).display;\n",
              "        if (!display || display === 'none') {{\n",
              "            console.log([gd, 'removed!']);\n",
              "            Plotly.purge(gd);\n",
              "            observer.disconnect();\n",
              "        }}\n",
              "}});\n",
              "\n",
              "// Listen for the removal of the full notebook cells\n",
              "var notebookContainer = gd.closest('#notebook-container');\n",
              "if (notebookContainer) {{\n",
              "    x.observe(notebookContainer, {childList: true});\n",
              "}}\n",
              "\n",
              "// Listen for the clearing of the current output cell\n",
              "var outputEl = gd.closest('.output');\n",
              "if (outputEl) {{\n",
              "    x.observe(outputEl, {childList: true});\n",
              "}}\n",
              "\n",
              "                        })\n",
              "                };\n",
              "                \n",
              "            </script>\n",
              "        </div>\n",
              "</body>\n",
              "</html>"
            ]
          },
          "metadata": {}
        }
      ]
    },
    {
      "cell_type": "markdown",
      "metadata": {
        "id": "rO-0mGVlCS95"
      },
      "source": [
        "**Histograma con Faceta:**"
      ]
    },
    {
      "cell_type": "code",
      "metadata": {
        "colab": {
          "base_uri": "https://localhost:8080/",
          "height": 542
        },
        "id": "TeYZhoOcaZR6",
        "outputId": "00b6e4b0-c391-4ea8-83c3-755a8a7e6b9d"
      },
      "source": [
        "df = df_grades.loc[:,['math score','reading score','writing score']]\n",
        "df_m = pd.melt(df)\n",
        "fig = px.histogram(df_m , x = 'value', y = 'variable', color = 'variable', facet_row = 'variable', nbins=20)\n",
        "fig.show()"
      ],
      "execution_count": 14,
      "outputs": [
        {
          "output_type": "display_data",
          "data": {
            "text/html": [
              "<html>\n",
              "<head><meta charset=\"utf-8\" /></head>\n",
              "<body>\n",
              "    <div>\n",
              "            <script src=\"https://cdnjs.cloudflare.com/ajax/libs/mathjax/2.7.5/MathJax.js?config=TeX-AMS-MML_SVG\"></script><script type=\"text/javascript\">if (window.MathJax) {MathJax.Hub.Config({SVG: {font: \"STIX-Web\"}});}</script>\n",
              "                <script type=\"text/javascript\">window.PlotlyConfig = {MathJaxConfig: 'local'};</script>\n",
              "        <script src=\"https://cdn.plot.ly/plotly-latest.min.js\"></script>    \n",
              "            <div id=\"c7340130-546f-4e9e-b749-2d864cf93b5c\" class=\"plotly-graph-div\" style=\"height:525px; width:100%;\"></div>\n",
              "            <script type=\"text/javascript\">\n",
              "                \n",
              "                    window.PLOTLYENV=window.PLOTLYENV || {};\n",
              "                    \n",
              "                if (document.getElementById(\"c7340130-546f-4e9e-b749-2d864cf93b5c\")) {\n",
              "                    Plotly.newPlot(\n",
              "                        'c7340130-546f-4e9e-b749-2d864cf93b5c',\n",
              "                        [{\"alignmentgroup\": \"True\", \"bingroup\": \"x\", \"hoverlabel\": {\"namelength\": 0}, \"hovertemplate\": \"variable=math score<br>value=%{x}<br>count of variable=%{y}\", \"legendgroup\": \"variable=math score\", \"marker\": {\"color\": \"#636efa\"}, \"name\": \"variable=math score\", \"nbinsx\": 20, \"offsetgroup\": \"variable=math score\", \"orientation\": \"v\", \"showlegend\": true, \"type\": \"histogram\", \"x\": [3.22, 5.8, 5.38, 5.86, 6.64, 5.26, 5.5, 3.04, 4.78, 6.64, 4.9, 4.12, 4.72, 5.44, 4.72, 5.38, 3.76, 5.92, 4.78, 4.84, 5.8, 6.58, 5.14, 3.76, 6.16, 4.54, 6.04, 4.84, 5.38, 5.98, 5.5, 5.14, 5.08, 4.42, 4.96, 4.66, 3.4, 4.0, 3.88, 3.16, 5.68, 4.42, 5.14, 3.4, 6.52, 3.1, 4.78, 5.38, 4.78, 4.12, 5.38, 4.78, 5.26, 3.7, 6.1, 5.8, 5.62, 6.46, 4.6, 4.78, 3.4, 4.42, 4.48, 6.82, 5.86, 5.08, 4.54, 6.76, 6.22, 4.42, 6.64, 6.82, 4.9, 5.92, 5.32, 4.72, 3.64, 5.92, 5.5, 4.54, 5.5, 5.32, 5.08, 4.96, 5.02, 6.58, 5.14, 4.78, 3.76, 4.96, 4.72, 3.88, 5.26, 4.24, 5.8, 4.3, 6.4, 6.64, 5.86, 4.18, 4.66, 5.5, 5.44, 4.72, 5.2, 4.54, 4.72, 4.18, 5.8, 5.14, 5.14, 5.14, 3.94, 5.98, 4.9, 5.38, 5.08, 4.84, 4.9, 3.94, 4.48, 4.96, 4.9, 4.9, 5.2, 5.74, 4.0, 4.84, 5.08, 2.92, 5.08, 4.48, 2.14, 5.14, 5.32, 4.18, 4.66, 5.68, 4.18, 3.7, 3.64, 5.98, 4.9, 6.28, 6.28, 6.46, 6.04, 4.06, 3.2800000000000002, 3.8200000000000003, 4.96, 4.66, 4.6, 5.26, 3.7, 5.62, 4.18, 4.42, 5.32, 5.5600000000000005, 3.7, 6.94, 4.06, 4.84, 4.12, 5.8, 4.06, 4.0, 4.84, 5.44, 5.26, 4.42, 5.14, 5.62, 5.5, 3.58, 5.8, 4.54, 6.1, 4.3, 3.64, 3.52, 4.48, 4.66, 4.0, 6.28, 5.38, 5.02, 6.82, 4.66, 4.72, 4.24, 4.96, 5.68, 6.1, 6.04, 5.5600000000000005, 3.64, 5.86, 4.24, 4.48, 5.86, 5.32, 5.26, 4.66, 4.96, 5.26, 5.26, 6.34, 5.38, 5.86, 3.76, 2.32, 3.88, 3.64, 6.46, 5.5600000000000005, 5.62, 4.72, 5.02, 6.16, 4.48, 4.18, 4.42, 5.14, 4.72, 3.22, 6.28, 6.4, 5.08, 4.9, 4.78, 4.12, 3.88, 4.9, 4.24, 2.74, 2.56, 5.2, 5.5, 4.6, 6.88, 6.58, 4.54, 3.76, 5.5600000000000005, 5.74, 2.68, 4.3, 4.66, 3.1, 6.64, 3.76, 7.0, 5.02, 4.0, 5.74, 5.26, 5.98, 4.3, 3.88, 5.5600000000000005, 5.62, 4.72, 4.36, 5.08, 6.04, 5.8, 4.72, 4.6, 4.84, 2.74, 4.12, 4.18, 5.02, 5.92, 4.36, 5.74, 5.38, 4.96, 5.38, 4.96, 6.04, 5.44, 5.5600000000000005, 5.86, 5.74, 5.08, 4.78, 4.0, 5.32, 6.1, 5.98, 6.04, 4.9, 6.1, 5.2, 4.48, 6.16, 4.84, 4.9, 4.66, 3.94, 4.18, 6.82, 5.5, 5.32, 5.44, 4.54, 5.08, 5.68, 4.18, 5.32, 6.94, 5.74, 6.46, 5.98, 5.32, 4.66, 5.38, 4.54, 7.0, 4.66, 5.62, 5.26, 3.94, 4.72, 6.16, 5.5, 3.8200000000000003, 4.78, 5.2, 5.08, 4.66, 5.26, 5.86, 7.0, 5.62, 4.18, 5.26, 5.38, 4.9, 3.94, 4.12, 4.9, 4.54, 5.8, 4.72, 4.42, 3.76, 4.48, 5.02, 5.38, 5.32, 3.4, 5.68, 4.78, 4.66, 5.74, 5.62, 5.2, 4.18, 3.7, 3.4, 5.92, 5.68, 5.5, 5.2, 4.3, 5.2, 2.8, 5.5, 4.78, 5.92, 5.44, 4.24, 5.26, 5.38, 5.62, 5.62, 6.22, 6.22, 5.44, 5.02, 3.58, 3.94, 3.94, 4.18, 4.84, 4.66, 5.74, 5.14, 4.24, 4.9, 5.62, 4.48, 5.38, 4.24, 4.24, 4.84, 4.54, 5.5600000000000005, 6.1, 6.82, 4.18, 4.12, 5.62, 5.74, 4.42, 4.96, 4.78, 4.9, 5.08, 4.3, 5.32, 6.16, 6.82, 5.5, 4.12, 5.44, 5.2, 3.34, 4.66, 3.64, 6.22, 4.96, 5.08, 4.72, 5.86, 5.2, 5.44, 5.5600000000000005, 4.54, 5.08, 5.38, 7.0, 1.48, 4.9, 3.4, 3.88, 6.34, 5.62, 4.9, 5.14, 5.08, 3.94, 4.72, 4.36, 3.76, 4.6, 6.46, 6.4, 5.38, 5.2, 3.8200000000000003, 4.9, 5.86, 4.3, 6.58, 4.9, 4.72, 3.88, 5.08, 4.96, 4.3, 3.52, 5.44, 3.22, 4.96, 6.28, 5.14, 4.66, 3.34, 6.22, 4.84, 3.64, 4.54, 5.8, 5.26, 4.18, 5.68, 4.3, 5.2, 4.9, 6.16, 4.24, 3.46, 6.4, 4.54, 4.9, 5.02, 6.34, 4.54, 5.38, 5.44, 6.16, 4.66, 4.42, 4.48, 3.7, 4.78, 5.02, 6.64, 4.36, 4.72, 5.2, 5.2, 5.5600000000000005, 4.84, 3.8200000000000003, 4.96, 3.4, 4.96, 5.08, 4.06, 6.28, 6.4, 4.12, 3.94, 4.18, 5.26, 4.0, 4.48, 3.52, 5.02, 3.34, 6.1, 5.68, 5.38, 5.08, 6.34, 3.4, 5.92, 5.62, 5.14, 5.74, 4.18, 3.58, 4.48, 6.28, 5.14, 6.1, 5.14, 5.32, 4.42, 4.48, 4.72, 5.5, 6.28, 5.86, 5.02, 5.02, 5.44, 5.26, 6.1, 4.36, 5.92, 4.6, 5.86, 6.22, 3.76, 4.48, 4.72, 5.5600000000000005, 4.6, 4.0, 5.62, 4.84, 4.66, 4.6, 5.02, 4.84, 6.4, 4.18, 3.88, 4.6, 5.92, 4.48, 4.6, 4.96, 6.1, 3.94, 5.62, 5.02, 5.14, 4.0, 4.72, 5.98, 5.86, 5.32, 6.52, 5.26, 6.28, 5.92, 5.26, 5.5, 4.06, 4.72, 5.5, 4.78, 5.26, 5.02, 5.26, 4.66, 4.36, 6.88, 5.92, 5.5, 4.54, 5.26, 3.64, 5.62, 4.9, 4.42, 4.6, 2.62, 4.48, 5.2, 3.2800000000000002, 3.52, 7.0, 6.34, 3.1, 5.62, 4.72, 5.74, 3.76, 4.54, 4.96, 3.8200000000000003, 5.62, 5.68, 4.12, 5.2, 4.48, 5.08, 5.14, 6.22, 4.12, 5.32, 6.1, 3.46, 4.66, 5.02, 4.24, 4.78, 4.12, 4.72, 4.48, 4.72, 4.9, 5.44, 5.74, 5.08, 4.78, 4.12, 4.54, 4.3, 4.96, 5.44, 6.46, 5.44, 5.86, 5.74, 6.4, 4.24, 5.68, 6.28, 4.72, 5.8, 5.8, 5.26, 5.5, 4.6, 6.28, 4.3, 4.0, 3.52, 5.14, 3.52, 4.48, 2.44, 5.02, 4.54, 4.54, 6.76, 3.7, 6.28, 5.32, 4.66, 5.86, 5.74, 3.8200000000000003, 3.94, 4.24, 5.26, 4.54, 6.34, 4.54, 4.42, 5.62, 5.62, 4.6, 5.5600000000000005, 2.92, 3.94, 5.5600000000000005, 4.84, 4.78, 4.0, 3.64, 4.96, 5.02, 4.66, 5.14, 4.9, 4.18, 6.22, 4.18, 4.96, 3.94, 5.02, 4.3, 2.8, 5.38, 4.72, 5.74, 4.78, 4.12, 4.48, 5.68, 5.44, 5.08, 5.92, 5.38, 4.54, 5.44, 6.04, 5.02, 6.22, 5.62, 4.48, 5.14, 4.9, 6.52, 6.22, 5.14, 5.38, 4.66, 5.02, 5.14, 5.44, 4.84, 3.16, 3.46, 3.94, 4.54, 6.04, 5.5600000000000005, 4.66, 4.72, 5.02, 4.24, 4.54, 5.08, 6.46, 6.76, 5.08, 5.44, 5.26, 3.1, 5.86, 4.18, 5.8, 5.5600000000000005, 4.78, 4.42, 4.48, 5.32, 4.3, 5.8, 3.46, 4.06, 6.1, 5.86, 4.12, 2.08, 5.38, 4.78, 4.54, 4.78, 4.78, 5.8, 4.6, 4.84, 6.88, 4.54, 4.9, 6.22, 4.96, 4.12, 5.38, 6.22, 5.74, 5.14, 3.8200000000000003, 6.52, 4.42, 6.28, 5.74, 5.26, 5.86, 4.9, 5.92, 4.9, 3.4, 5.38, 4.36, 5.14, 5.02, 6.46, 5.02, 4.9, 4.48, 4.3, 3.88, 4.18, 6.1, 4.72, 4.9, 5.92, 5.62, 4.0, 5.14, 1.0, 4.9, 5.14, 5.32, 7.0, 4.9, 3.8200000000000003, 4.06, 5.26, 5.92, 4.3, 5.5, 4.96, 5.32, 5.2, 4.42, 6.04, 4.66, 3.7, 4.9, 2.62, 6.28, 4.9, 4.78, 5.68, 4.9, 6.4, 7.0, 5.02, 5.44, 5.5600000000000005, 4.96, 4.54, 4.72, 3.46, 2.74, 5.14, 2.38, 4.96, 4.24, 5.08], \"xaxis\": \"x3\", \"y\": [\"math score\", \"math score\", \"math score\", \"math score\", \"math score\", \"math score\", \"math score\", \"math score\", \"math score\", \"math score\", \"math score\", \"math score\", \"math score\", \"math score\", \"math score\", \"math score\", \"math score\", \"math score\", \"math score\", \"math score\", \"math score\", \"math score\", \"math score\", \"math score\", \"math score\", \"math score\", \"math score\", \"math score\", \"math score\", \"math score\", \"math score\", \"math score\", \"math score\", \"math score\", \"math score\", \"math score\", \"math score\", \"math score\", \"math score\", \"math score\", \"math score\", \"math score\", \"math score\", \"math score\", \"math score\", \"math score\", \"math score\", \"math score\", \"math score\", \"math score\", \"math score\", \"math score\", \"math score\", \"math score\", \"math score\", \"math score\", \"math score\", \"math score\", \"math score\", \"math score\", \"math score\", \"math score\", \"math score\", \"math score\", \"math score\", \"math score\", \"math score\", \"math score\", \"math score\", \"math score\", \"math score\", \"math score\", \"math score\", \"math score\", \"math score\", \"math score\", \"math score\", \"math score\", \"math score\", \"math score\", \"math score\", \"math score\", \"math score\", \"math score\", \"math score\", \"math score\", \"math score\", \"math score\", \"math score\", \"math score\", \"math score\", \"math score\", \"math score\", \"math score\", \"math score\", \"math score\", \"math score\", \"math score\", \"math score\", \"math score\", \"math score\", \"math score\", \"math score\", \"math score\", \"math score\", \"math score\", \"math score\", \"math score\", \"math score\", \"math score\", \"math score\", \"math score\", \"math score\", \"math score\", \"math score\", \"math score\", \"math score\", \"math score\", \"math score\", \"math score\", \"math score\", \"math score\", \"math score\", \"math score\", \"math score\", \"math score\", \"math score\", \"math score\", \"math score\", \"math score\", \"math score\", \"math score\", \"math score\", \"math score\", \"math score\", \"math score\", \"math score\", \"math score\", \"math score\", \"math score\", \"math score\", \"math score\", \"math score\", \"math score\", \"math score\", \"math score\", \"math score\", \"math score\", \"math score\", \"math score\", \"math score\", \"math score\", \"math score\", \"math score\", \"math score\", \"math score\", \"math score\", \"math score\", \"math score\", \"math score\", \"math score\", \"math score\", \"math score\", \"math score\", \"math score\", \"math score\", \"math score\", \"math score\", \"math score\", \"math score\", \"math score\", \"math score\", \"math score\", \"math score\", \"math score\", \"math score\", \"math score\", \"math score\", \"math score\", \"math score\", \"math score\", \"math score\", \"math score\", \"math score\", \"math score\", \"math score\", \"math score\", \"math score\", \"math score\", \"math score\", \"math score\", \"math score\", \"math score\", \"math score\", \"math score\", \"math score\", \"math score\", \"math score\", \"math score\", \"math score\", \"math score\", \"math score\", \"math score\", \"math score\", \"math score\", \"math score\", \"math score\", \"math score\", \"math score\", \"math score\", \"math score\", \"math score\", \"math score\", \"math score\", \"math score\", \"math score\", \"math score\", \"math score\", \"math score\", \"math score\", \"math score\", \"math score\", \"math score\", \"math score\", \"math score\", \"math score\", \"math score\", \"math score\", \"math score\", \"math score\", \"math score\", \"math score\", \"math score\", \"math score\", \"math score\", \"math score\", \"math score\", \"math score\", \"math score\", \"math score\", \"math score\", \"math score\", \"math score\", \"math score\", \"math score\", \"math score\", \"math score\", \"math score\", \"math score\", \"math score\", \"math score\", \"math score\", \"math score\", \"math score\", \"math score\", \"math score\", \"math score\", \"math score\", \"math score\", \"math score\", \"math score\", \"math score\", \"math score\", \"math score\", \"math score\", \"math score\", \"math score\", \"math score\", \"math score\", \"math score\", \"math score\", \"math score\", \"math score\", \"math score\", \"math score\", \"math score\", \"math score\", \"math score\", \"math score\", \"math score\", \"math score\", \"math score\", \"math score\", \"math score\", \"math score\", \"math score\", \"math score\", \"math score\", \"math score\", \"math score\", \"math score\", \"math score\", \"math score\", \"math score\", \"math score\", \"math score\", \"math score\", \"math score\", \"math score\", \"math score\", \"math score\", \"math score\", \"math score\", \"math score\", \"math score\", \"math score\", \"math score\", \"math score\", \"math score\", \"math score\", \"math score\", \"math score\", \"math score\", \"math score\", \"math score\", \"math score\", \"math score\", \"math score\", \"math score\", \"math score\", \"math score\", \"math score\", \"math score\", \"math score\", \"math score\", \"math score\", \"math score\", \"math score\", \"math score\", \"math score\", \"math score\", \"math score\", \"math score\", \"math score\", \"math score\", \"math score\", \"math score\", \"math score\", \"math score\", \"math score\", \"math score\", \"math score\", \"math score\", \"math score\", \"math score\", \"math score\", \"math score\", \"math score\", \"math score\", \"math score\", \"math score\", \"math score\", \"math score\", \"math score\", \"math score\", \"math score\", \"math score\", \"math score\", \"math score\", \"math score\", \"math score\", \"math score\", \"math score\", \"math score\", \"math score\", \"math score\", \"math score\", \"math score\", \"math score\", \"math score\", \"math score\", \"math score\", \"math score\", \"math score\", \"math score\", \"math score\", \"math score\", \"math score\", \"math score\", \"math score\", \"math score\", \"math score\", \"math score\", \"math score\", \"math score\", \"math score\", \"math score\", \"math score\", \"math score\", \"math score\", \"math score\", \"math score\", \"math score\", \"math score\", \"math score\", \"math score\", \"math score\", \"math score\", \"math score\", \"math score\", \"math score\", \"math score\", \"math score\", \"math score\", \"math score\", \"math score\", \"math score\", \"math score\", \"math score\", \"math score\", \"math score\", \"math score\", \"math score\", \"math score\", \"math score\", \"math score\", \"math score\", \"math score\", \"math score\", \"math score\", \"math score\", \"math score\", \"math score\", \"math score\", \"math score\", \"math score\", \"math score\", \"math score\", \"math score\", \"math score\", \"math score\", \"math score\", \"math score\", \"math score\", \"math score\", \"math score\", \"math score\", \"math score\", \"math score\", \"math score\", \"math score\", \"math score\", \"math score\", \"math score\", \"math score\", \"math score\", \"math score\", \"math score\", \"math score\", \"math score\", \"math score\", \"math score\", \"math score\", \"math score\", \"math score\", \"math score\", \"math score\", \"math score\", \"math score\", \"math score\", \"math score\", \"math score\", \"math score\", \"math score\", \"math score\", \"math score\", \"math score\", \"math score\", \"math score\", \"math score\", \"math score\", \"math score\", \"math score\", \"math score\", \"math score\", \"math score\", \"math score\", \"math score\", \"math score\", \"math score\", \"math score\", \"math score\", \"math score\", \"math score\", \"math score\", \"math score\", \"math score\", \"math score\", \"math score\", \"math score\", \"math score\", \"math score\", \"math score\", \"math score\", \"math score\", \"math score\", \"math score\", \"math score\", \"math score\", \"math score\", \"math score\", \"math score\", \"math score\", \"math score\", \"math score\", \"math score\", \"math score\", \"math score\", \"math score\", \"math score\", \"math score\", \"math score\", \"math score\", \"math score\", \"math score\", \"math score\", \"math score\", \"math score\", \"math score\", \"math score\", \"math score\", \"math score\", \"math score\", \"math score\", \"math score\", \"math score\", \"math score\", \"math score\", \"math score\", \"math score\", \"math score\", \"math score\", \"math score\", \"math score\", \"math score\", \"math score\", \"math score\", \"math score\", \"math score\", \"math score\", \"math score\", \"math score\", \"math score\", \"math score\", \"math score\", \"math score\", \"math score\", \"math score\", \"math score\", \"math score\", \"math score\", \"math score\", \"math score\", \"math score\", \"math score\", \"math score\", \"math score\", \"math score\", \"math score\", \"math score\", \"math score\", \"math score\", \"math score\", \"math score\", \"math score\", \"math score\", \"math score\", \"math score\", \"math score\", \"math score\", \"math score\", \"math score\", \"math score\", \"math score\", \"math score\", \"math score\", \"math score\", \"math score\", \"math score\", \"math score\", \"math score\", \"math score\", \"math score\", \"math score\", \"math score\", \"math score\", \"math score\", \"math score\", \"math score\", \"math score\", \"math score\", \"math score\", \"math score\", \"math score\", \"math score\", \"math score\", \"math score\", \"math score\", \"math score\", \"math score\", \"math score\", \"math score\", \"math score\", \"math score\", \"math score\", \"math score\", \"math score\", \"math score\", \"math score\", \"math score\", \"math score\", \"math score\", \"math score\", \"math score\", \"math score\", \"math score\", \"math score\", \"math score\", \"math score\", \"math score\", \"math score\", \"math score\", \"math score\", \"math score\", \"math score\", \"math score\", \"math score\", \"math score\", \"math score\", \"math score\", \"math score\", \"math score\", \"math score\", \"math score\", \"math score\", \"math score\", \"math score\", \"math score\", \"math score\", \"math score\", \"math score\", \"math score\", \"math score\", \"math score\", \"math score\", \"math score\", \"math score\", \"math score\", \"math score\", \"math score\", \"math score\", \"math score\", \"math score\", \"math score\", \"math score\", \"math score\", \"math score\", \"math score\", \"math score\", \"math score\", \"math score\", \"math score\", \"math score\", \"math score\", \"math score\", \"math score\", \"math score\", \"math score\", \"math score\", \"math score\", \"math score\", \"math score\", \"math score\", \"math score\", \"math score\", \"math score\", \"math score\", \"math score\", \"math score\", \"math score\", \"math score\", \"math score\", \"math score\", \"math score\", \"math score\", \"math score\", \"math score\", \"math score\", \"math score\", \"math score\", \"math score\", \"math score\", \"math score\", \"math score\", \"math score\", \"math score\", \"math score\", \"math score\", \"math score\", \"math score\", \"math score\", \"math score\", \"math score\", \"math score\", \"math score\", \"math score\", \"math score\", \"math score\", \"math score\", \"math score\", \"math score\", \"math score\", \"math score\", \"math score\", \"math score\", \"math score\", \"math score\", \"math score\", \"math score\", \"math score\", \"math score\", \"math score\", \"math score\", \"math score\", \"math score\", \"math score\", \"math score\", \"math score\", \"math score\", \"math score\", \"math score\", \"math score\", \"math score\", \"math score\", \"math score\", \"math score\", \"math score\", \"math score\", \"math score\", \"math score\", \"math score\", \"math score\", \"math score\", \"math score\", \"math score\", \"math score\", \"math score\", \"math score\", \"math score\", \"math score\", \"math score\", \"math score\", \"math score\", \"math score\", \"math score\", \"math score\", \"math score\", \"math score\", \"math score\", \"math score\", \"math score\", \"math score\", \"math score\", \"math score\", \"math score\", \"math score\", \"math score\", \"math score\", \"math score\", \"math score\", \"math score\", \"math score\", \"math score\", \"math score\", \"math score\", \"math score\", \"math score\", \"math score\", \"math score\", \"math score\", \"math score\", \"math score\", \"math score\", \"math score\", \"math score\", \"math score\", \"math score\", \"math score\", \"math score\", \"math score\", \"math score\", \"math score\", \"math score\", \"math score\", \"math score\", \"math score\", \"math score\", \"math score\", \"math score\", \"math score\", \"math score\", \"math score\", \"math score\", \"math score\", \"math score\", \"math score\", \"math score\", \"math score\", \"math score\", \"math score\", \"math score\", \"math score\", \"math score\", \"math score\", \"math score\", \"math score\", \"math score\", \"math score\", \"math score\", \"math score\", \"math score\", \"math score\", \"math score\", \"math score\", \"math score\", \"math score\", \"math score\", \"math score\", \"math score\", \"math score\", \"math score\", \"math score\", \"math score\", \"math score\", \"math score\", \"math score\", \"math score\", \"math score\", \"math score\", \"math score\", \"math score\", \"math score\", \"math score\", \"math score\", \"math score\", \"math score\", \"math score\", \"math score\", \"math score\", \"math score\", \"math score\", \"math score\", \"math score\", \"math score\", \"math score\", \"math score\", \"math score\", \"math score\", \"math score\", \"math score\", \"math score\", \"math score\", \"math score\", \"math score\", \"math score\", \"math score\", \"math score\", \"math score\", \"math score\", \"math score\", \"math score\", \"math score\", \"math score\", \"math score\", \"math score\"], \"yaxis\": \"y3\"}, {\"alignmentgroup\": \"True\", \"bingroup\": \"x\", \"hoverlabel\": {\"namelength\": 0}, \"hovertemplate\": \"variable=reading score<br>value=%{x}<br>count of variable=%{y}\", \"legendgroup\": \"variable=reading score\", \"marker\": {\"color\": \"#EF553B\"}, \"name\": \"variable=reading score\", \"nbinsx\": 20, \"offsetgroup\": \"variable=reading score\", \"orientation\": \"v\", \"showlegend\": true, \"type\": \"histogram\", \"x\": [3.76, 5.68, 4.96, 5.5, 6.16, 4.66, 5.08, 3.88, 4.66, 5.38, 5.68, 5.5600000000000005, 4.9, 5.44, 4.42, 5.14, 3.52, 5.92, 4.66, 5.38, 5.5, 7.0, 5.5600000000000005, 4.66, 5.86, 5.32, 5.98, 4.84, 5.5600000000000005, 6.16, 6.28, 5.44, 5.32, 4.66, 4.84, 4.66, 4.54, 5.02, 4.72, 2.74, 5.74, 5.02, 4.48, 4.3, 6.22, 2.68, 5.02, 5.44, 4.84, 4.54, 5.74, 5.38, 4.6, 4.54, 6.52, 5.5600000000000005, 6.64, 6.1, 4.72, 3.88, 3.88, 4.24, 4.24, 5.92, 5.92, 4.9, 5.26, 6.4, 6.04, 5.5, 6.28, 6.58, 5.86, 6.58, 4.42, 5.44, 4.24, 6.04, 6.4, 3.46, 5.38, 5.08, 5.68, 5.44, 4.72, 6.4, 4.78, 5.44, 4.84, 5.08, 5.38, 4.36, 5.2, 5.32, 5.98, 4.54, 6.22, 6.94, 5.38, 3.58, 5.08, 6.1, 5.86, 5.32, 5.68, 4.06, 5.32, 4.0, 6.1, 4.96, 5.68, 5.62, 3.7, 6.58, 4.66, 4.84, 5.98, 4.96, 5.62, 4.42, 5.02, 5.68, 5.2, 5.74, 5.08, 5.86, 5.02, 4.24, 4.6, 4.06, 4.06, 4.42, 3.2800000000000002, 5.62, 5.74, 4.48, 4.06, 5.32, 4.72, 4.36, 4.06, 5.98, 5.5600000000000005, 5.68, 6.7, 6.34, 6.22, 4.96, 3.94, 4.18, 4.42, 5.38, 5.08, 5.26, 4.78, 6.16, 4.48, 4.06, 4.84, 5.26, 3.88, 6.58, 5.32, 4.6, 4.66, 5.38, 4.24, 3.88, 5.38, 5.44, 5.62, 5.44, 5.2, 6.4, 5.44, 4.06, 5.08, 5.32, 5.86, 5.5600000000000005, 4.78, 4.72, 4.54, 3.8200000000000003, 4.96, 5.44, 5.68, 6.16, 7.0, 4.48, 4.84, 4.78, 5.26, 6.46, 5.5, 6.04, 6.64, 4.66, 6.04, 3.94, 4.78, 5.92, 5.86, 3.94, 3.52, 5.62, 5.5600000000000005, 4.96, 6.28, 5.98, 5.86, 3.04, 3.34, 4.12, 4.84, 5.86, 5.8, 5.68, 5.32, 4.84, 5.86, 5.2, 4.12, 4.48, 5.38, 4.96, 4.42, 6.34, 5.5, 5.2, 5.5, 5.14, 4.42, 3.58, 4.24, 4.24, 3.46, 2.86, 5.5, 5.44, 4.42, 6.22, 6.04, 4.24, 4.24, 4.84, 6.28, 2.38, 5.26, 4.42, 4.18, 6.1, 4.48, 7.0, 5.8, 3.8200000000000003, 6.04, 5.86, 5.92, 4.84, 4.48, 5.38, 5.62, 5.68, 5.08, 6.16, 5.62, 5.5, 5.2, 4.96, 4.72, 3.4, 4.9, 4.66, 4.66, 6.7, 5.74, 5.5600000000000005, 5.08, 5.44, 6.16, 4.9, 5.38, 5.62, 5.26, 5.32, 6.34, 5.26, 5.68, 4.36, 4.9, 6.52, 5.68, 6.7, 5.62, 6.16, 5.2, 4.78, 5.8, 5.92, 5.86, 4.3, 4.06, 4.06, 6.82, 5.32, 5.38, 5.74, 5.02, 5.08, 5.62, 4.48, 4.42, 7.0, 6.34, 5.38, 5.32, 5.74, 4.72, 5.44, 4.24, 6.76, 4.96, 5.74, 5.02, 4.18, 4.66, 6.52, 5.86, 4.54, 5.5, 5.5, 4.78, 4.36, 4.96, 6.82, 7.0, 6.4, 3.64, 5.98, 5.08, 5.92, 3.94, 4.54, 5.5, 4.6, 4.84, 3.94, 3.58, 3.58, 5.38, 4.24, 4.96, 5.32, 3.58, 5.98, 4.9, 5.32, 5.44, 5.92, 6.04, 4.24, 4.18, 4.48, 6.1, 5.32, 4.96, 4.84, 4.3, 6.34, 2.56, 6.04, 4.84, 5.92, 5.86, 4.54, 6.04, 6.04, 6.28, 6.28, 6.04, 5.44, 5.38, 4.84, 4.72, 4.12, 4.9, 4.24, 4.18, 6.16, 6.52, 5.26, 4.12, 6.16, 6.46, 4.66, 5.5600000000000005, 4.84, 4.18, 4.48, 5.32, 5.44, 6.04, 6.52, 5.2, 4.3, 5.5600000000000005, 5.32, 5.62, 5.14, 5.38, 6.1, 5.02, 4.48, 4.96, 5.5600000000000005, 6.22, 5.08, 3.94, 5.2, 5.92, 4.12, 5.44, 4.0, 6.04, 4.9, 5.62, 5.02, 4.96, 4.78, 5.5, 5.68, 5.2, 5.08, 4.96, 7.0, 2.44, 4.84, 4.9, 4.96, 6.04, 5.92, 5.38, 5.62, 5.32, 4.06, 5.14, 5.08, 4.36, 4.06, 6.7, 6.4, 4.36, 5.32, 3.94, 4.9, 5.62, 3.76, 7.0, 5.2, 4.66, 3.7, 4.54, 5.14, 3.76, 4.3, 5.62, 4.36, 4.78, 5.68, 5.62, 5.26, 4.84, 7.0, 4.78, 3.46, 5.68, 5.74, 6.22, 4.48, 5.86, 5.38, 5.2, 5.14, 5.38, 4.12, 4.06, 6.4, 4.48, 5.86, 5.74, 6.04, 4.78, 5.26, 6.4, 5.98, 4.48, 5.68, 4.12, 3.22, 4.78, 5.38, 6.22, 4.12, 4.96, 4.9, 5.44, 5.98, 5.44, 4.24, 5.44, 4.12, 5.44, 5.44, 2.86, 6.04, 6.7, 4.42, 4.18, 4.12, 5.44, 3.88, 4.3, 4.12, 4.42, 3.34, 6.4, 5.44, 5.68, 5.2, 7.0, 3.52, 5.02, 6.1, 6.04, 6.16, 4.72, 3.7, 4.3, 5.62, 5.2, 6.46, 4.6, 5.8, 4.0, 4.66, 4.78, 5.62, 6.94, 6.46, 5.68, 5.14, 5.74, 5.44, 6.04, 4.24, 4.72, 4.84, 5.5, 6.1, 3.58, 5.08, 4.3, 5.32, 5.08, 3.52, 6.34, 4.0, 5.08, 4.54, 4.42, 5.38, 6.1, 3.7, 4.36, 5.2, 6.4, 5.02, 5.5, 4.54, 6.7, 4.12, 5.14, 5.5600000000000005, 5.74, 4.6, 4.36, 6.1, 5.26, 5.74, 7.0, 5.2, 6.94, 6.58, 5.14, 5.92, 3.94, 4.3, 5.86, 4.3, 5.98, 5.32, 5.98, 4.36, 4.66, 6.16, 6.04, 6.28, 4.72, 5.5, 3.7, 5.08, 5.5600000000000005, 3.88, 4.6, 3.04, 4.0, 4.84, 3.58, 4.96, 6.52, 5.5600000000000005, 3.64, 4.72, 4.84, 5.92, 3.46, 5.2, 5.62, 3.22, 5.08, 5.62, 3.88, 5.26, 4.42, 4.24, 5.32, 6.64, 4.18, 5.8, 6.34, 3.34, 5.26, 6.34, 3.88, 4.78, 4.48, 4.3, 4.6, 5.02, 5.62, 6.28, 5.38, 5.08, 5.8, 5.2, 3.52, 3.8200000000000003, 4.6, 5.5600000000000005, 6.16, 4.78, 5.44, 5.92, 5.68, 4.48, 5.92, 6.52, 5.02, 6.16, 4.78, 5.74, 6.16, 5.32, 5.5, 4.66, 4.6, 4.66, 5.5, 3.34, 5.5, 3.2800000000000002, 6.04, 4.72, 4.72, 6.76, 3.8200000000000003, 6.1, 5.02, 5.02, 5.8, 6.1, 4.72, 4.48, 4.6, 5.26, 4.48, 6.22, 6.1, 4.48, 5.02, 5.02, 4.78, 5.68, 3.04, 4.42, 4.72, 5.5600000000000005, 5.68, 4.18, 4.06, 4.72, 6.04, 4.6, 6.04, 5.38, 5.32, 6.4, 4.96, 5.98, 4.9, 5.44, 5.32, 2.44, 6.52, 4.72, 4.6, 4.42, 4.9, 5.5600000000000005, 6.4, 6.34, 5.5600000000000005, 6.82, 5.2, 4.96, 6.16, 5.98, 6.16, 6.7, 6.82, 4.06, 4.96, 4.96, 7.0, 5.44, 4.24, 5.02, 4.6, 5.86, 6.4, 5.86, 4.6, 4.18, 4.12, 4.48, 5.14, 6.22, 5.98, 5.32, 5.02, 5.5, 4.84, 4.78, 5.02, 5.44, 7.0, 4.84, 5.5, 5.5600000000000005, 4.66, 5.68, 3.22, 5.5600000000000005, 5.2, 5.26, 5.08, 5.2, 4.96, 4.9, 6.52, 4.3, 4.36, 5.5600000000000005, 6.52, 4.54, 2.92, 5.74, 5.02, 5.38, 4.6, 5.38, 6.4, 3.64, 4.36, 7.0, 5.26, 5.14, 6.46, 5.5600000000000005, 4.3, 5.5, 6.04, 5.02, 4.6, 4.48, 5.74, 5.14, 6.7, 5.68, 4.72, 5.86, 5.86, 5.68, 5.14, 3.76, 5.8, 5.32, 4.48, 5.32, 6.76, 5.5, 5.44, 4.54, 3.46, 4.48, 4.66, 4.96, 5.02, 6.04, 5.92, 4.72, 4.84, 4.9, 2.02, 5.02, 6.16, 5.02, 7.0, 4.48, 4.42, 4.06, 5.44, 5.92, 4.9, 5.92, 4.96, 5.32, 4.3, 4.36, 6.34, 3.88, 4.12, 4.54, 3.04, 5.38, 5.92, 4.96, 5.86, 5.32, 6.22, 6.82, 5.44, 5.5, 5.02, 5.32, 4.84, 5.5600000000000005, 3.76, 2.74, 5.5, 3.64, 5.44, 4.66, 5.8], \"xaxis\": \"x2\", \"y\": [\"reading score\", \"reading score\", \"reading score\", \"reading score\", \"reading score\", \"reading score\", \"reading score\", \"reading score\", \"reading score\", \"reading score\", \"reading score\", \"reading score\", \"reading score\", \"reading score\", \"reading score\", \"reading score\", \"reading score\", \"reading score\", \"reading score\", \"reading score\", \"reading score\", \"reading score\", \"reading score\", \"reading score\", \"reading score\", \"reading score\", \"reading score\", \"reading score\", \"reading score\", \"reading score\", \"reading score\", \"reading score\", \"reading score\", \"reading score\", \"reading score\", \"reading score\", \"reading score\", \"reading score\", \"reading score\", \"reading score\", \"reading score\", \"reading score\", \"reading score\", \"reading score\", \"reading score\", \"reading score\", \"reading score\", \"reading score\", \"reading score\", \"reading score\", \"reading score\", \"reading score\", \"reading score\", \"reading score\", \"reading score\", \"reading score\", \"reading score\", \"reading score\", \"reading score\", \"reading score\", \"reading score\", \"reading score\", \"reading score\", \"reading score\", \"reading score\", \"reading score\", \"reading score\", \"reading score\", \"reading score\", \"reading score\", \"reading score\", \"reading score\", \"reading score\", \"reading score\", \"reading score\", \"reading score\", \"reading score\", \"reading score\", \"reading score\", \"reading score\", \"reading score\", \"reading score\", \"reading score\", \"reading score\", \"reading score\", \"reading score\", \"reading score\", \"reading score\", \"reading score\", \"reading score\", \"reading score\", \"reading score\", \"reading score\", \"reading score\", \"reading score\", \"reading score\", \"reading score\", \"reading score\", \"reading score\", \"reading score\", \"reading score\", \"reading score\", \"reading score\", \"reading score\", \"reading score\", \"reading score\", \"reading score\", \"reading score\", \"reading score\", \"reading score\", \"reading score\", \"reading score\", \"reading score\", \"reading score\", \"reading score\", \"reading score\", \"reading score\", \"reading score\", \"reading score\", \"reading score\", \"reading score\", \"reading score\", \"reading score\", \"reading score\", \"reading score\", \"reading score\", \"reading score\", \"reading score\", \"reading score\", \"reading score\", \"reading score\", \"reading score\", \"reading score\", \"reading score\", \"reading score\", \"reading score\", \"reading score\", \"reading score\", \"reading score\", \"reading score\", \"reading score\", \"reading score\", \"reading score\", \"reading score\", \"reading score\", \"reading score\", \"reading score\", \"reading score\", \"reading score\", \"reading score\", \"reading score\", \"reading score\", \"reading score\", \"reading score\", \"reading score\", \"reading score\", \"reading score\", \"reading score\", \"reading score\", \"reading score\", \"reading score\", \"reading score\", \"reading score\", \"reading score\", \"reading score\", \"reading score\", \"reading score\", \"reading score\", \"reading score\", \"reading score\", \"reading score\", \"reading score\", \"reading score\", \"reading score\", \"reading score\", \"reading score\", \"reading score\", \"reading score\", \"reading score\", \"reading score\", \"reading score\", \"reading score\", \"reading score\", \"reading score\", \"reading score\", \"reading score\", \"reading score\", \"reading score\", \"reading score\", \"reading score\", \"reading score\", \"reading score\", \"reading score\", \"reading score\", \"reading score\", \"reading score\", \"reading score\", \"reading score\", \"reading score\", \"reading score\", \"reading score\", \"reading score\", \"reading score\", \"reading score\", \"reading score\", \"reading score\", \"reading score\", \"reading score\", \"reading score\", \"reading score\", \"reading score\", \"reading score\", \"reading score\", \"reading score\", \"reading score\", \"reading score\", \"reading score\", \"reading score\", \"reading score\", \"reading score\", \"reading score\", \"reading score\", \"reading score\", \"reading score\", \"reading score\", \"reading score\", \"reading score\", \"reading score\", \"reading score\", \"reading score\", \"reading score\", \"reading score\", \"reading score\", \"reading score\", \"reading score\", \"reading score\", \"reading score\", \"reading score\", \"reading score\", \"reading score\", \"reading score\", \"reading score\", \"reading score\", \"reading score\", \"reading score\", \"reading score\", \"reading score\", \"reading score\", \"reading score\", \"reading score\", \"reading score\", \"reading score\", \"reading score\", \"reading score\", \"reading score\", \"reading score\", \"reading score\", \"reading score\", \"reading score\", \"reading score\", \"reading score\", \"reading score\", \"reading score\", \"reading score\", \"reading score\", \"reading score\", \"reading score\", \"reading score\", \"reading score\", \"reading score\", \"reading score\", \"reading score\", \"reading score\", \"reading score\", \"reading score\", \"reading score\", \"reading score\", \"reading score\", \"reading score\", \"reading score\", \"reading score\", \"reading score\", \"reading score\", \"reading score\", \"reading score\", \"reading score\", \"reading score\", \"reading score\", \"reading score\", \"reading score\", \"reading score\", \"reading score\", \"reading score\", \"reading score\", \"reading score\", \"reading score\", \"reading score\", \"reading score\", \"reading score\", \"reading score\", \"reading score\", \"reading score\", \"reading score\", \"reading score\", \"reading score\", \"reading score\", \"reading score\", \"reading score\", \"reading score\", \"reading score\", \"reading score\", \"reading score\", \"reading score\", \"reading score\", \"reading score\", \"reading score\", \"reading score\", \"reading score\", \"reading score\", \"reading score\", \"reading score\", \"reading score\", \"reading score\", \"reading score\", \"reading score\", \"reading score\", \"reading score\", \"reading score\", \"reading score\", \"reading score\", \"reading score\", \"reading score\", \"reading score\", \"reading score\", \"reading score\", \"reading score\", \"reading score\", \"reading score\", \"reading score\", \"reading score\", \"reading score\", \"reading score\", \"reading score\", \"reading score\", \"reading score\", \"reading score\", \"reading score\", \"reading score\", \"reading score\", \"reading score\", \"reading score\", \"reading score\", \"reading score\", \"reading score\", \"reading score\", \"reading score\", \"reading score\", \"reading score\", \"reading score\", \"reading score\", \"reading score\", \"reading score\", \"reading score\", \"reading score\", \"reading score\", \"reading score\", \"reading score\", \"reading score\", \"reading score\", \"reading score\", \"reading score\", \"reading score\", \"reading score\", \"reading score\", \"reading score\", \"reading score\", \"reading score\", \"reading score\", \"reading score\", \"reading score\", \"reading score\", \"reading score\", \"reading score\", \"reading score\", \"reading score\", \"reading score\", \"reading score\", \"reading score\", \"reading score\", \"reading score\", \"reading score\", \"reading score\", \"reading score\", \"reading score\", \"reading score\", \"reading score\", \"reading score\", \"reading score\", \"reading score\", \"reading score\", \"reading score\", \"reading score\", \"reading score\", \"reading score\", \"reading score\", \"reading score\", \"reading score\", \"reading score\", \"reading score\", \"reading score\", \"reading score\", \"reading score\", \"reading score\", \"reading score\", \"reading score\", \"reading score\", \"reading score\", \"reading score\", \"reading score\", \"reading score\", \"reading score\", \"reading score\", \"reading score\", \"reading score\", \"reading score\", \"reading score\", \"reading score\", \"reading score\", \"reading score\", \"reading score\", \"reading score\", \"reading score\", \"reading score\", \"reading score\", \"reading score\", \"reading score\", \"reading score\", \"reading score\", \"reading score\", \"reading score\", \"reading score\", \"reading score\", \"reading score\", \"reading score\", \"reading score\", \"reading score\", \"reading score\", \"reading score\", \"reading score\", \"reading score\", \"reading score\", \"reading score\", \"reading score\", \"reading score\", \"reading score\", \"reading score\", \"reading score\", \"reading score\", \"reading score\", \"reading score\", \"reading score\", \"reading score\", \"reading score\", \"reading score\", \"reading score\", \"reading score\", \"reading score\", \"reading score\", \"reading score\", \"reading score\", \"reading score\", \"reading score\", \"reading score\", \"reading score\", \"reading score\", \"reading score\", \"reading score\", \"reading score\", \"reading score\", \"reading score\", \"reading score\", \"reading score\", \"reading score\", \"reading score\", \"reading score\", \"reading score\", \"reading score\", \"reading score\", \"reading score\", \"reading score\", \"reading score\", \"reading score\", \"reading score\", \"reading score\", \"reading score\", \"reading score\", \"reading score\", \"reading score\", \"reading score\", \"reading score\", \"reading score\", \"reading score\", \"reading score\", \"reading score\", \"reading score\", \"reading score\", \"reading score\", \"reading score\", \"reading score\", \"reading score\", \"reading score\", \"reading score\", \"reading score\", \"reading score\", \"reading score\", \"reading score\", \"reading score\", \"reading score\", \"reading score\", \"reading score\", \"reading score\", \"reading score\", \"reading score\", \"reading score\", \"reading score\", \"reading score\", \"reading score\", \"reading score\", \"reading score\", \"reading score\", \"reading score\", \"reading score\", \"reading score\", \"reading score\", \"reading score\", \"reading score\", \"reading score\", \"reading score\", \"reading score\", \"reading score\", \"reading score\", \"reading score\", \"reading score\", \"reading score\", \"reading score\", \"reading score\", \"reading score\", \"reading score\", \"reading score\", \"reading score\", \"reading score\", \"reading score\", \"reading score\", \"reading score\", \"reading score\", \"reading score\", \"reading score\", \"reading score\", \"reading score\", \"reading score\", \"reading score\", \"reading score\", \"reading score\", \"reading score\", \"reading score\", \"reading score\", \"reading score\", \"reading score\", \"reading score\", \"reading score\", \"reading score\", \"reading score\", \"reading score\", \"reading score\", \"reading score\", \"reading score\", \"reading score\", \"reading score\", \"reading score\", \"reading score\", \"reading score\", \"reading score\", \"reading score\", \"reading score\", \"reading score\", \"reading score\", \"reading score\", \"reading score\", \"reading score\", \"reading score\", \"reading score\", \"reading score\", \"reading score\", \"reading score\", \"reading score\", \"reading score\", \"reading score\", \"reading score\", \"reading score\", \"reading score\", \"reading score\", \"reading score\", \"reading score\", \"reading score\", \"reading score\", \"reading score\", \"reading score\", \"reading score\", \"reading score\", \"reading score\", \"reading score\", \"reading score\", \"reading score\", \"reading score\", \"reading score\", \"reading score\", \"reading score\", \"reading score\", \"reading score\", \"reading score\", \"reading score\", \"reading score\", \"reading score\", \"reading score\", \"reading score\", \"reading score\", \"reading score\", \"reading score\", \"reading score\", \"reading score\", \"reading score\", \"reading score\", \"reading score\", \"reading score\", \"reading score\", \"reading score\", \"reading score\", \"reading score\", \"reading score\", \"reading score\", \"reading score\", \"reading score\", \"reading score\", \"reading score\", \"reading score\", \"reading score\", \"reading score\", \"reading score\", \"reading score\", \"reading score\", \"reading score\", \"reading score\", \"reading score\", \"reading score\", \"reading score\", \"reading score\", \"reading score\", \"reading score\", \"reading score\", \"reading score\", \"reading score\", \"reading score\", \"reading score\", \"reading score\", \"reading score\", \"reading score\", \"reading score\", \"reading score\", \"reading score\", \"reading score\", \"reading score\", \"reading score\", \"reading score\", \"reading score\", \"reading score\", \"reading score\", \"reading score\", \"reading score\", \"reading score\", \"reading score\", \"reading score\", \"reading score\", \"reading score\", \"reading score\", \"reading score\", \"reading score\", \"reading score\", \"reading score\", \"reading score\", \"reading score\", \"reading score\", \"reading score\", \"reading score\", \"reading score\", \"reading score\", \"reading score\", \"reading score\", \"reading score\", \"reading score\", \"reading score\", \"reading score\", \"reading score\", \"reading score\", \"reading score\", \"reading score\", \"reading score\", \"reading score\", \"reading score\", \"reading score\", \"reading score\", \"reading score\", \"reading score\", \"reading score\", \"reading score\", \"reading score\", \"reading score\", \"reading score\", \"reading score\", \"reading score\", \"reading score\", \"reading score\", \"reading score\", \"reading score\", \"reading score\", \"reading score\", \"reading score\", \"reading score\", \"reading score\", \"reading score\", \"reading score\", \"reading score\", \"reading score\", \"reading score\", \"reading score\", \"reading score\", \"reading score\", \"reading score\", \"reading score\", \"reading score\", \"reading score\", \"reading score\", \"reading score\", \"reading score\", \"reading score\", \"reading score\", \"reading score\", \"reading score\", \"reading score\", \"reading score\", \"reading score\", \"reading score\", \"reading score\", \"reading score\", \"reading score\", \"reading score\", \"reading score\", \"reading score\", \"reading score\", \"reading score\", \"reading score\", \"reading score\", \"reading score\", \"reading score\", \"reading score\", \"reading score\", \"reading score\", \"reading score\", \"reading score\", \"reading score\", \"reading score\", \"reading score\", \"reading score\", \"reading score\", \"reading score\", \"reading score\", \"reading score\", \"reading score\", \"reading score\", \"reading score\", \"reading score\", \"reading score\", \"reading score\", \"reading score\", \"reading score\", \"reading score\", \"reading score\", \"reading score\", \"reading score\", \"reading score\", \"reading score\", \"reading score\", \"reading score\", \"reading score\", \"reading score\", \"reading score\", \"reading score\", \"reading score\", \"reading score\", \"reading score\", \"reading score\", \"reading score\", \"reading score\", \"reading score\", \"reading score\", \"reading score\", \"reading score\", \"reading score\", \"reading score\", \"reading score\", \"reading score\", \"reading score\", \"reading score\", \"reading score\", \"reading score\", \"reading score\", \"reading score\", \"reading score\", \"reading score\", \"reading score\", \"reading score\", \"reading score\", \"reading score\", \"reading score\", \"reading score\", \"reading score\", \"reading score\", \"reading score\", \"reading score\", \"reading score\", \"reading score\", \"reading score\", \"reading score\", \"reading score\", \"reading score\", \"reading score\", \"reading score\", \"reading score\", \"reading score\", \"reading score\", \"reading score\", \"reading score\", \"reading score\", \"reading score\", \"reading score\", \"reading score\", \"reading score\", \"reading score\", \"reading score\", \"reading score\", \"reading score\", \"reading score\", \"reading score\", \"reading score\", \"reading score\", \"reading score\", \"reading score\", \"reading score\", \"reading score\", \"reading score\", \"reading score\", \"reading score\", \"reading score\", \"reading score\", \"reading score\", \"reading score\", \"reading score\", \"reading score\", \"reading score\", \"reading score\", \"reading score\", \"reading score\", \"reading score\", \"reading score\", \"reading score\", \"reading score\"], \"yaxis\": \"y2\"}, {\"alignmentgroup\": \"True\", \"bingroup\": \"x\", \"hoverlabel\": {\"namelength\": 0}, \"hovertemplate\": \"variable=writing score<br>value=%{x}<br>count of variable=%{y}\", \"legendgroup\": \"variable=writing score\", \"marker\": {\"color\": \"#00cc96\"}, \"name\": \"variable=writing score\", \"nbinsx\": 20, \"offsetgroup\": \"variable=writing score\", \"orientation\": \"v\", \"showlegend\": true, \"type\": \"histogram\", \"x\": [3.76, 5.86, 4.78, 5.5600000000000005, 6.22, 5.14, 4.84, 3.46, 4.66, 5.26, 5.92, 5.2, 4.48, 5.32, 4.72, 5.08, 3.76, 5.44, 4.6, 5.08, 5.62, 7.0, 5.44, 4.3, 5.8, 5.2, 5.5, 5.02, 5.68, 6.28, 6.1, 5.44, 4.9, 4.24, 4.72, 4.72, 4.24, 4.78, 4.6, 2.62, 5.5600000000000005, 5.32, 4.42, 4.18, 5.68, 2.62, 5.2, 4.66, 5.02, 4.9, 5.74, 5.26, 4.66, 4.84, 6.1, 4.9, 6.7, 6.1, 4.6, 3.8200000000000003, 4.0, 4.36, 4.12, 6.28, 5.92, 4.66, 4.9, 6.52, 6.16, 5.38, 5.68, 6.46, 5.86, 6.58, 4.48, 5.2, 4.18, 5.68, 6.28, 3.52, 5.44, 5.02, 5.62, 5.68, 4.6, 5.98, 4.66, 5.44, 4.96, 4.84, 5.2, 4.06, 5.2, 4.54, 5.98, 4.24, 6.1, 7.0, 5.32, 3.58, 4.78, 5.92, 5.26, 4.9, 5.68, 3.58, 5.44, 4.6, 6.1, 4.66, 5.5600000000000005, 5.62, 3.7, 6.7, 5.26, 4.42, 5.68, 4.54, 5.44, 3.76, 4.72, 5.68, 5.44, 5.86, 5.32, 5.92, 5.38, 4.0, 4.54, 3.64, 4.42, 4.24, 2.92, 5.38, 5.44, 4.42, 4.12, 5.14, 4.18, 4.24, 3.88, 6.4, 5.5, 5.98, 6.64, 6.52, 6.46, 4.72, 3.7, 4.48, 4.12, 4.78, 4.6, 5.44, 4.54, 6.16, 4.3, 4.24, 4.78, 5.38, 3.76, 6.4, 5.74, 4.48, 4.96, 5.32, 3.46, 3.52, 5.2, 5.32, 5.62, 5.5600000000000005, 5.02, 6.1, 4.96, 4.24, 5.32, 5.08, 6.1, 5.5600000000000005, 4.72, 4.6, 4.48, 4.36, 4.84, 5.5, 5.32, 5.98, 7.0, 4.36, 4.96, 5.02, 5.5600000000000005, 6.76, 5.08, 5.8, 6.22, 4.12, 5.92, 3.8200000000000003, 4.9, 6.04, 5.74, 4.12, 3.46, 5.38, 5.98, 4.9, 5.92, 5.5600000000000005, 5.74, 3.16, 2.98, 3.7, 4.48, 5.74, 5.38, 5.38, 5.2, 4.66, 5.5, 5.08, 3.94, 4.84, 5.38, 5.08, 4.36, 6.16, 5.14, 4.96, 5.2, 5.44, 4.36, 3.7, 4.42, 3.7, 3.8200000000000003, 3.2800000000000002, 5.68, 5.14, 4.06, 6.4, 6.4, 4.06, 4.48, 4.96, 6.64, 2.14, 5.14, 4.36, 3.76, 5.92, 4.42, 7.0, 5.86, 4.24, 6.46, 5.8, 6.04, 5.2, 4.12, 5.08, 5.38, 5.74, 5.2, 6.04, 5.44, 5.14, 5.5, 5.2, 5.08, 3.64, 5.14, 5.08, 5.08, 6.34, 5.32, 4.9, 4.96, 5.14, 5.92, 5.14, 5.14, 5.38, 5.32, 5.62, 6.16, 5.5, 5.8, 4.24, 5.08, 6.58, 5.38, 6.52, 5.44, 6.88, 5.2, 5.38, 5.5, 5.62, 5.86, 4.12, 4.06, 4.06, 6.76, 4.72, 5.44, 5.5, 4.66, 5.02, 5.62, 3.64, 4.72, 7.0, 6.34, 5.8, 5.68, 5.62, 4.66, 5.32, 5.02, 6.16, 4.66, 5.8, 5.02, 4.18, 4.3, 6.22, 5.26, 4.0, 5.86, 5.44, 4.24, 4.3, 4.6, 6.76, 6.58, 6.46, 3.52, 5.98, 4.96, 5.86, 3.46, 4.36, 5.62, 4.48, 4.96, 4.12, 3.8200000000000003, 3.46, 5.08, 4.78, 4.72, 5.26, 3.34, 5.8, 4.66, 5.2, 5.32, 6.34, 5.86, 3.88, 4.3, 4.24, 6.16, 5.2, 5.38, 5.32, 3.8200000000000003, 6.28, 2.32, 5.8, 4.96, 5.8, 5.98, 4.0, 6.22, 6.1, 6.22, 6.1, 6.22, 5.2, 5.02, 5.2, 4.66, 4.06, 4.66, 3.88, 4.42, 6.22, 6.34, 4.9, 4.12, 5.8, 6.28, 4.12, 5.8, 5.08, 3.8200000000000003, 4.06, 5.8, 5.38, 6.34, 6.16, 5.2, 4.42, 5.62, 5.14, 5.8, 4.78, 5.68, 5.5600000000000005, 5.38, 4.12, 4.96, 5.44, 5.92, 4.9, 3.76, 5.14, 5.5600000000000005, 3.76, 5.32, 4.06, 6.1, 4.6, 5.8, 4.48, 4.84, 4.48, 5.98, 5.8, 4.96, 4.84, 4.96, 7.0, 2.38, 4.72, 4.84, 4.9, 5.92, 6.46, 5.5, 5.14, 4.84, 3.58, 5.14, 5.44, 4.42, 4.36, 6.64, 6.46, 4.42, 5.5600000000000005, 4.0, 4.78, 5.74, 3.64, 6.7, 5.26, 4.42, 3.46, 4.72, 5.08, 3.58, 4.24, 5.5600000000000005, 3.8200000000000003, 4.84, 5.5, 5.68, 5.38, 4.42, 6.7, 4.96, 3.2800000000000002, 5.5600000000000005, 5.74, 5.92, 4.9, 6.16, 5.38, 4.9, 5.5600000000000005, 5.2, 4.06, 3.88, 5.92, 4.54, 5.38, 6.04, 5.62, 5.5, 5.08, 6.28, 6.16, 4.72, 5.74, 4.24, 3.22, 4.72, 5.08, 6.52, 4.3, 5.08, 4.6, 5.26, 6.28, 5.5, 4.18, 5.38, 3.58, 5.86, 5.44, 3.16, 5.5, 6.58, 4.0, 4.12, 3.52, 4.84, 4.18, 4.18, 4.06, 4.18, 3.04, 6.52, 5.32, 5.5600000000000005, 4.96, 7.0, 3.2800000000000002, 4.66, 6.22, 6.1, 6.52, 4.36, 4.0, 3.88, 5.62, 4.78, 6.34, 4.24, 5.98, 4.24, 4.96, 4.36, 5.98, 7.0, 6.22, 5.74, 5.5, 5.92, 5.08, 5.68, 4.12, 4.72, 5.44, 5.68, 6.58, 3.64, 4.66, 4.3, 5.26, 5.32, 3.88, 6.88, 3.58, 4.96, 4.24, 4.54, 5.26, 6.04, 3.4, 4.48, 5.2, 6.64, 5.32, 5.44, 4.12, 7.0, 4.24, 5.08, 5.5, 5.86, 4.54, 4.18, 6.4, 5.38, 5.92, 7.0, 5.5600000000000005, 6.7, 6.58, 5.08, 5.74, 4.06, 3.94, 6.04, 4.78, 5.68, 5.44, 5.62, 4.36, 4.6, 6.4, 5.92, 6.1, 4.84, 5.2, 3.7, 5.14, 5.5600000000000005, 4.06, 4.6, 3.16, 3.7, 5.2, 3.58, 5.14, 6.82, 5.44, 3.58, 4.72, 4.84, 5.92, 3.58, 4.9, 5.2, 3.1, 5.62, 5.8, 3.94, 5.44, 4.18, 4.18, 5.62, 6.7, 3.94, 5.5, 6.7, 3.04, 5.68, 5.92, 4.12, 4.6, 4.48, 4.24, 4.42, 5.02, 5.44, 6.4, 5.02, 4.66, 5.8, 4.72, 3.46, 3.64, 4.42, 5.38, 6.04, 4.42, 5.26, 5.38, 5.86, 4.66, 5.74, 6.7, 4.72, 5.98, 4.78, 5.26, 5.74, 5.44, 5.5600000000000005, 4.24, 4.6, 4.48, 5.68, 3.04, 5.62, 2.62, 6.16, 5.14, 4.66, 6.94, 3.94, 5.5600000000000005, 4.9, 4.96, 5.5600000000000005, 6.16, 4.96, 4.3, 4.78, 5.8, 3.8200000000000003, 5.74, 5.8, 4.42, 4.84, 5.08, 4.54, 5.5, 3.2800000000000002, 4.12, 4.96, 5.44, 5.74, 4.3, 4.3, 4.84, 5.86, 4.3, 5.92, 5.08, 4.84, 6.28, 5.38, 5.98, 4.3, 5.62, 5.74, 1.9, 6.04, 4.78, 4.9, 4.36, 4.66, 5.68, 6.58, 6.04, 5.02, 6.76, 5.5, 5.02, 6.34, 5.68, 5.98, 6.16, 6.64, 4.12, 4.6, 4.72, 6.94, 5.5600000000000005, 4.3, 4.54, 4.42, 5.74, 6.28, 5.5600000000000005, 5.44, 3.58, 4.06, 4.6, 4.9, 5.86, 5.74, 5.2, 4.66, 5.2, 5.02, 4.84, 5.14, 5.5600000000000005, 7.0, 4.96, 5.92, 5.2, 4.24, 5.68, 3.4, 4.84, 5.14, 5.14, 5.38, 5.02, 5.32, 4.72, 6.28, 4.06, 4.18, 5.26, 6.46, 4.72, 2.68, 6.04, 5.02, 5.14, 4.42, 5.08, 5.92, 3.8200000000000003, 4.12, 6.94, 5.2, 5.02, 5.86, 5.08, 3.94, 5.8, 5.5600000000000005, 5.02, 4.78, 5.02, 6.04, 5.08, 6.52, 5.62, 4.0, 6.04, 5.62, 5.44, 5.2, 4.0, 5.92, 4.9, 4.18, 5.02, 6.46, 5.32, 5.62, 4.96, 3.88, 4.24, 4.72, 5.26, 4.84, 6.04, 5.8, 4.84, 4.54, 5.44, 1.6, 4.72, 5.86, 4.84, 7.0, 3.94, 3.64, 4.24, 5.08, 6.28, 4.72, 6.4, 4.54, 5.44, 4.36, 4.24, 6.4, 3.76, 3.94, 4.18, 2.92, 5.68, 5.68, 5.02, 5.92, 5.44, 5.5, 6.94, 5.2, 5.74, 5.02, 5.2, 5.5, 5.8, 3.58, 2.8, 5.26, 3.16, 5.86, 4.72, 5.5600000000000005], \"xaxis\": \"x\", \"y\": [\"writing score\", \"writing score\", \"writing score\", \"writing score\", \"writing score\", \"writing score\", \"writing score\", \"writing score\", \"writing score\", \"writing score\", \"writing score\", \"writing score\", \"writing score\", \"writing score\", \"writing score\", \"writing score\", \"writing score\", \"writing score\", \"writing score\", \"writing score\", \"writing score\", \"writing score\", \"writing score\", \"writing score\", \"writing score\", \"writing score\", \"writing score\", \"writing score\", \"writing score\", \"writing score\", \"writing score\", \"writing score\", \"writing score\", \"writing score\", \"writing score\", \"writing score\", \"writing score\", \"writing score\", \"writing score\", \"writing score\", \"writing score\", \"writing score\", \"writing score\", \"writing score\", \"writing score\", \"writing score\", \"writing score\", \"writing score\", \"writing score\", \"writing score\", \"writing score\", \"writing score\", \"writing score\", \"writing score\", \"writing score\", \"writing score\", \"writing score\", \"writing score\", \"writing score\", \"writing score\", \"writing score\", \"writing score\", \"writing score\", \"writing score\", \"writing score\", \"writing score\", \"writing score\", \"writing score\", \"writing score\", \"writing score\", \"writing score\", \"writing score\", \"writing score\", \"writing score\", \"writing score\", \"writing score\", \"writing score\", \"writing score\", \"writing score\", \"writing score\", \"writing score\", \"writing score\", \"writing score\", \"writing score\", \"writing score\", \"writing score\", \"writing score\", \"writing score\", \"writing score\", \"writing score\", \"writing score\", \"writing score\", \"writing score\", \"writing score\", \"writing score\", \"writing score\", \"writing score\", \"writing score\", \"writing score\", \"writing score\", \"writing score\", \"writing score\", \"writing score\", \"writing score\", \"writing score\", \"writing score\", \"writing score\", \"writing score\", \"writing score\", \"writing score\", \"writing score\", \"writing score\", \"writing score\", \"writing score\", \"writing score\", \"writing score\", \"writing score\", \"writing score\", \"writing score\", \"writing score\", \"writing score\", \"writing score\", \"writing score\", \"writing score\", \"writing score\", \"writing score\", \"writing score\", \"writing score\", \"writing score\", \"writing score\", \"writing score\", \"writing score\", \"writing score\", \"writing score\", \"writing score\", \"writing score\", \"writing score\", \"writing score\", \"writing score\", \"writing score\", \"writing score\", \"writing score\", \"writing score\", \"writing score\", \"writing score\", \"writing score\", \"writing score\", \"writing score\", \"writing score\", \"writing score\", \"writing score\", \"writing score\", \"writing score\", \"writing score\", \"writing score\", \"writing score\", \"writing score\", \"writing score\", \"writing score\", \"writing score\", \"writing score\", \"writing score\", \"writing score\", \"writing score\", \"writing score\", \"writing score\", \"writing score\", \"writing score\", \"writing score\", \"writing score\", \"writing score\", \"writing score\", \"writing score\", \"writing score\", \"writing score\", \"writing score\", \"writing score\", \"writing score\", \"writing score\", \"writing score\", \"writing score\", \"writing score\", \"writing score\", \"writing score\", \"writing score\", \"writing score\", \"writing score\", \"writing score\", \"writing score\", \"writing score\", \"writing score\", \"writing score\", \"writing score\", \"writing score\", \"writing score\", \"writing score\", \"writing score\", \"writing score\", \"writing score\", \"writing score\", \"writing score\", \"writing score\", \"writing score\", \"writing score\", \"writing score\", \"writing score\", \"writing score\", \"writing score\", \"writing score\", \"writing score\", \"writing score\", \"writing score\", \"writing score\", \"writing score\", \"writing score\", \"writing score\", \"writing score\", \"writing score\", \"writing score\", \"writing score\", \"writing score\", \"writing score\", \"writing score\", \"writing score\", \"writing score\", \"writing score\", \"writing score\", \"writing score\", \"writing score\", \"writing score\", \"writing score\", \"writing score\", \"writing score\", \"writing score\", \"writing score\", \"writing score\", \"writing score\", \"writing score\", \"writing score\", \"writing score\", \"writing score\", \"writing score\", \"writing score\", \"writing score\", \"writing score\", \"writing score\", \"writing score\", \"writing score\", \"writing score\", \"writing score\", \"writing score\", \"writing score\", \"writing score\", \"writing score\", \"writing score\", \"writing score\", \"writing score\", \"writing score\", \"writing score\", \"writing score\", \"writing score\", \"writing score\", \"writing score\", \"writing score\", \"writing score\", \"writing score\", \"writing score\", \"writing score\", \"writing score\", \"writing score\", \"writing score\", \"writing score\", \"writing score\", \"writing score\", \"writing score\", \"writing score\", \"writing score\", \"writing score\", \"writing score\", \"writing score\", \"writing score\", \"writing score\", \"writing score\", \"writing score\", \"writing score\", \"writing score\", \"writing score\", \"writing score\", \"writing score\", \"writing score\", \"writing score\", \"writing score\", \"writing score\", \"writing score\", \"writing score\", \"writing score\", \"writing score\", \"writing score\", \"writing score\", \"writing score\", \"writing score\", \"writing score\", \"writing score\", \"writing score\", \"writing score\", \"writing score\", \"writing score\", \"writing score\", \"writing score\", \"writing score\", \"writing score\", \"writing score\", \"writing score\", \"writing score\", \"writing score\", \"writing score\", \"writing score\", \"writing score\", \"writing score\", \"writing score\", \"writing score\", \"writing score\", \"writing score\", \"writing score\", \"writing score\", \"writing score\", \"writing score\", \"writing score\", \"writing score\", \"writing score\", \"writing score\", \"writing score\", \"writing score\", \"writing score\", \"writing score\", \"writing score\", \"writing score\", \"writing score\", \"writing score\", \"writing score\", \"writing score\", \"writing score\", \"writing score\", \"writing score\", \"writing score\", \"writing score\", \"writing score\", \"writing score\", \"writing score\", \"writing score\", \"writing score\", \"writing score\", \"writing score\", \"writing score\", \"writing score\", \"writing score\", \"writing score\", \"writing score\", \"writing score\", \"writing score\", \"writing score\", \"writing score\", \"writing score\", \"writing score\", \"writing score\", \"writing score\", \"writing score\", \"writing score\", \"writing score\", \"writing score\", \"writing score\", \"writing score\", \"writing score\", \"writing score\", \"writing score\", \"writing score\", \"writing score\", \"writing score\", \"writing score\", \"writing score\", \"writing score\", \"writing score\", \"writing score\", \"writing score\", \"writing score\", \"writing score\", \"writing score\", \"writing score\", \"writing score\", \"writing score\", \"writing score\", \"writing score\", \"writing score\", \"writing score\", \"writing score\", \"writing score\", \"writing score\", \"writing score\", \"writing score\", \"writing score\", \"writing score\", \"writing score\", \"writing score\", \"writing score\", \"writing score\", \"writing score\", \"writing score\", \"writing score\", \"writing score\", \"writing score\", \"writing score\", \"writing score\", \"writing score\", \"writing score\", \"writing score\", \"writing score\", \"writing score\", \"writing score\", \"writing score\", \"writing score\", \"writing score\", \"writing score\", \"writing score\", \"writing score\", \"writing score\", \"writing score\", \"writing score\", \"writing score\", \"writing score\", \"writing score\", \"writing score\", \"writing score\", \"writing score\", \"writing score\", \"writing score\", \"writing score\", \"writing score\", \"writing score\", \"writing score\", \"writing score\", \"writing score\", \"writing score\", \"writing score\", \"writing score\", \"writing score\", \"writing score\", \"writing score\", \"writing score\", \"writing score\", \"writing score\", \"writing score\", \"writing score\", \"writing score\", \"writing score\", \"writing score\", \"writing score\", \"writing score\", \"writing score\", \"writing score\", \"writing score\", \"writing score\", \"writing score\", \"writing score\", \"writing score\", \"writing score\", \"writing score\", \"writing score\", \"writing score\", \"writing score\", \"writing score\", \"writing score\", \"writing score\", \"writing score\", \"writing score\", \"writing score\", \"writing score\", \"writing score\", \"writing score\", \"writing score\", \"writing score\", \"writing score\", \"writing score\", \"writing score\", \"writing score\", \"writing score\", \"writing score\", \"writing score\", \"writing score\", \"writing score\", \"writing score\", \"writing score\", \"writing score\", \"writing score\", \"writing score\", \"writing score\", \"writing score\", \"writing score\", \"writing score\", \"writing score\", \"writing score\", \"writing score\", \"writing score\", \"writing score\", \"writing score\", \"writing score\", \"writing score\", \"writing score\", \"writing score\", \"writing score\", \"writing score\", \"writing score\", \"writing score\", \"writing score\", \"writing score\", \"writing score\", \"writing score\", \"writing score\", \"writing score\", \"writing score\", \"writing score\", \"writing score\", \"writing score\", \"writing score\", \"writing score\", \"writing score\", \"writing score\", \"writing score\", \"writing score\", \"writing score\", \"writing score\", \"writing score\", \"writing score\", \"writing score\", \"writing score\", \"writing score\", \"writing score\", \"writing score\", \"writing score\", \"writing score\", \"writing score\", \"writing score\", \"writing score\", \"writing score\", \"writing score\", \"writing score\", \"writing score\", \"writing score\", \"writing score\", \"writing score\", \"writing score\", \"writing score\", \"writing score\", \"writing score\", \"writing score\", \"writing score\", \"writing score\", \"writing score\", \"writing score\", \"writing score\", \"writing score\", \"writing score\", \"writing score\", \"writing score\", \"writing score\", \"writing score\", \"writing score\", \"writing score\", \"writing score\", \"writing score\", \"writing score\", \"writing score\", \"writing score\", \"writing score\", \"writing score\", \"writing score\", \"writing score\", \"writing score\", \"writing score\", \"writing score\", \"writing score\", \"writing score\", \"writing score\", \"writing score\", \"writing score\", \"writing score\", \"writing score\", \"writing score\", \"writing score\", \"writing score\", \"writing score\", \"writing score\", \"writing score\", \"writing score\", \"writing score\", \"writing score\", \"writing score\", \"writing score\", \"writing score\", \"writing score\", \"writing score\", \"writing score\", \"writing score\", \"writing score\", \"writing score\", \"writing score\", \"writing score\", \"writing score\", \"writing score\", \"writing score\", \"writing score\", \"writing score\", \"writing score\", \"writing score\", \"writing score\", \"writing score\", \"writing score\", \"writing score\", \"writing score\", \"writing score\", \"writing score\", \"writing score\", \"writing score\", \"writing score\", \"writing score\", \"writing score\", \"writing score\", \"writing score\", \"writing score\", \"writing score\", \"writing score\", \"writing score\", \"writing score\", \"writing score\", \"writing score\", \"writing score\", \"writing score\", \"writing score\", \"writing score\", \"writing score\", \"writing score\", \"writing score\", \"writing score\", \"writing score\", \"writing score\", \"writing score\", \"writing score\", \"writing score\", \"writing score\", \"writing score\", \"writing score\", \"writing score\", \"writing score\", \"writing score\", \"writing score\", \"writing score\", \"writing score\", \"writing score\", \"writing score\", \"writing score\", \"writing score\", \"writing score\", \"writing score\", \"writing score\", \"writing score\", \"writing score\", \"writing score\", \"writing score\", \"writing score\", \"writing score\", \"writing score\", \"writing score\", \"writing score\", \"writing score\", \"writing score\", \"writing score\", \"writing score\", \"writing score\", \"writing score\", \"writing score\", \"writing score\", \"writing score\", \"writing score\", \"writing score\", \"writing score\", \"writing score\", \"writing score\", \"writing score\", \"writing score\", \"writing score\", \"writing score\", \"writing score\", \"writing score\", \"writing score\", \"writing score\", \"writing score\", \"writing score\", \"writing score\", \"writing score\", \"writing score\", \"writing score\", \"writing score\", \"writing score\", \"writing score\", \"writing score\", \"writing score\", \"writing score\", \"writing score\", \"writing score\", \"writing score\", \"writing score\", \"writing score\", \"writing score\", \"writing score\", \"writing score\", \"writing score\", \"writing score\", \"writing score\", \"writing score\", \"writing score\", \"writing score\", \"writing score\", \"writing score\", \"writing score\", \"writing score\", \"writing score\", \"writing score\", \"writing score\", \"writing score\", \"writing score\", \"writing score\", \"writing score\", \"writing score\", \"writing score\", \"writing score\", \"writing score\", \"writing score\", \"writing score\", \"writing score\", \"writing score\", \"writing score\", \"writing score\", \"writing score\", \"writing score\", \"writing score\", \"writing score\", \"writing score\", \"writing score\", \"writing score\", \"writing score\", \"writing score\", \"writing score\", \"writing score\", \"writing score\", \"writing score\", \"writing score\", \"writing score\", \"writing score\", \"writing score\", \"writing score\", \"writing score\", \"writing score\", \"writing score\", \"writing score\", \"writing score\", \"writing score\", \"writing score\", \"writing score\", \"writing score\", \"writing score\", \"writing score\", \"writing score\", \"writing score\", \"writing score\", \"writing score\", \"writing score\", \"writing score\", \"writing score\", \"writing score\", \"writing score\", \"writing score\", \"writing score\", \"writing score\", \"writing score\", \"writing score\", \"writing score\", \"writing score\", \"writing score\", \"writing score\", \"writing score\", \"writing score\", \"writing score\", \"writing score\", \"writing score\", \"writing score\", \"writing score\", \"writing score\", \"writing score\", \"writing score\", \"writing score\", \"writing score\", \"writing score\", \"writing score\", \"writing score\", \"writing score\", \"writing score\", \"writing score\", \"writing score\", \"writing score\", \"writing score\", \"writing score\", \"writing score\", \"writing score\", \"writing score\", \"writing score\", \"writing score\", \"writing score\", \"writing score\", \"writing score\", \"writing score\", \"writing score\", \"writing score\", \"writing score\", \"writing score\", \"writing score\", \"writing score\", \"writing score\", \"writing score\", \"writing score\", \"writing score\", \"writing score\", \"writing score\", \"writing score\", \"writing score\", \"writing score\", \"writing score\", \"writing score\", \"writing score\", \"writing score\", \"writing score\", \"writing score\", \"writing score\", \"writing score\", \"writing score\", \"writing score\", \"writing score\", \"writing score\", \"writing score\", \"writing score\", \"writing score\", \"writing score\", \"writing score\", \"writing score\", \"writing score\", \"writing score\", \"writing score\", \"writing score\", \"writing score\", \"writing score\", \"writing score\", \"writing score\", \"writing score\", \"writing score\", \"writing score\", \"writing score\", \"writing score\", \"writing score\", \"writing score\", \"writing score\", \"writing score\", \"writing score\", \"writing score\", \"writing score\", \"writing score\", \"writing score\", \"writing score\"], \"yaxis\": \"y\"}],\n",
              "                        {\"annotations\": [{\"font\": {}, \"showarrow\": false, \"text\": \"variable=writing score\", \"textangle\": 90, \"x\": 0.98, \"xanchor\": \"left\", \"xref\": \"paper\", \"y\": 0.15666666666666665, \"yanchor\": \"middle\", \"yref\": \"paper\"}, {\"font\": {}, \"showarrow\": false, \"text\": \"variable=reading score\", \"textangle\": 90, \"x\": 0.98, \"xanchor\": \"left\", \"xref\": \"paper\", \"y\": 0.4999999999999999, \"yanchor\": \"middle\", \"yref\": \"paper\"}, {\"font\": {}, \"showarrow\": false, \"text\": \"variable=math score\", \"textangle\": 90, \"x\": 0.98, \"xanchor\": \"left\", \"xref\": \"paper\", \"y\": 0.8433333333333332, \"yanchor\": \"middle\", \"yref\": \"paper\"}], \"barmode\": \"relative\", \"legend\": {\"tracegroupgap\": 0}, \"margin\": {\"t\": 60}, \"template\": {\"data\": {\"bar\": [{\"error_x\": {\"color\": \"#2a3f5f\"}, \"error_y\": {\"color\": \"#2a3f5f\"}, \"marker\": {\"line\": {\"color\": \"#E5ECF6\", \"width\": 0.5}}, \"type\": \"bar\"}], \"barpolar\": [{\"marker\": {\"line\": {\"color\": \"#E5ECF6\", \"width\": 0.5}}, \"type\": \"barpolar\"}], \"carpet\": [{\"aaxis\": {\"endlinecolor\": \"#2a3f5f\", \"gridcolor\": \"white\", \"linecolor\": \"white\", \"minorgridcolor\": \"white\", \"startlinecolor\": \"#2a3f5f\"}, \"baxis\": {\"endlinecolor\": \"#2a3f5f\", \"gridcolor\": \"white\", \"linecolor\": \"white\", \"minorgridcolor\": \"white\", \"startlinecolor\": \"#2a3f5f\"}, \"type\": \"carpet\"}], \"choropleth\": [{\"colorbar\": {\"outlinewidth\": 0, \"ticks\": \"\"}, \"type\": \"choropleth\"}], \"contour\": [{\"colorbar\": {\"outlinewidth\": 0, \"ticks\": \"\"}, \"colorscale\": [[0.0, \"#0d0887\"], [0.1111111111111111, \"#46039f\"], [0.2222222222222222, \"#7201a8\"], [0.3333333333333333, \"#9c179e\"], [0.4444444444444444, \"#bd3786\"], [0.5555555555555556, \"#d8576b\"], [0.6666666666666666, \"#ed7953\"], [0.7777777777777778, \"#fb9f3a\"], [0.8888888888888888, \"#fdca26\"], [1.0, \"#f0f921\"]], \"type\": \"contour\"}], \"contourcarpet\": [{\"colorbar\": {\"outlinewidth\": 0, \"ticks\": \"\"}, \"type\": \"contourcarpet\"}], \"heatmap\": [{\"colorbar\": {\"outlinewidth\": 0, \"ticks\": \"\"}, \"colorscale\": [[0.0, \"#0d0887\"], [0.1111111111111111, \"#46039f\"], [0.2222222222222222, \"#7201a8\"], [0.3333333333333333, \"#9c179e\"], [0.4444444444444444, \"#bd3786\"], [0.5555555555555556, \"#d8576b\"], [0.6666666666666666, \"#ed7953\"], [0.7777777777777778, \"#fb9f3a\"], [0.8888888888888888, \"#fdca26\"], [1.0, \"#f0f921\"]], \"type\": \"heatmap\"}], \"heatmapgl\": [{\"colorbar\": {\"outlinewidth\": 0, \"ticks\": \"\"}, \"colorscale\": [[0.0, \"#0d0887\"], [0.1111111111111111, \"#46039f\"], [0.2222222222222222, \"#7201a8\"], [0.3333333333333333, \"#9c179e\"], [0.4444444444444444, \"#bd3786\"], [0.5555555555555556, \"#d8576b\"], [0.6666666666666666, \"#ed7953\"], [0.7777777777777778, \"#fb9f3a\"], [0.8888888888888888, \"#fdca26\"], [1.0, \"#f0f921\"]], \"type\": \"heatmapgl\"}], \"histogram\": [{\"marker\": {\"colorbar\": {\"outlinewidth\": 0, \"ticks\": \"\"}}, \"type\": \"histogram\"}], \"histogram2d\": [{\"colorbar\": {\"outlinewidth\": 0, \"ticks\": \"\"}, \"colorscale\": [[0.0, \"#0d0887\"], [0.1111111111111111, \"#46039f\"], [0.2222222222222222, \"#7201a8\"], [0.3333333333333333, \"#9c179e\"], [0.4444444444444444, \"#bd3786\"], [0.5555555555555556, \"#d8576b\"], [0.6666666666666666, \"#ed7953\"], [0.7777777777777778, \"#fb9f3a\"], [0.8888888888888888, \"#fdca26\"], [1.0, \"#f0f921\"]], \"type\": \"histogram2d\"}], \"histogram2dcontour\": [{\"colorbar\": {\"outlinewidth\": 0, \"ticks\": \"\"}, \"colorscale\": [[0.0, \"#0d0887\"], [0.1111111111111111, \"#46039f\"], [0.2222222222222222, \"#7201a8\"], [0.3333333333333333, \"#9c179e\"], [0.4444444444444444, \"#bd3786\"], [0.5555555555555556, \"#d8576b\"], [0.6666666666666666, \"#ed7953\"], [0.7777777777777778, \"#fb9f3a\"], [0.8888888888888888, \"#fdca26\"], [1.0, \"#f0f921\"]], \"type\": \"histogram2dcontour\"}], \"mesh3d\": [{\"colorbar\": {\"outlinewidth\": 0, \"ticks\": \"\"}, \"type\": \"mesh3d\"}], \"parcoords\": [{\"line\": {\"colorbar\": {\"outlinewidth\": 0, \"ticks\": \"\"}}, \"type\": \"parcoords\"}], \"pie\": [{\"automargin\": true, \"type\": \"pie\"}], \"scatter\": [{\"marker\": {\"colorbar\": {\"outlinewidth\": 0, \"ticks\": \"\"}}, \"type\": \"scatter\"}], \"scatter3d\": [{\"line\": {\"colorbar\": {\"outlinewidth\": 0, \"ticks\": \"\"}}, \"marker\": {\"colorbar\": {\"outlinewidth\": 0, \"ticks\": \"\"}}, \"type\": \"scatter3d\"}], \"scattercarpet\": [{\"marker\": {\"colorbar\": {\"outlinewidth\": 0, \"ticks\": \"\"}}, \"type\": \"scattercarpet\"}], \"scattergeo\": [{\"marker\": {\"colorbar\": {\"outlinewidth\": 0, \"ticks\": \"\"}}, \"type\": \"scattergeo\"}], \"scattergl\": [{\"marker\": {\"colorbar\": {\"outlinewidth\": 0, \"ticks\": \"\"}}, \"type\": \"scattergl\"}], \"scattermapbox\": [{\"marker\": {\"colorbar\": {\"outlinewidth\": 0, \"ticks\": \"\"}}, \"type\": \"scattermapbox\"}], \"scatterpolar\": [{\"marker\": {\"colorbar\": {\"outlinewidth\": 0, \"ticks\": \"\"}}, \"type\": \"scatterpolar\"}], \"scatterpolargl\": [{\"marker\": {\"colorbar\": {\"outlinewidth\": 0, \"ticks\": \"\"}}, \"type\": \"scatterpolargl\"}], \"scatterternary\": [{\"marker\": {\"colorbar\": {\"outlinewidth\": 0, \"ticks\": \"\"}}, \"type\": \"scatterternary\"}], \"surface\": [{\"colorbar\": {\"outlinewidth\": 0, \"ticks\": \"\"}, \"colorscale\": [[0.0, \"#0d0887\"], [0.1111111111111111, \"#46039f\"], [0.2222222222222222, \"#7201a8\"], [0.3333333333333333, \"#9c179e\"], [0.4444444444444444, \"#bd3786\"], [0.5555555555555556, \"#d8576b\"], [0.6666666666666666, \"#ed7953\"], [0.7777777777777778, \"#fb9f3a\"], [0.8888888888888888, \"#fdca26\"], [1.0, \"#f0f921\"]], \"type\": \"surface\"}], \"table\": [{\"cells\": {\"fill\": {\"color\": \"#EBF0F8\"}, \"line\": {\"color\": \"white\"}}, \"header\": {\"fill\": {\"color\": \"#C8D4E3\"}, \"line\": {\"color\": \"white\"}}, \"type\": \"table\"}]}, \"layout\": {\"annotationdefaults\": {\"arrowcolor\": \"#2a3f5f\", \"arrowhead\": 0, \"arrowwidth\": 1}, \"coloraxis\": {\"colorbar\": {\"outlinewidth\": 0, \"ticks\": \"\"}}, \"colorscale\": {\"diverging\": [[0, \"#8e0152\"], [0.1, \"#c51b7d\"], [0.2, \"#de77ae\"], [0.3, \"#f1b6da\"], [0.4, \"#fde0ef\"], [0.5, \"#f7f7f7\"], [0.6, \"#e6f5d0\"], [0.7, \"#b8e186\"], [0.8, \"#7fbc41\"], [0.9, \"#4d9221\"], [1, \"#276419\"]], \"sequential\": [[0.0, \"#0d0887\"], [0.1111111111111111, \"#46039f\"], [0.2222222222222222, \"#7201a8\"], [0.3333333333333333, \"#9c179e\"], [0.4444444444444444, \"#bd3786\"], [0.5555555555555556, \"#d8576b\"], [0.6666666666666666, \"#ed7953\"], [0.7777777777777778, \"#fb9f3a\"], [0.8888888888888888, \"#fdca26\"], [1.0, \"#f0f921\"]], \"sequentialminus\": [[0.0, \"#0d0887\"], [0.1111111111111111, \"#46039f\"], [0.2222222222222222, \"#7201a8\"], [0.3333333333333333, \"#9c179e\"], [0.4444444444444444, \"#bd3786\"], [0.5555555555555556, \"#d8576b\"], [0.6666666666666666, \"#ed7953\"], [0.7777777777777778, \"#fb9f3a\"], [0.8888888888888888, \"#fdca26\"], [1.0, \"#f0f921\"]]}, \"colorway\": [\"#636efa\", \"#EF553B\", \"#00cc96\", \"#ab63fa\", \"#FFA15A\", \"#19d3f3\", \"#FF6692\", \"#B6E880\", \"#FF97FF\", \"#FECB52\"], \"font\": {\"color\": \"#2a3f5f\"}, \"geo\": {\"bgcolor\": \"white\", \"lakecolor\": \"white\", \"landcolor\": \"#E5ECF6\", \"showlakes\": true, \"showland\": true, \"subunitcolor\": \"white\"}, \"hoverlabel\": {\"align\": \"left\"}, \"hovermode\": \"closest\", \"mapbox\": {\"style\": \"light\"}, \"paper_bgcolor\": \"white\", \"plot_bgcolor\": \"#E5ECF6\", \"polar\": {\"angularaxis\": {\"gridcolor\": \"white\", \"linecolor\": \"white\", \"ticks\": \"\"}, \"bgcolor\": \"#E5ECF6\", \"radialaxis\": {\"gridcolor\": \"white\", \"linecolor\": \"white\", \"ticks\": \"\"}}, \"scene\": {\"xaxis\": {\"backgroundcolor\": \"#E5ECF6\", \"gridcolor\": \"white\", \"gridwidth\": 2, \"linecolor\": \"white\", \"showbackground\": true, \"ticks\": \"\", \"zerolinecolor\": \"white\"}, \"yaxis\": {\"backgroundcolor\": \"#E5ECF6\", \"gridcolor\": \"white\", \"gridwidth\": 2, \"linecolor\": \"white\", \"showbackground\": true, \"ticks\": \"\", \"zerolinecolor\": \"white\"}, \"zaxis\": {\"backgroundcolor\": \"#E5ECF6\", \"gridcolor\": \"white\", \"gridwidth\": 2, \"linecolor\": \"white\", \"showbackground\": true, \"ticks\": \"\", \"zerolinecolor\": \"white\"}}, \"shapedefaults\": {\"line\": {\"color\": \"#2a3f5f\"}}, \"ternary\": {\"aaxis\": {\"gridcolor\": \"white\", \"linecolor\": \"white\", \"ticks\": \"\"}, \"baxis\": {\"gridcolor\": \"white\", \"linecolor\": \"white\", \"ticks\": \"\"}, \"bgcolor\": \"#E5ECF6\", \"caxis\": {\"gridcolor\": \"white\", \"linecolor\": \"white\", \"ticks\": \"\"}}, \"title\": {\"x\": 0.05}, \"xaxis\": {\"automargin\": true, \"gridcolor\": \"white\", \"linecolor\": \"white\", \"ticks\": \"\", \"title\": {\"standoff\": 15}, \"zerolinecolor\": \"white\", \"zerolinewidth\": 2}, \"yaxis\": {\"automargin\": true, \"gridcolor\": \"white\", \"linecolor\": \"white\", \"ticks\": \"\", \"title\": {\"standoff\": 15}, \"zerolinecolor\": \"white\", \"zerolinewidth\": 2}}}, \"xaxis\": {\"anchor\": \"y\", \"domain\": [0.0, 0.98], \"title\": {\"text\": \"value\"}}, \"xaxis2\": {\"anchor\": \"y2\", \"domain\": [0.0, 0.98], \"matches\": \"x\", \"showticklabels\": false}, \"xaxis3\": {\"anchor\": \"y3\", \"domain\": [0.0, 0.98], \"matches\": \"x\", \"showticklabels\": false}, \"yaxis\": {\"anchor\": \"x\", \"categoryarray\": [\"writing score\", \"reading score\", \"math score\"], \"categoryorder\": \"array\", \"domain\": [0.0, 0.3133333333333333], \"title\": {\"text\": \"count of variable\"}}, \"yaxis2\": {\"anchor\": \"x2\", \"categoryarray\": [\"writing score\", \"reading score\", \"math score\"], \"categoryorder\": \"array\", \"domain\": [0.34333333333333327, 0.6566666666666665], \"matches\": \"y\", \"title\": {\"text\": \"count of variable\"}}, \"yaxis3\": {\"anchor\": \"x3\", \"categoryarray\": [\"writing score\", \"reading score\", \"math score\"], \"categoryorder\": \"array\", \"domain\": [0.6866666666666665, 0.9999999999999998], \"matches\": \"y\", \"title\": {\"text\": \"count of variable\"}}},\n",
              "                        {\"responsive\": true}\n",
              "                    ).then(function(){\n",
              "                            \n",
              "var gd = document.getElementById('c7340130-546f-4e9e-b749-2d864cf93b5c');\n",
              "var x = new MutationObserver(function (mutations, observer) {{\n",
              "        var display = window.getComputedStyle(gd).display;\n",
              "        if (!display || display === 'none') {{\n",
              "            console.log([gd, 'removed!']);\n",
              "            Plotly.purge(gd);\n",
              "            observer.disconnect();\n",
              "        }}\n",
              "}});\n",
              "\n",
              "// Listen for the removal of the full notebook cells\n",
              "var notebookContainer = gd.closest('#notebook-container');\n",
              "if (notebookContainer) {{\n",
              "    x.observe(notebookContainer, {childList: true});\n",
              "}}\n",
              "\n",
              "// Listen for the clearing of the current output cell\n",
              "var outputEl = gd.closest('.output');\n",
              "if (outputEl) {{\n",
              "    x.observe(outputEl, {childList: true});\n",
              "}}\n",
              "\n",
              "                        })\n",
              "                };\n",
              "                \n",
              "            </script>\n",
              "        </div>\n",
              "</body>\n",
              "</html>"
            ]
          },
          "metadata": {}
        }
      ]
    },
    {
      "cell_type": "markdown",
      "metadata": {
        "id": "5potK5ugCS96"
      },
      "source": [
        "**Resultados Esperados:**"
      ]
    },
    {
      "cell_type": "markdown",
      "metadata": {
        "id": "nKFTXLS3CS96"
      },
      "source": [
        "**Justifique:**"
      ]
    },
    {
      "cell_type": "markdown",
      "metadata": {
        "id": "8HcMmJiOCS96"
      },
      "source": [
        "A partir de  las visualizaciones se puede observar que, a pesar de que se puede decir que las notas en matemática en promedio son menores que las notas en lectura y escritura, no hay una diferencia notabla entre estas, es decir, no existe una gran diferencia entre las notas de los 3 ramos.\n",
        "\n",
        "Con respecto al mejor gráfico para mostrar al rector, se puede decir que sería el Histograma con Boxplots, puesto que además de mostrar la distribución de notas de cada subject, es decir, se puede observar claramente las modas por asignatura (en matemática predomina la nota 5), también se observan los datos a través de los boxplot, es decir, esta visualización entrega información tanto a nivel global de las asignaturas como un nivel más detallado de estas.\n",
        "\n",
        "Para enseñar en un centro de estudios educativos, dependiendo del segmento al cual esté dirigida la visualizaión, quizás sea mejor enseñar el box plot por si solo, más que nada por la sencillez de este y la utilizadad de la información que enseña.\n",
        "\n"
      ]
    },
    {
      "cell_type": "markdown",
      "metadata": {
        "id": "ZmlMYdF9CS96"
      },
      "source": [
        "## Análisis por Nivel Educacional Etnia de los Padres [1.5 Puntos]\n",
        "\n",
        "El rector, basado en su experiencia, cree fuertemente que el nivel educacional y la etnia de los padres influyen en las notas que obtienen sus hijos. \n",
        "Como científicos de datos, ud. y su equipo creen que deben encontrar evidencia para confirmar o refutar la hipótesis del rector.\n",
        "\n",
        "Para esto, deciden generar dos análisis: una tabla de resumen por una parte y gráficos de caja por otro.\n",
        "\n",
        "### Tabla de Resumen\n",
        "\n",
        "Para generar la tabla de resumen:\n",
        "\n",
        "- [ ] Calcular el promedio de las notas y guardarlo en una variable `GPA` (grade point average).\n",
        "- [ ] Hacer una simplificación a través de un mapeo (investigar `map()`) de la variable `parental level of education`  según la siguiente conversión: \n",
        "\n",
        "        some high school -> school\n",
        "        some college -> school\n",
        "        high school -> school\n",
        "        bachelor's degree -> college\n",
        "        associate's degree -> college\n",
        "        master's degree -> postgraduate\n",
        "\n",
        "  Los resultados de este mapeo deben ser guardados en la columna `simple parental level of education`.\n",
        "\n",
        "\n",
        "- [ ] Agregar según 2 niveles: `race/ethnicity` y `simple parental level of education` para obtener el promedio de las notas. \n",
        "- [ ] Agregar según 2 niveles: `race/ethnicity` y `simple parental level of education` para obtener un conteo de los alumnos en cada grupo y agregarlos como una nueva fila count.\n",
        "- [ ] Obtener el porcentaje de alumnos con respecto al total. Los porcentajes deben ser strings que contienen la frecuencia de cada grupo con respecto al total y deben ser terminados en '%'. \n",
        "\n",
        "\n",
        "Utilizar la tabla de resultados esperados como guía para desarrollar este punto."
      ]
    },
    {
      "cell_type": "markdown",
      "metadata": {
        "id": "nFP8X1L4B1v9"
      },
      "source": [
        "### 1.3.4 Información por Categorías [1 punto]"
      ]
    },
    {
      "cell_type": "code",
      "metadata": {
        "id": "Zl9Cm3cujsCP"
      },
      "source": [
        "def alumnos_promedio(dataframe_in):\n",
        "  dataframe_in[\"GPA\"] = pd.to_numeric(round(dataframe_in[[\"math score\",\"reading score\",\"writing score\"]].mean(axis=1), 2))\n",
        "  return dataframe_in"
      ],
      "execution_count": 13,
      "outputs": []
    },
    {
      "cell_type": "code",
      "metadata": {
        "id": "M7Y2norprJ-z"
      },
      "source": [
        "df_grades[\"simple parental level of education\"] = df_grades['parental level of education'].map({\"some high school\": \"school\",\n",
        "                                                                                               \"some college\" : \"school\",\n",
        "                                                                                               \"high school\"  : \"school\",\n",
        "                                                                                               \"bachelor's degree\" : \"college\",\n",
        "                                                                                               \"associate's degree\" : \"college\",\n",
        "                                                                                               \"master's degree\" : \"postgraduate\"})"
      ],
      "execution_count": 15,
      "outputs": []
    },
    {
      "cell_type": "code",
      "metadata": {
        "colab": {
          "base_uri": "https://localhost:8080/",
          "height": 528
        },
        "id": "MzN_gcbgEAym",
        "outputId": "e715136a-5f6e-4116-8545-8e82298fb9f3"
      },
      "source": [
        "df_grades"
      ],
      "execution_count": 16,
      "outputs": [
        {
          "output_type": "execute_result",
          "data": {
            "text/html": [
              "<div>\n",
              "<style scoped>\n",
              "    .dataframe tbody tr th:only-of-type {\n",
              "        vertical-align: middle;\n",
              "    }\n",
              "\n",
              "    .dataframe tbody tr th {\n",
              "        vertical-align: top;\n",
              "    }\n",
              "\n",
              "    .dataframe thead th {\n",
              "        text-align: right;\n",
              "    }\n",
              "</style>\n",
              "<table border=\"1\" class=\"dataframe\">\n",
              "  <thead>\n",
              "    <tr style=\"text-align: right;\">\n",
              "      <th></th>\n",
              "      <th>names</th>\n",
              "      <th>gender</th>\n",
              "      <th>race/ethnicity</th>\n",
              "      <th>parental level of education</th>\n",
              "      <th>lunch</th>\n",
              "      <th>test preparation course</th>\n",
              "      <th>math score</th>\n",
              "      <th>reading score</th>\n",
              "      <th>writing score</th>\n",
              "      <th>simple parental level of education</th>\n",
              "    </tr>\n",
              "  </thead>\n",
              "  <tbody>\n",
              "    <tr>\n",
              "      <th>0</th>\n",
              "      <td>Rita Courtney</td>\n",
              "      <td>female</td>\n",
              "      <td>group B</td>\n",
              "      <td>some high school</td>\n",
              "      <td>standard</td>\n",
              "      <td>none</td>\n",
              "      <td>3.22</td>\n",
              "      <td>3.76</td>\n",
              "      <td>3.76</td>\n",
              "      <td>school</td>\n",
              "    </tr>\n",
              "    <tr>\n",
              "      <th>1</th>\n",
              "      <td>Charles Linstrom</td>\n",
              "      <td>male</td>\n",
              "      <td>group A</td>\n",
              "      <td>bachelor's degree</td>\n",
              "      <td>standard</td>\n",
              "      <td>completed</td>\n",
              "      <td>5.80</td>\n",
              "      <td>5.68</td>\n",
              "      <td>5.86</td>\n",
              "      <td>college</td>\n",
              "    </tr>\n",
              "    <tr>\n",
              "      <th>2</th>\n",
              "      <td>Brian Young</td>\n",
              "      <td>male</td>\n",
              "      <td>group C</td>\n",
              "      <td>some high school</td>\n",
              "      <td>standard</td>\n",
              "      <td>none</td>\n",
              "      <td>5.38</td>\n",
              "      <td>4.96</td>\n",
              "      <td>4.78</td>\n",
              "      <td>school</td>\n",
              "    </tr>\n",
              "    <tr>\n",
              "      <th>3</th>\n",
              "      <td>Howard Jimenez</td>\n",
              "      <td>male</td>\n",
              "      <td>group E</td>\n",
              "      <td>some high school</td>\n",
              "      <td>standard</td>\n",
              "      <td>completed</td>\n",
              "      <td>5.86</td>\n",
              "      <td>5.50</td>\n",
              "      <td>5.56</td>\n",
              "      <td>school</td>\n",
              "    </tr>\n",
              "    <tr>\n",
              "      <th>4</th>\n",
              "      <td>Wayne Wilson</td>\n",
              "      <td>male</td>\n",
              "      <td>group B</td>\n",
              "      <td>some high school</td>\n",
              "      <td>standard</td>\n",
              "      <td>completed</td>\n",
              "      <td>6.64</td>\n",
              "      <td>6.16</td>\n",
              "      <td>6.22</td>\n",
              "      <td>school</td>\n",
              "    </tr>\n",
              "    <tr>\n",
              "      <th>...</th>\n",
              "      <td>...</td>\n",
              "      <td>...</td>\n",
              "      <td>...</td>\n",
              "      <td>...</td>\n",
              "      <td>...</td>\n",
              "      <td>...</td>\n",
              "      <td>...</td>\n",
              "      <td>...</td>\n",
              "      <td>...</td>\n",
              "      <td>...</td>\n",
              "    </tr>\n",
              "    <tr>\n",
              "      <th>470</th>\n",
              "      <td>Richard Young</td>\n",
              "      <td>male</td>\n",
              "      <td>group D</td>\n",
              "      <td>high school</td>\n",
              "      <td>standard</td>\n",
              "      <td>none</td>\n",
              "      <td>5.14</td>\n",
              "      <td>5.50</td>\n",
              "      <td>5.26</td>\n",
              "      <td>school</td>\n",
              "    </tr>\n",
              "    <tr>\n",
              "      <th>471</th>\n",
              "      <td>Wanda Russell</td>\n",
              "      <td>female</td>\n",
              "      <td>group B</td>\n",
              "      <td>high school</td>\n",
              "      <td>free/reduced</td>\n",
              "      <td>completed</td>\n",
              "      <td>2.38</td>\n",
              "      <td>3.64</td>\n",
              "      <td>3.16</td>\n",
              "      <td>school</td>\n",
              "    </tr>\n",
              "    <tr>\n",
              "      <th>472</th>\n",
              "      <td>Marina Zeigler</td>\n",
              "      <td>female</td>\n",
              "      <td>group C</td>\n",
              "      <td>bachelor's degree</td>\n",
              "      <td>free/reduced</td>\n",
              "      <td>completed</td>\n",
              "      <td>4.96</td>\n",
              "      <td>5.44</td>\n",
              "      <td>5.86</td>\n",
              "      <td>college</td>\n",
              "    </tr>\n",
              "    <tr>\n",
              "      <th>473</th>\n",
              "      <td>Laurie Carter</td>\n",
              "      <td>female</td>\n",
              "      <td>group B</td>\n",
              "      <td>some high school</td>\n",
              "      <td>standard</td>\n",
              "      <td>completed</td>\n",
              "      <td>4.24</td>\n",
              "      <td>4.66</td>\n",
              "      <td>4.72</td>\n",
              "      <td>school</td>\n",
              "    </tr>\n",
              "    <tr>\n",
              "      <th>474</th>\n",
              "      <td>Amanda Perez</td>\n",
              "      <td>female</td>\n",
              "      <td>group A</td>\n",
              "      <td>high school</td>\n",
              "      <td>standard</td>\n",
              "      <td>completed</td>\n",
              "      <td>5.08</td>\n",
              "      <td>5.80</td>\n",
              "      <td>5.56</td>\n",
              "      <td>school</td>\n",
              "    </tr>\n",
              "  </tbody>\n",
              "</table>\n",
              "<p>875 rows × 10 columns</p>\n",
              "</div>"
            ],
            "text/plain": [
              "                names  gender  ... writing score simple parental level of education\n",
              "0       Rita Courtney  female  ...          3.76                             school\n",
              "1    Charles Linstrom    male  ...          5.86                            college\n",
              "2         Brian Young    male  ...          4.78                             school\n",
              "3      Howard Jimenez    male  ...          5.56                             school\n",
              "4        Wayne Wilson    male  ...          6.22                             school\n",
              "..                ...     ...  ...           ...                                ...\n",
              "470     Richard Young    male  ...          5.26                             school\n",
              "471     Wanda Russell  female  ...          3.16                             school\n",
              "472    Marina Zeigler  female  ...          5.86                            college\n",
              "473     Laurie Carter  female  ...          4.72                             school\n",
              "474      Amanda Perez  female  ...          5.56                             school\n",
              "\n",
              "[875 rows x 10 columns]"
            ]
          },
          "metadata": {},
          "execution_count": 16
        }
      ]
    },
    {
      "cell_type": "code",
      "metadata": {
        "id": "RlNBPmSZHG8y"
      },
      "source": [
        "df = round(df_grades.groupby(['race/ethnicity','simple parental level of education']).mean(),2)"
      ],
      "execution_count": 17,
      "outputs": []
    },
    {
      "cell_type": "code",
      "metadata": {
        "id": "m52Ua27xnV-I"
      },
      "source": [
        "df = alumnos_promedio(df)"
      ],
      "execution_count": 18,
      "outputs": []
    },
    {
      "cell_type": "code",
      "metadata": {
        "id": "RnZTqPrc3JoZ"
      },
      "source": [
        "df['count'] = round(df_grades.groupby(['race/ethnicity','simple parental level of education'])['names'].count(),2)"
      ],
      "execution_count": 19,
      "outputs": []
    },
    {
      "cell_type": "code",
      "metadata": {
        "id": "3BJ_IpCKqUXq"
      },
      "source": [
        "def percentage(dataframe_in):\n",
        "  a= (round((dataframe_in['count'] / dataframe_in['count'].sum()) * 100, 2)).astype(str)\n",
        "  dataframe_in['percentage'] =  a + \"%\"\n",
        "  return dataframe_in\n"
      ],
      "execution_count": 21,
      "outputs": []
    },
    {
      "cell_type": "code",
      "metadata": {
        "colab": {
          "base_uri": "https://localhost:8080/",
          "height": 551
        },
        "id": "TSOHk_tcEGmh",
        "outputId": "d22fad2b-6bc3-44bb-eb9f-bb9307991f86"
      },
      "source": [
        "percentage(df)"
      ],
      "execution_count": 25,
      "outputs": [
        {
          "output_type": "execute_result",
          "data": {
            "text/html": [
              "<div>\n",
              "<style scoped>\n",
              "    .dataframe tbody tr th:only-of-type {\n",
              "        vertical-align: middle;\n",
              "    }\n",
              "\n",
              "    .dataframe tbody tr th {\n",
              "        vertical-align: top;\n",
              "    }\n",
              "\n",
              "    .dataframe thead th {\n",
              "        text-align: right;\n",
              "    }\n",
              "</style>\n",
              "<table border=\"1\" class=\"dataframe\">\n",
              "  <thead>\n",
              "    <tr style=\"text-align: right;\">\n",
              "      <th></th>\n",
              "      <th></th>\n",
              "      <th>math score</th>\n",
              "      <th>reading score</th>\n",
              "      <th>writing score</th>\n",
              "      <th>GPA</th>\n",
              "      <th>count</th>\n",
              "      <th>percentage</th>\n",
              "    </tr>\n",
              "    <tr>\n",
              "      <th>race/ethnicity</th>\n",
              "      <th>simple parental level of education</th>\n",
              "      <th></th>\n",
              "      <th></th>\n",
              "      <th></th>\n",
              "      <th></th>\n",
              "      <th></th>\n",
              "      <th></th>\n",
              "    </tr>\n",
              "  </thead>\n",
              "  <tbody>\n",
              "    <tr>\n",
              "      <th rowspan=\"3\" valign=\"top\">group A</th>\n",
              "      <th>college</th>\n",
              "      <td>4.73</td>\n",
              "      <td>5.00</td>\n",
              "      <td>4.89</td>\n",
              "      <td>4.87</td>\n",
              "      <td>24</td>\n",
              "      <td>2.74%</td>\n",
              "    </tr>\n",
              "    <tr>\n",
              "      <th>postgraduate</th>\n",
              "      <td>4.69</td>\n",
              "      <td>5.23</td>\n",
              "      <td>5.35</td>\n",
              "      <td>5.09</td>\n",
              "      <td>2</td>\n",
              "      <td>0.23%</td>\n",
              "    </tr>\n",
              "    <tr>\n",
              "      <th>school</th>\n",
              "      <td>4.57</td>\n",
              "      <td>4.73</td>\n",
              "      <td>4.56</td>\n",
              "      <td>4.62</td>\n",
              "      <td>51</td>\n",
              "      <td>5.83%</td>\n",
              "    </tr>\n",
              "    <tr>\n",
              "      <th rowspan=\"3\" valign=\"top\">group B</th>\n",
              "      <th>college</th>\n",
              "      <td>5.07</td>\n",
              "      <td>5.26</td>\n",
              "      <td>5.19</td>\n",
              "      <td>5.17</td>\n",
              "      <td>54</td>\n",
              "      <td>6.17%</td>\n",
              "    </tr>\n",
              "    <tr>\n",
              "      <th>postgraduate</th>\n",
              "      <td>4.91</td>\n",
              "      <td>5.69</td>\n",
              "      <td>5.55</td>\n",
              "      <td>5.38</td>\n",
              "      <td>5</td>\n",
              "      <td>0.57%</td>\n",
              "    </tr>\n",
              "    <tr>\n",
              "      <th>school</th>\n",
              "      <td>4.69</td>\n",
              "      <td>4.89</td>\n",
              "      <td>4.76</td>\n",
              "      <td>4.78</td>\n",
              "      <td>107</td>\n",
              "      <td>12.23%</td>\n",
              "    </tr>\n",
              "    <tr>\n",
              "      <th rowspan=\"3\" valign=\"top\">group C</th>\n",
              "      <th>college</th>\n",
              "      <td>5.02</td>\n",
              "      <td>5.37</td>\n",
              "      <td>5.35</td>\n",
              "      <td>5.25</td>\n",
              "      <td>102</td>\n",
              "      <td>11.66%</td>\n",
              "    </tr>\n",
              "    <tr>\n",
              "      <th>postgraduate</th>\n",
              "      <td>4.92</td>\n",
              "      <td>5.14</td>\n",
              "      <td>5.10</td>\n",
              "      <td>5.05</td>\n",
              "      <td>15</td>\n",
              "      <td>1.71%</td>\n",
              "    </tr>\n",
              "    <tr>\n",
              "      <th>school</th>\n",
              "      <td>4.76</td>\n",
              "      <td>5.02</td>\n",
              "      <td>4.92</td>\n",
              "      <td>4.90</td>\n",
              "      <td>155</td>\n",
              "      <td>17.71%</td>\n",
              "    </tr>\n",
              "    <tr>\n",
              "      <th rowspan=\"3\" valign=\"top\">group D</th>\n",
              "      <th>college</th>\n",
              "      <td>5.11</td>\n",
              "      <td>5.25</td>\n",
              "      <td>5.25</td>\n",
              "      <td>5.20</td>\n",
              "      <td>70</td>\n",
              "      <td>8.0%</td>\n",
              "    </tr>\n",
              "    <tr>\n",
              "      <th>postgraduate</th>\n",
              "      <td>5.22</td>\n",
              "      <td>5.54</td>\n",
              "      <td>5.73</td>\n",
              "      <td>5.50</td>\n",
              "      <td>20</td>\n",
              "      <td>2.29%</td>\n",
              "    </tr>\n",
              "    <tr>\n",
              "      <th>school</th>\n",
              "      <td>5.02</td>\n",
              "      <td>5.13</td>\n",
              "      <td>5.11</td>\n",
              "      <td>5.09</td>\n",
              "      <td>149</td>\n",
              "      <td>17.03%</td>\n",
              "    </tr>\n",
              "    <tr>\n",
              "      <th rowspan=\"3\" valign=\"top\">group E</th>\n",
              "      <th>college</th>\n",
              "      <td>5.54</td>\n",
              "      <td>5.45</td>\n",
              "      <td>5.45</td>\n",
              "      <td>5.48</td>\n",
              "      <td>52</td>\n",
              "      <td>5.94%</td>\n",
              "    </tr>\n",
              "    <tr>\n",
              "      <th>postgraduate</th>\n",
              "      <td>5.54</td>\n",
              "      <td>6.03</td>\n",
              "      <td>5.89</td>\n",
              "      <td>5.82</td>\n",
              "      <td>6</td>\n",
              "      <td>0.69%</td>\n",
              "    </tr>\n",
              "    <tr>\n",
              "      <th>school</th>\n",
              "      <td>5.40</td>\n",
              "      <td>5.31</td>\n",
              "      <td>5.16</td>\n",
              "      <td>5.29</td>\n",
              "      <td>63</td>\n",
              "      <td>7.2%</td>\n",
              "    </tr>\n",
              "  </tbody>\n",
              "</table>\n",
              "</div>"
            ],
            "text/plain": [
              "                                                   math score  ...  percentage\n",
              "race/ethnicity simple parental level of education              ...            \n",
              "group A        college                                   4.73  ...       2.74%\n",
              "               postgraduate                              4.69  ...       0.23%\n",
              "               school                                    4.57  ...       5.83%\n",
              "group B        college                                   5.07  ...       6.17%\n",
              "               postgraduate                              4.91  ...       0.57%\n",
              "               school                                    4.69  ...      12.23%\n",
              "group C        college                                   5.02  ...      11.66%\n",
              "               postgraduate                              4.92  ...       1.71%\n",
              "               school                                    4.76  ...      17.71%\n",
              "group D        college                                   5.11  ...        8.0%\n",
              "               postgraduate                              5.22  ...       2.29%\n",
              "               school                                    5.02  ...      17.03%\n",
              "group E        college                                   5.54  ...       5.94%\n",
              "               postgraduate                              5.54  ...       0.69%\n",
              "               school                                    5.40  ...        7.2%\n",
              "\n",
              "[15 rows x 6 columns]"
            ]
          },
          "metadata": {},
          "execution_count": 25
        }
      ]
    },
    {
      "cell_type": "markdown",
      "metadata": {
        "id": "z9G4FzivCS97"
      },
      "source": [
        "**Resultado Esperado**\n",
        "\n",
        "|    | race/ethnicity   | simple parental level of education   |   math score |   reading score |   writing score |   GPA |   count | percentage   |\n",
        "|---:|:-----------------|:-------------------------------------|-------------:|----------------:|----------------:|------:|--------:|:-------------|\n",
        "|  0 | group A          | college                              |         4.74 |            5    |            4.89 |  4.88 |      24 | 2.74 %       |\n",
        "|  1 |           | postgraduate                         |         4.69 |            5.23 |            5.35 |  5.09 |       2 | 0.23 %       |\n",
        "|  2 |           | school                               |         4.57 |            4.73 |            4.56 |  4.62 |      51 | 5.83 %       |\n",
        "|  3 | group B          | college                              |         5.07 |            5.26 |            5.19 |  5.18 |      54 | 6.17 %       |\n",
        "|  4 |           | postgraduate                         |         4.91 |            5.69 |            5.55 |  5.38 |       5 | 0.57 %       |\n",
        "|  5 |           | school                               |         4.69 |            4.89 |            4.76 |  4.78 |     107 | 12.23 %      |\n",
        "|  6 | group C          | college                              |         5.02 |            5.37 |            5.35 |  5.25 |     102 | 11.66 %      |\n",
        "|  7 |           | postgraduate                         |         4.92 |            5.14 |            5.1  |  5.06 |      15 | 1.71 %       |\n",
        "|  8 |           | school                               |         4.76 |            5.02 |            4.92 |  4.9  |     155 | 17.71 %      |\n",
        "|  9 | group D          | college                              |         5.11 |            5.25 |            5.25 |  5.2  |      70 | 8.0 %        |\n",
        "| 10 |           | postgraduate                         |         5.22 |            5.54 |            5.73 |  5.5  |      20 | 2.29 %       |\n",
        "| 11 |           | school                               |         5.02 |            5.13 |            5.11 |  5.09 |     149 | 17.03 %      |\n",
        "| 12 | group E          | college                              |         5.54 |            5.45 |            5.45 |  5.48 |      52 | 5.94 %       |\n",
        "| 13 |          | postgraduate                         |         5.54 |            6.03 |            5.89 |  5.82 |       6 | 0.69 %       |\n",
        "| 14 |          | school                               |         5.4  |            5.31 |            5.16 |  5.29 |      63 | 7.2 %        |"
      ]
    },
    {
      "cell_type": "markdown",
      "metadata": {
        "id": "npRzkPaeCS98"
      },
      "source": [
        "## Visualizaciones [0.5 Puntos]\n",
        "\n",
        "Ahora, implemente un gráfico de caja en donde se muestre el GPA con respecto al nivel educacional y que la variable de color sea la etnicidad y luego comente."
      ]
    },
    {
      "cell_type": "code",
      "metadata": {
        "id": "cfddmgxV5lYY"
      },
      "source": [
        "df2 = percentage(df)"
      ],
      "execution_count": 27,
      "outputs": []
    },
    {
      "cell_type": "code",
      "metadata": {
        "id": "tZgUCL4eHRHh"
      },
      "source": [
        "df2[\"GPA\"] = pd.to_numeric(df2[\"GPA\"])"
      ],
      "execution_count": 28,
      "outputs": []
    },
    {
      "cell_type": "code",
      "metadata": {
        "colab": {
          "base_uri": "https://localhost:8080/",
          "height": 551
        },
        "id": "YZnQVaSUH61L",
        "outputId": "98270e70-2daf-4c5e-e67c-2109038148c6"
      },
      "source": [
        "df3 = pd.DataFrame(df2)\n",
        "df3"
      ],
      "execution_count": 29,
      "outputs": [
        {
          "output_type": "execute_result",
          "data": {
            "text/html": [
              "<div>\n",
              "<style scoped>\n",
              "    .dataframe tbody tr th:only-of-type {\n",
              "        vertical-align: middle;\n",
              "    }\n",
              "\n",
              "    .dataframe tbody tr th {\n",
              "        vertical-align: top;\n",
              "    }\n",
              "\n",
              "    .dataframe thead th {\n",
              "        text-align: right;\n",
              "    }\n",
              "</style>\n",
              "<table border=\"1\" class=\"dataframe\">\n",
              "  <thead>\n",
              "    <tr style=\"text-align: right;\">\n",
              "      <th></th>\n",
              "      <th></th>\n",
              "      <th>math score</th>\n",
              "      <th>reading score</th>\n",
              "      <th>writing score</th>\n",
              "      <th>GPA</th>\n",
              "      <th>count</th>\n",
              "      <th>percentage</th>\n",
              "    </tr>\n",
              "    <tr>\n",
              "      <th>race/ethnicity</th>\n",
              "      <th>simple parental level of education</th>\n",
              "      <th></th>\n",
              "      <th></th>\n",
              "      <th></th>\n",
              "      <th></th>\n",
              "      <th></th>\n",
              "      <th></th>\n",
              "    </tr>\n",
              "  </thead>\n",
              "  <tbody>\n",
              "    <tr>\n",
              "      <th rowspan=\"3\" valign=\"top\">group A</th>\n",
              "      <th>college</th>\n",
              "      <td>4.73</td>\n",
              "      <td>5.00</td>\n",
              "      <td>4.89</td>\n",
              "      <td>4.87</td>\n",
              "      <td>24</td>\n",
              "      <td>2.74%</td>\n",
              "    </tr>\n",
              "    <tr>\n",
              "      <th>postgraduate</th>\n",
              "      <td>4.69</td>\n",
              "      <td>5.23</td>\n",
              "      <td>5.35</td>\n",
              "      <td>5.09</td>\n",
              "      <td>2</td>\n",
              "      <td>0.23%</td>\n",
              "    </tr>\n",
              "    <tr>\n",
              "      <th>school</th>\n",
              "      <td>4.57</td>\n",
              "      <td>4.73</td>\n",
              "      <td>4.56</td>\n",
              "      <td>4.62</td>\n",
              "      <td>51</td>\n",
              "      <td>5.83%</td>\n",
              "    </tr>\n",
              "    <tr>\n",
              "      <th rowspan=\"3\" valign=\"top\">group B</th>\n",
              "      <th>college</th>\n",
              "      <td>5.07</td>\n",
              "      <td>5.26</td>\n",
              "      <td>5.19</td>\n",
              "      <td>5.17</td>\n",
              "      <td>54</td>\n",
              "      <td>6.17%</td>\n",
              "    </tr>\n",
              "    <tr>\n",
              "      <th>postgraduate</th>\n",
              "      <td>4.91</td>\n",
              "      <td>5.69</td>\n",
              "      <td>5.55</td>\n",
              "      <td>5.38</td>\n",
              "      <td>5</td>\n",
              "      <td>0.57%</td>\n",
              "    </tr>\n",
              "    <tr>\n",
              "      <th>school</th>\n",
              "      <td>4.69</td>\n",
              "      <td>4.89</td>\n",
              "      <td>4.76</td>\n",
              "      <td>4.78</td>\n",
              "      <td>107</td>\n",
              "      <td>12.23%</td>\n",
              "    </tr>\n",
              "    <tr>\n",
              "      <th rowspan=\"3\" valign=\"top\">group C</th>\n",
              "      <th>college</th>\n",
              "      <td>5.02</td>\n",
              "      <td>5.37</td>\n",
              "      <td>5.35</td>\n",
              "      <td>5.25</td>\n",
              "      <td>102</td>\n",
              "      <td>11.66%</td>\n",
              "    </tr>\n",
              "    <tr>\n",
              "      <th>postgraduate</th>\n",
              "      <td>4.92</td>\n",
              "      <td>5.14</td>\n",
              "      <td>5.10</td>\n",
              "      <td>5.05</td>\n",
              "      <td>15</td>\n",
              "      <td>1.71%</td>\n",
              "    </tr>\n",
              "    <tr>\n",
              "      <th>school</th>\n",
              "      <td>4.76</td>\n",
              "      <td>5.02</td>\n",
              "      <td>4.92</td>\n",
              "      <td>4.90</td>\n",
              "      <td>155</td>\n",
              "      <td>17.71%</td>\n",
              "    </tr>\n",
              "    <tr>\n",
              "      <th rowspan=\"3\" valign=\"top\">group D</th>\n",
              "      <th>college</th>\n",
              "      <td>5.11</td>\n",
              "      <td>5.25</td>\n",
              "      <td>5.25</td>\n",
              "      <td>5.20</td>\n",
              "      <td>70</td>\n",
              "      <td>8.0%</td>\n",
              "    </tr>\n",
              "    <tr>\n",
              "      <th>postgraduate</th>\n",
              "      <td>5.22</td>\n",
              "      <td>5.54</td>\n",
              "      <td>5.73</td>\n",
              "      <td>5.50</td>\n",
              "      <td>20</td>\n",
              "      <td>2.29%</td>\n",
              "    </tr>\n",
              "    <tr>\n",
              "      <th>school</th>\n",
              "      <td>5.02</td>\n",
              "      <td>5.13</td>\n",
              "      <td>5.11</td>\n",
              "      <td>5.09</td>\n",
              "      <td>149</td>\n",
              "      <td>17.03%</td>\n",
              "    </tr>\n",
              "    <tr>\n",
              "      <th rowspan=\"3\" valign=\"top\">group E</th>\n",
              "      <th>college</th>\n",
              "      <td>5.54</td>\n",
              "      <td>5.45</td>\n",
              "      <td>5.45</td>\n",
              "      <td>5.48</td>\n",
              "      <td>52</td>\n",
              "      <td>5.94%</td>\n",
              "    </tr>\n",
              "    <tr>\n",
              "      <th>postgraduate</th>\n",
              "      <td>5.54</td>\n",
              "      <td>6.03</td>\n",
              "      <td>5.89</td>\n",
              "      <td>5.82</td>\n",
              "      <td>6</td>\n",
              "      <td>0.69%</td>\n",
              "    </tr>\n",
              "    <tr>\n",
              "      <th>school</th>\n",
              "      <td>5.40</td>\n",
              "      <td>5.31</td>\n",
              "      <td>5.16</td>\n",
              "      <td>5.29</td>\n",
              "      <td>63</td>\n",
              "      <td>7.2%</td>\n",
              "    </tr>\n",
              "  </tbody>\n",
              "</table>\n",
              "</div>"
            ],
            "text/plain": [
              "                                                   math score  ...  percentage\n",
              "race/ethnicity simple parental level of education              ...            \n",
              "group A        college                                   4.73  ...       2.74%\n",
              "               postgraduate                              4.69  ...       0.23%\n",
              "               school                                    4.57  ...       5.83%\n",
              "group B        college                                   5.07  ...       6.17%\n",
              "               postgraduate                              4.91  ...       0.57%\n",
              "               school                                    4.69  ...      12.23%\n",
              "group C        college                                   5.02  ...      11.66%\n",
              "               postgraduate                              4.92  ...       1.71%\n",
              "               school                                    4.76  ...      17.71%\n",
              "group D        college                                   5.11  ...        8.0%\n",
              "               postgraduate                              5.22  ...       2.29%\n",
              "               school                                    5.02  ...      17.03%\n",
              "group E        college                                   5.54  ...       5.94%\n",
              "               postgraduate                              5.54  ...       0.69%\n",
              "               school                                    5.40  ...        7.2%\n",
              "\n",
              "[15 rows x 6 columns]"
            ]
          },
          "metadata": {},
          "execution_count": 29
        }
      ]
    },
    {
      "cell_type": "code",
      "metadata": {
        "colab": {
          "base_uri": "https://localhost:8080/",
          "height": 542
        },
        "id": "z8ai7iEFCWcB",
        "outputId": "257e2c9b-7e37-4f05-b5ac-946f2495de77"
      },
      "source": [
        "import plotly.express as px\n",
        "fig = px.box(df3, x=df3.index.get_level_values(1), y=\"GPA\", color=df2.index.get_level_values(0))\n",
        "fig.show()"
      ],
      "execution_count": 30,
      "outputs": [
        {
          "output_type": "display_data",
          "data": {
            "text/html": [
              "<html>\n",
              "<head><meta charset=\"utf-8\" /></head>\n",
              "<body>\n",
              "    <div>\n",
              "            <script src=\"https://cdnjs.cloudflare.com/ajax/libs/mathjax/2.7.5/MathJax.js?config=TeX-AMS-MML_SVG\"></script><script type=\"text/javascript\">if (window.MathJax) {MathJax.Hub.Config({SVG: {font: \"STIX-Web\"}});}</script>\n",
              "                <script type=\"text/javascript\">window.PlotlyConfig = {MathJaxConfig: 'local'};</script>\n",
              "        <script src=\"https://cdn.plot.ly/plotly-latest.min.js\"></script>    \n",
              "            <div id=\"960cc3f2-fafa-4a3a-b8ab-b7e2d53218cf\" class=\"plotly-graph-div\" style=\"height:525px; width:100%;\"></div>\n",
              "            <script type=\"text/javascript\">\n",
              "                \n",
              "                    window.PLOTLYENV=window.PLOTLYENV || {};\n",
              "                    \n",
              "                if (document.getElementById(\"960cc3f2-fafa-4a3a-b8ab-b7e2d53218cf\")) {\n",
              "                    Plotly.newPlot(\n",
              "                        '960cc3f2-fafa-4a3a-b8ab-b7e2d53218cf',\n",
              "                        [{\"alignmentgroup\": \"True\", \"hoverlabel\": {\"namelength\": 0}, \"hovertemplate\": \"color=group A<br>x=%{x}<br>GPA=%{y}\", \"legendgroup\": \"color=group A\", \"marker\": {\"color\": \"#636efa\"}, \"name\": \"color=group A\", \"notched\": false, \"offsetgroup\": \"color=group A\", \"orientation\": \"v\", \"showlegend\": true, \"type\": \"box\", \"x\": [\"college\", \"postgraduate\", \"school\"], \"x0\": \" \", \"xaxis\": \"x\", \"y\": [4.87, 5.09, 4.62], \"y0\": \" \", \"yaxis\": \"y\"}, {\"alignmentgroup\": \"True\", \"hoverlabel\": {\"namelength\": 0}, \"hovertemplate\": \"color=group B<br>x=%{x}<br>GPA=%{y}\", \"legendgroup\": \"color=group B\", \"marker\": {\"color\": \"#EF553B\"}, \"name\": \"color=group B\", \"notched\": false, \"offsetgroup\": \"color=group B\", \"orientation\": \"v\", \"showlegend\": true, \"type\": \"box\", \"x\": [\"college\", \"postgraduate\", \"school\"], \"x0\": \" \", \"xaxis\": \"x\", \"y\": [5.17, 5.38, 4.78], \"y0\": \" \", \"yaxis\": \"y\"}, {\"alignmentgroup\": \"True\", \"hoverlabel\": {\"namelength\": 0}, \"hovertemplate\": \"color=group C<br>x=%{x}<br>GPA=%{y}\", \"legendgroup\": \"color=group C\", \"marker\": {\"color\": \"#00cc96\"}, \"name\": \"color=group C\", \"notched\": false, \"offsetgroup\": \"color=group C\", \"orientation\": \"v\", \"showlegend\": true, \"type\": \"box\", \"x\": [\"college\", \"postgraduate\", \"school\"], \"x0\": \" \", \"xaxis\": \"x\", \"y\": [5.25, 5.05, 4.9], \"y0\": \" \", \"yaxis\": \"y\"}, {\"alignmentgroup\": \"True\", \"hoverlabel\": {\"namelength\": 0}, \"hovertemplate\": \"color=group D<br>x=%{x}<br>GPA=%{y}\", \"legendgroup\": \"color=group D\", \"marker\": {\"color\": \"#ab63fa\"}, \"name\": \"color=group D\", \"notched\": false, \"offsetgroup\": \"color=group D\", \"orientation\": \"v\", \"showlegend\": true, \"type\": \"box\", \"x\": [\"college\", \"postgraduate\", \"school\"], \"x0\": \" \", \"xaxis\": \"x\", \"y\": [5.2, 5.5, 5.09], \"y0\": \" \", \"yaxis\": \"y\"}, {\"alignmentgroup\": \"True\", \"hoverlabel\": {\"namelength\": 0}, \"hovertemplate\": \"color=group E<br>x=%{x}<br>GPA=%{y}\", \"legendgroup\": \"color=group E\", \"marker\": {\"color\": \"#FFA15A\"}, \"name\": \"color=group E\", \"notched\": false, \"offsetgroup\": \"color=group E\", \"orientation\": \"v\", \"showlegend\": true, \"type\": \"box\", \"x\": [\"college\", \"postgraduate\", \"school\"], \"x0\": \" \", \"xaxis\": \"x\", \"y\": [5.48, 5.82, 5.29], \"y0\": \" \", \"yaxis\": \"y\"}],\n",
              "                        {\"boxmode\": \"group\", \"legend\": {\"tracegroupgap\": 0}, \"margin\": {\"t\": 60}, \"template\": {\"data\": {\"bar\": [{\"error_x\": {\"color\": \"#2a3f5f\"}, \"error_y\": {\"color\": \"#2a3f5f\"}, \"marker\": {\"line\": {\"color\": \"#E5ECF6\", \"width\": 0.5}}, \"type\": \"bar\"}], \"barpolar\": [{\"marker\": {\"line\": {\"color\": \"#E5ECF6\", \"width\": 0.5}}, \"type\": \"barpolar\"}], \"carpet\": [{\"aaxis\": {\"endlinecolor\": \"#2a3f5f\", \"gridcolor\": \"white\", \"linecolor\": \"white\", \"minorgridcolor\": \"white\", \"startlinecolor\": \"#2a3f5f\"}, \"baxis\": {\"endlinecolor\": \"#2a3f5f\", \"gridcolor\": \"white\", \"linecolor\": \"white\", \"minorgridcolor\": \"white\", \"startlinecolor\": \"#2a3f5f\"}, \"type\": \"carpet\"}], \"choropleth\": [{\"colorbar\": {\"outlinewidth\": 0, \"ticks\": \"\"}, \"type\": \"choropleth\"}], \"contour\": [{\"colorbar\": {\"outlinewidth\": 0, \"ticks\": \"\"}, \"colorscale\": [[0.0, \"#0d0887\"], [0.1111111111111111, \"#46039f\"], [0.2222222222222222, \"#7201a8\"], [0.3333333333333333, \"#9c179e\"], [0.4444444444444444, \"#bd3786\"], [0.5555555555555556, \"#d8576b\"], [0.6666666666666666, \"#ed7953\"], [0.7777777777777778, \"#fb9f3a\"], [0.8888888888888888, \"#fdca26\"], [1.0, \"#f0f921\"]], \"type\": \"contour\"}], \"contourcarpet\": [{\"colorbar\": {\"outlinewidth\": 0, \"ticks\": \"\"}, \"type\": \"contourcarpet\"}], \"heatmap\": [{\"colorbar\": {\"outlinewidth\": 0, \"ticks\": \"\"}, \"colorscale\": [[0.0, \"#0d0887\"], [0.1111111111111111, \"#46039f\"], [0.2222222222222222, \"#7201a8\"], [0.3333333333333333, \"#9c179e\"], [0.4444444444444444, \"#bd3786\"], [0.5555555555555556, \"#d8576b\"], [0.6666666666666666, \"#ed7953\"], [0.7777777777777778, \"#fb9f3a\"], [0.8888888888888888, \"#fdca26\"], [1.0, \"#f0f921\"]], \"type\": \"heatmap\"}], \"heatmapgl\": [{\"colorbar\": {\"outlinewidth\": 0, \"ticks\": \"\"}, \"colorscale\": [[0.0, \"#0d0887\"], [0.1111111111111111, \"#46039f\"], [0.2222222222222222, \"#7201a8\"], [0.3333333333333333, \"#9c179e\"], [0.4444444444444444, \"#bd3786\"], [0.5555555555555556, \"#d8576b\"], [0.6666666666666666, \"#ed7953\"], [0.7777777777777778, \"#fb9f3a\"], [0.8888888888888888, \"#fdca26\"], [1.0, \"#f0f921\"]], \"type\": \"heatmapgl\"}], \"histogram\": [{\"marker\": {\"colorbar\": {\"outlinewidth\": 0, \"ticks\": \"\"}}, \"type\": \"histogram\"}], \"histogram2d\": [{\"colorbar\": {\"outlinewidth\": 0, \"ticks\": \"\"}, \"colorscale\": [[0.0, \"#0d0887\"], [0.1111111111111111, \"#46039f\"], [0.2222222222222222, \"#7201a8\"], [0.3333333333333333, \"#9c179e\"], [0.4444444444444444, \"#bd3786\"], [0.5555555555555556, \"#d8576b\"], [0.6666666666666666, \"#ed7953\"], [0.7777777777777778, \"#fb9f3a\"], [0.8888888888888888, \"#fdca26\"], [1.0, \"#f0f921\"]], \"type\": \"histogram2d\"}], \"histogram2dcontour\": [{\"colorbar\": {\"outlinewidth\": 0, \"ticks\": \"\"}, \"colorscale\": [[0.0, \"#0d0887\"], [0.1111111111111111, \"#46039f\"], [0.2222222222222222, \"#7201a8\"], [0.3333333333333333, \"#9c179e\"], [0.4444444444444444, \"#bd3786\"], [0.5555555555555556, \"#d8576b\"], [0.6666666666666666, \"#ed7953\"], [0.7777777777777778, \"#fb9f3a\"], [0.8888888888888888, \"#fdca26\"], [1.0, \"#f0f921\"]], \"type\": \"histogram2dcontour\"}], \"mesh3d\": [{\"colorbar\": {\"outlinewidth\": 0, \"ticks\": \"\"}, \"type\": \"mesh3d\"}], \"parcoords\": [{\"line\": {\"colorbar\": {\"outlinewidth\": 0, \"ticks\": \"\"}}, \"type\": \"parcoords\"}], \"pie\": [{\"automargin\": true, \"type\": \"pie\"}], \"scatter\": [{\"marker\": {\"colorbar\": {\"outlinewidth\": 0, \"ticks\": \"\"}}, \"type\": \"scatter\"}], \"scatter3d\": [{\"line\": {\"colorbar\": {\"outlinewidth\": 0, \"ticks\": \"\"}}, \"marker\": {\"colorbar\": {\"outlinewidth\": 0, \"ticks\": \"\"}}, \"type\": \"scatter3d\"}], \"scattercarpet\": [{\"marker\": {\"colorbar\": {\"outlinewidth\": 0, \"ticks\": \"\"}}, \"type\": \"scattercarpet\"}], \"scattergeo\": [{\"marker\": {\"colorbar\": {\"outlinewidth\": 0, \"ticks\": \"\"}}, \"type\": \"scattergeo\"}], \"scattergl\": [{\"marker\": {\"colorbar\": {\"outlinewidth\": 0, \"ticks\": \"\"}}, \"type\": \"scattergl\"}], \"scattermapbox\": [{\"marker\": {\"colorbar\": {\"outlinewidth\": 0, \"ticks\": \"\"}}, \"type\": \"scattermapbox\"}], \"scatterpolar\": [{\"marker\": {\"colorbar\": {\"outlinewidth\": 0, \"ticks\": \"\"}}, \"type\": \"scatterpolar\"}], \"scatterpolargl\": [{\"marker\": {\"colorbar\": {\"outlinewidth\": 0, \"ticks\": \"\"}}, \"type\": \"scatterpolargl\"}], \"scatterternary\": [{\"marker\": {\"colorbar\": {\"outlinewidth\": 0, \"ticks\": \"\"}}, \"type\": \"scatterternary\"}], \"surface\": [{\"colorbar\": {\"outlinewidth\": 0, \"ticks\": \"\"}, \"colorscale\": [[0.0, \"#0d0887\"], [0.1111111111111111, \"#46039f\"], [0.2222222222222222, \"#7201a8\"], [0.3333333333333333, \"#9c179e\"], [0.4444444444444444, \"#bd3786\"], [0.5555555555555556, \"#d8576b\"], [0.6666666666666666, \"#ed7953\"], [0.7777777777777778, \"#fb9f3a\"], [0.8888888888888888, \"#fdca26\"], [1.0, \"#f0f921\"]], \"type\": \"surface\"}], \"table\": [{\"cells\": {\"fill\": {\"color\": \"#EBF0F8\"}, \"line\": {\"color\": \"white\"}}, \"header\": {\"fill\": {\"color\": \"#C8D4E3\"}, \"line\": {\"color\": \"white\"}}, \"type\": \"table\"}]}, \"layout\": {\"annotationdefaults\": {\"arrowcolor\": \"#2a3f5f\", \"arrowhead\": 0, \"arrowwidth\": 1}, \"coloraxis\": {\"colorbar\": {\"outlinewidth\": 0, \"ticks\": \"\"}}, \"colorscale\": {\"diverging\": [[0, \"#8e0152\"], [0.1, \"#c51b7d\"], [0.2, \"#de77ae\"], [0.3, \"#f1b6da\"], [0.4, \"#fde0ef\"], [0.5, \"#f7f7f7\"], [0.6, \"#e6f5d0\"], [0.7, \"#b8e186\"], [0.8, \"#7fbc41\"], [0.9, \"#4d9221\"], [1, \"#276419\"]], \"sequential\": [[0.0, \"#0d0887\"], [0.1111111111111111, \"#46039f\"], [0.2222222222222222, \"#7201a8\"], [0.3333333333333333, \"#9c179e\"], [0.4444444444444444, \"#bd3786\"], [0.5555555555555556, \"#d8576b\"], [0.6666666666666666, \"#ed7953\"], [0.7777777777777778, \"#fb9f3a\"], [0.8888888888888888, \"#fdca26\"], [1.0, \"#f0f921\"]], \"sequentialminus\": [[0.0, \"#0d0887\"], [0.1111111111111111, \"#46039f\"], [0.2222222222222222, \"#7201a8\"], [0.3333333333333333, \"#9c179e\"], [0.4444444444444444, \"#bd3786\"], [0.5555555555555556, \"#d8576b\"], [0.6666666666666666, \"#ed7953\"], [0.7777777777777778, \"#fb9f3a\"], [0.8888888888888888, \"#fdca26\"], [1.0, \"#f0f921\"]]}, \"colorway\": [\"#636efa\", \"#EF553B\", \"#00cc96\", \"#ab63fa\", \"#FFA15A\", \"#19d3f3\", \"#FF6692\", \"#B6E880\", \"#FF97FF\", \"#FECB52\"], \"font\": {\"color\": \"#2a3f5f\"}, \"geo\": {\"bgcolor\": \"white\", \"lakecolor\": \"white\", \"landcolor\": \"#E5ECF6\", \"showlakes\": true, \"showland\": true, \"subunitcolor\": \"white\"}, \"hoverlabel\": {\"align\": \"left\"}, \"hovermode\": \"closest\", \"mapbox\": {\"style\": \"light\"}, \"paper_bgcolor\": \"white\", \"plot_bgcolor\": \"#E5ECF6\", \"polar\": {\"angularaxis\": {\"gridcolor\": \"white\", \"linecolor\": \"white\", \"ticks\": \"\"}, \"bgcolor\": \"#E5ECF6\", \"radialaxis\": {\"gridcolor\": \"white\", \"linecolor\": \"white\", \"ticks\": \"\"}}, \"scene\": {\"xaxis\": {\"backgroundcolor\": \"#E5ECF6\", \"gridcolor\": \"white\", \"gridwidth\": 2, \"linecolor\": \"white\", \"showbackground\": true, \"ticks\": \"\", \"zerolinecolor\": \"white\"}, \"yaxis\": {\"backgroundcolor\": \"#E5ECF6\", \"gridcolor\": \"white\", \"gridwidth\": 2, \"linecolor\": \"white\", \"showbackground\": true, \"ticks\": \"\", \"zerolinecolor\": \"white\"}, \"zaxis\": {\"backgroundcolor\": \"#E5ECF6\", \"gridcolor\": \"white\", \"gridwidth\": 2, \"linecolor\": \"white\", \"showbackground\": true, \"ticks\": \"\", \"zerolinecolor\": \"white\"}}, \"shapedefaults\": {\"line\": {\"color\": \"#2a3f5f\"}}, \"ternary\": {\"aaxis\": {\"gridcolor\": \"white\", \"linecolor\": \"white\", \"ticks\": \"\"}, \"baxis\": {\"gridcolor\": \"white\", \"linecolor\": \"white\", \"ticks\": \"\"}, \"bgcolor\": \"#E5ECF6\", \"caxis\": {\"gridcolor\": \"white\", \"linecolor\": \"white\", \"ticks\": \"\"}}, \"title\": {\"x\": 0.05}, \"xaxis\": {\"automargin\": true, \"gridcolor\": \"white\", \"linecolor\": \"white\", \"ticks\": \"\", \"title\": {\"standoff\": 15}, \"zerolinecolor\": \"white\", \"zerolinewidth\": 2}, \"yaxis\": {\"automargin\": true, \"gridcolor\": \"white\", \"linecolor\": \"white\", \"ticks\": \"\", \"title\": {\"standoff\": 15}, \"zerolinecolor\": \"white\", \"zerolinewidth\": 2}}}, \"xaxis\": {\"anchor\": \"y\", \"domain\": [0.0, 1.0], \"title\": {\"text\": \"x\"}}, \"yaxis\": {\"anchor\": \"x\", \"domain\": [0.0, 1.0], \"title\": {\"text\": \"GPA\"}}},\n",
              "                        {\"responsive\": true}\n",
              "                    ).then(function(){\n",
              "                            \n",
              "var gd = document.getElementById('960cc3f2-fafa-4a3a-b8ab-b7e2d53218cf');\n",
              "var x = new MutationObserver(function (mutations, observer) {{\n",
              "        var display = window.getComputedStyle(gd).display;\n",
              "        if (!display || display === 'none') {{\n",
              "            console.log([gd, 'removed!']);\n",
              "            Plotly.purge(gd);\n",
              "            observer.disconnect();\n",
              "        }}\n",
              "}});\n",
              "\n",
              "// Listen for the removal of the full notebook cells\n",
              "var notebookContainer = gd.closest('#notebook-container');\n",
              "if (notebookContainer) {{\n",
              "    x.observe(notebookContainer, {childList: true});\n",
              "}}\n",
              "\n",
              "// Listen for the clearing of the current output cell\n",
              "var outputEl = gd.closest('.output');\n",
              "if (outputEl) {{\n",
              "    x.observe(outputEl, {childList: true});\n",
              "}}\n",
              "\n",
              "                        })\n",
              "                };\n",
              "                \n",
              "            </script>\n",
              "        </div>\n",
              "</body>\n",
              "</html>"
            ]
          },
          "metadata": {}
        }
      ]
    },
    {
      "cell_type": "markdown",
      "metadata": {
        "id": "loUzspGXijp1"
      },
      "source": [
        "> 1. ¿Hay alguna diferencia entre los grupos graficados tanto para el nivel educacional de los padres como también para la etnicidad?\n",
        "> 2. ¿Este gráfico permite hacer facilmente un análisis conjunto de estas dos variables de forma sencilla?"
      ]
    },
    {
      "cell_type": "markdown",
      "metadata": {
        "id": "jb9sjfJlwolM"
      },
      "source": [
        "**Justifique:**"
      ]
    },
    {
      "cell_type": "markdown",
      "metadata": {
        "id": "vDl7h7JbwrKh"
      },
      "source": [
        "Como se puede observar en la visualización, se podría decir que si hay diferencias entre los grupos, tanto para nivel educacional como etnicidad, se puede observar que los alumnos con padres de educación \"postgrado\" tienen un GPA mayor que los alumnos con padres con niveles educacionales de \"school\", y a su vez, los alumnos con padres con niveles educacionales \"college\" tienen un promedio de GPA más bajo que \"postgraduate\", pero más alto que \"school\".\n",
        "\n",
        "Con respecto a la etnicidad, también se puede observar una tendencia marcada, como por ejemplo, que los alumnos con etnias de grupo E tienen mayores GPA,y los de etnias de grupo A, tienen los GPAs más bajos (salvo para la categoria \"postgraduate\", en donde el valor más bajo está dado por el grupo C).\n",
        "\n",
        "Con respecto a la pregunta de si es o no el mejor gráfico para representar esta información, la respuesta es no, ya que hay muchas más opciones de visualización que podrían aplicarse para observar esto de mejor forma, a pesar de que muestra la información relevante, no es la mejor forma de enseñarla."
      ]
    },
    {
      "cell_type": "markdown",
      "metadata": {
        "id": "PzF4GclNrwAt"
      },
      "source": [
        "# 1.3.5 Combinar Dataset [1 punto]"
      ]
    },
    {
      "cell_type": "markdown",
      "metadata": {
        "id": "8p4P1F9q06SP"
      },
      "source": [
        "Mientras le notificaba por videollamada los resultados de sus descubrimientos a Don Caguayo, un exaltado practicante del area de TI entra a la reunión y les informa que ha encontrado una nueva base de datos que cuenta con las notas de dos asignaturas (en escala chilena): historia y ciencias. \n",
        "Para más remate, antes de huir, el practicante les cuenta que este dataframe lamentablemente contiene nuevamente los alumnos de los registros corruptos que ud. y su equipo filtraron en el análisis anterior.\n",
        " \n",
        " \n",
        "El rector (evidentemente molesto por la situación) les ruega incluir estos datos (vaciados en el archivo other_grades.csv) al estudio original(`students_grades.csv`). \n",
        "\n",
        "\n",
        "Para esto, carge el archivo `other_grades.csv` y busque la forma de unir ambos DataFrames, de tal manera que las columnas de `history score` y `science score` se anexen al final del DataFrame original. **NO LIMPIE LOS DATOS**, si no que explore los distintos tipos de merge para encontrar el mas situable para su situación (y así evitar buscar duplicados).\n",
        "\n",
        "**To-Do**\n",
        "\n",
        "- [ ] Cargar el `other_grades.csv`\n",
        "- [ ] Unir `df_grades` con `other_grades.csv` usando outer join y explique el resultado.\n",
        "- [ ] Unir `df_grades` con `other_grades.csv` usando left join y explique el resultado.\n",
        "- [ ] Unir `df_grades` con `other_grades.csv` usando right join y explique el resultado.\n",
        "- [ ] Unir `df_grades` con `other_grades.csv` usando inner join y explique el resultado.\n",
        "- [ ] Defina cuál join es el que utilizará para generar el nuevo DataFrame.\n",
        "\n",
        "> **Hint**: Puede explicar los resultados del merge a través de la cantidad de filas resultantes y los valores que estas contienen."
      ]
    },
    {
      "cell_type": "code",
      "metadata": {
        "colab": {
          "base_uri": "https://localhost:8080/",
          "height": 143
        },
        "id": "pqJzp3sSOZlY",
        "outputId": "7f356837-4969-44a0-efb6-951983e9b0cd"
      },
      "source": [
        "other_grades= pd.read_csv(\"other_grades.csv\")\n",
        "other_grades.head(3)"
      ],
      "execution_count": 31,
      "outputs": [
        {
          "output_type": "execute_result",
          "data": {
            "text/html": [
              "<div>\n",
              "<style scoped>\n",
              "    .dataframe tbody tr th:only-of-type {\n",
              "        vertical-align: middle;\n",
              "    }\n",
              "\n",
              "    .dataframe tbody tr th {\n",
              "        vertical-align: top;\n",
              "    }\n",
              "\n",
              "    .dataframe thead th {\n",
              "        text-align: right;\n",
              "    }\n",
              "</style>\n",
              "<table border=\"1\" class=\"dataframe\">\n",
              "  <thead>\n",
              "    <tr style=\"text-align: right;\">\n",
              "      <th></th>\n",
              "      <th>names</th>\n",
              "      <th>science score</th>\n",
              "      <th>history score</th>\n",
              "    </tr>\n",
              "  </thead>\n",
              "  <tbody>\n",
              "    <tr>\n",
              "      <th>0</th>\n",
              "      <td>Pam Otoole</td>\n",
              "      <td>57</td>\n",
              "      <td>4.0</td>\n",
              "    </tr>\n",
              "    <tr>\n",
              "      <th>1</th>\n",
              "      <td>Diane Olson</td>\n",
              "      <td>48</td>\n",
              "      <td>4.8</td>\n",
              "    </tr>\n",
              "    <tr>\n",
              "      <th>2</th>\n",
              "      <td>Sarah Flannery</td>\n",
              "      <td>72</td>\n",
              "      <td>6.1</td>\n",
              "    </tr>\n",
              "  </tbody>\n",
              "</table>\n",
              "</div>"
            ],
            "text/plain": [
              "            names  science score  history score\n",
              "0      Pam Otoole             57            4.0\n",
              "1     Diane Olson             48            4.8\n",
              "2  Sarah Flannery             72            6.1"
            ]
          },
          "metadata": {},
          "execution_count": 31
        }
      ]
    },
    {
      "cell_type": "code",
      "metadata": {
        "colab": {
          "base_uri": "https://localhost:8080/"
        },
        "id": "RCa7tlDI80Za",
        "outputId": "33cac430-f690-4703-9f53-257f6fe46b63"
      },
      "source": [
        "other_grades.shape"
      ],
      "execution_count": 45,
      "outputs": [
        {
          "output_type": "execute_result",
          "data": {
            "text/plain": [
              "(1000, 3)"
            ]
          },
          "metadata": {},
          "execution_count": 45
        }
      ]
    },
    {
      "cell_type": "code",
      "metadata": {
        "colab": {
          "base_uri": "https://localhost:8080/",
          "height": 49
        },
        "id": "_Rl3JaSk9I_c",
        "outputId": "3bf0f909-788e-4a9d-aad2-44304bc69aaf"
      },
      "source": [
        "other_grades[other_grades.duplicated('names')]"
      ],
      "execution_count": 47,
      "outputs": [
        {
          "output_type": "execute_result",
          "data": {
            "text/html": [
              "<div>\n",
              "<style scoped>\n",
              "    .dataframe tbody tr th:only-of-type {\n",
              "        vertical-align: middle;\n",
              "    }\n",
              "\n",
              "    .dataframe tbody tr th {\n",
              "        vertical-align: top;\n",
              "    }\n",
              "\n",
              "    .dataframe thead th {\n",
              "        text-align: right;\n",
              "    }\n",
              "</style>\n",
              "<table border=\"1\" class=\"dataframe\">\n",
              "  <thead>\n",
              "    <tr style=\"text-align: right;\">\n",
              "      <th></th>\n",
              "      <th>names</th>\n",
              "      <th>science score</th>\n",
              "      <th>history score</th>\n",
              "    </tr>\n",
              "  </thead>\n",
              "  <tbody>\n",
              "  </tbody>\n",
              "</table>\n",
              "</div>"
            ],
            "text/plain": [
              "Empty DataFrame\n",
              "Columns: [names, science score, history score]\n",
              "Index: []"
            ]
          },
          "metadata": {},
          "execution_count": 47
        }
      ]
    },
    {
      "cell_type": "code",
      "metadata": {
        "colab": {
          "base_uri": "https://localhost:8080/",
          "height": 143
        },
        "id": "HUl8zlGGO8fH",
        "outputId": "41b8281b-acc9-4a7a-c8cf-3899eb727123"
      },
      "source": [
        "df_grades = pd.read_json(\"students_grades.json\")\n",
        "df_grades.head(3)"
      ],
      "execution_count": 32,
      "outputs": [
        {
          "output_type": "execute_result",
          "data": {
            "text/html": [
              "<div>\n",
              "<style scoped>\n",
              "    .dataframe tbody tr th:only-of-type {\n",
              "        vertical-align: middle;\n",
              "    }\n",
              "\n",
              "    .dataframe tbody tr th {\n",
              "        vertical-align: top;\n",
              "    }\n",
              "\n",
              "    .dataframe thead th {\n",
              "        text-align: right;\n",
              "    }\n",
              "</style>\n",
              "<table border=\"1\" class=\"dataframe\">\n",
              "  <thead>\n",
              "    <tr style=\"text-align: right;\">\n",
              "      <th></th>\n",
              "      <th>names</th>\n",
              "      <th>gender</th>\n",
              "      <th>race/ethnicity</th>\n",
              "      <th>parental level of education</th>\n",
              "      <th>lunch</th>\n",
              "      <th>test preparation course</th>\n",
              "      <th>math score</th>\n",
              "      <th>reading score</th>\n",
              "      <th>writing score</th>\n",
              "    </tr>\n",
              "  </thead>\n",
              "  <tbody>\n",
              "    <tr>\n",
              "      <th>0</th>\n",
              "      <td>Rita Courtney</td>\n",
              "      <td>female</td>\n",
              "      <td>group B</td>\n",
              "      <td>some high school</td>\n",
              "      <td>standard</td>\n",
              "      <td>none</td>\n",
              "      <td>37</td>\n",
              "      <td>46</td>\n",
              "      <td>46</td>\n",
              "    </tr>\n",
              "    <tr>\n",
              "      <th>1</th>\n",
              "      <td>Madeline Fuller</td>\n",
              "      <td>female</td>\n",
              "      <td>group C</td>\n",
              "      <td>some high school</td>\n",
              "      <td>standard</td>\n",
              "      <td>none</td>\n",
              "      <td>124</td>\n",
              "      <td>142</td>\n",
              "      <td>142</td>\n",
              "    </tr>\n",
              "    <tr>\n",
              "      <th>2</th>\n",
              "      <td>Daniel Rester</td>\n",
              "      <td>male</td>\n",
              "      <td>group E</td>\n",
              "      <td>associate's degree</td>\n",
              "      <td>standard</td>\n",
              "      <td>none</td>\n",
              "      <td>156</td>\n",
              "      <td>196</td>\n",
              "      <td>193</td>\n",
              "    </tr>\n",
              "  </tbody>\n",
              "</table>\n",
              "</div>"
            ],
            "text/plain": [
              "             names  gender  ... reading score writing score\n",
              "0    Rita Courtney  female  ...            46            46\n",
              "1  Madeline Fuller  female  ...           142           142\n",
              "2    Daniel Rester    male  ...           196           193\n",
              "\n",
              "[3 rows x 9 columns]"
            ]
          },
          "metadata": {},
          "execution_count": 32
        }
      ]
    },
    {
      "cell_type": "code",
      "metadata": {
        "id": "WKBJJqLJ0DXN",
        "colab": {
          "base_uri": "https://localhost:8080/",
          "height": 178
        },
        "outputId": "d0cccc84-406e-4cff-e847-4c428aa8645d"
      },
      "source": [
        "#Unir df_grades con other_grades.csv usando outer join\n",
        "df_outer= pd.merge(df_grades, other_grades, on=[\"names\"], how='outer')\n",
        "df_outer.head(3)"
      ],
      "execution_count": 33,
      "outputs": [
        {
          "output_type": "execute_result",
          "data": {
            "text/html": [
              "<div>\n",
              "<style scoped>\n",
              "    .dataframe tbody tr th:only-of-type {\n",
              "        vertical-align: middle;\n",
              "    }\n",
              "\n",
              "    .dataframe tbody tr th {\n",
              "        vertical-align: top;\n",
              "    }\n",
              "\n",
              "    .dataframe thead th {\n",
              "        text-align: right;\n",
              "    }\n",
              "</style>\n",
              "<table border=\"1\" class=\"dataframe\">\n",
              "  <thead>\n",
              "    <tr style=\"text-align: right;\">\n",
              "      <th></th>\n",
              "      <th>names</th>\n",
              "      <th>gender</th>\n",
              "      <th>race/ethnicity</th>\n",
              "      <th>parental level of education</th>\n",
              "      <th>lunch</th>\n",
              "      <th>test preparation course</th>\n",
              "      <th>math score</th>\n",
              "      <th>reading score</th>\n",
              "      <th>writing score</th>\n",
              "      <th>science score</th>\n",
              "      <th>history score</th>\n",
              "    </tr>\n",
              "  </thead>\n",
              "  <tbody>\n",
              "    <tr>\n",
              "      <th>0</th>\n",
              "      <td>Rita Courtney</td>\n",
              "      <td>female</td>\n",
              "      <td>group B</td>\n",
              "      <td>some high school</td>\n",
              "      <td>standard</td>\n",
              "      <td>none</td>\n",
              "      <td>37</td>\n",
              "      <td>46</td>\n",
              "      <td>46</td>\n",
              "      <td>25.0</td>\n",
              "      <td>3.8</td>\n",
              "    </tr>\n",
              "    <tr>\n",
              "      <th>1</th>\n",
              "      <td>Rita Courtney</td>\n",
              "      <td>female</td>\n",
              "      <td>group B</td>\n",
              "      <td>some high school</td>\n",
              "      <td>standard</td>\n",
              "      <td>none</td>\n",
              "      <td>193</td>\n",
              "      <td>193</td>\n",
              "      <td>193</td>\n",
              "      <td>25.0</td>\n",
              "      <td>3.8</td>\n",
              "    </tr>\n",
              "    <tr>\n",
              "      <th>2</th>\n",
              "      <td>Madeline Fuller</td>\n",
              "      <td>female</td>\n",
              "      <td>group C</td>\n",
              "      <td>some high school</td>\n",
              "      <td>standard</td>\n",
              "      <td>none</td>\n",
              "      <td>124</td>\n",
              "      <td>142</td>\n",
              "      <td>142</td>\n",
              "      <td>NaN</td>\n",
              "      <td>NaN</td>\n",
              "    </tr>\n",
              "  </tbody>\n",
              "</table>\n",
              "</div>"
            ],
            "text/plain": [
              "             names  gender  ... science score history score\n",
              "0    Rita Courtney  female  ...          25.0           3.8\n",
              "1    Rita Courtney  female  ...          25.0           3.8\n",
              "2  Madeline Fuller  female  ...           NaN           NaN\n",
              "\n",
              "[3 rows x 11 columns]"
            ]
          },
          "metadata": {},
          "execution_count": 33
        }
      ]
    },
    {
      "cell_type": "code",
      "metadata": {
        "colab": {
          "base_uri": "https://localhost:8080/"
        },
        "id": "rU6LXOb3RRvA",
        "outputId": "b2994d16-0106-4eaa-de95-516bfa1c7696"
      },
      "source": [
        "df_outer.shape"
      ],
      "execution_count": 34,
      "outputs": [
        {
          "output_type": "execute_result",
          "data": {
            "text/plain": [
              "(1400, 11)"
            ]
          },
          "metadata": {},
          "execution_count": 34
        }
      ]
    },
    {
      "cell_type": "code",
      "metadata": {
        "colab": {
          "base_uri": "https://localhost:8080/"
        },
        "id": "8haNhfTuQ7il",
        "outputId": "fdf13488-a4dd-47c4-9222-29a7d38a6ded"
      },
      "source": [
        "df_outer.isnull().sum(). sort_values(ascending=False)"
      ],
      "execution_count": 35,
      "outputs": [
        {
          "output_type": "execute_result",
          "data": {
            "text/plain": [
              "history score                  153\n",
              "science score                  153\n",
              "writing score                    0\n",
              "reading score                    0\n",
              "math score                       0\n",
              "test preparation course          0\n",
              "lunch                            0\n",
              "parental level of education      0\n",
              "race/ethnicity                   0\n",
              "gender                           0\n",
              "names                            0\n",
              "dtype: int64"
            ]
          },
          "metadata": {},
          "execution_count": 35
        }
      ]
    },
    {
      "cell_type": "code",
      "metadata": {
        "colab": {
          "base_uri": "https://localhost:8080/"
        },
        "id": "9iJtOYFG-xYr",
        "outputId": "510c4d8b-7921-41c7-a1c7-01824ef3ae35"
      },
      "source": [
        "df_outer[df_outer.duplicated('names')].shape"
      ],
      "execution_count": 52,
      "outputs": [
        {
          "output_type": "execute_result",
          "data": {
            "text/plain": [
              "(247, 11)"
            ]
          },
          "metadata": {},
          "execution_count": 52
        }
      ]
    },
    {
      "cell_type": "code",
      "metadata": {
        "colab": {
          "base_uri": "https://localhost:8080/",
          "height": 178
        },
        "id": "TyXdXw0GP3Pi",
        "outputId": "6ac8e7dc-7cd8-4610-9d98-e903a7678afd"
      },
      "source": [
        "#Unir df_grades con other_grades.csv usando left join\n",
        "df_left= pd.merge(df_grades, other_grades, on=[\"names\"], how='left')\n",
        "df_left.head(3)"
      ],
      "execution_count": 36,
      "outputs": [
        {
          "output_type": "execute_result",
          "data": {
            "text/html": [
              "<div>\n",
              "<style scoped>\n",
              "    .dataframe tbody tr th:only-of-type {\n",
              "        vertical-align: middle;\n",
              "    }\n",
              "\n",
              "    .dataframe tbody tr th {\n",
              "        vertical-align: top;\n",
              "    }\n",
              "\n",
              "    .dataframe thead th {\n",
              "        text-align: right;\n",
              "    }\n",
              "</style>\n",
              "<table border=\"1\" class=\"dataframe\">\n",
              "  <thead>\n",
              "    <tr style=\"text-align: right;\">\n",
              "      <th></th>\n",
              "      <th>names</th>\n",
              "      <th>gender</th>\n",
              "      <th>race/ethnicity</th>\n",
              "      <th>parental level of education</th>\n",
              "      <th>lunch</th>\n",
              "      <th>test preparation course</th>\n",
              "      <th>math score</th>\n",
              "      <th>reading score</th>\n",
              "      <th>writing score</th>\n",
              "      <th>science score</th>\n",
              "      <th>history score</th>\n",
              "    </tr>\n",
              "  </thead>\n",
              "  <tbody>\n",
              "    <tr>\n",
              "      <th>0</th>\n",
              "      <td>Rita Courtney</td>\n",
              "      <td>female</td>\n",
              "      <td>group B</td>\n",
              "      <td>some high school</td>\n",
              "      <td>standard</td>\n",
              "      <td>none</td>\n",
              "      <td>37</td>\n",
              "      <td>46</td>\n",
              "      <td>46</td>\n",
              "      <td>25.0</td>\n",
              "      <td>3.8</td>\n",
              "    </tr>\n",
              "    <tr>\n",
              "      <th>1</th>\n",
              "      <td>Madeline Fuller</td>\n",
              "      <td>female</td>\n",
              "      <td>group C</td>\n",
              "      <td>some high school</td>\n",
              "      <td>standard</td>\n",
              "      <td>none</td>\n",
              "      <td>124</td>\n",
              "      <td>142</td>\n",
              "      <td>142</td>\n",
              "      <td>NaN</td>\n",
              "      <td>NaN</td>\n",
              "    </tr>\n",
              "    <tr>\n",
              "      <th>2</th>\n",
              "      <td>Daniel Rester</td>\n",
              "      <td>male</td>\n",
              "      <td>group E</td>\n",
              "      <td>associate's degree</td>\n",
              "      <td>standard</td>\n",
              "      <td>none</td>\n",
              "      <td>156</td>\n",
              "      <td>196</td>\n",
              "      <td>193</td>\n",
              "      <td>NaN</td>\n",
              "      <td>NaN</td>\n",
              "    </tr>\n",
              "  </tbody>\n",
              "</table>\n",
              "</div>"
            ],
            "text/plain": [
              "             names  gender  ... science score history score\n",
              "0    Rita Courtney  female  ...          25.0           3.8\n",
              "1  Madeline Fuller  female  ...           NaN           NaN\n",
              "2    Daniel Rester    male  ...           NaN           NaN\n",
              "\n",
              "[3 rows x 11 columns]"
            ]
          },
          "metadata": {},
          "execution_count": 36
        }
      ]
    },
    {
      "cell_type": "code",
      "metadata": {
        "colab": {
          "base_uri": "https://localhost:8080/"
        },
        "id": "A19k3NZ0RVuj",
        "outputId": "16f5c7b1-cac7-4143-855f-c3717937ffeb"
      },
      "source": [
        "df_left.shape"
      ],
      "execution_count": 37,
      "outputs": [
        {
          "output_type": "execute_result",
          "data": {
            "text/plain": [
              "(1400, 11)"
            ]
          },
          "metadata": {},
          "execution_count": 37
        }
      ]
    },
    {
      "cell_type": "code",
      "metadata": {
        "colab": {
          "base_uri": "https://localhost:8080/"
        },
        "id": "9C_OsDaQQtsN",
        "outputId": "02d26f98-cfe0-4e7e-db35-9d106b1bc4e3"
      },
      "source": [
        "df_left.isnull().sum(). sort_values(ascending=False)"
      ],
      "execution_count": 38,
      "outputs": [
        {
          "output_type": "execute_result",
          "data": {
            "text/plain": [
              "history score                  153\n",
              "science score                  153\n",
              "writing score                    0\n",
              "reading score                    0\n",
              "math score                       0\n",
              "test preparation course          0\n",
              "lunch                            0\n",
              "parental level of education      0\n",
              "race/ethnicity                   0\n",
              "gender                           0\n",
              "names                            0\n",
              "dtype: int64"
            ]
          },
          "metadata": {},
          "execution_count": 38
        }
      ]
    },
    {
      "cell_type": "code",
      "metadata": {
        "colab": {
          "base_uri": "https://localhost:8080/"
        },
        "id": "U8Y-LntT-sT3",
        "outputId": "8a596618-badc-4fc0-97af-5817c2204c97"
      },
      "source": [
        "df_left[df_left.duplicated('names')].shape"
      ],
      "execution_count": 51,
      "outputs": [
        {
          "output_type": "execute_result",
          "data": {
            "text/plain": [
              "(247, 11)"
            ]
          },
          "metadata": {},
          "execution_count": 51
        }
      ]
    },
    {
      "cell_type": "code",
      "metadata": {
        "colab": {
          "base_uri": "https://localhost:8080/",
          "height": 178
        },
        "id": "6eXH63LGP3Wy",
        "outputId": "df166b57-9843-4861-a4f3-fb69880bd929"
      },
      "source": [
        "#Unir df_grades con other_grades.csv usando right join\n",
        "df_right= pd.merge(df_grades, other_grades, on=[\"names\"], how='right')\n",
        "df_right.head(3)"
      ],
      "execution_count": 39,
      "outputs": [
        {
          "output_type": "execute_result",
          "data": {
            "text/html": [
              "<div>\n",
              "<style scoped>\n",
              "    .dataframe tbody tr th:only-of-type {\n",
              "        vertical-align: middle;\n",
              "    }\n",
              "\n",
              "    .dataframe tbody tr th {\n",
              "        vertical-align: top;\n",
              "    }\n",
              "\n",
              "    .dataframe thead th {\n",
              "        text-align: right;\n",
              "    }\n",
              "</style>\n",
              "<table border=\"1\" class=\"dataframe\">\n",
              "  <thead>\n",
              "    <tr style=\"text-align: right;\">\n",
              "      <th></th>\n",
              "      <th>names</th>\n",
              "      <th>gender</th>\n",
              "      <th>race/ethnicity</th>\n",
              "      <th>parental level of education</th>\n",
              "      <th>lunch</th>\n",
              "      <th>test preparation course</th>\n",
              "      <th>math score</th>\n",
              "      <th>reading score</th>\n",
              "      <th>writing score</th>\n",
              "      <th>science score</th>\n",
              "      <th>history score</th>\n",
              "    </tr>\n",
              "  </thead>\n",
              "  <tbody>\n",
              "    <tr>\n",
              "      <th>0</th>\n",
              "      <td>Pam Otoole</td>\n",
              "      <td>female</td>\n",
              "      <td>group B</td>\n",
              "      <td>bachelor's degree</td>\n",
              "      <td>standard</td>\n",
              "      <td>none</td>\n",
              "      <td>72</td>\n",
              "      <td>72</td>\n",
              "      <td>74</td>\n",
              "      <td>57</td>\n",
              "      <td>4.0</td>\n",
              "    </tr>\n",
              "    <tr>\n",
              "      <th>1</th>\n",
              "      <td>Diane Olson</td>\n",
              "      <td>female</td>\n",
              "      <td>group C</td>\n",
              "      <td>some college</td>\n",
              "      <td>standard</td>\n",
              "      <td>completed</td>\n",
              "      <td>69</td>\n",
              "      <td>90</td>\n",
              "      <td>88</td>\n",
              "      <td>48</td>\n",
              "      <td>4.8</td>\n",
              "    </tr>\n",
              "    <tr>\n",
              "      <th>2</th>\n",
              "      <td>Sarah Flannery</td>\n",
              "      <td>female</td>\n",
              "      <td>group B</td>\n",
              "      <td>master's degree</td>\n",
              "      <td>standard</td>\n",
              "      <td>none</td>\n",
              "      <td>90</td>\n",
              "      <td>95</td>\n",
              "      <td>93</td>\n",
              "      <td>72</td>\n",
              "      <td>6.1</td>\n",
              "    </tr>\n",
              "  </tbody>\n",
              "</table>\n",
              "</div>"
            ],
            "text/plain": [
              "            names  gender  ... science score history score\n",
              "0      Pam Otoole  female  ...            57           4.0\n",
              "1     Diane Olson  female  ...            48           4.8\n",
              "2  Sarah Flannery  female  ...            72           6.1\n",
              "\n",
              "[3 rows x 11 columns]"
            ]
          },
          "metadata": {},
          "execution_count": 39
        }
      ]
    },
    {
      "cell_type": "code",
      "metadata": {
        "colab": {
          "base_uri": "https://localhost:8080/"
        },
        "id": "DaVe0urqRYrY",
        "outputId": "8aefc1d7-87f7-4f84-b3f4-21ffb0d8641b"
      },
      "source": [
        "df_right.shape"
      ],
      "execution_count": 40,
      "outputs": [
        {
          "output_type": "execute_result",
          "data": {
            "text/plain": [
              "(1247, 11)"
            ]
          },
          "metadata": {},
          "execution_count": 40
        }
      ]
    },
    {
      "cell_type": "code",
      "metadata": {
        "colab": {
          "base_uri": "https://localhost:8080/"
        },
        "id": "pp7vaQ-LQyLf",
        "outputId": "426eaa7e-5791-4826-abef-9ce09b0df93a"
      },
      "source": [
        "df_right.isnull().sum(). sort_values(ascending=False)"
      ],
      "execution_count": 41,
      "outputs": [
        {
          "output_type": "execute_result",
          "data": {
            "text/plain": [
              "history score                  0\n",
              "science score                  0\n",
              "writing score                  0\n",
              "reading score                  0\n",
              "math score                     0\n",
              "test preparation course        0\n",
              "lunch                          0\n",
              "parental level of education    0\n",
              "race/ethnicity                 0\n",
              "gender                         0\n",
              "names                          0\n",
              "dtype: int64"
            ]
          },
          "metadata": {},
          "execution_count": 41
        }
      ]
    },
    {
      "cell_type": "code",
      "metadata": {
        "colab": {
          "base_uri": "https://localhost:8080/"
        },
        "id": "a1nsEgg6-pdr",
        "outputId": "cffee24a-15be-4a1e-8be2-14b18c655ccd"
      },
      "source": [
        "df_right[df_right.duplicated('names')].shape"
      ],
      "execution_count": 50,
      "outputs": [
        {
          "output_type": "execute_result",
          "data": {
            "text/plain": [
              "(247, 11)"
            ]
          },
          "metadata": {},
          "execution_count": 50
        }
      ]
    },
    {
      "cell_type": "code",
      "metadata": {
        "colab": {
          "base_uri": "https://localhost:8080/",
          "height": 178
        },
        "id": "wTv4JGhwP3aX",
        "outputId": "bd3b68c0-d97b-4260-cd6c-753b4791dd44"
      },
      "source": [
        "#Unir df_grades con other_grades.csv usando inner\n",
        "df_inner= pd.merge(df_grades, other_grades, on=[\"names\"], how='inner')\n",
        "df_inner.head(3)"
      ],
      "execution_count": 42,
      "outputs": [
        {
          "output_type": "execute_result",
          "data": {
            "text/html": [
              "<div>\n",
              "<style scoped>\n",
              "    .dataframe tbody tr th:only-of-type {\n",
              "        vertical-align: middle;\n",
              "    }\n",
              "\n",
              "    .dataframe tbody tr th {\n",
              "        vertical-align: top;\n",
              "    }\n",
              "\n",
              "    .dataframe thead th {\n",
              "        text-align: right;\n",
              "    }\n",
              "</style>\n",
              "<table border=\"1\" class=\"dataframe\">\n",
              "  <thead>\n",
              "    <tr style=\"text-align: right;\">\n",
              "      <th></th>\n",
              "      <th>names</th>\n",
              "      <th>gender</th>\n",
              "      <th>race/ethnicity</th>\n",
              "      <th>parental level of education</th>\n",
              "      <th>lunch</th>\n",
              "      <th>test preparation course</th>\n",
              "      <th>math score</th>\n",
              "      <th>reading score</th>\n",
              "      <th>writing score</th>\n",
              "      <th>science score</th>\n",
              "      <th>history score</th>\n",
              "    </tr>\n",
              "  </thead>\n",
              "  <tbody>\n",
              "    <tr>\n",
              "      <th>0</th>\n",
              "      <td>Rita Courtney</td>\n",
              "      <td>female</td>\n",
              "      <td>group B</td>\n",
              "      <td>some high school</td>\n",
              "      <td>standard</td>\n",
              "      <td>none</td>\n",
              "      <td>37</td>\n",
              "      <td>46</td>\n",
              "      <td>46</td>\n",
              "      <td>25</td>\n",
              "      <td>3.8</td>\n",
              "    </tr>\n",
              "    <tr>\n",
              "      <th>1</th>\n",
              "      <td>Rita Courtney</td>\n",
              "      <td>female</td>\n",
              "      <td>group B</td>\n",
              "      <td>some high school</td>\n",
              "      <td>standard</td>\n",
              "      <td>none</td>\n",
              "      <td>193</td>\n",
              "      <td>193</td>\n",
              "      <td>193</td>\n",
              "      <td>25</td>\n",
              "      <td>3.8</td>\n",
              "    </tr>\n",
              "    <tr>\n",
              "      <th>2</th>\n",
              "      <td>Charles Linstrom</td>\n",
              "      <td>male</td>\n",
              "      <td>group A</td>\n",
              "      <td>bachelor's degree</td>\n",
              "      <td>standard</td>\n",
              "      <td>completed</td>\n",
              "      <td>80</td>\n",
              "      <td>78</td>\n",
              "      <td>81</td>\n",
              "      <td>56</td>\n",
              "      <td>5.2</td>\n",
              "    </tr>\n",
              "  </tbody>\n",
              "</table>\n",
              "</div>"
            ],
            "text/plain": [
              "              names  gender  ... science score history score\n",
              "0     Rita Courtney  female  ...            25           3.8\n",
              "1     Rita Courtney  female  ...            25           3.8\n",
              "2  Charles Linstrom    male  ...            56           5.2\n",
              "\n",
              "[3 rows x 11 columns]"
            ]
          },
          "metadata": {},
          "execution_count": 42
        }
      ]
    },
    {
      "cell_type": "code",
      "metadata": {
        "colab": {
          "base_uri": "https://localhost:8080/"
        },
        "id": "znOQ7hRKRdKp",
        "outputId": "90596a5a-111d-4918-f6fe-a9af0a95d0bd"
      },
      "source": [
        "df_inner.shape"
      ],
      "execution_count": 43,
      "outputs": [
        {
          "output_type": "execute_result",
          "data": {
            "text/plain": [
              "(1247, 11)"
            ]
          },
          "metadata": {},
          "execution_count": 43
        }
      ]
    },
    {
      "cell_type": "code",
      "metadata": {
        "colab": {
          "base_uri": "https://localhost:8080/"
        },
        "id": "OgX00NNYRHlP",
        "outputId": "b3b1a8ad-a74c-43e8-a847-4f9f2dcf9dea"
      },
      "source": [
        "df_inner.isnull().sum(). sort_values(ascending=False)"
      ],
      "execution_count": 44,
      "outputs": [
        {
          "output_type": "execute_result",
          "data": {
            "text/plain": [
              "history score                  0\n",
              "science score                  0\n",
              "writing score                  0\n",
              "reading score                  0\n",
              "math score                     0\n",
              "test preparation course        0\n",
              "lunch                          0\n",
              "parental level of education    0\n",
              "race/ethnicity                 0\n",
              "gender                         0\n",
              "names                          0\n",
              "dtype: int64"
            ]
          },
          "metadata": {},
          "execution_count": 44
        }
      ]
    },
    {
      "cell_type": "code",
      "metadata": {
        "colab": {
          "base_uri": "https://localhost:8080/"
        },
        "id": "VbFI-iox-iEa",
        "outputId": "04361e2f-5907-48e0-bb7a-8f7a14e08752"
      },
      "source": [
        "df_inner[df_inner.duplicated('names')].shape"
      ],
      "execution_count": 53,
      "outputs": [
        {
          "output_type": "execute_result",
          "data": {
            "text/plain": [
              "(247, 11)"
            ]
          },
          "metadata": {},
          "execution_count": 53
        }
      ]
    },
    {
      "cell_type": "markdown",
      "metadata": {
        "id": "E5lpy2PACS99"
      },
      "source": [
        "> **Justificación:**\n"
      ]
    },
    {
      "cell_type": "markdown",
      "metadata": {
        "id": "XzkxXzPdCS9-"
      },
      "source": [
        "Dos alternativas factibles sería usar la unión a través de INNER o RIGHT JOIN, principalmente por que con estas uniones no quedan valores nulos en las listas, a diferencia de las otras alternativas en donde hay alumnos que están en la base \"df_grades\" pero no en la \"other grades\", implicando así que queden filas con algunos datos nulos, lo que se quiere evitar.\n",
        "\n",
        "Por otro lado, la mejor opción podría ser \"right join\", principalmente por que esto asegura que toda la información presente en \"other grades\" sea incluida en la nueva base. Sin embargo, no hay eliminación de duplicados, dado que la base \"df_grades\" tiene nombres duplicados, al hacer la unión con \"other_grades\" esos se mantienen en la base, pero con la información nueva."
      ]
    },
    {
      "cell_type": "markdown",
      "metadata": {
        "id": "pj7LOu6GTH5Q"
      },
      "source": [
        "## 1.4 Más visualizaciones [Bonus - 0.5 puntos por cada Gráfico, máximo 1 punto]\n",
        "\n",
        "\n",
        "**Desde aquí parte el bonus para el lab.**\n",
        "\n",
        "\n",
        "<p align=\"center\">\n",
        "  <img src=\"https://media4.giphy.com/media/xT5LMWNOjGqJzUfyve/giphy.gif?cid=ecf05e47phkhvg6vadqvcoobvxwj9bzxxk38jjvkcc6eak6t&rid=giphy.gif&ct=g\">\n",
        "</p>\n",
        "\n",
        "\n"
      ]
    },
    {
      "cell_type": "markdown",
      "metadata": {
        "id": "4f1PIBgMDt5H"
      },
      "source": [
        "Genere dos visualizaciones extras que encuentre interesantes (y no triviales) con estos datos y explique sus resultados. Agrupe los atributos que estime convenientes.\n",
        "\n",
        "\n",
        "**To-Do:**\n",
        "- [ ] Generar dos nuevas visualizaciones con los datos y explicar que están representando.\n",
        "\n",
        "\n",
        "> **NOTA: No utilice historia ni ciencias, son notas generadas aleatoriamente.**"
      ]
    },
    {
      "cell_type": "code",
      "metadata": {
        "id": "NlCID-wqQK_t"
      },
      "source": [
        "df_right[\"math score\"] = pd.to_numeric(df_right[\"math score\"])\n",
        "df_right[\"reading score\"] = pd.to_numeric(df_right[\"reading score\"])\n",
        "df_right[\"writing score\"] = pd.to_numeric(df_right[\"writing score\"])"
      ],
      "execution_count": 57,
      "outputs": []
    },
    {
      "cell_type": "code",
      "metadata": {
        "id": "nzaiqH7RPsRg"
      },
      "source": [
        "df_right = alumnos_promedio(df_right)"
      ],
      "execution_count": 58,
      "outputs": []
    },
    {
      "cell_type": "code",
      "metadata": {
        "colab": {
          "base_uri": "https://localhost:8080/",
          "height": 493
        },
        "id": "vG4yMfhWVJqC",
        "outputId": "30562832-66ca-4fb3-9b4c-3097b6102986"
      },
      "source": [
        "df_right"
      ],
      "execution_count": 65,
      "outputs": [
        {
          "output_type": "execute_result",
          "data": {
            "text/html": [
              "<div>\n",
              "<style scoped>\n",
              "    .dataframe tbody tr th:only-of-type {\n",
              "        vertical-align: middle;\n",
              "    }\n",
              "\n",
              "    .dataframe tbody tr th {\n",
              "        vertical-align: top;\n",
              "    }\n",
              "\n",
              "    .dataframe thead th {\n",
              "        text-align: right;\n",
              "    }\n",
              "</style>\n",
              "<table border=\"1\" class=\"dataframe\">\n",
              "  <thead>\n",
              "    <tr style=\"text-align: right;\">\n",
              "      <th></th>\n",
              "      <th>names</th>\n",
              "      <th>gender</th>\n",
              "      <th>race/ethnicity</th>\n",
              "      <th>parental level of education</th>\n",
              "      <th>lunch</th>\n",
              "      <th>test preparation course</th>\n",
              "      <th>math score</th>\n",
              "      <th>reading score</th>\n",
              "      <th>writing score</th>\n",
              "      <th>science score</th>\n",
              "      <th>history score</th>\n",
              "      <th>GPA</th>\n",
              "    </tr>\n",
              "  </thead>\n",
              "  <tbody>\n",
              "    <tr>\n",
              "      <th>0</th>\n",
              "      <td>Pam Otoole</td>\n",
              "      <td>female</td>\n",
              "      <td>group B</td>\n",
              "      <td>bachelor's degree</td>\n",
              "      <td>standard</td>\n",
              "      <td>none</td>\n",
              "      <td>72.0</td>\n",
              "      <td>72.0</td>\n",
              "      <td>74.0</td>\n",
              "      <td>57</td>\n",
              "      <td>4.0</td>\n",
              "      <td>72.67</td>\n",
              "    </tr>\n",
              "    <tr>\n",
              "      <th>1</th>\n",
              "      <td>Diane Olson</td>\n",
              "      <td>female</td>\n",
              "      <td>group C</td>\n",
              "      <td>some college</td>\n",
              "      <td>standard</td>\n",
              "      <td>completed</td>\n",
              "      <td>69.0</td>\n",
              "      <td>90.0</td>\n",
              "      <td>88.0</td>\n",
              "      <td>48</td>\n",
              "      <td>4.8</td>\n",
              "      <td>82.33</td>\n",
              "    </tr>\n",
              "    <tr>\n",
              "      <th>2</th>\n",
              "      <td>Sarah Flannery</td>\n",
              "      <td>female</td>\n",
              "      <td>group B</td>\n",
              "      <td>master's degree</td>\n",
              "      <td>standard</td>\n",
              "      <td>none</td>\n",
              "      <td>90.0</td>\n",
              "      <td>95.0</td>\n",
              "      <td>93.0</td>\n",
              "      <td>72</td>\n",
              "      <td>6.1</td>\n",
              "      <td>92.67</td>\n",
              "    </tr>\n",
              "    <tr>\n",
              "      <th>3</th>\n",
              "      <td>Stanley Chappell</td>\n",
              "      <td>male</td>\n",
              "      <td>group A</td>\n",
              "      <td>associate's degree</td>\n",
              "      <td>free/reduced</td>\n",
              "      <td>none</td>\n",
              "      <td>47.0</td>\n",
              "      <td>57.0</td>\n",
              "      <td>44.0</td>\n",
              "      <td>47</td>\n",
              "      <td>3.7</td>\n",
              "      <td>49.33</td>\n",
              "    </tr>\n",
              "    <tr>\n",
              "      <th>4</th>\n",
              "      <td>Arnold Dodson</td>\n",
              "      <td>male</td>\n",
              "      <td>group C</td>\n",
              "      <td>some college</td>\n",
              "      <td>standard</td>\n",
              "      <td>none</td>\n",
              "      <td>76.0</td>\n",
              "      <td>78.0</td>\n",
              "      <td>75.0</td>\n",
              "      <td>60</td>\n",
              "      <td>5.2</td>\n",
              "      <td>76.33</td>\n",
              "    </tr>\n",
              "    <tr>\n",
              "      <th>...</th>\n",
              "      <td>...</td>\n",
              "      <td>...</td>\n",
              "      <td>...</td>\n",
              "      <td>...</td>\n",
              "      <td>...</td>\n",
              "      <td>...</td>\n",
              "      <td>...</td>\n",
              "      <td>...</td>\n",
              "      <td>...</td>\n",
              "      <td>...</td>\n",
              "      <td>...</td>\n",
              "      <td>...</td>\n",
              "    </tr>\n",
              "    <tr>\n",
              "      <th>1242</th>\n",
              "      <td>Christopher Wall</td>\n",
              "      <td>male</td>\n",
              "      <td>group C</td>\n",
              "      <td>high school</td>\n",
              "      <td>free/reduced</td>\n",
              "      <td>none</td>\n",
              "      <td>62.0</td>\n",
              "      <td>55.0</td>\n",
              "      <td>55.0</td>\n",
              "      <td>62</td>\n",
              "      <td>4.0</td>\n",
              "      <td>57.33</td>\n",
              "    </tr>\n",
              "    <tr>\n",
              "      <th>1243</th>\n",
              "      <td>Margaret Spannaus</td>\n",
              "      <td>female</td>\n",
              "      <td>group C</td>\n",
              "      <td>high school</td>\n",
              "      <td>free/reduced</td>\n",
              "      <td>completed</td>\n",
              "      <td>59.0</td>\n",
              "      <td>71.0</td>\n",
              "      <td>65.0</td>\n",
              "      <td>47</td>\n",
              "      <td>4.0</td>\n",
              "      <td>65.00</td>\n",
              "    </tr>\n",
              "    <tr>\n",
              "      <th>1244</th>\n",
              "      <td>Vickie Sellers</td>\n",
              "      <td>female</td>\n",
              "      <td>group D</td>\n",
              "      <td>some college</td>\n",
              "      <td>standard</td>\n",
              "      <td>completed</td>\n",
              "      <td>68.0</td>\n",
              "      <td>78.0</td>\n",
              "      <td>77.0</td>\n",
              "      <td>47</td>\n",
              "      <td>5.7</td>\n",
              "      <td>74.33</td>\n",
              "    </tr>\n",
              "    <tr>\n",
              "      <th>1245</th>\n",
              "      <td>Kari Mitchell</td>\n",
              "      <td>female</td>\n",
              "      <td>group D</td>\n",
              "      <td>some college</td>\n",
              "      <td>free/reduced</td>\n",
              "      <td>none</td>\n",
              "      <td>77.0</td>\n",
              "      <td>86.0</td>\n",
              "      <td>86.0</td>\n",
              "      <td>53</td>\n",
              "      <td>6.2</td>\n",
              "      <td>83.00</td>\n",
              "    </tr>\n",
              "    <tr>\n",
              "      <th>1246</th>\n",
              "      <td>Kari Mitchell</td>\n",
              "      <td>female</td>\n",
              "      <td>group D</td>\n",
              "      <td>some college</td>\n",
              "      <td>free/reduced</td>\n",
              "      <td>none</td>\n",
              "      <td>193.0</td>\n",
              "      <td>193.0</td>\n",
              "      <td>193.0</td>\n",
              "      <td>53</td>\n",
              "      <td>6.2</td>\n",
              "      <td>193.00</td>\n",
              "    </tr>\n",
              "  </tbody>\n",
              "</table>\n",
              "<p>1247 rows × 12 columns</p>\n",
              "</div>"
            ],
            "text/plain": [
              "                  names  gender  ... history score     GPA\n",
              "0            Pam Otoole  female  ...           4.0   72.67\n",
              "1           Diane Olson  female  ...           4.8   82.33\n",
              "2        Sarah Flannery  female  ...           6.1   92.67\n",
              "3      Stanley Chappell    male  ...           3.7   49.33\n",
              "4         Arnold Dodson    male  ...           5.2   76.33\n",
              "...                 ...     ...  ...           ...     ...\n",
              "1242   Christopher Wall    male  ...           4.0   57.33\n",
              "1243  Margaret Spannaus  female  ...           4.0   65.00\n",
              "1244     Vickie Sellers  female  ...           5.7   74.33\n",
              "1245      Kari Mitchell  female  ...           6.2   83.00\n",
              "1246      Kari Mitchell  female  ...           6.2  193.00\n",
              "\n",
              "[1247 rows x 12 columns]"
            ]
          },
          "metadata": {},
          "execution_count": 65
        }
      ]
    },
    {
      "cell_type": "code",
      "metadata": {
        "colab": {
          "base_uri": "https://localhost:8080/",
          "height": 542
        },
        "id": "UO9Nt9wLT6J7",
        "outputId": "2e807778-6a7d-495a-b3fa-3c345dfe63be"
      },
      "source": [
        "fig = px.box(df_right, x='gender', y='GPA', color='test preparation course',title=\"Promedio de GPA por género y preparación de test\")\n",
        "fig.show()\n"
      ],
      "execution_count": 84,
      "outputs": [
        {
          "output_type": "display_data",
          "data": {
            "text/html": [
              "<html>\n",
              "<head><meta charset=\"utf-8\" /></head>\n",
              "<body>\n",
              "    <div>\n",
              "            <script src=\"https://cdnjs.cloudflare.com/ajax/libs/mathjax/2.7.5/MathJax.js?config=TeX-AMS-MML_SVG\"></script><script type=\"text/javascript\">if (window.MathJax) {MathJax.Hub.Config({SVG: {font: \"STIX-Web\"}});}</script>\n",
              "                <script type=\"text/javascript\">window.PlotlyConfig = {MathJaxConfig: 'local'};</script>\n",
              "        <script src=\"https://cdn.plot.ly/plotly-latest.min.js\"></script>    \n",
              "            <div id=\"e40b7582-af96-4062-89d2-64f1612295c1\" class=\"plotly-graph-div\" style=\"height:525px; width:100%;\"></div>\n",
              "            <script type=\"text/javascript\">\n",
              "                \n",
              "                    window.PLOTLYENV=window.PLOTLYENV || {};\n",
              "                    \n",
              "                if (document.getElementById(\"e40b7582-af96-4062-89d2-64f1612295c1\")) {\n",
              "                    Plotly.newPlot(\n",
              "                        'e40b7582-af96-4062-89d2-64f1612295c1',\n",
              "                        [{\"alignmentgroup\": \"True\", \"hoverlabel\": {\"namelength\": 0}, \"hovertemplate\": \"test preparation course=none<br>gender=%{x}<br>GPA=%{y}\", \"legendgroup\": \"test preparation course=none\", \"marker\": {\"color\": \"#636efa\"}, \"name\": \"test preparation course=none\", \"notched\": false, \"offsetgroup\": \"test preparation course=none\", \"orientation\": \"v\", \"showlegend\": true, \"type\": \"box\", \"x\": [\"female\", \"female\", \"male\", \"male\", \"female\", \"male\", \"male\", \"female\", \"female\", \"male\", \"male\", \"female\", \"female\", \"female\", \"female\", \"male\", \"female\", \"female\", \"female\", \"male\", \"male\", \"female\", \"male\", \"male\", \"female\", \"male\", \"male\", \"female\", \"female\", \"female\", \"female\", \"male\", \"male\", \"male\", \"female\", \"female\", \"male\", \"male\", \"male\", \"female\", \"female\", \"female\", \"male\", \"female\", \"male\", \"male\", \"male\", \"male\", \"female\", \"female\", \"male\", \"female\", \"male\", \"male\", \"female\", \"female\", \"female\", \"male\", \"male\", \"female\", \"female\", \"male\", \"female\", \"female\", \"male\", \"male\", \"male\", \"male\", \"male\", \"female\", \"female\", \"female\", \"male\", \"male\", \"male\", \"female\", \"female\", \"female\", \"female\", \"female\", \"female\", \"male\", \"male\", \"female\", \"female\", \"female\", \"male\", \"female\", \"female\", \"female\", \"female\", \"female\", \"female\", \"male\", \"male\", \"female\", \"female\", \"male\", \"female\", \"female\", \"female\", \"female\", \"female\", \"female\", \"female\", \"male\", \"male\", \"male\", \"female\", \"male\", \"male\", \"male\", \"female\", \"male\", \"male\", \"male\", \"male\", \"female\", \"female\", \"female\", \"female\", \"male\", \"male\", \"male\", \"female\", \"male\", \"male\", \"male\", \"male\", \"male\", \"male\", \"male\", \"male\", \"male\", \"female\", \"male\", \"female\", \"female\", \"female\", \"female\", \"female\", \"female\", \"female\", \"male\", \"male\", \"female\", \"female\", \"female\", \"male\", \"male\", \"male\", \"male\", \"female\", \"female\", \"female\", \"female\", \"male\", \"female\", \"male\", \"male\", \"female\", \"female\", \"male\", \"male\", \"female\", \"female\", \"female\", \"female\", \"male\", \"male\", \"male\", \"female\", \"male\", \"female\", \"female\", \"female\", \"male\", \"male\", \"male\", \"male\", \"male\", \"female\", \"male\", \"male\", \"male\", \"male\", \"male\", \"male\", \"male\", \"male\", \"female\", \"female\", \"male\", \"male\", \"male\", \"male\", \"male\", \"female\", \"male\", \"male\", \"female\", \"male\", \"male\", \"male\", \"female\", \"female\", \"female\", \"female\", \"female\", \"female\", \"male\", \"male\", \"female\", \"female\", \"female\", \"male\", \"male\", \"male\", \"female\", \"female\", \"male\", \"female\", \"male\", \"male\", \"male\", \"female\", \"female\", \"female\", \"female\", \"male\", \"male\", \"male\", \"male\", \"male\", \"female\", \"male\", \"male\", \"male\", \"male\", \"male\", \"male\", \"male\", \"male\", \"female\", \"female\", \"female\", \"female\", \"male\", \"male\", \"male\", \"male\", \"male\", \"female\", \"female\", \"female\", \"female\", \"female\", \"female\", \"female\", \"female\", \"male\", \"male\", \"female\", \"male\", \"male\", \"male\", \"female\", \"female\", \"male\", \"female\", \"male\", \"female\", \"female\", \"male\", \"female\", \"male\", \"male\", \"male\", \"male\", \"female\", \"male\", \"female\", \"female\", \"female\", \"female\", \"male\", \"male\", \"female\", \"female\", \"female\", \"female\", \"female\", \"female\", \"female\", \"male\", \"male\", \"female\", \"female\", \"male\", \"male\", \"male\", \"female\", \"female\", \"male\", \"female\", \"female\", \"male\", \"female\", \"male\", \"male\", \"female\", \"female\", \"female\", \"female\", \"female\", \"female\", \"female\", \"male\", \"female\", \"male\", \"male\", \"female\", \"female\", \"female\", \"male\", \"male\", \"male\", \"female\", \"female\", \"female\", \"female\", \"female\", \"female\", \"male\", \"male\", \"male\", \"male\", \"male\", \"male\", \"female\", \"male\", \"male\", \"male\", \"male\", \"male\", \"female\", \"male\", \"female\", \"male\", \"male\", \"male\", \"male\", \"male\", \"female\", \"female\", \"female\", \"female\", \"male\", \"male\", \"male\", \"male\", \"male\", \"female\", \"female\", \"male\", \"female\", \"male\", \"male\", \"female\", \"female\", \"male\", \"male\", \"female\", \"male\", \"male\", \"female\", \"female\", \"female\", \"female\", \"male\", \"female\", \"female\", \"male\", \"female\", \"male\", \"male\", \"female\", \"female\", \"male\", \"male\", \"male\", \"male\", \"female\", \"female\", \"male\", \"male\", \"female\", \"female\", \"female\", \"female\", \"female\", \"female\", \"female\", \"female\", \"female\", \"female\", \"female\", \"male\", \"female\", \"female\", \"male\", \"male\", \"female\", \"female\", \"female\", \"male\", \"male\", \"male\", \"male\", \"female\", \"male\", \"male\", \"male\", \"female\", \"male\", \"male\", \"female\", \"male\", \"male\", \"male\", \"female\", \"female\", \"female\", \"female\", \"female\", \"female\", \"female\", \"female\", \"female\", \"female\", \"female\", \"female\", \"male\", \"male\", \"female\", \"male\", \"male\", \"female\", \"female\", \"male\", \"female\", \"male\", \"male\", \"female\", \"female\", \"male\", \"male\", \"male\", \"male\", \"male\", \"male\", \"male\", \"female\", \"female\", \"female\", \"female\", \"female\", \"female\", \"female\", \"female\", \"female\", \"female\", \"female\", \"female\", \"female\", \"female\", \"female\", \"female\", \"female\", \"male\", \"male\", \"male\", \"female\", \"male\", \"male\", \"female\", \"female\", \"female\", \"female\", \"female\", \"female\", \"female\", \"male\", \"male\", \"female\", \"female\", \"female\", \"female\", \"female\", \"female\", \"female\", \"female\", \"female\", \"female\", \"female\", \"female\", \"male\", \"male\", \"male\", \"female\", \"male\", \"female\", \"male\", \"male\", \"male\", \"male\", \"male\", \"female\", \"female\", \"male\", \"male\", \"male\", \"male\", \"female\", \"male\", \"female\", \"male\", \"female\", \"female\", \"female\", \"female\", \"female\", \"male\", \"male\", \"female\", \"female\", \"male\", \"male\", \"male\", \"male\", \"male\", \"female\", \"female\", \"male\", \"female\", \"female\", \"male\", \"female\", \"male\", \"female\", \"male\", \"male\", \"male\", \"female\", \"male\", \"male\", \"male\", \"male\", \"male\", \"female\", \"female\", \"female\", \"female\", \"female\", \"female\", \"female\", \"female\", \"female\", \"male\", \"female\", \"female\", \"male\", \"male\", \"male\", \"male\", \"female\", \"male\", \"female\", \"female\", \"female\", \"male\", \"male\", \"male\", \"female\", \"male\", \"male\", \"male\", \"male\", \"female\", \"male\", \"male\", \"male\", \"male\", \"male\", \"male\", \"female\", \"female\", \"male\", \"male\", \"male\", \"male\", \"male\", \"male\", \"female\", \"male\", \"male\", \"male\", \"female\", \"male\", \"female\", \"female\", \"female\", \"male\", \"female\", \"female\", \"female\", \"male\", \"male\", \"male\", \"female\", \"male\", \"female\", \"female\", \"female\", \"female\", \"female\", \"female\", \"female\", \"female\", \"female\", \"male\", \"male\", \"female\", \"female\", \"female\", \"female\", \"female\", \"male\", \"male\", \"female\", \"male\", \"male\", \"female\", \"male\", \"female\", \"female\", \"female\", \"female\", \"female\", \"female\", \"male\", \"male\", \"female\", \"female\", \"female\", \"male\", \"male\", \"male\", \"male\", \"male\", \"female\", \"female\", \"female\", \"female\", \"female\", \"female\", \"female\", \"female\", \"female\", \"female\", \"male\", \"female\", \"male\", \"female\", \"male\", \"male\", \"male\", \"female\", \"female\", \"female\", \"male\", \"male\", \"male\", \"female\", \"male\", \"male\", \"male\", \"female\", \"female\", \"male\", \"male\", \"male\", \"female\", \"male\", \"female\", \"female\", \"male\", \"male\", \"female\", \"female\", \"female\", \"male\", \"male\", \"male\", \"male\", \"male\", \"male\", \"male\", \"male\", \"male\", \"male\", \"female\", \"female\", \"male\", \"male\", \"male\", \"male\", \"female\", \"female\", \"female\", \"male\", \"male\", \"female\", \"male\", \"male\", \"female\", \"male\", \"male\", \"female\", \"female\", \"female\", \"female\", \"male\", \"male\", \"female\", \"female\", \"female\", \"female\", \"male\", \"male\", \"female\", \"male\", \"female\", \"female\", \"female\", \"female\", \"male\", \"female\", \"female\", \"male\", \"female\", \"female\", \"male\", \"male\", \"male\", \"female\", \"male\", \"male\", \"male\", \"male\", \"female\", \"female\", \"male\", \"female\", \"female\", \"female\", \"male\", \"female\", \"female\", \"male\", \"female\", \"female\", \"male\", \"male\", \"female\", \"female\", \"male\", \"male\", \"female\", \"female\", \"female\", \"female\", \"female\", \"male\", \"male\", \"female\", \"female\", \"male\", \"female\", \"female\", \"female\", \"female\", \"female\", \"female\", \"male\", \"female\", \"female\", \"male\", \"female\", \"male\", \"female\", \"female\", \"female\", \"female\", \"female\", \"male\", \"male\", \"female\", \"female\"], \"x0\": \" \", \"xaxis\": \"x\", \"y\": [72.67, 92.67, 49.33, 76.33, 77.33, 40.67, 124.33, 124.33, 49.33, 54.67, 45.0, 73.0, 170.0, 53.67, 74.0, 87.67, 26.0, 57.67, 170.0, 66.0, 50.33, 71.67, 73.0, 59.33, 70.33, 68.33, 124.0, 69.0, 72.33, 63.0, 64.33, 40.0, 40.0, 88.67, 79.33, 57.67, 178.0, 56.67, 56.67, 66.33, 58.67, 53.33, 58.67, 71.0, 163.67, 52.0, 46.33, 80.33, 119.0, 39.0, 52.0, 9.0, 37.33, 59.33, 147.0, 73.33, 58.67, 64.0, 39.67, 68.67, 163.67, 58.33, 53.33, 46.67, 58.0, 46.33, 41.0, 26.0, 26.0, 193.0, 66.0, 48.67, 46.33, 66.33, 38.33, 78.33, 82.33, 72.0, 65.0, 80.33, 70.33, 32.33, 73.67, 85.67, 62.33, 64.67, 71.0, 88.33, 65.67, 172.0, 95.67, 66.0, 68.67, 55.33, 51.33, 171.0, 54.33, 78.33, 80.67, 132.33, 79.67, 194.5, 58.33, 140.67, 63.0, 58.67, 160.5, 78.67, 89.33, 69.0, 79.33, 151.67, 50.33, 85.0, 157.0, 53.67, 60.33, 64.0, 73.0, 157.67, 61.67, 49.0, 189.0, 79.67, 31.33, 82.33, 69.0, 70.67, 50.0, 63.33, 60.0, 64.0, 51.33, 51.33, 88.0, 86.67, 174.33, 82.0, 66.67, 58.67, 193.0, 49.0, 68.0, 73.67, 48.33, 84.0, 66.67, 64.0, 56.0, 186.67, 170.67, 54.0, 51.0, 77.67, 174.33, 74.33, 71.67, 64.67, 47.33, 68.67, 77.0, 61.67, 30.0, 30.0, 54.67, 125.67, 75.67, 38.33, 71.0, 124.0, 81.67, 60.67, 80.33, 51.67, 71.67, 145.33, 53.67, 68.0, 68.67, 139.0, 43.67, 78.67, 85.67, 153.0, 77.33, 176.0, 65.33, 52.33, 177.67, 81.33, 82.0, 54.33, 51.0, 191.33, 72.67, 77.33, 79.67, 63.67, 153.0, 60.33, 79.0, 180.67, 77.33, 52.67, 68.33, 68.33, 74.33, 142.0, 48.33, 94.0, 72.33, 47.33, 73.0, 72.67, 72.33, 64.33, 94.67, 49.67, 52.67, 68.67, 78.0, 77.0, 62.0, 49.0, 46.33, 78.67, 43.0, 193.0, 79.33, 79.67, 193.0, 71.33, 76.33, 193.0, 71.0, 63.0, 84.0, 54.0, 73.33, 130.0, 68.33, 194.0, 49.0, 130.0, 63.67, 52.67, 76.33, 61.0, 169.0, 67.33, 77.67, 67.67, 133.0, 61.33, 80.0, 77.33, 143.33, 49.67, 43.33, 88.67, 61.33, 23.33, 49.0, 64.0, 39.67, 83.0, 90.33, 65.0, 47.67, 29.67, 57.0, 65.67, 193.0, 73.0, 75.67, 60.0, 71.67, 167.5, 79.0, 62.0, 58.33, 53.67, 194.0, 66.67, 67.67, 61.67, 60.67, 185.67, 86.33, 194.0, 59.67, 56.0, 193.0, 31.0, 59.0, 62.67, 55.33, 80.67, 154.67, 77.33, 73.33, 196.0, 67.33, 43.33, 84.0, 77.0, 64.0, 83.0, 151.33, 77.0, 44.0, 41.33, 72.67, 69.0, 160.0, 67.33, 63.33, 72.67, 74.0, 70.0, 44.67, 60.0, 167.5, 89.67, 64.67, 57.67, 46.33, 56.33, 171.0, 58.33, 68.0, 172.33, 79.67, 65.67, 75.33, 71.33, 63.0, 194.0, 38.0, 63.67, 85.0, 68.33, 59.0, 61.67, 63.0, 67.67, 57.33, 52.0, 68.33, 69.0, 71.33, 169.0, 59.0, 159.0, 79.67, 67.0, 77.33, 78.0, 65.0, 117.5, 45.0, 75.33, 96.33, 72.0, 57.33, 58.67, 46.67, 167.5, 85.67, 191.33, 51.67, 147.0, 100.0, 55.33, 51.0, 72.33, 86.0, 87.33, 31.67, 80.33, 68.67, 62.33, 73.33, 63.0, 153.0, 71.33, 55.67, 177.0, 65.67, 193.0, 194.0, 52.33, 51.67, 122.0, 71.67, 54.67, 69.67, 75.33, 64.0, 66.0, 85.33, 145.0, 86.33, 62.0, 127.0, 51.33, 67.67, 73.0, 78.33, 170.67, 158.5, 59.33, 51.0, 120.0, 81.33, 68.0, 193.0, 56.0, 78.0, 88.33, 73.33, 52.33, 54.33, 82.33, 57.33, 122.0, 87.0, 61.33, 54.33, 62.33, 44.0, 39.0, 85.5, 68.67, 51.33, 59.67, 194.5, 79.0, 174.33, 88.67, 64.33, 64.33, 73.33, 73.33, 46.0, 67.67, 46.0, 72.0, 34.67, 64.67, 64.33, 67.0, 193.0, 70.33, 193.0, 194.0, 48.33, 45.33, 52.67, 67.67, 171.0, 93.0, 57.0, 153.0, 75.33, 177.0, 87.0, 60.67, 91.33, 78.67, 71.33, 74.33, 170.0, 72.33, 67.0, 56.33, 104.0, 61.0, 59.67, 56.33, 61.0, 66.67, 74.33, 23.0, 51.67, 73.0, 158.5, 76.0, 59.0, 29.33, 78.0, 176.0, 56.0, 69.67, 134.0, 83.67, 50.67, 150.0, 62.33, 62.0, 61.0, 72.0, 89.33, 66.67, 142.33, 40.0, 83.0, 128.0, 86.67, 50.0, 60.33, 60.33, 51.67, 50.67, 146.0, 67.0, 68.0, 82.67, 129.33, 82.67, 69.67, 78.67, 193.0, 74.33, 48.0, 77.33, 65.0, 64.67, 64.67, 52.67, 77.0, 65.33, 69.33, 65.33, 172.33, 53.67, 87.33, 74.67, 193.0, 67.33, null, 65.0, 67.0, 68.67, 83.0, 147.0, 69.33, 70.0, 53.0, 74.33, 78.0, 61.33, 167.5, 71.0, 62.67, 57.0, 76.0, 51.67, 88.67, 51.67, 75.67, 167.5, 75.67, 95.5, 56.0, 84.67, 67.0, 176.0, 63.67, 65.33, 64.67, 66.33, 38.67, 59.0, 85.0, 99.0, 82.0, 193.0, 75.33, 68.0, 46.67, 162.0, 43.67, 83.0, 156.0, 43.0, 48.0, 48.67, 56.0, 61.0, 85.0, 75.0, 58.67, 75.0, 174.5, 50.0, 82.33, 52.33, 75.0, 179.0, 71.67, 127.0, 67.0, 56.33, 68.33, 55.33, 163.67, 90.33, 55.0, 63.0, 53.33, 62.33, 60.67, 168.33, 72.67, 71.33, 58.33, 49.67, 74.0, 73.0, 63.67, 54.0, 69.33, 40.67, 53.0, 170.33, 83.67, 76.0, 179.0, 29.67, 64.67, 170.0, 59.33, 56.67, 176.0, 65.33, 142.0, 69.67, 158.5, 48.33, 70.0, null, 78.33, 61.0, 54.67, 92.0, 126.33, 84.67, 167.5, 75.67, 159.0, 76.67, 71.0, 126.0, 42.0, 78.0, 145.67, 54.67, 39.33, 47.0, 78.33, 56.0, 152.0, 163.67, 66.67, 85.33, 87.0, 159.67, 80.0, 52.67, 62.33, 70.0, 58.33, 59.33, 60.67, 51.0, 64.67, 72.0, 193.0, 45.67, 57.67, 86.33, 56.0, 66.33, 74.67, 153.0, 68.33, 64.0, 88.33, 70.0, 143.67, 60.33, 96.67, 69.33, 75.0, 151.33, 140.0, 77.33, 56.0, 153.0, 84.67, 93.67, 153.0, 171.0, 54.67, 48.0, 125.67, 50.33, 147.0, 54.67, 87.33, 55.33, 189.33, 70.0, 82.33, 57.33, 171.0, 70.33, 71.33, 69.33, 48.33, 186.67, 52.0, 61.67, 158.67, 69.33, 47.67, 194.0, 87.33, 63.33, 63.33, 34.67, 30.67, 86.0, 167.5, 75.0, 145.33, 78.33, 80.67, 52.0, 71.33, 46.67, 78.33, 54.0, 68.0, 52.33, 68.67, 44.67, 117.33, 68.0, 124.0, 61.33, 71.0, 158.5, 57.33, 51.67, 60.33, 194.0, 63.67, 59.0, 57.33, 88.33, 70.33, 62.33, 170.0, 57.67, 81.33, 128.0, 55.67, 79.33, 73.33, 66.67, 63.67, 84.0, 97.33, 55.67, 75.67, 136.0, 133.0, 59.33, 147.0, 51.67, 100.0, 62.33, 181.67, 174.5, 68.0, 62.0, 70.33, 79.67, 160.67, 96.33, 58.33, 61.33, 61.67, 93.33, 18.33, 79.0, 77.0, 54.0, 144.0, 50.0, 44.67, 69.0, 69.33, 62.67, 57.33, 83.0, 193.0], \"y0\": \" \", \"yaxis\": \"y\"}, {\"alignmentgroup\": \"True\", \"hoverlabel\": {\"namelength\": 0}, \"hovertemplate\": \"test preparation course=completed<br>gender=%{x}<br>GPA=%{y}\", \"legendgroup\": \"test preparation course=completed\", \"marker\": {\"color\": \"#EF553B\"}, \"name\": \"test preparation course=completed\", \"notched\": false, \"offsetgroup\": \"test preparation course=completed\", \"orientation\": \"v\", \"showlegend\": true, \"type\": \"box\", \"x\": [\"female\", \"female\", \"male\", \"male\", \"male\", \"female\", \"male\", \"male\", \"male\", \"female\", \"male\", \"male\", \"male\", \"female\", \"female\", \"male\", \"male\", \"female\", \"female\", \"male\", \"male\", \"male\", \"male\", \"female\", \"male\", \"male\", \"female\", \"male\", \"male\", \"male\", \"male\", \"female\", \"female\", \"male\", \"male\", \"male\", \"male\", \"female\", \"female\", \"female\", \"female\", \"male\", \"female\", \"female\", \"male\", \"male\", \"male\", \"female\", \"male\", \"male\", \"male\", \"male\", \"female\", \"female\", \"female\", \"male\", \"male\", \"male\", \"female\", \"female\", \"female\", \"female\", \"male\", \"male\", \"female\", \"female\", \"male\", \"female\", \"female\", \"female\", \"male\", \"female\", \"female\", \"female\", \"female\", \"female\", \"female\", \"male\", \"male\", \"male\", \"male\", \"male\", \"male\", \"male\", \"male\", \"female\", \"male\", \"female\", \"male\", \"male\", \"male\", \"male\", \"male\", \"male\", \"male\", \"female\", \"male\", \"female\", \"female\", \"female\", \"female\", \"male\", \"female\", \"male\", \"female\", \"male\", \"male\", \"female\", \"male\", \"female\", \"female\", \"female\", \"male\", \"male\", \"female\", \"male\", \"female\", \"female\", \"female\", \"male\", \"male\", \"male\", \"male\", \"male\", \"male\", \"male\", \"male\", \"male\", \"male\", \"female\", \"female\", \"female\", \"male\", \"male\", \"male\", \"female\", \"female\", \"female\", \"female\", \"female\", \"male\", \"male\", \"male\", \"male\", \"female\", \"female\", \"female\", \"male\", \"female\", \"female\", \"female\", \"male\", \"male\", \"male\", \"male\", \"female\", \"female\", \"female\", \"female\", \"male\", \"male\", \"male\", \"female\", \"female\", \"female\", \"male\", \"female\", \"male\", \"female\", \"male\", \"male\", \"female\", \"male\", \"male\", \"female\", \"female\", \"female\", \"female\", \"female\", \"male\", \"male\", \"male\", \"female\", \"female\", \"male\", \"female\", \"female\", \"male\", \"male\", \"male\", \"male\", \"female\", \"female\", \"female\", \"female\", \"female\", \"male\", \"male\", \"male\", \"male\", \"male\", \"female\", \"female\", \"female\", \"female\", \"female\", \"female\", \"female\", \"female\", \"female\", \"female\", \"female\", \"female\", \"male\", \"male\", \"male\", \"female\", \"male\", \"male\", \"female\", \"male\", \"female\", \"male\", \"male\", \"male\", \"male\", \"male\", \"male\", \"male\", \"male\", \"male\", \"female\", \"female\", \"male\", \"male\", \"female\", \"female\", \"male\", \"female\", \"female\", \"female\", \"female\", \"male\", \"female\", \"male\", \"male\", \"female\", \"female\", \"female\", \"female\", \"male\", \"male\", \"male\", \"male\", \"male\", \"male\", \"male\", \"male\", \"male\", \"male\", \"female\", \"female\", \"female\", \"female\", \"female\", \"female\", \"female\", \"female\", \"female\", \"male\", \"male\", \"female\", \"female\", \"female\", \"female\", \"female\", \"female\", \"male\", \"female\", \"female\", \"female\", \"female\", \"female\", \"female\", \"female\", \"female\", \"male\", \"female\", \"female\", \"male\", \"male\", \"female\", \"female\", \"female\", \"female\", \"male\", \"female\", \"female\", \"female\", \"male\", \"female\", \"female\", \"female\", \"female\", \"female\", \"male\", \"female\", \"male\", \"male\", \"male\", \"female\", \"male\", \"female\", \"male\", \"female\", \"female\", \"female\", \"female\", \"female\", \"female\", \"male\", \"male\", \"male\", \"male\", \"male\", \"female\", \"male\", \"female\", \"male\", \"male\", \"male\", \"female\", \"male\", \"male\", \"female\", \"female\", \"female\", \"male\", \"female\", \"female\", \"female\", \"male\", \"female\", \"male\", \"female\", \"male\", \"male\", \"female\", \"male\", \"male\", \"male\", \"male\", \"female\", \"male\", \"male\", \"female\", \"female\", \"female\", \"female\", \"female\", \"female\", \"female\", \"female\", \"female\", \"male\", \"female\", \"male\", \"female\", \"male\", \"male\", \"male\", \"male\", \"male\", \"female\", \"male\", \"male\", \"female\", \"male\", \"male\", \"male\", \"female\", \"female\", \"female\", \"female\", \"female\", \"male\", \"male\", \"female\", \"male\", \"female\", \"female\", \"female\", \"female\", \"female\", \"male\", \"female\", \"female\", \"male\", \"female\", \"male\", \"male\", \"male\", \"female\", \"male\", \"male\", \"male\", \"male\", \"male\", \"male\", \"male\", \"male\", \"male\", \"male\", \"male\", \"female\", \"female\", \"female\", \"male\", \"female\", \"male\", \"male\", \"female\", \"female\", \"female\", \"female\", \"male\", \"male\", \"male\", \"female\", \"female\", \"male\", \"male\", \"female\", \"male\", \"female\", \"female\", \"female\", \"female\"], \"x0\": \" \", \"xaxis\": \"x\", \"y\": [82.33, 91.67, 65.0, 73.33, 44.67, 70.0, 170.0, 75.0, 80.33, 84.33, 176.0, 160.0, 63.33, 60.67, 69.0, 82.67, 71.33, 80.67, 84.33, 58.33, 194.0, 75.0, 179.0, 64.67, 60.33, 79.67, 69.0, 50.33, 46.0, 80.33, 64.33, 156.0, 68.33, 72.0, 50.33, 91.33, 64.33, 88.0, 99.67, 193.33, 86.67, 90.67, 151.33, 91.33, 72.0, 43.33, 77.0, 80.0, 76.0, 48.67, 67.0, 147.0, 50.33, 159.0, 74.67, 97.67, 153.0, 66.0, 65.0, 82.33, 72.67, 78.0, 78.0, 155.33, 82.67, 98.67, 51.67, 70.67, 76.33, 70.67, 73.0, 49.33, 86.33, 52.67, 75.0, 61.33, 99.0, 176.0, 68.33, 48.67, 130.0, 65.67, 65.33, 79.33, 67.0, 79.33, 64.33, 79.0, 153.0, 74.33, 79.0, 79.33, 55.67, 86.33, 80.67, 85.67, 57.67, 66.0, 193.0, 63.67, 92.33, 83.0, 66.0, 69.0, 65.33, 49.0, 48.33, 66.67, 77.33, 75.67, 148.33, 73.33, 172.67, 78.67, 91.67, 83.0, 90.0, 65.67, 75.33, 81.67, 89.0, 76.67, 60.0, 78.33, 43.33, 71.0, 45.33, 142.0, 80.0, 77.33, 77.33, 154.33, 151.33, 89.0, 65.33, 68.0, 66.0, 83.33, 76.67, 159.0, 155.33, 78.0, 57.0, 71.67, 117.0, 50.0, 73.0, 68.67, 88.67, 73.67, 59.0, 82.33, 55.67, 128.0, 60.0, 196.0, 62.67, 91.67, 93.33, 94.0, 66.33, 55.67, 72.0, 60.0, 95.67, 64.33, 55.0, 85.33, 71.67, 81.67, 65.67, 67.33, 71.0, 55.67, 89.33, 154.33, 59.67, 57.33, 74.67, 50.33, 86.33, 148.67, 75.67, 72.67, 82.33, 104.0, 78.0, 68.33, 176.0, 65.0, 68.0, 83.33, 86.0, 79.33, 90.33, 76.67, 68.0, 70.67, 58.0, 81.0, 66.0, 71.0, 91.0, 160.33, 92.0, 59.0, 89.33, 147.0, 82.67, 71.0, 74.0, 142.0, 74.67, 51.33, 122.0, 59.0, 69.33, 193.0, 60.33, 87.0, 70.0, 77.33, 177.0, 56.33, 74.0, 91.67, 153.0, 70.67, 170.67, 80.33, 80.33, 162.0, 96.33, 67.67, 88.33, 68.67, 76.0, 92.67, 74.33, 195.0, 97.33, 70.0, 72.0, 60.0, 49.33, 54.67, 54.0, 76.0, 97.0, 69.0, 87.67, 64.0, 166.0, 91.67, 68.67, 53.67, 94.0, 98.67, 67.33, 124.0, 50.0, 73.67, 76.0, 86.67, 84.0, 191.33, 77.67, 75.67, 76.33, 53.33, 154.0, 74.67, 89.67, 69.67, 56.67, 69.0, 124.0, 76.67, 77.67, 74.67, 128.5, 60.0, 75.67, 167.5, 76.0, 37.67, 65.33, 97.67, 171.67, 76.0, 153.0, 73.67, 82.33, 71.33, 80.67, 86.0, 62.0, 130.0, 53.67, 89.0, 83.33, 167.5, 68.0, 85.67, 149.33, 74.33, 97.0, 81.33, 188.67, 57.67, 84.0, 75.33, 72.33, 58.67, 75.0, 149.33, 90.0, 64.0, 176.0, 68.0, 85.67, 154.67, 69.33, 174.33, 77.0, 84.0, 70.0, 58.67, 170.0, 74.33, 81.67, 70.0, 176.0, 66.0, 163.67, 63.67, 77.67, 87.0, 149.33, 81.0, 57.67, 83.67, 42.33, 83.33, 66.0, 69.33, 76.33, 61.67, 82.33, 89.0, 193.0, 69.0, 89.0, 50.67, 146.0, 64.67, 167.5, 78.67, 83.0, 82.67, 172.33, 66.0, 133.0, 78.67, 56.0, 34.33, 75.67, 56.33, 87.0, 49.0, 145.0, 77.0, 39.67, 74.0, 84.0, 74.67, 72.67, 81.33, 140.0, 64.33, 70.33, 72.67, 96.0, 171.0, 87.33, 79.0, 152.33, 73.33, 61.33, 75.0, 41.0, 97.67, 186.0, 84.67, 68.0, 59.67, 58.33, 100.0, 71.33, 92.67, 133.0, 66.0, 65.67, 44.33, 70.33, 68.33, 73.0, 91.67, 83.67, 71.33, 70.0, 61.33, 145.0, 50.33, 68.33, 169.0, 78.33, 54.67, 72.0, 66.0, 73.0, 54.33, 153.0, 74.33, 129.33, 60.67, 48.0, 83.33, 154.0, 85.33, 77.33, 159.0, 78.67, 80.67, 75.0, 94.0, 65.0, 74.33], \"y0\": \" \", \"yaxis\": \"y\"}],\n",
              "                        {\"boxmode\": \"group\", \"legend\": {\"tracegroupgap\": 0}, \"template\": {\"data\": {\"bar\": [{\"error_x\": {\"color\": \"#2a3f5f\"}, \"error_y\": {\"color\": \"#2a3f5f\"}, \"marker\": {\"line\": {\"color\": \"#E5ECF6\", \"width\": 0.5}}, \"type\": \"bar\"}], \"barpolar\": [{\"marker\": {\"line\": {\"color\": \"#E5ECF6\", \"width\": 0.5}}, \"type\": \"barpolar\"}], \"carpet\": [{\"aaxis\": {\"endlinecolor\": \"#2a3f5f\", \"gridcolor\": \"white\", \"linecolor\": \"white\", \"minorgridcolor\": \"white\", \"startlinecolor\": \"#2a3f5f\"}, \"baxis\": {\"endlinecolor\": \"#2a3f5f\", \"gridcolor\": \"white\", \"linecolor\": \"white\", \"minorgridcolor\": \"white\", \"startlinecolor\": \"#2a3f5f\"}, \"type\": \"carpet\"}], \"choropleth\": [{\"colorbar\": {\"outlinewidth\": 0, \"ticks\": \"\"}, \"type\": \"choropleth\"}], \"contour\": [{\"colorbar\": {\"outlinewidth\": 0, \"ticks\": \"\"}, \"colorscale\": [[0.0, \"#0d0887\"], [0.1111111111111111, \"#46039f\"], [0.2222222222222222, \"#7201a8\"], [0.3333333333333333, \"#9c179e\"], [0.4444444444444444, \"#bd3786\"], [0.5555555555555556, \"#d8576b\"], [0.6666666666666666, \"#ed7953\"], [0.7777777777777778, \"#fb9f3a\"], [0.8888888888888888, \"#fdca26\"], [1.0, \"#f0f921\"]], \"type\": \"contour\"}], \"contourcarpet\": [{\"colorbar\": {\"outlinewidth\": 0, \"ticks\": \"\"}, \"type\": \"contourcarpet\"}], \"heatmap\": [{\"colorbar\": {\"outlinewidth\": 0, \"ticks\": \"\"}, \"colorscale\": [[0.0, \"#0d0887\"], [0.1111111111111111, \"#46039f\"], [0.2222222222222222, \"#7201a8\"], [0.3333333333333333, \"#9c179e\"], [0.4444444444444444, \"#bd3786\"], [0.5555555555555556, \"#d8576b\"], [0.6666666666666666, \"#ed7953\"], [0.7777777777777778, \"#fb9f3a\"], [0.8888888888888888, \"#fdca26\"], [1.0, \"#f0f921\"]], \"type\": \"heatmap\"}], \"heatmapgl\": [{\"colorbar\": {\"outlinewidth\": 0, \"ticks\": \"\"}, \"colorscale\": [[0.0, \"#0d0887\"], [0.1111111111111111, \"#46039f\"], [0.2222222222222222, \"#7201a8\"], [0.3333333333333333, \"#9c179e\"], [0.4444444444444444, \"#bd3786\"], [0.5555555555555556, \"#d8576b\"], [0.6666666666666666, \"#ed7953\"], [0.7777777777777778, \"#fb9f3a\"], [0.8888888888888888, \"#fdca26\"], [1.0, \"#f0f921\"]], \"type\": \"heatmapgl\"}], \"histogram\": [{\"marker\": {\"colorbar\": {\"outlinewidth\": 0, \"ticks\": \"\"}}, \"type\": \"histogram\"}], \"histogram2d\": [{\"colorbar\": {\"outlinewidth\": 0, \"ticks\": \"\"}, \"colorscale\": [[0.0, \"#0d0887\"], [0.1111111111111111, \"#46039f\"], [0.2222222222222222, \"#7201a8\"], [0.3333333333333333, \"#9c179e\"], [0.4444444444444444, \"#bd3786\"], [0.5555555555555556, \"#d8576b\"], [0.6666666666666666, \"#ed7953\"], [0.7777777777777778, \"#fb9f3a\"], [0.8888888888888888, \"#fdca26\"], [1.0, \"#f0f921\"]], \"type\": \"histogram2d\"}], \"histogram2dcontour\": [{\"colorbar\": {\"outlinewidth\": 0, \"ticks\": \"\"}, \"colorscale\": [[0.0, \"#0d0887\"], [0.1111111111111111, \"#46039f\"], [0.2222222222222222, \"#7201a8\"], [0.3333333333333333, \"#9c179e\"], [0.4444444444444444, \"#bd3786\"], [0.5555555555555556, \"#d8576b\"], [0.6666666666666666, \"#ed7953\"], [0.7777777777777778, \"#fb9f3a\"], [0.8888888888888888, \"#fdca26\"], [1.0, \"#f0f921\"]], \"type\": \"histogram2dcontour\"}], \"mesh3d\": [{\"colorbar\": {\"outlinewidth\": 0, \"ticks\": \"\"}, \"type\": \"mesh3d\"}], \"parcoords\": [{\"line\": {\"colorbar\": {\"outlinewidth\": 0, \"ticks\": \"\"}}, \"type\": \"parcoords\"}], \"pie\": [{\"automargin\": true, \"type\": \"pie\"}], \"scatter\": [{\"marker\": {\"colorbar\": {\"outlinewidth\": 0, \"ticks\": \"\"}}, \"type\": \"scatter\"}], \"scatter3d\": [{\"line\": {\"colorbar\": {\"outlinewidth\": 0, \"ticks\": \"\"}}, \"marker\": {\"colorbar\": {\"outlinewidth\": 0, \"ticks\": \"\"}}, \"type\": \"scatter3d\"}], \"scattercarpet\": [{\"marker\": {\"colorbar\": {\"outlinewidth\": 0, \"ticks\": \"\"}}, \"type\": \"scattercarpet\"}], \"scattergeo\": [{\"marker\": {\"colorbar\": {\"outlinewidth\": 0, \"ticks\": \"\"}}, \"type\": \"scattergeo\"}], \"scattergl\": [{\"marker\": {\"colorbar\": {\"outlinewidth\": 0, \"ticks\": \"\"}}, \"type\": \"scattergl\"}], \"scattermapbox\": [{\"marker\": {\"colorbar\": {\"outlinewidth\": 0, \"ticks\": \"\"}}, \"type\": \"scattermapbox\"}], \"scatterpolar\": [{\"marker\": {\"colorbar\": {\"outlinewidth\": 0, \"ticks\": \"\"}}, \"type\": \"scatterpolar\"}], \"scatterpolargl\": [{\"marker\": {\"colorbar\": {\"outlinewidth\": 0, \"ticks\": \"\"}}, \"type\": \"scatterpolargl\"}], \"scatterternary\": [{\"marker\": {\"colorbar\": {\"outlinewidth\": 0, \"ticks\": \"\"}}, \"type\": \"scatterternary\"}], \"surface\": [{\"colorbar\": {\"outlinewidth\": 0, \"ticks\": \"\"}, \"colorscale\": [[0.0, \"#0d0887\"], [0.1111111111111111, \"#46039f\"], [0.2222222222222222, \"#7201a8\"], [0.3333333333333333, \"#9c179e\"], [0.4444444444444444, \"#bd3786\"], [0.5555555555555556, \"#d8576b\"], [0.6666666666666666, \"#ed7953\"], [0.7777777777777778, \"#fb9f3a\"], [0.8888888888888888, \"#fdca26\"], [1.0, \"#f0f921\"]], \"type\": \"surface\"}], \"table\": [{\"cells\": {\"fill\": {\"color\": \"#EBF0F8\"}, \"line\": {\"color\": \"white\"}}, \"header\": {\"fill\": {\"color\": \"#C8D4E3\"}, \"line\": {\"color\": \"white\"}}, \"type\": \"table\"}]}, \"layout\": {\"annotationdefaults\": {\"arrowcolor\": \"#2a3f5f\", \"arrowhead\": 0, \"arrowwidth\": 1}, \"coloraxis\": {\"colorbar\": {\"outlinewidth\": 0, \"ticks\": \"\"}}, \"colorscale\": {\"diverging\": [[0, \"#8e0152\"], [0.1, \"#c51b7d\"], [0.2, \"#de77ae\"], [0.3, \"#f1b6da\"], [0.4, \"#fde0ef\"], [0.5, \"#f7f7f7\"], [0.6, \"#e6f5d0\"], [0.7, \"#b8e186\"], [0.8, \"#7fbc41\"], [0.9, \"#4d9221\"], [1, \"#276419\"]], \"sequential\": [[0.0, \"#0d0887\"], [0.1111111111111111, \"#46039f\"], [0.2222222222222222, \"#7201a8\"], [0.3333333333333333, \"#9c179e\"], [0.4444444444444444, \"#bd3786\"], [0.5555555555555556, \"#d8576b\"], [0.6666666666666666, \"#ed7953\"], [0.7777777777777778, \"#fb9f3a\"], [0.8888888888888888, \"#fdca26\"], [1.0, \"#f0f921\"]], \"sequentialminus\": [[0.0, \"#0d0887\"], [0.1111111111111111, \"#46039f\"], [0.2222222222222222, \"#7201a8\"], [0.3333333333333333, \"#9c179e\"], [0.4444444444444444, \"#bd3786\"], [0.5555555555555556, \"#d8576b\"], [0.6666666666666666, \"#ed7953\"], [0.7777777777777778, \"#fb9f3a\"], [0.8888888888888888, \"#fdca26\"], [1.0, \"#f0f921\"]]}, \"colorway\": [\"#636efa\", \"#EF553B\", \"#00cc96\", \"#ab63fa\", \"#FFA15A\", \"#19d3f3\", \"#FF6692\", \"#B6E880\", \"#FF97FF\", \"#FECB52\"], \"font\": {\"color\": \"#2a3f5f\"}, \"geo\": {\"bgcolor\": \"white\", \"lakecolor\": \"white\", \"landcolor\": \"#E5ECF6\", \"showlakes\": true, \"showland\": true, \"subunitcolor\": \"white\"}, \"hoverlabel\": {\"align\": \"left\"}, \"hovermode\": \"closest\", \"mapbox\": {\"style\": \"light\"}, \"paper_bgcolor\": \"white\", \"plot_bgcolor\": \"#E5ECF6\", \"polar\": {\"angularaxis\": {\"gridcolor\": \"white\", \"linecolor\": \"white\", \"ticks\": \"\"}, \"bgcolor\": \"#E5ECF6\", \"radialaxis\": {\"gridcolor\": \"white\", \"linecolor\": \"white\", \"ticks\": \"\"}}, \"scene\": {\"xaxis\": {\"backgroundcolor\": \"#E5ECF6\", \"gridcolor\": \"white\", \"gridwidth\": 2, \"linecolor\": \"white\", \"showbackground\": true, \"ticks\": \"\", \"zerolinecolor\": \"white\"}, \"yaxis\": {\"backgroundcolor\": \"#E5ECF6\", \"gridcolor\": \"white\", \"gridwidth\": 2, \"linecolor\": \"white\", \"showbackground\": true, \"ticks\": \"\", \"zerolinecolor\": \"white\"}, \"zaxis\": {\"backgroundcolor\": \"#E5ECF6\", \"gridcolor\": \"white\", \"gridwidth\": 2, \"linecolor\": \"white\", \"showbackground\": true, \"ticks\": \"\", \"zerolinecolor\": \"white\"}}, \"shapedefaults\": {\"line\": {\"color\": \"#2a3f5f\"}}, \"ternary\": {\"aaxis\": {\"gridcolor\": \"white\", \"linecolor\": \"white\", \"ticks\": \"\"}, \"baxis\": {\"gridcolor\": \"white\", \"linecolor\": \"white\", \"ticks\": \"\"}, \"bgcolor\": \"#E5ECF6\", \"caxis\": {\"gridcolor\": \"white\", \"linecolor\": \"white\", \"ticks\": \"\"}}, \"title\": {\"x\": 0.05}, \"xaxis\": {\"automargin\": true, \"gridcolor\": \"white\", \"linecolor\": \"white\", \"ticks\": \"\", \"title\": {\"standoff\": 15}, \"zerolinecolor\": \"white\", \"zerolinewidth\": 2}, \"yaxis\": {\"automargin\": true, \"gridcolor\": \"white\", \"linecolor\": \"white\", \"ticks\": \"\", \"title\": {\"standoff\": 15}, \"zerolinecolor\": \"white\", \"zerolinewidth\": 2}}}, \"title\": {\"text\": \"Promedio de GPA por g\\u00e9nero y preparaci\\u00f3n de test\"}, \"xaxis\": {\"anchor\": \"y\", \"domain\": [0.0, 1.0], \"title\": {\"text\": \"gender\"}}, \"yaxis\": {\"anchor\": \"x\", \"domain\": [0.0, 1.0], \"title\": {\"text\": \"GPA\"}}},\n",
              "                        {\"responsive\": true}\n",
              "                    ).then(function(){\n",
              "                            \n",
              "var gd = document.getElementById('e40b7582-af96-4062-89d2-64f1612295c1');\n",
              "var x = new MutationObserver(function (mutations, observer) {{\n",
              "        var display = window.getComputedStyle(gd).display;\n",
              "        if (!display || display === 'none') {{\n",
              "            console.log([gd, 'removed!']);\n",
              "            Plotly.purge(gd);\n",
              "            observer.disconnect();\n",
              "        }}\n",
              "}});\n",
              "\n",
              "// Listen for the removal of the full notebook cells\n",
              "var notebookContainer = gd.closest('#notebook-container');\n",
              "if (notebookContainer) {{\n",
              "    x.observe(notebookContainer, {childList: true});\n",
              "}}\n",
              "\n",
              "// Listen for the clearing of the current output cell\n",
              "var outputEl = gd.closest('.output');\n",
              "if (outputEl) {{\n",
              "    x.observe(outputEl, {childList: true});\n",
              "}}\n",
              "\n",
              "                        })\n",
              "                };\n",
              "                \n",
              "            </script>\n",
              "        </div>\n",
              "</body>\n",
              "</html>"
            ]
          },
          "metadata": {}
        }
      ]
    },
    {
      "cell_type": "markdown",
      "metadata": {
        "id": "T0VBPUkkY511"
      },
      "source": [
        "Se puede observar en este gráfico que aquellas personas que completaron el test de preparación, tienen un promedio más alto que aquellos que no lo completaton, sin embargo, tampoco es una gran diferencia. Por otr lado, se puede observar que las mujeres tienen un GPA un poco más alto que los hombres, tanto como si completaron el curso como si no."
      ]
    },
    {
      "cell_type": "code",
      "metadata": {
        "colab": {
          "base_uri": "https://localhost:8080/",
          "height": 394
        },
        "id": "drlYzNHjVFQH",
        "outputId": "2f9c294e-8837-4eaa-f668-4659edd0ee70"
      },
      "source": [
        "df5 = round(df_right.groupby(['gender','race/ethnicity']).mean(),2)\n",
        "df5"
      ],
      "execution_count": 68,
      "outputs": [
        {
          "output_type": "execute_result",
          "data": {
            "text/html": [
              "<div>\n",
              "<style scoped>\n",
              "    .dataframe tbody tr th:only-of-type {\n",
              "        vertical-align: middle;\n",
              "    }\n",
              "\n",
              "    .dataframe tbody tr th {\n",
              "        vertical-align: top;\n",
              "    }\n",
              "\n",
              "    .dataframe thead th {\n",
              "        text-align: right;\n",
              "    }\n",
              "</style>\n",
              "<table border=\"1\" class=\"dataframe\">\n",
              "  <thead>\n",
              "    <tr style=\"text-align: right;\">\n",
              "      <th></th>\n",
              "      <th></th>\n",
              "      <th>math score</th>\n",
              "      <th>reading score</th>\n",
              "      <th>writing score</th>\n",
              "      <th>science score</th>\n",
              "      <th>history score</th>\n",
              "      <th>GPA</th>\n",
              "    </tr>\n",
              "    <tr>\n",
              "      <th>gender</th>\n",
              "      <th>race/ethnicity</th>\n",
              "      <th></th>\n",
              "      <th></th>\n",
              "      <th></th>\n",
              "      <th></th>\n",
              "      <th></th>\n",
              "      <th></th>\n",
              "    </tr>\n",
              "  </thead>\n",
              "  <tbody>\n",
              "    <tr>\n",
              "      <th rowspan=\"5\" valign=\"top\">female</th>\n",
              "      <th>group A</th>\n",
              "      <td>76.58</td>\n",
              "      <td>85.26</td>\n",
              "      <td>76.17</td>\n",
              "      <td>50.95</td>\n",
              "      <td>4.49</td>\n",
              "      <td>80.11</td>\n",
              "    </tr>\n",
              "    <tr>\n",
              "      <th>group B</th>\n",
              "      <td>81.40</td>\n",
              "      <td>85.84</td>\n",
              "      <td>87.15</td>\n",
              "      <td>51.19</td>\n",
              "      <td>4.69</td>\n",
              "      <td>86.11</td>\n",
              "    </tr>\n",
              "    <tr>\n",
              "      <th>group C</th>\n",
              "      <td>74.28</td>\n",
              "      <td>88.02</td>\n",
              "      <td>88.01</td>\n",
              "      <td>52.29</td>\n",
              "      <td>4.69</td>\n",
              "      <td>85.19</td>\n",
              "    </tr>\n",
              "    <tr>\n",
              "      <th>group D</th>\n",
              "      <td>80.92</td>\n",
              "      <td>89.23</td>\n",
              "      <td>88.64</td>\n",
              "      <td>54.63</td>\n",
              "      <td>4.66</td>\n",
              "      <td>87.93</td>\n",
              "    </tr>\n",
              "    <tr>\n",
              "      <th>group E</th>\n",
              "      <td>89.05</td>\n",
              "      <td>95.59</td>\n",
              "      <td>91.56</td>\n",
              "      <td>59.69</td>\n",
              "      <td>4.68</td>\n",
              "      <td>93.85</td>\n",
              "    </tr>\n",
              "    <tr>\n",
              "      <th rowspan=\"5\" valign=\"top\">male</th>\n",
              "      <th>group A</th>\n",
              "      <td>78.59</td>\n",
              "      <td>75.78</td>\n",
              "      <td>72.39</td>\n",
              "      <td>53.00</td>\n",
              "      <td>4.23</td>\n",
              "      <td>77.28</td>\n",
              "    </tr>\n",
              "    <tr>\n",
              "      <th>group B</th>\n",
              "      <td>76.81</td>\n",
              "      <td>76.43</td>\n",
              "      <td>74.90</td>\n",
              "      <td>55.94</td>\n",
              "      <td>4.15</td>\n",
              "      <td>77.50</td>\n",
              "    </tr>\n",
              "    <tr>\n",
              "      <th>group C</th>\n",
              "      <td>85.86</td>\n",
              "      <td>82.15</td>\n",
              "      <td>80.32</td>\n",
              "      <td>57.01</td>\n",
              "      <td>4.36</td>\n",
              "      <td>83.92</td>\n",
              "    </tr>\n",
              "    <tr>\n",
              "      <th>group D</th>\n",
              "      <td>87.35</td>\n",
              "      <td>83.04</td>\n",
              "      <td>84.87</td>\n",
              "      <td>58.62</td>\n",
              "      <td>4.39</td>\n",
              "      <td>86.96</td>\n",
              "    </tr>\n",
              "    <tr>\n",
              "      <th>group E</th>\n",
              "      <td>90.85</td>\n",
              "      <td>85.14</td>\n",
              "      <td>83.65</td>\n",
              "      <td>63.89</td>\n",
              "      <td>4.45</td>\n",
              "      <td>86.84</td>\n",
              "    </tr>\n",
              "  </tbody>\n",
              "</table>\n",
              "</div>"
            ],
            "text/plain": [
              "                       math score  reading score  ...  history score    GPA\n",
              "gender race/ethnicity                             ...                      \n",
              "female group A              76.58          85.26  ...           4.49  80.11\n",
              "       group B              81.40          85.84  ...           4.69  86.11\n",
              "       group C              74.28          88.02  ...           4.69  85.19\n",
              "       group D              80.92          89.23  ...           4.66  87.93\n",
              "       group E              89.05          95.59  ...           4.68  93.85\n",
              "male   group A              78.59          75.78  ...           4.23  77.28\n",
              "       group B              76.81          76.43  ...           4.15  77.50\n",
              "       group C              85.86          82.15  ...           4.36  83.92\n",
              "       group D              87.35          83.04  ...           4.39  86.96\n",
              "       group E              90.85          85.14  ...           4.45  86.84\n",
              "\n",
              "[10 rows x 6 columns]"
            ]
          },
          "metadata": {},
          "execution_count": 68
        }
      ]
    },
    {
      "cell_type": "code",
      "metadata": {
        "colab": {
          "base_uri": "https://localhost:8080/",
          "height": 542
        },
        "id": "69r48JLTWWPH",
        "outputId": "699b04b0-bd9a-403d-e369-a74bae589525"
      },
      "source": [
        "fig = px.bar(df5, x=df5.index.get_level_values(1), y=\"GPA\", color=df5.index.get_level_values(0), barmode=\"group\", title= \"GPA para hombres y mujeres, vs su grupo étnico\")\n",
        "fig.show()"
      ],
      "execution_count": 87,
      "outputs": [
        {
          "output_type": "display_data",
          "data": {
            "text/html": [
              "<html>\n",
              "<head><meta charset=\"utf-8\" /></head>\n",
              "<body>\n",
              "    <div>\n",
              "            <script src=\"https://cdnjs.cloudflare.com/ajax/libs/mathjax/2.7.5/MathJax.js?config=TeX-AMS-MML_SVG\"></script><script type=\"text/javascript\">if (window.MathJax) {MathJax.Hub.Config({SVG: {font: \"STIX-Web\"}});}</script>\n",
              "                <script type=\"text/javascript\">window.PlotlyConfig = {MathJaxConfig: 'local'};</script>\n",
              "        <script src=\"https://cdn.plot.ly/plotly-latest.min.js\"></script>    \n",
              "            <div id=\"33f0cf53-f9b9-40e6-88e5-00f1bbc1737f\" class=\"plotly-graph-div\" style=\"height:525px; width:100%;\"></div>\n",
              "            <script type=\"text/javascript\">\n",
              "                \n",
              "                    window.PLOTLYENV=window.PLOTLYENV || {};\n",
              "                    \n",
              "                if (document.getElementById(\"33f0cf53-f9b9-40e6-88e5-00f1bbc1737f\")) {\n",
              "                    Plotly.newPlot(\n",
              "                        '33f0cf53-f9b9-40e6-88e5-00f1bbc1737f',\n",
              "                        [{\"alignmentgroup\": \"True\", \"hoverlabel\": {\"namelength\": 0}, \"hovertemplate\": \"color=female<br>x=%{x}<br>GPA=%{y}\", \"legendgroup\": \"color=female\", \"marker\": {\"color\": \"#636efa\"}, \"name\": \"color=female\", \"offsetgroup\": \"color=female\", \"orientation\": \"v\", \"showlegend\": true, \"textposition\": \"auto\", \"type\": \"bar\", \"x\": [\"group A\", \"group B\", \"group C\", \"group D\", \"group E\"], \"xaxis\": \"x\", \"y\": [80.11, 86.11, 85.19, 87.93, 93.85], \"yaxis\": \"y\"}, {\"alignmentgroup\": \"True\", \"hoverlabel\": {\"namelength\": 0}, \"hovertemplate\": \"color=male<br>x=%{x}<br>GPA=%{y}\", \"legendgroup\": \"color=male\", \"marker\": {\"color\": \"#EF553B\"}, \"name\": \"color=male\", \"offsetgroup\": \"color=male\", \"orientation\": \"v\", \"showlegend\": true, \"textposition\": \"auto\", \"type\": \"bar\", \"x\": [\"group A\", \"group B\", \"group C\", \"group D\", \"group E\"], \"xaxis\": \"x\", \"y\": [77.28, 77.5, 83.92, 86.96, 86.84], \"yaxis\": \"y\"}],\n",
              "                        {\"barmode\": \"group\", \"legend\": {\"tracegroupgap\": 0}, \"margin\": {\"t\": 60}, \"template\": {\"data\": {\"bar\": [{\"error_x\": {\"color\": \"#2a3f5f\"}, \"error_y\": {\"color\": \"#2a3f5f\"}, \"marker\": {\"line\": {\"color\": \"#E5ECF6\", \"width\": 0.5}}, \"type\": \"bar\"}], \"barpolar\": [{\"marker\": {\"line\": {\"color\": \"#E5ECF6\", \"width\": 0.5}}, \"type\": \"barpolar\"}], \"carpet\": [{\"aaxis\": {\"endlinecolor\": \"#2a3f5f\", \"gridcolor\": \"white\", \"linecolor\": \"white\", \"minorgridcolor\": \"white\", \"startlinecolor\": \"#2a3f5f\"}, \"baxis\": {\"endlinecolor\": \"#2a3f5f\", \"gridcolor\": \"white\", \"linecolor\": \"white\", \"minorgridcolor\": \"white\", \"startlinecolor\": \"#2a3f5f\"}, \"type\": \"carpet\"}], \"choropleth\": [{\"colorbar\": {\"outlinewidth\": 0, \"ticks\": \"\"}, \"type\": \"choropleth\"}], \"contour\": [{\"colorbar\": {\"outlinewidth\": 0, \"ticks\": \"\"}, \"colorscale\": [[0.0, \"#0d0887\"], [0.1111111111111111, \"#46039f\"], [0.2222222222222222, \"#7201a8\"], [0.3333333333333333, \"#9c179e\"], [0.4444444444444444, \"#bd3786\"], [0.5555555555555556, \"#d8576b\"], [0.6666666666666666, \"#ed7953\"], [0.7777777777777778, \"#fb9f3a\"], [0.8888888888888888, \"#fdca26\"], [1.0, \"#f0f921\"]], \"type\": \"contour\"}], \"contourcarpet\": [{\"colorbar\": {\"outlinewidth\": 0, \"ticks\": \"\"}, \"type\": \"contourcarpet\"}], \"heatmap\": [{\"colorbar\": {\"outlinewidth\": 0, \"ticks\": \"\"}, \"colorscale\": [[0.0, \"#0d0887\"], [0.1111111111111111, \"#46039f\"], [0.2222222222222222, \"#7201a8\"], [0.3333333333333333, \"#9c179e\"], [0.4444444444444444, \"#bd3786\"], [0.5555555555555556, \"#d8576b\"], [0.6666666666666666, \"#ed7953\"], [0.7777777777777778, \"#fb9f3a\"], [0.8888888888888888, \"#fdca26\"], [1.0, \"#f0f921\"]], \"type\": \"heatmap\"}], \"heatmapgl\": [{\"colorbar\": {\"outlinewidth\": 0, \"ticks\": \"\"}, \"colorscale\": [[0.0, \"#0d0887\"], [0.1111111111111111, \"#46039f\"], [0.2222222222222222, \"#7201a8\"], [0.3333333333333333, \"#9c179e\"], [0.4444444444444444, \"#bd3786\"], [0.5555555555555556, \"#d8576b\"], [0.6666666666666666, \"#ed7953\"], [0.7777777777777778, \"#fb9f3a\"], [0.8888888888888888, \"#fdca26\"], [1.0, \"#f0f921\"]], \"type\": \"heatmapgl\"}], \"histogram\": [{\"marker\": {\"colorbar\": {\"outlinewidth\": 0, \"ticks\": \"\"}}, \"type\": \"histogram\"}], \"histogram2d\": [{\"colorbar\": {\"outlinewidth\": 0, \"ticks\": \"\"}, \"colorscale\": [[0.0, \"#0d0887\"], [0.1111111111111111, \"#46039f\"], [0.2222222222222222, \"#7201a8\"], [0.3333333333333333, \"#9c179e\"], [0.4444444444444444, \"#bd3786\"], [0.5555555555555556, \"#d8576b\"], [0.6666666666666666, \"#ed7953\"], [0.7777777777777778, \"#fb9f3a\"], [0.8888888888888888, \"#fdca26\"], [1.0, \"#f0f921\"]], \"type\": \"histogram2d\"}], \"histogram2dcontour\": [{\"colorbar\": {\"outlinewidth\": 0, \"ticks\": \"\"}, \"colorscale\": [[0.0, \"#0d0887\"], [0.1111111111111111, \"#46039f\"], [0.2222222222222222, \"#7201a8\"], [0.3333333333333333, \"#9c179e\"], [0.4444444444444444, \"#bd3786\"], [0.5555555555555556, \"#d8576b\"], [0.6666666666666666, \"#ed7953\"], [0.7777777777777778, \"#fb9f3a\"], [0.8888888888888888, \"#fdca26\"], [1.0, \"#f0f921\"]], \"type\": \"histogram2dcontour\"}], \"mesh3d\": [{\"colorbar\": {\"outlinewidth\": 0, \"ticks\": \"\"}, \"type\": \"mesh3d\"}], \"parcoords\": [{\"line\": {\"colorbar\": {\"outlinewidth\": 0, \"ticks\": \"\"}}, \"type\": \"parcoords\"}], \"pie\": [{\"automargin\": true, \"type\": \"pie\"}], \"scatter\": [{\"marker\": {\"colorbar\": {\"outlinewidth\": 0, \"ticks\": \"\"}}, \"type\": \"scatter\"}], \"scatter3d\": [{\"line\": {\"colorbar\": {\"outlinewidth\": 0, \"ticks\": \"\"}}, \"marker\": {\"colorbar\": {\"outlinewidth\": 0, \"ticks\": \"\"}}, \"type\": \"scatter3d\"}], \"scattercarpet\": [{\"marker\": {\"colorbar\": {\"outlinewidth\": 0, \"ticks\": \"\"}}, \"type\": \"scattercarpet\"}], \"scattergeo\": [{\"marker\": {\"colorbar\": {\"outlinewidth\": 0, \"ticks\": \"\"}}, \"type\": \"scattergeo\"}], \"scattergl\": [{\"marker\": {\"colorbar\": {\"outlinewidth\": 0, \"ticks\": \"\"}}, \"type\": \"scattergl\"}], \"scattermapbox\": [{\"marker\": {\"colorbar\": {\"outlinewidth\": 0, \"ticks\": \"\"}}, \"type\": \"scattermapbox\"}], \"scatterpolar\": [{\"marker\": {\"colorbar\": {\"outlinewidth\": 0, \"ticks\": \"\"}}, \"type\": \"scatterpolar\"}], \"scatterpolargl\": [{\"marker\": {\"colorbar\": {\"outlinewidth\": 0, \"ticks\": \"\"}}, \"type\": \"scatterpolargl\"}], \"scatterternary\": [{\"marker\": {\"colorbar\": {\"outlinewidth\": 0, \"ticks\": \"\"}}, \"type\": \"scatterternary\"}], \"surface\": [{\"colorbar\": {\"outlinewidth\": 0, \"ticks\": \"\"}, \"colorscale\": [[0.0, \"#0d0887\"], [0.1111111111111111, \"#46039f\"], [0.2222222222222222, \"#7201a8\"], [0.3333333333333333, \"#9c179e\"], [0.4444444444444444, \"#bd3786\"], [0.5555555555555556, \"#d8576b\"], [0.6666666666666666, \"#ed7953\"], [0.7777777777777778, \"#fb9f3a\"], [0.8888888888888888, \"#fdca26\"], [1.0, \"#f0f921\"]], \"type\": \"surface\"}], \"table\": [{\"cells\": {\"fill\": {\"color\": \"#EBF0F8\"}, \"line\": {\"color\": \"white\"}}, \"header\": {\"fill\": {\"color\": \"#C8D4E3\"}, \"line\": {\"color\": \"white\"}}, \"type\": \"table\"}]}, \"layout\": {\"annotationdefaults\": {\"arrowcolor\": \"#2a3f5f\", \"arrowhead\": 0, \"arrowwidth\": 1}, \"coloraxis\": {\"colorbar\": {\"outlinewidth\": 0, \"ticks\": \"\"}}, \"colorscale\": {\"diverging\": [[0, \"#8e0152\"], [0.1, \"#c51b7d\"], [0.2, \"#de77ae\"], [0.3, \"#f1b6da\"], [0.4, \"#fde0ef\"], [0.5, \"#f7f7f7\"], [0.6, \"#e6f5d0\"], [0.7, \"#b8e186\"], [0.8, \"#7fbc41\"], [0.9, \"#4d9221\"], [1, \"#276419\"]], \"sequential\": [[0.0, \"#0d0887\"], [0.1111111111111111, \"#46039f\"], [0.2222222222222222, \"#7201a8\"], [0.3333333333333333, \"#9c179e\"], [0.4444444444444444, \"#bd3786\"], [0.5555555555555556, \"#d8576b\"], [0.6666666666666666, \"#ed7953\"], [0.7777777777777778, \"#fb9f3a\"], [0.8888888888888888, \"#fdca26\"], [1.0, \"#f0f921\"]], \"sequentialminus\": [[0.0, \"#0d0887\"], [0.1111111111111111, \"#46039f\"], [0.2222222222222222, \"#7201a8\"], [0.3333333333333333, \"#9c179e\"], [0.4444444444444444, \"#bd3786\"], [0.5555555555555556, \"#d8576b\"], [0.6666666666666666, \"#ed7953\"], [0.7777777777777778, \"#fb9f3a\"], [0.8888888888888888, \"#fdca26\"], [1.0, \"#f0f921\"]]}, \"colorway\": [\"#636efa\", \"#EF553B\", \"#00cc96\", \"#ab63fa\", \"#FFA15A\", \"#19d3f3\", \"#FF6692\", \"#B6E880\", \"#FF97FF\", \"#FECB52\"], \"font\": {\"color\": \"#2a3f5f\"}, \"geo\": {\"bgcolor\": \"white\", \"lakecolor\": \"white\", \"landcolor\": \"#E5ECF6\", \"showlakes\": true, \"showland\": true, \"subunitcolor\": \"white\"}, \"hoverlabel\": {\"align\": \"left\"}, \"hovermode\": \"closest\", \"mapbox\": {\"style\": \"light\"}, \"paper_bgcolor\": \"white\", \"plot_bgcolor\": \"#E5ECF6\", \"polar\": {\"angularaxis\": {\"gridcolor\": \"white\", \"linecolor\": \"white\", \"ticks\": \"\"}, \"bgcolor\": \"#E5ECF6\", \"radialaxis\": {\"gridcolor\": \"white\", \"linecolor\": \"white\", \"ticks\": \"\"}}, \"scene\": {\"xaxis\": {\"backgroundcolor\": \"#E5ECF6\", \"gridcolor\": \"white\", \"gridwidth\": 2, \"linecolor\": \"white\", \"showbackground\": true, \"ticks\": \"\", \"zerolinecolor\": \"white\"}, \"yaxis\": {\"backgroundcolor\": \"#E5ECF6\", \"gridcolor\": \"white\", \"gridwidth\": 2, \"linecolor\": \"white\", \"showbackground\": true, \"ticks\": \"\", \"zerolinecolor\": \"white\"}, \"zaxis\": {\"backgroundcolor\": \"#E5ECF6\", \"gridcolor\": \"white\", \"gridwidth\": 2, \"linecolor\": \"white\", \"showbackground\": true, \"ticks\": \"\", \"zerolinecolor\": \"white\"}}, \"shapedefaults\": {\"line\": {\"color\": \"#2a3f5f\"}}, \"ternary\": {\"aaxis\": {\"gridcolor\": \"white\", \"linecolor\": \"white\", \"ticks\": \"\"}, \"baxis\": {\"gridcolor\": \"white\", \"linecolor\": \"white\", \"ticks\": \"\"}, \"bgcolor\": \"#E5ECF6\", \"caxis\": {\"gridcolor\": \"white\", \"linecolor\": \"white\", \"ticks\": \"\"}}, \"title\": {\"x\": 0.05}, \"xaxis\": {\"automargin\": true, \"gridcolor\": \"white\", \"linecolor\": \"white\", \"ticks\": \"\", \"title\": {\"standoff\": 15}, \"zerolinecolor\": \"white\", \"zerolinewidth\": 2}, \"yaxis\": {\"automargin\": true, \"gridcolor\": \"white\", \"linecolor\": \"white\", \"ticks\": \"\", \"title\": {\"standoff\": 15}, \"zerolinecolor\": \"white\", \"zerolinewidth\": 2}}}, \"xaxis\": {\"anchor\": \"y\", \"domain\": [0.0, 1.0], \"title\": {\"text\": \"x\"}}, \"yaxis\": {\"anchor\": \"x\", \"domain\": [0.0, 1.0], \"title\": {\"text\": \"GPA\"}}},\n",
              "                        {\"responsive\": true}\n",
              "                    ).then(function(){\n",
              "                            \n",
              "var gd = document.getElementById('33f0cf53-f9b9-40e6-88e5-00f1bbc1737f');\n",
              "var x = new MutationObserver(function (mutations, observer) {{\n",
              "        var display = window.getComputedStyle(gd).display;\n",
              "        if (!display || display === 'none') {{\n",
              "            console.log([gd, 'removed!']);\n",
              "            Plotly.purge(gd);\n",
              "            observer.disconnect();\n",
              "        }}\n",
              "}});\n",
              "\n",
              "// Listen for the removal of the full notebook cells\n",
              "var notebookContainer = gd.closest('#notebook-container');\n",
              "if (notebookContainer) {{\n",
              "    x.observe(notebookContainer, {childList: true});\n",
              "}}\n",
              "\n",
              "// Listen for the clearing of the current output cell\n",
              "var outputEl = gd.closest('.output');\n",
              "if (outputEl) {{\n",
              "    x.observe(outputEl, {childList: true});\n",
              "}}\n",
              "\n",
              "                        })\n",
              "                };\n",
              "                \n",
              "            </script>\n",
              "        </div>\n",
              "</body>\n",
              "</html>"
            ]
          },
          "metadata": {}
        }
      ]
    },
    {
      "cell_type": "markdown",
      "metadata": {
        "id": "q8Eu-Yv8bdNL"
      },
      "source": [
        "Se puede observar que el grupo E tiene un promedio más elevado, en promedio, de GPA, sin embargo, se observa también que en promedio, las mujeres del grupo E y D son similares, lo mismo sucede con los hombres del grupo B y C."
      ]
    },
    {
      "cell_type": "markdown",
      "metadata": {
        "id": "Rg4ZMq8ezAH6"
      },
      "source": [
        "# Conclusión\n",
        "Eso ha sido todo para el lab de hoy, recuerden que el laboratorio tiene un plazo de entrega de una semana y que **los días de atraso no se pueden utilizar para entregas de lab** solo para tareas. Cualquier duda del laboratorio, no duden en contactarnos por mail o U-cursos.\n",
        "\n",
        "<p align=\"center\">\n",
        "  <img src=\"https://media1.tenor.com/images/2f7df460196625edc45b8380d158e5ee/tenor.gif?itemid=16669403\">\n",
        "</p>"
      ]
    },
    {
      "cell_type": "markdown",
      "metadata": {
        "id": "wCL1lACBzAH7"
      },
      "source": [
        "<br>\n",
        "<center>\n",
        "<img src=\"https://i.kym-cdn.com/photos/images/original/001/194/195/b18.png\" width=100 height=50 />\n",
        "</center>\n",
        "<br>"
      ]
    }
  ]
}