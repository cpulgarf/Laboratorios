{
  "nbformat": 4,
  "nbformat_minor": 0,
  "metadata": {
    "kernelspec": {
      "display_name": "Python 3",
      "language": "python",
      "name": "python3"
    },
    "language_info": {
      "codemirror_mode": {
        "name": "ipython",
        "version": 3
      },
      "file_extension": ".py",
      "mimetype": "text/x-python",
      "name": "python",
      "nbconvert_exporter": "python",
      "pygments_lexer": "ipython3",
      "version": "3.8.3"
    },
    "toc": {
      "base_numbering": 1,
      "nav_menu": {},
      "number_sections": true,
      "sideBar": true,
      "skip_h1_title": true,
      "title_cell": "Tabla de Contenidos",
      "title_sidebar": "Contenidos",
      "toc_cell": false,
      "toc_position": {
        "height": "calc(100% - 180px)",
        "left": "10px",
        "top": "150px",
        "width": "241.867px"
      },
      "toc_section_display": true,
      "toc_window_display": true
    },
    "varInspector": {
      "cols": {
        "lenName": 16,
        "lenType": 16,
        "lenVar": 40
      },
      "kernels_config": {
        "python": {
          "delete_cmd_postfix": "",
          "delete_cmd_prefix": "del ",
          "library": "var_list.py",
          "varRefreshCmd": "print(var_dic_list())"
        },
        "r": {
          "delete_cmd_postfix": ") ",
          "delete_cmd_prefix": "rm(",
          "library": "var_list.r",
          "varRefreshCmd": "cat(var_dic_list()) "
        }
      },
      "types_to_exclude": [
        "module",
        "function",
        "builtin_function_or_method",
        "instance",
        "_Feature"
      ],
      "window_display": false
    },
    "colab": {
      "name": "Laboratorio8.ipynb",
      "provenance": [],
      "collapsed_sections": [],
      "toc_visible": true
    },
    "deepnote_notebook_id": "038fcdf2-d87a-4a74-89c6-f5afff22afb6",
    "deepnote": {},
    "deepnote_execution_queue": []
  },
  "cells": [
    {
      "cell_type": "markdown",
      "metadata": {
        "id": "XUZ1dFPHzAHl",
        "cell_id": "00000-7111e3ae-b60e-4569-b774-a13ef1b95f77",
        "deepnote_cell_type": "markdown"
      },
      "source": [
        "<h1><center>Laboratorio 8: ¿Superhéroe o Villano? 🦸</center></h1>\n",
        "\n",
        "<center><strong>MDS7202: Laboratorio de Programación Científica para Ciencia de Datos</strong></center>"
      ]
    },
    {
      "cell_type": "markdown",
      "metadata": {
        "id": "UD8X1uhGzAHq",
        "cell_id": "00001-988ebcea-7685-4ad4-968d-5530ff0099a7",
        "deepnote_cell_type": "markdown"
      },
      "source": [
        "### Cuerpo Docente:\n",
        "\n",
        "- Profesor: Pablo Badilla\n",
        "- Auxiliar: Ignacio Meza D.\n",
        "- Ayudante: Constanza Peña"
      ]
    },
    {
      "cell_type": "markdown",
      "metadata": {
        "id": "tXflExjqzAHr",
        "cell_id": "00002-038ebafa-6641-4c2a-b2e8-62ad2018b88e",
        "deepnote_cell_type": "markdown"
      },
      "source": [
        "### Equipo: SUPER IMPORTANTE - notebooks sin nombre no serán revisados\n",
        "\n",
        "- Nombre de alumno: Camila J. Pulgar Fernández\n",
        "\n"
      ]
    },
    {
      "cell_type": "markdown",
      "metadata": {
        "id": "AD-V0bbZzAHr",
        "cell_id": "00003-913d0cc4-e146-4ff9-a0e3-26a20c808d7c",
        "deepnote_cell_type": "markdown"
      },
      "source": [
        "### **Link de repositorio de GitHub:** `http://....`"
      ]
    },
    {
      "cell_type": "markdown",
      "metadata": {
        "id": "EcnsiQMkzAHr",
        "cell_id": "00004-e5841000-37dc-494f-a9b8-3c30765c243a",
        "deepnote_cell_type": "markdown"
      },
      "source": [
        "### Indice \n",
        "\n",
        "1. [Temas a tratar](#Temas-a-tratar:)\n",
        "3. [Descripcción del laboratorio](#Descripción-del-laboratorio.)\n",
        "4. [Desarrollo](#Desarrollo)"
      ]
    },
    {
      "cell_type": "markdown",
      "metadata": {
        "id": "6uBLPj1PzAHs",
        "cell_id": "00005-64f7c2d0-4287-4f3a-9b4b-2c5b829f606c",
        "deepnote_cell_type": "markdown"
      },
      "source": [
        "# Temas a tratar\n",
        "\n",
        "- Exploración del dataset y los resultados a través de visualizaciones interactivas usando `plotly`.\n",
        "- Introducción a procesamiento del lenguaje natural.\n",
        "- Clasificación en `scikit-learn`\n",
        "- Uso de pipelines.\n",
        "\n",
        "## Reglas:\n",
        "\n",
        "- Fecha de entrega: 26/11/2021\n",
        "- **Grupos de 2 personas**\n",
        "- **Ausentes** deberán realizar la actividad solos. \n",
        "- Cualquier duda fuera del horario de clases al foro. Mensajes al equipo docente serán respondidos por este medio.\n",
        "- Prohibidas las copias. \n",
        "- Pueden usar cualquer matrial del curso que estimen conveniente.\n",
        "\n",
        "### Objetivos principales del laboratorio\n",
        "\n",
        "- Aplicar las ventajas que nos ofrece crear un pipeline.\n",
        "- Obtener caracteristicas desde texto.\n",
        "- Visualizar el funcionamiento de clasificadores.\n",
        "- Realizar una GridSearch sobre un conjunto de clasificadores.\n",
        "\n",
        "El laboratorio deberá ser desarrollado sin el uso indiscriminado de iteradores nativos de python (aka \"for\", \"while\"). La idea es que aprendan a exprimir al máximo las funciones optimizadas que nos entrega `pandas`, las cuales vale mencionar, son bastante más eficientes que los iteradores nativos sobre DataFrames."
      ]
    },
    {
      "cell_type": "markdown",
      "metadata": {
        "id": "MhISwri4zAHy",
        "cell_id": "00006-b8353b3b-8f85-4aa6-9379-96902d3d0bf3",
        "deepnote_cell_type": "markdown"
      },
      "source": [
        "#Importamos librerias utiles 😸"
      ]
    },
    {
      "cell_type": "code",
      "metadata": {
        "ExecuteTime": {
          "end_time": "2021-03-29T00:08:16.884674Z",
          "start_time": "2021-03-29T00:08:16.349846Z"
        },
        "id": "uyc33dKdzAHy",
        "colab": {
          "base_uri": "https://localhost:8080/"
        },
        "deepnote_output_heights": [
          null,
          21.199996948242188
        ],
        "deepnote_to_be_reexecuted": false,
        "source_hash": "7ce9748b",
        "execution_start": 1637348694866,
        "execution_millis": 36497,
        "cell_id": "00007-e696189c-3187-4899-bf04-8034b0e8a595",
        "deepnote_cell_type": "code",
        "outputId": "5939ff27-20b8-4536-ca23-e3c6121aed66"
      },
      "source": [
        "# Librería Core del lab.\n",
        "import numpy as np\n",
        "import pandas as pd\n",
        "from sklearn.pipeline import Pipeline\n",
        "\n",
        "from sklearn.model_selection import train_test_split \n",
        "\n",
        "# Pre-procesamiento\n",
        "from sklearn.feature_selection import SelectPercentile, f_classif\n",
        "from sklearn.compose import ColumnTransformer\n",
        "from sklearn.preprocessing import MinMaxScaler\n",
        "from sklearn.feature_extraction.text import CountVectorizer\n",
        "\n",
        "# Clasifación\n",
        "from sklearn.svm import SVC\n",
        "from sklearn.naive_bayes import MultinomialNB\n",
        "from sklearn.tree import DecisionTreeClassifier\n",
        "from sklearn.model_selection import GridSearchCV\n",
        "from sklearn.ensemble import RandomForestClassifier\n",
        "from sklearn.linear_model import LogisticRegression\n",
        "\n",
        "# Metricas de evaluación\n",
        "from sklearn.metrics import classification_report\n",
        "from sklearn.metrics import accuracy_score\n",
        "from sklearn.metrics import f1_score\n",
        "from sklearn.metrics import cohen_kappa_score\n",
        "\n",
        "# Librería para plotear\n",
        "!pip install --upgrade plotly\n",
        "import plotly.express as px\n",
        "from plotly.subplots import make_subplots\n",
        "import plotly.graph_objects as go\n",
        "\n",
        "# Proyecciones en baja dimensionalidad: UMAP\n",
        "!pip install umap-learn\n",
        "\n",
        "# Librería para NLP\n",
        "!pip install nltk\n",
        "import nltk\n",
        "from nltk.corpus import stopwords\n",
        "from nltk import word_tokenize  \n",
        "from nltk.stem import PorterStemmer\n",
        "nltk.download('stopwords')"
      ],
      "execution_count": 2,
      "outputs": [
        {
          "output_type": "stream",
          "name": "stdout",
          "text": [
            "Requirement already satisfied: plotly in /usr/local/lib/python3.7/dist-packages (4.4.1)\n",
            "Collecting plotly\n",
            "  Downloading plotly-5.4.0-py2.py3-none-any.whl (25.3 MB)\n",
            "\u001b[K     |████████████████████████████████| 25.3 MB 1.9 MB/s \n",
            "\u001b[?25hRequirement already satisfied: six in /usr/local/lib/python3.7/dist-packages (from plotly) (1.15.0)\n",
            "Collecting tenacity>=6.2.0\n",
            "  Downloading tenacity-8.0.1-py3-none-any.whl (24 kB)\n",
            "Installing collected packages: tenacity, plotly\n",
            "  Attempting uninstall: plotly\n",
            "    Found existing installation: plotly 4.4.1\n",
            "    Uninstalling plotly-4.4.1:\n",
            "      Successfully uninstalled plotly-4.4.1\n",
            "Successfully installed plotly-5.4.0 tenacity-8.0.1\n",
            "Collecting umap-learn\n",
            "  Downloading umap-learn-0.5.2.tar.gz (86 kB)\n",
            "\u001b[K     |████████████████████████████████| 86 kB 2.9 MB/s \n",
            "\u001b[?25hRequirement already satisfied: numpy>=1.17 in /usr/local/lib/python3.7/dist-packages (from umap-learn) (1.19.5)\n",
            "Requirement already satisfied: scikit-learn>=0.22 in /usr/local/lib/python3.7/dist-packages (from umap-learn) (1.0.1)\n",
            "Requirement already satisfied: scipy>=1.0 in /usr/local/lib/python3.7/dist-packages (from umap-learn) (1.4.1)\n",
            "Requirement already satisfied: numba>=0.49 in /usr/local/lib/python3.7/dist-packages (from umap-learn) (0.51.2)\n",
            "Collecting pynndescent>=0.5\n",
            "  Downloading pynndescent-0.5.5.tar.gz (1.1 MB)\n",
            "\u001b[K     |████████████████████████████████| 1.1 MB 27.5 MB/s \n",
            "\u001b[?25hRequirement already satisfied: tqdm in /usr/local/lib/python3.7/dist-packages (from umap-learn) (4.62.3)\n",
            "Requirement already satisfied: llvmlite<0.35,>=0.34.0.dev0 in /usr/local/lib/python3.7/dist-packages (from numba>=0.49->umap-learn) (0.34.0)\n",
            "Requirement already satisfied: setuptools in /usr/local/lib/python3.7/dist-packages (from numba>=0.49->umap-learn) (57.4.0)\n",
            "Requirement already satisfied: joblib>=0.11 in /usr/local/lib/python3.7/dist-packages (from pynndescent>=0.5->umap-learn) (1.1.0)\n",
            "Requirement already satisfied: threadpoolctl>=2.0.0 in /usr/local/lib/python3.7/dist-packages (from scikit-learn>=0.22->umap-learn) (3.0.0)\n",
            "Building wheels for collected packages: umap-learn, pynndescent\n",
            "  Building wheel for umap-learn (setup.py) ... \u001b[?25l\u001b[?25hdone\n",
            "  Created wheel for umap-learn: filename=umap_learn-0.5.2-py3-none-any.whl size=82709 sha256=129b8902aaea26849c1fa18dbef13fdeff0423f5f2e7d9af09c08f6e80d68dd1\n",
            "  Stored in directory: /root/.cache/pip/wheels/84/1b/c6/aaf68a748122632967cef4dffef68224eb16798b6793257d82\n",
            "  Building wheel for pynndescent (setup.py) ... \u001b[?25l\u001b[?25hdone\n",
            "  Created wheel for pynndescent: filename=pynndescent-0.5.5-py3-none-any.whl size=52603 sha256=240da0f01a04fa3f58bfdcb7a58f0af9f49ca02b1cf529904a63ba460259d584\n",
            "  Stored in directory: /root/.cache/pip/wheels/af/e9/33/04db1436df0757c42fda8ea6796d7a8586e23c85fac355f476\n",
            "Successfully built umap-learn pynndescent\n",
            "Installing collected packages: pynndescent, umap-learn\n",
            "Successfully installed pynndescent-0.5.5 umap-learn-0.5.2\n",
            "Requirement already satisfied: nltk in /usr/local/lib/python3.7/dist-packages (3.2.5)\n",
            "Requirement already satisfied: six in /usr/local/lib/python3.7/dist-packages (from nltk) (1.15.0)\n",
            "[nltk_data] Downloading package stopwords to /root/nltk_data...\n",
            "[nltk_data]   Unzipping corpora/stopwords.zip.\n"
          ]
        },
        {
          "output_type": "execute_result",
          "data": {
            "text/plain": [
              "True"
            ]
          },
          "metadata": {},
          "execution_count": 2
        }
      ]
    },
    {
      "cell_type": "markdown",
      "metadata": {
        "id": "xpOTbQcxbSiy",
        "cell_id": "00008-9c535dd9-01e0-4804-a325-7b5d36a20a32",
        "deepnote_cell_type": "markdown"
      },
      "source": [
        "# 1. ¿Quien es Bat Cow?"
      ]
    },
    {
      "cell_type": "markdown",
      "metadata": {
        "id": "3Q93vbNS25bM",
        "cell_id": "00009-43ac5618-611f-4712-aec7-faaa53d72d08",
        "deepnote_cell_type": "markdown"
      },
      "source": [
        "<p align=\"center\">\n",
        "  <img src=\"https://i.imgur.com/D9f1RHy.jpg\" width=\"350\">\n",
        "</p>"
      ]
    },
    {
      "cell_type": "markdown",
      "metadata": {
        "id": "jnmZfFpxTTYX",
        "cell_id": "00010-632e9494-ce9c-4d54-8e57-e700baed4302",
        "deepnote_cell_type": "markdown"
      },
      "source": [
        "En vez de estar desarrollando las evaluaciones correspondientes a su curso, su profesor de catedra y su auxiliar discuten acerca la alineación (héroe o villano) del personaje de ficción Bat-Cow. \n",
        "\n",
        "El cuerpo docente, no logra ponerse de acuerdo si el personaje es bueno, neutral o malo: el auxiliar plantea que Bat-cow posee una siniestra mirada, intrigante pero común característica de los personajes malvados. \n",
        "Por otra parte, extendiendo las ideas de Rousseau, el profesor plantea que tal como los humanos no nacen malos, no existe motivo por el cual una vaca con superpoderes deba serlo.\n",
        "\n",
        "Sin embargo, ambos concuerdan que es difícil estimar la alineación solo usando los atributos físicos, por lo que creen el análisis debe ser complementado aún más antes de comunicarle los resultados a su estudiantado. Buscando más información, ambos sujetos se percatan de la existencia de un excelente antecedente para estimar la alineación: la historia personal de cada superhéroe o villano.\n",
        "\n",
        "Es por esto le solicitan que construya y optimice un clasificador basado en texto el cual analice la alineación de cada personaje basado en su historia personal.\n",
        "\n",
        "Para este laboratorio deben trabajar con los datos `df_comics.csv` y `comics_no_label.csv` subidos a u-cursos. El primero es un conjunto de datos que les servirá para entrenar un modelo de clasificación, mientras que el segundo es un dataset con personajes de ficción no etiquetados a predecir (sí, aquí está la misteriosa Batcow).\n",
        "\n",
        "Para comenzar cargue los dataset señalados y visualice a través de un head los atributos que poseen cada uno de los dataset.\n"
      ]
    },
    {
      "cell_type": "code",
      "metadata": {
        "id": "bED3w3tDbSCf",
        "deepnote_to_be_reexecuted": false,
        "source_hash": "443d6e8",
        "execution_start": 1637348732856,
        "execution_millis": 325,
        "cell_id": "00012-8b0c36c2-aeaa-4ba1-9611-45f0599aa584",
        "deepnote_cell_type": "code"
      },
      "source": [
        "df_comics = pd.read_csv('df_comics.csv', index_col=[0])\n",
        "df_comics_no_label = pd.read_csv('comics_no_label.csv', index_col=[0])"
      ],
      "execution_count": 3,
      "outputs": []
    },
    {
      "cell_type": "code",
      "metadata": {
        "tags": [],
        "cell_id": "00013-2cd3a433-4f43-4a9e-92f5-caf54a662db2",
        "deepnote_to_be_reexecuted": false,
        "source_hash": "b986316d",
        "execution_start": 1637348731943,
        "execution_millis": 654,
        "deepnote_cell_type": "code",
        "colab": {
          "base_uri": "https://localhost:8080/",
          "height": 603
        },
        "id": "u7ZWHrB_hKUU",
        "outputId": "834155a3-2657-4ad7-b3a5-89771a86fa0f"
      },
      "source": [
        "# queda a labor de su equipo hacer el análisis exploratorio\n",
        "df_comics.head()"
      ],
      "execution_count": 4,
      "outputs": [
        {
          "output_type": "execute_result",
          "data": {
            "text/html": [
              "<div>\n",
              "<style scoped>\n",
              "    .dataframe tbody tr th:only-of-type {\n",
              "        vertical-align: middle;\n",
              "    }\n",
              "\n",
              "    .dataframe tbody tr th {\n",
              "        vertical-align: top;\n",
              "    }\n",
              "\n",
              "    .dataframe thead th {\n",
              "        text-align: right;\n",
              "    }\n",
              "</style>\n",
              "<table border=\"1\" class=\"dataframe\">\n",
              "  <thead>\n",
              "    <tr style=\"text-align: right;\">\n",
              "      <th></th>\n",
              "      <th>name</th>\n",
              "      <th>real_name</th>\n",
              "      <th>full_name</th>\n",
              "      <th>overall_score</th>\n",
              "      <th>history_text</th>\n",
              "      <th>powers_text</th>\n",
              "      <th>intelligence_score</th>\n",
              "      <th>strength_score</th>\n",
              "      <th>speed_score</th>\n",
              "      <th>durability_score</th>\n",
              "      <th>power_score</th>\n",
              "      <th>combat_score</th>\n",
              "      <th>superpowers</th>\n",
              "      <th>alter_egos</th>\n",
              "      <th>aliases</th>\n",
              "      <th>place_of_birth</th>\n",
              "      <th>first_appearance</th>\n",
              "      <th>creator</th>\n",
              "      <th>alignment</th>\n",
              "      <th>occupation</th>\n",
              "      <th>base</th>\n",
              "      <th>teams</th>\n",
              "      <th>relatives</th>\n",
              "      <th>gender</th>\n",
              "      <th>type_race</th>\n",
              "      <th>height</th>\n",
              "      <th>weight</th>\n",
              "      <th>eye_color</th>\n",
              "      <th>hair_color</th>\n",
              "      <th>skin_color</th>\n",
              "      <th>img</th>\n",
              "      <th>has_electrokinesis</th>\n",
              "      <th>has_energy_constructs</th>\n",
              "      <th>has_mind_control_resistance</th>\n",
              "      <th>has_matter_manipulation</th>\n",
              "      <th>has_telepathy_resistance</th>\n",
              "      <th>has_mind_control</th>\n",
              "      <th>has_enhanced_hearing</th>\n",
              "      <th>has_dimensional_travel</th>\n",
              "      <th>has_element_control</th>\n",
              "      <th>...</th>\n",
              "      <th>has_fire_resistance</th>\n",
              "      <th>has_fire_control</th>\n",
              "      <th>has_dexterity</th>\n",
              "      <th>has_reality_warping</th>\n",
              "      <th>has_illusions</th>\n",
              "      <th>has_energy_beams</th>\n",
              "      <th>has_peak_human_condition</th>\n",
              "      <th>has_shapeshifting</th>\n",
              "      <th>has_heat_resistance</th>\n",
              "      <th>has_jump</th>\n",
              "      <th>has_self-sustenance</th>\n",
              "      <th>has_energy_absorption</th>\n",
              "      <th>has_cold_resistance</th>\n",
              "      <th>has_magic</th>\n",
              "      <th>has_telekinesis</th>\n",
              "      <th>has_toxin_and_disease_resistance</th>\n",
              "      <th>has_telepathy</th>\n",
              "      <th>has_regeneration</th>\n",
              "      <th>has_immortality</th>\n",
              "      <th>has_teleportation</th>\n",
              "      <th>has_force_fields</th>\n",
              "      <th>has_energy_manipulation</th>\n",
              "      <th>has_endurance</th>\n",
              "      <th>has_longevity</th>\n",
              "      <th>has_weapon-based_powers</th>\n",
              "      <th>has_energy_blasts</th>\n",
              "      <th>has_enhanced_senses</th>\n",
              "      <th>has_invulnerability</th>\n",
              "      <th>has_stealth</th>\n",
              "      <th>has_marksmanship</th>\n",
              "      <th>has_flight</th>\n",
              "      <th>has_accelerated_healing</th>\n",
              "      <th>has_weapons_master</th>\n",
              "      <th>has_intelligence</th>\n",
              "      <th>has_reflexes</th>\n",
              "      <th>has_super_speed</th>\n",
              "      <th>has_durability</th>\n",
              "      <th>has_stamina</th>\n",
              "      <th>has_agility</th>\n",
              "      <th>has_super_strength</th>\n",
              "    </tr>\n",
              "  </thead>\n",
              "  <tbody>\n",
              "    <tr>\n",
              "      <th>0</th>\n",
              "      <td>3-D Man</td>\n",
              "      <td>Delroy Garrett, Jr.</td>\n",
              "      <td>Delroy Garrett, Jr.</td>\n",
              "      <td>6</td>\n",
              "      <td>Delroy Garrett, Jr. grew up to become a track ...</td>\n",
              "      <td>NaN</td>\n",
              "      <td>85</td>\n",
              "      <td>30</td>\n",
              "      <td>60</td>\n",
              "      <td>60</td>\n",
              "      <td>40</td>\n",
              "      <td>70</td>\n",
              "      <td>['Super Speed', 'Super Strength']</td>\n",
              "      <td>[]</td>\n",
              "      <td>['']</td>\n",
              "      <td>NaN</td>\n",
              "      <td>NaN</td>\n",
              "      <td>Marvel Comics</td>\n",
              "      <td>Good</td>\n",
              "      <td>NaN</td>\n",
              "      <td>NaN</td>\n",
              "      <td>['Annihilators', 'Asgardians', 'Avengers', 'Ne...</td>\n",
              "      <td>NaN</td>\n",
              "      <td>Male</td>\n",
              "      <td>Human</td>\n",
              "      <td>-</td>\n",
              "      <td>-</td>\n",
              "      <td>NaN</td>\n",
              "      <td>NaN</td>\n",
              "      <td>NaN</td>\n",
              "      <td>/pictures2/portraits/11/050/10038.jpg?v=156096...</td>\n",
              "      <td>0.0</td>\n",
              "      <td>0.0</td>\n",
              "      <td>0.0</td>\n",
              "      <td>0.0</td>\n",
              "      <td>0.0</td>\n",
              "      <td>0.0</td>\n",
              "      <td>0.0</td>\n",
              "      <td>0.0</td>\n",
              "      <td>0.0</td>\n",
              "      <td>...</td>\n",
              "      <td>0.0</td>\n",
              "      <td>0.0</td>\n",
              "      <td>0.0</td>\n",
              "      <td>0.0</td>\n",
              "      <td>0.0</td>\n",
              "      <td>0.0</td>\n",
              "      <td>0.0</td>\n",
              "      <td>0.0</td>\n",
              "      <td>0.0</td>\n",
              "      <td>0.0</td>\n",
              "      <td>0.0</td>\n",
              "      <td>0.0</td>\n",
              "      <td>0.0</td>\n",
              "      <td>0.0</td>\n",
              "      <td>0.0</td>\n",
              "      <td>0.0</td>\n",
              "      <td>0.0</td>\n",
              "      <td>0.0</td>\n",
              "      <td>0.0</td>\n",
              "      <td>0.0</td>\n",
              "      <td>0.0</td>\n",
              "      <td>0.0</td>\n",
              "      <td>0.0</td>\n",
              "      <td>0.0</td>\n",
              "      <td>0.0</td>\n",
              "      <td>0.0</td>\n",
              "      <td>0.0</td>\n",
              "      <td>0.0</td>\n",
              "      <td>0.0</td>\n",
              "      <td>0.0</td>\n",
              "      <td>0.0</td>\n",
              "      <td>0.0</td>\n",
              "      <td>0.0</td>\n",
              "      <td>0.0</td>\n",
              "      <td>0.0</td>\n",
              "      <td>1.0</td>\n",
              "      <td>0.0</td>\n",
              "      <td>0.0</td>\n",
              "      <td>0.0</td>\n",
              "      <td>1.0</td>\n",
              "    </tr>\n",
              "    <tr>\n",
              "      <th>2</th>\n",
              "      <td>A-Bomb</td>\n",
              "      <td>Richard Milhouse Jones</td>\n",
              "      <td>Richard Milhouse Jones</td>\n",
              "      <td>20</td>\n",
              "      <td>Richard \"Rick\" Jones was orphaned at a young ...</td>\n",
              "      <td>On rare occasions, and through unusual circu...</td>\n",
              "      <td>80</td>\n",
              "      <td>100</td>\n",
              "      <td>80</td>\n",
              "      <td>100</td>\n",
              "      <td>100</td>\n",
              "      <td>80</td>\n",
              "      <td>['Accelerated Healing', 'Agility', 'Berserk Mo...</td>\n",
              "      <td>[]</td>\n",
              "      <td>['Rick Jones']</td>\n",
              "      <td>Scarsdale, Arizona</td>\n",
              "      <td>Hulk Vol 2 #2 (April, 2008) (as A-Bomb)</td>\n",
              "      <td>Marvel Comics</td>\n",
              "      <td>Good</td>\n",
              "      <td>Musician, adventurer, author; formerly talk sh...</td>\n",
              "      <td>NaN</td>\n",
              "      <td>['Teen Brigade', 'Ultimate Fantastic Four', 'U...</td>\n",
              "      <td>Marlo Chandler-Jones (wife); Polly (aunt); Mrs...</td>\n",
              "      <td>Male</td>\n",
              "      <td>Human</td>\n",
              "      <td>6'8 • 203 cm</td>\n",
              "      <td>980 lb • 441 kg</td>\n",
              "      <td>Yellow</td>\n",
              "      <td>No Hair</td>\n",
              "      <td>NaN</td>\n",
              "      <td>/pictures2/portraits/10/050/10060.jpg?v=158233...</td>\n",
              "      <td>0.0</td>\n",
              "      <td>0.0</td>\n",
              "      <td>0.0</td>\n",
              "      <td>0.0</td>\n",
              "      <td>1.0</td>\n",
              "      <td>0.0</td>\n",
              "      <td>0.0</td>\n",
              "      <td>0.0</td>\n",
              "      <td>0.0</td>\n",
              "      <td>...</td>\n",
              "      <td>1.0</td>\n",
              "      <td>0.0</td>\n",
              "      <td>0.0</td>\n",
              "      <td>0.0</td>\n",
              "      <td>0.0</td>\n",
              "      <td>0.0</td>\n",
              "      <td>0.0</td>\n",
              "      <td>1.0</td>\n",
              "      <td>1.0</td>\n",
              "      <td>1.0</td>\n",
              "      <td>1.0</td>\n",
              "      <td>0.0</td>\n",
              "      <td>1.0</td>\n",
              "      <td>0.0</td>\n",
              "      <td>0.0</td>\n",
              "      <td>1.0</td>\n",
              "      <td>0.0</td>\n",
              "      <td>1.0</td>\n",
              "      <td>0.0</td>\n",
              "      <td>0.0</td>\n",
              "      <td>0.0</td>\n",
              "      <td>0.0</td>\n",
              "      <td>1.0</td>\n",
              "      <td>1.0</td>\n",
              "      <td>0.0</td>\n",
              "      <td>0.0</td>\n",
              "      <td>1.0</td>\n",
              "      <td>1.0</td>\n",
              "      <td>1.0</td>\n",
              "      <td>0.0</td>\n",
              "      <td>0.0</td>\n",
              "      <td>1.0</td>\n",
              "      <td>0.0</td>\n",
              "      <td>0.0</td>\n",
              "      <td>1.0</td>\n",
              "      <td>1.0</td>\n",
              "      <td>1.0</td>\n",
              "      <td>1.0</td>\n",
              "      <td>1.0</td>\n",
              "      <td>1.0</td>\n",
              "    </tr>\n",
              "    <tr>\n",
              "      <th>3</th>\n",
              "      <td>Aa</td>\n",
              "      <td>Aa</td>\n",
              "      <td>NaN</td>\n",
              "      <td>12</td>\n",
              "      <td>Aa is one of the more passive members of the P...</td>\n",
              "      <td>NaN</td>\n",
              "      <td>80</td>\n",
              "      <td>50</td>\n",
              "      <td>55</td>\n",
              "      <td>45</td>\n",
              "      <td>100</td>\n",
              "      <td>55</td>\n",
              "      <td>['Energy Absorption', 'Energy Armor', 'Energy ...</td>\n",
              "      <td>[]</td>\n",
              "      <td>['']</td>\n",
              "      <td>Stoneworld</td>\n",
              "      <td>Green Lantern Vol 3 #21</td>\n",
              "      <td>DC Comics</td>\n",
              "      <td>Good</td>\n",
              "      <td>NaN</td>\n",
              "      <td>NaN</td>\n",
              "      <td>['Blue Lantern Corps', 'Green Lantern Corps', ...</td>\n",
              "      <td>NaN</td>\n",
              "      <td>Male</td>\n",
              "      <td>Human</td>\n",
              "      <td>-</td>\n",
              "      <td>-</td>\n",
              "      <td>NaN</td>\n",
              "      <td>NaN</td>\n",
              "      <td>NaN</td>\n",
              "      <td>/pictures2/portraits/10/050/1410.jpg?v=1581168103</td>\n",
              "      <td>0.0</td>\n",
              "      <td>1.0</td>\n",
              "      <td>0.0</td>\n",
              "      <td>0.0</td>\n",
              "      <td>0.0</td>\n",
              "      <td>0.0</td>\n",
              "      <td>0.0</td>\n",
              "      <td>0.0</td>\n",
              "      <td>0.0</td>\n",
              "      <td>...</td>\n",
              "      <td>0.0</td>\n",
              "      <td>0.0</td>\n",
              "      <td>0.0</td>\n",
              "      <td>0.0</td>\n",
              "      <td>0.0</td>\n",
              "      <td>1.0</td>\n",
              "      <td>0.0</td>\n",
              "      <td>0.0</td>\n",
              "      <td>0.0</td>\n",
              "      <td>0.0</td>\n",
              "      <td>0.0</td>\n",
              "      <td>1.0</td>\n",
              "      <td>0.0</td>\n",
              "      <td>0.0</td>\n",
              "      <td>0.0</td>\n",
              "      <td>0.0</td>\n",
              "      <td>0.0</td>\n",
              "      <td>0.0</td>\n",
              "      <td>0.0</td>\n",
              "      <td>0.0</td>\n",
              "      <td>1.0</td>\n",
              "      <td>1.0</td>\n",
              "      <td>0.0</td>\n",
              "      <td>0.0</td>\n",
              "      <td>1.0</td>\n",
              "      <td>1.0</td>\n",
              "      <td>0.0</td>\n",
              "      <td>0.0</td>\n",
              "      <td>0.0</td>\n",
              "      <td>0.0</td>\n",
              "      <td>0.0</td>\n",
              "      <td>0.0</td>\n",
              "      <td>0.0</td>\n",
              "      <td>0.0</td>\n",
              "      <td>0.0</td>\n",
              "      <td>0.0</td>\n",
              "      <td>0.0</td>\n",
              "      <td>0.0</td>\n",
              "      <td>0.0</td>\n",
              "      <td>0.0</td>\n",
              "    </tr>\n",
              "    <tr>\n",
              "      <th>4</th>\n",
              "      <td>Aaron Cash</td>\n",
              "      <td>Aaron Cash</td>\n",
              "      <td>Aaron Cash</td>\n",
              "      <td>5</td>\n",
              "      <td>Aaron Cash is the head of security at Arkham A...</td>\n",
              "      <td>NaN</td>\n",
              "      <td>80</td>\n",
              "      <td>10</td>\n",
              "      <td>25</td>\n",
              "      <td>40</td>\n",
              "      <td>30</td>\n",
              "      <td>50</td>\n",
              "      <td>['Weapon-based Powers', 'Weapons Master']</td>\n",
              "      <td>[]</td>\n",
              "      <td>['']</td>\n",
              "      <td>Gotham City</td>\n",
              "      <td>NaN</td>\n",
              "      <td>DC Comics</td>\n",
              "      <td>Good</td>\n",
              "      <td>NaN</td>\n",
              "      <td>NaN</td>\n",
              "      <td>[]</td>\n",
              "      <td>NaN</td>\n",
              "      <td>Male</td>\n",
              "      <td>Human</td>\n",
              "      <td>-</td>\n",
              "      <td>-</td>\n",
              "      <td>NaN</td>\n",
              "      <td>NaN</td>\n",
              "      <td>NaN</td>\n",
              "      <td>/pictures2/portraits/11/050/11650.jpg?v=156173...</td>\n",
              "      <td>0.0</td>\n",
              "      <td>0.0</td>\n",
              "      <td>0.0</td>\n",
              "      <td>0.0</td>\n",
              "      <td>0.0</td>\n",
              "      <td>0.0</td>\n",
              "      <td>0.0</td>\n",
              "      <td>0.0</td>\n",
              "      <td>0.0</td>\n",
              "      <td>...</td>\n",
              "      <td>0.0</td>\n",
              "      <td>0.0</td>\n",
              "      <td>0.0</td>\n",
              "      <td>0.0</td>\n",
              "      <td>0.0</td>\n",
              "      <td>0.0</td>\n",
              "      <td>0.0</td>\n",
              "      <td>0.0</td>\n",
              "      <td>0.0</td>\n",
              "      <td>0.0</td>\n",
              "      <td>0.0</td>\n",
              "      <td>0.0</td>\n",
              "      <td>0.0</td>\n",
              "      <td>0.0</td>\n",
              "      <td>0.0</td>\n",
              "      <td>0.0</td>\n",
              "      <td>0.0</td>\n",
              "      <td>0.0</td>\n",
              "      <td>0.0</td>\n",
              "      <td>0.0</td>\n",
              "      <td>0.0</td>\n",
              "      <td>0.0</td>\n",
              "      <td>0.0</td>\n",
              "      <td>0.0</td>\n",
              "      <td>1.0</td>\n",
              "      <td>0.0</td>\n",
              "      <td>0.0</td>\n",
              "      <td>0.0</td>\n",
              "      <td>0.0</td>\n",
              "      <td>0.0</td>\n",
              "      <td>0.0</td>\n",
              "      <td>0.0</td>\n",
              "      <td>1.0</td>\n",
              "      <td>0.0</td>\n",
              "      <td>0.0</td>\n",
              "      <td>0.0</td>\n",
              "      <td>0.0</td>\n",
              "      <td>0.0</td>\n",
              "      <td>0.0</td>\n",
              "      <td>0.0</td>\n",
              "    </tr>\n",
              "    <tr>\n",
              "      <th>5</th>\n",
              "      <td>Aayla Secura</td>\n",
              "      <td>Aayla Secura</td>\n",
              "      <td>NaN</td>\n",
              "      <td>8</td>\n",
              "      <td>ayla Secura was a Rutian Twi'lek Jedi Knight (...</td>\n",
              "      <td>NaN</td>\n",
              "      <td>90</td>\n",
              "      <td>40</td>\n",
              "      <td>45</td>\n",
              "      <td>55</td>\n",
              "      <td>55</td>\n",
              "      <td>85</td>\n",
              "      <td>['Accelerated Healing', 'Agility', 'Astral Pro...</td>\n",
              "      <td>[]</td>\n",
              "      <td>['']</td>\n",
              "      <td>NaN</td>\n",
              "      <td>NaN</td>\n",
              "      <td>George Lucas</td>\n",
              "      <td>Good</td>\n",
              "      <td>NaN</td>\n",
              "      <td>NaN</td>\n",
              "      <td>['Jedi Order']</td>\n",
              "      <td>NaN</td>\n",
              "      <td>Female</td>\n",
              "      <td>Twi'lek</td>\n",
              "      <td>-</td>\n",
              "      <td>-</td>\n",
              "      <td>NaN</td>\n",
              "      <td>NaN</td>\n",
              "      <td>NaN</td>\n",
              "      <td>/pictures2/portraits/11/050/10891.jpg?v=156181...</td>\n",
              "      <td>0.0</td>\n",
              "      <td>0.0</td>\n",
              "      <td>0.0</td>\n",
              "      <td>0.0</td>\n",
              "      <td>0.0</td>\n",
              "      <td>0.0</td>\n",
              "      <td>0.0</td>\n",
              "      <td>0.0</td>\n",
              "      <td>0.0</td>\n",
              "      <td>...</td>\n",
              "      <td>0.0</td>\n",
              "      <td>0.0</td>\n",
              "      <td>0.0</td>\n",
              "      <td>0.0</td>\n",
              "      <td>0.0</td>\n",
              "      <td>0.0</td>\n",
              "      <td>0.0</td>\n",
              "      <td>0.0</td>\n",
              "      <td>0.0</td>\n",
              "      <td>0.0</td>\n",
              "      <td>0.0</td>\n",
              "      <td>0.0</td>\n",
              "      <td>0.0</td>\n",
              "      <td>0.0</td>\n",
              "      <td>0.0</td>\n",
              "      <td>0.0</td>\n",
              "      <td>0.0</td>\n",
              "      <td>0.0</td>\n",
              "      <td>0.0</td>\n",
              "      <td>0.0</td>\n",
              "      <td>0.0</td>\n",
              "      <td>0.0</td>\n",
              "      <td>0.0</td>\n",
              "      <td>0.0</td>\n",
              "      <td>0.0</td>\n",
              "      <td>0.0</td>\n",
              "      <td>0.0</td>\n",
              "      <td>0.0</td>\n",
              "      <td>0.0</td>\n",
              "      <td>0.0</td>\n",
              "      <td>0.0</td>\n",
              "      <td>1.0</td>\n",
              "      <td>0.0</td>\n",
              "      <td>0.0</td>\n",
              "      <td>0.0</td>\n",
              "      <td>0.0</td>\n",
              "      <td>0.0</td>\n",
              "      <td>0.0</td>\n",
              "      <td>1.0</td>\n",
              "      <td>0.0</td>\n",
              "    </tr>\n",
              "  </tbody>\n",
              "</table>\n",
              "<p>5 rows × 81 columns</p>\n",
              "</div>"
            ],
            "text/plain": [
              "           name               real_name  ... has_agility has_super_strength\n",
              "0       3-D Man     Delroy Garrett, Jr.  ...         0.0                1.0\n",
              "2        A-Bomb  Richard Milhouse Jones  ...         1.0                1.0\n",
              "3            Aa                      Aa  ...         0.0                0.0\n",
              "4    Aaron Cash              Aaron Cash  ...         0.0                0.0\n",
              "5  Aayla Secura            Aayla Secura  ...         1.0                0.0\n",
              "\n",
              "[5 rows x 81 columns]"
            ]
          },
          "metadata": {},
          "execution_count": 4
        }
      ]
    },
    {
      "cell_type": "markdown",
      "metadata": {
        "id": "-6pFibInwoNH"
      },
      "source": [
        "Como se quiere analizar los textos, es necesario que se tengan datos sobre estos, por lo que se eliminarán aquellos registros en los que no hay información en \"History Text\""
      ]
    },
    {
      "cell_type": "code",
      "metadata": {
        "id": "7CNnf5VVwnsl"
      },
      "source": [
        "df_comics = df_comics.dropna(subset=['history_text']) "
      ],
      "execution_count": 5,
      "outputs": []
    },
    {
      "cell_type": "code",
      "metadata": {
        "colab": {
          "base_uri": "https://localhost:8080/",
          "height": 418
        },
        "id": "-2SkKNMLw3jK",
        "outputId": "29f837f8-145d-4b12-f89f-a88892dcfeb5"
      },
      "source": [
        "df_comics.head(3)"
      ],
      "execution_count": 6,
      "outputs": [
        {
          "output_type": "execute_result",
          "data": {
            "text/html": [
              "<div>\n",
              "<style scoped>\n",
              "    .dataframe tbody tr th:only-of-type {\n",
              "        vertical-align: middle;\n",
              "    }\n",
              "\n",
              "    .dataframe tbody tr th {\n",
              "        vertical-align: top;\n",
              "    }\n",
              "\n",
              "    .dataframe thead th {\n",
              "        text-align: right;\n",
              "    }\n",
              "</style>\n",
              "<table border=\"1\" class=\"dataframe\">\n",
              "  <thead>\n",
              "    <tr style=\"text-align: right;\">\n",
              "      <th></th>\n",
              "      <th>name</th>\n",
              "      <th>real_name</th>\n",
              "      <th>full_name</th>\n",
              "      <th>overall_score</th>\n",
              "      <th>history_text</th>\n",
              "      <th>powers_text</th>\n",
              "      <th>intelligence_score</th>\n",
              "      <th>strength_score</th>\n",
              "      <th>speed_score</th>\n",
              "      <th>durability_score</th>\n",
              "      <th>power_score</th>\n",
              "      <th>combat_score</th>\n",
              "      <th>superpowers</th>\n",
              "      <th>alter_egos</th>\n",
              "      <th>aliases</th>\n",
              "      <th>place_of_birth</th>\n",
              "      <th>first_appearance</th>\n",
              "      <th>creator</th>\n",
              "      <th>alignment</th>\n",
              "      <th>occupation</th>\n",
              "      <th>base</th>\n",
              "      <th>teams</th>\n",
              "      <th>relatives</th>\n",
              "      <th>gender</th>\n",
              "      <th>type_race</th>\n",
              "      <th>height</th>\n",
              "      <th>weight</th>\n",
              "      <th>eye_color</th>\n",
              "      <th>hair_color</th>\n",
              "      <th>skin_color</th>\n",
              "      <th>img</th>\n",
              "      <th>has_electrokinesis</th>\n",
              "      <th>has_energy_constructs</th>\n",
              "      <th>has_mind_control_resistance</th>\n",
              "      <th>has_matter_manipulation</th>\n",
              "      <th>has_telepathy_resistance</th>\n",
              "      <th>has_mind_control</th>\n",
              "      <th>has_enhanced_hearing</th>\n",
              "      <th>has_dimensional_travel</th>\n",
              "      <th>has_element_control</th>\n",
              "      <th>...</th>\n",
              "      <th>has_fire_resistance</th>\n",
              "      <th>has_fire_control</th>\n",
              "      <th>has_dexterity</th>\n",
              "      <th>has_reality_warping</th>\n",
              "      <th>has_illusions</th>\n",
              "      <th>has_energy_beams</th>\n",
              "      <th>has_peak_human_condition</th>\n",
              "      <th>has_shapeshifting</th>\n",
              "      <th>has_heat_resistance</th>\n",
              "      <th>has_jump</th>\n",
              "      <th>has_self-sustenance</th>\n",
              "      <th>has_energy_absorption</th>\n",
              "      <th>has_cold_resistance</th>\n",
              "      <th>has_magic</th>\n",
              "      <th>has_telekinesis</th>\n",
              "      <th>has_toxin_and_disease_resistance</th>\n",
              "      <th>has_telepathy</th>\n",
              "      <th>has_regeneration</th>\n",
              "      <th>has_immortality</th>\n",
              "      <th>has_teleportation</th>\n",
              "      <th>has_force_fields</th>\n",
              "      <th>has_energy_manipulation</th>\n",
              "      <th>has_endurance</th>\n",
              "      <th>has_longevity</th>\n",
              "      <th>has_weapon-based_powers</th>\n",
              "      <th>has_energy_blasts</th>\n",
              "      <th>has_enhanced_senses</th>\n",
              "      <th>has_invulnerability</th>\n",
              "      <th>has_stealth</th>\n",
              "      <th>has_marksmanship</th>\n",
              "      <th>has_flight</th>\n",
              "      <th>has_accelerated_healing</th>\n",
              "      <th>has_weapons_master</th>\n",
              "      <th>has_intelligence</th>\n",
              "      <th>has_reflexes</th>\n",
              "      <th>has_super_speed</th>\n",
              "      <th>has_durability</th>\n",
              "      <th>has_stamina</th>\n",
              "      <th>has_agility</th>\n",
              "      <th>has_super_strength</th>\n",
              "    </tr>\n",
              "  </thead>\n",
              "  <tbody>\n",
              "    <tr>\n",
              "      <th>0</th>\n",
              "      <td>3-D Man</td>\n",
              "      <td>Delroy Garrett, Jr.</td>\n",
              "      <td>Delroy Garrett, Jr.</td>\n",
              "      <td>6</td>\n",
              "      <td>Delroy Garrett, Jr. grew up to become a track ...</td>\n",
              "      <td>NaN</td>\n",
              "      <td>85</td>\n",
              "      <td>30</td>\n",
              "      <td>60</td>\n",
              "      <td>60</td>\n",
              "      <td>40</td>\n",
              "      <td>70</td>\n",
              "      <td>['Super Speed', 'Super Strength']</td>\n",
              "      <td>[]</td>\n",
              "      <td>['']</td>\n",
              "      <td>NaN</td>\n",
              "      <td>NaN</td>\n",
              "      <td>Marvel Comics</td>\n",
              "      <td>Good</td>\n",
              "      <td>NaN</td>\n",
              "      <td>NaN</td>\n",
              "      <td>['Annihilators', 'Asgardians', 'Avengers', 'Ne...</td>\n",
              "      <td>NaN</td>\n",
              "      <td>Male</td>\n",
              "      <td>Human</td>\n",
              "      <td>-</td>\n",
              "      <td>-</td>\n",
              "      <td>NaN</td>\n",
              "      <td>NaN</td>\n",
              "      <td>NaN</td>\n",
              "      <td>/pictures2/portraits/11/050/10038.jpg?v=156096...</td>\n",
              "      <td>0.0</td>\n",
              "      <td>0.0</td>\n",
              "      <td>0.0</td>\n",
              "      <td>0.0</td>\n",
              "      <td>0.0</td>\n",
              "      <td>0.0</td>\n",
              "      <td>0.0</td>\n",
              "      <td>0.0</td>\n",
              "      <td>0.0</td>\n",
              "      <td>...</td>\n",
              "      <td>0.0</td>\n",
              "      <td>0.0</td>\n",
              "      <td>0.0</td>\n",
              "      <td>0.0</td>\n",
              "      <td>0.0</td>\n",
              "      <td>0.0</td>\n",
              "      <td>0.0</td>\n",
              "      <td>0.0</td>\n",
              "      <td>0.0</td>\n",
              "      <td>0.0</td>\n",
              "      <td>0.0</td>\n",
              "      <td>0.0</td>\n",
              "      <td>0.0</td>\n",
              "      <td>0.0</td>\n",
              "      <td>0.0</td>\n",
              "      <td>0.0</td>\n",
              "      <td>0.0</td>\n",
              "      <td>0.0</td>\n",
              "      <td>0.0</td>\n",
              "      <td>0.0</td>\n",
              "      <td>0.0</td>\n",
              "      <td>0.0</td>\n",
              "      <td>0.0</td>\n",
              "      <td>0.0</td>\n",
              "      <td>0.0</td>\n",
              "      <td>0.0</td>\n",
              "      <td>0.0</td>\n",
              "      <td>0.0</td>\n",
              "      <td>0.0</td>\n",
              "      <td>0.0</td>\n",
              "      <td>0.0</td>\n",
              "      <td>0.0</td>\n",
              "      <td>0.0</td>\n",
              "      <td>0.0</td>\n",
              "      <td>0.0</td>\n",
              "      <td>1.0</td>\n",
              "      <td>0.0</td>\n",
              "      <td>0.0</td>\n",
              "      <td>0.0</td>\n",
              "      <td>1.0</td>\n",
              "    </tr>\n",
              "    <tr>\n",
              "      <th>2</th>\n",
              "      <td>A-Bomb</td>\n",
              "      <td>Richard Milhouse Jones</td>\n",
              "      <td>Richard Milhouse Jones</td>\n",
              "      <td>20</td>\n",
              "      <td>Richard \"Rick\" Jones was orphaned at a young ...</td>\n",
              "      <td>On rare occasions, and through unusual circu...</td>\n",
              "      <td>80</td>\n",
              "      <td>100</td>\n",
              "      <td>80</td>\n",
              "      <td>100</td>\n",
              "      <td>100</td>\n",
              "      <td>80</td>\n",
              "      <td>['Accelerated Healing', 'Agility', 'Berserk Mo...</td>\n",
              "      <td>[]</td>\n",
              "      <td>['Rick Jones']</td>\n",
              "      <td>Scarsdale, Arizona</td>\n",
              "      <td>Hulk Vol 2 #2 (April, 2008) (as A-Bomb)</td>\n",
              "      <td>Marvel Comics</td>\n",
              "      <td>Good</td>\n",
              "      <td>Musician, adventurer, author; formerly talk sh...</td>\n",
              "      <td>NaN</td>\n",
              "      <td>['Teen Brigade', 'Ultimate Fantastic Four', 'U...</td>\n",
              "      <td>Marlo Chandler-Jones (wife); Polly (aunt); Mrs...</td>\n",
              "      <td>Male</td>\n",
              "      <td>Human</td>\n",
              "      <td>6'8 • 203 cm</td>\n",
              "      <td>980 lb • 441 kg</td>\n",
              "      <td>Yellow</td>\n",
              "      <td>No Hair</td>\n",
              "      <td>NaN</td>\n",
              "      <td>/pictures2/portraits/10/050/10060.jpg?v=158233...</td>\n",
              "      <td>0.0</td>\n",
              "      <td>0.0</td>\n",
              "      <td>0.0</td>\n",
              "      <td>0.0</td>\n",
              "      <td>1.0</td>\n",
              "      <td>0.0</td>\n",
              "      <td>0.0</td>\n",
              "      <td>0.0</td>\n",
              "      <td>0.0</td>\n",
              "      <td>...</td>\n",
              "      <td>1.0</td>\n",
              "      <td>0.0</td>\n",
              "      <td>0.0</td>\n",
              "      <td>0.0</td>\n",
              "      <td>0.0</td>\n",
              "      <td>0.0</td>\n",
              "      <td>0.0</td>\n",
              "      <td>1.0</td>\n",
              "      <td>1.0</td>\n",
              "      <td>1.0</td>\n",
              "      <td>1.0</td>\n",
              "      <td>0.0</td>\n",
              "      <td>1.0</td>\n",
              "      <td>0.0</td>\n",
              "      <td>0.0</td>\n",
              "      <td>1.0</td>\n",
              "      <td>0.0</td>\n",
              "      <td>1.0</td>\n",
              "      <td>0.0</td>\n",
              "      <td>0.0</td>\n",
              "      <td>0.0</td>\n",
              "      <td>0.0</td>\n",
              "      <td>1.0</td>\n",
              "      <td>1.0</td>\n",
              "      <td>0.0</td>\n",
              "      <td>0.0</td>\n",
              "      <td>1.0</td>\n",
              "      <td>1.0</td>\n",
              "      <td>1.0</td>\n",
              "      <td>0.0</td>\n",
              "      <td>0.0</td>\n",
              "      <td>1.0</td>\n",
              "      <td>0.0</td>\n",
              "      <td>0.0</td>\n",
              "      <td>1.0</td>\n",
              "      <td>1.0</td>\n",
              "      <td>1.0</td>\n",
              "      <td>1.0</td>\n",
              "      <td>1.0</td>\n",
              "      <td>1.0</td>\n",
              "    </tr>\n",
              "    <tr>\n",
              "      <th>3</th>\n",
              "      <td>Aa</td>\n",
              "      <td>Aa</td>\n",
              "      <td>NaN</td>\n",
              "      <td>12</td>\n",
              "      <td>Aa is one of the more passive members of the P...</td>\n",
              "      <td>NaN</td>\n",
              "      <td>80</td>\n",
              "      <td>50</td>\n",
              "      <td>55</td>\n",
              "      <td>45</td>\n",
              "      <td>100</td>\n",
              "      <td>55</td>\n",
              "      <td>['Energy Absorption', 'Energy Armor', 'Energy ...</td>\n",
              "      <td>[]</td>\n",
              "      <td>['']</td>\n",
              "      <td>Stoneworld</td>\n",
              "      <td>Green Lantern Vol 3 #21</td>\n",
              "      <td>DC Comics</td>\n",
              "      <td>Good</td>\n",
              "      <td>NaN</td>\n",
              "      <td>NaN</td>\n",
              "      <td>['Blue Lantern Corps', 'Green Lantern Corps', ...</td>\n",
              "      <td>NaN</td>\n",
              "      <td>Male</td>\n",
              "      <td>Human</td>\n",
              "      <td>-</td>\n",
              "      <td>-</td>\n",
              "      <td>NaN</td>\n",
              "      <td>NaN</td>\n",
              "      <td>NaN</td>\n",
              "      <td>/pictures2/portraits/10/050/1410.jpg?v=1581168103</td>\n",
              "      <td>0.0</td>\n",
              "      <td>1.0</td>\n",
              "      <td>0.0</td>\n",
              "      <td>0.0</td>\n",
              "      <td>0.0</td>\n",
              "      <td>0.0</td>\n",
              "      <td>0.0</td>\n",
              "      <td>0.0</td>\n",
              "      <td>0.0</td>\n",
              "      <td>...</td>\n",
              "      <td>0.0</td>\n",
              "      <td>0.0</td>\n",
              "      <td>0.0</td>\n",
              "      <td>0.0</td>\n",
              "      <td>0.0</td>\n",
              "      <td>1.0</td>\n",
              "      <td>0.0</td>\n",
              "      <td>0.0</td>\n",
              "      <td>0.0</td>\n",
              "      <td>0.0</td>\n",
              "      <td>0.0</td>\n",
              "      <td>1.0</td>\n",
              "      <td>0.0</td>\n",
              "      <td>0.0</td>\n",
              "      <td>0.0</td>\n",
              "      <td>0.0</td>\n",
              "      <td>0.0</td>\n",
              "      <td>0.0</td>\n",
              "      <td>0.0</td>\n",
              "      <td>0.0</td>\n",
              "      <td>1.0</td>\n",
              "      <td>1.0</td>\n",
              "      <td>0.0</td>\n",
              "      <td>0.0</td>\n",
              "      <td>1.0</td>\n",
              "      <td>1.0</td>\n",
              "      <td>0.0</td>\n",
              "      <td>0.0</td>\n",
              "      <td>0.0</td>\n",
              "      <td>0.0</td>\n",
              "      <td>0.0</td>\n",
              "      <td>0.0</td>\n",
              "      <td>0.0</td>\n",
              "      <td>0.0</td>\n",
              "      <td>0.0</td>\n",
              "      <td>0.0</td>\n",
              "      <td>0.0</td>\n",
              "      <td>0.0</td>\n",
              "      <td>0.0</td>\n",
              "      <td>0.0</td>\n",
              "    </tr>\n",
              "  </tbody>\n",
              "</table>\n",
              "<p>3 rows × 81 columns</p>\n",
              "</div>"
            ],
            "text/plain": [
              "      name               real_name  ... has_agility has_super_strength\n",
              "0  3-D Man     Delroy Garrett, Jr.  ...         0.0                1.0\n",
              "2   A-Bomb  Richard Milhouse Jones  ...         1.0                1.0\n",
              "3       Aa                      Aa  ...         0.0                0.0\n",
              "\n",
              "[3 rows x 81 columns]"
            ]
          },
          "metadata": {},
          "execution_count": 6
        }
      ]
    },
    {
      "cell_type": "markdown",
      "metadata": {
        "id": "i4tFPrFA4_O5",
        "cell_id": "00013-00e51eac-6169-4978-9714-ee8c7a8f55b8",
        "deepnote_cell_type": "markdown"
      },
      "source": [
        "## 1.1 Obtención de Features y Bag of Words\n",
        "\n",
        "<p align=\"center\">\n",
        "  <img src=\"https://media0.giphy.com/media/eIUpSyzwGp0YhAMTKr/200.gif\" width=\"300\">\n",
        "</p>"
      ]
    },
    {
      "cell_type": "markdown",
      "metadata": {
        "id": "f_4NF0_V5XZ-",
        "cell_id": "00014-528c8f39-a27a-40e0-8de0-0cc7f362b4ae",
        "deepnote_cell_type": "markdown"
      },
      "source": [
        "Primero que todo, deben obtener un vector de características del atributo `history_text`, utilizando `bag of words`. En este atributo se presenta una breve descripción de la historia de cada uno de los personajes de ficción presentes en el dataset. \n",
        "\n",
        "Pero... antes de empezar, ¿Que es `bag of words`?...\n",
        "\n",
        "`bag of words` es un modelo de conteo utilizado en Procesamiento de Lenguaje Natural (NLP) que tiene como objetivo generar una representación vectorial (vector de características en nuestro cas) para cada documento a través del conteo de las palabras que contienen. \n",
        "\n",
        "La siguiente figura muestra un ejemplo de `bag of words` en acción:\n",
        "\n",
        "<p align=\"center\">\n",
        "  <img src=\"https://user.oc-static.com/upload/2020/10/23/16034397439042_surfin%20bird%20bow.png\" width=\"500\">\n",
        "</p>\n",
        "\n",
        "Como pueden ver, el modelo de `bag of words` no resulta tan complicado, ¿pero cómo lo aplicamos en python?. \n",
        "\n",
        "Como podrán darse cuenta del ejemplo anterior, para facilitar el conteo será necesario transformar cada uno de los documentos en vectores, donde cada una de las posiciones posee un carácter. Este proceso es conocido como **tokenización** y lo podemos realizar de la siguiente forma:"
      ]
    },
    {
      "cell_type": "code",
      "metadata": {
        "tags": [],
        "deepnote_to_be_reexecuted": false,
        "source_hash": "57e4888a",
        "execution_start": 1637346921830,
        "execution_millis": 8,
        "deepnote_output_heights": [
          40.399993896484375
        ],
        "cell_id": "00015-5924cc55-1587-4776-8c5e-cb400ddacaa3",
        "deepnote_cell_type": "code",
        "id": "XIhVwXDhhKUZ"
      },
      "source": [
        "docs = ['The teacher rocks like a good rock & roll',\n",
        "             'the rock is the best actor in the world']\n",
        "\n",
        "\n",
        "docs_tokenizados = [word_tokenize(doc)  for doc in docs]\n",
        "docs_tokenizados"
      ],
      "execution_count": null,
      "outputs": []
    },
    {
      "cell_type": "markdown",
      "metadata": {
        "tags": [],
        "cell_id": "00016-649b0384-cac3-4b79-93ff-75aac3b8c5df",
        "deepnote_cell_type": "markdown",
        "id": "MXfRDvtfhKUb"
      },
      "source": [
        "Podemos mejorar un poco más el proceso de tokenización agregando \n",
        "\n",
        "- Stemming:  Definimos Stemming como un algoritmo basado en reglas que transforma las palabras a una forma general. Un ejemplo de stemming, es el siguiente:\n",
        "- Eliminación de Stopwords: Eliminación de palabras muy frecuentes que entorpecen la clasificación (por ejemplo, el, la los, la, etc...)\n",
        "\n",
        "<p align=\"center\">\n",
        "  <img src=\"https://devopedia.org/images/article/218/8583.1569386710.png\" width=\"300\">\n",
        "</p>\n"
      ]
    },
    {
      "cell_type": "code",
      "metadata": {
        "tags": [],
        "deepnote_to_be_reexecuted": false,
        "source_hash": "d7f59237",
        "execution_start": 1637346924545,
        "execution_millis": 36,
        "deepnote_output_heights": [
          null,
          59.600006103515625
        ],
        "cell_id": "00017-52acaa25-55d2-49ee-a6c8-49437b8d4523",
        "deepnote_cell_type": "code",
        "id": "77ugpLfrhKUd",
        "outputId": "4284e965-4aa2-40c8-c128-7a60c531e69d"
      },
      "source": [
        "# Definimos algunas stopword que queremos que sean eliminadas\n",
        "import nltk\n",
        "nltk.download('stopwords')\n",
        "\n",
        "from nltk.corpus import stopwords\n",
        "\n",
        "stop_words = stopwords.words('spanish')\n",
        "\n",
        "# Definimos un tokenizador con Stemming\n",
        "class StemmerTokenizer:\n",
        "    def __init__(self):\n",
        "        self.ps = PorterStemmer()\n",
        "    def __call__(self, doc):\n",
        "        doc_tok = word_tokenize(doc)\n",
        "        doc_tok = [t for t in doc_tok if t not in stop_words]\n",
        "        return [self.ps.stem(t) for t in doc_tok]\n",
        "\n",
        "# Inicializamos tokenizador\n",
        "tokenizador = StemmerTokenizer()\n",
        "\n",
        "# Creamos algunos documentos\n",
        "docs = ['The teacher rocks like a good rock & roll',\n",
        "        'the rock is the best actor in the world',\n",
        "        'New York is a beautiful city']\n",
        "\n",
        "# Obtenemos el token del primer documento\n",
        "[tokenizador(doc) for doc in docs]"
      ],
      "execution_count": null,
      "outputs": [
        {
          "name": "stderr",
          "text": "[nltk_data] Downloading package stopwords to /root/nltk_data...\n[nltk_data]   Package stopwords is already up-to-date!\n",
          "output_type": "stream"
        },
        {
          "output_type": "execute_result",
          "execution_count": 30,
          "data": {
            "text/plain": "[['the', 'teacher', 'rock', 'like', 'good', 'rock', '&', 'roll'],\n ['the', 'rock', 'is', 'the', 'best', 'actor', 'in', 'the', 'world'],\n ['new', 'york', 'is', 'beauti', 'citi']]"
          },
          "metadata": {}
        }
      ]
    },
    {
      "cell_type": "code",
      "metadata": {
        "tags": [],
        "deepnote_to_be_reexecuted": false,
        "source_hash": "2503a9b4",
        "execution_start": 1637346927213,
        "execution_millis": 13,
        "deepnote_output_heights": [
          59.600006103515625
        ],
        "cell_id": "00018-03a0f079-19df-42cb-b3b9-863a9e2ecb7a",
        "deepnote_cell_type": "code",
        "id": "du4m2iz2hKUe",
        "outputId": "030a3cea-cb22-49ea-e659-fbb9d4952f14"
      },
      "source": [
        "# Comparación con el caso anterior\n",
        "docs_tokenizados = [word_tokenize(doc) for doc in docs]\n",
        "docs_tokenizados"
      ],
      "execution_count": null,
      "outputs": [
        {
          "output_type": "execute_result",
          "execution_count": 31,
          "data": {
            "text/plain": "[['The', 'teacher', 'rocks', 'like', 'a', 'good', 'rock', '&', 'roll'],\n ['the', 'rock', 'is', 'the', 'best', 'actor', 'in', 'the', 'world'],\n ['New', 'York', 'is', 'a', 'beautiful', 'city']]"
          },
          "metadata": {}
        }
      ]
    },
    {
      "cell_type": "markdown",
      "metadata": {
        "tags": [],
        "cell_id": "00019-3f862033-7b4e-4623-b17f-545b988af69b",
        "deepnote_cell_type": "markdown",
        "id": "GoyAIokLhKUh"
      },
      "source": [
        "#### Al Estilo Scikit\n",
        "\n",
        "Scikit implementa `bag of words` a través de la clase `CountVectorizer()` la cual contiene muchas opciones para mejorar la tokenización."
      ]
    },
    {
      "cell_type": "code",
      "metadata": {
        "tags": [],
        "deepnote_to_be_reexecuted": false,
        "source_hash": "2bc7124d",
        "execution_start": 1637346927803,
        "execution_millis": 152,
        "deepnote_output_heights": [
          98,
          40.390625
        ],
        "cell_id": "00020-721a6ba0-0990-4436-9de5-4b4b53c5ff79",
        "deepnote_cell_type": "code",
        "id": "z3Py-VGmhKUi",
        "outputId": "a5bacc51-ceea-4c65-a53c-ccaaf34181e5"
      },
      "source": [
        "bow = CountVectorizer(tokenizer= StemmerTokenizer())\n",
        "df = bow.fit_transform(docs)\n",
        "\n",
        "pd.DataFrame(df.toarray(), columns=bow.get_feature_names_out())"
      ],
      "execution_count": null,
      "outputs": [
        {
          "output_type": "execute_result",
          "execution_count": 32,
          "data": {
            "application/vnd.deepnote.dataframe.v2+json": {
              "row_count": 3,
              "column_count": 16,
              "columns": [
                {
                  "name": "&",
                  "dtype": "int64",
                  "stats": {
                    "unique_count": 2,
                    "nan_count": 0,
                    "min": "0",
                    "max": "1",
                    "histogram": [
                      {
                        "bin_start": 0,
                        "bin_end": 0.1,
                        "count": 2
                      },
                      {
                        "bin_start": 0.1,
                        "bin_end": 0.2,
                        "count": 0
                      },
                      {
                        "bin_start": 0.2,
                        "bin_end": 0.30000000000000004,
                        "count": 0
                      },
                      {
                        "bin_start": 0.30000000000000004,
                        "bin_end": 0.4,
                        "count": 0
                      },
                      {
                        "bin_start": 0.4,
                        "bin_end": 0.5,
                        "count": 0
                      },
                      {
                        "bin_start": 0.5,
                        "bin_end": 0.6000000000000001,
                        "count": 0
                      },
                      {
                        "bin_start": 0.6000000000000001,
                        "bin_end": 0.7000000000000001,
                        "count": 0
                      },
                      {
                        "bin_start": 0.7000000000000001,
                        "bin_end": 0.8,
                        "count": 0
                      },
                      {
                        "bin_start": 0.8,
                        "bin_end": 0.9,
                        "count": 0
                      },
                      {
                        "bin_start": 0.9,
                        "bin_end": 1,
                        "count": 1
                      }
                    ]
                  }
                },
                {
                  "name": "actor",
                  "dtype": "int64",
                  "stats": {
                    "unique_count": 2,
                    "nan_count": 0,
                    "min": "0",
                    "max": "1",
                    "histogram": [
                      {
                        "bin_start": 0,
                        "bin_end": 0.1,
                        "count": 2
                      },
                      {
                        "bin_start": 0.1,
                        "bin_end": 0.2,
                        "count": 0
                      },
                      {
                        "bin_start": 0.2,
                        "bin_end": 0.30000000000000004,
                        "count": 0
                      },
                      {
                        "bin_start": 0.30000000000000004,
                        "bin_end": 0.4,
                        "count": 0
                      },
                      {
                        "bin_start": 0.4,
                        "bin_end": 0.5,
                        "count": 0
                      },
                      {
                        "bin_start": 0.5,
                        "bin_end": 0.6000000000000001,
                        "count": 0
                      },
                      {
                        "bin_start": 0.6000000000000001,
                        "bin_end": 0.7000000000000001,
                        "count": 0
                      },
                      {
                        "bin_start": 0.7000000000000001,
                        "bin_end": 0.8,
                        "count": 0
                      },
                      {
                        "bin_start": 0.8,
                        "bin_end": 0.9,
                        "count": 0
                      },
                      {
                        "bin_start": 0.9,
                        "bin_end": 1,
                        "count": 1
                      }
                    ]
                  }
                },
                {
                  "name": "beauti",
                  "dtype": "int64",
                  "stats": {
                    "unique_count": 2,
                    "nan_count": 0,
                    "min": "0",
                    "max": "1",
                    "histogram": [
                      {
                        "bin_start": 0,
                        "bin_end": 0.1,
                        "count": 2
                      },
                      {
                        "bin_start": 0.1,
                        "bin_end": 0.2,
                        "count": 0
                      },
                      {
                        "bin_start": 0.2,
                        "bin_end": 0.30000000000000004,
                        "count": 0
                      },
                      {
                        "bin_start": 0.30000000000000004,
                        "bin_end": 0.4,
                        "count": 0
                      },
                      {
                        "bin_start": 0.4,
                        "bin_end": 0.5,
                        "count": 0
                      },
                      {
                        "bin_start": 0.5,
                        "bin_end": 0.6000000000000001,
                        "count": 0
                      },
                      {
                        "bin_start": 0.6000000000000001,
                        "bin_end": 0.7000000000000001,
                        "count": 0
                      },
                      {
                        "bin_start": 0.7000000000000001,
                        "bin_end": 0.8,
                        "count": 0
                      },
                      {
                        "bin_start": 0.8,
                        "bin_end": 0.9,
                        "count": 0
                      },
                      {
                        "bin_start": 0.9,
                        "bin_end": 1,
                        "count": 1
                      }
                    ]
                  }
                },
                {
                  "name": "best",
                  "dtype": "int64",
                  "stats": {
                    "unique_count": 2,
                    "nan_count": 0,
                    "min": "0",
                    "max": "1",
                    "histogram": [
                      {
                        "bin_start": 0,
                        "bin_end": 0.1,
                        "count": 2
                      },
                      {
                        "bin_start": 0.1,
                        "bin_end": 0.2,
                        "count": 0
                      },
                      {
                        "bin_start": 0.2,
                        "bin_end": 0.30000000000000004,
                        "count": 0
                      },
                      {
                        "bin_start": 0.30000000000000004,
                        "bin_end": 0.4,
                        "count": 0
                      },
                      {
                        "bin_start": 0.4,
                        "bin_end": 0.5,
                        "count": 0
                      },
                      {
                        "bin_start": 0.5,
                        "bin_end": 0.6000000000000001,
                        "count": 0
                      },
                      {
                        "bin_start": 0.6000000000000001,
                        "bin_end": 0.7000000000000001,
                        "count": 0
                      },
                      {
                        "bin_start": 0.7000000000000001,
                        "bin_end": 0.8,
                        "count": 0
                      },
                      {
                        "bin_start": 0.8,
                        "bin_end": 0.9,
                        "count": 0
                      },
                      {
                        "bin_start": 0.9,
                        "bin_end": 1,
                        "count": 1
                      }
                    ]
                  }
                },
                {
                  "name": "citi",
                  "dtype": "int64",
                  "stats": {
                    "unique_count": 2,
                    "nan_count": 0,
                    "min": "0",
                    "max": "1",
                    "histogram": [
                      {
                        "bin_start": 0,
                        "bin_end": 0.1,
                        "count": 2
                      },
                      {
                        "bin_start": 0.1,
                        "bin_end": 0.2,
                        "count": 0
                      },
                      {
                        "bin_start": 0.2,
                        "bin_end": 0.30000000000000004,
                        "count": 0
                      },
                      {
                        "bin_start": 0.30000000000000004,
                        "bin_end": 0.4,
                        "count": 0
                      },
                      {
                        "bin_start": 0.4,
                        "bin_end": 0.5,
                        "count": 0
                      },
                      {
                        "bin_start": 0.5,
                        "bin_end": 0.6000000000000001,
                        "count": 0
                      },
                      {
                        "bin_start": 0.6000000000000001,
                        "bin_end": 0.7000000000000001,
                        "count": 0
                      },
                      {
                        "bin_start": 0.7000000000000001,
                        "bin_end": 0.8,
                        "count": 0
                      },
                      {
                        "bin_start": 0.8,
                        "bin_end": 0.9,
                        "count": 0
                      },
                      {
                        "bin_start": 0.9,
                        "bin_end": 1,
                        "count": 1
                      }
                    ]
                  }
                },
                {
                  "name": "good",
                  "dtype": "int64",
                  "stats": {
                    "unique_count": 2,
                    "nan_count": 0,
                    "min": "0",
                    "max": "1",
                    "histogram": [
                      {
                        "bin_start": 0,
                        "bin_end": 0.1,
                        "count": 2
                      },
                      {
                        "bin_start": 0.1,
                        "bin_end": 0.2,
                        "count": 0
                      },
                      {
                        "bin_start": 0.2,
                        "bin_end": 0.30000000000000004,
                        "count": 0
                      },
                      {
                        "bin_start": 0.30000000000000004,
                        "bin_end": 0.4,
                        "count": 0
                      },
                      {
                        "bin_start": 0.4,
                        "bin_end": 0.5,
                        "count": 0
                      },
                      {
                        "bin_start": 0.5,
                        "bin_end": 0.6000000000000001,
                        "count": 0
                      },
                      {
                        "bin_start": 0.6000000000000001,
                        "bin_end": 0.7000000000000001,
                        "count": 0
                      },
                      {
                        "bin_start": 0.7000000000000001,
                        "bin_end": 0.8,
                        "count": 0
                      },
                      {
                        "bin_start": 0.8,
                        "bin_end": 0.9,
                        "count": 0
                      },
                      {
                        "bin_start": 0.9,
                        "bin_end": 1,
                        "count": 1
                      }
                    ]
                  }
                },
                {
                  "name": "in",
                  "dtype": "int64",
                  "stats": {
                    "unique_count": 2,
                    "nan_count": 0,
                    "min": "0",
                    "max": "1",
                    "histogram": [
                      {
                        "bin_start": 0,
                        "bin_end": 0.1,
                        "count": 2
                      },
                      {
                        "bin_start": 0.1,
                        "bin_end": 0.2,
                        "count": 0
                      },
                      {
                        "bin_start": 0.2,
                        "bin_end": 0.30000000000000004,
                        "count": 0
                      },
                      {
                        "bin_start": 0.30000000000000004,
                        "bin_end": 0.4,
                        "count": 0
                      },
                      {
                        "bin_start": 0.4,
                        "bin_end": 0.5,
                        "count": 0
                      },
                      {
                        "bin_start": 0.5,
                        "bin_end": 0.6000000000000001,
                        "count": 0
                      },
                      {
                        "bin_start": 0.6000000000000001,
                        "bin_end": 0.7000000000000001,
                        "count": 0
                      },
                      {
                        "bin_start": 0.7000000000000001,
                        "bin_end": 0.8,
                        "count": 0
                      },
                      {
                        "bin_start": 0.8,
                        "bin_end": 0.9,
                        "count": 0
                      },
                      {
                        "bin_start": 0.9,
                        "bin_end": 1,
                        "count": 1
                      }
                    ]
                  }
                },
                {
                  "name": "is",
                  "dtype": "int64",
                  "stats": {
                    "unique_count": 2,
                    "nan_count": 0,
                    "min": "0",
                    "max": "1",
                    "histogram": [
                      {
                        "bin_start": 0,
                        "bin_end": 0.1,
                        "count": 1
                      },
                      {
                        "bin_start": 0.1,
                        "bin_end": 0.2,
                        "count": 0
                      },
                      {
                        "bin_start": 0.2,
                        "bin_end": 0.30000000000000004,
                        "count": 0
                      },
                      {
                        "bin_start": 0.30000000000000004,
                        "bin_end": 0.4,
                        "count": 0
                      },
                      {
                        "bin_start": 0.4,
                        "bin_end": 0.5,
                        "count": 0
                      },
                      {
                        "bin_start": 0.5,
                        "bin_end": 0.6000000000000001,
                        "count": 0
                      },
                      {
                        "bin_start": 0.6000000000000001,
                        "bin_end": 0.7000000000000001,
                        "count": 0
                      },
                      {
                        "bin_start": 0.7000000000000001,
                        "bin_end": 0.8,
                        "count": 0
                      },
                      {
                        "bin_start": 0.8,
                        "bin_end": 0.9,
                        "count": 0
                      },
                      {
                        "bin_start": 0.9,
                        "bin_end": 1,
                        "count": 2
                      }
                    ]
                  }
                },
                {
                  "name": "like",
                  "dtype": "int64",
                  "stats": {
                    "unique_count": 2,
                    "nan_count": 0,
                    "min": "0",
                    "max": "1",
                    "histogram": [
                      {
                        "bin_start": 0,
                        "bin_end": 0.1,
                        "count": 2
                      },
                      {
                        "bin_start": 0.1,
                        "bin_end": 0.2,
                        "count": 0
                      },
                      {
                        "bin_start": 0.2,
                        "bin_end": 0.30000000000000004,
                        "count": 0
                      },
                      {
                        "bin_start": 0.30000000000000004,
                        "bin_end": 0.4,
                        "count": 0
                      },
                      {
                        "bin_start": 0.4,
                        "bin_end": 0.5,
                        "count": 0
                      },
                      {
                        "bin_start": 0.5,
                        "bin_end": 0.6000000000000001,
                        "count": 0
                      },
                      {
                        "bin_start": 0.6000000000000001,
                        "bin_end": 0.7000000000000001,
                        "count": 0
                      },
                      {
                        "bin_start": 0.7000000000000001,
                        "bin_end": 0.8,
                        "count": 0
                      },
                      {
                        "bin_start": 0.8,
                        "bin_end": 0.9,
                        "count": 0
                      },
                      {
                        "bin_start": 0.9,
                        "bin_end": 1,
                        "count": 1
                      }
                    ]
                  }
                },
                {
                  "name": "new",
                  "dtype": "int64",
                  "stats": {
                    "unique_count": 2,
                    "nan_count": 0,
                    "min": "0",
                    "max": "1",
                    "histogram": [
                      {
                        "bin_start": 0,
                        "bin_end": 0.1,
                        "count": 2
                      },
                      {
                        "bin_start": 0.1,
                        "bin_end": 0.2,
                        "count": 0
                      },
                      {
                        "bin_start": 0.2,
                        "bin_end": 0.30000000000000004,
                        "count": 0
                      },
                      {
                        "bin_start": 0.30000000000000004,
                        "bin_end": 0.4,
                        "count": 0
                      },
                      {
                        "bin_start": 0.4,
                        "bin_end": 0.5,
                        "count": 0
                      },
                      {
                        "bin_start": 0.5,
                        "bin_end": 0.6000000000000001,
                        "count": 0
                      },
                      {
                        "bin_start": 0.6000000000000001,
                        "bin_end": 0.7000000000000001,
                        "count": 0
                      },
                      {
                        "bin_start": 0.7000000000000001,
                        "bin_end": 0.8,
                        "count": 0
                      },
                      {
                        "bin_start": 0.8,
                        "bin_end": 0.9,
                        "count": 0
                      },
                      {
                        "bin_start": 0.9,
                        "bin_end": 1,
                        "count": 1
                      }
                    ]
                  }
                },
                {
                  "name": "rock",
                  "dtype": "int64",
                  "stats": {
                    "unique_count": 3,
                    "nan_count": 0,
                    "min": "0",
                    "max": "2",
                    "histogram": [
                      {
                        "bin_start": 0,
                        "bin_end": 0.2,
                        "count": 1
                      },
                      {
                        "bin_start": 0.2,
                        "bin_end": 0.4,
                        "count": 0
                      },
                      {
                        "bin_start": 0.4,
                        "bin_end": 0.6000000000000001,
                        "count": 0
                      },
                      {
                        "bin_start": 0.6000000000000001,
                        "bin_end": 0.8,
                        "count": 0
                      },
                      {
                        "bin_start": 0.8,
                        "bin_end": 1,
                        "count": 0
                      },
                      {
                        "bin_start": 1,
                        "bin_end": 1.2000000000000002,
                        "count": 1
                      },
                      {
                        "bin_start": 1.2000000000000002,
                        "bin_end": 1.4000000000000001,
                        "count": 0
                      },
                      {
                        "bin_start": 1.4000000000000001,
                        "bin_end": 1.6,
                        "count": 0
                      },
                      {
                        "bin_start": 1.6,
                        "bin_end": 1.8,
                        "count": 0
                      },
                      {
                        "bin_start": 1.8,
                        "bin_end": 2,
                        "count": 1
                      }
                    ]
                  }
                },
                {
                  "name": "roll",
                  "dtype": "int64",
                  "stats": {
                    "unique_count": 2,
                    "nan_count": 0,
                    "min": "0",
                    "max": "1",
                    "histogram": [
                      {
                        "bin_start": 0,
                        "bin_end": 0.1,
                        "count": 2
                      },
                      {
                        "bin_start": 0.1,
                        "bin_end": 0.2,
                        "count": 0
                      },
                      {
                        "bin_start": 0.2,
                        "bin_end": 0.30000000000000004,
                        "count": 0
                      },
                      {
                        "bin_start": 0.30000000000000004,
                        "bin_end": 0.4,
                        "count": 0
                      },
                      {
                        "bin_start": 0.4,
                        "bin_end": 0.5,
                        "count": 0
                      },
                      {
                        "bin_start": 0.5,
                        "bin_end": 0.6000000000000001,
                        "count": 0
                      },
                      {
                        "bin_start": 0.6000000000000001,
                        "bin_end": 0.7000000000000001,
                        "count": 0
                      },
                      {
                        "bin_start": 0.7000000000000001,
                        "bin_end": 0.8,
                        "count": 0
                      },
                      {
                        "bin_start": 0.8,
                        "bin_end": 0.9,
                        "count": 0
                      },
                      {
                        "bin_start": 0.9,
                        "bin_end": 1,
                        "count": 1
                      }
                    ]
                  }
                },
                {
                  "name": "teacher",
                  "dtype": "int64",
                  "stats": {
                    "unique_count": 2,
                    "nan_count": 0,
                    "min": "0",
                    "max": "1",
                    "histogram": [
                      {
                        "bin_start": 0,
                        "bin_end": 0.1,
                        "count": 2
                      },
                      {
                        "bin_start": 0.1,
                        "bin_end": 0.2,
                        "count": 0
                      },
                      {
                        "bin_start": 0.2,
                        "bin_end": 0.30000000000000004,
                        "count": 0
                      },
                      {
                        "bin_start": 0.30000000000000004,
                        "bin_end": 0.4,
                        "count": 0
                      },
                      {
                        "bin_start": 0.4,
                        "bin_end": 0.5,
                        "count": 0
                      },
                      {
                        "bin_start": 0.5,
                        "bin_end": 0.6000000000000001,
                        "count": 0
                      },
                      {
                        "bin_start": 0.6000000000000001,
                        "bin_end": 0.7000000000000001,
                        "count": 0
                      },
                      {
                        "bin_start": 0.7000000000000001,
                        "bin_end": 0.8,
                        "count": 0
                      },
                      {
                        "bin_start": 0.8,
                        "bin_end": 0.9,
                        "count": 0
                      },
                      {
                        "bin_start": 0.9,
                        "bin_end": 1,
                        "count": 1
                      }
                    ]
                  }
                },
                {
                  "name": "the",
                  "dtype": "int64",
                  "stats": {
                    "unique_count": 3,
                    "nan_count": 0,
                    "min": "0",
                    "max": "3",
                    "histogram": [
                      {
                        "bin_start": 0,
                        "bin_end": 0.3,
                        "count": 1
                      },
                      {
                        "bin_start": 0.3,
                        "bin_end": 0.6,
                        "count": 0
                      },
                      {
                        "bin_start": 0.6,
                        "bin_end": 0.8999999999999999,
                        "count": 0
                      },
                      {
                        "bin_start": 0.8999999999999999,
                        "bin_end": 1.2,
                        "count": 1
                      },
                      {
                        "bin_start": 1.2,
                        "bin_end": 1.5,
                        "count": 0
                      },
                      {
                        "bin_start": 1.5,
                        "bin_end": 1.7999999999999998,
                        "count": 0
                      },
                      {
                        "bin_start": 1.7999999999999998,
                        "bin_end": 2.1,
                        "count": 0
                      },
                      {
                        "bin_start": 2.1,
                        "bin_end": 2.4,
                        "count": 0
                      },
                      {
                        "bin_start": 2.4,
                        "bin_end": 2.6999999999999997,
                        "count": 0
                      },
                      {
                        "bin_start": 2.6999999999999997,
                        "bin_end": 3,
                        "count": 1
                      }
                    ]
                  }
                },
                {
                  "name": "world",
                  "dtype": "int64",
                  "stats": {
                    "unique_count": 2,
                    "nan_count": 0,
                    "min": "0",
                    "max": "1",
                    "histogram": [
                      {
                        "bin_start": 0,
                        "bin_end": 0.1,
                        "count": 2
                      },
                      {
                        "bin_start": 0.1,
                        "bin_end": 0.2,
                        "count": 0
                      },
                      {
                        "bin_start": 0.2,
                        "bin_end": 0.30000000000000004,
                        "count": 0
                      },
                      {
                        "bin_start": 0.30000000000000004,
                        "bin_end": 0.4,
                        "count": 0
                      },
                      {
                        "bin_start": 0.4,
                        "bin_end": 0.5,
                        "count": 0
                      },
                      {
                        "bin_start": 0.5,
                        "bin_end": 0.6000000000000001,
                        "count": 0
                      },
                      {
                        "bin_start": 0.6000000000000001,
                        "bin_end": 0.7000000000000001,
                        "count": 0
                      },
                      {
                        "bin_start": 0.7000000000000001,
                        "bin_end": 0.8,
                        "count": 0
                      },
                      {
                        "bin_start": 0.8,
                        "bin_end": 0.9,
                        "count": 0
                      },
                      {
                        "bin_start": 0.9,
                        "bin_end": 1,
                        "count": 1
                      }
                    ]
                  }
                },
                {
                  "name": "york",
                  "dtype": "int64",
                  "stats": {
                    "unique_count": 2,
                    "nan_count": 0,
                    "min": "0",
                    "max": "1",
                    "histogram": [
                      {
                        "bin_start": 0,
                        "bin_end": 0.1,
                        "count": 2
                      },
                      {
                        "bin_start": 0.1,
                        "bin_end": 0.2,
                        "count": 0
                      },
                      {
                        "bin_start": 0.2,
                        "bin_end": 0.30000000000000004,
                        "count": 0
                      },
                      {
                        "bin_start": 0.30000000000000004,
                        "bin_end": 0.4,
                        "count": 0
                      },
                      {
                        "bin_start": 0.4,
                        "bin_end": 0.5,
                        "count": 0
                      },
                      {
                        "bin_start": 0.5,
                        "bin_end": 0.6000000000000001,
                        "count": 0
                      },
                      {
                        "bin_start": 0.6000000000000001,
                        "bin_end": 0.7000000000000001,
                        "count": 0
                      },
                      {
                        "bin_start": 0.7000000000000001,
                        "bin_end": 0.8,
                        "count": 0
                      },
                      {
                        "bin_start": 0.8,
                        "bin_end": 0.9,
                        "count": 0
                      },
                      {
                        "bin_start": 0.9,
                        "bin_end": 1,
                        "count": 1
                      }
                    ]
                  }
                },
                {
                  "name": "_deepnote_index_column",
                  "dtype": "int64"
                }
              ],
              "rows_top": [
                {
                  "&": 1,
                  "actor": 0,
                  "beauti": 0,
                  "best": 0,
                  "citi": 0,
                  "good": 1,
                  "in": 0,
                  "is": 0,
                  "like": 1,
                  "new": 0,
                  "rock": 2,
                  "roll": 1,
                  "teacher": 1,
                  "the": 1,
                  "world": 0,
                  "york": 0,
                  "_deepnote_index_column": 0
                },
                {
                  "&": 0,
                  "actor": 1,
                  "beauti": 0,
                  "best": 1,
                  "citi": 0,
                  "good": 0,
                  "in": 1,
                  "is": 1,
                  "like": 0,
                  "new": 0,
                  "rock": 1,
                  "roll": 0,
                  "teacher": 0,
                  "the": 3,
                  "world": 1,
                  "york": 0,
                  "_deepnote_index_column": 1
                },
                {
                  "&": 0,
                  "actor": 0,
                  "beauti": 1,
                  "best": 0,
                  "citi": 1,
                  "good": 0,
                  "in": 0,
                  "is": 1,
                  "like": 0,
                  "new": 1,
                  "rock": 0,
                  "roll": 0,
                  "teacher": 0,
                  "the": 0,
                  "world": 0,
                  "york": 1,
                  "_deepnote_index_column": 2
                }
              ],
              "rows_bottom": null
            },
            "text/plain": "   &  actor  beauti  best  citi  good  in  is  like  new  rock  roll  teacher  \\\n0  1      0       0     0     0     1   0   0     1    0     2     1        1   \n1  0      1       0     1     0     0   1   1     0    0     1     0        0   \n2  0      0       1     0     1     0   0   1     0    1     0     0        0   \n\n   the  world  york  \n0    1      0     0  \n1    3      1     0  \n2    0      0     1  ",
            "text/html": "<div>\n<style scoped>\n    .dataframe tbody tr th:only-of-type {\n        vertical-align: middle;\n    }\n\n    .dataframe tbody tr th {\n        vertical-align: top;\n    }\n\n    .dataframe thead th {\n        text-align: right;\n    }\n</style>\n<table border=\"1\" class=\"dataframe\">\n  <thead>\n    <tr style=\"text-align: right;\">\n      <th></th>\n      <th>&amp;</th>\n      <th>actor</th>\n      <th>beauti</th>\n      <th>best</th>\n      <th>citi</th>\n      <th>good</th>\n      <th>in</th>\n      <th>is</th>\n      <th>like</th>\n      <th>new</th>\n      <th>rock</th>\n      <th>roll</th>\n      <th>teacher</th>\n      <th>the</th>\n      <th>world</th>\n      <th>york</th>\n    </tr>\n  </thead>\n  <tbody>\n    <tr>\n      <th>0</th>\n      <td>1</td>\n      <td>0</td>\n      <td>0</td>\n      <td>0</td>\n      <td>0</td>\n      <td>1</td>\n      <td>0</td>\n      <td>0</td>\n      <td>1</td>\n      <td>0</td>\n      <td>2</td>\n      <td>1</td>\n      <td>1</td>\n      <td>1</td>\n      <td>0</td>\n      <td>0</td>\n    </tr>\n    <tr>\n      <th>1</th>\n      <td>0</td>\n      <td>1</td>\n      <td>0</td>\n      <td>1</td>\n      <td>0</td>\n      <td>0</td>\n      <td>1</td>\n      <td>1</td>\n      <td>0</td>\n      <td>0</td>\n      <td>1</td>\n      <td>0</td>\n      <td>0</td>\n      <td>3</td>\n      <td>1</td>\n      <td>0</td>\n    </tr>\n    <tr>\n      <th>2</th>\n      <td>0</td>\n      <td>0</td>\n      <td>1</td>\n      <td>0</td>\n      <td>1</td>\n      <td>0</td>\n      <td>0</td>\n      <td>1</td>\n      <td>0</td>\n      <td>1</td>\n      <td>0</td>\n      <td>0</td>\n      <td>0</td>\n      <td>0</td>\n      <td>0</td>\n      <td>1</td>\n    </tr>\n  </tbody>\n</table>\n</div>"
          },
          "metadata": {}
        }
      ]
    },
    {
      "cell_type": "markdown",
      "metadata": {
        "tags": [],
        "cell_id": "00021-b3e721d0-6b1f-4f91-aef8-7b04028286fe",
        "deepnote_cell_type": "markdown",
        "id": "Wuj-J9kJhKUk"
      },
      "source": [
        "Una de las cosas más interesantes que provee son el use de n-gramas, los cuales, en palabras simples, son conjuntos de n-palabras que se concatenan entre si y que se consideran como tokens separados. \n",
        "\n",
        "Pensemos en `Nueva York`. Cuando se tokeniza Nueva York, se generan dos tokens independientes que a simple vista no tienen relación: `Nueva` `York`.\n",
        "Al usar n-gramas (en un rango min=1,max=2) , generamos tanto `Nueva` y `York` como también `Nueva York` como un token independiente."
      ]
    },
    {
      "cell_type": "code",
      "metadata": {
        "tags": [],
        "deepnote_to_be_reexecuted": false,
        "source_hash": "6af25c7e",
        "execution_start": 1637346930092,
        "execution_millis": 241,
        "cell_id": "00022-a7abf0fb-cbf2-4745-a96a-dcad9d4bc00f",
        "deepnote_cell_type": "code",
        "id": "5s_kA0wShKUl",
        "outputId": "8d1c7b3b-26f7-44cf-d48d-d3ca5a40ae2f"
      },
      "source": [
        "bow = CountVectorizer(tokenizer= StemmerTokenizer(), ngram_range=(1,2))\n",
        "df = bow.fit_transform(docs)\n",
        "\n",
        "pd.DataFrame(df.toarray(), columns=bow.get_feature_names_out())"
      ],
      "execution_count": null,
      "outputs": [
        {
          "output_type": "execute_result",
          "execution_count": 34,
          "data": {
            "application/vnd.deepnote.dataframe.v2+json": {
              "row_count": 3,
              "column_count": 35,
              "columns": [
                {
                  "name": "&",
                  "dtype": "int64",
                  "stats": {
                    "unique_count": 2,
                    "nan_count": 0,
                    "min": "0",
                    "max": "1",
                    "histogram": [
                      {
                        "bin_start": 0,
                        "bin_end": 0.1,
                        "count": 2
                      },
                      {
                        "bin_start": 0.1,
                        "bin_end": 0.2,
                        "count": 0
                      },
                      {
                        "bin_start": 0.2,
                        "bin_end": 0.30000000000000004,
                        "count": 0
                      },
                      {
                        "bin_start": 0.30000000000000004,
                        "bin_end": 0.4,
                        "count": 0
                      },
                      {
                        "bin_start": 0.4,
                        "bin_end": 0.5,
                        "count": 0
                      },
                      {
                        "bin_start": 0.5,
                        "bin_end": 0.6000000000000001,
                        "count": 0
                      },
                      {
                        "bin_start": 0.6000000000000001,
                        "bin_end": 0.7000000000000001,
                        "count": 0
                      },
                      {
                        "bin_start": 0.7000000000000001,
                        "bin_end": 0.8,
                        "count": 0
                      },
                      {
                        "bin_start": 0.8,
                        "bin_end": 0.9,
                        "count": 0
                      },
                      {
                        "bin_start": 0.9,
                        "bin_end": 1,
                        "count": 1
                      }
                    ]
                  }
                },
                {
                  "name": "& roll",
                  "dtype": "int64",
                  "stats": {
                    "unique_count": 2,
                    "nan_count": 0,
                    "min": "0",
                    "max": "1",
                    "histogram": [
                      {
                        "bin_start": 0,
                        "bin_end": 0.1,
                        "count": 2
                      },
                      {
                        "bin_start": 0.1,
                        "bin_end": 0.2,
                        "count": 0
                      },
                      {
                        "bin_start": 0.2,
                        "bin_end": 0.30000000000000004,
                        "count": 0
                      },
                      {
                        "bin_start": 0.30000000000000004,
                        "bin_end": 0.4,
                        "count": 0
                      },
                      {
                        "bin_start": 0.4,
                        "bin_end": 0.5,
                        "count": 0
                      },
                      {
                        "bin_start": 0.5,
                        "bin_end": 0.6000000000000001,
                        "count": 0
                      },
                      {
                        "bin_start": 0.6000000000000001,
                        "bin_end": 0.7000000000000001,
                        "count": 0
                      },
                      {
                        "bin_start": 0.7000000000000001,
                        "bin_end": 0.8,
                        "count": 0
                      },
                      {
                        "bin_start": 0.8,
                        "bin_end": 0.9,
                        "count": 0
                      },
                      {
                        "bin_start": 0.9,
                        "bin_end": 1,
                        "count": 1
                      }
                    ]
                  }
                },
                {
                  "name": "actor",
                  "dtype": "int64",
                  "stats": {
                    "unique_count": 2,
                    "nan_count": 0,
                    "min": "0",
                    "max": "1",
                    "histogram": [
                      {
                        "bin_start": 0,
                        "bin_end": 0.1,
                        "count": 2
                      },
                      {
                        "bin_start": 0.1,
                        "bin_end": 0.2,
                        "count": 0
                      },
                      {
                        "bin_start": 0.2,
                        "bin_end": 0.30000000000000004,
                        "count": 0
                      },
                      {
                        "bin_start": 0.30000000000000004,
                        "bin_end": 0.4,
                        "count": 0
                      },
                      {
                        "bin_start": 0.4,
                        "bin_end": 0.5,
                        "count": 0
                      },
                      {
                        "bin_start": 0.5,
                        "bin_end": 0.6000000000000001,
                        "count": 0
                      },
                      {
                        "bin_start": 0.6000000000000001,
                        "bin_end": 0.7000000000000001,
                        "count": 0
                      },
                      {
                        "bin_start": 0.7000000000000001,
                        "bin_end": 0.8,
                        "count": 0
                      },
                      {
                        "bin_start": 0.8,
                        "bin_end": 0.9,
                        "count": 0
                      },
                      {
                        "bin_start": 0.9,
                        "bin_end": 1,
                        "count": 1
                      }
                    ]
                  }
                },
                {
                  "name": "actor in",
                  "dtype": "int64",
                  "stats": {
                    "unique_count": 2,
                    "nan_count": 0,
                    "min": "0",
                    "max": "1",
                    "histogram": [
                      {
                        "bin_start": 0,
                        "bin_end": 0.1,
                        "count": 2
                      },
                      {
                        "bin_start": 0.1,
                        "bin_end": 0.2,
                        "count": 0
                      },
                      {
                        "bin_start": 0.2,
                        "bin_end": 0.30000000000000004,
                        "count": 0
                      },
                      {
                        "bin_start": 0.30000000000000004,
                        "bin_end": 0.4,
                        "count": 0
                      },
                      {
                        "bin_start": 0.4,
                        "bin_end": 0.5,
                        "count": 0
                      },
                      {
                        "bin_start": 0.5,
                        "bin_end": 0.6000000000000001,
                        "count": 0
                      },
                      {
                        "bin_start": 0.6000000000000001,
                        "bin_end": 0.7000000000000001,
                        "count": 0
                      },
                      {
                        "bin_start": 0.7000000000000001,
                        "bin_end": 0.8,
                        "count": 0
                      },
                      {
                        "bin_start": 0.8,
                        "bin_end": 0.9,
                        "count": 0
                      },
                      {
                        "bin_start": 0.9,
                        "bin_end": 1,
                        "count": 1
                      }
                    ]
                  }
                },
                {
                  "name": "beauti",
                  "dtype": "int64",
                  "stats": {
                    "unique_count": 2,
                    "nan_count": 0,
                    "min": "0",
                    "max": "1",
                    "histogram": [
                      {
                        "bin_start": 0,
                        "bin_end": 0.1,
                        "count": 2
                      },
                      {
                        "bin_start": 0.1,
                        "bin_end": 0.2,
                        "count": 0
                      },
                      {
                        "bin_start": 0.2,
                        "bin_end": 0.30000000000000004,
                        "count": 0
                      },
                      {
                        "bin_start": 0.30000000000000004,
                        "bin_end": 0.4,
                        "count": 0
                      },
                      {
                        "bin_start": 0.4,
                        "bin_end": 0.5,
                        "count": 0
                      },
                      {
                        "bin_start": 0.5,
                        "bin_end": 0.6000000000000001,
                        "count": 0
                      },
                      {
                        "bin_start": 0.6000000000000001,
                        "bin_end": 0.7000000000000001,
                        "count": 0
                      },
                      {
                        "bin_start": 0.7000000000000001,
                        "bin_end": 0.8,
                        "count": 0
                      },
                      {
                        "bin_start": 0.8,
                        "bin_end": 0.9,
                        "count": 0
                      },
                      {
                        "bin_start": 0.9,
                        "bin_end": 1,
                        "count": 1
                      }
                    ]
                  }
                },
                {
                  "name": "beauti citi",
                  "dtype": "int64",
                  "stats": {
                    "unique_count": 2,
                    "nan_count": 0,
                    "min": "0",
                    "max": "1",
                    "histogram": [
                      {
                        "bin_start": 0,
                        "bin_end": 0.1,
                        "count": 2
                      },
                      {
                        "bin_start": 0.1,
                        "bin_end": 0.2,
                        "count": 0
                      },
                      {
                        "bin_start": 0.2,
                        "bin_end": 0.30000000000000004,
                        "count": 0
                      },
                      {
                        "bin_start": 0.30000000000000004,
                        "bin_end": 0.4,
                        "count": 0
                      },
                      {
                        "bin_start": 0.4,
                        "bin_end": 0.5,
                        "count": 0
                      },
                      {
                        "bin_start": 0.5,
                        "bin_end": 0.6000000000000001,
                        "count": 0
                      },
                      {
                        "bin_start": 0.6000000000000001,
                        "bin_end": 0.7000000000000001,
                        "count": 0
                      },
                      {
                        "bin_start": 0.7000000000000001,
                        "bin_end": 0.8,
                        "count": 0
                      },
                      {
                        "bin_start": 0.8,
                        "bin_end": 0.9,
                        "count": 0
                      },
                      {
                        "bin_start": 0.9,
                        "bin_end": 1,
                        "count": 1
                      }
                    ]
                  }
                },
                {
                  "name": "best",
                  "dtype": "int64",
                  "stats": {
                    "unique_count": 2,
                    "nan_count": 0,
                    "min": "0",
                    "max": "1",
                    "histogram": [
                      {
                        "bin_start": 0,
                        "bin_end": 0.1,
                        "count": 2
                      },
                      {
                        "bin_start": 0.1,
                        "bin_end": 0.2,
                        "count": 0
                      },
                      {
                        "bin_start": 0.2,
                        "bin_end": 0.30000000000000004,
                        "count": 0
                      },
                      {
                        "bin_start": 0.30000000000000004,
                        "bin_end": 0.4,
                        "count": 0
                      },
                      {
                        "bin_start": 0.4,
                        "bin_end": 0.5,
                        "count": 0
                      },
                      {
                        "bin_start": 0.5,
                        "bin_end": 0.6000000000000001,
                        "count": 0
                      },
                      {
                        "bin_start": 0.6000000000000001,
                        "bin_end": 0.7000000000000001,
                        "count": 0
                      },
                      {
                        "bin_start": 0.7000000000000001,
                        "bin_end": 0.8,
                        "count": 0
                      },
                      {
                        "bin_start": 0.8,
                        "bin_end": 0.9,
                        "count": 0
                      },
                      {
                        "bin_start": 0.9,
                        "bin_end": 1,
                        "count": 1
                      }
                    ]
                  }
                },
                {
                  "name": "best actor",
                  "dtype": "int64",
                  "stats": {
                    "unique_count": 2,
                    "nan_count": 0,
                    "min": "0",
                    "max": "1",
                    "histogram": [
                      {
                        "bin_start": 0,
                        "bin_end": 0.1,
                        "count": 2
                      },
                      {
                        "bin_start": 0.1,
                        "bin_end": 0.2,
                        "count": 0
                      },
                      {
                        "bin_start": 0.2,
                        "bin_end": 0.30000000000000004,
                        "count": 0
                      },
                      {
                        "bin_start": 0.30000000000000004,
                        "bin_end": 0.4,
                        "count": 0
                      },
                      {
                        "bin_start": 0.4,
                        "bin_end": 0.5,
                        "count": 0
                      },
                      {
                        "bin_start": 0.5,
                        "bin_end": 0.6000000000000001,
                        "count": 0
                      },
                      {
                        "bin_start": 0.6000000000000001,
                        "bin_end": 0.7000000000000001,
                        "count": 0
                      },
                      {
                        "bin_start": 0.7000000000000001,
                        "bin_end": 0.8,
                        "count": 0
                      },
                      {
                        "bin_start": 0.8,
                        "bin_end": 0.9,
                        "count": 0
                      },
                      {
                        "bin_start": 0.9,
                        "bin_end": 1,
                        "count": 1
                      }
                    ]
                  }
                },
                {
                  "name": "citi",
                  "dtype": "int64",
                  "stats": {
                    "unique_count": 2,
                    "nan_count": 0,
                    "min": "0",
                    "max": "1",
                    "histogram": [
                      {
                        "bin_start": 0,
                        "bin_end": 0.1,
                        "count": 2
                      },
                      {
                        "bin_start": 0.1,
                        "bin_end": 0.2,
                        "count": 0
                      },
                      {
                        "bin_start": 0.2,
                        "bin_end": 0.30000000000000004,
                        "count": 0
                      },
                      {
                        "bin_start": 0.30000000000000004,
                        "bin_end": 0.4,
                        "count": 0
                      },
                      {
                        "bin_start": 0.4,
                        "bin_end": 0.5,
                        "count": 0
                      },
                      {
                        "bin_start": 0.5,
                        "bin_end": 0.6000000000000001,
                        "count": 0
                      },
                      {
                        "bin_start": 0.6000000000000001,
                        "bin_end": 0.7000000000000001,
                        "count": 0
                      },
                      {
                        "bin_start": 0.7000000000000001,
                        "bin_end": 0.8,
                        "count": 0
                      },
                      {
                        "bin_start": 0.8,
                        "bin_end": 0.9,
                        "count": 0
                      },
                      {
                        "bin_start": 0.9,
                        "bin_end": 1,
                        "count": 1
                      }
                    ]
                  }
                },
                {
                  "name": "good",
                  "dtype": "int64",
                  "stats": {
                    "unique_count": 2,
                    "nan_count": 0,
                    "min": "0",
                    "max": "1",
                    "histogram": [
                      {
                        "bin_start": 0,
                        "bin_end": 0.1,
                        "count": 2
                      },
                      {
                        "bin_start": 0.1,
                        "bin_end": 0.2,
                        "count": 0
                      },
                      {
                        "bin_start": 0.2,
                        "bin_end": 0.30000000000000004,
                        "count": 0
                      },
                      {
                        "bin_start": 0.30000000000000004,
                        "bin_end": 0.4,
                        "count": 0
                      },
                      {
                        "bin_start": 0.4,
                        "bin_end": 0.5,
                        "count": 0
                      },
                      {
                        "bin_start": 0.5,
                        "bin_end": 0.6000000000000001,
                        "count": 0
                      },
                      {
                        "bin_start": 0.6000000000000001,
                        "bin_end": 0.7000000000000001,
                        "count": 0
                      },
                      {
                        "bin_start": 0.7000000000000001,
                        "bin_end": 0.8,
                        "count": 0
                      },
                      {
                        "bin_start": 0.8,
                        "bin_end": 0.9,
                        "count": 0
                      },
                      {
                        "bin_start": 0.9,
                        "bin_end": 1,
                        "count": 1
                      }
                    ]
                  }
                },
                {
                  "name": "good rock",
                  "dtype": "int64",
                  "stats": {
                    "unique_count": 2,
                    "nan_count": 0,
                    "min": "0",
                    "max": "1",
                    "histogram": [
                      {
                        "bin_start": 0,
                        "bin_end": 0.1,
                        "count": 2
                      },
                      {
                        "bin_start": 0.1,
                        "bin_end": 0.2,
                        "count": 0
                      },
                      {
                        "bin_start": 0.2,
                        "bin_end": 0.30000000000000004,
                        "count": 0
                      },
                      {
                        "bin_start": 0.30000000000000004,
                        "bin_end": 0.4,
                        "count": 0
                      },
                      {
                        "bin_start": 0.4,
                        "bin_end": 0.5,
                        "count": 0
                      },
                      {
                        "bin_start": 0.5,
                        "bin_end": 0.6000000000000001,
                        "count": 0
                      },
                      {
                        "bin_start": 0.6000000000000001,
                        "bin_end": 0.7000000000000001,
                        "count": 0
                      },
                      {
                        "bin_start": 0.7000000000000001,
                        "bin_end": 0.8,
                        "count": 0
                      },
                      {
                        "bin_start": 0.8,
                        "bin_end": 0.9,
                        "count": 0
                      },
                      {
                        "bin_start": 0.9,
                        "bin_end": 1,
                        "count": 1
                      }
                    ]
                  }
                },
                {
                  "name": "in",
                  "dtype": "int64",
                  "stats": {
                    "unique_count": 2,
                    "nan_count": 0,
                    "min": "0",
                    "max": "1",
                    "histogram": [
                      {
                        "bin_start": 0,
                        "bin_end": 0.1,
                        "count": 2
                      },
                      {
                        "bin_start": 0.1,
                        "bin_end": 0.2,
                        "count": 0
                      },
                      {
                        "bin_start": 0.2,
                        "bin_end": 0.30000000000000004,
                        "count": 0
                      },
                      {
                        "bin_start": 0.30000000000000004,
                        "bin_end": 0.4,
                        "count": 0
                      },
                      {
                        "bin_start": 0.4,
                        "bin_end": 0.5,
                        "count": 0
                      },
                      {
                        "bin_start": 0.5,
                        "bin_end": 0.6000000000000001,
                        "count": 0
                      },
                      {
                        "bin_start": 0.6000000000000001,
                        "bin_end": 0.7000000000000001,
                        "count": 0
                      },
                      {
                        "bin_start": 0.7000000000000001,
                        "bin_end": 0.8,
                        "count": 0
                      },
                      {
                        "bin_start": 0.8,
                        "bin_end": 0.9,
                        "count": 0
                      },
                      {
                        "bin_start": 0.9,
                        "bin_end": 1,
                        "count": 1
                      }
                    ]
                  }
                },
                {
                  "name": "in the",
                  "dtype": "int64",
                  "stats": {
                    "unique_count": 2,
                    "nan_count": 0,
                    "min": "0",
                    "max": "1",
                    "histogram": [
                      {
                        "bin_start": 0,
                        "bin_end": 0.1,
                        "count": 2
                      },
                      {
                        "bin_start": 0.1,
                        "bin_end": 0.2,
                        "count": 0
                      },
                      {
                        "bin_start": 0.2,
                        "bin_end": 0.30000000000000004,
                        "count": 0
                      },
                      {
                        "bin_start": 0.30000000000000004,
                        "bin_end": 0.4,
                        "count": 0
                      },
                      {
                        "bin_start": 0.4,
                        "bin_end": 0.5,
                        "count": 0
                      },
                      {
                        "bin_start": 0.5,
                        "bin_end": 0.6000000000000001,
                        "count": 0
                      },
                      {
                        "bin_start": 0.6000000000000001,
                        "bin_end": 0.7000000000000001,
                        "count": 0
                      },
                      {
                        "bin_start": 0.7000000000000001,
                        "bin_end": 0.8,
                        "count": 0
                      },
                      {
                        "bin_start": 0.8,
                        "bin_end": 0.9,
                        "count": 0
                      },
                      {
                        "bin_start": 0.9,
                        "bin_end": 1,
                        "count": 1
                      }
                    ]
                  }
                },
                {
                  "name": "is",
                  "dtype": "int64",
                  "stats": {
                    "unique_count": 2,
                    "nan_count": 0,
                    "min": "0",
                    "max": "1",
                    "histogram": [
                      {
                        "bin_start": 0,
                        "bin_end": 0.1,
                        "count": 1
                      },
                      {
                        "bin_start": 0.1,
                        "bin_end": 0.2,
                        "count": 0
                      },
                      {
                        "bin_start": 0.2,
                        "bin_end": 0.30000000000000004,
                        "count": 0
                      },
                      {
                        "bin_start": 0.30000000000000004,
                        "bin_end": 0.4,
                        "count": 0
                      },
                      {
                        "bin_start": 0.4,
                        "bin_end": 0.5,
                        "count": 0
                      },
                      {
                        "bin_start": 0.5,
                        "bin_end": 0.6000000000000001,
                        "count": 0
                      },
                      {
                        "bin_start": 0.6000000000000001,
                        "bin_end": 0.7000000000000001,
                        "count": 0
                      },
                      {
                        "bin_start": 0.7000000000000001,
                        "bin_end": 0.8,
                        "count": 0
                      },
                      {
                        "bin_start": 0.8,
                        "bin_end": 0.9,
                        "count": 0
                      },
                      {
                        "bin_start": 0.9,
                        "bin_end": 1,
                        "count": 2
                      }
                    ]
                  }
                },
                {
                  "name": "is beauti",
                  "dtype": "int64",
                  "stats": {
                    "unique_count": 2,
                    "nan_count": 0,
                    "min": "0",
                    "max": "1",
                    "histogram": [
                      {
                        "bin_start": 0,
                        "bin_end": 0.1,
                        "count": 2
                      },
                      {
                        "bin_start": 0.1,
                        "bin_end": 0.2,
                        "count": 0
                      },
                      {
                        "bin_start": 0.2,
                        "bin_end": 0.30000000000000004,
                        "count": 0
                      },
                      {
                        "bin_start": 0.30000000000000004,
                        "bin_end": 0.4,
                        "count": 0
                      },
                      {
                        "bin_start": 0.4,
                        "bin_end": 0.5,
                        "count": 0
                      },
                      {
                        "bin_start": 0.5,
                        "bin_end": 0.6000000000000001,
                        "count": 0
                      },
                      {
                        "bin_start": 0.6000000000000001,
                        "bin_end": 0.7000000000000001,
                        "count": 0
                      },
                      {
                        "bin_start": 0.7000000000000001,
                        "bin_end": 0.8,
                        "count": 0
                      },
                      {
                        "bin_start": 0.8,
                        "bin_end": 0.9,
                        "count": 0
                      },
                      {
                        "bin_start": 0.9,
                        "bin_end": 1,
                        "count": 1
                      }
                    ]
                  }
                },
                {
                  "name": "is the",
                  "dtype": "int64",
                  "stats": {
                    "unique_count": 2,
                    "nan_count": 0,
                    "min": "0",
                    "max": "1",
                    "histogram": [
                      {
                        "bin_start": 0,
                        "bin_end": 0.1,
                        "count": 2
                      },
                      {
                        "bin_start": 0.1,
                        "bin_end": 0.2,
                        "count": 0
                      },
                      {
                        "bin_start": 0.2,
                        "bin_end": 0.30000000000000004,
                        "count": 0
                      },
                      {
                        "bin_start": 0.30000000000000004,
                        "bin_end": 0.4,
                        "count": 0
                      },
                      {
                        "bin_start": 0.4,
                        "bin_end": 0.5,
                        "count": 0
                      },
                      {
                        "bin_start": 0.5,
                        "bin_end": 0.6000000000000001,
                        "count": 0
                      },
                      {
                        "bin_start": 0.6000000000000001,
                        "bin_end": 0.7000000000000001,
                        "count": 0
                      },
                      {
                        "bin_start": 0.7000000000000001,
                        "bin_end": 0.8,
                        "count": 0
                      },
                      {
                        "bin_start": 0.8,
                        "bin_end": 0.9,
                        "count": 0
                      },
                      {
                        "bin_start": 0.9,
                        "bin_end": 1,
                        "count": 1
                      }
                    ]
                  }
                },
                {
                  "name": "like",
                  "dtype": "int64",
                  "stats": {
                    "unique_count": 2,
                    "nan_count": 0,
                    "min": "0",
                    "max": "1",
                    "histogram": [
                      {
                        "bin_start": 0,
                        "bin_end": 0.1,
                        "count": 2
                      },
                      {
                        "bin_start": 0.1,
                        "bin_end": 0.2,
                        "count": 0
                      },
                      {
                        "bin_start": 0.2,
                        "bin_end": 0.30000000000000004,
                        "count": 0
                      },
                      {
                        "bin_start": 0.30000000000000004,
                        "bin_end": 0.4,
                        "count": 0
                      },
                      {
                        "bin_start": 0.4,
                        "bin_end": 0.5,
                        "count": 0
                      },
                      {
                        "bin_start": 0.5,
                        "bin_end": 0.6000000000000001,
                        "count": 0
                      },
                      {
                        "bin_start": 0.6000000000000001,
                        "bin_end": 0.7000000000000001,
                        "count": 0
                      },
                      {
                        "bin_start": 0.7000000000000001,
                        "bin_end": 0.8,
                        "count": 0
                      },
                      {
                        "bin_start": 0.8,
                        "bin_end": 0.9,
                        "count": 0
                      },
                      {
                        "bin_start": 0.9,
                        "bin_end": 1,
                        "count": 1
                      }
                    ]
                  }
                },
                {
                  "name": "like good",
                  "dtype": "int64",
                  "stats": {
                    "unique_count": 2,
                    "nan_count": 0,
                    "min": "0",
                    "max": "1",
                    "histogram": [
                      {
                        "bin_start": 0,
                        "bin_end": 0.1,
                        "count": 2
                      },
                      {
                        "bin_start": 0.1,
                        "bin_end": 0.2,
                        "count": 0
                      },
                      {
                        "bin_start": 0.2,
                        "bin_end": 0.30000000000000004,
                        "count": 0
                      },
                      {
                        "bin_start": 0.30000000000000004,
                        "bin_end": 0.4,
                        "count": 0
                      },
                      {
                        "bin_start": 0.4,
                        "bin_end": 0.5,
                        "count": 0
                      },
                      {
                        "bin_start": 0.5,
                        "bin_end": 0.6000000000000001,
                        "count": 0
                      },
                      {
                        "bin_start": 0.6000000000000001,
                        "bin_end": 0.7000000000000001,
                        "count": 0
                      },
                      {
                        "bin_start": 0.7000000000000001,
                        "bin_end": 0.8,
                        "count": 0
                      },
                      {
                        "bin_start": 0.8,
                        "bin_end": 0.9,
                        "count": 0
                      },
                      {
                        "bin_start": 0.9,
                        "bin_end": 1,
                        "count": 1
                      }
                    ]
                  }
                },
                {
                  "name": "new",
                  "dtype": "int64",
                  "stats": {
                    "unique_count": 2,
                    "nan_count": 0,
                    "min": "0",
                    "max": "1",
                    "histogram": [
                      {
                        "bin_start": 0,
                        "bin_end": 0.1,
                        "count": 2
                      },
                      {
                        "bin_start": 0.1,
                        "bin_end": 0.2,
                        "count": 0
                      },
                      {
                        "bin_start": 0.2,
                        "bin_end": 0.30000000000000004,
                        "count": 0
                      },
                      {
                        "bin_start": 0.30000000000000004,
                        "bin_end": 0.4,
                        "count": 0
                      },
                      {
                        "bin_start": 0.4,
                        "bin_end": 0.5,
                        "count": 0
                      },
                      {
                        "bin_start": 0.5,
                        "bin_end": 0.6000000000000001,
                        "count": 0
                      },
                      {
                        "bin_start": 0.6000000000000001,
                        "bin_end": 0.7000000000000001,
                        "count": 0
                      },
                      {
                        "bin_start": 0.7000000000000001,
                        "bin_end": 0.8,
                        "count": 0
                      },
                      {
                        "bin_start": 0.8,
                        "bin_end": 0.9,
                        "count": 0
                      },
                      {
                        "bin_start": 0.9,
                        "bin_end": 1,
                        "count": 1
                      }
                    ]
                  }
                },
                {
                  "name": "new york",
                  "dtype": "int64",
                  "stats": {
                    "unique_count": 2,
                    "nan_count": 0,
                    "min": "0",
                    "max": "1",
                    "histogram": [
                      {
                        "bin_start": 0,
                        "bin_end": 0.1,
                        "count": 2
                      },
                      {
                        "bin_start": 0.1,
                        "bin_end": 0.2,
                        "count": 0
                      },
                      {
                        "bin_start": 0.2,
                        "bin_end": 0.30000000000000004,
                        "count": 0
                      },
                      {
                        "bin_start": 0.30000000000000004,
                        "bin_end": 0.4,
                        "count": 0
                      },
                      {
                        "bin_start": 0.4,
                        "bin_end": 0.5,
                        "count": 0
                      },
                      {
                        "bin_start": 0.5,
                        "bin_end": 0.6000000000000001,
                        "count": 0
                      },
                      {
                        "bin_start": 0.6000000000000001,
                        "bin_end": 0.7000000000000001,
                        "count": 0
                      },
                      {
                        "bin_start": 0.7000000000000001,
                        "bin_end": 0.8,
                        "count": 0
                      },
                      {
                        "bin_start": 0.8,
                        "bin_end": 0.9,
                        "count": 0
                      },
                      {
                        "bin_start": 0.9,
                        "bin_end": 1,
                        "count": 1
                      }
                    ]
                  }
                },
                {
                  "name": "rock",
                  "dtype": "int64",
                  "stats": {
                    "unique_count": 3,
                    "nan_count": 0,
                    "min": "0",
                    "max": "2",
                    "histogram": [
                      {
                        "bin_start": 0,
                        "bin_end": 0.2,
                        "count": 1
                      },
                      {
                        "bin_start": 0.2,
                        "bin_end": 0.4,
                        "count": 0
                      },
                      {
                        "bin_start": 0.4,
                        "bin_end": 0.6000000000000001,
                        "count": 0
                      },
                      {
                        "bin_start": 0.6000000000000001,
                        "bin_end": 0.8,
                        "count": 0
                      },
                      {
                        "bin_start": 0.8,
                        "bin_end": 1,
                        "count": 0
                      },
                      {
                        "bin_start": 1,
                        "bin_end": 1.2000000000000002,
                        "count": 1
                      },
                      {
                        "bin_start": 1.2000000000000002,
                        "bin_end": 1.4000000000000001,
                        "count": 0
                      },
                      {
                        "bin_start": 1.4000000000000001,
                        "bin_end": 1.6,
                        "count": 0
                      },
                      {
                        "bin_start": 1.6,
                        "bin_end": 1.8,
                        "count": 0
                      },
                      {
                        "bin_start": 1.8,
                        "bin_end": 2,
                        "count": 1
                      }
                    ]
                  }
                },
                {
                  "name": "rock &",
                  "dtype": "int64",
                  "stats": {
                    "unique_count": 2,
                    "nan_count": 0,
                    "min": "0",
                    "max": "1",
                    "histogram": [
                      {
                        "bin_start": 0,
                        "bin_end": 0.1,
                        "count": 2
                      },
                      {
                        "bin_start": 0.1,
                        "bin_end": 0.2,
                        "count": 0
                      },
                      {
                        "bin_start": 0.2,
                        "bin_end": 0.30000000000000004,
                        "count": 0
                      },
                      {
                        "bin_start": 0.30000000000000004,
                        "bin_end": 0.4,
                        "count": 0
                      },
                      {
                        "bin_start": 0.4,
                        "bin_end": 0.5,
                        "count": 0
                      },
                      {
                        "bin_start": 0.5,
                        "bin_end": 0.6000000000000001,
                        "count": 0
                      },
                      {
                        "bin_start": 0.6000000000000001,
                        "bin_end": 0.7000000000000001,
                        "count": 0
                      },
                      {
                        "bin_start": 0.7000000000000001,
                        "bin_end": 0.8,
                        "count": 0
                      },
                      {
                        "bin_start": 0.8,
                        "bin_end": 0.9,
                        "count": 0
                      },
                      {
                        "bin_start": 0.9,
                        "bin_end": 1,
                        "count": 1
                      }
                    ]
                  }
                },
                {
                  "name": "rock is",
                  "dtype": "int64",
                  "stats": {
                    "unique_count": 2,
                    "nan_count": 0,
                    "min": "0",
                    "max": "1",
                    "histogram": [
                      {
                        "bin_start": 0,
                        "bin_end": 0.1,
                        "count": 2
                      },
                      {
                        "bin_start": 0.1,
                        "bin_end": 0.2,
                        "count": 0
                      },
                      {
                        "bin_start": 0.2,
                        "bin_end": 0.30000000000000004,
                        "count": 0
                      },
                      {
                        "bin_start": 0.30000000000000004,
                        "bin_end": 0.4,
                        "count": 0
                      },
                      {
                        "bin_start": 0.4,
                        "bin_end": 0.5,
                        "count": 0
                      },
                      {
                        "bin_start": 0.5,
                        "bin_end": 0.6000000000000001,
                        "count": 0
                      },
                      {
                        "bin_start": 0.6000000000000001,
                        "bin_end": 0.7000000000000001,
                        "count": 0
                      },
                      {
                        "bin_start": 0.7000000000000001,
                        "bin_end": 0.8,
                        "count": 0
                      },
                      {
                        "bin_start": 0.8,
                        "bin_end": 0.9,
                        "count": 0
                      },
                      {
                        "bin_start": 0.9,
                        "bin_end": 1,
                        "count": 1
                      }
                    ]
                  }
                },
                {
                  "name": "rock like",
                  "dtype": "int64",
                  "stats": {
                    "unique_count": 2,
                    "nan_count": 0,
                    "min": "0",
                    "max": "1",
                    "histogram": [
                      {
                        "bin_start": 0,
                        "bin_end": 0.1,
                        "count": 2
                      },
                      {
                        "bin_start": 0.1,
                        "bin_end": 0.2,
                        "count": 0
                      },
                      {
                        "bin_start": 0.2,
                        "bin_end": 0.30000000000000004,
                        "count": 0
                      },
                      {
                        "bin_start": 0.30000000000000004,
                        "bin_end": 0.4,
                        "count": 0
                      },
                      {
                        "bin_start": 0.4,
                        "bin_end": 0.5,
                        "count": 0
                      },
                      {
                        "bin_start": 0.5,
                        "bin_end": 0.6000000000000001,
                        "count": 0
                      },
                      {
                        "bin_start": 0.6000000000000001,
                        "bin_end": 0.7000000000000001,
                        "count": 0
                      },
                      {
                        "bin_start": 0.7000000000000001,
                        "bin_end": 0.8,
                        "count": 0
                      },
                      {
                        "bin_start": 0.8,
                        "bin_end": 0.9,
                        "count": 0
                      },
                      {
                        "bin_start": 0.9,
                        "bin_end": 1,
                        "count": 1
                      }
                    ]
                  }
                },
                {
                  "name": "roll",
                  "dtype": "int64",
                  "stats": {
                    "unique_count": 2,
                    "nan_count": 0,
                    "min": "0",
                    "max": "1",
                    "histogram": [
                      {
                        "bin_start": 0,
                        "bin_end": 0.1,
                        "count": 2
                      },
                      {
                        "bin_start": 0.1,
                        "bin_end": 0.2,
                        "count": 0
                      },
                      {
                        "bin_start": 0.2,
                        "bin_end": 0.30000000000000004,
                        "count": 0
                      },
                      {
                        "bin_start": 0.30000000000000004,
                        "bin_end": 0.4,
                        "count": 0
                      },
                      {
                        "bin_start": 0.4,
                        "bin_end": 0.5,
                        "count": 0
                      },
                      {
                        "bin_start": 0.5,
                        "bin_end": 0.6000000000000001,
                        "count": 0
                      },
                      {
                        "bin_start": 0.6000000000000001,
                        "bin_end": 0.7000000000000001,
                        "count": 0
                      },
                      {
                        "bin_start": 0.7000000000000001,
                        "bin_end": 0.8,
                        "count": 0
                      },
                      {
                        "bin_start": 0.8,
                        "bin_end": 0.9,
                        "count": 0
                      },
                      {
                        "bin_start": 0.9,
                        "bin_end": 1,
                        "count": 1
                      }
                    ]
                  }
                },
                {
                  "name": "teacher",
                  "dtype": "int64",
                  "stats": {
                    "unique_count": 2,
                    "nan_count": 0,
                    "min": "0",
                    "max": "1",
                    "histogram": [
                      {
                        "bin_start": 0,
                        "bin_end": 0.1,
                        "count": 2
                      },
                      {
                        "bin_start": 0.1,
                        "bin_end": 0.2,
                        "count": 0
                      },
                      {
                        "bin_start": 0.2,
                        "bin_end": 0.30000000000000004,
                        "count": 0
                      },
                      {
                        "bin_start": 0.30000000000000004,
                        "bin_end": 0.4,
                        "count": 0
                      },
                      {
                        "bin_start": 0.4,
                        "bin_end": 0.5,
                        "count": 0
                      },
                      {
                        "bin_start": 0.5,
                        "bin_end": 0.6000000000000001,
                        "count": 0
                      },
                      {
                        "bin_start": 0.6000000000000001,
                        "bin_end": 0.7000000000000001,
                        "count": 0
                      },
                      {
                        "bin_start": 0.7000000000000001,
                        "bin_end": 0.8,
                        "count": 0
                      },
                      {
                        "bin_start": 0.8,
                        "bin_end": 0.9,
                        "count": 0
                      },
                      {
                        "bin_start": 0.9,
                        "bin_end": 1,
                        "count": 1
                      }
                    ]
                  }
                },
                {
                  "name": "teacher rock",
                  "dtype": "int64",
                  "stats": {
                    "unique_count": 2,
                    "nan_count": 0,
                    "min": "0",
                    "max": "1",
                    "histogram": [
                      {
                        "bin_start": 0,
                        "bin_end": 0.1,
                        "count": 2
                      },
                      {
                        "bin_start": 0.1,
                        "bin_end": 0.2,
                        "count": 0
                      },
                      {
                        "bin_start": 0.2,
                        "bin_end": 0.30000000000000004,
                        "count": 0
                      },
                      {
                        "bin_start": 0.30000000000000004,
                        "bin_end": 0.4,
                        "count": 0
                      },
                      {
                        "bin_start": 0.4,
                        "bin_end": 0.5,
                        "count": 0
                      },
                      {
                        "bin_start": 0.5,
                        "bin_end": 0.6000000000000001,
                        "count": 0
                      },
                      {
                        "bin_start": 0.6000000000000001,
                        "bin_end": 0.7000000000000001,
                        "count": 0
                      },
                      {
                        "bin_start": 0.7000000000000001,
                        "bin_end": 0.8,
                        "count": 0
                      },
                      {
                        "bin_start": 0.8,
                        "bin_end": 0.9,
                        "count": 0
                      },
                      {
                        "bin_start": 0.9,
                        "bin_end": 1,
                        "count": 1
                      }
                    ]
                  }
                },
                {
                  "name": "the",
                  "dtype": "int64",
                  "stats": {
                    "unique_count": 3,
                    "nan_count": 0,
                    "min": "0",
                    "max": "3",
                    "histogram": [
                      {
                        "bin_start": 0,
                        "bin_end": 0.3,
                        "count": 1
                      },
                      {
                        "bin_start": 0.3,
                        "bin_end": 0.6,
                        "count": 0
                      },
                      {
                        "bin_start": 0.6,
                        "bin_end": 0.8999999999999999,
                        "count": 0
                      },
                      {
                        "bin_start": 0.8999999999999999,
                        "bin_end": 1.2,
                        "count": 1
                      },
                      {
                        "bin_start": 1.2,
                        "bin_end": 1.5,
                        "count": 0
                      },
                      {
                        "bin_start": 1.5,
                        "bin_end": 1.7999999999999998,
                        "count": 0
                      },
                      {
                        "bin_start": 1.7999999999999998,
                        "bin_end": 2.1,
                        "count": 0
                      },
                      {
                        "bin_start": 2.1,
                        "bin_end": 2.4,
                        "count": 0
                      },
                      {
                        "bin_start": 2.4,
                        "bin_end": 2.6999999999999997,
                        "count": 0
                      },
                      {
                        "bin_start": 2.6999999999999997,
                        "bin_end": 3,
                        "count": 1
                      }
                    ]
                  }
                },
                {
                  "name": "the best",
                  "dtype": "int64",
                  "stats": {
                    "unique_count": 2,
                    "nan_count": 0,
                    "min": "0",
                    "max": "1",
                    "histogram": [
                      {
                        "bin_start": 0,
                        "bin_end": 0.1,
                        "count": 2
                      },
                      {
                        "bin_start": 0.1,
                        "bin_end": 0.2,
                        "count": 0
                      },
                      {
                        "bin_start": 0.2,
                        "bin_end": 0.30000000000000004,
                        "count": 0
                      },
                      {
                        "bin_start": 0.30000000000000004,
                        "bin_end": 0.4,
                        "count": 0
                      },
                      {
                        "bin_start": 0.4,
                        "bin_end": 0.5,
                        "count": 0
                      },
                      {
                        "bin_start": 0.5,
                        "bin_end": 0.6000000000000001,
                        "count": 0
                      },
                      {
                        "bin_start": 0.6000000000000001,
                        "bin_end": 0.7000000000000001,
                        "count": 0
                      },
                      {
                        "bin_start": 0.7000000000000001,
                        "bin_end": 0.8,
                        "count": 0
                      },
                      {
                        "bin_start": 0.8,
                        "bin_end": 0.9,
                        "count": 0
                      },
                      {
                        "bin_start": 0.9,
                        "bin_end": 1,
                        "count": 1
                      }
                    ]
                  }
                },
                {
                  "name": "the rock",
                  "dtype": "int64",
                  "stats": {
                    "unique_count": 2,
                    "nan_count": 0,
                    "min": "0",
                    "max": "1",
                    "histogram": [
                      {
                        "bin_start": 0,
                        "bin_end": 0.1,
                        "count": 2
                      },
                      {
                        "bin_start": 0.1,
                        "bin_end": 0.2,
                        "count": 0
                      },
                      {
                        "bin_start": 0.2,
                        "bin_end": 0.30000000000000004,
                        "count": 0
                      },
                      {
                        "bin_start": 0.30000000000000004,
                        "bin_end": 0.4,
                        "count": 0
                      },
                      {
                        "bin_start": 0.4,
                        "bin_end": 0.5,
                        "count": 0
                      },
                      {
                        "bin_start": 0.5,
                        "bin_end": 0.6000000000000001,
                        "count": 0
                      },
                      {
                        "bin_start": 0.6000000000000001,
                        "bin_end": 0.7000000000000001,
                        "count": 0
                      },
                      {
                        "bin_start": 0.7000000000000001,
                        "bin_end": 0.8,
                        "count": 0
                      },
                      {
                        "bin_start": 0.8,
                        "bin_end": 0.9,
                        "count": 0
                      },
                      {
                        "bin_start": 0.9,
                        "bin_end": 1,
                        "count": 1
                      }
                    ]
                  }
                },
                {
                  "name": "the teacher",
                  "dtype": "int64",
                  "stats": {
                    "unique_count": 2,
                    "nan_count": 0,
                    "min": "0",
                    "max": "1",
                    "histogram": [
                      {
                        "bin_start": 0,
                        "bin_end": 0.1,
                        "count": 2
                      },
                      {
                        "bin_start": 0.1,
                        "bin_end": 0.2,
                        "count": 0
                      },
                      {
                        "bin_start": 0.2,
                        "bin_end": 0.30000000000000004,
                        "count": 0
                      },
                      {
                        "bin_start": 0.30000000000000004,
                        "bin_end": 0.4,
                        "count": 0
                      },
                      {
                        "bin_start": 0.4,
                        "bin_end": 0.5,
                        "count": 0
                      },
                      {
                        "bin_start": 0.5,
                        "bin_end": 0.6000000000000001,
                        "count": 0
                      },
                      {
                        "bin_start": 0.6000000000000001,
                        "bin_end": 0.7000000000000001,
                        "count": 0
                      },
                      {
                        "bin_start": 0.7000000000000001,
                        "bin_end": 0.8,
                        "count": 0
                      },
                      {
                        "bin_start": 0.8,
                        "bin_end": 0.9,
                        "count": 0
                      },
                      {
                        "bin_start": 0.9,
                        "bin_end": 1,
                        "count": 1
                      }
                    ]
                  }
                },
                {
                  "name": "the world",
                  "dtype": "int64",
                  "stats": {
                    "unique_count": 2,
                    "nan_count": 0,
                    "min": "0",
                    "max": "1",
                    "histogram": [
                      {
                        "bin_start": 0,
                        "bin_end": 0.1,
                        "count": 2
                      },
                      {
                        "bin_start": 0.1,
                        "bin_end": 0.2,
                        "count": 0
                      },
                      {
                        "bin_start": 0.2,
                        "bin_end": 0.30000000000000004,
                        "count": 0
                      },
                      {
                        "bin_start": 0.30000000000000004,
                        "bin_end": 0.4,
                        "count": 0
                      },
                      {
                        "bin_start": 0.4,
                        "bin_end": 0.5,
                        "count": 0
                      },
                      {
                        "bin_start": 0.5,
                        "bin_end": 0.6000000000000001,
                        "count": 0
                      },
                      {
                        "bin_start": 0.6000000000000001,
                        "bin_end": 0.7000000000000001,
                        "count": 0
                      },
                      {
                        "bin_start": 0.7000000000000001,
                        "bin_end": 0.8,
                        "count": 0
                      },
                      {
                        "bin_start": 0.8,
                        "bin_end": 0.9,
                        "count": 0
                      },
                      {
                        "bin_start": 0.9,
                        "bin_end": 1,
                        "count": 1
                      }
                    ]
                  }
                },
                {
                  "name": "world",
                  "dtype": "int64",
                  "stats": {
                    "unique_count": 2,
                    "nan_count": 0,
                    "min": "0",
                    "max": "1",
                    "histogram": [
                      {
                        "bin_start": 0,
                        "bin_end": 0.1,
                        "count": 2
                      },
                      {
                        "bin_start": 0.1,
                        "bin_end": 0.2,
                        "count": 0
                      },
                      {
                        "bin_start": 0.2,
                        "bin_end": 0.30000000000000004,
                        "count": 0
                      },
                      {
                        "bin_start": 0.30000000000000004,
                        "bin_end": 0.4,
                        "count": 0
                      },
                      {
                        "bin_start": 0.4,
                        "bin_end": 0.5,
                        "count": 0
                      },
                      {
                        "bin_start": 0.5,
                        "bin_end": 0.6000000000000001,
                        "count": 0
                      },
                      {
                        "bin_start": 0.6000000000000001,
                        "bin_end": 0.7000000000000001,
                        "count": 0
                      },
                      {
                        "bin_start": 0.7000000000000001,
                        "bin_end": 0.8,
                        "count": 0
                      },
                      {
                        "bin_start": 0.8,
                        "bin_end": 0.9,
                        "count": 0
                      },
                      {
                        "bin_start": 0.9,
                        "bin_end": 1,
                        "count": 1
                      }
                    ]
                  }
                },
                {
                  "name": "york",
                  "dtype": "int64",
                  "stats": {
                    "unique_count": 2,
                    "nan_count": 0,
                    "min": "0",
                    "max": "1",
                    "histogram": [
                      {
                        "bin_start": 0,
                        "bin_end": 0.1,
                        "count": 2
                      },
                      {
                        "bin_start": 0.1,
                        "bin_end": 0.2,
                        "count": 0
                      },
                      {
                        "bin_start": 0.2,
                        "bin_end": 0.30000000000000004,
                        "count": 0
                      },
                      {
                        "bin_start": 0.30000000000000004,
                        "bin_end": 0.4,
                        "count": 0
                      },
                      {
                        "bin_start": 0.4,
                        "bin_end": 0.5,
                        "count": 0
                      },
                      {
                        "bin_start": 0.5,
                        "bin_end": 0.6000000000000001,
                        "count": 0
                      },
                      {
                        "bin_start": 0.6000000000000001,
                        "bin_end": 0.7000000000000001,
                        "count": 0
                      },
                      {
                        "bin_start": 0.7000000000000001,
                        "bin_end": 0.8,
                        "count": 0
                      },
                      {
                        "bin_start": 0.8,
                        "bin_end": 0.9,
                        "count": 0
                      },
                      {
                        "bin_start": 0.9,
                        "bin_end": 1,
                        "count": 1
                      }
                    ]
                  }
                },
                {
                  "name": "york is",
                  "dtype": "int64",
                  "stats": {
                    "unique_count": 2,
                    "nan_count": 0,
                    "min": "0",
                    "max": "1",
                    "histogram": [
                      {
                        "bin_start": 0,
                        "bin_end": 0.1,
                        "count": 2
                      },
                      {
                        "bin_start": 0.1,
                        "bin_end": 0.2,
                        "count": 0
                      },
                      {
                        "bin_start": 0.2,
                        "bin_end": 0.30000000000000004,
                        "count": 0
                      },
                      {
                        "bin_start": 0.30000000000000004,
                        "bin_end": 0.4,
                        "count": 0
                      },
                      {
                        "bin_start": 0.4,
                        "bin_end": 0.5,
                        "count": 0
                      },
                      {
                        "bin_start": 0.5,
                        "bin_end": 0.6000000000000001,
                        "count": 0
                      },
                      {
                        "bin_start": 0.6000000000000001,
                        "bin_end": 0.7000000000000001,
                        "count": 0
                      },
                      {
                        "bin_start": 0.7000000000000001,
                        "bin_end": 0.8,
                        "count": 0
                      },
                      {
                        "bin_start": 0.8,
                        "bin_end": 0.9,
                        "count": 0
                      },
                      {
                        "bin_start": 0.9,
                        "bin_end": 1,
                        "count": 1
                      }
                    ]
                  }
                },
                {
                  "name": "_deepnote_index_column",
                  "dtype": "int64"
                }
              ],
              "rows_top": [
                {
                  "&": 1,
                  "& roll": 1,
                  "actor": 0,
                  "actor in": 0,
                  "beauti": 0,
                  "beauti citi": 0,
                  "best": 0,
                  "best actor": 0,
                  "citi": 0,
                  "good": 1,
                  "good rock": 1,
                  "in": 0,
                  "in the": 0,
                  "is": 0,
                  "is beauti": 0,
                  "is the": 0,
                  "like": 1,
                  "like good": 1,
                  "new": 0,
                  "new york": 0,
                  "rock": 2,
                  "rock &": 1,
                  "rock is": 0,
                  "rock like": 1,
                  "roll": 1,
                  "teacher": 1,
                  "teacher rock": 1,
                  "the": 1,
                  "the best": 0,
                  "the rock": 0,
                  "the teacher": 1,
                  "the world": 0,
                  "world": 0,
                  "york": 0,
                  "york is": 0,
                  "_deepnote_index_column": 0
                },
                {
                  "&": 0,
                  "& roll": 0,
                  "actor": 1,
                  "actor in": 1,
                  "beauti": 0,
                  "beauti citi": 0,
                  "best": 1,
                  "best actor": 1,
                  "citi": 0,
                  "good": 0,
                  "good rock": 0,
                  "in": 1,
                  "in the": 1,
                  "is": 1,
                  "is beauti": 0,
                  "is the": 1,
                  "like": 0,
                  "like good": 0,
                  "new": 0,
                  "new york": 0,
                  "rock": 1,
                  "rock &": 0,
                  "rock is": 1,
                  "rock like": 0,
                  "roll": 0,
                  "teacher": 0,
                  "teacher rock": 0,
                  "the": 3,
                  "the best": 1,
                  "the rock": 1,
                  "the teacher": 0,
                  "the world": 1,
                  "world": 1,
                  "york": 0,
                  "york is": 0,
                  "_deepnote_index_column": 1
                },
                {
                  "&": 0,
                  "& roll": 0,
                  "actor": 0,
                  "actor in": 0,
                  "beauti": 1,
                  "beauti citi": 1,
                  "best": 0,
                  "best actor": 0,
                  "citi": 1,
                  "good": 0,
                  "good rock": 0,
                  "in": 0,
                  "in the": 0,
                  "is": 1,
                  "is beauti": 1,
                  "is the": 0,
                  "like": 0,
                  "like good": 0,
                  "new": 1,
                  "new york": 1,
                  "rock": 0,
                  "rock &": 0,
                  "rock is": 0,
                  "rock like": 0,
                  "roll": 0,
                  "teacher": 0,
                  "teacher rock": 0,
                  "the": 0,
                  "the best": 0,
                  "the rock": 0,
                  "the teacher": 0,
                  "the world": 0,
                  "world": 0,
                  "york": 1,
                  "york is": 1,
                  "_deepnote_index_column": 2
                }
              ],
              "rows_bottom": null
            },
            "text/plain": "   &  & roll  actor  actor in  beauti  beauti citi  best  best actor  citi  \\\n0  1       1      0         0       0            0     0           0     0   \n1  0       0      1         1       0            0     1           1     0   \n2  0       0      0         0       1            1     0           0     1   \n\n   good  ...  teacher  teacher rock  the  the best  the rock  the teacher  \\\n0     1  ...        1             1    1         0         0            1   \n1     0  ...        0             0    3         1         1            0   \n2     0  ...        0             0    0         0         0            0   \n\n   the world  world  york  york is  \n0          0      0     0        0  \n1          1      1     0        0  \n2          0      0     1        1  \n\n[3 rows x 35 columns]",
            "text/html": "<div>\n<style scoped>\n    .dataframe tbody tr th:only-of-type {\n        vertical-align: middle;\n    }\n\n    .dataframe tbody tr th {\n        vertical-align: top;\n    }\n\n    .dataframe thead th {\n        text-align: right;\n    }\n</style>\n<table border=\"1\" class=\"dataframe\">\n  <thead>\n    <tr style=\"text-align: right;\">\n      <th></th>\n      <th>&amp;</th>\n      <th>&amp; roll</th>\n      <th>actor</th>\n      <th>actor in</th>\n      <th>beauti</th>\n      <th>beauti citi</th>\n      <th>best</th>\n      <th>best actor</th>\n      <th>citi</th>\n      <th>good</th>\n      <th>...</th>\n      <th>teacher</th>\n      <th>teacher rock</th>\n      <th>the</th>\n      <th>the best</th>\n      <th>the rock</th>\n      <th>the teacher</th>\n      <th>the world</th>\n      <th>world</th>\n      <th>york</th>\n      <th>york is</th>\n    </tr>\n  </thead>\n  <tbody>\n    <tr>\n      <th>0</th>\n      <td>1</td>\n      <td>1</td>\n      <td>0</td>\n      <td>0</td>\n      <td>0</td>\n      <td>0</td>\n      <td>0</td>\n      <td>0</td>\n      <td>0</td>\n      <td>1</td>\n      <td>...</td>\n      <td>1</td>\n      <td>1</td>\n      <td>1</td>\n      <td>0</td>\n      <td>0</td>\n      <td>1</td>\n      <td>0</td>\n      <td>0</td>\n      <td>0</td>\n      <td>0</td>\n    </tr>\n    <tr>\n      <th>1</th>\n      <td>0</td>\n      <td>0</td>\n      <td>1</td>\n      <td>1</td>\n      <td>0</td>\n      <td>0</td>\n      <td>1</td>\n      <td>1</td>\n      <td>0</td>\n      <td>0</td>\n      <td>...</td>\n      <td>0</td>\n      <td>0</td>\n      <td>3</td>\n      <td>1</td>\n      <td>1</td>\n      <td>0</td>\n      <td>1</td>\n      <td>1</td>\n      <td>0</td>\n      <td>0</td>\n    </tr>\n    <tr>\n      <th>2</th>\n      <td>0</td>\n      <td>0</td>\n      <td>0</td>\n      <td>0</td>\n      <td>1</td>\n      <td>1</td>\n      <td>0</td>\n      <td>0</td>\n      <td>1</td>\n      <td>0</td>\n      <td>...</td>\n      <td>0</td>\n      <td>0</td>\n      <td>0</td>\n      <td>0</td>\n      <td>0</td>\n      <td>0</td>\n      <td>0</td>\n      <td>0</td>\n      <td>1</td>\n      <td>1</td>\n    </tr>\n  </tbody>\n</table>\n<p>3 rows × 35 columns</p>\n</div>"
          },
          "metadata": {}
        }
      ]
    },
    {
      "cell_type": "markdown",
      "metadata": {
        "tags": [],
        "cell_id": "00023-55bca23d-f3d4-4f39-ae9d-e8810b522c79",
        "deepnote_cell_type": "markdown",
        "id": "MYufqP45hKUn"
      },
      "source": [
        "De los resultados, podemos ver que generamos vectores de conteo para cada una de las palabras que conforman el corpus.  Un punto extra que se agrega en esta obtención de frecuencias son los bigramas, que básicamente son el conjunto de palabras de tamaño de aparecen juntas en el texto."
      ]
    },
    {
      "cell_type": "markdown",
      "metadata": {
        "tags": [],
        "cell_id": "00024-231f49a8-163f-457d-b933-9e5dad0e1e29",
        "deepnote_cell_type": "markdown",
        "id": "mGSVcVVshKUn"
      },
      "source": [
        "## Codificando los Super{heroes, villanos}  [0.5 Puntos]\n",
        "\n",
        "<p align=\"center\">\n",
        "  <img src=\"https://c.tenor.com/LkQzw7k5DV4AAAAd/anime-hacking.gif\" width=\"300\">\n",
        "</p>\n",
        "\n",
        "Conociendo ahora que es el proceso de `bag of words`, aplique este modelo de obtención de caracteristicas de la siguiente forma en un pipeline:\n",
        "\n",
        "- Utilice el tokenizador entregado.\n",
        "- Obtenga caracteristicas de los unigramas y bigramas del texto (tal como el ejemplo).\n",
        "\n",
        "```python\n",
        "bog = CountVectorizer(tokenizer= StemmerTokenizer(),`\n",
        "                      ngram_range=(1,2) # Este punto es opcional y es para generar bigramas\n",
        "                      )\n",
        "```"
      ]
    },
    {
      "cell_type": "markdown",
      "metadata": {
        "tags": [],
        "cell_id": "00025-145bb273-d73c-4ad1-8b84-46327add3a2e",
        "deepnote_cell_type": "markdown",
        "id": "tmOVxblDhKUo"
      },
      "source": [
        "Finalmente, aplique `MinMaxScaler()` sobre `atributos_de_interes` y concatene el valor obtenido con el matriz de caracteristicas obtenidas con bag of words.\n",
        "\n",
        "```python\n",
        "atributos_de_interes = ['intelligence_score', 'strength_score', 'speed_score', 'durability_score', 'power_score', 'combat_score']\n",
        "```\n",
        "\n",
        "No es necesario que obtenga un dataframe en concreto con las características solicitadas. Se le recomienda generar un `ColumnTransformer()` para aplicar las transformaciones solicitadas en un pipeline.\n",
        "\n",
        "**To-Do:**\n",
        "- [ ] Obtener a traves de bag of words caracteristicas del resumen de historia de cada personaje.\n",
        "- [ ] Aplicar MinMaxScaler sobre los atributos de interes."
      ]
    },
    {
      "cell_type": "markdown",
      "metadata": {
        "tags": [],
        "cell_id": "00026-b13521a0-adf9-4c19-893e-ba6ed644ca12",
        "deepnote_cell_type": "markdown",
        "id": "jd9vwgRWhKUp"
      },
      "source": [
        "**Respuesta:**"
      ]
    },
    {
      "cell_type": "code",
      "metadata": {
        "id": "ay080DunHcOS",
        "cell_id": "00026-898e0ee0-748d-4dac-bfc5-d72f4fe21827",
        "deepnote_cell_type": "code"
      },
      "source": [
        "df_comics = df_comics.dropna(subset=['history_text'])"
      ],
      "execution_count": 7,
      "outputs": []
    },
    {
      "cell_type": "code",
      "metadata": {
        "colab": {
          "base_uri": "https://localhost:8080/"
        },
        "id": "aLrFMtLEwnWE",
        "outputId": "973ef9b9-01ae-4bb9-aed5-53b8ebbea7ec"
      },
      "source": [
        "import nltk\n",
        "nltk.download('stopwords')\n",
        "from nltk.corpus import stopwords\n",
        "stop_words = stopwords.words('english')\n",
        "\n",
        "class StemmerTokenizer:\n",
        "    def __init__(self):\n",
        "        self.ps = PorterStemmer()\n",
        "    def __call__(self, doc):\n",
        "        doc_tok = word_tokenize(doc)\n",
        "        doc_tok = [t for t in doc_tok if t not in stop_words]\n",
        "        return [self.ps.stem(t) for t in doc_tok]"
      ],
      "execution_count": 8,
      "outputs": [
        {
          "output_type": "stream",
          "name": "stdout",
          "text": [
            "[nltk_data] Downloading package stopwords to /root/nltk_data...\n",
            "[nltk_data]   Package stopwords is already up-to-date!\n"
          ]
        }
      ]
    },
    {
      "cell_type": "code",
      "metadata": {
        "colab": {
          "base_uri": "https://localhost:8080/",
          "height": 516
        },
        "id": "FPqEAysQ10M5",
        "outputId": "a880a7ac-c8d8-4cf8-84f7-17303aeba2a1"
      },
      "source": [
        "nltk.download('punkt')\n",
        "bog = CountVectorizer(tokenizer= StemmerTokenizer(),  ngram_range=(1,2))\n",
        "df = bog.fit_transform(df_comics[\"history_text\"])\n",
        "\n",
        "pd.DataFrame(df.toarray(), columns=bog.get_feature_names_out())"
      ],
      "execution_count": 9,
      "outputs": [
        {
          "output_type": "stream",
          "name": "stdout",
          "text": [
            "[nltk_data] Downloading package punkt to /root/nltk_data...\n",
            "[nltk_data]   Unzipping tokenizers/punkt.zip.\n"
          ]
        },
        {
          "output_type": "execute_result",
          "data": {
            "text/html": [
              "<div>\n",
              "<style scoped>\n",
              "    .dataframe tbody tr th:only-of-type {\n",
              "        vertical-align: middle;\n",
              "    }\n",
              "\n",
              "    .dataframe tbody tr th {\n",
              "        vertical-align: top;\n",
              "    }\n",
              "\n",
              "    .dataframe thead th {\n",
              "        text-align: right;\n",
              "    }\n",
              "</style>\n",
              "<table border=\"1\" class=\"dataframe\">\n",
              "  <thead>\n",
              "    <tr style=\"text-align: right;\">\n",
              "      <th></th>\n",
              "      <th>!</th>\n",
              "      <th>! !</th>\n",
              "      <th>! ''</th>\n",
              "      <th>! (</th>\n",
              "      <th>! )</th>\n",
              "      <th>! ,</th>\n",
              "      <th>! --</th>\n",
              "      <th>! .</th>\n",
              "      <th>! ``</th>\n",
              "      <th>! alison</th>\n",
              "      <th>! almost</th>\n",
              "      <th>! amazon</th>\n",
              "      <th>! aquaman</th>\n",
              "      <th>! begin</th>\n",
              "      <th>! boil</th>\n",
              "      <th>! bud</th>\n",
              "      <th>! captur</th>\n",
              "      <th>! chang</th>\n",
              "      <th>! cheetah</th>\n",
              "      <th>! coalit</th>\n",
              "      <th>! crisi</th>\n",
              "      <th>! crossov</th>\n",
              "      <th>! decid</th>\n",
              "      <th>! demi-god</th>\n",
              "      <th>! diana</th>\n",
              "      <th>! dick</th>\n",
              "      <th>! featur</th>\n",
              "      <th>! first</th>\n",
              "      <th>! follow</th>\n",
              "      <th>! gener</th>\n",
              "      <th>! gone</th>\n",
              "      <th>! head</th>\n",
              "      <th>! initi</th>\n",
              "      <th>! insid</th>\n",
              "      <th>! jace</th>\n",
              "      <th>! jason</th>\n",
              "      <th>! kahn</th>\n",
              "      <th>! katherin</th>\n",
              "      <th>! know</th>\n",
              "      <th>! look</th>\n",
              "      <th>...</th>\n",
              "      <th>拳王 king</th>\n",
              "      <th>駄犬</th>\n",
              "      <th>駄犬 ,</th>\n",
              "      <th>﻿juggernaut</th>\n",
              "      <th>﻿juggernaut recruit</th>\n",
              "      <th>�</th>\n",
              "      <th>� abomin</th>\n",
              "      <th>� batman</th>\n",
              "      <th>� bruce</th>\n",
              "      <th>� even</th>\n",
              "      <th>� hunt</th>\n",
              "      <th>� later</th>\n",
              "      <th>� much</th>\n",
              "      <th>� one</th>\n",
              "      <th>� prefer</th>\n",
              "      <th>� promis</th>\n",
              "      <th>� ray</th>\n",
              "      <th>� reactron</th>\n",
              "      <th>� similar</th>\n",
              "      <th>� skaar�</th>\n",
              "      <th>� would</th>\n",
              "      <th>�chain</th>\n",
              "      <th>�chain gang�</th>\n",
              "      <th>�doom</th>\n",
              "      <th>�doom old</th>\n",
              "      <th>�hellverine�</th>\n",
              "      <th>�hellverine� manag</th>\n",
              "      <th>�i</th>\n",
              "      <th>�i didn't.�</th>\n",
              "      <th>�kick�</th>\n",
              "      <th>�kick� .</th>\n",
              "      <th>�kick� driven</th>\n",
              "      <th>�polic</th>\n",
              "      <th>�polic man�</th>\n",
              "      <th>�white</th>\n",
              "      <th>�white room�</th>\n",
              "      <th>�ǣmortal</th>\n",
              "      <th>�ǣmortal instruments���</th>\n",
              "      <th>��wors</th>\n",
              "      <th>��wors ,</th>\n",
              "    </tr>\n",
              "  </thead>\n",
              "  <tbody>\n",
              "    <tr>\n",
              "      <th>0</th>\n",
              "      <td>0</td>\n",
              "      <td>0</td>\n",
              "      <td>0</td>\n",
              "      <td>0</td>\n",
              "      <td>0</td>\n",
              "      <td>0</td>\n",
              "      <td>0</td>\n",
              "      <td>0</td>\n",
              "      <td>0</td>\n",
              "      <td>0</td>\n",
              "      <td>0</td>\n",
              "      <td>0</td>\n",
              "      <td>0</td>\n",
              "      <td>0</td>\n",
              "      <td>0</td>\n",
              "      <td>0</td>\n",
              "      <td>0</td>\n",
              "      <td>0</td>\n",
              "      <td>0</td>\n",
              "      <td>0</td>\n",
              "      <td>0</td>\n",
              "      <td>0</td>\n",
              "      <td>0</td>\n",
              "      <td>0</td>\n",
              "      <td>0</td>\n",
              "      <td>0</td>\n",
              "      <td>0</td>\n",
              "      <td>0</td>\n",
              "      <td>0</td>\n",
              "      <td>0</td>\n",
              "      <td>0</td>\n",
              "      <td>0</td>\n",
              "      <td>0</td>\n",
              "      <td>0</td>\n",
              "      <td>0</td>\n",
              "      <td>0</td>\n",
              "      <td>0</td>\n",
              "      <td>0</td>\n",
              "      <td>0</td>\n",
              "      <td>0</td>\n",
              "      <td>...</td>\n",
              "      <td>0</td>\n",
              "      <td>0</td>\n",
              "      <td>0</td>\n",
              "      <td>0</td>\n",
              "      <td>0</td>\n",
              "      <td>0</td>\n",
              "      <td>0</td>\n",
              "      <td>0</td>\n",
              "      <td>0</td>\n",
              "      <td>0</td>\n",
              "      <td>0</td>\n",
              "      <td>0</td>\n",
              "      <td>0</td>\n",
              "      <td>0</td>\n",
              "      <td>0</td>\n",
              "      <td>0</td>\n",
              "      <td>0</td>\n",
              "      <td>0</td>\n",
              "      <td>0</td>\n",
              "      <td>0</td>\n",
              "      <td>0</td>\n",
              "      <td>0</td>\n",
              "      <td>0</td>\n",
              "      <td>0</td>\n",
              "      <td>0</td>\n",
              "      <td>0</td>\n",
              "      <td>0</td>\n",
              "      <td>0</td>\n",
              "      <td>0</td>\n",
              "      <td>0</td>\n",
              "      <td>0</td>\n",
              "      <td>0</td>\n",
              "      <td>0</td>\n",
              "      <td>0</td>\n",
              "      <td>0</td>\n",
              "      <td>0</td>\n",
              "      <td>0</td>\n",
              "      <td>0</td>\n",
              "      <td>0</td>\n",
              "      <td>0</td>\n",
              "    </tr>\n",
              "    <tr>\n",
              "      <th>1</th>\n",
              "      <td>0</td>\n",
              "      <td>0</td>\n",
              "      <td>0</td>\n",
              "      <td>0</td>\n",
              "      <td>0</td>\n",
              "      <td>0</td>\n",
              "      <td>0</td>\n",
              "      <td>0</td>\n",
              "      <td>0</td>\n",
              "      <td>0</td>\n",
              "      <td>0</td>\n",
              "      <td>0</td>\n",
              "      <td>0</td>\n",
              "      <td>0</td>\n",
              "      <td>0</td>\n",
              "      <td>0</td>\n",
              "      <td>0</td>\n",
              "      <td>0</td>\n",
              "      <td>0</td>\n",
              "      <td>0</td>\n",
              "      <td>0</td>\n",
              "      <td>0</td>\n",
              "      <td>0</td>\n",
              "      <td>0</td>\n",
              "      <td>0</td>\n",
              "      <td>0</td>\n",
              "      <td>0</td>\n",
              "      <td>0</td>\n",
              "      <td>0</td>\n",
              "      <td>0</td>\n",
              "      <td>0</td>\n",
              "      <td>0</td>\n",
              "      <td>0</td>\n",
              "      <td>0</td>\n",
              "      <td>0</td>\n",
              "      <td>0</td>\n",
              "      <td>0</td>\n",
              "      <td>0</td>\n",
              "      <td>0</td>\n",
              "      <td>0</td>\n",
              "      <td>...</td>\n",
              "      <td>0</td>\n",
              "      <td>0</td>\n",
              "      <td>0</td>\n",
              "      <td>0</td>\n",
              "      <td>0</td>\n",
              "      <td>0</td>\n",
              "      <td>0</td>\n",
              "      <td>0</td>\n",
              "      <td>0</td>\n",
              "      <td>0</td>\n",
              "      <td>0</td>\n",
              "      <td>0</td>\n",
              "      <td>0</td>\n",
              "      <td>0</td>\n",
              "      <td>0</td>\n",
              "      <td>0</td>\n",
              "      <td>0</td>\n",
              "      <td>0</td>\n",
              "      <td>0</td>\n",
              "      <td>0</td>\n",
              "      <td>0</td>\n",
              "      <td>0</td>\n",
              "      <td>0</td>\n",
              "      <td>0</td>\n",
              "      <td>0</td>\n",
              "      <td>0</td>\n",
              "      <td>0</td>\n",
              "      <td>0</td>\n",
              "      <td>0</td>\n",
              "      <td>0</td>\n",
              "      <td>0</td>\n",
              "      <td>0</td>\n",
              "      <td>0</td>\n",
              "      <td>0</td>\n",
              "      <td>0</td>\n",
              "      <td>0</td>\n",
              "      <td>0</td>\n",
              "      <td>0</td>\n",
              "      <td>0</td>\n",
              "      <td>0</td>\n",
              "    </tr>\n",
              "    <tr>\n",
              "      <th>2</th>\n",
              "      <td>0</td>\n",
              "      <td>0</td>\n",
              "      <td>0</td>\n",
              "      <td>0</td>\n",
              "      <td>0</td>\n",
              "      <td>0</td>\n",
              "      <td>0</td>\n",
              "      <td>0</td>\n",
              "      <td>0</td>\n",
              "      <td>0</td>\n",
              "      <td>0</td>\n",
              "      <td>0</td>\n",
              "      <td>0</td>\n",
              "      <td>0</td>\n",
              "      <td>0</td>\n",
              "      <td>0</td>\n",
              "      <td>0</td>\n",
              "      <td>0</td>\n",
              "      <td>0</td>\n",
              "      <td>0</td>\n",
              "      <td>0</td>\n",
              "      <td>0</td>\n",
              "      <td>0</td>\n",
              "      <td>0</td>\n",
              "      <td>0</td>\n",
              "      <td>0</td>\n",
              "      <td>0</td>\n",
              "      <td>0</td>\n",
              "      <td>0</td>\n",
              "      <td>0</td>\n",
              "      <td>0</td>\n",
              "      <td>0</td>\n",
              "      <td>0</td>\n",
              "      <td>0</td>\n",
              "      <td>0</td>\n",
              "      <td>0</td>\n",
              "      <td>0</td>\n",
              "      <td>0</td>\n",
              "      <td>0</td>\n",
              "      <td>0</td>\n",
              "      <td>...</td>\n",
              "      <td>0</td>\n",
              "      <td>0</td>\n",
              "      <td>0</td>\n",
              "      <td>0</td>\n",
              "      <td>0</td>\n",
              "      <td>0</td>\n",
              "      <td>0</td>\n",
              "      <td>0</td>\n",
              "      <td>0</td>\n",
              "      <td>0</td>\n",
              "      <td>0</td>\n",
              "      <td>0</td>\n",
              "      <td>0</td>\n",
              "      <td>0</td>\n",
              "      <td>0</td>\n",
              "      <td>0</td>\n",
              "      <td>0</td>\n",
              "      <td>0</td>\n",
              "      <td>0</td>\n",
              "      <td>0</td>\n",
              "      <td>0</td>\n",
              "      <td>0</td>\n",
              "      <td>0</td>\n",
              "      <td>0</td>\n",
              "      <td>0</td>\n",
              "      <td>0</td>\n",
              "      <td>0</td>\n",
              "      <td>0</td>\n",
              "      <td>0</td>\n",
              "      <td>0</td>\n",
              "      <td>0</td>\n",
              "      <td>0</td>\n",
              "      <td>0</td>\n",
              "      <td>0</td>\n",
              "      <td>0</td>\n",
              "      <td>0</td>\n",
              "      <td>0</td>\n",
              "      <td>0</td>\n",
              "      <td>0</td>\n",
              "      <td>0</td>\n",
              "    </tr>\n",
              "    <tr>\n",
              "      <th>3</th>\n",
              "      <td>0</td>\n",
              "      <td>0</td>\n",
              "      <td>0</td>\n",
              "      <td>0</td>\n",
              "      <td>0</td>\n",
              "      <td>0</td>\n",
              "      <td>0</td>\n",
              "      <td>0</td>\n",
              "      <td>0</td>\n",
              "      <td>0</td>\n",
              "      <td>0</td>\n",
              "      <td>0</td>\n",
              "      <td>0</td>\n",
              "      <td>0</td>\n",
              "      <td>0</td>\n",
              "      <td>0</td>\n",
              "      <td>0</td>\n",
              "      <td>0</td>\n",
              "      <td>0</td>\n",
              "      <td>0</td>\n",
              "      <td>0</td>\n",
              "      <td>0</td>\n",
              "      <td>0</td>\n",
              "      <td>0</td>\n",
              "      <td>0</td>\n",
              "      <td>0</td>\n",
              "      <td>0</td>\n",
              "      <td>0</td>\n",
              "      <td>0</td>\n",
              "      <td>0</td>\n",
              "      <td>0</td>\n",
              "      <td>0</td>\n",
              "      <td>0</td>\n",
              "      <td>0</td>\n",
              "      <td>0</td>\n",
              "      <td>0</td>\n",
              "      <td>0</td>\n",
              "      <td>0</td>\n",
              "      <td>0</td>\n",
              "      <td>0</td>\n",
              "      <td>...</td>\n",
              "      <td>0</td>\n",
              "      <td>0</td>\n",
              "      <td>0</td>\n",
              "      <td>0</td>\n",
              "      <td>0</td>\n",
              "      <td>0</td>\n",
              "      <td>0</td>\n",
              "      <td>0</td>\n",
              "      <td>0</td>\n",
              "      <td>0</td>\n",
              "      <td>0</td>\n",
              "      <td>0</td>\n",
              "      <td>0</td>\n",
              "      <td>0</td>\n",
              "      <td>0</td>\n",
              "      <td>0</td>\n",
              "      <td>0</td>\n",
              "      <td>0</td>\n",
              "      <td>0</td>\n",
              "      <td>0</td>\n",
              "      <td>0</td>\n",
              "      <td>0</td>\n",
              "      <td>0</td>\n",
              "      <td>0</td>\n",
              "      <td>0</td>\n",
              "      <td>0</td>\n",
              "      <td>0</td>\n",
              "      <td>0</td>\n",
              "      <td>0</td>\n",
              "      <td>0</td>\n",
              "      <td>0</td>\n",
              "      <td>0</td>\n",
              "      <td>0</td>\n",
              "      <td>0</td>\n",
              "      <td>0</td>\n",
              "      <td>0</td>\n",
              "      <td>0</td>\n",
              "      <td>0</td>\n",
              "      <td>0</td>\n",
              "      <td>0</td>\n",
              "    </tr>\n",
              "    <tr>\n",
              "      <th>4</th>\n",
              "      <td>0</td>\n",
              "      <td>0</td>\n",
              "      <td>0</td>\n",
              "      <td>0</td>\n",
              "      <td>0</td>\n",
              "      <td>0</td>\n",
              "      <td>0</td>\n",
              "      <td>0</td>\n",
              "      <td>0</td>\n",
              "      <td>0</td>\n",
              "      <td>0</td>\n",
              "      <td>0</td>\n",
              "      <td>0</td>\n",
              "      <td>0</td>\n",
              "      <td>0</td>\n",
              "      <td>0</td>\n",
              "      <td>0</td>\n",
              "      <td>0</td>\n",
              "      <td>0</td>\n",
              "      <td>0</td>\n",
              "      <td>0</td>\n",
              "      <td>0</td>\n",
              "      <td>0</td>\n",
              "      <td>0</td>\n",
              "      <td>0</td>\n",
              "      <td>0</td>\n",
              "      <td>0</td>\n",
              "      <td>0</td>\n",
              "      <td>0</td>\n",
              "      <td>0</td>\n",
              "      <td>0</td>\n",
              "      <td>0</td>\n",
              "      <td>0</td>\n",
              "      <td>0</td>\n",
              "      <td>0</td>\n",
              "      <td>0</td>\n",
              "      <td>0</td>\n",
              "      <td>0</td>\n",
              "      <td>0</td>\n",
              "      <td>0</td>\n",
              "      <td>...</td>\n",
              "      <td>0</td>\n",
              "      <td>0</td>\n",
              "      <td>0</td>\n",
              "      <td>0</td>\n",
              "      <td>0</td>\n",
              "      <td>0</td>\n",
              "      <td>0</td>\n",
              "      <td>0</td>\n",
              "      <td>0</td>\n",
              "      <td>0</td>\n",
              "      <td>0</td>\n",
              "      <td>0</td>\n",
              "      <td>0</td>\n",
              "      <td>0</td>\n",
              "      <td>0</td>\n",
              "      <td>0</td>\n",
              "      <td>0</td>\n",
              "      <td>0</td>\n",
              "      <td>0</td>\n",
              "      <td>0</td>\n",
              "      <td>0</td>\n",
              "      <td>0</td>\n",
              "      <td>0</td>\n",
              "      <td>0</td>\n",
              "      <td>0</td>\n",
              "      <td>0</td>\n",
              "      <td>0</td>\n",
              "      <td>0</td>\n",
              "      <td>0</td>\n",
              "      <td>0</td>\n",
              "      <td>0</td>\n",
              "      <td>0</td>\n",
              "      <td>0</td>\n",
              "      <td>0</td>\n",
              "      <td>0</td>\n",
              "      <td>0</td>\n",
              "      <td>0</td>\n",
              "      <td>0</td>\n",
              "      <td>0</td>\n",
              "      <td>0</td>\n",
              "    </tr>\n",
              "    <tr>\n",
              "      <th>...</th>\n",
              "      <td>...</td>\n",
              "      <td>...</td>\n",
              "      <td>...</td>\n",
              "      <td>...</td>\n",
              "      <td>...</td>\n",
              "      <td>...</td>\n",
              "      <td>...</td>\n",
              "      <td>...</td>\n",
              "      <td>...</td>\n",
              "      <td>...</td>\n",
              "      <td>...</td>\n",
              "      <td>...</td>\n",
              "      <td>...</td>\n",
              "      <td>...</td>\n",
              "      <td>...</td>\n",
              "      <td>...</td>\n",
              "      <td>...</td>\n",
              "      <td>...</td>\n",
              "      <td>...</td>\n",
              "      <td>...</td>\n",
              "      <td>...</td>\n",
              "      <td>...</td>\n",
              "      <td>...</td>\n",
              "      <td>...</td>\n",
              "      <td>...</td>\n",
              "      <td>...</td>\n",
              "      <td>...</td>\n",
              "      <td>...</td>\n",
              "      <td>...</td>\n",
              "      <td>...</td>\n",
              "      <td>...</td>\n",
              "      <td>...</td>\n",
              "      <td>...</td>\n",
              "      <td>...</td>\n",
              "      <td>...</td>\n",
              "      <td>...</td>\n",
              "      <td>...</td>\n",
              "      <td>...</td>\n",
              "      <td>...</td>\n",
              "      <td>...</td>\n",
              "      <td>...</td>\n",
              "      <td>...</td>\n",
              "      <td>...</td>\n",
              "      <td>...</td>\n",
              "      <td>...</td>\n",
              "      <td>...</td>\n",
              "      <td>...</td>\n",
              "      <td>...</td>\n",
              "      <td>...</td>\n",
              "      <td>...</td>\n",
              "      <td>...</td>\n",
              "      <td>...</td>\n",
              "      <td>...</td>\n",
              "      <td>...</td>\n",
              "      <td>...</td>\n",
              "      <td>...</td>\n",
              "      <td>...</td>\n",
              "      <td>...</td>\n",
              "      <td>...</td>\n",
              "      <td>...</td>\n",
              "      <td>...</td>\n",
              "      <td>...</td>\n",
              "      <td>...</td>\n",
              "      <td>...</td>\n",
              "      <td>...</td>\n",
              "      <td>...</td>\n",
              "      <td>...</td>\n",
              "      <td>...</td>\n",
              "      <td>...</td>\n",
              "      <td>...</td>\n",
              "      <td>...</td>\n",
              "      <td>...</td>\n",
              "      <td>...</td>\n",
              "      <td>...</td>\n",
              "      <td>...</td>\n",
              "      <td>...</td>\n",
              "      <td>...</td>\n",
              "      <td>...</td>\n",
              "      <td>...</td>\n",
              "      <td>...</td>\n",
              "      <td>...</td>\n",
              "    </tr>\n",
              "    <tr>\n",
              "      <th>1280</th>\n",
              "      <td>0</td>\n",
              "      <td>0</td>\n",
              "      <td>0</td>\n",
              "      <td>0</td>\n",
              "      <td>0</td>\n",
              "      <td>0</td>\n",
              "      <td>0</td>\n",
              "      <td>0</td>\n",
              "      <td>0</td>\n",
              "      <td>0</td>\n",
              "      <td>0</td>\n",
              "      <td>0</td>\n",
              "      <td>0</td>\n",
              "      <td>0</td>\n",
              "      <td>0</td>\n",
              "      <td>0</td>\n",
              "      <td>0</td>\n",
              "      <td>0</td>\n",
              "      <td>0</td>\n",
              "      <td>0</td>\n",
              "      <td>0</td>\n",
              "      <td>0</td>\n",
              "      <td>0</td>\n",
              "      <td>0</td>\n",
              "      <td>0</td>\n",
              "      <td>0</td>\n",
              "      <td>0</td>\n",
              "      <td>0</td>\n",
              "      <td>0</td>\n",
              "      <td>0</td>\n",
              "      <td>0</td>\n",
              "      <td>0</td>\n",
              "      <td>0</td>\n",
              "      <td>0</td>\n",
              "      <td>0</td>\n",
              "      <td>0</td>\n",
              "      <td>0</td>\n",
              "      <td>0</td>\n",
              "      <td>0</td>\n",
              "      <td>0</td>\n",
              "      <td>...</td>\n",
              "      <td>0</td>\n",
              "      <td>0</td>\n",
              "      <td>0</td>\n",
              "      <td>0</td>\n",
              "      <td>0</td>\n",
              "      <td>0</td>\n",
              "      <td>0</td>\n",
              "      <td>0</td>\n",
              "      <td>0</td>\n",
              "      <td>0</td>\n",
              "      <td>0</td>\n",
              "      <td>0</td>\n",
              "      <td>0</td>\n",
              "      <td>0</td>\n",
              "      <td>0</td>\n",
              "      <td>0</td>\n",
              "      <td>0</td>\n",
              "      <td>0</td>\n",
              "      <td>0</td>\n",
              "      <td>0</td>\n",
              "      <td>0</td>\n",
              "      <td>0</td>\n",
              "      <td>0</td>\n",
              "      <td>0</td>\n",
              "      <td>0</td>\n",
              "      <td>0</td>\n",
              "      <td>0</td>\n",
              "      <td>0</td>\n",
              "      <td>0</td>\n",
              "      <td>0</td>\n",
              "      <td>0</td>\n",
              "      <td>0</td>\n",
              "      <td>0</td>\n",
              "      <td>0</td>\n",
              "      <td>0</td>\n",
              "      <td>0</td>\n",
              "      <td>0</td>\n",
              "      <td>0</td>\n",
              "      <td>0</td>\n",
              "      <td>0</td>\n",
              "    </tr>\n",
              "    <tr>\n",
              "      <th>1281</th>\n",
              "      <td>1</td>\n",
              "      <td>0</td>\n",
              "      <td>1</td>\n",
              "      <td>0</td>\n",
              "      <td>0</td>\n",
              "      <td>0</td>\n",
              "      <td>0</td>\n",
              "      <td>0</td>\n",
              "      <td>0</td>\n",
              "      <td>0</td>\n",
              "      <td>0</td>\n",
              "      <td>0</td>\n",
              "      <td>0</td>\n",
              "      <td>0</td>\n",
              "      <td>0</td>\n",
              "      <td>0</td>\n",
              "      <td>0</td>\n",
              "      <td>0</td>\n",
              "      <td>0</td>\n",
              "      <td>0</td>\n",
              "      <td>0</td>\n",
              "      <td>0</td>\n",
              "      <td>0</td>\n",
              "      <td>0</td>\n",
              "      <td>0</td>\n",
              "      <td>0</td>\n",
              "      <td>0</td>\n",
              "      <td>0</td>\n",
              "      <td>0</td>\n",
              "      <td>0</td>\n",
              "      <td>0</td>\n",
              "      <td>0</td>\n",
              "      <td>0</td>\n",
              "      <td>0</td>\n",
              "      <td>0</td>\n",
              "      <td>0</td>\n",
              "      <td>0</td>\n",
              "      <td>0</td>\n",
              "      <td>0</td>\n",
              "      <td>0</td>\n",
              "      <td>...</td>\n",
              "      <td>0</td>\n",
              "      <td>0</td>\n",
              "      <td>0</td>\n",
              "      <td>0</td>\n",
              "      <td>0</td>\n",
              "      <td>0</td>\n",
              "      <td>0</td>\n",
              "      <td>0</td>\n",
              "      <td>0</td>\n",
              "      <td>0</td>\n",
              "      <td>0</td>\n",
              "      <td>0</td>\n",
              "      <td>0</td>\n",
              "      <td>0</td>\n",
              "      <td>0</td>\n",
              "      <td>0</td>\n",
              "      <td>0</td>\n",
              "      <td>0</td>\n",
              "      <td>0</td>\n",
              "      <td>0</td>\n",
              "      <td>0</td>\n",
              "      <td>0</td>\n",
              "      <td>0</td>\n",
              "      <td>0</td>\n",
              "      <td>0</td>\n",
              "      <td>0</td>\n",
              "      <td>0</td>\n",
              "      <td>0</td>\n",
              "      <td>0</td>\n",
              "      <td>0</td>\n",
              "      <td>0</td>\n",
              "      <td>0</td>\n",
              "      <td>0</td>\n",
              "      <td>0</td>\n",
              "      <td>0</td>\n",
              "      <td>0</td>\n",
              "      <td>0</td>\n",
              "      <td>0</td>\n",
              "      <td>0</td>\n",
              "      <td>0</td>\n",
              "    </tr>\n",
              "    <tr>\n",
              "      <th>1282</th>\n",
              "      <td>0</td>\n",
              "      <td>0</td>\n",
              "      <td>0</td>\n",
              "      <td>0</td>\n",
              "      <td>0</td>\n",
              "      <td>0</td>\n",
              "      <td>0</td>\n",
              "      <td>0</td>\n",
              "      <td>0</td>\n",
              "      <td>0</td>\n",
              "      <td>0</td>\n",
              "      <td>0</td>\n",
              "      <td>0</td>\n",
              "      <td>0</td>\n",
              "      <td>0</td>\n",
              "      <td>0</td>\n",
              "      <td>0</td>\n",
              "      <td>0</td>\n",
              "      <td>0</td>\n",
              "      <td>0</td>\n",
              "      <td>0</td>\n",
              "      <td>0</td>\n",
              "      <td>0</td>\n",
              "      <td>0</td>\n",
              "      <td>0</td>\n",
              "      <td>0</td>\n",
              "      <td>0</td>\n",
              "      <td>0</td>\n",
              "      <td>0</td>\n",
              "      <td>0</td>\n",
              "      <td>0</td>\n",
              "      <td>0</td>\n",
              "      <td>0</td>\n",
              "      <td>0</td>\n",
              "      <td>0</td>\n",
              "      <td>0</td>\n",
              "      <td>0</td>\n",
              "      <td>0</td>\n",
              "      <td>0</td>\n",
              "      <td>0</td>\n",
              "      <td>...</td>\n",
              "      <td>0</td>\n",
              "      <td>0</td>\n",
              "      <td>0</td>\n",
              "      <td>0</td>\n",
              "      <td>0</td>\n",
              "      <td>0</td>\n",
              "      <td>0</td>\n",
              "      <td>0</td>\n",
              "      <td>0</td>\n",
              "      <td>0</td>\n",
              "      <td>0</td>\n",
              "      <td>0</td>\n",
              "      <td>0</td>\n",
              "      <td>0</td>\n",
              "      <td>0</td>\n",
              "      <td>0</td>\n",
              "      <td>0</td>\n",
              "      <td>0</td>\n",
              "      <td>0</td>\n",
              "      <td>0</td>\n",
              "      <td>0</td>\n",
              "      <td>0</td>\n",
              "      <td>0</td>\n",
              "      <td>0</td>\n",
              "      <td>0</td>\n",
              "      <td>0</td>\n",
              "      <td>0</td>\n",
              "      <td>0</td>\n",
              "      <td>0</td>\n",
              "      <td>0</td>\n",
              "      <td>0</td>\n",
              "      <td>0</td>\n",
              "      <td>0</td>\n",
              "      <td>0</td>\n",
              "      <td>0</td>\n",
              "      <td>0</td>\n",
              "      <td>0</td>\n",
              "      <td>0</td>\n",
              "      <td>0</td>\n",
              "      <td>0</td>\n",
              "    </tr>\n",
              "    <tr>\n",
              "      <th>1283</th>\n",
              "      <td>0</td>\n",
              "      <td>0</td>\n",
              "      <td>0</td>\n",
              "      <td>0</td>\n",
              "      <td>0</td>\n",
              "      <td>0</td>\n",
              "      <td>0</td>\n",
              "      <td>0</td>\n",
              "      <td>0</td>\n",
              "      <td>0</td>\n",
              "      <td>0</td>\n",
              "      <td>0</td>\n",
              "      <td>0</td>\n",
              "      <td>0</td>\n",
              "      <td>0</td>\n",
              "      <td>0</td>\n",
              "      <td>0</td>\n",
              "      <td>0</td>\n",
              "      <td>0</td>\n",
              "      <td>0</td>\n",
              "      <td>0</td>\n",
              "      <td>0</td>\n",
              "      <td>0</td>\n",
              "      <td>0</td>\n",
              "      <td>0</td>\n",
              "      <td>0</td>\n",
              "      <td>0</td>\n",
              "      <td>0</td>\n",
              "      <td>0</td>\n",
              "      <td>0</td>\n",
              "      <td>0</td>\n",
              "      <td>0</td>\n",
              "      <td>0</td>\n",
              "      <td>0</td>\n",
              "      <td>0</td>\n",
              "      <td>0</td>\n",
              "      <td>0</td>\n",
              "      <td>0</td>\n",
              "      <td>0</td>\n",
              "      <td>0</td>\n",
              "      <td>...</td>\n",
              "      <td>0</td>\n",
              "      <td>0</td>\n",
              "      <td>0</td>\n",
              "      <td>0</td>\n",
              "      <td>0</td>\n",
              "      <td>0</td>\n",
              "      <td>0</td>\n",
              "      <td>0</td>\n",
              "      <td>0</td>\n",
              "      <td>0</td>\n",
              "      <td>0</td>\n",
              "      <td>0</td>\n",
              "      <td>0</td>\n",
              "      <td>0</td>\n",
              "      <td>0</td>\n",
              "      <td>0</td>\n",
              "      <td>0</td>\n",
              "      <td>0</td>\n",
              "      <td>0</td>\n",
              "      <td>0</td>\n",
              "      <td>0</td>\n",
              "      <td>0</td>\n",
              "      <td>0</td>\n",
              "      <td>0</td>\n",
              "      <td>0</td>\n",
              "      <td>0</td>\n",
              "      <td>0</td>\n",
              "      <td>0</td>\n",
              "      <td>0</td>\n",
              "      <td>0</td>\n",
              "      <td>0</td>\n",
              "      <td>0</td>\n",
              "      <td>0</td>\n",
              "      <td>0</td>\n",
              "      <td>0</td>\n",
              "      <td>0</td>\n",
              "      <td>0</td>\n",
              "      <td>0</td>\n",
              "      <td>0</td>\n",
              "      <td>0</td>\n",
              "    </tr>\n",
              "    <tr>\n",
              "      <th>1284</th>\n",
              "      <td>0</td>\n",
              "      <td>0</td>\n",
              "      <td>0</td>\n",
              "      <td>0</td>\n",
              "      <td>0</td>\n",
              "      <td>0</td>\n",
              "      <td>0</td>\n",
              "      <td>0</td>\n",
              "      <td>0</td>\n",
              "      <td>0</td>\n",
              "      <td>0</td>\n",
              "      <td>0</td>\n",
              "      <td>0</td>\n",
              "      <td>0</td>\n",
              "      <td>0</td>\n",
              "      <td>0</td>\n",
              "      <td>0</td>\n",
              "      <td>0</td>\n",
              "      <td>0</td>\n",
              "      <td>0</td>\n",
              "      <td>0</td>\n",
              "      <td>0</td>\n",
              "      <td>0</td>\n",
              "      <td>0</td>\n",
              "      <td>0</td>\n",
              "      <td>0</td>\n",
              "      <td>0</td>\n",
              "      <td>0</td>\n",
              "      <td>0</td>\n",
              "      <td>0</td>\n",
              "      <td>0</td>\n",
              "      <td>0</td>\n",
              "      <td>0</td>\n",
              "      <td>0</td>\n",
              "      <td>0</td>\n",
              "      <td>0</td>\n",
              "      <td>0</td>\n",
              "      <td>0</td>\n",
              "      <td>0</td>\n",
              "      <td>0</td>\n",
              "      <td>...</td>\n",
              "      <td>0</td>\n",
              "      <td>0</td>\n",
              "      <td>0</td>\n",
              "      <td>0</td>\n",
              "      <td>0</td>\n",
              "      <td>0</td>\n",
              "      <td>0</td>\n",
              "      <td>0</td>\n",
              "      <td>0</td>\n",
              "      <td>0</td>\n",
              "      <td>0</td>\n",
              "      <td>0</td>\n",
              "      <td>0</td>\n",
              "      <td>0</td>\n",
              "      <td>0</td>\n",
              "      <td>0</td>\n",
              "      <td>0</td>\n",
              "      <td>0</td>\n",
              "      <td>0</td>\n",
              "      <td>0</td>\n",
              "      <td>0</td>\n",
              "      <td>0</td>\n",
              "      <td>0</td>\n",
              "      <td>0</td>\n",
              "      <td>0</td>\n",
              "      <td>0</td>\n",
              "      <td>0</td>\n",
              "      <td>0</td>\n",
              "      <td>0</td>\n",
              "      <td>0</td>\n",
              "      <td>0</td>\n",
              "      <td>0</td>\n",
              "      <td>0</td>\n",
              "      <td>0</td>\n",
              "      <td>0</td>\n",
              "      <td>0</td>\n",
              "      <td>0</td>\n",
              "      <td>0</td>\n",
              "      <td>0</td>\n",
              "      <td>0</td>\n",
              "    </tr>\n",
              "  </tbody>\n",
              "</table>\n",
              "<p>1285 rows × 333924 columns</p>\n",
              "</div>"
            ],
            "text/plain": [
              "      !  ! !  ! ''  ! (  ...  �ǣmortal  �ǣmortal instruments���  ��wors  ��wors ,\n",
              "0     0    0     0    0  ...         0                        0       0         0\n",
              "1     0    0     0    0  ...         0                        0       0         0\n",
              "2     0    0     0    0  ...         0                        0       0         0\n",
              "3     0    0     0    0  ...         0                        0       0         0\n",
              "4     0    0     0    0  ...         0                        0       0         0\n",
              "...  ..  ...   ...  ...  ...       ...                      ...     ...       ...\n",
              "1280  0    0     0    0  ...         0                        0       0         0\n",
              "1281  1    0     1    0  ...         0                        0       0         0\n",
              "1282  0    0     0    0  ...         0                        0       0         0\n",
              "1283  0    0     0    0  ...         0                        0       0         0\n",
              "1284  0    0     0    0  ...         0                        0       0         0\n",
              "\n",
              "[1285 rows x 333924 columns]"
            ]
          },
          "metadata": {},
          "execution_count": 9
        }
      ]
    },
    {
      "cell_type": "code",
      "metadata": {
        "colab": {
          "base_uri": "https://localhost:8080/"
        },
        "id": "1nZVCeiJC5eA",
        "outputId": "4c591025-8841-40b1-8257-6cda88a8046d"
      },
      "source": [
        "print(bog.get_feature_names())"
      ],
      "execution_count": 10,
      "outputs": [
        {
          "output_type": "stream",
          "name": "stderr",
          "text": [
            "/usr/local/lib/python3.7/dist-packages/sklearn/utils/deprecation.py:87: FutureWarning: Function get_feature_names is deprecated; get_feature_names is deprecated in 1.0 and will be removed in 1.2. Please use get_feature_names_out instead.\n",
            "  warnings.warn(msg, category=FutureWarning)\n",
            "IOPub data rate exceeded.\n",
            "The notebook server will temporarily stop sending output\n",
            "to the client in order to avoid crashing it.\n",
            "To change this limit, set the config variable\n",
            "`--NotebookApp.iopub_data_rate_limit`.\n",
            "\n",
            "Current values:\n",
            "NotebookApp.iopub_data_rate_limit=1000000.0 (bytes/sec)\n",
            "NotebookApp.rate_limit_window=3.0 (secs)\n",
            "\n"
          ]
        }
      ]
    },
    {
      "cell_type": "code",
      "metadata": {
        "colab": {
          "base_uri": "https://localhost:8080/"
        },
        "id": "gL9WsOaAwo-s",
        "outputId": "fd022452-5101-4867-a0fc-415f561c58d7"
      },
      "source": [
        "from sklearn.preprocessing import MinMaxScaler\n",
        "\n",
        "atributos_de_interes = ['intelligence_score', 'strength_score', 'speed_score', 'durability_score', 'power_score', 'combat_score']\n",
        "scaler = MinMaxScaler()\n",
        "scaler.fit(df_comics[atributos_de_interes])\n",
        "scaler.transform(df_comics[atributos_de_interes])"
      ],
      "execution_count": 11,
      "outputs": [
        {
          "output_type": "execute_result",
          "data": {
            "text/plain": [
              "array([[0.85, 0.3 , 0.6 , 0.6 , 0.4 , 0.7 ],\n",
              "       [0.8 , 1.  , 0.8 , 1.  , 1.  , 0.8 ],\n",
              "       [0.8 , 0.5 , 0.55, 0.45, 1.  , 0.55],\n",
              "       ...,\n",
              "       [0.95, 0.5 , 1.  , 0.75, 1.  , 0.8 ],\n",
              "       [0.75, 0.1 , 1.  , 0.3 , 1.  , 0.3 ],\n",
              "       [0.45, 0.8 , 0.75, 0.95, 0.8 , 0.5 ]])"
            ]
          },
          "metadata": {},
          "execution_count": 11
        }
      ]
    },
    {
      "cell_type": "code",
      "metadata": {
        "colab": {
          "base_uri": "https://localhost:8080/"
        },
        "id": "WseNG-CEwqaZ",
        "outputId": "4736bbec-7ccd-49dd-cda8-727dbf5da369"
      },
      "source": [
        "ColumnTransformer(transformers=[(\n",
        "    'df', CountVectorizer(tokenizer=StemmerTokenizer(), \n",
        "                          lowercase=True, \n",
        "                          max_features=10000, \n",
        "                          ngram_range=(1, 2)), 'history_text'),\n",
        "                          ('scaler', MinMaxScaler(), ['intelligence_score', 'strength_score', 'speed_score', 'durability_score', 'power_score', 'combat_score'])])"
      ],
      "execution_count": 12,
      "outputs": [
        {
          "output_type": "execute_result",
          "data": {
            "text/plain": [
              "ColumnTransformer(transformers=[('df',\n",
              "                                 CountVectorizer(max_features=10000,\n",
              "                                                 ngram_range=(1, 2),\n",
              "                                                 tokenizer=<__main__.StemmerTokenizer object at 0x7f7c17680550>),\n",
              "                                 'history_text'),\n",
              "                                ('scaler', MinMaxScaler(),\n",
              "                                 ['intelligence_score', 'strength_score',\n",
              "                                  'speed_score', 'durability_score',\n",
              "                                  'power_score', 'combat_score'])])"
            ]
          },
          "metadata": {},
          "execution_count": 12
        }
      ]
    },
    {
      "cell_type": "markdown",
      "metadata": {
        "id": "stHncQ-A-j4I",
        "cell_id": "00029-0baf6cdb-9550-4717-87db-9f9900d5b276",
        "deepnote_cell_type": "markdown"
      },
      "source": [
        "## 1.2 Diseño de Baseline y  Primer Entrenamiento  [1 Puntos]\n",
        "\n",
        "\n",
        "<p align=\"center\">\n",
        "  <img src=\"https://pa1.narvii.com/6374/9eaec1b7bf9157334151452a669516f9a78b954c_hq.gif\" width=\"300\">\n",
        "</p>\n"
      ]
    },
    {
      "cell_type": "markdown",
      "metadata": {
        "id": "NeMiptpQ_EWb",
        "cell_id": "00030-1452da19-1559-4b8b-8b73-a134157c0656",
        "deepnote_cell_type": "markdown"
      },
      "source": [
        "Genere un Pipeline con las caracteristicas solicitadas en la sección 1.1, un selector de mejores features `SelectPercentile` con métrica `f_classif` y percentile=90 y un clasificador `MultinomialNB()` por defecto.\n",
        "\n",
        "Luego, separe el conjunto de datos en un conjunto de entrenamiento y prueba, donde las etiquetas estará dado por el atributo `alignment`. \n",
        "\n",
        "Finalmente entrene el modelo y reporte el desempeño con un `classification_report`. ¿ Nos recomendaría predecir la alineación de BatCow con este clasificador?.\n",
        "\n",
        "**To-DO:**\n",
        "- [ ] Realizar un pipeline con las caracteristicas solicitadas en 1.1 y aplicar un clasificador  `MultinomialNB()`.\n",
        "- [ ] Entrenar el pipeline y comentar los resultados."
      ]
    },
    {
      "cell_type": "markdown",
      "metadata": {
        "tags": [],
        "cell_id": "00029-34f1be30-f2df-45ac-aa14-8e05dc678be9",
        "deepnote_cell_type": "markdown",
        "id": "hYg8RgSchKUv"
      },
      "source": [
        "**Respuesta:**"
      ]
    },
    {
      "cell_type": "code",
      "metadata": {
        "id": "_hHpPDooPafy",
        "cell_id": "00031-92f07569-b6ee-48af-be9e-70cd05cb9e5e",
        "deepnote_cell_type": "code"
      },
      "source": [
        "X = df_comics[['history_text','intelligence_score', 'strength_score', 'speed_score', 'durability_score', 'power_score', 'combat_score']]\n",
        "y = df_comics['alignment']"
      ],
      "execution_count": 13,
      "outputs": []
    },
    {
      "cell_type": "code",
      "metadata": {
        "id": "zeAGZEclEB7p"
      },
      "source": [
        "X_train, X_test, y_train, y_test = train_test_split(X, y,test_size=0.30, random_state=90)"
      ],
      "execution_count": 14,
      "outputs": []
    },
    {
      "cell_type": "code",
      "metadata": {
        "id": "TBH4jEl5y1d_"
      },
      "source": [
        "#CLASE\n",
        "\n",
        "from sklearn.preprocessing import OneHotEncoder, MinMaxScaler\n",
        "from sklearn.tree import DecisionTreeClassifier\n",
        "from sklearn.pipeline import Pipeline\n",
        "from sklearn.compose import ColumnTransformer\n",
        "\n",
        "preprocessing = ColumnTransformer(\n",
        "                     transformers=[\n",
        "                    ('df', CountVectorizer(\n",
        "                    tokenizer=StemmerTokenizer(),\n",
        "                    lowercase=True,  # Transformamos todo a minúsuculas.\n",
        "                    max_features=10000,  # Dejamos solo las 10000 palabras más frecuentes,\n",
        "                    ngram_range=(1, 2)\n",
        "                    ), \n",
        "                    'history_text'),\n",
        "                    ('scaler', MinMaxScaler(), \n",
        "                    ['intelligence_score', 'strength_score', 'speed_score', 'durability_score', 'power_score', 'combat_score'])\n",
        "                  ]\n",
        ")"
      ],
      "execution_count": 54,
      "outputs": []
    },
    {
      "cell_type": "code",
      "metadata": {
        "id": "HXbiHVnL1ML_"
      },
      "source": [
        "import numpy as np\n",
        "import pandas as pd\n",
        "import plotly.express as px\n",
        "from sklearn.compose import ColumnTransformer\n",
        "from sklearn.metrics import classification_report, confusion_matrix\n",
        "from sklearn.neighbors import KNeighborsClassifier\n",
        "from sklearn.pipeline import Pipeline\n",
        "from sklearn.preprocessing import MinMaxScaler, OneHotEncoder, StandardScaler\n"
      ],
      "execution_count": 53,
      "outputs": []
    },
    {
      "cell_type": "code",
      "metadata": {
        "id": "ftFWQK9Py1nP"
      },
      "source": [
        "#CLASE\n",
        "\n",
        "from sklearn.feature_selection import (\n",
        "    SelectKBest,\n",
        "    SelectPercentile,\n",
        "    f_classif,\n",
        "    mutual_info_classif,\n",
        ")\n",
        "\n",
        "# Creamos nuestro baseline pipeline\n",
        "selection_pipeline = Pipeline(steps=[\n",
        "    ('Preprocessing', preprocessing),\n",
        "    ('Selection', SelectPercentile(f_classif, percentile=90)),\n",
        "    ('NB', MultinomialNB()),\n",
        "])"
      ],
      "execution_count": 47,
      "outputs": []
    },
    {
      "cell_type": "code",
      "metadata": {
        "colab": {
          "base_uri": "https://localhost:8080/"
        },
        "id": "-YUOviGzy158",
        "outputId": "78b1f222-0254-4e72-9e1b-ff9f7b7e9a61"
      },
      "source": [
        "selection_pipeline.fit(X_train, y_train)\n",
        "y_pred = selection_pipeline.predict(X_test)\n",
        "print(classification_report(y_test, y_pred))"
      ],
      "execution_count": 48,
      "outputs": [
        {
          "output_type": "stream",
          "name": "stdout",
          "text": [
            "              precision    recall  f1-score   support\n",
            "\n",
            "         Bad       0.54      0.69      0.61       130\n",
            "        Good       0.78      0.70      0.74       230\n",
            "     Neutral       0.21      0.12      0.15        26\n",
            "\n",
            "    accuracy                           0.66       386\n",
            "   macro avg       0.51      0.50      0.50       386\n",
            "weighted avg       0.66      0.66      0.65       386\n",
            "\n"
          ]
        }
      ]
    },
    {
      "cell_type": "code",
      "metadata": {
        "colab": {
          "base_uri": "https://localhost:8080/",
          "height": 318
        },
        "id": "lcMG3KY6phzQ",
        "outputId": "18bbbe70-eccf-44a5-bd38-418823baffc2"
      },
      "source": [
        "df_comics_no_label[df_comics_no_label[\"name\"] == 'Batcow']"
      ],
      "execution_count": 49,
      "outputs": [
        {
          "output_type": "execute_result",
          "data": {
            "text/html": [
              "<div>\n",
              "<style scoped>\n",
              "    .dataframe tbody tr th:only-of-type {\n",
              "        vertical-align: middle;\n",
              "    }\n",
              "\n",
              "    .dataframe tbody tr th {\n",
              "        vertical-align: top;\n",
              "    }\n",
              "\n",
              "    .dataframe thead th {\n",
              "        text-align: right;\n",
              "    }\n",
              "</style>\n",
              "<table border=\"1\" class=\"dataframe\">\n",
              "  <thead>\n",
              "    <tr style=\"text-align: right;\">\n",
              "      <th></th>\n",
              "      <th>name</th>\n",
              "      <th>real_name</th>\n",
              "      <th>full_name</th>\n",
              "      <th>overall_score</th>\n",
              "      <th>history_text</th>\n",
              "      <th>powers_text</th>\n",
              "      <th>intelligence_score</th>\n",
              "      <th>strength_score</th>\n",
              "      <th>speed_score</th>\n",
              "      <th>durability_score</th>\n",
              "      <th>power_score</th>\n",
              "      <th>combat_score</th>\n",
              "      <th>superpowers</th>\n",
              "      <th>alter_egos</th>\n",
              "      <th>aliases</th>\n",
              "      <th>place_of_birth</th>\n",
              "      <th>first_appearance</th>\n",
              "      <th>creator</th>\n",
              "      <th>alignment</th>\n",
              "      <th>occupation</th>\n",
              "      <th>base</th>\n",
              "      <th>teams</th>\n",
              "      <th>relatives</th>\n",
              "      <th>gender</th>\n",
              "      <th>type_race</th>\n",
              "      <th>height</th>\n",
              "      <th>weight</th>\n",
              "      <th>eye_color</th>\n",
              "      <th>hair_color</th>\n",
              "      <th>skin_color</th>\n",
              "      <th>img</th>\n",
              "      <th>has_electrokinesis</th>\n",
              "      <th>has_energy_constructs</th>\n",
              "      <th>has_mind_control_resistance</th>\n",
              "      <th>has_matter_manipulation</th>\n",
              "      <th>has_telepathy_resistance</th>\n",
              "      <th>has_mind_control</th>\n",
              "      <th>has_enhanced_hearing</th>\n",
              "      <th>has_dimensional_travel</th>\n",
              "      <th>has_element_control</th>\n",
              "      <th>...</th>\n",
              "      <th>has_fire_resistance</th>\n",
              "      <th>has_fire_control</th>\n",
              "      <th>has_dexterity</th>\n",
              "      <th>has_reality_warping</th>\n",
              "      <th>has_illusions</th>\n",
              "      <th>has_energy_beams</th>\n",
              "      <th>has_peak_human_condition</th>\n",
              "      <th>has_shapeshifting</th>\n",
              "      <th>has_heat_resistance</th>\n",
              "      <th>has_jump</th>\n",
              "      <th>has_self-sustenance</th>\n",
              "      <th>has_energy_absorption</th>\n",
              "      <th>has_cold_resistance</th>\n",
              "      <th>has_magic</th>\n",
              "      <th>has_telekinesis</th>\n",
              "      <th>has_toxin_and_disease_resistance</th>\n",
              "      <th>has_telepathy</th>\n",
              "      <th>has_regeneration</th>\n",
              "      <th>has_immortality</th>\n",
              "      <th>has_teleportation</th>\n",
              "      <th>has_force_fields</th>\n",
              "      <th>has_energy_manipulation</th>\n",
              "      <th>has_endurance</th>\n",
              "      <th>has_longevity</th>\n",
              "      <th>has_weapon-based_powers</th>\n",
              "      <th>has_energy_blasts</th>\n",
              "      <th>has_enhanced_senses</th>\n",
              "      <th>has_invulnerability</th>\n",
              "      <th>has_stealth</th>\n",
              "      <th>has_marksmanship</th>\n",
              "      <th>has_flight</th>\n",
              "      <th>has_accelerated_healing</th>\n",
              "      <th>has_weapons_master</th>\n",
              "      <th>has_intelligence</th>\n",
              "      <th>has_reflexes</th>\n",
              "      <th>has_super_speed</th>\n",
              "      <th>has_durability</th>\n",
              "      <th>has_stamina</th>\n",
              "      <th>has_agility</th>\n",
              "      <th>has_super_strength</th>\n",
              "    </tr>\n",
              "  </thead>\n",
              "  <tbody>\n",
              "    <tr>\n",
              "      <th>122</th>\n",
              "      <td>Batcow</td>\n",
              "      <td>None</td>\n",
              "      <td>None</td>\n",
              "      <td>3</td>\n",
              "      <td>Bat-Cow was originally a cow that was found by...</td>\n",
              "      <td>NaN</td>\n",
              "      <td>70</td>\n",
              "      <td>10</td>\n",
              "      <td>25</td>\n",
              "      <td>20</td>\n",
              "      <td>10</td>\n",
              "      <td>20</td>\n",
              "      <td>['Animal Attributes', 'Animal Oriented Powers']</td>\n",
              "      <td>['Milkman Man', 'Red Torpedo', 'Red Volcano']</td>\n",
              "      <td>[\"Battlin' Bovine\"]</td>\n",
              "      <td>NaN</td>\n",
              "      <td>NaN</td>\n",
              "      <td>DC Comics</td>\n",
              "      <td>NaN</td>\n",
              "      <td>NaN</td>\n",
              "      <td>Wayne Manor</td>\n",
              "      <td>[]</td>\n",
              "      <td>NaN</td>\n",
              "      <td>NaN</td>\n",
              "      <td>Animal</td>\n",
              "      <td>-</td>\n",
              "      <td>-</td>\n",
              "      <td>NaN</td>\n",
              "      <td>NaN</td>\n",
              "      <td>NaN</td>\n",
              "      <td>/pictures2/portraits/11/050/13425.jpg?v=157425...</td>\n",
              "      <td>0.0</td>\n",
              "      <td>0.0</td>\n",
              "      <td>0.0</td>\n",
              "      <td>0.0</td>\n",
              "      <td>0.0</td>\n",
              "      <td>0.0</td>\n",
              "      <td>0.0</td>\n",
              "      <td>0.0</td>\n",
              "      <td>0.0</td>\n",
              "      <td>...</td>\n",
              "      <td>0.0</td>\n",
              "      <td>0.0</td>\n",
              "      <td>0.0</td>\n",
              "      <td>0.0</td>\n",
              "      <td>0.0</td>\n",
              "      <td>0.0</td>\n",
              "      <td>0.0</td>\n",
              "      <td>0.0</td>\n",
              "      <td>0.0</td>\n",
              "      <td>0.0</td>\n",
              "      <td>0.0</td>\n",
              "      <td>0.0</td>\n",
              "      <td>0.0</td>\n",
              "      <td>0.0</td>\n",
              "      <td>0.0</td>\n",
              "      <td>0.0</td>\n",
              "      <td>0.0</td>\n",
              "      <td>0.0</td>\n",
              "      <td>0.0</td>\n",
              "      <td>0.0</td>\n",
              "      <td>0.0</td>\n",
              "      <td>0.0</td>\n",
              "      <td>0.0</td>\n",
              "      <td>0.0</td>\n",
              "      <td>0.0</td>\n",
              "      <td>0.0</td>\n",
              "      <td>0.0</td>\n",
              "      <td>0.0</td>\n",
              "      <td>0.0</td>\n",
              "      <td>0.0</td>\n",
              "      <td>0.0</td>\n",
              "      <td>0.0</td>\n",
              "      <td>0.0</td>\n",
              "      <td>0.0</td>\n",
              "      <td>0.0</td>\n",
              "      <td>0.0</td>\n",
              "      <td>0.0</td>\n",
              "      <td>0.0</td>\n",
              "      <td>0.0</td>\n",
              "      <td>0.0</td>\n",
              "    </tr>\n",
              "    <tr>\n",
              "      <th>122</th>\n",
              "      <td>Batcow</td>\n",
              "      <td>None</td>\n",
              "      <td>None</td>\n",
              "      <td>3</td>\n",
              "      <td>Bat-Cow was originally a cow that was found by...</td>\n",
              "      <td>NaN</td>\n",
              "      <td>70</td>\n",
              "      <td>10</td>\n",
              "      <td>25</td>\n",
              "      <td>20</td>\n",
              "      <td>10</td>\n",
              "      <td>20</td>\n",
              "      <td>['Animal Attributes', 'Animal Oriented Powers']</td>\n",
              "      <td>['Milkman Man', 'Red Torpedo', 'Red Volcano']</td>\n",
              "      <td>[\"Battlin' Bovine\"]</td>\n",
              "      <td>NaN</td>\n",
              "      <td>NaN</td>\n",
              "      <td>DC Comics</td>\n",
              "      <td>NaN</td>\n",
              "      <td>NaN</td>\n",
              "      <td>Wayne Manor</td>\n",
              "      <td>[]</td>\n",
              "      <td>NaN</td>\n",
              "      <td>NaN</td>\n",
              "      <td>Animal</td>\n",
              "      <td>-</td>\n",
              "      <td>-</td>\n",
              "      <td>NaN</td>\n",
              "      <td>NaN</td>\n",
              "      <td>NaN</td>\n",
              "      <td>/pictures2/portraits/11/050/13425.jpg?v=157425...</td>\n",
              "      <td>0.0</td>\n",
              "      <td>0.0</td>\n",
              "      <td>0.0</td>\n",
              "      <td>0.0</td>\n",
              "      <td>0.0</td>\n",
              "      <td>0.0</td>\n",
              "      <td>0.0</td>\n",
              "      <td>0.0</td>\n",
              "      <td>0.0</td>\n",
              "      <td>...</td>\n",
              "      <td>0.0</td>\n",
              "      <td>0.0</td>\n",
              "      <td>0.0</td>\n",
              "      <td>0.0</td>\n",
              "      <td>0.0</td>\n",
              "      <td>0.0</td>\n",
              "      <td>0.0</td>\n",
              "      <td>0.0</td>\n",
              "      <td>0.0</td>\n",
              "      <td>0.0</td>\n",
              "      <td>0.0</td>\n",
              "      <td>0.0</td>\n",
              "      <td>0.0</td>\n",
              "      <td>0.0</td>\n",
              "      <td>0.0</td>\n",
              "      <td>0.0</td>\n",
              "      <td>0.0</td>\n",
              "      <td>0.0</td>\n",
              "      <td>0.0</td>\n",
              "      <td>0.0</td>\n",
              "      <td>0.0</td>\n",
              "      <td>0.0</td>\n",
              "      <td>0.0</td>\n",
              "      <td>0.0</td>\n",
              "      <td>0.0</td>\n",
              "      <td>0.0</td>\n",
              "      <td>0.0</td>\n",
              "      <td>0.0</td>\n",
              "      <td>0.0</td>\n",
              "      <td>0.0</td>\n",
              "      <td>0.0</td>\n",
              "      <td>0.0</td>\n",
              "      <td>0.0</td>\n",
              "      <td>0.0</td>\n",
              "      <td>0.0</td>\n",
              "      <td>0.0</td>\n",
              "      <td>0.0</td>\n",
              "      <td>0.0</td>\n",
              "      <td>0.0</td>\n",
              "      <td>0.0</td>\n",
              "    </tr>\n",
              "  </tbody>\n",
              "</table>\n",
              "<p>2 rows × 81 columns</p>\n",
              "</div>"
            ],
            "text/plain": [
              "       name real_name full_name  ... has_stamina has_agility has_super_strength\n",
              "122  Batcow      None      None  ...         0.0         0.0                0.0\n",
              "122  Batcow      None      None  ...         0.0         0.0                0.0\n",
              "\n",
              "[2 rows x 81 columns]"
            ]
          },
          "metadata": {},
          "execution_count": 49
        }
      ]
    },
    {
      "cell_type": "code",
      "metadata": {
        "colab": {
          "base_uri": "https://localhost:8080/",
          "height": 36
        },
        "id": "T0VJX1SWqwnX",
        "outputId": "a5544386-df83-4749-c05b-2425eb1a2c61"
      },
      "source": [
        "y_test.iloc[122]"
      ],
      "execution_count": 50,
      "outputs": [
        {
          "output_type": "execute_result",
          "data": {
            "application/vnd.google.colaboratory.intrinsic+json": {
              "type": "string"
            },
            "text/plain": [
              "'Good'"
            ]
          },
          "metadata": {},
          "execution_count": 50
        }
      ]
    },
    {
      "cell_type": "markdown",
      "metadata": {
        "id": "pfm7I2B7_rfB",
        "cell_id": "00035-35040b90-b6b9-4e43-8eff-15b7fa897575",
        "deepnote_cell_type": "markdown"
      },
      "source": [
        "## 1.3 Busqueda del Mejor Modelo con Grid Search [4 Puntos]\n",
        "\n",
        "<p align=\"center\">\n",
        "  <img src=\"https://media1.tenor.com/images/70fdfeea52a8e2e4505498c230a0d2f9/tenor.gif?itemid=5134219\" width=\"250\">\n",
        "</p>"
      ]
    },
    {
      "cell_type": "markdown",
      "metadata": {
        "id": "14siiavzK67p",
        "cell_id": "00036-c58166cc-71f7-4fa3-94c8-c67d1145ccf1",
        "deepnote_cell_type": "markdown"
      },
      "source": [
        "No conformes con el rendimiento obtenido en la sección 1.2, el cuerpo docente les pide que realicen un **`HalvingGridSearchCV`** con diferentes parámetros para mejorar el rendimiento de la clasificación. Para esto, se le solicita que defina:\n",
        "\n",
        "- Dos clasificadores distintos en donde varie sus parámetros. Se le recomienda utilizar `LogisticRegression()` y `RandomForestClassifier()`.\n",
        "- Modificar `n-gram` range del `CountVectorizer` probando `(1,1), (1,2) y (1,3)`. \n",
        "- Selección de las mejores columnas para la clasificación con `SelectPercentile` en los percentiles `[20, 40, 60, 80]` (puede usar la métrica que usted quiera).\n",
        "\n",
        "A continuación, un ejemplo de parametros para GridSearch para una búsqueda de 3 clasificadores distintos:\n",
        "\n",
        "```python\n",
        "params = [\n",
        "       # clasificador 1 + hiperparámetros\n",
        "       {'clf': classificator1(),\n",
        "        'clf__penalty': ['ovr'],\n",
        "        'clf__multi_class': ['liblinear']},\n",
        "       # clasificador 1 + hiperparámetros    \n",
        "       {'clf': classificator2(),\n",
        "        'clf__n_estimators': [200]},\n",
        "       # clasificador 1 + hiperparámetros\n",
        "       {'clf': classificator3(),\n",
        "        ...\n",
        "       }\n",
        "       ]\n",
        "```\n",
        "\n",
        "**Nota 1**: Puede ver los parámetros modificables aplicando el método get_params() sobre su pipeline.\n",
        "\n",
        "**Nota 2**: Recuerde inicializar los clasificadores con un random state definido.\n",
        "\n",
        "**Nota 3**: Puede usar en `HalvingGridSearchCV` el parámetro `verbose=10` para ver que GridSearch le indique el estado de su ejecución.\n",
        "\n",
        "**Nota 3:** El GridSearch puede tomar tiempos de búsqueda exorbitantes, por lo que se le recomienda no agrandar mucho el espacio de búsqueda, dejar corriendo el código y tomarse un tecito."
      ]
    },
    {
      "cell_type": "markdown",
      "metadata": {
        "tags": [],
        "cell_id": "00032-3fea06e0-a390-4ae0-8036-f5fedb6d6baf",
        "deepnote_cell_type": "markdown",
        "id": "1ewpfYabhKU2"
      },
      "source": [
        "**Respuesta:**"
      ]
    },
    {
      "cell_type": "code",
      "metadata": {
        "id": "1MV-sbYORXkv"
      },
      "source": [
        "selection_pipeline = Pipeline(steps=[\n",
        "                       ('preprocessing', preprocessing),\n",
        "                       ('Selection', SelectPercentile(f_classif, percentile=20)),\n",
        "                       ('clf', MultinomialNB())\n",
        "                       ]\n",
        "                ) "
      ],
      "execution_count": 56,
      "outputs": []
    },
    {
      "cell_type": "code",
      "metadata": {
        "colab": {
          "base_uri": "https://localhost:8080/"
        },
        "id": "8a7D3pupNwKM",
        "outputId": "1abbabf7-c8cf-4bcf-b860-fbecc719cbf6"
      },
      "source": [
        "selection_pipeline.get_params()\n"
      ],
      "execution_count": 57,
      "outputs": [
        {
          "output_type": "execute_result",
          "data": {
            "text/plain": [
              "{'Selection': SelectPercentile(percentile=20),\n",
              " 'Selection__percentile': 20,\n",
              " 'Selection__score_func': <function sklearn.feature_selection._univariate_selection.f_classif>,\n",
              " 'clf': MultinomialNB(),\n",
              " 'clf__alpha': 1.0,\n",
              " 'clf__class_prior': None,\n",
              " 'clf__fit_prior': True,\n",
              " 'memory': None,\n",
              " 'preprocessing': ColumnTransformer(transformers=[('df',\n",
              "                                  CountVectorizer(max_features=10000,\n",
              "                                                  ngram_range=(1, 2),\n",
              "                                                  tokenizer=<__main__.StemmerTokenizer object at 0x7f7c11e34190>),\n",
              "                                  'history_text'),\n",
              "                                 ('scaler', MinMaxScaler(),\n",
              "                                  ['intelligence_score', 'strength_score',\n",
              "                                   'speed_score', 'durability_score',\n",
              "                                   'power_score', 'combat_score'])]),\n",
              " 'preprocessing__df': CountVectorizer(max_features=10000, ngram_range=(1, 2),\n",
              "                 tokenizer=<__main__.StemmerTokenizer object at 0x7f7c11e34190>),\n",
              " 'preprocessing__df__analyzer': 'word',\n",
              " 'preprocessing__df__binary': False,\n",
              " 'preprocessing__df__decode_error': 'strict',\n",
              " 'preprocessing__df__dtype': numpy.int64,\n",
              " 'preprocessing__df__encoding': 'utf-8',\n",
              " 'preprocessing__df__input': 'content',\n",
              " 'preprocessing__df__lowercase': True,\n",
              " 'preprocessing__df__max_df': 1.0,\n",
              " 'preprocessing__df__max_features': 10000,\n",
              " 'preprocessing__df__min_df': 1,\n",
              " 'preprocessing__df__ngram_range': (1, 2),\n",
              " 'preprocessing__df__preprocessor': None,\n",
              " 'preprocessing__df__stop_words': None,\n",
              " 'preprocessing__df__strip_accents': None,\n",
              " 'preprocessing__df__token_pattern': '(?u)\\\\b\\\\w\\\\w+\\\\b',\n",
              " 'preprocessing__df__tokenizer': <__main__.StemmerTokenizer at 0x7f7c11e34190>,\n",
              " 'preprocessing__df__vocabulary': None,\n",
              " 'preprocessing__n_jobs': None,\n",
              " 'preprocessing__remainder': 'drop',\n",
              " 'preprocessing__scaler': MinMaxScaler(),\n",
              " 'preprocessing__scaler__clip': False,\n",
              " 'preprocessing__scaler__copy': True,\n",
              " 'preprocessing__scaler__feature_range': (0, 1),\n",
              " 'preprocessing__sparse_threshold': 0.3,\n",
              " 'preprocessing__transformer_weights': None,\n",
              " 'preprocessing__transformers': [('df',\n",
              "   CountVectorizer(max_features=10000, ngram_range=(1, 2),\n",
              "                   tokenizer=<__main__.StemmerTokenizer object at 0x7f7c11e34190>),\n",
              "   'history_text'),\n",
              "  ('scaler',\n",
              "   MinMaxScaler(),\n",
              "   ['intelligence_score',\n",
              "    'strength_score',\n",
              "    'speed_score',\n",
              "    'durability_score',\n",
              "    'power_score',\n",
              "    'combat_score'])],\n",
              " 'preprocessing__verbose': False,\n",
              " 'preprocessing__verbose_feature_names_out': True,\n",
              " 'steps': [('preprocessing', ColumnTransformer(transformers=[('df',\n",
              "                                    CountVectorizer(max_features=10000,\n",
              "                                                    ngram_range=(1, 2),\n",
              "                                                    tokenizer=<__main__.StemmerTokenizer object at 0x7f7c11e34190>),\n",
              "                                    'history_text'),\n",
              "                                   ('scaler', MinMaxScaler(),\n",
              "                                    ['intelligence_score', 'strength_score',\n",
              "                                     'speed_score', 'durability_score',\n",
              "                                     'power_score', 'combat_score'])])),\n",
              "  ('Selection', SelectPercentile(percentile=20)),\n",
              "  ('clf', MultinomialNB())],\n",
              " 'verbose': False}"
            ]
          },
          "metadata": {},
          "execution_count": 57
        }
      ]
    },
    {
      "cell_type": "code",
      "metadata": {
        "colab": {
          "base_uri": "https://localhost:8080/"
        },
        "id": "EZ0Q1Oc3OISm",
        "outputId": "9821e7eb-8c88-4525-8751-b2c53508f0d8"
      },
      "source": [
        "from sklearn.linear_model import LogisticRegression\n",
        "from sklearn.ensemble import RandomForestClassifier\n",
        "from sklearn.experimental import enable_halving_search_cv  # noqa\n",
        "from sklearn.model_selection import HalvingGridSearchCV\n",
        "\n",
        "param_grid = [\n",
        "    {\n",
        "        'preprocessing__df__max_features': [1000, 5000, 10000],\n",
        "        'preprocessing__df__ngram_range': [(1,1), (1,2), (1,3)],\n",
        "        'Selection__percentile': [20, 40, 60, 80],\n",
        "        'Selection__score_func': [f_classif]\n",
        "    },\n",
        "    {\n",
        "        'clf': [LogisticRegression()],\n",
        "        'clf__multi_class': ['multinomial']\n",
        "    },\n",
        "    {\n",
        "        'clf': [DecisionTreeClassifier()],\n",
        "        'clf__criterion': ['gini', 'entropy']\n",
        "        #'clf__n_estimators': [100],\n",
        "        #'max_depth': np.arange(1,30),\n",
        "    }\n",
        "]\n",
        "\n",
        "\n",
        "\n",
        "\n",
        "\n",
        "hgs = HalvingGridSearchCV(selection_pipeline, param_grid ,random_state=0, verbose=10).fit(X_train, y_train)\n",
        "\n",
        "\n",
        "\n"
      ],
      "execution_count": null,
      "outputs": [
        {
          "output_type": "stream",
          "name": "stdout",
          "text": [
            "n_iterations: 4\n",
            "n_required_iterations: 4\n",
            "n_possible_iterations: 4\n",
            "min_resources_: 33\n",
            "max_resources_: 899\n",
            "aggressive_elimination: False\n",
            "factor: 3\n",
            "----------\n",
            "iter: 0\n",
            "n_candidates: 39\n",
            "n_resources: 33\n",
            "Fitting 5 folds for each of 39 candidates, totalling 195 fits\n",
            "[CV 1/5; 1/39] START Selection__percentile=20, Selection__score_func=<function f_classif at 0x7f7c260757a0>, preprocessing__df__max_features=1000, preprocessing__df__ngram_range=(1, 1)\n"
          ]
        },
        {
          "output_type": "stream",
          "name": "stderr",
          "text": [
            "/usr/local/lib/python3.7/dist-packages/sklearn/feature_selection/_univariate_selection.py:112: UserWarning: Features [0] are constant.\n",
            "  warnings.warn(\"Features %s are constant.\" % constant_features_idx, UserWarning)\n",
            "/usr/local/lib/python3.7/dist-packages/sklearn/feature_selection/_univariate_selection.py:113: RuntimeWarning: divide by zero encountered in true_divide\n",
            "  f = msb / msw\n"
          ]
        },
        {
          "output_type": "stream",
          "name": "stdout",
          "text": [
            "[CV 1/5; 1/39] END Selection__percentile=20, Selection__score_func=<function f_classif at 0x7f7c260757a0>, preprocessing__df__max_features=1000, preprocessing__df__ngram_range=(1, 1);, score=(train=0.846, test=0.667) total time=   0.4s\n",
            "[CV 2/5; 1/39] START Selection__percentile=20, Selection__score_func=<function f_classif at 0x7f7c260757a0>, preprocessing__df__max_features=1000, preprocessing__df__ngram_range=(1, 1)\n"
          ]
        },
        {
          "output_type": "stream",
          "name": "stderr",
          "text": [
            "/usr/local/lib/python3.7/dist-packages/sklearn/feature_selection/_univariate_selection.py:113: RuntimeWarning: divide by zero encountered in true_divide\n",
            "  f = msb / msw\n"
          ]
        },
        {
          "output_type": "stream",
          "name": "stdout",
          "text": [
            "[CV 2/5; 1/39] END Selection__percentile=20, Selection__score_func=<function f_classif at 0x7f7c260757a0>, preprocessing__df__max_features=1000, preprocessing__df__ngram_range=(1, 1);, score=(train=0.731, test=0.333) total time=   0.7s\n",
            "[CV 3/5; 1/39] START Selection__percentile=20, Selection__score_func=<function f_classif at 0x7f7c260757a0>, preprocessing__df__max_features=1000, preprocessing__df__ngram_range=(1, 1)\n",
            "[CV 3/5; 1/39] END Selection__percentile=20, Selection__score_func=<function f_classif at 0x7f7c260757a0>, preprocessing__df__max_features=1000, preprocessing__df__ngram_range=(1, 1);, score=(train=0.808, test=0.333) total time=   0.5s\n",
            "[CV 4/5; 1/39] START Selection__percentile=20, Selection__score_func=<function f_classif at 0x7f7c260757a0>, preprocessing__df__max_features=1000, preprocessing__df__ngram_range=(1, 1)\n"
          ]
        },
        {
          "output_type": "stream",
          "name": "stderr",
          "text": [
            "/usr/local/lib/python3.7/dist-packages/sklearn/feature_selection/_univariate_selection.py:113: RuntimeWarning: divide by zero encountered in true_divide\n",
            "  f = msb / msw\n"
          ]
        },
        {
          "output_type": "stream",
          "name": "stdout",
          "text": [
            "[CV 4/5; 1/39] END Selection__percentile=20, Selection__score_func=<function f_classif at 0x7f7c260757a0>, preprocessing__df__max_features=1000, preprocessing__df__ngram_range=(1, 1);, score=(train=0.962, test=0.333) total time=   0.5s\n",
            "[CV 5/5; 1/39] START Selection__percentile=20, Selection__score_func=<function f_classif at 0x7f7c260757a0>, preprocessing__df__max_features=1000, preprocessing__df__ngram_range=(1, 1)\n",
            "[CV 5/5; 1/39] END Selection__percentile=20, Selection__score_func=<function f_classif at 0x7f7c260757a0>, preprocessing__df__max_features=1000, preprocessing__df__ngram_range=(1, 1);, score=(train=0.962, test=0.500) total time=   0.6s\n",
            "[CV 1/5; 2/39] START Selection__percentile=20, Selection__score_func=<function f_classif at 0x7f7c260757a0>, preprocessing__df__max_features=1000, preprocessing__df__ngram_range=(1, 2)\n",
            "[CV 1/5; 2/39] END Selection__percentile=20, Selection__score_func=<function f_classif at 0x7f7c260757a0>, preprocessing__df__max_features=1000, preprocessing__df__ngram_range=(1, 2);, score=(train=0.769, test=0.500) total time=   0.5s\n",
            "[CV 2/5; 2/39] START Selection__percentile=20, Selection__score_func=<function f_classif at 0x7f7c260757a0>, preprocessing__df__max_features=1000, preprocessing__df__ngram_range=(1, 2)\n"
          ]
        },
        {
          "output_type": "stream",
          "name": "stderr",
          "text": [
            "/usr/local/lib/python3.7/dist-packages/sklearn/feature_selection/_univariate_selection.py:113: RuntimeWarning: divide by zero encountered in true_divide\n",
            "  f = msb / msw\n"
          ]
        },
        {
          "output_type": "stream",
          "name": "stdout",
          "text": [
            "[CV 2/5; 2/39] END Selection__percentile=20, Selection__score_func=<function f_classif at 0x7f7c260757a0>, preprocessing__df__max_features=1000, preprocessing__df__ngram_range=(1, 2);, score=(train=0.731, test=0.333) total time=   0.7s\n",
            "[CV 3/5; 2/39] START Selection__percentile=20, Selection__score_func=<function f_classif at 0x7f7c260757a0>, preprocessing__df__max_features=1000, preprocessing__df__ngram_range=(1, 2)\n",
            "[CV 3/5; 2/39] END Selection__percentile=20, Selection__score_func=<function f_classif at 0x7f7c260757a0>, preprocessing__df__max_features=1000, preprocessing__df__ngram_range=(1, 2);, score=(train=0.808, test=0.333) total time=   0.5s\n",
            "[CV 4/5; 2/39] START Selection__percentile=20, Selection__score_func=<function f_classif at 0x7f7c260757a0>, preprocessing__df__max_features=1000, preprocessing__df__ngram_range=(1, 2)\n",
            "[CV 4/5; 2/39] END Selection__percentile=20, Selection__score_func=<function f_classif at 0x7f7c260757a0>, preprocessing__df__max_features=1000, preprocessing__df__ngram_range=(1, 2);, score=(train=0.923, test=0.333) total time=   0.5s\n",
            "[CV 5/5; 2/39] START Selection__percentile=20, Selection__score_func=<function f_classif at 0x7f7c260757a0>, preprocessing__df__max_features=1000, preprocessing__df__ngram_range=(1, 2)\n",
            "[CV 5/5; 2/39] END Selection__percentile=20, Selection__score_func=<function f_classif at 0x7f7c260757a0>, preprocessing__df__max_features=1000, preprocessing__df__ngram_range=(1, 2);, score=(train=0.962, test=0.500) total time=   0.6s\n",
            "[CV 1/5; 3/39] START Selection__percentile=20, Selection__score_func=<function f_classif at 0x7f7c260757a0>, preprocessing__df__max_features=1000, preprocessing__df__ngram_range=(1, 3)\n",
            "[CV 1/5; 3/39] END Selection__percentile=20, Selection__score_func=<function f_classif at 0x7f7c260757a0>, preprocessing__df__max_features=1000, preprocessing__df__ngram_range=(1, 3);, score=(train=0.769, test=0.667) total time=   0.5s\n",
            "[CV 2/5; 3/39] START Selection__percentile=20, Selection__score_func=<function f_classif at 0x7f7c260757a0>, preprocessing__df__max_features=1000, preprocessing__df__ngram_range=(1, 3)\n"
          ]
        },
        {
          "output_type": "stream",
          "name": "stderr",
          "text": [
            "/usr/local/lib/python3.7/dist-packages/sklearn/feature_selection/_univariate_selection.py:113: RuntimeWarning: divide by zero encountered in true_divide\n",
            "  f = msb / msw\n"
          ]
        },
        {
          "output_type": "stream",
          "name": "stdout",
          "text": [
            "[CV 2/5; 3/39] END Selection__percentile=20, Selection__score_func=<function f_classif at 0x7f7c260757a0>, preprocessing__df__max_features=1000, preprocessing__df__ngram_range=(1, 3);, score=(train=0.731, test=0.333) total time=   0.8s\n",
            "[CV 3/5; 3/39] START Selection__percentile=20, Selection__score_func=<function f_classif at 0x7f7c260757a0>, preprocessing__df__max_features=1000, preprocessing__df__ngram_range=(1, 3)\n",
            "[CV 3/5; 3/39] END Selection__percentile=20, Selection__score_func=<function f_classif at 0x7f7c260757a0>, preprocessing__df__max_features=1000, preprocessing__df__ngram_range=(1, 3);, score=(train=0.846, test=0.333) total time=   0.6s\n",
            "[CV 4/5; 3/39] START Selection__percentile=20, Selection__score_func=<function f_classif at 0x7f7c260757a0>, preprocessing__df__max_features=1000, preprocessing__df__ngram_range=(1, 3)\n",
            "[CV 4/5; 3/39] END Selection__percentile=20, Selection__score_func=<function f_classif at 0x7f7c260757a0>, preprocessing__df__max_features=1000, preprocessing__df__ngram_range=(1, 3);, score=(train=0.923, test=0.333) total time=   0.5s\n",
            "[CV 5/5; 3/39] START Selection__percentile=20, Selection__score_func=<function f_classif at 0x7f7c260757a0>, preprocessing__df__max_features=1000, preprocessing__df__ngram_range=(1, 3)\n",
            "[CV 5/5; 3/39] END Selection__percentile=20, Selection__score_func=<function f_classif at 0x7f7c260757a0>, preprocessing__df__max_features=1000, preprocessing__df__ngram_range=(1, 3);, score=(train=0.962, test=0.500) total time=   0.6s\n",
            "[CV 1/5; 4/39] START Selection__percentile=20, Selection__score_func=<function f_classif at 0x7f7c260757a0>, preprocessing__df__max_features=5000, preprocessing__df__ngram_range=(1, 1)\n"
          ]
        },
        {
          "output_type": "stream",
          "name": "stderr",
          "text": [
            "/usr/local/lib/python3.7/dist-packages/sklearn/feature_selection/_univariate_selection.py:112: UserWarning: Features [0 0] are constant.\n",
            "  warnings.warn(\"Features %s are constant.\" % constant_features_idx, UserWarning)\n",
            "/usr/local/lib/python3.7/dist-packages/sklearn/feature_selection/_univariate_selection.py:113: RuntimeWarning: divide by zero encountered in true_divide\n",
            "  f = msb / msw\n"
          ]
        },
        {
          "output_type": "stream",
          "name": "stdout",
          "text": [
            "[CV 1/5; 4/39] END Selection__percentile=20, Selection__score_func=<function f_classif at 0x7f7c260757a0>, preprocessing__df__max_features=5000, preprocessing__df__ngram_range=(1, 1);, score=(train=0.654, test=0.667) total time=   0.4s\n",
            "[CV 2/5; 4/39] START Selection__percentile=20, Selection__score_func=<function f_classif at 0x7f7c260757a0>, preprocessing__df__max_features=5000, preprocessing__df__ngram_range=(1, 1)\n"
          ]
        },
        {
          "output_type": "stream",
          "name": "stderr",
          "text": [
            "/usr/local/lib/python3.7/dist-packages/sklearn/feature_selection/_univariate_selection.py:113: RuntimeWarning: divide by zero encountered in true_divide\n",
            "  f = msb / msw\n"
          ]
        },
        {
          "output_type": "stream",
          "name": "stdout",
          "text": [
            "[CV 2/5; 4/39] END Selection__percentile=20, Selection__score_func=<function f_classif at 0x7f7c260757a0>, preprocessing__df__max_features=5000, preprocessing__df__ngram_range=(1, 1);, score=(train=0.731, test=0.500) total time=   0.7s\n",
            "[CV 3/5; 4/39] START Selection__percentile=20, Selection__score_func=<function f_classif at 0x7f7c260757a0>, preprocessing__df__max_features=5000, preprocessing__df__ngram_range=(1, 1)\n"
          ]
        },
        {
          "output_type": "stream",
          "name": "stderr",
          "text": [
            "/usr/local/lib/python3.7/dist-packages/sklearn/feature_selection/_univariate_selection.py:113: RuntimeWarning: divide by zero encountered in true_divide\n",
            "  f = msb / msw\n"
          ]
        },
        {
          "output_type": "stream",
          "name": "stdout",
          "text": [
            "[CV 3/5; 4/39] END Selection__percentile=20, Selection__score_func=<function f_classif at 0x7f7c260757a0>, preprocessing__df__max_features=5000, preprocessing__df__ngram_range=(1, 1);, score=(train=0.769, test=0.500) total time=   0.5s\n",
            "[CV 4/5; 4/39] START Selection__percentile=20, Selection__score_func=<function f_classif at 0x7f7c260757a0>, preprocessing__df__max_features=5000, preprocessing__df__ngram_range=(1, 1)\n"
          ]
        },
        {
          "output_type": "stream",
          "name": "stderr",
          "text": [
            "/usr/local/lib/python3.7/dist-packages/sklearn/feature_selection/_univariate_selection.py:113: RuntimeWarning: divide by zero encountered in true_divide\n",
            "  f = msb / msw\n"
          ]
        },
        {
          "output_type": "stream",
          "name": "stdout",
          "text": [
            "[CV 4/5; 4/39] END Selection__percentile=20, Selection__score_func=<function f_classif at 0x7f7c260757a0>, preprocessing__df__max_features=5000, preprocessing__df__ngram_range=(1, 1);, score=(train=0.962, test=0.333) total time=   0.5s\n",
            "[CV 5/5; 4/39] START Selection__percentile=20, Selection__score_func=<function f_classif at 0x7f7c260757a0>, preprocessing__df__max_features=5000, preprocessing__df__ngram_range=(1, 1)\n",
            "[CV 5/5; 4/39] END Selection__percentile=20, Selection__score_func=<function f_classif at 0x7f7c260757a0>, preprocessing__df__max_features=5000, preprocessing__df__ngram_range=(1, 1);, score=(train=0.962, test=0.500) total time=   0.5s\n",
            "[CV 1/5; 5/39] START Selection__percentile=20, Selection__score_func=<function f_classif at 0x7f7c260757a0>, preprocessing__df__max_features=5000, preprocessing__df__ngram_range=(1, 2)\n"
          ]
        },
        {
          "output_type": "stream",
          "name": "stderr",
          "text": [
            "/usr/local/lib/python3.7/dist-packages/sklearn/feature_selection/_univariate_selection.py:112: UserWarning: Features [0 0 0 0 0 0 0 0] are constant.\n",
            "  warnings.warn(\"Features %s are constant.\" % constant_features_idx, UserWarning)\n",
            "/usr/local/lib/python3.7/dist-packages/sklearn/feature_selection/_univariate_selection.py:113: RuntimeWarning: divide by zero encountered in true_divide\n",
            "  f = msb / msw\n"
          ]
        },
        {
          "output_type": "stream",
          "name": "stdout",
          "text": [
            "[CV 1/5; 5/39] END Selection__percentile=20, Selection__score_func=<function f_classif at 0x7f7c260757a0>, preprocessing__df__max_features=5000, preprocessing__df__ngram_range=(1, 2);, score=(train=0.731, test=0.500) total time=   0.5s\n",
            "[CV 2/5; 5/39] START Selection__percentile=20, Selection__score_func=<function f_classif at 0x7f7c260757a0>, preprocessing__df__max_features=5000, preprocessing__df__ngram_range=(1, 2)\n"
          ]
        },
        {
          "output_type": "stream",
          "name": "stderr",
          "text": [
            "/usr/local/lib/python3.7/dist-packages/sklearn/feature_selection/_univariate_selection.py:113: RuntimeWarning: divide by zero encountered in true_divide\n",
            "  f = msb / msw\n"
          ]
        },
        {
          "output_type": "stream",
          "name": "stdout",
          "text": [
            "[CV 2/5; 5/39] END Selection__percentile=20, Selection__score_func=<function f_classif at 0x7f7c260757a0>, preprocessing__df__max_features=5000, preprocessing__df__ngram_range=(1, 2);, score=(train=0.808, test=0.333) total time=   0.8s\n",
            "[CV 3/5; 5/39] START Selection__percentile=20, Selection__score_func=<function f_classif at 0x7f7c260757a0>, preprocessing__df__max_features=5000, preprocessing__df__ngram_range=(1, 2)\n"
          ]
        },
        {
          "output_type": "stream",
          "name": "stderr",
          "text": [
            "/usr/local/lib/python3.7/dist-packages/sklearn/feature_selection/_univariate_selection.py:113: RuntimeWarning: divide by zero encountered in true_divide\n",
            "  f = msb / msw\n"
          ]
        },
        {
          "output_type": "stream",
          "name": "stdout",
          "text": [
            "[CV 3/5; 5/39] END Selection__percentile=20, Selection__score_func=<function f_classif at 0x7f7c260757a0>, preprocessing__df__max_features=5000, preprocessing__df__ngram_range=(1, 2);, score=(train=0.577, test=0.500) total time=   0.5s\n",
            "[CV 4/5; 5/39] START Selection__percentile=20, Selection__score_func=<function f_classif at 0x7f7c260757a0>, preprocessing__df__max_features=5000, preprocessing__df__ngram_range=(1, 2)\n"
          ]
        },
        {
          "output_type": "stream",
          "name": "stderr",
          "text": [
            "/usr/local/lib/python3.7/dist-packages/sklearn/feature_selection/_univariate_selection.py:113: RuntimeWarning: divide by zero encountered in true_divide\n",
            "  f = msb / msw\n"
          ]
        },
        {
          "output_type": "stream",
          "name": "stdout",
          "text": [
            "[CV 4/5; 5/39] END Selection__percentile=20, Selection__score_func=<function f_classif at 0x7f7c260757a0>, preprocessing__df__max_features=5000, preprocessing__df__ngram_range=(1, 2);, score=(train=0.962, test=0.333) total time=   0.5s\n",
            "[CV 5/5; 5/39] START Selection__percentile=20, Selection__score_func=<function f_classif at 0x7f7c260757a0>, preprocessing__df__max_features=5000, preprocessing__df__ngram_range=(1, 2)\n",
            "[CV 5/5; 5/39] END Selection__percentile=20, Selection__score_func=<function f_classif at 0x7f7c260757a0>, preprocessing__df__max_features=5000, preprocessing__df__ngram_range=(1, 2);, score=(train=0.962, test=0.333) total time=   0.6s\n",
            "[CV 1/5; 6/39] START Selection__percentile=20, Selection__score_func=<function f_classif at 0x7f7c260757a0>, preprocessing__df__max_features=5000, preprocessing__df__ngram_range=(1, 3)\n"
          ]
        },
        {
          "output_type": "stream",
          "name": "stderr",
          "text": [
            "/usr/local/lib/python3.7/dist-packages/sklearn/feature_selection/_univariate_selection.py:112: UserWarning: Features [0 0 0 0 0 0 0 0] are constant.\n",
            "  warnings.warn(\"Features %s are constant.\" % constant_features_idx, UserWarning)\n",
            "/usr/local/lib/python3.7/dist-packages/sklearn/feature_selection/_univariate_selection.py:113: RuntimeWarning: divide by zero encountered in true_divide\n",
            "  f = msb / msw\n"
          ]
        },
        {
          "output_type": "stream",
          "name": "stdout",
          "text": [
            "[CV 1/5; 6/39] END Selection__percentile=20, Selection__score_func=<function f_classif at 0x7f7c260757a0>, preprocessing__df__max_features=5000, preprocessing__df__ngram_range=(1, 3);, score=(train=0.731, test=0.500) total time=   0.5s\n",
            "[CV 2/5; 6/39] START Selection__percentile=20, Selection__score_func=<function f_classif at 0x7f7c260757a0>, preprocessing__df__max_features=5000, preprocessing__df__ngram_range=(1, 3)\n"
          ]
        },
        {
          "output_type": "stream",
          "name": "stderr",
          "text": [
            "/usr/local/lib/python3.7/dist-packages/sklearn/feature_selection/_univariate_selection.py:113: RuntimeWarning: divide by zero encountered in true_divide\n",
            "  f = msb / msw\n",
            "/usr/local/lib/python3.7/dist-packages/numpy/lib/function_base.py:3968: RuntimeWarning: invalid value encountered in multiply\n",
            "  x2 = take(ap, indices_above, axis=axis) * weights_above\n",
            "/usr/local/lib/python3.7/dist-packages/sklearn/feature_selection/_base.py:95: UserWarning: No features were selected: either the data is too noisy or the selection test too strict.\n",
            "  UserWarning,\n"
          ]
        },
        {
          "output_type": "stream",
          "name": "stdout",
          "text": [
            "[CV 2/5; 6/39] END Selection__percentile=20, Selection__score_func=<function f_classif at 0x7f7c260757a0>, preprocessing__df__max_features=5000, preprocessing__df__ngram_range=(1, 3);, score=(train=nan, test=nan) total time=   0.5s\n",
            "[CV 3/5; 6/39] START Selection__percentile=20, Selection__score_func=<function f_classif at 0x7f7c260757a0>, preprocessing__df__max_features=5000, preprocessing__df__ngram_range=(1, 3)\n"
          ]
        },
        {
          "output_type": "stream",
          "name": "stderr",
          "text": [
            "/usr/local/lib/python3.7/dist-packages/sklearn/feature_selection/_univariate_selection.py:113: RuntimeWarning: divide by zero encountered in true_divide\n",
            "  f = msb / msw\n"
          ]
        },
        {
          "output_type": "stream",
          "name": "stdout",
          "text": [
            "[CV 3/5; 6/39] END Selection__percentile=20, Selection__score_func=<function f_classif at 0x7f7c260757a0>, preprocessing__df__max_features=5000, preprocessing__df__ngram_range=(1, 3);, score=(train=0.846, test=0.333) total time=   0.6s\n",
            "[CV 4/5; 6/39] START Selection__percentile=20, Selection__score_func=<function f_classif at 0x7f7c260757a0>, preprocessing__df__max_features=5000, preprocessing__df__ngram_range=(1, 3)\n"
          ]
        },
        {
          "output_type": "stream",
          "name": "stderr",
          "text": [
            "/usr/local/lib/python3.7/dist-packages/sklearn/feature_selection/_univariate_selection.py:113: RuntimeWarning: divide by zero encountered in true_divide\n",
            "  f = msb / msw\n"
          ]
        },
        {
          "output_type": "stream",
          "name": "stdout",
          "text": [
            "[CV 4/5; 6/39] END Selection__percentile=20, Selection__score_func=<function f_classif at 0x7f7c260757a0>, preprocessing__df__max_features=5000, preprocessing__df__ngram_range=(1, 3);, score=(train=0.962, test=0.500) total time=   0.5s\n",
            "[CV 5/5; 6/39] START Selection__percentile=20, Selection__score_func=<function f_classif at 0x7f7c260757a0>, preprocessing__df__max_features=5000, preprocessing__df__ngram_range=(1, 3)\n",
            "[CV 5/5; 6/39] END Selection__percentile=20, Selection__score_func=<function f_classif at 0x7f7c260757a0>, preprocessing__df__max_features=5000, preprocessing__df__ngram_range=(1, 3);, score=(train=0.962, test=0.333) total time=   0.6s\n",
            "[CV 1/5; 7/39] START Selection__percentile=20, Selection__score_func=<function f_classif at 0x7f7c260757a0>, preprocessing__df__max_features=10000, preprocessing__df__ngram_range=(1, 1)\n"
          ]
        },
        {
          "output_type": "stream",
          "name": "stderr",
          "text": [
            "/usr/local/lib/python3.7/dist-packages/sklearn/feature_selection/_univariate_selection.py:112: UserWarning: Features [0 0] are constant.\n",
            "  warnings.warn(\"Features %s are constant.\" % constant_features_idx, UserWarning)\n",
            "/usr/local/lib/python3.7/dist-packages/sklearn/feature_selection/_univariate_selection.py:113: RuntimeWarning: divide by zero encountered in true_divide\n",
            "  f = msb / msw\n"
          ]
        },
        {
          "output_type": "stream",
          "name": "stdout",
          "text": [
            "[CV 1/5; 7/39] END Selection__percentile=20, Selection__score_func=<function f_classif at 0x7f7c260757a0>, preprocessing__df__max_features=10000, preprocessing__df__ngram_range=(1, 1);, score=(train=0.654, test=0.667) total time=   0.4s\n",
            "[CV 2/5; 7/39] START Selection__percentile=20, Selection__score_func=<function f_classif at 0x7f7c260757a0>, preprocessing__df__max_features=10000, preprocessing__df__ngram_range=(1, 1)\n"
          ]
        },
        {
          "output_type": "stream",
          "name": "stderr",
          "text": [
            "/usr/local/lib/python3.7/dist-packages/sklearn/feature_selection/_univariate_selection.py:113: RuntimeWarning: divide by zero encountered in true_divide\n",
            "  f = msb / msw\n"
          ]
        },
        {
          "output_type": "stream",
          "name": "stdout",
          "text": [
            "[CV 2/5; 7/39] END Selection__percentile=20, Selection__score_func=<function f_classif at 0x7f7c260757a0>, preprocessing__df__max_features=10000, preprocessing__df__ngram_range=(1, 1);, score=(train=0.731, test=0.500) total time=   0.7s\n",
            "[CV 3/5; 7/39] START Selection__percentile=20, Selection__score_func=<function f_classif at 0x7f7c260757a0>, preprocessing__df__max_features=10000, preprocessing__df__ngram_range=(1, 1)\n"
          ]
        },
        {
          "output_type": "stream",
          "name": "stderr",
          "text": [
            "/usr/local/lib/python3.7/dist-packages/sklearn/feature_selection/_univariate_selection.py:113: RuntimeWarning: divide by zero encountered in true_divide\n",
            "  f = msb / msw\n"
          ]
        },
        {
          "output_type": "stream",
          "name": "stdout",
          "text": [
            "[CV 3/5; 7/39] END Selection__percentile=20, Selection__score_func=<function f_classif at 0x7f7c260757a0>, preprocessing__df__max_features=10000, preprocessing__df__ngram_range=(1, 1);, score=(train=0.769, test=0.500) total time=   0.5s\n",
            "[CV 4/5; 7/39] START Selection__percentile=20, Selection__score_func=<function f_classif at 0x7f7c260757a0>, preprocessing__df__max_features=10000, preprocessing__df__ngram_range=(1, 1)\n"
          ]
        },
        {
          "output_type": "stream",
          "name": "stderr",
          "text": [
            "/usr/local/lib/python3.7/dist-packages/sklearn/feature_selection/_univariate_selection.py:113: RuntimeWarning: divide by zero encountered in true_divide\n",
            "  f = msb / msw\n"
          ]
        },
        {
          "output_type": "stream",
          "name": "stdout",
          "text": [
            "[CV 4/5; 7/39] END Selection__percentile=20, Selection__score_func=<function f_classif at 0x7f7c260757a0>, preprocessing__df__max_features=10000, preprocessing__df__ngram_range=(1, 1);, score=(train=0.962, test=0.333) total time=   0.5s\n",
            "[CV 5/5; 7/39] START Selection__percentile=20, Selection__score_func=<function f_classif at 0x7f7c260757a0>, preprocessing__df__max_features=10000, preprocessing__df__ngram_range=(1, 1)\n",
            "[CV 5/5; 7/39] END Selection__percentile=20, Selection__score_func=<function f_classif at 0x7f7c260757a0>, preprocessing__df__max_features=10000, preprocessing__df__ngram_range=(1, 1);, score=(train=0.962, test=0.500) total time=   0.6s\n",
            "[CV 1/5; 8/39] START Selection__percentile=20, Selection__score_func=<function f_classif at 0x7f7c260757a0>, preprocessing__df__max_features=10000, preprocessing__df__ngram_range=(1, 2)\n"
          ]
        },
        {
          "output_type": "stream",
          "name": "stderr",
          "text": [
            "/usr/local/lib/python3.7/dist-packages/sklearn/feature_selection/_univariate_selection.py:112: UserWarning: Features [0 0 0 0 0 0 0 0] are constant.\n",
            "  warnings.warn(\"Features %s are constant.\" % constant_features_idx, UserWarning)\n",
            "/usr/local/lib/python3.7/dist-packages/sklearn/feature_selection/_univariate_selection.py:113: RuntimeWarning: divide by zero encountered in true_divide\n",
            "  f = msb / msw\n"
          ]
        },
        {
          "output_type": "stream",
          "name": "stdout",
          "text": [
            "[CV 1/5; 8/39] END Selection__percentile=20, Selection__score_func=<function f_classif at 0x7f7c260757a0>, preprocessing__df__max_features=10000, preprocessing__df__ngram_range=(1, 2);, score=(train=0.692, test=0.500) total time=   0.5s\n",
            "[CV 2/5; 8/39] START Selection__percentile=20, Selection__score_func=<function f_classif at 0x7f7c260757a0>, preprocessing__df__max_features=10000, preprocessing__df__ngram_range=(1, 2)\n"
          ]
        },
        {
          "output_type": "stream",
          "name": "stderr",
          "text": [
            "/usr/local/lib/python3.7/dist-packages/sklearn/feature_selection/_univariate_selection.py:113: RuntimeWarning: divide by zero encountered in true_divide\n",
            "  f = msb / msw\n",
            "/usr/local/lib/python3.7/dist-packages/numpy/lib/function_base.py:3968: RuntimeWarning: invalid value encountered in multiply\n",
            "  x2 = take(ap, indices_above, axis=axis) * weights_above\n",
            "/usr/local/lib/python3.7/dist-packages/sklearn/feature_selection/_base.py:95: UserWarning: No features were selected: either the data is too noisy or the selection test too strict.\n",
            "  UserWarning,\n"
          ]
        },
        {
          "output_type": "stream",
          "name": "stdout",
          "text": [
            "[CV 2/5; 8/39] END Selection__percentile=20, Selection__score_func=<function f_classif at 0x7f7c260757a0>, preprocessing__df__max_features=10000, preprocessing__df__ngram_range=(1, 2);, score=(train=nan, test=nan) total time=   0.4s\n",
            "[CV 3/5; 8/39] START Selection__percentile=20, Selection__score_func=<function f_classif at 0x7f7c260757a0>, preprocessing__df__max_features=10000, preprocessing__df__ngram_range=(1, 2)\n"
          ]
        },
        {
          "output_type": "stream",
          "name": "stderr",
          "text": [
            "/usr/local/lib/python3.7/dist-packages/sklearn/feature_selection/_univariate_selection.py:113: RuntimeWarning: divide by zero encountered in true_divide\n",
            "  f = msb / msw\n"
          ]
        },
        {
          "output_type": "stream",
          "name": "stdout",
          "text": [
            "[CV 3/5; 8/39] END Selection__percentile=20, Selection__score_func=<function f_classif at 0x7f7c260757a0>, preprocessing__df__max_features=10000, preprocessing__df__ngram_range=(1, 2);, score=(train=0.885, test=0.500) total time=   0.6s\n",
            "[CV 4/5; 8/39] START Selection__percentile=20, Selection__score_func=<function f_classif at 0x7f7c260757a0>, preprocessing__df__max_features=10000, preprocessing__df__ngram_range=(1, 2)\n"
          ]
        },
        {
          "output_type": "stream",
          "name": "stderr",
          "text": [
            "/usr/local/lib/python3.7/dist-packages/sklearn/feature_selection/_univariate_selection.py:113: RuntimeWarning: divide by zero encountered in true_divide\n",
            "  f = msb / msw\n"
          ]
        },
        {
          "output_type": "stream",
          "name": "stdout",
          "text": [
            "[CV 4/5; 8/39] END Selection__percentile=20, Selection__score_func=<function f_classif at 0x7f7c260757a0>, preprocessing__df__max_features=10000, preprocessing__df__ngram_range=(1, 2);, score=(train=0.962, test=0.500) total time=   0.5s\n",
            "[CV 5/5; 8/39] START Selection__percentile=20, Selection__score_func=<function f_classif at 0x7f7c260757a0>, preprocessing__df__max_features=10000, preprocessing__df__ngram_range=(1, 2)\n",
            "[CV 5/5; 8/39] END Selection__percentile=20, Selection__score_func=<function f_classif at 0x7f7c260757a0>, preprocessing__df__max_features=10000, preprocessing__df__ngram_range=(1, 2);, score=(train=0.962, test=0.333) total time=   0.6s\n",
            "[CV 1/5; 9/39] START Selection__percentile=20, Selection__score_func=<function f_classif at 0x7f7c260757a0>, preprocessing__df__max_features=10000, preprocessing__df__ngram_range=(1, 3)\n"
          ]
        },
        {
          "output_type": "stream",
          "name": "stderr",
          "text": [
            "/usr/local/lib/python3.7/dist-packages/sklearn/feature_selection/_univariate_selection.py:112: UserWarning: Features [0 0 0 0 0 0 0 0] are constant.\n",
            "  warnings.warn(\"Features %s are constant.\" % constant_features_idx, UserWarning)\n",
            "/usr/local/lib/python3.7/dist-packages/sklearn/feature_selection/_univariate_selection.py:113: RuntimeWarning: divide by zero encountered in true_divide\n",
            "  f = msb / msw\n"
          ]
        },
        {
          "output_type": "stream",
          "name": "stdout",
          "text": [
            "[CV 1/5; 9/39] END Selection__percentile=20, Selection__score_func=<function f_classif at 0x7f7c260757a0>, preprocessing__df__max_features=10000, preprocessing__df__ngram_range=(1, 3);, score=(train=0.692, test=0.500) total time=   0.5s\n",
            "[CV 2/5; 9/39] START Selection__percentile=20, Selection__score_func=<function f_classif at 0x7f7c260757a0>, preprocessing__df__max_features=10000, preprocessing__df__ngram_range=(1, 3)\n"
          ]
        },
        {
          "output_type": "stream",
          "name": "stderr",
          "text": [
            "/usr/local/lib/python3.7/dist-packages/sklearn/feature_selection/_univariate_selection.py:113: RuntimeWarning: divide by zero encountered in true_divide\n",
            "  f = msb / msw\n",
            "/usr/local/lib/python3.7/dist-packages/numpy/lib/function_base.py:3968: RuntimeWarning: invalid value encountered in multiply\n",
            "  x2 = take(ap, indices_above, axis=axis) * weights_above\n",
            "/usr/local/lib/python3.7/dist-packages/sklearn/feature_selection/_base.py:95: UserWarning: No features were selected: either the data is too noisy or the selection test too strict.\n",
            "  UserWarning,\n"
          ]
        },
        {
          "output_type": "stream",
          "name": "stdout",
          "text": [
            "[CV 2/5; 9/39] END Selection__percentile=20, Selection__score_func=<function f_classif at 0x7f7c260757a0>, preprocessing__df__max_features=10000, preprocessing__df__ngram_range=(1, 3);, score=(train=nan, test=nan) total time=   0.5s\n",
            "[CV 3/5; 9/39] START Selection__percentile=20, Selection__score_func=<function f_classif at 0x7f7c260757a0>, preprocessing__df__max_features=10000, preprocessing__df__ngram_range=(1, 3)\n"
          ]
        },
        {
          "output_type": "stream",
          "name": "stderr",
          "text": [
            "/usr/local/lib/python3.7/dist-packages/sklearn/feature_selection/_univariate_selection.py:113: RuntimeWarning: divide by zero encountered in true_divide\n",
            "  f = msb / msw\n"
          ]
        },
        {
          "output_type": "stream",
          "name": "stdout",
          "text": [
            "[CV 3/5; 9/39] END Selection__percentile=20, Selection__score_func=<function f_classif at 0x7f7c260757a0>, preprocessing__df__max_features=10000, preprocessing__df__ngram_range=(1, 3);, score=(train=0.615, test=0.500) total time=   0.6s\n",
            "[CV 4/5; 9/39] START Selection__percentile=20, Selection__score_func=<function f_classif at 0x7f7c260757a0>, preprocessing__df__max_features=10000, preprocessing__df__ngram_range=(1, 3)\n"
          ]
        },
        {
          "output_type": "stream",
          "name": "stderr",
          "text": [
            "/usr/local/lib/python3.7/dist-packages/sklearn/feature_selection/_univariate_selection.py:113: RuntimeWarning: divide by zero encountered in true_divide\n",
            "  f = msb / msw\n"
          ]
        },
        {
          "output_type": "stream",
          "name": "stdout",
          "text": [
            "[CV 4/5; 9/39] END Selection__percentile=20, Selection__score_func=<function f_classif at 0x7f7c260757a0>, preprocessing__df__max_features=10000, preprocessing__df__ngram_range=(1, 3);, score=(train=0.962, test=0.333) total time=   0.5s\n",
            "[CV 5/5; 9/39] START Selection__percentile=20, Selection__score_func=<function f_classif at 0x7f7c260757a0>, preprocessing__df__max_features=10000, preprocessing__df__ngram_range=(1, 3)\n",
            "[CV 5/5; 9/39] END Selection__percentile=20, Selection__score_func=<function f_classif at 0x7f7c260757a0>, preprocessing__df__max_features=10000, preprocessing__df__ngram_range=(1, 3);, score=(train=0.962, test=0.333) total time=   0.6s\n",
            "[CV 1/5; 10/39] START Selection__percentile=40, Selection__score_func=<function f_classif at 0x7f7c260757a0>, preprocessing__df__max_features=1000, preprocessing__df__ngram_range=(1, 1)\n"
          ]
        },
        {
          "output_type": "stream",
          "name": "stderr",
          "text": [
            "/usr/local/lib/python3.7/dist-packages/sklearn/feature_selection/_univariate_selection.py:112: UserWarning: Features [0] are constant.\n",
            "  warnings.warn(\"Features %s are constant.\" % constant_features_idx, UserWarning)\n",
            "/usr/local/lib/python3.7/dist-packages/sklearn/feature_selection/_univariate_selection.py:113: RuntimeWarning: divide by zero encountered in true_divide\n",
            "  f = msb / msw\n"
          ]
        },
        {
          "output_type": "stream",
          "name": "stdout",
          "text": [
            "[CV 1/5; 10/39] END Selection__percentile=40, Selection__score_func=<function f_classif at 0x7f7c260757a0>, preprocessing__df__max_features=1000, preprocessing__df__ngram_range=(1, 1);, score=(train=0.962, test=0.167) total time=   0.4s\n",
            "[CV 2/5; 10/39] START Selection__percentile=40, Selection__score_func=<function f_classif at 0x7f7c260757a0>, preprocessing__df__max_features=1000, preprocessing__df__ngram_range=(1, 1)\n"
          ]
        },
        {
          "output_type": "stream",
          "name": "stderr",
          "text": [
            "/usr/local/lib/python3.7/dist-packages/sklearn/feature_selection/_univariate_selection.py:113: RuntimeWarning: divide by zero encountered in true_divide\n",
            "  f = msb / msw\n"
          ]
        },
        {
          "output_type": "stream",
          "name": "stdout",
          "text": [
            "[CV 2/5; 10/39] END Selection__percentile=40, Selection__score_func=<function f_classif at 0x7f7c260757a0>, preprocessing__df__max_features=1000, preprocessing__df__ngram_range=(1, 1);, score=(train=0.846, test=0.500) total time=   0.7s\n",
            "[CV 3/5; 10/39] START Selection__percentile=40, Selection__score_func=<function f_classif at 0x7f7c260757a0>, preprocessing__df__max_features=1000, preprocessing__df__ngram_range=(1, 1)\n",
            "[CV 3/5; 10/39] END Selection__percentile=40, Selection__score_func=<function f_classif at 0x7f7c260757a0>, preprocessing__df__max_features=1000, preprocessing__df__ngram_range=(1, 1);, score=(train=0.846, test=0.667) total time=   0.5s\n",
            "[CV 4/5; 10/39] START Selection__percentile=40, Selection__score_func=<function f_classif at 0x7f7c260757a0>, preprocessing__df__max_features=1000, preprocessing__df__ngram_range=(1, 1)\n"
          ]
        },
        {
          "output_type": "stream",
          "name": "stderr",
          "text": [
            "/usr/local/lib/python3.7/dist-packages/sklearn/feature_selection/_univariate_selection.py:113: RuntimeWarning: divide by zero encountered in true_divide\n",
            "  f = msb / msw\n"
          ]
        },
        {
          "output_type": "stream",
          "name": "stdout",
          "text": [
            "[CV 4/5; 10/39] END Selection__percentile=40, Selection__score_func=<function f_classif at 0x7f7c260757a0>, preprocessing__df__max_features=1000, preprocessing__df__ngram_range=(1, 1);, score=(train=0.962, test=0.500) total time=   0.5s\n",
            "[CV 5/5; 10/39] START Selection__percentile=40, Selection__score_func=<function f_classif at 0x7f7c260757a0>, preprocessing__df__max_features=1000, preprocessing__df__ngram_range=(1, 1)\n",
            "[CV 5/5; 10/39] END Selection__percentile=40, Selection__score_func=<function f_classif at 0x7f7c260757a0>, preprocessing__df__max_features=1000, preprocessing__df__ngram_range=(1, 1);, score=(train=0.962, test=0.500) total time=   0.6s\n",
            "[CV 1/5; 11/39] START Selection__percentile=40, Selection__score_func=<function f_classif at 0x7f7c260757a0>, preprocessing__df__max_features=1000, preprocessing__df__ngram_range=(1, 2)\n",
            "[CV 1/5; 11/39] END Selection__percentile=40, Selection__score_func=<function f_classif at 0x7f7c260757a0>, preprocessing__df__max_features=1000, preprocessing__df__ngram_range=(1, 2);, score=(train=0.962, test=0.167) total time=   0.5s\n",
            "[CV 2/5; 11/39] START Selection__percentile=40, Selection__score_func=<function f_classif at 0x7f7c260757a0>, preprocessing__df__max_features=1000, preprocessing__df__ngram_range=(1, 2)\n"
          ]
        },
        {
          "output_type": "stream",
          "name": "stderr",
          "text": [
            "/usr/local/lib/python3.7/dist-packages/sklearn/feature_selection/_univariate_selection.py:113: RuntimeWarning: divide by zero encountered in true_divide\n",
            "  f = msb / msw\n"
          ]
        },
        {
          "output_type": "stream",
          "name": "stdout",
          "text": [
            "[CV 2/5; 11/39] END Selection__percentile=40, Selection__score_func=<function f_classif at 0x7f7c260757a0>, preprocessing__df__max_features=1000, preprocessing__df__ngram_range=(1, 2);, score=(train=0.923, test=0.500) total time=   0.7s\n",
            "[CV 3/5; 11/39] START Selection__percentile=40, Selection__score_func=<function f_classif at 0x7f7c260757a0>, preprocessing__df__max_features=1000, preprocessing__df__ngram_range=(1, 2)\n",
            "[CV 3/5; 11/39] END Selection__percentile=40, Selection__score_func=<function f_classif at 0x7f7c260757a0>, preprocessing__df__max_features=1000, preprocessing__df__ngram_range=(1, 2);, score=(train=0.846, test=0.667) total time=   0.5s\n",
            "[CV 4/5; 11/39] START Selection__percentile=40, Selection__score_func=<function f_classif at 0x7f7c260757a0>, preprocessing__df__max_features=1000, preprocessing__df__ngram_range=(1, 2)\n",
            "[CV 4/5; 11/39] END Selection__percentile=40, Selection__score_func=<function f_classif at 0x7f7c260757a0>, preprocessing__df__max_features=1000, preprocessing__df__ngram_range=(1, 2);, score=(train=0.962, test=0.500) total time=   0.5s\n",
            "[CV 5/5; 11/39] START Selection__percentile=40, Selection__score_func=<function f_classif at 0x7f7c260757a0>, preprocessing__df__max_features=1000, preprocessing__df__ngram_range=(1, 2)\n",
            "[CV 5/5; 11/39] END Selection__percentile=40, Selection__score_func=<function f_classif at 0x7f7c260757a0>, preprocessing__df__max_features=1000, preprocessing__df__ngram_range=(1, 2);, score=(train=0.962, test=0.500) total time=   0.6s\n",
            "[CV 1/5; 12/39] START Selection__percentile=40, Selection__score_func=<function f_classif at 0x7f7c260757a0>, preprocessing__df__max_features=1000, preprocessing__df__ngram_range=(1, 3)\n",
            "[CV 1/5; 12/39] END Selection__percentile=40, Selection__score_func=<function f_classif at 0x7f7c260757a0>, preprocessing__df__max_features=1000, preprocessing__df__ngram_range=(1, 3);, score=(train=0.962, test=0.167) total time=   0.5s\n",
            "[CV 2/5; 12/39] START Selection__percentile=40, Selection__score_func=<function f_classif at 0x7f7c260757a0>, preprocessing__df__max_features=1000, preprocessing__df__ngram_range=(1, 3)\n"
          ]
        },
        {
          "output_type": "stream",
          "name": "stderr",
          "text": [
            "/usr/local/lib/python3.7/dist-packages/sklearn/feature_selection/_univariate_selection.py:113: RuntimeWarning: divide by zero encountered in true_divide\n",
            "  f = msb / msw\n"
          ]
        },
        {
          "output_type": "stream",
          "name": "stdout",
          "text": [
            "[CV 2/5; 12/39] END Selection__percentile=40, Selection__score_func=<function f_classif at 0x7f7c260757a0>, preprocessing__df__max_features=1000, preprocessing__df__ngram_range=(1, 3);, score=(train=0.923, test=0.500) total time=   0.8s\n",
            "[CV 3/5; 12/39] START Selection__percentile=40, Selection__score_func=<function f_classif at 0x7f7c260757a0>, preprocessing__df__max_features=1000, preprocessing__df__ngram_range=(1, 3)\n",
            "[CV 3/5; 12/39] END Selection__percentile=40, Selection__score_func=<function f_classif at 0x7f7c260757a0>, preprocessing__df__max_features=1000, preprocessing__df__ngram_range=(1, 3);, score=(train=0.885, test=0.667) total time=   0.6s\n",
            "[CV 4/5; 12/39] START Selection__percentile=40, Selection__score_func=<function f_classif at 0x7f7c260757a0>, preprocessing__df__max_features=1000, preprocessing__df__ngram_range=(1, 3)\n",
            "[CV 4/5; 12/39] END Selection__percentile=40, Selection__score_func=<function f_classif at 0x7f7c260757a0>, preprocessing__df__max_features=1000, preprocessing__df__ngram_range=(1, 3);, score=(train=0.962, test=0.500) total time=   0.5s\n",
            "[CV 5/5; 12/39] START Selection__percentile=40, Selection__score_func=<function f_classif at 0x7f7c260757a0>, preprocessing__df__max_features=1000, preprocessing__df__ngram_range=(1, 3)\n",
            "[CV 5/5; 12/39] END Selection__percentile=40, Selection__score_func=<function f_classif at 0x7f7c260757a0>, preprocessing__df__max_features=1000, preprocessing__df__ngram_range=(1, 3);, score=(train=0.962, test=0.500) total time=   0.6s\n",
            "[CV 1/5; 13/39] START Selection__percentile=40, Selection__score_func=<function f_classif at 0x7f7c260757a0>, preprocessing__df__max_features=5000, preprocessing__df__ngram_range=(1, 1)\n"
          ]
        },
        {
          "output_type": "stream",
          "name": "stderr",
          "text": [
            "/usr/local/lib/python3.7/dist-packages/sklearn/feature_selection/_univariate_selection.py:112: UserWarning: Features [0 0] are constant.\n",
            "  warnings.warn(\"Features %s are constant.\" % constant_features_idx, UserWarning)\n",
            "/usr/local/lib/python3.7/dist-packages/sklearn/feature_selection/_univariate_selection.py:113: RuntimeWarning: divide by zero encountered in true_divide\n",
            "  f = msb / msw\n"
          ]
        },
        {
          "output_type": "stream",
          "name": "stdout",
          "text": [
            "[CV 1/5; 13/39] END Selection__percentile=40, Selection__score_func=<function f_classif at 0x7f7c260757a0>, preprocessing__df__max_features=5000, preprocessing__df__ngram_range=(1, 1);, score=(train=1.000, test=0.500) total time=   0.4s\n",
            "[CV 2/5; 13/39] START Selection__percentile=40, Selection__score_func=<function f_classif at 0x7f7c260757a0>, preprocessing__df__max_features=5000, preprocessing__df__ngram_range=(1, 1)\n"
          ]
        },
        {
          "output_type": "stream",
          "name": "stderr",
          "text": [
            "/usr/local/lib/python3.7/dist-packages/sklearn/feature_selection/_univariate_selection.py:113: RuntimeWarning: divide by zero encountered in true_divide\n",
            "  f = msb / msw\n"
          ]
        },
        {
          "output_type": "stream",
          "name": "stdout",
          "text": [
            "[CV 2/5; 13/39] END Selection__percentile=40, Selection__score_func=<function f_classif at 0x7f7c260757a0>, preprocessing__df__max_features=5000, preprocessing__df__ngram_range=(1, 1);, score=(train=1.000, test=0.500) total time=   0.7s\n",
            "[CV 3/5; 13/39] START Selection__percentile=40, Selection__score_func=<function f_classif at 0x7f7c260757a0>, preprocessing__df__max_features=5000, preprocessing__df__ngram_range=(1, 1)\n"
          ]
        },
        {
          "output_type": "stream",
          "name": "stderr",
          "text": [
            "/usr/local/lib/python3.7/dist-packages/sklearn/feature_selection/_univariate_selection.py:113: RuntimeWarning: divide by zero encountered in true_divide\n",
            "  f = msb / msw\n"
          ]
        },
        {
          "output_type": "stream",
          "name": "stdout",
          "text": [
            "[CV 3/5; 13/39] END Selection__percentile=40, Selection__score_func=<function f_classif at 0x7f7c260757a0>, preprocessing__df__max_features=5000, preprocessing__df__ngram_range=(1, 1);, score=(train=0.962, test=0.500) total time=   0.5s\n",
            "[CV 4/5; 13/39] START Selection__percentile=40, Selection__score_func=<function f_classif at 0x7f7c260757a0>, preprocessing__df__max_features=5000, preprocessing__df__ngram_range=(1, 1)\n"
          ]
        },
        {
          "output_type": "stream",
          "name": "stderr",
          "text": [
            "/usr/local/lib/python3.7/dist-packages/sklearn/feature_selection/_univariate_selection.py:113: RuntimeWarning: divide by zero encountered in true_divide\n",
            "  f = msb / msw\n"
          ]
        },
        {
          "output_type": "stream",
          "name": "stdout",
          "text": [
            "[CV 4/5; 13/39] END Selection__percentile=40, Selection__score_func=<function f_classif at 0x7f7c260757a0>, preprocessing__df__max_features=5000, preprocessing__df__ngram_range=(1, 1);, score=(train=0.962, test=0.500) total time=   0.5s\n",
            "[CV 5/5; 13/39] START Selection__percentile=40, Selection__score_func=<function f_classif at 0x7f7c260757a0>, preprocessing__df__max_features=5000, preprocessing__df__ngram_range=(1, 1)\n",
            "[CV 5/5; 13/39] END Selection__percentile=40, Selection__score_func=<function f_classif at 0x7f7c260757a0>, preprocessing__df__max_features=5000, preprocessing__df__ngram_range=(1, 1);, score=(train=1.000, test=0.500) total time=   0.5s\n",
            "[CV 1/5; 14/39] START Selection__percentile=40, Selection__score_func=<function f_classif at 0x7f7c260757a0>, preprocessing__df__max_features=5000, preprocessing__df__ngram_range=(1, 2)\n"
          ]
        },
        {
          "output_type": "stream",
          "name": "stderr",
          "text": [
            "/usr/local/lib/python3.7/dist-packages/sklearn/feature_selection/_univariate_selection.py:112: UserWarning: Features [0 0 0 0 0 0 0 0] are constant.\n",
            "  warnings.warn(\"Features %s are constant.\" % constant_features_idx, UserWarning)\n",
            "/usr/local/lib/python3.7/dist-packages/sklearn/feature_selection/_univariate_selection.py:113: RuntimeWarning: divide by zero encountered in true_divide\n",
            "  f = msb / msw\n"
          ]
        },
        {
          "output_type": "stream",
          "name": "stdout",
          "text": [
            "[CV 1/5; 14/39] END Selection__percentile=40, Selection__score_func=<function f_classif at 0x7f7c260757a0>, preprocessing__df__max_features=5000, preprocessing__df__ngram_range=(1, 2);, score=(train=1.000, test=0.667) total time=   0.5s\n",
            "[CV 2/5; 14/39] START Selection__percentile=40, Selection__score_func=<function f_classif at 0x7f7c260757a0>, preprocessing__df__max_features=5000, preprocessing__df__ngram_range=(1, 2)\n"
          ]
        },
        {
          "output_type": "stream",
          "name": "stderr",
          "text": [
            "/usr/local/lib/python3.7/dist-packages/sklearn/feature_selection/_univariate_selection.py:113: RuntimeWarning: divide by zero encountered in true_divide\n",
            "  f = msb / msw\n"
          ]
        },
        {
          "output_type": "stream",
          "name": "stdout",
          "text": [
            "[CV 2/5; 14/39] END Selection__percentile=40, Selection__score_func=<function f_classif at 0x7f7c260757a0>, preprocessing__df__max_features=5000, preprocessing__df__ngram_range=(1, 2);, score=(train=1.000, test=0.500) total time=   0.7s\n",
            "[CV 3/5; 14/39] START Selection__percentile=40, Selection__score_func=<function f_classif at 0x7f7c260757a0>, preprocessing__df__max_features=5000, preprocessing__df__ngram_range=(1, 2)\n"
          ]
        },
        {
          "output_type": "stream",
          "name": "stderr",
          "text": [
            "/usr/local/lib/python3.7/dist-packages/sklearn/feature_selection/_univariate_selection.py:113: RuntimeWarning: divide by zero encountered in true_divide\n",
            "  f = msb / msw\n"
          ]
        },
        {
          "output_type": "stream",
          "name": "stdout",
          "text": [
            "[CV 3/5; 14/39] END Selection__percentile=40, Selection__score_func=<function f_classif at 0x7f7c260757a0>, preprocessing__df__max_features=5000, preprocessing__df__ngram_range=(1, 2);, score=(train=0.962, test=0.500) total time=   0.5s\n",
            "[CV 4/5; 14/39] START Selection__percentile=40, Selection__score_func=<function f_classif at 0x7f7c260757a0>, preprocessing__df__max_features=5000, preprocessing__df__ngram_range=(1, 2)\n"
          ]
        }
      ]
    },
    {
      "cell_type": "code",
      "metadata": {
        "colab": {
          "base_uri": "https://localhost:8080/"
        },
        "id": "344D5mZm2YxM",
        "outputId": "6a826e68-0a02-4886-fdee-bf79b180221d"
      },
      "source": [
        "hgs.cv_results_"
      ],
      "execution_count": 62,
      "outputs": [
        {
          "output_type": "execute_result",
          "data": {
            "text/plain": [
              "{'iter': array([0, 0, 0, 0, 0, 0, 0, 0, 0, 0, 0, 0, 0, 0, 0, 0, 0, 0, 0, 0, 0, 0,\n",
              "        0, 0, 0, 0, 0, 0, 0, 0, 0, 0, 0, 0, 0, 0, 0, 0, 1, 1, 1, 1, 1, 1,\n",
              "        1, 1, 1, 1, 1, 1, 1, 2, 2, 2, 2, 2, 3, 3]),\n",
              " 'mean_fit_time': array([ 0.37227974,  0.39414973,  0.44682097,  0.36986613,  0.40059166,\n",
              "         0.44362087,  0.36381583,  0.43384533,  0.44178243,  0.36984053,\n",
              "         0.40931211,  0.44135165,  0.37519274,  0.40327525,  0.44633331,\n",
              "         0.37144041,  0.41071534,  0.44797845,  0.3751399 ,  0.39607835,\n",
              "         0.44719868,  0.37983809,  0.40112491,  0.45283747,  0.3778388 ,\n",
              "         0.40712314,  0.45227304,  0.37845712,  0.4045505 ,  0.45869031,\n",
              "         0.37174444,  0.40528178,  0.45603089,  0.37831202,  0.40068536,\n",
              "         0.45224652,  0.43757315,  0.40779614,  1.63863778,  1.46105604,\n",
              "         1.46359649,  1.60965338,  1.82499113,  1.46713619,  1.4684351 ,\n",
              "         1.44766974,  1.83793492,  1.83549652,  1.73221903,  1.61872525,\n",
              "         1.63059311,  4.24313126,  4.22244959,  5.39596062,  4.25106959,\n",
              "         5.40046411, 15.46279492, 12.05749946]),\n",
              " 'mean_score_time': array([0.1590116 , 0.15880604, 0.1628159 , 0.15704651, 0.16007042,\n",
              "        0.09609146, 0.16191239, 0.09129682, 0.09591012, 0.15392852,\n",
              "        0.15973225, 0.16145792, 0.16006918, 0.16091371, 0.16270876,\n",
              "        0.15700755, 0.16348181, 0.16257973, 0.16027765, 0.1589828 ,\n",
              "        0.16219783, 0.15924764, 0.15910311, 0.16136937, 0.15777574,\n",
              "        0.16340866, 0.16082273, 0.15939136, 0.15912991, 0.16260705,\n",
              "        0.15607262, 0.1597506 , 0.16176429, 0.15677352, 0.16149597,\n",
              "        0.16354399, 0.09350567, 0.09284143, 0.3725729 , 0.35686588,\n",
              "        0.35774455, 0.36783657, 0.37488689, 0.35637741, 0.35969105,\n",
              "        0.36070085, 0.38387852, 0.37401257, 0.374088  , 0.37046275,\n",
              "        0.36907754, 1.01537337, 1.01799121, 1.06486053, 1.01189241,\n",
              "        1.06019669, 3.16776128, 3.01274285]),\n",
              " 'mean_test_score': array([0.43333333, 0.4       , 0.43333333, 0.5       , 0.4       ,\n",
              "               nan, 0.5       ,        nan,        nan, 0.46666667,\n",
              "        0.46666667, 0.46666667, 0.5       , 0.5       , 0.5       ,\n",
              "        0.5       , 0.5       , 0.5       , 0.5       , 0.5       ,\n",
              "        0.5       , 0.6       , 0.53333333, 0.53333333, 0.6       ,\n",
              "        0.5       , 0.5       , 0.63333333, 0.6       , 0.6       ,\n",
              "        0.6       , 0.53333333, 0.5       , 0.6       , 0.56666667,\n",
              "        0.53333333,        nan,        nan, 0.57894737, 0.57894737,\n",
              "        0.56842105, 0.56842105, 0.56842105, 0.56842105, 0.57894737,\n",
              "        0.58947368, 0.58947368, 0.57894737, 0.56842105, 0.56842105,\n",
              "        0.43157895, 0.62033898, 0.62711864, 0.62033898, 0.57627119,\n",
              "        0.61694915, 0.61081699, 0.62548086]),\n",
              " 'mean_train_score': array([0.86153846, 0.83846154, 0.84615385, 0.81538462, 0.80769231,\n",
              "               nan, 0.81538462,        nan,        nan, 0.91538462,\n",
              "        0.93076923, 0.93846154, 0.98461538, 0.97692308, 0.97692308,\n",
              "        0.98461538, 0.96153846, 0.96923077, 0.96923077, 0.94615385,\n",
              "        0.96153846, 0.99230769, 1.        , 0.98461538, 0.99230769,\n",
              "        0.99230769, 1.        , 0.95384615, 0.94615385, 0.95384615,\n",
              "        1.        , 1.        , 0.98461538, 1.        , 1.        ,\n",
              "        1.        ,        nan,        nan, 0.96455696, 0.95949367,\n",
              "        0.95443038, 0.80253165, 0.79240506, 0.95189873, 0.95949367,\n",
              "        0.84303797, 0.91392405, 0.89113924, 0.98987342, 0.89873418,\n",
              "        0.99240506, 0.94008439, 0.94345992, 0.88945148, 0.76033755,\n",
              "        0.85063291, 0.79696763, 0.87587973]),\n",
              " 'n_resources': array([ 33,  33,  33,  33,  33,  33,  33,  33,  33,  33,  33,  33,  33,\n",
              "         33,  33,  33,  33,  33,  33,  33,  33,  33,  33,  33,  33,  33,\n",
              "         33,  33,  33,  33,  33,  33,  33,  33,  33,  33,  33,  33,  99,\n",
              "         99,  99,  99,  99,  99,  99,  99,  99,  99,  99,  99,  99, 297,\n",
              "        297, 297, 297, 297, 891, 891]),\n",
              " 'param_Selection__percentile': masked_array(data=[20, 20, 20, 20, 20, 20, 20, 20, 20, 40, 40, 40, 40, 40,\n",
              "                    40, 40, 40, 40, 60, 60, 60, 60, 60, 60, 60, 60, 60, 80,\n",
              "                    80, 80, 80, 80, 80, 80, 80, 80, --, --, 80, 80, 60, 80,\n",
              "                    80, 80, 60, 80, 20, 20, --, 20, --, 80, 60, 20, 80, 20,\n",
              "                    20, 60],\n",
              "              mask=[False, False, False, False, False, False, False, False,\n",
              "                    False, False, False, False, False, False, False, False,\n",
              "                    False, False, False, False, False, False, False, False,\n",
              "                    False, False, False, False, False, False, False, False,\n",
              "                    False, False, False, False,  True,  True, False, False,\n",
              "                    False, False, False, False, False, False, False, False,\n",
              "                     True, False,  True, False, False, False, False, False,\n",
              "                    False, False],\n",
              "        fill_value='?',\n",
              "             dtype=object),\n",
              " 'param_Selection__score_func': masked_array(data=[<function f_classif at 0x7f7c260757a0>,\n",
              "                    <function f_classif at 0x7f7c260757a0>,\n",
              "                    <function f_classif at 0x7f7c260757a0>,\n",
              "                    <function f_classif at 0x7f7c260757a0>,\n",
              "                    <function f_classif at 0x7f7c260757a0>,\n",
              "                    <function f_classif at 0x7f7c260757a0>,\n",
              "                    <function f_classif at 0x7f7c260757a0>,\n",
              "                    <function f_classif at 0x7f7c260757a0>,\n",
              "                    <function f_classif at 0x7f7c260757a0>,\n",
              "                    <function f_classif at 0x7f7c260757a0>,\n",
              "                    <function f_classif at 0x7f7c260757a0>,\n",
              "                    <function f_classif at 0x7f7c260757a0>,\n",
              "                    <function f_classif at 0x7f7c260757a0>,\n",
              "                    <function f_classif at 0x7f7c260757a0>,\n",
              "                    <function f_classif at 0x7f7c260757a0>,\n",
              "                    <function f_classif at 0x7f7c260757a0>,\n",
              "                    <function f_classif at 0x7f7c260757a0>,\n",
              "                    <function f_classif at 0x7f7c260757a0>,\n",
              "                    <function f_classif at 0x7f7c260757a0>,\n",
              "                    <function f_classif at 0x7f7c260757a0>,\n",
              "                    <function f_classif at 0x7f7c260757a0>,\n",
              "                    <function f_classif at 0x7f7c260757a0>,\n",
              "                    <function f_classif at 0x7f7c260757a0>,\n",
              "                    <function f_classif at 0x7f7c260757a0>,\n",
              "                    <function f_classif at 0x7f7c260757a0>,\n",
              "                    <function f_classif at 0x7f7c260757a0>,\n",
              "                    <function f_classif at 0x7f7c260757a0>,\n",
              "                    <function f_classif at 0x7f7c260757a0>,\n",
              "                    <function f_classif at 0x7f7c260757a0>,\n",
              "                    <function f_classif at 0x7f7c260757a0>,\n",
              "                    <function f_classif at 0x7f7c260757a0>,\n",
              "                    <function f_classif at 0x7f7c260757a0>,\n",
              "                    <function f_classif at 0x7f7c260757a0>,\n",
              "                    <function f_classif at 0x7f7c260757a0>,\n",
              "                    <function f_classif at 0x7f7c260757a0>,\n",
              "                    <function f_classif at 0x7f7c260757a0>, --, --,\n",
              "                    <function f_classif at 0x7f7c260757a0>,\n",
              "                    <function f_classif at 0x7f7c260757a0>,\n",
              "                    <function f_classif at 0x7f7c260757a0>,\n",
              "                    <function f_classif at 0x7f7c260757a0>,\n",
              "                    <function f_classif at 0x7f7c260757a0>,\n",
              "                    <function f_classif at 0x7f7c260757a0>,\n",
              "                    <function f_classif at 0x7f7c260757a0>,\n",
              "                    <function f_classif at 0x7f7c260757a0>,\n",
              "                    <function f_classif at 0x7f7c260757a0>,\n",
              "                    <function f_classif at 0x7f7c260757a0>, --,\n",
              "                    <function f_classif at 0x7f7c260757a0>, --,\n",
              "                    <function f_classif at 0x7f7c260757a0>,\n",
              "                    <function f_classif at 0x7f7c260757a0>,\n",
              "                    <function f_classif at 0x7f7c260757a0>,\n",
              "                    <function f_classif at 0x7f7c260757a0>,\n",
              "                    <function f_classif at 0x7f7c260757a0>,\n",
              "                    <function f_classif at 0x7f7c260757a0>,\n",
              "                    <function f_classif at 0x7f7c260757a0>],\n",
              "              mask=[False, False, False, False, False, False, False, False,\n",
              "                    False, False, False, False, False, False, False, False,\n",
              "                    False, False, False, False, False, False, False, False,\n",
              "                    False, False, False, False, False, False, False, False,\n",
              "                    False, False, False, False,  True,  True, False, False,\n",
              "                    False, False, False, False, False, False, False, False,\n",
              "                     True, False,  True, False, False, False, False, False,\n",
              "                    False, False],\n",
              "        fill_value='?',\n",
              "             dtype=object),\n",
              " 'param_clf': masked_array(data=[--, --, --, --, --, --, --, --, --, --, --, --, --, --,\n",
              "                    --, --, --, --, --, --, --, --, --, --, --, --, --, --,\n",
              "                    --, --, --, --, --, --, --, --, LogisticRegression(),\n",
              "                    DecisionTreeClassifier(), --, --, --, --, --, --, --,\n",
              "                    --, --, --, LogisticRegression(), --,\n",
              "                    DecisionTreeClassifier(), --, --, --, --, --, --, --],\n",
              "              mask=[ True,  True,  True,  True,  True,  True,  True,  True,\n",
              "                     True,  True,  True,  True,  True,  True,  True,  True,\n",
              "                     True,  True,  True,  True,  True,  True,  True,  True,\n",
              "                     True,  True,  True,  True,  True,  True,  True,  True,\n",
              "                     True,  True,  True,  True, False, False,  True,  True,\n",
              "                     True,  True,  True,  True,  True,  True,  True,  True,\n",
              "                    False,  True, False,  True,  True,  True,  True,  True,\n",
              "                     True,  True],\n",
              "        fill_value='?',\n",
              "             dtype=object),\n",
              " 'param_clf__multi_class': masked_array(data=[--, --, --, --, --, --, --, --, --, --, --, --, --, --,\n",
              "                    --, --, --, --, --, --, --, --, --, --, --, --, --, --,\n",
              "                    --, --, --, --, --, --, --, --, 'multinomial', --, --,\n",
              "                    --, --, --, --, --, --, --, --, --, 'multinomial', --,\n",
              "                    --, --, --, --, --, --, --, --],\n",
              "              mask=[ True,  True,  True,  True,  True,  True,  True,  True,\n",
              "                     True,  True,  True,  True,  True,  True,  True,  True,\n",
              "                     True,  True,  True,  True,  True,  True,  True,  True,\n",
              "                     True,  True,  True,  True,  True,  True,  True,  True,\n",
              "                     True,  True,  True,  True, False,  True,  True,  True,\n",
              "                     True,  True,  True,  True,  True,  True,  True,  True,\n",
              "                    False,  True,  True,  True,  True,  True,  True,  True,\n",
              "                     True,  True],\n",
              "        fill_value='?',\n",
              "             dtype=object),\n",
              " 'param_preprocessing__df__max_features': masked_array(data=[1000, 1000, 1000, 5000, 5000, 5000, 10000, 10000,\n",
              "                    10000, 1000, 1000, 1000, 5000, 5000, 5000, 10000,\n",
              "                    10000, 10000, 1000, 1000, 1000, 5000, 5000, 5000,\n",
              "                    10000, 10000, 10000, 1000, 1000, 1000, 5000, 5000,\n",
              "                    5000, 10000, 10000, 10000, --, --, 10000, 10000, 5000,\n",
              "                    1000, 1000, 5000, 10000, 1000, 5000, 10000, --, 10000,\n",
              "                    --, 10000, 10000, 10000, 1000, 5000, 10000, 10000],\n",
              "              mask=[False, False, False, False, False, False, False, False,\n",
              "                    False, False, False, False, False, False, False, False,\n",
              "                    False, False, False, False, False, False, False, False,\n",
              "                    False, False, False, False, False, False, False, False,\n",
              "                    False, False, False, False,  True,  True, False, False,\n",
              "                    False, False, False, False, False, False, False, False,\n",
              "                     True, False,  True, False, False, False, False, False,\n",
              "                    False, False],\n",
              "        fill_value='?',\n",
              "             dtype=object),\n",
              " 'param_preprocessing__df__ngram_range': masked_array(data=[(1, 1), (1, 2), (1, 3), (1, 1), (1, 2), (1, 3), (1, 1),\n",
              "                    (1, 2), (1, 3), (1, 1), (1, 2), (1, 3), (1, 1), (1, 2),\n",
              "                    (1, 3), (1, 1), (1, 2), (1, 3), (1, 1), (1, 2), (1, 3),\n",
              "                    (1, 1), (1, 2), (1, 3), (1, 1), (1, 2), (1, 3), (1, 1),\n",
              "                    (1, 2), (1, 3), (1, 1), (1, 2), (1, 3), (1, 1), (1, 2),\n",
              "                    (1, 3), --, --, (1, 2), (1, 1), (1, 1), (1, 2), (1, 3),\n",
              "                    (1, 1), (1, 1), (1, 1), (1, 3), (1, 3), --, (1, 2), --,\n",
              "                    (1, 1), (1, 1), (1, 3), (1, 1), (1, 3), (1, 3), (1, 1)],\n",
              "              mask=[False, False, False, False, False, False, False, False,\n",
              "                    False, False, False, False, False, False, False, False,\n",
              "                    False, False, False, False, False, False, False, False,\n",
              "                    False, False, False, False, False, False, False, False,\n",
              "                    False, False, False, False,  True,  True, False, False,\n",
              "                    False, False, False, False, False, False, False, False,\n",
              "                     True, False,  True, False, False, False, False, False,\n",
              "                    False, False],\n",
              "        fill_value='?',\n",
              "             dtype=object),\n",
              " 'params': [{'Selection__percentile': 20,\n",
              "   'Selection__score_func': <function sklearn.feature_selection._univariate_selection.f_classif>,\n",
              "   'preprocessing__df__max_features': 1000,\n",
              "   'preprocessing__df__ngram_range': (1, 1)},\n",
              "  {'Selection__percentile': 20,\n",
              "   'Selection__score_func': <function sklearn.feature_selection._univariate_selection.f_classif>,\n",
              "   'preprocessing__df__max_features': 1000,\n",
              "   'preprocessing__df__ngram_range': (1, 2)},\n",
              "  {'Selection__percentile': 20,\n",
              "   'Selection__score_func': <function sklearn.feature_selection._univariate_selection.f_classif>,\n",
              "   'preprocessing__df__max_features': 1000,\n",
              "   'preprocessing__df__ngram_range': (1, 3)},\n",
              "  {'Selection__percentile': 20,\n",
              "   'Selection__score_func': <function sklearn.feature_selection._univariate_selection.f_classif>,\n",
              "   'preprocessing__df__max_features': 5000,\n",
              "   'preprocessing__df__ngram_range': (1, 1)},\n",
              "  {'Selection__percentile': 20,\n",
              "   'Selection__score_func': <function sklearn.feature_selection._univariate_selection.f_classif>,\n",
              "   'preprocessing__df__max_features': 5000,\n",
              "   'preprocessing__df__ngram_range': (1, 2)},\n",
              "  {'Selection__percentile': 20,\n",
              "   'Selection__score_func': <function sklearn.feature_selection._univariate_selection.f_classif>,\n",
              "   'preprocessing__df__max_features': 5000,\n",
              "   'preprocessing__df__ngram_range': (1, 3)},\n",
              "  {'Selection__percentile': 20,\n",
              "   'Selection__score_func': <function sklearn.feature_selection._univariate_selection.f_classif>,\n",
              "   'preprocessing__df__max_features': 10000,\n",
              "   'preprocessing__df__ngram_range': (1, 1)},\n",
              "  {'Selection__percentile': 20,\n",
              "   'Selection__score_func': <function sklearn.feature_selection._univariate_selection.f_classif>,\n",
              "   'preprocessing__df__max_features': 10000,\n",
              "   'preprocessing__df__ngram_range': (1, 2)},\n",
              "  {'Selection__percentile': 20,\n",
              "   'Selection__score_func': <function sklearn.feature_selection._univariate_selection.f_classif>,\n",
              "   'preprocessing__df__max_features': 10000,\n",
              "   'preprocessing__df__ngram_range': (1, 3)},\n",
              "  {'Selection__percentile': 40,\n",
              "   'Selection__score_func': <function sklearn.feature_selection._univariate_selection.f_classif>,\n",
              "   'preprocessing__df__max_features': 1000,\n",
              "   'preprocessing__df__ngram_range': (1, 1)},\n",
              "  {'Selection__percentile': 40,\n",
              "   'Selection__score_func': <function sklearn.feature_selection._univariate_selection.f_classif>,\n",
              "   'preprocessing__df__max_features': 1000,\n",
              "   'preprocessing__df__ngram_range': (1, 2)},\n",
              "  {'Selection__percentile': 40,\n",
              "   'Selection__score_func': <function sklearn.feature_selection._univariate_selection.f_classif>,\n",
              "   'preprocessing__df__max_features': 1000,\n",
              "   'preprocessing__df__ngram_range': (1, 3)},\n",
              "  {'Selection__percentile': 40,\n",
              "   'Selection__score_func': <function sklearn.feature_selection._univariate_selection.f_classif>,\n",
              "   'preprocessing__df__max_features': 5000,\n",
              "   'preprocessing__df__ngram_range': (1, 1)},\n",
              "  {'Selection__percentile': 40,\n",
              "   'Selection__score_func': <function sklearn.feature_selection._univariate_selection.f_classif>,\n",
              "   'preprocessing__df__max_features': 5000,\n",
              "   'preprocessing__df__ngram_range': (1, 2)},\n",
              "  {'Selection__percentile': 40,\n",
              "   'Selection__score_func': <function sklearn.feature_selection._univariate_selection.f_classif>,\n",
              "   'preprocessing__df__max_features': 5000,\n",
              "   'preprocessing__df__ngram_range': (1, 3)},\n",
              "  {'Selection__percentile': 40,\n",
              "   'Selection__score_func': <function sklearn.feature_selection._univariate_selection.f_classif>,\n",
              "   'preprocessing__df__max_features': 10000,\n",
              "   'preprocessing__df__ngram_range': (1, 1)},\n",
              "  {'Selection__percentile': 40,\n",
              "   'Selection__score_func': <function sklearn.feature_selection._univariate_selection.f_classif>,\n",
              "   'preprocessing__df__max_features': 10000,\n",
              "   'preprocessing__df__ngram_range': (1, 2)},\n",
              "  {'Selection__percentile': 40,\n",
              "   'Selection__score_func': <function sklearn.feature_selection._univariate_selection.f_classif>,\n",
              "   'preprocessing__df__max_features': 10000,\n",
              "   'preprocessing__df__ngram_range': (1, 3)},\n",
              "  {'Selection__percentile': 60,\n",
              "   'Selection__score_func': <function sklearn.feature_selection._univariate_selection.f_classif>,\n",
              "   'preprocessing__df__max_features': 1000,\n",
              "   'preprocessing__df__ngram_range': (1, 1)},\n",
              "  {'Selection__percentile': 60,\n",
              "   'Selection__score_func': <function sklearn.feature_selection._univariate_selection.f_classif>,\n",
              "   'preprocessing__df__max_features': 1000,\n",
              "   'preprocessing__df__ngram_range': (1, 2)},\n",
              "  {'Selection__percentile': 60,\n",
              "   'Selection__score_func': <function sklearn.feature_selection._univariate_selection.f_classif>,\n",
              "   'preprocessing__df__max_features': 1000,\n",
              "   'preprocessing__df__ngram_range': (1, 3)},\n",
              "  {'Selection__percentile': 60,\n",
              "   'Selection__score_func': <function sklearn.feature_selection._univariate_selection.f_classif>,\n",
              "   'preprocessing__df__max_features': 5000,\n",
              "   'preprocessing__df__ngram_range': (1, 1)},\n",
              "  {'Selection__percentile': 60,\n",
              "   'Selection__score_func': <function sklearn.feature_selection._univariate_selection.f_classif>,\n",
              "   'preprocessing__df__max_features': 5000,\n",
              "   'preprocessing__df__ngram_range': (1, 2)},\n",
              "  {'Selection__percentile': 60,\n",
              "   'Selection__score_func': <function sklearn.feature_selection._univariate_selection.f_classif>,\n",
              "   'preprocessing__df__max_features': 5000,\n",
              "   'preprocessing__df__ngram_range': (1, 3)},\n",
              "  {'Selection__percentile': 60,\n",
              "   'Selection__score_func': <function sklearn.feature_selection._univariate_selection.f_classif>,\n",
              "   'preprocessing__df__max_features': 10000,\n",
              "   'preprocessing__df__ngram_range': (1, 1)},\n",
              "  {'Selection__percentile': 60,\n",
              "   'Selection__score_func': <function sklearn.feature_selection._univariate_selection.f_classif>,\n",
              "   'preprocessing__df__max_features': 10000,\n",
              "   'preprocessing__df__ngram_range': (1, 2)},\n",
              "  {'Selection__percentile': 60,\n",
              "   'Selection__score_func': <function sklearn.feature_selection._univariate_selection.f_classif>,\n",
              "   'preprocessing__df__max_features': 10000,\n",
              "   'preprocessing__df__ngram_range': (1, 3)},\n",
              "  {'Selection__percentile': 80,\n",
              "   'Selection__score_func': <function sklearn.feature_selection._univariate_selection.f_classif>,\n",
              "   'preprocessing__df__max_features': 1000,\n",
              "   'preprocessing__df__ngram_range': (1, 1)},\n",
              "  {'Selection__percentile': 80,\n",
              "   'Selection__score_func': <function sklearn.feature_selection._univariate_selection.f_classif>,\n",
              "   'preprocessing__df__max_features': 1000,\n",
              "   'preprocessing__df__ngram_range': (1, 2)},\n",
              "  {'Selection__percentile': 80,\n",
              "   'Selection__score_func': <function sklearn.feature_selection._univariate_selection.f_classif>,\n",
              "   'preprocessing__df__max_features': 1000,\n",
              "   'preprocessing__df__ngram_range': (1, 3)},\n",
              "  {'Selection__percentile': 80,\n",
              "   'Selection__score_func': <function sklearn.feature_selection._univariate_selection.f_classif>,\n",
              "   'preprocessing__df__max_features': 5000,\n",
              "   'preprocessing__df__ngram_range': (1, 1)},\n",
              "  {'Selection__percentile': 80,\n",
              "   'Selection__score_func': <function sklearn.feature_selection._univariate_selection.f_classif>,\n",
              "   'preprocessing__df__max_features': 5000,\n",
              "   'preprocessing__df__ngram_range': (1, 2)},\n",
              "  {'Selection__percentile': 80,\n",
              "   'Selection__score_func': <function sklearn.feature_selection._univariate_selection.f_classif>,\n",
              "   'preprocessing__df__max_features': 5000,\n",
              "   'preprocessing__df__ngram_range': (1, 3)},\n",
              "  {'Selection__percentile': 80,\n",
              "   'Selection__score_func': <function sklearn.feature_selection._univariate_selection.f_classif>,\n",
              "   'preprocessing__df__max_features': 10000,\n",
              "   'preprocessing__df__ngram_range': (1, 1)},\n",
              "  {'Selection__percentile': 80,\n",
              "   'Selection__score_func': <function sklearn.feature_selection._univariate_selection.f_classif>,\n",
              "   'preprocessing__df__max_features': 10000,\n",
              "   'preprocessing__df__ngram_range': (1, 2)},\n",
              "  {'Selection__percentile': 80,\n",
              "   'Selection__score_func': <function sklearn.feature_selection._univariate_selection.f_classif>,\n",
              "   'preprocessing__df__max_features': 10000,\n",
              "   'preprocessing__df__ngram_range': (1, 3)},\n",
              "  {'clf': LogisticRegression(), 'clf__multi_class': 'multinomial'},\n",
              "  {'clf': DecisionTreeClassifier()},\n",
              "  {'Selection__percentile': 80,\n",
              "   'Selection__score_func': <function sklearn.feature_selection._univariate_selection.f_classif>,\n",
              "   'preprocessing__df__max_features': 10000,\n",
              "   'preprocessing__df__ngram_range': (1, 2)},\n",
              "  {'Selection__percentile': 80,\n",
              "   'Selection__score_func': <function sklearn.feature_selection._univariate_selection.f_classif>,\n",
              "   'preprocessing__df__max_features': 10000,\n",
              "   'preprocessing__df__ngram_range': (1, 1)},\n",
              "  {'Selection__percentile': 60,\n",
              "   'Selection__score_func': <function sklearn.feature_selection._univariate_selection.f_classif>,\n",
              "   'preprocessing__df__max_features': 5000,\n",
              "   'preprocessing__df__ngram_range': (1, 1)},\n",
              "  {'Selection__percentile': 80,\n",
              "   'Selection__score_func': <function sklearn.feature_selection._univariate_selection.f_classif>,\n",
              "   'preprocessing__df__max_features': 1000,\n",
              "   'preprocessing__df__ngram_range': (1, 2)},\n",
              "  {'Selection__percentile': 80,\n",
              "   'Selection__score_func': <function sklearn.feature_selection._univariate_selection.f_classif>,\n",
              "   'preprocessing__df__max_features': 1000,\n",
              "   'preprocessing__df__ngram_range': (1, 3)},\n",
              "  {'Selection__percentile': 80,\n",
              "   'Selection__score_func': <function sklearn.feature_selection._univariate_selection.f_classif>,\n",
              "   'preprocessing__df__max_features': 5000,\n",
              "   'preprocessing__df__ngram_range': (1, 1)},\n",
              "  {'Selection__percentile': 60,\n",
              "   'Selection__score_func': <function sklearn.feature_selection._univariate_selection.f_classif>,\n",
              "   'preprocessing__df__max_features': 10000,\n",
              "   'preprocessing__df__ngram_range': (1, 1)},\n",
              "  {'Selection__percentile': 80,\n",
              "   'Selection__score_func': <function sklearn.feature_selection._univariate_selection.f_classif>,\n",
              "   'preprocessing__df__max_features': 1000,\n",
              "   'preprocessing__df__ngram_range': (1, 1)},\n",
              "  {'Selection__percentile': 20,\n",
              "   'Selection__score_func': <function sklearn.feature_selection._univariate_selection.f_classif>,\n",
              "   'preprocessing__df__max_features': 5000,\n",
              "   'preprocessing__df__ngram_range': (1, 3)},\n",
              "  {'Selection__percentile': 20,\n",
              "   'Selection__score_func': <function sklearn.feature_selection._univariate_selection.f_classif>,\n",
              "   'preprocessing__df__max_features': 10000,\n",
              "   'preprocessing__df__ngram_range': (1, 3)},\n",
              "  {'clf': LogisticRegression(), 'clf__multi_class': 'multinomial'},\n",
              "  {'Selection__percentile': 20,\n",
              "   'Selection__score_func': <function sklearn.feature_selection._univariate_selection.f_classif>,\n",
              "   'preprocessing__df__max_features': 10000,\n",
              "   'preprocessing__df__ngram_range': (1, 2)},\n",
              "  {'clf': DecisionTreeClassifier()},\n",
              "  {'Selection__percentile': 80,\n",
              "   'Selection__score_func': <function sklearn.feature_selection._univariate_selection.f_classif>,\n",
              "   'preprocessing__df__max_features': 10000,\n",
              "   'preprocessing__df__ngram_range': (1, 1)},\n",
              "  {'Selection__percentile': 60,\n",
              "   'Selection__score_func': <function sklearn.feature_selection._univariate_selection.f_classif>,\n",
              "   'preprocessing__df__max_features': 10000,\n",
              "   'preprocessing__df__ngram_range': (1, 1)},\n",
              "  {'Selection__percentile': 20,\n",
              "   'Selection__score_func': <function sklearn.feature_selection._univariate_selection.f_classif>,\n",
              "   'preprocessing__df__max_features': 10000,\n",
              "   'preprocessing__df__ngram_range': (1, 3)},\n",
              "  {'Selection__percentile': 80,\n",
              "   'Selection__score_func': <function sklearn.feature_selection._univariate_selection.f_classif>,\n",
              "   'preprocessing__df__max_features': 1000,\n",
              "   'preprocessing__df__ngram_range': (1, 1)},\n",
              "  {'Selection__percentile': 20,\n",
              "   'Selection__score_func': <function sklearn.feature_selection._univariate_selection.f_classif>,\n",
              "   'preprocessing__df__max_features': 5000,\n",
              "   'preprocessing__df__ngram_range': (1, 3)},\n",
              "  {'Selection__percentile': 20,\n",
              "   'Selection__score_func': <function sklearn.feature_selection._univariate_selection.f_classif>,\n",
              "   'preprocessing__df__max_features': 10000,\n",
              "   'preprocessing__df__ngram_range': (1, 3)},\n",
              "  {'Selection__percentile': 60,\n",
              "   'Selection__score_func': <function sklearn.feature_selection._univariate_selection.f_classif>,\n",
              "   'preprocessing__df__max_features': 10000,\n",
              "   'preprocessing__df__ngram_range': (1, 1)}],\n",
              " 'rank_test_score': array([49, 52, 49, 32, 52, 54, 32, 56, 55, 46, 46, 46, 32, 32, 32, 32, 32,\n",
              "        32, 32, 32, 32,  8, 28, 28,  8, 32, 32,  1,  8,  8,  8, 28, 32,  8,\n",
              "        27, 28, 58, 57, 16, 16, 21, 21, 21, 21, 16, 14, 14, 16, 21, 21, 51,\n",
              "         4,  2,  4, 20,  6,  7,  3], dtype=int32),\n",
              " 'split0_test_score': array([0.66666667, 0.5       , 0.66666667, 0.66666667, 0.5       ,\n",
              "        0.5       , 0.66666667, 0.5       , 0.5       , 0.16666667,\n",
              "        0.16666667, 0.16666667, 0.5       , 0.66666667, 0.66666667,\n",
              "        0.5       , 0.66666667, 0.66666667, 0.16666667, 0.33333333,\n",
              "        0.33333333, 0.66666667, 0.66666667, 0.66666667, 0.66666667,\n",
              "        0.66666667, 0.66666667, 0.66666667, 0.66666667, 0.66666667,\n",
              "        0.66666667, 0.5       , 0.5       , 0.66666667, 0.66666667,\n",
              "        0.66666667, 0.5       , 0.5       , 0.57894737, 0.57894737,\n",
              "        0.57894737, 0.68421053, 0.68421053, 0.63157895, 0.57894737,\n",
              "        0.68421053, 0.57894737, 0.63157895, 0.63157895, 0.63157895,\n",
              "        0.36842105, 0.6779661 , 0.6779661 , 0.6779661 , 0.59322034,\n",
              "        0.6779661 , 0.66853933, 0.66292135]),\n",
              " 'split0_train_score': array([0.84615385, 0.76923077, 0.76923077, 0.65384615, 0.73076923,\n",
              "        0.73076923, 0.65384615, 0.69230769, 0.69230769, 0.96153846,\n",
              "        0.96153846, 0.96153846, 1.        , 1.        , 1.        ,\n",
              "        1.        , 0.96153846, 1.        , 1.        , 0.96153846,\n",
              "        1.        , 0.96153846, 1.        , 1.        , 0.96153846,\n",
              "        1.        , 1.        , 1.        , 1.        , 1.        ,\n",
              "        1.        , 1.        , 1.        , 1.        , 1.        ,\n",
              "        1.        , 0.80769231, 0.88461538, 0.97468354, 0.98734177,\n",
              "        0.97468354, 0.94936709, 0.94936709, 0.98734177, 0.98734177,\n",
              "        0.94936709, 0.92405063, 0.86075949, 1.        , 0.87341772,\n",
              "        1.        , 0.96202532, 0.96202532, 0.88185654, 0.78481013,\n",
              "        0.84388186, 0.77949438, 0.86797753]),\n",
              " 'split1_test_score': array([0.33333333, 0.33333333, 0.33333333, 0.5       , 0.33333333,\n",
              "               nan, 0.5       ,        nan,        nan, 0.5       ,\n",
              "        0.5       , 0.5       , 0.5       , 0.5       , 0.5       ,\n",
              "        0.5       , 0.5       , 0.5       , 0.5       , 0.5       ,\n",
              "        0.5       , 0.5       , 0.5       , 0.5       , 0.5       ,\n",
              "        0.5       , 0.5       , 0.5       , 0.5       , 0.5       ,\n",
              "        0.5       , 0.5       , 0.5       , 0.5       , 0.5       ,\n",
              "        0.5       ,        nan,        nan, 0.52631579, 0.47368421,\n",
              "        0.52631579, 0.47368421, 0.47368421, 0.47368421, 0.52631579,\n",
              "        0.47368421, 0.42105263, 0.42105263, 0.47368421, 0.42105263,\n",
              "        0.36842105, 0.52542373, 0.54237288, 0.49152542, 0.59322034,\n",
              "        0.52542373, 0.57865169, 0.57865169]),\n",
              " 'split1_train_score': array([0.73076923, 0.73076923, 0.73076923, 0.73076923, 0.80769231,\n",
              "               nan, 0.73076923,        nan,        nan, 0.84615385,\n",
              "        0.92307692, 0.92307692, 1.        , 1.        , 0.96153846,\n",
              "        1.        , 0.96153846, 0.96153846, 0.96153846, 0.96153846,\n",
              "        0.96153846, 1.        , 1.        , 0.96153846, 1.        ,\n",
              "        1.        , 1.        , 0.96153846, 0.96153846, 1.        ,\n",
              "        1.        , 1.        , 0.96153846, 1.        , 1.        ,\n",
              "        1.        ,        nan,        nan, 0.96202532, 0.97468354,\n",
              "        0.94936709, 0.84810127, 0.83544304, 0.96202532, 0.96202532,\n",
              "        0.84810127, 0.89873418, 0.87341772, 1.        , 0.86075949,\n",
              "        1.        , 0.93248945, 0.93248945, 0.87763713, 0.80590717,\n",
              "        0.85654008, 0.79775281, 0.88061798]),\n",
              " 'split2_test_score': array([0.33333333, 0.33333333, 0.33333333, 0.5       , 0.5       ,\n",
              "        0.33333333, 0.5       , 0.5       , 0.5       , 0.66666667,\n",
              "        0.66666667, 0.66666667, 0.5       , 0.5       , 0.5       ,\n",
              "        0.5       , 0.5       , 0.5       , 0.66666667, 0.66666667,\n",
              "        0.66666667, 0.66666667, 0.5       , 0.5       , 0.66666667,\n",
              "        0.5       , 0.5       , 0.66666667, 0.66666667, 0.66666667,\n",
              "        0.66666667, 0.5       , 0.5       , 0.66666667, 0.5       ,\n",
              "        0.5       , 0.33333333, 0.16666667, 0.52631579, 0.47368421,\n",
              "        0.47368421, 0.52631579, 0.57894737, 0.47368421, 0.47368421,\n",
              "        0.52631579, 0.57894737, 0.57894737, 0.57894737, 0.52631579,\n",
              "        0.47368421, 0.57627119, 0.57627119, 0.54237288, 0.49152542,\n",
              "        0.57627119, 0.56741573, 0.62921348]),\n",
              " 'split2_train_score': array([0.80769231, 0.80769231, 0.84615385, 0.76923077, 0.57692308,\n",
              "        0.84615385, 0.76923077, 0.88461538, 0.61538462, 0.84615385,\n",
              "        0.84615385, 0.88461538, 0.96153846, 0.96153846, 0.96153846,\n",
              "        0.96153846, 0.96153846, 0.96153846, 0.88461538, 0.84615385,\n",
              "        0.88461538, 1.        , 1.        , 1.        , 1.        ,\n",
              "        0.96153846, 1.        , 0.88461538, 0.88461538, 0.92307692,\n",
              "        1.        , 1.        , 1.        , 1.        , 1.        ,\n",
              "        1.        , 0.92307692, 0.92307692, 0.98734177, 0.97468354,\n",
              "        0.97468354, 0.83544304, 0.82278481, 0.97468354, 0.97468354,\n",
              "        0.86075949, 0.88607595, 0.91139241, 0.98734177, 0.91139241,\n",
              "        1.        , 0.9535865 , 0.96202532, 0.91139241, 0.78902954,\n",
              "        0.8649789 , 0.7991573 , 0.88202247]),\n",
              " 'split3_test_score': array([0.33333333, 0.33333333, 0.33333333, 0.33333333, 0.33333333,\n",
              "        0.5       , 0.33333333, 0.5       , 0.33333333, 0.5       ,\n",
              "        0.5       , 0.5       , 0.5       , 0.5       , 0.5       ,\n",
              "        0.5       , 0.5       , 0.5       , 0.66666667, 0.5       ,\n",
              "        0.5       , 0.66666667, 0.5       , 0.5       , 0.66666667,\n",
              "        0.5       , 0.5       , 0.66666667, 0.5       , 0.5       ,\n",
              "        0.66666667, 0.66666667, 0.5       , 0.66666667, 0.66666667,\n",
              "        0.5       , 0.5       , 0.33333333, 0.68421053, 0.73684211,\n",
              "        0.68421053, 0.57894737, 0.52631579, 0.68421053, 0.68421053,\n",
              "        0.68421053, 0.63157895, 0.63157895, 0.63157895, 0.63157895,\n",
              "        0.47368421, 0.69491525, 0.69491525, 0.66101695, 0.66101695,\n",
              "        0.6440678 , 0.61235955, 0.57865169]),\n",
              " 'split3_train_score': array([0.96153846, 0.92307692, 0.92307692, 0.96153846, 0.96153846,\n",
              "        0.96153846, 0.96153846, 0.96153846, 0.96153846, 0.96153846,\n",
              "        0.96153846, 0.96153846, 0.96153846, 0.96153846, 0.96153846,\n",
              "        0.96153846, 0.96153846, 0.96153846, 1.        , 1.        ,\n",
              "        1.        , 1.        , 1.        , 1.        , 1.        ,\n",
              "        1.        , 1.        , 0.92307692, 0.92307692, 0.88461538,\n",
              "        1.        , 1.        , 1.        , 1.        , 1.        ,\n",
              "        1.        , 1.        , 1.        , 0.93670886, 0.94936709,\n",
              "        0.93670886, 0.56962025, 0.55696203, 0.93670886, 0.94936709,\n",
              "        0.70886076, 0.91139241, 0.86075949, 0.96202532, 0.89873418,\n",
              "        0.96202532, 0.92827004, 0.93248945, 0.90295359, 0.71729958,\n",
              "        0.84810127, 0.81320225, 0.88061798]),\n",
              " 'split4_test_score': array([0.5       , 0.5       , 0.5       , 0.5       , 0.33333333,\n",
              "        0.33333333, 0.5       , 0.33333333, 0.33333333, 0.5       ,\n",
              "        0.5       , 0.5       , 0.5       , 0.33333333, 0.33333333,\n",
              "        0.5       , 0.33333333, 0.33333333, 0.5       , 0.5       ,\n",
              "        0.5       , 0.5       , 0.5       , 0.5       , 0.5       ,\n",
              "        0.33333333, 0.33333333, 0.66666667, 0.66666667, 0.66666667,\n",
              "        0.5       , 0.5       , 0.5       , 0.5       , 0.5       ,\n",
              "        0.5       , 0.5       , 0.5       , 0.57894737, 0.63157895,\n",
              "        0.57894737, 0.57894737, 0.57894737, 0.57894737, 0.63157895,\n",
              "        0.57894737, 0.73684211, 0.63157895, 0.52631579, 0.63157895,\n",
              "        0.47368421, 0.62711864, 0.6440678 , 0.72881356, 0.54237288,\n",
              "        0.66101695, 0.62711864, 0.6779661 ]),\n",
              " 'split4_train_score': array([0.96153846, 0.96153846, 0.96153846, 0.96153846, 0.96153846,\n",
              "        0.96153846, 0.96153846, 0.96153846, 0.96153846, 0.96153846,\n",
              "        0.96153846, 0.96153846, 1.        , 0.96153846, 1.        ,\n",
              "        1.        , 0.96153846, 0.96153846, 1.        , 0.96153846,\n",
              "        0.96153846, 1.        , 1.        , 0.96153846, 1.        ,\n",
              "        1.        , 1.        , 1.        , 0.96153846, 0.96153846,\n",
              "        1.        , 1.        , 0.96153846, 1.        , 1.        ,\n",
              "        1.        , 1.        , 1.        , 0.96202532, 0.91139241,\n",
              "        0.93670886, 0.81012658, 0.79746835, 0.89873418, 0.92405063,\n",
              "        0.84810127, 0.94936709, 0.94936709, 1.        , 0.94936709,\n",
              "        1.        , 0.92405063, 0.92827004, 0.87341772, 0.70464135,\n",
              "        0.83966245, 0.79523142, 0.86816269]),\n",
              " 'std_fit_time': array([0.03759448, 0.03700903, 0.04699772, 0.03426982, 0.04149437,\n",
              "        0.04185019, 0.03520631, 0.07536807, 0.04450702, 0.03630038,\n",
              "        0.04065983, 0.04638001, 0.03348313, 0.03996627, 0.04583228,\n",
              "        0.03722763, 0.03379875, 0.04551567, 0.03655141, 0.03812809,\n",
              "        0.0474755 , 0.04126811, 0.03712046, 0.04297958, 0.03698263,\n",
              "        0.03641244, 0.03994745, 0.02945866, 0.04833357, 0.03981794,\n",
              "        0.03367383, 0.03587391, 0.04761472, 0.03601176, 0.04045498,\n",
              "        0.04812206, 0.04147683, 0.03989787, 0.34223663, 0.30672325,\n",
              "        0.30910186, 0.33844834, 0.38393454, 0.30121982, 0.30870864,\n",
              "        0.30150058, 0.38071585, 0.39352276, 0.31125517, 0.33729447,\n",
              "        0.3399734 , 0.38394082, 0.36379964, 0.47849943, 0.35682936,\n",
              "        0.47869718, 0.36179332, 0.28984782]),\n",
              " 'std_score_time': array([0.10132756, 0.09780388, 0.09704155, 0.09638858, 0.09703116,\n",
              "        0.06782381, 0.09519389, 0.06478044, 0.06890472, 0.09668143,\n",
              "        0.09865402, 0.10191865, 0.10150749, 0.10056573, 0.09590345,\n",
              "        0.09896511, 0.09741711, 0.09800103, 0.09991722, 0.10196243,\n",
              "        0.09929063, 0.09874826, 0.0988149 , 0.10012   , 0.09630027,\n",
              "        0.09890183, 0.09812536, 0.09447265, 0.09705605, 0.09992632,\n",
              "        0.09657968, 0.09930419, 0.10032627, 0.09799584, 0.10101752,\n",
              "        0.1023264 , 0.06735947, 0.06601915, 0.16553134, 0.1608771 ,\n",
              "        0.16216395, 0.16500599, 0.16554223, 0.16130302, 0.15974246,\n",
              "        0.16129374, 0.16965714, 0.16309723, 0.1706907 , 0.16111844,\n",
              "        0.16323402, 0.09218353, 0.09115564, 0.09791025, 0.1014372 ,\n",
              "        0.1016715 , 0.29902804, 0.28179754]),\n",
              " 'std_test_score': array([0.13333333, 0.08164966, 0.13333333, 0.10540926, 0.08164966,\n",
              "               nan, 0.10540926,        nan,        nan, 0.16329932,\n",
              "        0.16329932, 0.16329932, 0.        , 0.10540926, 0.10540926,\n",
              "        0.        , 0.10540926, 0.10540926, 0.18257419, 0.10540926,\n",
              "        0.10540926, 0.08164966, 0.06666667, 0.06666667, 0.08164966,\n",
              "        0.10540926, 0.10540926, 0.06666667, 0.08164966, 0.08164966,\n",
              "        0.08164966, 0.06666667, 0.        , 0.08164966, 0.08164966,\n",
              "        0.06666667,        nan,        nan, 0.05765501, 0.0998614 ,\n",
              "        0.06982368, 0.06982368, 0.06982368, 0.08421053, 0.07443229,\n",
              "        0.08421053, 0.10205642, 0.08153649, 0.06137844, 0.08421053,\n",
              "        0.05156821, 0.06305449, 0.05871359, 0.08878509, 0.05672271,\n",
              "        0.05732724, 0.03610614, 0.04136754]),\n",
              " 'std_train_score': array([8.97069522e-02, 8.90448993e-02, 8.77058019e-02, 1.24985206e-01,\n",
              "        1.45951277e-01,            nan, 1.24985206e-01,            nan,\n",
              "                   nan, 5.65266864e-02, 4.48534761e-02, 3.07692308e-02,\n",
              "        1.88422288e-02, 1.88422288e-02, 1.88422288e-02, 1.88422288e-02,\n",
              "        1.11022302e-16, 1.53846154e-02, 4.48534761e-02, 5.21717691e-02,\n",
              "        4.21325044e-02, 1.53846154e-02, 0.00000000e+00, 1.88422288e-02,\n",
              "        1.53846154e-02, 1.53846154e-02, 0.00000000e+00, 4.48534761e-02,\n",
              "        3.92232270e-02, 4.48534761e-02, 0.00000000e+00, 0.00000000e+00,\n",
              "        1.88422288e-02, 0.00000000e+00, 0.00000000e+00, 0.00000000e+00,\n",
              "                   nan,            nan, 1.67930369e-02, 2.70305779e-02,\n",
              "        1.71704557e-02, 1.25718572e-01, 1.28741085e-01, 3.14168953e-02,\n",
              "        2.17780387e-02, 7.70386028e-02, 2.17780387e-02, 3.45270423e-02,\n",
              "        1.47619035e-02, 3.10061993e-02, 1.51898734e-02, 1.49536246e-02,\n",
              "        1.52366836e-02, 1.49536246e-02, 4.11170556e-02, 9.08888575e-03,\n",
              "        1.07452576e-02, 6.39738564e-03])}"
            ]
          },
          "metadata": {},
          "execution_count": 62
        }
      ]
    },
    {
      "cell_type": "code",
      "metadata": {
        "colab": {
          "base_uri": "https://localhost:8080/",
          "height": 1000
        },
        "id": "K0FH9Cfm2heg",
        "outputId": "fe277341-ca88-4a8c-bf31-113ca5239a6d"
      },
      "source": [
        "pd.concat([pd.DataFrame(hgs.cv_results_[\"params\"]),pd.DataFrame(hgs.cv_results_[\"mean_test_score\"], columns=[\"Accuracy\"])],axis=1)"
      ],
      "execution_count": 63,
      "outputs": [
        {
          "output_type": "execute_result",
          "data": {
            "text/html": [
              "<div>\n",
              "<style scoped>\n",
              "    .dataframe tbody tr th:only-of-type {\n",
              "        vertical-align: middle;\n",
              "    }\n",
              "\n",
              "    .dataframe tbody tr th {\n",
              "        vertical-align: top;\n",
              "    }\n",
              "\n",
              "    .dataframe thead th {\n",
              "        text-align: right;\n",
              "    }\n",
              "</style>\n",
              "<table border=\"1\" class=\"dataframe\">\n",
              "  <thead>\n",
              "    <tr style=\"text-align: right;\">\n",
              "      <th></th>\n",
              "      <th>Selection__percentile</th>\n",
              "      <th>Selection__score_func</th>\n",
              "      <th>preprocessing__df__max_features</th>\n",
              "      <th>preprocessing__df__ngram_range</th>\n",
              "      <th>clf</th>\n",
              "      <th>clf__multi_class</th>\n",
              "      <th>Accuracy</th>\n",
              "    </tr>\n",
              "  </thead>\n",
              "  <tbody>\n",
              "    <tr>\n",
              "      <th>0</th>\n",
              "      <td>20.0</td>\n",
              "      <td>&lt;function f_classif at 0x7f7c260757a0&gt;</td>\n",
              "      <td>1000.0</td>\n",
              "      <td>(1, 1)</td>\n",
              "      <td>NaN</td>\n",
              "      <td>NaN</td>\n",
              "      <td>0.433333</td>\n",
              "    </tr>\n",
              "    <tr>\n",
              "      <th>1</th>\n",
              "      <td>20.0</td>\n",
              "      <td>&lt;function f_classif at 0x7f7c260757a0&gt;</td>\n",
              "      <td>1000.0</td>\n",
              "      <td>(1, 2)</td>\n",
              "      <td>NaN</td>\n",
              "      <td>NaN</td>\n",
              "      <td>0.400000</td>\n",
              "    </tr>\n",
              "    <tr>\n",
              "      <th>2</th>\n",
              "      <td>20.0</td>\n",
              "      <td>&lt;function f_classif at 0x7f7c260757a0&gt;</td>\n",
              "      <td>1000.0</td>\n",
              "      <td>(1, 3)</td>\n",
              "      <td>NaN</td>\n",
              "      <td>NaN</td>\n",
              "      <td>0.433333</td>\n",
              "    </tr>\n",
              "    <tr>\n",
              "      <th>3</th>\n",
              "      <td>20.0</td>\n",
              "      <td>&lt;function f_classif at 0x7f7c260757a0&gt;</td>\n",
              "      <td>5000.0</td>\n",
              "      <td>(1, 1)</td>\n",
              "      <td>NaN</td>\n",
              "      <td>NaN</td>\n",
              "      <td>0.500000</td>\n",
              "    </tr>\n",
              "    <tr>\n",
              "      <th>4</th>\n",
              "      <td>20.0</td>\n",
              "      <td>&lt;function f_classif at 0x7f7c260757a0&gt;</td>\n",
              "      <td>5000.0</td>\n",
              "      <td>(1, 2)</td>\n",
              "      <td>NaN</td>\n",
              "      <td>NaN</td>\n",
              "      <td>0.400000</td>\n",
              "    </tr>\n",
              "    <tr>\n",
              "      <th>5</th>\n",
              "      <td>20.0</td>\n",
              "      <td>&lt;function f_classif at 0x7f7c260757a0&gt;</td>\n",
              "      <td>5000.0</td>\n",
              "      <td>(1, 3)</td>\n",
              "      <td>NaN</td>\n",
              "      <td>NaN</td>\n",
              "      <td>NaN</td>\n",
              "    </tr>\n",
              "    <tr>\n",
              "      <th>6</th>\n",
              "      <td>20.0</td>\n",
              "      <td>&lt;function f_classif at 0x7f7c260757a0&gt;</td>\n",
              "      <td>10000.0</td>\n",
              "      <td>(1, 1)</td>\n",
              "      <td>NaN</td>\n",
              "      <td>NaN</td>\n",
              "      <td>0.500000</td>\n",
              "    </tr>\n",
              "    <tr>\n",
              "      <th>7</th>\n",
              "      <td>20.0</td>\n",
              "      <td>&lt;function f_classif at 0x7f7c260757a0&gt;</td>\n",
              "      <td>10000.0</td>\n",
              "      <td>(1, 2)</td>\n",
              "      <td>NaN</td>\n",
              "      <td>NaN</td>\n",
              "      <td>NaN</td>\n",
              "    </tr>\n",
              "    <tr>\n",
              "      <th>8</th>\n",
              "      <td>20.0</td>\n",
              "      <td>&lt;function f_classif at 0x7f7c260757a0&gt;</td>\n",
              "      <td>10000.0</td>\n",
              "      <td>(1, 3)</td>\n",
              "      <td>NaN</td>\n",
              "      <td>NaN</td>\n",
              "      <td>NaN</td>\n",
              "    </tr>\n",
              "    <tr>\n",
              "      <th>9</th>\n",
              "      <td>40.0</td>\n",
              "      <td>&lt;function f_classif at 0x7f7c260757a0&gt;</td>\n",
              "      <td>1000.0</td>\n",
              "      <td>(1, 1)</td>\n",
              "      <td>NaN</td>\n",
              "      <td>NaN</td>\n",
              "      <td>0.466667</td>\n",
              "    </tr>\n",
              "    <tr>\n",
              "      <th>10</th>\n",
              "      <td>40.0</td>\n",
              "      <td>&lt;function f_classif at 0x7f7c260757a0&gt;</td>\n",
              "      <td>1000.0</td>\n",
              "      <td>(1, 2)</td>\n",
              "      <td>NaN</td>\n",
              "      <td>NaN</td>\n",
              "      <td>0.466667</td>\n",
              "    </tr>\n",
              "    <tr>\n",
              "      <th>11</th>\n",
              "      <td>40.0</td>\n",
              "      <td>&lt;function f_classif at 0x7f7c260757a0&gt;</td>\n",
              "      <td>1000.0</td>\n",
              "      <td>(1, 3)</td>\n",
              "      <td>NaN</td>\n",
              "      <td>NaN</td>\n",
              "      <td>0.466667</td>\n",
              "    </tr>\n",
              "    <tr>\n",
              "      <th>12</th>\n",
              "      <td>40.0</td>\n",
              "      <td>&lt;function f_classif at 0x7f7c260757a0&gt;</td>\n",
              "      <td>5000.0</td>\n",
              "      <td>(1, 1)</td>\n",
              "      <td>NaN</td>\n",
              "      <td>NaN</td>\n",
              "      <td>0.500000</td>\n",
              "    </tr>\n",
              "    <tr>\n",
              "      <th>13</th>\n",
              "      <td>40.0</td>\n",
              "      <td>&lt;function f_classif at 0x7f7c260757a0&gt;</td>\n",
              "      <td>5000.0</td>\n",
              "      <td>(1, 2)</td>\n",
              "      <td>NaN</td>\n",
              "      <td>NaN</td>\n",
              "      <td>0.500000</td>\n",
              "    </tr>\n",
              "    <tr>\n",
              "      <th>14</th>\n",
              "      <td>40.0</td>\n",
              "      <td>&lt;function f_classif at 0x7f7c260757a0&gt;</td>\n",
              "      <td>5000.0</td>\n",
              "      <td>(1, 3)</td>\n",
              "      <td>NaN</td>\n",
              "      <td>NaN</td>\n",
              "      <td>0.500000</td>\n",
              "    </tr>\n",
              "    <tr>\n",
              "      <th>15</th>\n",
              "      <td>40.0</td>\n",
              "      <td>&lt;function f_classif at 0x7f7c260757a0&gt;</td>\n",
              "      <td>10000.0</td>\n",
              "      <td>(1, 1)</td>\n",
              "      <td>NaN</td>\n",
              "      <td>NaN</td>\n",
              "      <td>0.500000</td>\n",
              "    </tr>\n",
              "    <tr>\n",
              "      <th>16</th>\n",
              "      <td>40.0</td>\n",
              "      <td>&lt;function f_classif at 0x7f7c260757a0&gt;</td>\n",
              "      <td>10000.0</td>\n",
              "      <td>(1, 2)</td>\n",
              "      <td>NaN</td>\n",
              "      <td>NaN</td>\n",
              "      <td>0.500000</td>\n",
              "    </tr>\n",
              "    <tr>\n",
              "      <th>17</th>\n",
              "      <td>40.0</td>\n",
              "      <td>&lt;function f_classif at 0x7f7c260757a0&gt;</td>\n",
              "      <td>10000.0</td>\n",
              "      <td>(1, 3)</td>\n",
              "      <td>NaN</td>\n",
              "      <td>NaN</td>\n",
              "      <td>0.500000</td>\n",
              "    </tr>\n",
              "    <tr>\n",
              "      <th>18</th>\n",
              "      <td>60.0</td>\n",
              "      <td>&lt;function f_classif at 0x7f7c260757a0&gt;</td>\n",
              "      <td>1000.0</td>\n",
              "      <td>(1, 1)</td>\n",
              "      <td>NaN</td>\n",
              "      <td>NaN</td>\n",
              "      <td>0.500000</td>\n",
              "    </tr>\n",
              "    <tr>\n",
              "      <th>19</th>\n",
              "      <td>60.0</td>\n",
              "      <td>&lt;function f_classif at 0x7f7c260757a0&gt;</td>\n",
              "      <td>1000.0</td>\n",
              "      <td>(1, 2)</td>\n",
              "      <td>NaN</td>\n",
              "      <td>NaN</td>\n",
              "      <td>0.500000</td>\n",
              "    </tr>\n",
              "    <tr>\n",
              "      <th>20</th>\n",
              "      <td>60.0</td>\n",
              "      <td>&lt;function f_classif at 0x7f7c260757a0&gt;</td>\n",
              "      <td>1000.0</td>\n",
              "      <td>(1, 3)</td>\n",
              "      <td>NaN</td>\n",
              "      <td>NaN</td>\n",
              "      <td>0.500000</td>\n",
              "    </tr>\n",
              "    <tr>\n",
              "      <th>21</th>\n",
              "      <td>60.0</td>\n",
              "      <td>&lt;function f_classif at 0x7f7c260757a0&gt;</td>\n",
              "      <td>5000.0</td>\n",
              "      <td>(1, 1)</td>\n",
              "      <td>NaN</td>\n",
              "      <td>NaN</td>\n",
              "      <td>0.600000</td>\n",
              "    </tr>\n",
              "    <tr>\n",
              "      <th>22</th>\n",
              "      <td>60.0</td>\n",
              "      <td>&lt;function f_classif at 0x7f7c260757a0&gt;</td>\n",
              "      <td>5000.0</td>\n",
              "      <td>(1, 2)</td>\n",
              "      <td>NaN</td>\n",
              "      <td>NaN</td>\n",
              "      <td>0.533333</td>\n",
              "    </tr>\n",
              "    <tr>\n",
              "      <th>23</th>\n",
              "      <td>60.0</td>\n",
              "      <td>&lt;function f_classif at 0x7f7c260757a0&gt;</td>\n",
              "      <td>5000.0</td>\n",
              "      <td>(1, 3)</td>\n",
              "      <td>NaN</td>\n",
              "      <td>NaN</td>\n",
              "      <td>0.533333</td>\n",
              "    </tr>\n",
              "    <tr>\n",
              "      <th>24</th>\n",
              "      <td>60.0</td>\n",
              "      <td>&lt;function f_classif at 0x7f7c260757a0&gt;</td>\n",
              "      <td>10000.0</td>\n",
              "      <td>(1, 1)</td>\n",
              "      <td>NaN</td>\n",
              "      <td>NaN</td>\n",
              "      <td>0.600000</td>\n",
              "    </tr>\n",
              "    <tr>\n",
              "      <th>25</th>\n",
              "      <td>60.0</td>\n",
              "      <td>&lt;function f_classif at 0x7f7c260757a0&gt;</td>\n",
              "      <td>10000.0</td>\n",
              "      <td>(1, 2)</td>\n",
              "      <td>NaN</td>\n",
              "      <td>NaN</td>\n",
              "      <td>0.500000</td>\n",
              "    </tr>\n",
              "    <tr>\n",
              "      <th>26</th>\n",
              "      <td>60.0</td>\n",
              "      <td>&lt;function f_classif at 0x7f7c260757a0&gt;</td>\n",
              "      <td>10000.0</td>\n",
              "      <td>(1, 3)</td>\n",
              "      <td>NaN</td>\n",
              "      <td>NaN</td>\n",
              "      <td>0.500000</td>\n",
              "    </tr>\n",
              "    <tr>\n",
              "      <th>27</th>\n",
              "      <td>80.0</td>\n",
              "      <td>&lt;function f_classif at 0x7f7c260757a0&gt;</td>\n",
              "      <td>1000.0</td>\n",
              "      <td>(1, 1)</td>\n",
              "      <td>NaN</td>\n",
              "      <td>NaN</td>\n",
              "      <td>0.633333</td>\n",
              "    </tr>\n",
              "    <tr>\n",
              "      <th>28</th>\n",
              "      <td>80.0</td>\n",
              "      <td>&lt;function f_classif at 0x7f7c260757a0&gt;</td>\n",
              "      <td>1000.0</td>\n",
              "      <td>(1, 2)</td>\n",
              "      <td>NaN</td>\n",
              "      <td>NaN</td>\n",
              "      <td>0.600000</td>\n",
              "    </tr>\n",
              "    <tr>\n",
              "      <th>29</th>\n",
              "      <td>80.0</td>\n",
              "      <td>&lt;function f_classif at 0x7f7c260757a0&gt;</td>\n",
              "      <td>1000.0</td>\n",
              "      <td>(1, 3)</td>\n",
              "      <td>NaN</td>\n",
              "      <td>NaN</td>\n",
              "      <td>0.600000</td>\n",
              "    </tr>\n",
              "    <tr>\n",
              "      <th>30</th>\n",
              "      <td>80.0</td>\n",
              "      <td>&lt;function f_classif at 0x7f7c260757a0&gt;</td>\n",
              "      <td>5000.0</td>\n",
              "      <td>(1, 1)</td>\n",
              "      <td>NaN</td>\n",
              "      <td>NaN</td>\n",
              "      <td>0.600000</td>\n",
              "    </tr>\n",
              "    <tr>\n",
              "      <th>31</th>\n",
              "      <td>80.0</td>\n",
              "      <td>&lt;function f_classif at 0x7f7c260757a0&gt;</td>\n",
              "      <td>5000.0</td>\n",
              "      <td>(1, 2)</td>\n",
              "      <td>NaN</td>\n",
              "      <td>NaN</td>\n",
              "      <td>0.533333</td>\n",
              "    </tr>\n",
              "    <tr>\n",
              "      <th>32</th>\n",
              "      <td>80.0</td>\n",
              "      <td>&lt;function f_classif at 0x7f7c260757a0&gt;</td>\n",
              "      <td>5000.0</td>\n",
              "      <td>(1, 3)</td>\n",
              "      <td>NaN</td>\n",
              "      <td>NaN</td>\n",
              "      <td>0.500000</td>\n",
              "    </tr>\n",
              "    <tr>\n",
              "      <th>33</th>\n",
              "      <td>80.0</td>\n",
              "      <td>&lt;function f_classif at 0x7f7c260757a0&gt;</td>\n",
              "      <td>10000.0</td>\n",
              "      <td>(1, 1)</td>\n",
              "      <td>NaN</td>\n",
              "      <td>NaN</td>\n",
              "      <td>0.600000</td>\n",
              "    </tr>\n",
              "    <tr>\n",
              "      <th>34</th>\n",
              "      <td>80.0</td>\n",
              "      <td>&lt;function f_classif at 0x7f7c260757a0&gt;</td>\n",
              "      <td>10000.0</td>\n",
              "      <td>(1, 2)</td>\n",
              "      <td>NaN</td>\n",
              "      <td>NaN</td>\n",
              "      <td>0.566667</td>\n",
              "    </tr>\n",
              "    <tr>\n",
              "      <th>35</th>\n",
              "      <td>80.0</td>\n",
              "      <td>&lt;function f_classif at 0x7f7c260757a0&gt;</td>\n",
              "      <td>10000.0</td>\n",
              "      <td>(1, 3)</td>\n",
              "      <td>NaN</td>\n",
              "      <td>NaN</td>\n",
              "      <td>0.533333</td>\n",
              "    </tr>\n",
              "    <tr>\n",
              "      <th>36</th>\n",
              "      <td>NaN</td>\n",
              "      <td>NaN</td>\n",
              "      <td>NaN</td>\n",
              "      <td>NaN</td>\n",
              "      <td>LogisticRegression()</td>\n",
              "      <td>multinomial</td>\n",
              "      <td>NaN</td>\n",
              "    </tr>\n",
              "    <tr>\n",
              "      <th>37</th>\n",
              "      <td>NaN</td>\n",
              "      <td>NaN</td>\n",
              "      <td>NaN</td>\n",
              "      <td>NaN</td>\n",
              "      <td>DecisionTreeClassifier()</td>\n",
              "      <td>NaN</td>\n",
              "      <td>NaN</td>\n",
              "    </tr>\n",
              "    <tr>\n",
              "      <th>38</th>\n",
              "      <td>80.0</td>\n",
              "      <td>&lt;function f_classif at 0x7f7c260757a0&gt;</td>\n",
              "      <td>10000.0</td>\n",
              "      <td>(1, 2)</td>\n",
              "      <td>NaN</td>\n",
              "      <td>NaN</td>\n",
              "      <td>0.578947</td>\n",
              "    </tr>\n",
              "    <tr>\n",
              "      <th>39</th>\n",
              "      <td>80.0</td>\n",
              "      <td>&lt;function f_classif at 0x7f7c260757a0&gt;</td>\n",
              "      <td>10000.0</td>\n",
              "      <td>(1, 1)</td>\n",
              "      <td>NaN</td>\n",
              "      <td>NaN</td>\n",
              "      <td>0.578947</td>\n",
              "    </tr>\n",
              "    <tr>\n",
              "      <th>40</th>\n",
              "      <td>60.0</td>\n",
              "      <td>&lt;function f_classif at 0x7f7c260757a0&gt;</td>\n",
              "      <td>5000.0</td>\n",
              "      <td>(1, 1)</td>\n",
              "      <td>NaN</td>\n",
              "      <td>NaN</td>\n",
              "      <td>0.568421</td>\n",
              "    </tr>\n",
              "    <tr>\n",
              "      <th>41</th>\n",
              "      <td>80.0</td>\n",
              "      <td>&lt;function f_classif at 0x7f7c260757a0&gt;</td>\n",
              "      <td>1000.0</td>\n",
              "      <td>(1, 2)</td>\n",
              "      <td>NaN</td>\n",
              "      <td>NaN</td>\n",
              "      <td>0.568421</td>\n",
              "    </tr>\n",
              "    <tr>\n",
              "      <th>42</th>\n",
              "      <td>80.0</td>\n",
              "      <td>&lt;function f_classif at 0x7f7c260757a0&gt;</td>\n",
              "      <td>1000.0</td>\n",
              "      <td>(1, 3)</td>\n",
              "      <td>NaN</td>\n",
              "      <td>NaN</td>\n",
              "      <td>0.568421</td>\n",
              "    </tr>\n",
              "    <tr>\n",
              "      <th>43</th>\n",
              "      <td>80.0</td>\n",
              "      <td>&lt;function f_classif at 0x7f7c260757a0&gt;</td>\n",
              "      <td>5000.0</td>\n",
              "      <td>(1, 1)</td>\n",
              "      <td>NaN</td>\n",
              "      <td>NaN</td>\n",
              "      <td>0.568421</td>\n",
              "    </tr>\n",
              "    <tr>\n",
              "      <th>44</th>\n",
              "      <td>60.0</td>\n",
              "      <td>&lt;function f_classif at 0x7f7c260757a0&gt;</td>\n",
              "      <td>10000.0</td>\n",
              "      <td>(1, 1)</td>\n",
              "      <td>NaN</td>\n",
              "      <td>NaN</td>\n",
              "      <td>0.578947</td>\n",
              "    </tr>\n",
              "    <tr>\n",
              "      <th>45</th>\n",
              "      <td>80.0</td>\n",
              "      <td>&lt;function f_classif at 0x7f7c260757a0&gt;</td>\n",
              "      <td>1000.0</td>\n",
              "      <td>(1, 1)</td>\n",
              "      <td>NaN</td>\n",
              "      <td>NaN</td>\n",
              "      <td>0.589474</td>\n",
              "    </tr>\n",
              "    <tr>\n",
              "      <th>46</th>\n",
              "      <td>20.0</td>\n",
              "      <td>&lt;function f_classif at 0x7f7c260757a0&gt;</td>\n",
              "      <td>5000.0</td>\n",
              "      <td>(1, 3)</td>\n",
              "      <td>NaN</td>\n",
              "      <td>NaN</td>\n",
              "      <td>0.589474</td>\n",
              "    </tr>\n",
              "    <tr>\n",
              "      <th>47</th>\n",
              "      <td>20.0</td>\n",
              "      <td>&lt;function f_classif at 0x7f7c260757a0&gt;</td>\n",
              "      <td>10000.0</td>\n",
              "      <td>(1, 3)</td>\n",
              "      <td>NaN</td>\n",
              "      <td>NaN</td>\n",
              "      <td>0.578947</td>\n",
              "    </tr>\n",
              "    <tr>\n",
              "      <th>48</th>\n",
              "      <td>NaN</td>\n",
              "      <td>NaN</td>\n",
              "      <td>NaN</td>\n",
              "      <td>NaN</td>\n",
              "      <td>LogisticRegression()</td>\n",
              "      <td>multinomial</td>\n",
              "      <td>0.568421</td>\n",
              "    </tr>\n",
              "    <tr>\n",
              "      <th>49</th>\n",
              "      <td>20.0</td>\n",
              "      <td>&lt;function f_classif at 0x7f7c260757a0&gt;</td>\n",
              "      <td>10000.0</td>\n",
              "      <td>(1, 2)</td>\n",
              "      <td>NaN</td>\n",
              "      <td>NaN</td>\n",
              "      <td>0.568421</td>\n",
              "    </tr>\n",
              "    <tr>\n",
              "      <th>50</th>\n",
              "      <td>NaN</td>\n",
              "      <td>NaN</td>\n",
              "      <td>NaN</td>\n",
              "      <td>NaN</td>\n",
              "      <td>DecisionTreeClassifier()</td>\n",
              "      <td>NaN</td>\n",
              "      <td>0.431579</td>\n",
              "    </tr>\n",
              "    <tr>\n",
              "      <th>51</th>\n",
              "      <td>80.0</td>\n",
              "      <td>&lt;function f_classif at 0x7f7c260757a0&gt;</td>\n",
              "      <td>10000.0</td>\n",
              "      <td>(1, 1)</td>\n",
              "      <td>NaN</td>\n",
              "      <td>NaN</td>\n",
              "      <td>0.620339</td>\n",
              "    </tr>\n",
              "    <tr>\n",
              "      <th>52</th>\n",
              "      <td>60.0</td>\n",
              "      <td>&lt;function f_classif at 0x7f7c260757a0&gt;</td>\n",
              "      <td>10000.0</td>\n",
              "      <td>(1, 1)</td>\n",
              "      <td>NaN</td>\n",
              "      <td>NaN</td>\n",
              "      <td>0.627119</td>\n",
              "    </tr>\n",
              "    <tr>\n",
              "      <th>53</th>\n",
              "      <td>20.0</td>\n",
              "      <td>&lt;function f_classif at 0x7f7c260757a0&gt;</td>\n",
              "      <td>10000.0</td>\n",
              "      <td>(1, 3)</td>\n",
              "      <td>NaN</td>\n",
              "      <td>NaN</td>\n",
              "      <td>0.620339</td>\n",
              "    </tr>\n",
              "    <tr>\n",
              "      <th>54</th>\n",
              "      <td>80.0</td>\n",
              "      <td>&lt;function f_classif at 0x7f7c260757a0&gt;</td>\n",
              "      <td>1000.0</td>\n",
              "      <td>(1, 1)</td>\n",
              "      <td>NaN</td>\n",
              "      <td>NaN</td>\n",
              "      <td>0.576271</td>\n",
              "    </tr>\n",
              "    <tr>\n",
              "      <th>55</th>\n",
              "      <td>20.0</td>\n",
              "      <td>&lt;function f_classif at 0x7f7c260757a0&gt;</td>\n",
              "      <td>5000.0</td>\n",
              "      <td>(1, 3)</td>\n",
              "      <td>NaN</td>\n",
              "      <td>NaN</td>\n",
              "      <td>0.616949</td>\n",
              "    </tr>\n",
              "    <tr>\n",
              "      <th>56</th>\n",
              "      <td>20.0</td>\n",
              "      <td>&lt;function f_classif at 0x7f7c260757a0&gt;</td>\n",
              "      <td>10000.0</td>\n",
              "      <td>(1, 3)</td>\n",
              "      <td>NaN</td>\n",
              "      <td>NaN</td>\n",
              "      <td>0.610817</td>\n",
              "    </tr>\n",
              "    <tr>\n",
              "      <th>57</th>\n",
              "      <td>60.0</td>\n",
              "      <td>&lt;function f_classif at 0x7f7c260757a0&gt;</td>\n",
              "      <td>10000.0</td>\n",
              "      <td>(1, 1)</td>\n",
              "      <td>NaN</td>\n",
              "      <td>NaN</td>\n",
              "      <td>0.625481</td>\n",
              "    </tr>\n",
              "  </tbody>\n",
              "</table>\n",
              "</div>"
            ],
            "text/plain": [
              "    Selection__percentile  ...  Accuracy\n",
              "0                    20.0  ...  0.433333\n",
              "1                    20.0  ...  0.400000\n",
              "2                    20.0  ...  0.433333\n",
              "3                    20.0  ...  0.500000\n",
              "4                    20.0  ...  0.400000\n",
              "5                    20.0  ...       NaN\n",
              "6                    20.0  ...  0.500000\n",
              "7                    20.0  ...       NaN\n",
              "8                    20.0  ...       NaN\n",
              "9                    40.0  ...  0.466667\n",
              "10                   40.0  ...  0.466667\n",
              "11                   40.0  ...  0.466667\n",
              "12                   40.0  ...  0.500000\n",
              "13                   40.0  ...  0.500000\n",
              "14                   40.0  ...  0.500000\n",
              "15                   40.0  ...  0.500000\n",
              "16                   40.0  ...  0.500000\n",
              "17                   40.0  ...  0.500000\n",
              "18                   60.0  ...  0.500000\n",
              "19                   60.0  ...  0.500000\n",
              "20                   60.0  ...  0.500000\n",
              "21                   60.0  ...  0.600000\n",
              "22                   60.0  ...  0.533333\n",
              "23                   60.0  ...  0.533333\n",
              "24                   60.0  ...  0.600000\n",
              "25                   60.0  ...  0.500000\n",
              "26                   60.0  ...  0.500000\n",
              "27                   80.0  ...  0.633333\n",
              "28                   80.0  ...  0.600000\n",
              "29                   80.0  ...  0.600000\n",
              "30                   80.0  ...  0.600000\n",
              "31                   80.0  ...  0.533333\n",
              "32                   80.0  ...  0.500000\n",
              "33                   80.0  ...  0.600000\n",
              "34                   80.0  ...  0.566667\n",
              "35                   80.0  ...  0.533333\n",
              "36                    NaN  ...       NaN\n",
              "37                    NaN  ...       NaN\n",
              "38                   80.0  ...  0.578947\n",
              "39                   80.0  ...  0.578947\n",
              "40                   60.0  ...  0.568421\n",
              "41                   80.0  ...  0.568421\n",
              "42                   80.0  ...  0.568421\n",
              "43                   80.0  ...  0.568421\n",
              "44                   60.0  ...  0.578947\n",
              "45                   80.0  ...  0.589474\n",
              "46                   20.0  ...  0.589474\n",
              "47                   20.0  ...  0.578947\n",
              "48                    NaN  ...  0.568421\n",
              "49                   20.0  ...  0.568421\n",
              "50                    NaN  ...  0.431579\n",
              "51                   80.0  ...  0.620339\n",
              "52                   60.0  ...  0.627119\n",
              "53                   20.0  ...  0.620339\n",
              "54                   80.0  ...  0.576271\n",
              "55                   20.0  ...  0.616949\n",
              "56                   20.0  ...  0.610817\n",
              "57                   60.0  ...  0.625481\n",
              "\n",
              "[58 rows x 7 columns]"
            ]
          },
          "metadata": {},
          "execution_count": 63
        }
      ]
    },
    {
      "cell_type": "markdown",
      "metadata": {
        "id": "OmQUw2aZ_6z2",
        "cell_id": "00042-1dc5444c-59e9-4d79-93fb-3c545fe3b086",
        "deepnote_cell_type": "markdown"
      },
      "source": [
        "## 1.4 Predicción del datos sin etiquetado  [0.5 puntos]\n",
        "\n",
        "<p align=\"center\">\n",
        "  <img src=\"https://pbs.twimg.com/media/DolotxUUYAAbg7f.jpg\" width=\"350\">\n",
        "</p>\n"
      ]
    },
    {
      "cell_type": "markdown",
      "metadata": {
        "id": "Cj0ERBgTBFWN",
        "cell_id": "00043-bdf593d2-92b5-4d74-869a-8c9541a6e572",
        "deepnote_cell_type": "markdown"
      },
      "source": [
        "LLego el momento de predecir \n",
        "`Vergil`, `Gorilla Girl` y `Batcow`\n",
        "\n",
        "\n",
        "**Nota:** Recuerde que pueden existir campos vacios en `history_text`, por lo que se les recomienda borrar los nan."
      ]
    },
    {
      "cell_type": "markdown",
      "metadata": {
        "tags": [],
        "cell_id": "00035-1e9b40e0-20dc-4ed1-81ca-b7f8f9679771",
        "deepnote_cell_type": "markdown",
        "id": "eTMibBW3hKU6"
      },
      "source": [
        "**Respuesta:**"
      ]
    },
    {
      "cell_type": "code",
      "metadata": {
        "tags": [],
        "cell_id": "00035-1ec91701-af2f-4571-9067-f82dbc6f2989",
        "deepnote_cell_type": "code",
        "id": "fZJYunf-hKU7"
      },
      "source": [
        "df_comics_no_label = df_comics_no_label.dropna(subset=['history_text'])\n",
        "df_comics_no_label = df_comics_no_label.drop_duplicates()\n",
        "X_predict = df_comics_no_label[['history_text','intelligence_score', 'strength_score', 'speed_score', 'durability_score', 'power_score', 'combat_score']]"
      ],
      "execution_count": 65,
      "outputs": []
    },
    {
      "cell_type": "code",
      "metadata": {
        "id": "lXcU0guM12db"
      },
      "source": [
        "preprocessing= ColumnTransformer(\n",
        "                    transformers=[\n",
        "                    ('df', CountVectorizer(\n",
        "                    tokenizer=LemmaTokenizer(),\n",
        "                    lowercase=True,  # Transformamos todo a minúsuculas.\n",
        "                    max_features=10000,  # Dejamos solo las 10000 palabras más frecuentes,\n",
        "                    ngram_range=(1, 2)\n",
        "                    ), \n",
        "                    'history_text'),\n",
        "                    ('scaler', MinMaxScaler(), \n",
        "                    ['intelligence_score', 'strength_score', 'speed_score', 'durability_score', 'power_score', 'combat_score'])\n",
        "                  ]\n",
        ")\n",
        "\n",
        "Pipeline_ = Pipeline(steps=[\n",
        "                       ('preprocessing', preprocessing_transformer),\n",
        "                       ('clf', LogisticRegression(multi_class = 'multinomial', max_iter = 1000))\n",
        "                       ]\n",
        "                )\n",
        "\n",
        "Pipeline_.fit(X_train, y_train)\n",
        "y_pred = pipe_logit.predict(X_predict)"
      ],
      "execution_count": null,
      "outputs": []
    },
    {
      "cell_type": "code",
      "metadata": {
        "id": "Kw5pLxoO14EN"
      },
      "source": [
        "df_comics_no_label['alignment'] = y_pred"
      ],
      "execution_count": null,
      "outputs": []
    },
    {
      "cell_type": "code",
      "metadata": {
        "id": "vmNBEsj9171d"
      },
      "source": [
        "personajes = ['Vergil' , 'Gorilla Girl' , 'Batcow']\n",
        "  \n",
        "df_comics_no_label[df_comics_no_label['name'].isin(personajes)]"
      ],
      "execution_count": null,
      "outputs": []
    },
    {
      "cell_type": "markdown",
      "metadata": {
        "id": "Rg4ZMq8ezAH6",
        "cell_id": "00045-bf830861-7edd-434b-93f5-af4b0404ce83",
        "deepnote_cell_type": "markdown"
      },
      "source": [
        "# Conclusión\n",
        "Eso ha sido todo para el lab de hoy, recuerden que el laboratorio tiene un plazo de entrega de una semana y que **los días de atraso no se pueden utilizar para entregas de lab, solo para tareas**. Cualquier duda del laboratorio, no duden en contactarnos por mail o U-cursos.\n",
        "\n",
        "<p align=\"center\">\n",
        "  <img src=\"https://media1.tenor.com/images/fb5bf7cc5a4acb91b4177672886a88ba/tenor.gif?itemid=5591338\">\n",
        "</p>"
      ]
    },
    {
      "cell_type": "markdown",
      "metadata": {
        "tags": [],
        "created_in_deepnote_cell": true,
        "deepnote_cell_type": "markdown",
        "id": "MtrPQH70hKU9"
      },
      "source": [
        "<a style='text-decoration:none;line-height:16px;display:flex;color:#5B5B62;padding:10px;justify-content:end;' href='https://deepnote.com?utm_source=created-in-deepnote-cell&projectId=87110296-876e-426f-b91d-aaf681223468' target=\"_blank\">\n",
        "<img alt='Created in deepnote.com' style='display:inline;max-height:16px;margin:0px;margin-right:7.5px;' src='data:image/svg+xml;base64,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' > </img>\n",
        "Created in <span style='font-weight:600;margin-left:4px;'>Deepnote</span></a>"
      ]
    }
  ]
}